{
 "cells": [
  {
   "cell_type": "code",
   "execution_count": 2,
   "metadata": {},
   "outputs": [
    {
     "name": "stdout",
     "output_type": "stream",
     "text": [
      "/content/drive/Othercomputers/my_mac/Coding_stuff/Projects/Surface_Predictor\n"
     ]
    }
   ],
   "source": [
    "# from google.colab import drive\n",
    "from pathlib import Path\n",
    "# drive.mount('/content/gdrive', force_remount=True)\n",
    "%cd \"/content/drive/Othercomputers/my_mac/Coding_stuff/Projects/Surface_Predictor\""
   ]
  },
  {
   "cell_type": "code",
   "execution_count": 3,
   "metadata": {},
   "outputs": [],
   "source": [
    "creds = '{\"username\":\"phade160\",\"key\":\"e780a54d20d6c7d34b674893c923068a\"}'\n",
    "cred_path = Path('~/.kaggle/kaggle.json').expanduser()\n",
    "if not cred_path.exists():\n",
    "  print('entered')\n",
    "cred_path.parent.mkdir(exist_ok=True)\n",
    "cred_path.write_text(creds)\n",
    "cred_path.chmod(0o600)"
   ]
  },
  {
   "cell_type": "code",
   "execution_count": 4,
   "metadata": {},
   "outputs": [],
   "source": [
    "# !kaggle competitions download -c career-con-2019 -p ./data/\n",
    "# !unzip ./data/X_test.csv.zip -d ./data\n",
    "# !unzip ./data/X_train.csv.zip -d ./data\n",
    "# !rm ./data/X_train.csv.zip ./data/X_test.csv.zip"
   ]
  },
  {
   "cell_type": "code",
   "execution_count": 6,
   "metadata": {},
   "outputs": [],
   "source": [
    "%%capture\n",
    "%pip install -Uqq pytorch-lightning torchmetrics wandb"
   ]
  },
  {
   "cell_type": "code",
   "execution_count": null,
   "metadata": {},
   "outputs": [],
   "source": []
  },
  {
   "cell_type": "code",
   "execution_count": 7,
   "metadata": {},
   "outputs": [],
   "source": [
    "import numpy as np\n",
    "import pandas as pd\n",
    "import matplotlib.pyplot as plt\n",
    "from matplotlib import rc\n",
    "import seaborn as sns\n",
    "import wandb\n",
    "from tqdm.auto import tqdm \n",
    "from kaggle import api\n",
    "import torch\n",
    "import torch.autograd as autograd\n",
    "import torch.nn as nn\n",
    "import torch.nn.functional as F\n",
    "import torch.optim as optim\n",
    "from torch.utils.data import Dataset, DataLoader\n",
    "from torch.utils.data import WeightedRandomSampler\n",
    "\n",
    "import pytorch_lightning as pl\n",
    "from pytorch_lightning.callbacks import ModelCheckpoint, EarlyStopping\n",
    "from pytorch_lightning.callbacks.progress import TQDMProgressBar\n",
    "from pytorch_lightning.loggers import WandbLogger\n",
    "import torchmetrics\n",
    "\n",
    "from pylab import rcParams\n",
    "from matplotlib.ticker import MaxNLocator\n",
    "from sklearn.metrics import classification_report, confusion_matrix\n",
    "from sklearn.preprocessing import LabelEncoder\n",
    "from sklearn.model_selection import train_test_split"
   ]
  },
  {
   "cell_type": "code",
   "execution_count": 8,
   "metadata": {},
   "outputs": [],
   "source": [
    "%matplotlib inline\n",
    "%config InlinBackend.figure_format = 'retina'\n",
    "sns.set_style(style= 'whitegrid')\n",
    "rcParams['figure.figsize'] = 14,9"
   ]
  },
  {
   "cell_type": "code",
   "execution_count": 9,
   "metadata": {},
   "outputs": [
    {
     "name": "stderr",
     "output_type": "stream",
     "text": [
      "Global seed set to 42\n"
     ]
    },
    {
     "data": {
      "text/plain": [
       "42"
      ]
     },
     "execution_count": 9,
     "metadata": {},
     "output_type": "execute_result"
    }
   ],
   "source": [
    "pl.seed_everything(42)"
   ]
  },
  {
   "cell_type": "code",
   "execution_count": 10,
   "metadata": {},
   "outputs": [
    {
     "name": "stdout",
     "output_type": "stream",
     "text": [
      "\u001b[34m\u001b[1mwandb\u001b[0m: Currently logged in as: \u001b[33mphade160\u001b[0m (use `wandb login --relogin` to force relogin)\n"
     ]
    }
   ],
   "source": [
    "!wandb login"
   ]
  },
  {
   "cell_type": "code",
   "execution_count": 8,
   "metadata": {},
   "outputs": [
    {
     "name": "stdout",
     "output_type": "stream",
     "text": [
      "/content/drive/Othercomputers/my_mac/Coding_stuff/Projects/Surface_Predictor\n"
     ]
    }
   ],
   "source": [
    "!pwd"
   ]
  },
  {
   "cell_type": "markdown",
   "metadata": {},
   "source": [
    "## Load Data"
   ]
  },
  {
   "cell_type": "code",
   "execution_count": 11,
   "metadata": {},
   "outputs": [
    {
     "data": {
      "text/html": [
       "<div>\n",
       "<style scoped>\n",
       "    .dataframe tbody tr th:only-of-type {\n",
       "        vertical-align: middle;\n",
       "    }\n",
       "\n",
       "    .dataframe tbody tr th {\n",
       "        vertical-align: top;\n",
       "    }\n",
       "\n",
       "    .dataframe thead th {\n",
       "        text-align: right;\n",
       "    }\n",
       "</style>\n",
       "<table border=\"1\" class=\"dataframe\">\n",
       "  <thead>\n",
       "    <tr style=\"text-align: right;\">\n",
       "      <th></th>\n",
       "      <th>row_id</th>\n",
       "      <th>series_id</th>\n",
       "      <th>measurement_number</th>\n",
       "      <th>orientation_X</th>\n",
       "      <th>orientation_Y</th>\n",
       "      <th>orientation_Z</th>\n",
       "      <th>orientation_W</th>\n",
       "      <th>angular_velocity_X</th>\n",
       "      <th>angular_velocity_Y</th>\n",
       "      <th>angular_velocity_Z</th>\n",
       "      <th>linear_acceleration_X</th>\n",
       "      <th>linear_acceleration_Y</th>\n",
       "      <th>linear_acceleration_Z</th>\n",
       "    </tr>\n",
       "  </thead>\n",
       "  <tbody>\n",
       "    <tr>\n",
       "      <th>0</th>\n",
       "      <td>0_0</td>\n",
       "      <td>0</td>\n",
       "      <td>0</td>\n",
       "      <td>-0.75853</td>\n",
       "      <td>-0.63435</td>\n",
       "      <td>-0.104880</td>\n",
       "      <td>-0.105970</td>\n",
       "      <td>0.107650</td>\n",
       "      <td>0.017561</td>\n",
       "      <td>0.000767</td>\n",
       "      <td>-0.74857</td>\n",
       "      <td>2.1030</td>\n",
       "      <td>-9.7532</td>\n",
       "    </tr>\n",
       "    <tr>\n",
       "      <th>1</th>\n",
       "      <td>0_1</td>\n",
       "      <td>0</td>\n",
       "      <td>1</td>\n",
       "      <td>-0.75853</td>\n",
       "      <td>-0.63434</td>\n",
       "      <td>-0.104900</td>\n",
       "      <td>-0.106000</td>\n",
       "      <td>0.067851</td>\n",
       "      <td>0.029939</td>\n",
       "      <td>0.003386</td>\n",
       "      <td>0.33995</td>\n",
       "      <td>1.5064</td>\n",
       "      <td>-9.4128</td>\n",
       "    </tr>\n",
       "    <tr>\n",
       "      <th>2</th>\n",
       "      <td>0_2</td>\n",
       "      <td>0</td>\n",
       "      <td>2</td>\n",
       "      <td>-0.75853</td>\n",
       "      <td>-0.63435</td>\n",
       "      <td>-0.104920</td>\n",
       "      <td>-0.105970</td>\n",
       "      <td>0.007275</td>\n",
       "      <td>0.028934</td>\n",
       "      <td>-0.005978</td>\n",
       "      <td>-0.26429</td>\n",
       "      <td>1.5922</td>\n",
       "      <td>-8.7267</td>\n",
       "    </tr>\n",
       "    <tr>\n",
       "      <th>3</th>\n",
       "      <td>0_3</td>\n",
       "      <td>0</td>\n",
       "      <td>3</td>\n",
       "      <td>-0.75852</td>\n",
       "      <td>-0.63436</td>\n",
       "      <td>-0.104950</td>\n",
       "      <td>-0.105970</td>\n",
       "      <td>-0.013053</td>\n",
       "      <td>0.019448</td>\n",
       "      <td>-0.008974</td>\n",
       "      <td>0.42684</td>\n",
       "      <td>1.0993</td>\n",
       "      <td>-10.0960</td>\n",
       "    </tr>\n",
       "    <tr>\n",
       "      <th>4</th>\n",
       "      <td>0_4</td>\n",
       "      <td>0</td>\n",
       "      <td>4</td>\n",
       "      <td>-0.75852</td>\n",
       "      <td>-0.63435</td>\n",
       "      <td>-0.104950</td>\n",
       "      <td>-0.105960</td>\n",
       "      <td>0.005135</td>\n",
       "      <td>0.007652</td>\n",
       "      <td>0.005245</td>\n",
       "      <td>-0.50969</td>\n",
       "      <td>1.4689</td>\n",
       "      <td>-10.4410</td>\n",
       "    </tr>\n",
       "    <tr>\n",
       "      <th>...</th>\n",
       "      <td>...</td>\n",
       "      <td>...</td>\n",
       "      <td>...</td>\n",
       "      <td>...</td>\n",
       "      <td>...</td>\n",
       "      <td>...</td>\n",
       "      <td>...</td>\n",
       "      <td>...</td>\n",
       "      <td>...</td>\n",
       "      <td>...</td>\n",
       "      <td>...</td>\n",
       "      <td>...</td>\n",
       "      <td>...</td>\n",
       "    </tr>\n",
       "    <tr>\n",
       "      <th>487675</th>\n",
       "      <td>3809_123</td>\n",
       "      <td>3809</td>\n",
       "      <td>123</td>\n",
       "      <td>0.62871</td>\n",
       "      <td>-0.76878</td>\n",
       "      <td>-0.084391</td>\n",
       "      <td>0.081093</td>\n",
       "      <td>0.003167</td>\n",
       "      <td>0.093760</td>\n",
       "      <td>-0.142740</td>\n",
       "      <td>3.27180</td>\n",
       "      <td>2.0115</td>\n",
       "      <td>-9.0063</td>\n",
       "    </tr>\n",
       "    <tr>\n",
       "      <th>487676</th>\n",
       "      <td>3809_124</td>\n",
       "      <td>3809</td>\n",
       "      <td>124</td>\n",
       "      <td>0.62884</td>\n",
       "      <td>-0.76868</td>\n",
       "      <td>-0.084365</td>\n",
       "      <td>0.081099</td>\n",
       "      <td>0.014994</td>\n",
       "      <td>0.032637</td>\n",
       "      <td>-0.132380</td>\n",
       "      <td>4.42750</td>\n",
       "      <td>3.0696</td>\n",
       "      <td>-8.1257</td>\n",
       "    </tr>\n",
       "    <tr>\n",
       "      <th>487677</th>\n",
       "      <td>3809_125</td>\n",
       "      <td>3809</td>\n",
       "      <td>125</td>\n",
       "      <td>0.62891</td>\n",
       "      <td>-0.76861</td>\n",
       "      <td>-0.084345</td>\n",
       "      <td>0.081178</td>\n",
       "      <td>-0.031184</td>\n",
       "      <td>-0.003961</td>\n",
       "      <td>-0.138940</td>\n",
       "      <td>2.70480</td>\n",
       "      <td>4.2622</td>\n",
       "      <td>-8.1443</td>\n",
       "    </tr>\n",
       "    <tr>\n",
       "      <th>487678</th>\n",
       "      <td>3809_126</td>\n",
       "      <td>3809</td>\n",
       "      <td>126</td>\n",
       "      <td>0.62903</td>\n",
       "      <td>-0.76850</td>\n",
       "      <td>-0.084414</td>\n",
       "      <td>0.081231</td>\n",
       "      <td>-0.069153</td>\n",
       "      <td>0.013229</td>\n",
       "      <td>-0.130210</td>\n",
       "      <td>2.54100</td>\n",
       "      <td>4.7130</td>\n",
       "      <td>-9.4435</td>\n",
       "    </tr>\n",
       "    <tr>\n",
       "      <th>487679</th>\n",
       "      <td>3809_127</td>\n",
       "      <td>3809</td>\n",
       "      <td>127</td>\n",
       "      <td>0.62915</td>\n",
       "      <td>-0.76839</td>\n",
       "      <td>-0.084441</td>\n",
       "      <td>0.081284</td>\n",
       "      <td>-0.042769</td>\n",
       "      <td>0.034049</td>\n",
       "      <td>-0.125800</td>\n",
       "      <td>0.82391</td>\n",
       "      <td>4.2751</td>\n",
       "      <td>-10.4980</td>\n",
       "    </tr>\n",
       "  </tbody>\n",
       "</table>\n",
       "<p>487680 rows × 13 columns</p>\n",
       "</div>"
      ],
      "text/plain": [
       "          row_id  series_id  ...  linear_acceleration_Y  linear_acceleration_Z\n",
       "0            0_0          0  ...                 2.1030                -9.7532\n",
       "1            0_1          0  ...                 1.5064                -9.4128\n",
       "2            0_2          0  ...                 1.5922                -8.7267\n",
       "3            0_3          0  ...                 1.0993               -10.0960\n",
       "4            0_4          0  ...                 1.4689               -10.4410\n",
       "...          ...        ...  ...                    ...                    ...\n",
       "487675  3809_123       3809  ...                 2.0115                -9.0063\n",
       "487676  3809_124       3809  ...                 3.0696                -8.1257\n",
       "487677  3809_125       3809  ...                 4.2622                -8.1443\n",
       "487678  3809_126       3809  ...                 4.7130                -9.4435\n",
       "487679  3809_127       3809  ...                 4.2751               -10.4980\n",
       "\n",
       "[487680 rows x 13 columns]"
      ]
     },
     "execution_count": 11,
     "metadata": {},
     "output_type": "execute_result"
    }
   ],
   "source": [
    "x_train = pd.read_csv('./data/raw/X_train.csv', low_memory=False)\n",
    "y_train = pd.read_csv('./data/raw/y_train.csv', low_memory=False)\n",
    "x_train"
   ]
  },
  {
   "cell_type": "code",
   "execution_count": 12,
   "metadata": {},
   "outputs": [
    {
     "name": "stdout",
     "output_type": "stream",
     "text": [
      "<class 'pandas.core.frame.DataFrame'>\n",
      "RangeIndex: 487680 entries, 0 to 487679\n",
      "Data columns (total 13 columns):\n",
      " #   Column                 Non-Null Count   Dtype  \n",
      "---  ------                 --------------   -----  \n",
      " 0   row_id                 487680 non-null  object \n",
      " 1   series_id              487680 non-null  int64  \n",
      " 2   measurement_number     487680 non-null  int64  \n",
      " 3   orientation_X          487680 non-null  float64\n",
      " 4   orientation_Y          487680 non-null  float64\n",
      " 5   orientation_Z          487680 non-null  float64\n",
      " 6   orientation_W          487680 non-null  float64\n",
      " 7   angular_velocity_X     487680 non-null  float64\n",
      " 8   angular_velocity_Y     487680 non-null  float64\n",
      " 9   angular_velocity_Z     487680 non-null  float64\n",
      " 10  linear_acceleration_X  487680 non-null  float64\n",
      " 11  linear_acceleration_Y  487680 non-null  float64\n",
      " 12  linear_acceleration_Z  487680 non-null  float64\n",
      "dtypes: float64(10), int64(2), object(1)\n",
      "memory usage: 48.4+ MB\n"
     ]
    }
   ],
   "source": [
    "x_train.info()"
   ]
  },
  {
   "cell_type": "code",
   "execution_count": 13,
   "metadata": {},
   "outputs": [
    {
     "data": {
      "text/html": [
       "<div>\n",
       "<style scoped>\n",
       "    .dataframe tbody tr th:only-of-type {\n",
       "        vertical-align: middle;\n",
       "    }\n",
       "\n",
       "    .dataframe tbody tr th {\n",
       "        vertical-align: top;\n",
       "    }\n",
       "\n",
       "    .dataframe thead th {\n",
       "        text-align: right;\n",
       "    }\n",
       "</style>\n",
       "<table border=\"1\" class=\"dataframe\">\n",
       "  <thead>\n",
       "    <tr style=\"text-align: right;\">\n",
       "      <th></th>\n",
       "      <th>series_id</th>\n",
       "      <th>group_id</th>\n",
       "      <th>surface</th>\n",
       "    </tr>\n",
       "  </thead>\n",
       "  <tbody>\n",
       "    <tr>\n",
       "      <th>0</th>\n",
       "      <td>0</td>\n",
       "      <td>13</td>\n",
       "      <td>fine_concrete</td>\n",
       "    </tr>\n",
       "    <tr>\n",
       "      <th>1</th>\n",
       "      <td>1</td>\n",
       "      <td>31</td>\n",
       "      <td>concrete</td>\n",
       "    </tr>\n",
       "    <tr>\n",
       "      <th>2</th>\n",
       "      <td>2</td>\n",
       "      <td>20</td>\n",
       "      <td>concrete</td>\n",
       "    </tr>\n",
       "    <tr>\n",
       "      <th>3</th>\n",
       "      <td>3</td>\n",
       "      <td>31</td>\n",
       "      <td>concrete</td>\n",
       "    </tr>\n",
       "    <tr>\n",
       "      <th>4</th>\n",
       "      <td>4</td>\n",
       "      <td>22</td>\n",
       "      <td>soft_tiles</td>\n",
       "    </tr>\n",
       "    <tr>\n",
       "      <th>...</th>\n",
       "      <td>...</td>\n",
       "      <td>...</td>\n",
       "      <td>...</td>\n",
       "    </tr>\n",
       "    <tr>\n",
       "      <th>3805</th>\n",
       "      <td>3805</td>\n",
       "      <td>55</td>\n",
       "      <td>tiled</td>\n",
       "    </tr>\n",
       "    <tr>\n",
       "      <th>3806</th>\n",
       "      <td>3806</td>\n",
       "      <td>67</td>\n",
       "      <td>wood</td>\n",
       "    </tr>\n",
       "    <tr>\n",
       "      <th>3807</th>\n",
       "      <td>3807</td>\n",
       "      <td>48</td>\n",
       "      <td>fine_concrete</td>\n",
       "    </tr>\n",
       "    <tr>\n",
       "      <th>3808</th>\n",
       "      <td>3808</td>\n",
       "      <td>54</td>\n",
       "      <td>tiled</td>\n",
       "    </tr>\n",
       "    <tr>\n",
       "      <th>3809</th>\n",
       "      <td>3809</td>\n",
       "      <td>56</td>\n",
       "      <td>soft_pvc</td>\n",
       "    </tr>\n",
       "  </tbody>\n",
       "</table>\n",
       "<p>3810 rows × 3 columns</p>\n",
       "</div>"
      ],
      "text/plain": [
       "      series_id  group_id        surface\n",
       "0             0        13  fine_concrete\n",
       "1             1        31       concrete\n",
       "2             2        20       concrete\n",
       "3             3        31       concrete\n",
       "4             4        22     soft_tiles\n",
       "...         ...       ...            ...\n",
       "3805       3805        55          tiled\n",
       "3806       3806        67           wood\n",
       "3807       3807        48  fine_concrete\n",
       "3808       3808        54          tiled\n",
       "3809       3809        56       soft_pvc\n",
       "\n",
       "[3810 rows x 3 columns]"
      ]
     },
     "execution_count": 13,
     "metadata": {},
     "output_type": "execute_result"
    }
   ],
   "source": [
    "y_train"
   ]
  },
  {
   "cell_type": "code",
   "execution_count": 14,
   "metadata": {},
   "outputs": [
    {
     "data": {
      "image/png": "[encoded data removed]",
      "text/plain": [
       "<Figure size 1008x648 with 1 Axes>"
      ]
     },
     "metadata": {},
     "output_type": "display_data"
    }
   ],
   "source": [
    "y_train.surface.value_counts().plot(kind='bar')\n",
    "plt.xticks(rotation=45)\n",
    "plt.title('Distribution of target (surface) ')\n",
    "plt.show()"
   ]
  },
  {
   "cell_type": "markdown",
   "metadata": {},
   "source": [
    "## Preprocessing"
   ]
  },
  {
   "cell_type": "code",
   "execution_count": 15,
   "metadata": {},
   "outputs": [
    {
     "data": {
      "image/png": "[encoded data removed]",
      "text/plain": [
       "<Figure size 1008x648 with 1 Axes>"
      ]
     },
     "metadata": {},
     "output_type": "display_data"
    }
   ],
   "source": [
    "y_train.surface.value_counts().plot(kind='bar')\n",
    "plt.xticks(rotation=45)\n",
    "plt.title('Distribution of target (surface) ')\n",
    "plt.show()"
   ]
  },
  {
   "cell_type": "code",
   "execution_count": 16,
   "metadata": {},
   "outputs": [],
   "source": [
    "label_encoder =  LabelEncoder()\n",
    "encoded_labels = label_encoder.fit_transform(y_train.surface)"
   ]
  },
  {
   "cell_type": "code",
   "execution_count": 17,
   "metadata": {},
   "outputs": [
    {
     "data": {
      "text/plain": [
       "array(['carpet', 'concrete', 'fine_concrete', 'hard_tiles',\n",
       "       'hard_tiles_large_space', 'soft_pvc', 'soft_tiles', 'tiled',\n",
       "       'wood'], dtype=object)"
      ]
     },
     "execution_count": 17,
     "metadata": {},
     "output_type": "execute_result"
    }
   ],
   "source": [
    "label_encoder.classes_"
   ]
  },
  {
   "cell_type": "code",
   "execution_count": 18,
   "metadata": {},
   "outputs": [
    {
     "data": {
      "text/plain": [
       "(array([2, 1, 1, 1, 6]),\n",
       " ['fine_concrete', 'concrete', 'concrete', 'concrete', 'soft_tiles'])"
      ]
     },
     "execution_count": 18,
     "metadata": {},
     "output_type": "execute_result"
    }
   ],
   "source": [
    "encoded_labels[:5], list(y_train.surface[:5])"
   ]
  },
  {
   "cell_type": "code",
   "execution_count": 19,
   "metadata": {},
   "outputs": [
    {
     "data": {
      "text/html": [
       "<div>\n",
       "<style scoped>\n",
       "    .dataframe tbody tr th:only-of-type {\n",
       "        vertical-align: middle;\n",
       "    }\n",
       "\n",
       "    .dataframe tbody tr th {\n",
       "        vertical-align: top;\n",
       "    }\n",
       "\n",
       "    .dataframe thead th {\n",
       "        text-align: right;\n",
       "    }\n",
       "</style>\n",
       "<table border=\"1\" class=\"dataframe\">\n",
       "  <thead>\n",
       "    <tr style=\"text-align: right;\">\n",
       "      <th></th>\n",
       "      <th>series_id</th>\n",
       "      <th>group_id</th>\n",
       "      <th>surface</th>\n",
       "      <th>label</th>\n",
       "    </tr>\n",
       "  </thead>\n",
       "  <tbody>\n",
       "    <tr>\n",
       "      <th>0</th>\n",
       "      <td>0</td>\n",
       "      <td>13</td>\n",
       "      <td>fine_concrete</td>\n",
       "      <td>2</td>\n",
       "    </tr>\n",
       "    <tr>\n",
       "      <th>1</th>\n",
       "      <td>1</td>\n",
       "      <td>31</td>\n",
       "      <td>concrete</td>\n",
       "      <td>1</td>\n",
       "    </tr>\n",
       "    <tr>\n",
       "      <th>2</th>\n",
       "      <td>2</td>\n",
       "      <td>20</td>\n",
       "      <td>concrete</td>\n",
       "      <td>1</td>\n",
       "    </tr>\n",
       "    <tr>\n",
       "      <th>3</th>\n",
       "      <td>3</td>\n",
       "      <td>31</td>\n",
       "      <td>concrete</td>\n",
       "      <td>1</td>\n",
       "    </tr>\n",
       "    <tr>\n",
       "      <th>4</th>\n",
       "      <td>4</td>\n",
       "      <td>22</td>\n",
       "      <td>soft_tiles</td>\n",
       "      <td>6</td>\n",
       "    </tr>\n",
       "    <tr>\n",
       "      <th>...</th>\n",
       "      <td>...</td>\n",
       "      <td>...</td>\n",
       "      <td>...</td>\n",
       "      <td>...</td>\n",
       "    </tr>\n",
       "    <tr>\n",
       "      <th>3805</th>\n",
       "      <td>3805</td>\n",
       "      <td>55</td>\n",
       "      <td>tiled</td>\n",
       "      <td>7</td>\n",
       "    </tr>\n",
       "    <tr>\n",
       "      <th>3806</th>\n",
       "      <td>3806</td>\n",
       "      <td>67</td>\n",
       "      <td>wood</td>\n",
       "      <td>8</td>\n",
       "    </tr>\n",
       "    <tr>\n",
       "      <th>3807</th>\n",
       "      <td>3807</td>\n",
       "      <td>48</td>\n",
       "      <td>fine_concrete</td>\n",
       "      <td>2</td>\n",
       "    </tr>\n",
       "    <tr>\n",
       "      <th>3808</th>\n",
       "      <td>3808</td>\n",
       "      <td>54</td>\n",
       "      <td>tiled</td>\n",
       "      <td>7</td>\n",
       "    </tr>\n",
       "    <tr>\n",
       "      <th>3809</th>\n",
       "      <td>3809</td>\n",
       "      <td>56</td>\n",
       "      <td>soft_pvc</td>\n",
       "      <td>5</td>\n",
       "    </tr>\n",
       "  </tbody>\n",
       "</table>\n",
       "<p>3810 rows × 4 columns</p>\n",
       "</div>"
      ],
      "text/plain": [
       "      series_id  group_id        surface  label\n",
       "0             0        13  fine_concrete      2\n",
       "1             1        31       concrete      1\n",
       "2             2        20       concrete      1\n",
       "3             3        31       concrete      1\n",
       "4             4        22     soft_tiles      6\n",
       "...         ...       ...            ...    ...\n",
       "3805       3805        55          tiled      7\n",
       "3806       3806        67           wood      8\n",
       "3807       3807        48  fine_concrete      2\n",
       "3808       3808        54          tiled      7\n",
       "3809       3809        56       soft_pvc      5\n",
       "\n",
       "[3810 rows x 4 columns]"
      ]
     },
     "execution_count": 19,
     "metadata": {},
     "output_type": "execute_result"
    }
   ],
   "source": [
    "y_train['label'] = encoded_labels\n",
    "y_train"
   ]
  },
  {
   "cell_type": "code",
   "execution_count": 20,
   "metadata": {},
   "outputs": [
    {
     "data": {
      "text/html": [
       "<div>\n",
       "<style scoped>\n",
       "    .dataframe tbody tr th:only-of-type {\n",
       "        vertical-align: middle;\n",
       "    }\n",
       "\n",
       "    .dataframe tbody tr th {\n",
       "        vertical-align: top;\n",
       "    }\n",
       "\n",
       "    .dataframe thead th {\n",
       "        text-align: right;\n",
       "    }\n",
       "</style>\n",
       "<table border=\"1\" class=\"dataframe\">\n",
       "  <thead>\n",
       "    <tr style=\"text-align: right;\">\n",
       "      <th></th>\n",
       "      <th>row_id</th>\n",
       "      <th>series_id</th>\n",
       "      <th>measurement_number</th>\n",
       "      <th>orientation_X</th>\n",
       "      <th>orientation_Y</th>\n",
       "      <th>orientation_Z</th>\n",
       "      <th>orientation_W</th>\n",
       "      <th>angular_velocity_X</th>\n",
       "      <th>angular_velocity_Y</th>\n",
       "      <th>angular_velocity_Z</th>\n",
       "      <th>linear_acceleration_X</th>\n",
       "      <th>linear_acceleration_Y</th>\n",
       "      <th>linear_acceleration_Z</th>\n",
       "    </tr>\n",
       "  </thead>\n",
       "  <tbody>\n",
       "    <tr>\n",
       "      <th>0</th>\n",
       "      <td>0_0</td>\n",
       "      <td>0</td>\n",
       "      <td>0</td>\n",
       "      <td>-0.75853</td>\n",
       "      <td>-0.63435</td>\n",
       "      <td>-0.104880</td>\n",
       "      <td>-0.105970</td>\n",
       "      <td>0.107650</td>\n",
       "      <td>0.017561</td>\n",
       "      <td>0.000767</td>\n",
       "      <td>-0.74857</td>\n",
       "      <td>2.1030</td>\n",
       "      <td>-9.7532</td>\n",
       "    </tr>\n",
       "    <tr>\n",
       "      <th>1</th>\n",
       "      <td>0_1</td>\n",
       "      <td>0</td>\n",
       "      <td>1</td>\n",
       "      <td>-0.75853</td>\n",
       "      <td>-0.63434</td>\n",
       "      <td>-0.104900</td>\n",
       "      <td>-0.106000</td>\n",
       "      <td>0.067851</td>\n",
       "      <td>0.029939</td>\n",
       "      <td>0.003386</td>\n",
       "      <td>0.33995</td>\n",
       "      <td>1.5064</td>\n",
       "      <td>-9.4128</td>\n",
       "    </tr>\n",
       "    <tr>\n",
       "      <th>2</th>\n",
       "      <td>0_2</td>\n",
       "      <td>0</td>\n",
       "      <td>2</td>\n",
       "      <td>-0.75853</td>\n",
       "      <td>-0.63435</td>\n",
       "      <td>-0.104920</td>\n",
       "      <td>-0.105970</td>\n",
       "      <td>0.007275</td>\n",
       "      <td>0.028934</td>\n",
       "      <td>-0.005978</td>\n",
       "      <td>-0.26429</td>\n",
       "      <td>1.5922</td>\n",
       "      <td>-8.7267</td>\n",
       "    </tr>\n",
       "    <tr>\n",
       "      <th>3</th>\n",
       "      <td>0_3</td>\n",
       "      <td>0</td>\n",
       "      <td>3</td>\n",
       "      <td>-0.75852</td>\n",
       "      <td>-0.63436</td>\n",
       "      <td>-0.104950</td>\n",
       "      <td>-0.105970</td>\n",
       "      <td>-0.013053</td>\n",
       "      <td>0.019448</td>\n",
       "      <td>-0.008974</td>\n",
       "      <td>0.42684</td>\n",
       "      <td>1.0993</td>\n",
       "      <td>-10.0960</td>\n",
       "    </tr>\n",
       "    <tr>\n",
       "      <th>4</th>\n",
       "      <td>0_4</td>\n",
       "      <td>0</td>\n",
       "      <td>4</td>\n",
       "      <td>-0.75852</td>\n",
       "      <td>-0.63435</td>\n",
       "      <td>-0.104950</td>\n",
       "      <td>-0.105960</td>\n",
       "      <td>0.005135</td>\n",
       "      <td>0.007652</td>\n",
       "      <td>0.005245</td>\n",
       "      <td>-0.50969</td>\n",
       "      <td>1.4689</td>\n",
       "      <td>-10.4410</td>\n",
       "    </tr>\n",
       "    <tr>\n",
       "      <th>...</th>\n",
       "      <td>...</td>\n",
       "      <td>...</td>\n",
       "      <td>...</td>\n",
       "      <td>...</td>\n",
       "      <td>...</td>\n",
       "      <td>...</td>\n",
       "      <td>...</td>\n",
       "      <td>...</td>\n",
       "      <td>...</td>\n",
       "      <td>...</td>\n",
       "      <td>...</td>\n",
       "      <td>...</td>\n",
       "      <td>...</td>\n",
       "    </tr>\n",
       "    <tr>\n",
       "      <th>487675</th>\n",
       "      <td>3809_123</td>\n",
       "      <td>3809</td>\n",
       "      <td>123</td>\n",
       "      <td>0.62871</td>\n",
       "      <td>-0.76878</td>\n",
       "      <td>-0.084391</td>\n",
       "      <td>0.081093</td>\n",
       "      <td>0.003167</td>\n",
       "      <td>0.093760</td>\n",
       "      <td>-0.142740</td>\n",
       "      <td>3.27180</td>\n",
       "      <td>2.0115</td>\n",
       "      <td>-9.0063</td>\n",
       "    </tr>\n",
       "    <tr>\n",
       "      <th>487676</th>\n",
       "      <td>3809_124</td>\n",
       "      <td>3809</td>\n",
       "      <td>124</td>\n",
       "      <td>0.62884</td>\n",
       "      <td>-0.76868</td>\n",
       "      <td>-0.084365</td>\n",
       "      <td>0.081099</td>\n",
       "      <td>0.014994</td>\n",
       "      <td>0.032637</td>\n",
       "      <td>-0.132380</td>\n",
       "      <td>4.42750</td>\n",
       "      <td>3.0696</td>\n",
       "      <td>-8.1257</td>\n",
       "    </tr>\n",
       "    <tr>\n",
       "      <th>487677</th>\n",
       "      <td>3809_125</td>\n",
       "      <td>3809</td>\n",
       "      <td>125</td>\n",
       "      <td>0.62891</td>\n",
       "      <td>-0.76861</td>\n",
       "      <td>-0.084345</td>\n",
       "      <td>0.081178</td>\n",
       "      <td>-0.031184</td>\n",
       "      <td>-0.003961</td>\n",
       "      <td>-0.138940</td>\n",
       "      <td>2.70480</td>\n",
       "      <td>4.2622</td>\n",
       "      <td>-8.1443</td>\n",
       "    </tr>\n",
       "    <tr>\n",
       "      <th>487678</th>\n",
       "      <td>3809_126</td>\n",
       "      <td>3809</td>\n",
       "      <td>126</td>\n",
       "      <td>0.62903</td>\n",
       "      <td>-0.76850</td>\n",
       "      <td>-0.084414</td>\n",
       "      <td>0.081231</td>\n",
       "      <td>-0.069153</td>\n",
       "      <td>0.013229</td>\n",
       "      <td>-0.130210</td>\n",
       "      <td>2.54100</td>\n",
       "      <td>4.7130</td>\n",
       "      <td>-9.4435</td>\n",
       "    </tr>\n",
       "    <tr>\n",
       "      <th>487679</th>\n",
       "      <td>3809_127</td>\n",
       "      <td>3809</td>\n",
       "      <td>127</td>\n",
       "      <td>0.62915</td>\n",
       "      <td>-0.76839</td>\n",
       "      <td>-0.084441</td>\n",
       "      <td>0.081284</td>\n",
       "      <td>-0.042769</td>\n",
       "      <td>0.034049</td>\n",
       "      <td>-0.125800</td>\n",
       "      <td>0.82391</td>\n",
       "      <td>4.2751</td>\n",
       "      <td>-10.4980</td>\n",
       "    </tr>\n",
       "  </tbody>\n",
       "</table>\n",
       "<p>487680 rows × 13 columns</p>\n",
       "</div>"
      ],
      "text/plain": [
       "          row_id  series_id  ...  linear_acceleration_Y  linear_acceleration_Z\n",
       "0            0_0          0  ...                 2.1030                -9.7532\n",
       "1            0_1          0  ...                 1.5064                -9.4128\n",
       "2            0_2          0  ...                 1.5922                -8.7267\n",
       "3            0_3          0  ...                 1.0993               -10.0960\n",
       "4            0_4          0  ...                 1.4689               -10.4410\n",
       "...          ...        ...  ...                    ...                    ...\n",
       "487675  3809_123       3809  ...                 2.0115                -9.0063\n",
       "487676  3809_124       3809  ...                 3.0696                -8.1257\n",
       "487677  3809_125       3809  ...                 4.2622                -8.1443\n",
       "487678  3809_126       3809  ...                 4.7130                -9.4435\n",
       "487679  3809_127       3809  ...                 4.2751               -10.4980\n",
       "\n",
       "[487680 rows x 13 columns]"
      ]
     },
     "execution_count": 20,
     "metadata": {},
     "output_type": "execute_result"
    }
   ],
   "source": [
    "x_train"
   ]
  },
  {
   "cell_type": "code",
   "execution_count": 21,
   "metadata": {},
   "outputs": [
    {
     "data": {
      "text/plain": [
       "['orientation_X',\n",
       " 'orientation_Y',\n",
       " 'orientation_Z',\n",
       " 'orientation_W',\n",
       " 'angular_velocity_X',\n",
       " 'angular_velocity_Y',\n",
       " 'angular_velocity_Z',\n",
       " 'linear_acceleration_X',\n",
       " 'linear_acceleration_Y',\n",
       " 'linear_acceleration_Z']"
      ]
     },
     "execution_count": 21,
     "metadata": {},
     "output_type": "execute_result"
    }
   ],
   "source": [
    "#we dont need the first 3 cols\n",
    "feature_columns = x_train.columns.to_list()[3:]\n",
    "feature_columns"
   ]
  },
  {
   "cell_type": "code",
   "execution_count": null,
   "metadata": {},
   "outputs": [],
   "source": []
  },
  {
   "cell_type": "markdown",
   "metadata": {},
   "source": [
    "## Build sequences"
   ]
  },
  {
   "cell_type": "code",
   "execution_count": 22,
   "metadata": {},
   "outputs": [
    {
     "data": {
      "text/plain": [
       "0       128\n",
       "2544    128\n",
       "2532    128\n",
       "2533    128\n",
       "2534    128\n",
       "       ... \n",
       "1274    128\n",
       "1275    128\n",
       "1276    128\n",
       "1277    128\n",
       "3809    128\n",
       "Name: series_id, Length: 3810, dtype: int64"
      ]
     },
     "execution_count": 22,
     "metadata": {},
     "output_type": "execute_result"
    }
   ],
   "source": [
    "#it looks like the sequences have been grouped for us\n",
    "x_train.series_id.value_counts()"
   ]
  },
  {
   "cell_type": "code",
   "execution_count": 23,
   "metadata": {},
   "outputs": [],
   "source": [
    "def get_sequences(df, test=False): \n",
    "  sequences = []\n",
    "  for series_id, group in df.groupby('series_id'):\n",
    "    sequence_features = group[feature_columns]\n",
    "    if test:\n",
    "      sequences.append(sequence_features)\n",
    "    else:\n",
    "      label = y_train[y_train.series_id == series_id].iloc[0].label\n",
    "      sequences.append((sequence_features, label))\n",
    "  return sequences"
   ]
  },
  {
   "cell_type": "code",
   "execution_count": 24,
   "metadata": {},
   "outputs": [
    {
     "data": {
      "text/plain": [
       "(     orientation_X  orientation_Y  ...  linear_acceleration_Y  linear_acceleration_Z\n",
       " 0         -0.75853       -0.63435  ...                2.10300                -9.7532\n",
       " 1         -0.75853       -0.63434  ...                1.50640                -9.4128\n",
       " 2         -0.75853       -0.63435  ...                1.59220                -8.7267\n",
       " 3         -0.75852       -0.63436  ...                1.09930               -10.0960\n",
       " 4         -0.75852       -0.63435  ...                1.46890               -10.4410\n",
       " ..             ...            ...  ...                    ...                    ...\n",
       " 123       -0.75943       -0.63316  ...                1.79890                -6.8687\n",
       " 124       -0.75945       -0.63313  ...                2.35620                -6.8926\n",
       " 125       -0.75949       -0.63309  ...                0.97328                -9.9795\n",
       " 126       -0.75950       -0.63307  ...                0.34931               -11.9770\n",
       " 127       -0.75953       -0.63306  ...                0.80346               -10.6970\n",
       " \n",
       " [128 rows x 10 columns], 2)"
      ]
     },
     "execution_count": 24,
     "metadata": {},
     "output_type": "execute_result"
    }
   ],
   "source": [
    "sequences = get_sequences(x_train)\n",
    "sequences[0]"
   ]
  },
  {
   "cell_type": "code",
   "execution_count": 25,
   "metadata": {},
   "outputs": [],
   "source": [
    "from torch.utils.data import WeightedRandomSampler"
   ]
  },
  {
   "cell_type": "code",
   "execution_count": 26,
   "metadata": {},
   "outputs": [
    {
     "data": {
      "text/plain": [
       "(3048, 762)"
      ]
     },
     "execution_count": 26,
     "metadata": {},
     "output_type": "execute_result"
    }
   ],
   "source": [
    "train_sequences, val_sequences = train_test_split(sequences, test_size=0.2)\n",
    "len(train_sequences), len(val_sequences)"
   ]
  },
  {
   "cell_type": "code",
   "execution_count": 27,
   "metadata": {},
   "outputs": [
    {
     "name": "stdout",
     "output_type": "stream",
     "text": [
      "all train seq shape check:  []\n",
      "all train seq shape check:  []\n"
     ]
    }
   ],
   "source": [
    "#sanity check\n",
    "len(train_sequences), len(val_sequences)\n",
    "print('all train seq shape check: ',[(train_sequences[i][0].shape) for i in range(len(train_sequences)) if (train_sequences[i][0].shape) != (128, 10)])\n",
    "# print('all train label shape check: ',[len(train_sequences[i][1]) for i in range(len(train_sequences)) if len(train_sequences[i][1]) != 10])\n",
    "print('all train seq shape check: ',[(val_sequences[i][0].shape) for i in range(len(val_sequences)) if (val_sequences[i][0].shape) != (128, 10)])\n",
    "# print('all train label shape check: ',[len(val_sequences[i][1]) for i in range(len(val_sequences)) if len(val_sequences[i][1]) != 10])"
   ]
  },
  {
   "cell_type": "markdown",
   "metadata": {},
   "source": [
    "## Dataset and Datamodule"
   ]
  },
  {
   "cell_type": "code",
   "execution_count": 28,
   "metadata": {},
   "outputs": [],
   "source": [
    "\n",
    "class SurfaceDataset(Dataset):\n",
    "\n",
    "  def __init__(self, sequences, w_labels=True) -> None:\n",
    "      super().__init__()\n",
    "      self.sequences = sequences\n",
    "      self.w_labels = w_labels\n",
    "\n",
    "  def __len__(self):\n",
    "    return len(self.sequences)\n",
    "\n",
    "  def __getitem__(self, index):\n",
    "    if not self.w_labels:\n",
    "      sequence = self.sequences[index]\n",
    "      return dict(\n",
    "      sequence=torch.Tensor(sequence.to_numpy())\n",
    "      )\n",
    "      \n",
    "    sequence, label = self.sequences[index]\n",
    "    return dict(\n",
    "      sequence=torch.Tensor(sequence.to_numpy()),\n",
    "      label=torch.tensor(label).long()\n",
    "    )\n",
    "\n"
   ]
  },
  {
   "cell_type": "code",
   "execution_count": 29,
   "metadata": {},
   "outputs": [
    {
     "data": {
      "text/plain": [
       "3048"
      ]
     },
     "execution_count": 29,
     "metadata": {},
     "output_type": "execute_result"
    }
   ],
   "source": [
    "train_dataset = SurfaceDataset(train_sequences)\n",
    "len(train_dataset)\n"
   ]
  },
  {
   "cell_type": "markdown",
   "metadata": {},
   "source": [
    "## Balancing the train data"
   ]
  },
  {
   "cell_type": "code",
   "execution_count": 30,
   "metadata": {},
   "outputs": [
    {
     "data": {
      "text/plain": [
       "(array([0, 1, 2, 3, 4, 5, 6, 7, 8]),\n",
       " array([142, 607, 298,  16, 245, 591, 234, 425, 490]))"
      ]
     },
     "execution_count": 30,
     "metadata": {},
     "output_type": "execute_result"
    }
   ],
   "source": [
    "lab_ids = [item['label'] for item in train_dataset]\n",
    "labels_unique, counts = np.unique(lab_ids, return_counts=True)\n",
    "labels_unique, counts"
   ]
  },
  {
   "cell_type": "code",
   "execution_count": 31,
   "metadata": {},
   "outputs": [
    {
     "data": {
      "application/vnd.google.colaboratory.intrinsic+json": {
       "type": "string"
      },
      "text/plain": [
       "''"
      ]
     },
     "execution_count": 31,
     "metadata": {},
     "output_type": "execute_result"
    },
    {
     "data": {
      "image/png": "[encoded data removed]",
      "text/plain": [
       "<Figure size 1008x648 with 1 Axes>"
      ]
     },
     "metadata": {},
     "output_type": "display_data"
    }
   ],
   "source": [
    "#lets plot them\n",
    "# ax = sns.barplot(data=counts)\n",
    "# ax.bar_label(ax.containers[0])\n",
    "ax = sns.barplot(x=label_encoder.classes_,y=counts)\n",
    "\n",
    "ax.set_xticklabels(ax.get_xticklabels(),rotation=30)\n",
    "i=0\n",
    "for p in ax.patches:\n",
    "    height = p.get_height()\n",
    "    ax.text(p.get_x()+p.get_width()/2., height + 0.1,\n",
    "        counts[i],ha=\"center\", size=18)\n",
    "    i += 1\n",
    ";"
   ]
  },
  {
   "cell_type": "code",
   "execution_count": 32,
   "metadata": {},
   "outputs": [
    {
     "data": {
      "text/plain": [
       "[21.464788732394368,\n",
       " 5.021416803953872,\n",
       " 10.228187919463087,\n",
       " 190.5,\n",
       " 12.440816326530612,\n",
       " 5.157360406091371,\n",
       " 13.025641025641026,\n",
       " 7.171764705882353,\n",
       " 6.220408163265306]"
      ]
     },
     "execution_count": 32,
     "metadata": {},
     "output_type": "execute_result"
    }
   ],
   "source": [
    "class_weights = [sum(counts)/c for c in counts]\n",
    "class_weights"
   ]
  },
  {
   "cell_type": "code",
   "execution_count": 33,
   "metadata": {},
   "outputs": [
    {
     "data": {
      "text/plain": [
       "[12.440816326530612,\n",
       " 12.440816326530612,\n",
       " 5.157360406091371,\n",
       " 12.440816326530612,\n",
       " 5.157360406091371,\n",
       " 12.440816326530612,\n",
       " 5.021416803953872,\n",
       " 13.025641025641026,\n",
       " 7.171764705882353,\n",
       " 12.440816326530612,\n",
       " 5.157360406091371,\n",
       " 10.228187919463087,\n",
       " 5.157360406091371,\n",
       " 5.157360406091371,\n",
       " 5.157360406091371,\n",
       " 7.171764705882353,\n",
       " 12.440816326530612,\n",
       " 6.220408163265306,\n",
       " 5.157360406091371,\n",
       " 21.464788732394368,\n",
       " 13.025641025641026,\n",
       " 10.228187919463087,\n",
       " 5.021416803953872,\n",
       " 7.171764705882353,\n",
       " 10.228187919463087,\n",
       " 7.171764705882353,\n",
       " 5.021416803953872,\n",
       " 5.157360406091371,\n",
       " 12.440816326530612,\n",
       " 6.220408163265306,\n",
       " 5.021416803953872,\n",
       " 13.025641025641026,\n",
       " 5.021416803953872,\n",
       " 5.021416803953872,\n",
       " 5.157360406091371,\n",
       " 13.025641025641026,\n",
       " 7.171764705882353,\n",
       " 10.228187919463087,\n",
       " 13.025641025641026,\n",
       " 5.021416803953872,\n",
       " 12.440816326530612,\n",
       " 6.220408163265306,\n",
       " 6.220408163265306,\n",
       " 12.440816326530612,\n",
       " 10.228187919463087,\n",
       " 7.171764705882353,\n",
       " 6.220408163265306,\n",
       " 21.464788732394368,\n",
       " 7.171764705882353,\n",
       " 7.171764705882353,\n",
       " 5.157360406091371,\n",
       " 5.157360406091371,\n",
       " 12.440816326530612,\n",
       " 5.021416803953872,\n",
       " 10.228187919463087,\n",
       " 5.021416803953872,\n",
       " 5.157360406091371,\n",
       " 21.464788732394368,\n",
       " 7.171764705882353,\n",
       " 12.440816326530612,\n",
       " 5.021416803953872,\n",
       " 5.157360406091371,\n",
       " 5.021416803953872,\n",
       " 10.228187919463087,\n",
       " 7.171764705882353,\n",
       " 5.021416803953872,\n",
       " 10.228187919463087,\n",
       " 6.220408163265306,\n",
       " 5.021416803953872,\n",
       " 5.157360406091371,\n",
       " 5.021416803953872,\n",
       " 5.157360406091371,\n",
       " 6.220408163265306,\n",
       " 6.220408163265306,\n",
       " 6.220408163265306,\n",
       " 5.157360406091371,\n",
       " 5.157360406091371,\n",
       " 5.021416803953872,\n",
       " 13.025641025641026,\n",
       " 21.464788732394368,\n",
       " 10.228187919463087,\n",
       " 5.021416803953872,\n",
       " 6.220408163265306,\n",
       " 5.157360406091371,\n",
       " 10.228187919463087,\n",
       " 5.021416803953872,\n",
       " 7.171764705882353,\n",
       " 10.228187919463087,\n",
       " 12.440816326530612,\n",
       " 5.157360406091371,\n",
       " 6.220408163265306,\n",
       " 7.171764705882353,\n",
       " 10.228187919463087,\n",
       " 7.171764705882353,\n",
       " 6.220408163265306,\n",
       " 5.021416803953872,\n",
       " 5.021416803953872,\n",
       " 5.021416803953872,\n",
       " 21.464788732394368,\n",
       " 13.025641025641026,\n",
       " 5.157360406091371,\n",
       " 13.025641025641026,\n",
       " 6.220408163265306,\n",
       " 7.171764705882353,\n",
       " 5.157360406091371,\n",
       " 7.171764705882353,\n",
       " 5.021416803953872,\n",
       " 5.021416803953872,\n",
       " 12.440816326530612,\n",
       " 5.021416803953872,\n",
       " 5.021416803953872,\n",
       " 5.157360406091371,\n",
       " 6.220408163265306,\n",
       " 5.157360406091371,\n",
       " 7.171764705882353,\n",
       " 6.220408163265306,\n",
       " 5.157360406091371,\n",
       " 5.021416803953872,\n",
       " 10.228187919463087,\n",
       " 7.171764705882353,\n",
       " 6.220408163265306,\n",
       " 5.021416803953872,\n",
       " 13.025641025641026,\n",
       " 5.021416803953872,\n",
       " 12.440816326530612,\n",
       " 5.021416803953872,\n",
       " 13.025641025641026,\n",
       " 5.021416803953872,\n",
       " 7.171764705882353,\n",
       " 7.171764705882353,\n",
       " 21.464788732394368,\n",
       " 21.464788732394368,\n",
       " 6.220408163265306,\n",
       " 7.171764705882353,\n",
       " 5.021416803953872,\n",
       " 5.021416803953872,\n",
       " 5.021416803953872,\n",
       " 6.220408163265306,\n",
       " 5.157360406091371,\n",
       " 21.464788732394368,\n",
       " 10.228187919463087,\n",
       " 5.021416803953872,\n",
       " 5.157360406091371,\n",
       " 5.157360406091371,\n",
       " 10.228187919463087,\n",
       " 10.228187919463087,\n",
       " 12.440816326530612,\n",
       " 6.220408163265306,\n",
       " 6.220408163265306,\n",
       " 6.220408163265306,\n",
       " 5.157360406091371,\n",
       " 10.228187919463087,\n",
       " 7.171764705882353,\n",
       " 7.171764705882353,\n",
       " 6.220408163265306,\n",
       " 6.220408163265306,\n",
       " 6.220408163265306,\n",
       " 13.025641025641026,\n",
       " 5.157360406091371,\n",
       " 10.228187919463087,\n",
       " 12.440816326530612,\n",
       " 12.440816326530612,\n",
       " 6.220408163265306,\n",
       " 12.440816326530612,\n",
       " 21.464788732394368,\n",
       " 5.021416803953872,\n",
       " 5.021416803953872,\n",
       " 12.440816326530612,\n",
       " 6.220408163265306,\n",
       " 7.171764705882353,\n",
       " 5.021416803953872,\n",
       " 7.171764705882353,\n",
       " 5.157360406091371,\n",
       " 21.464788732394368,\n",
       " 6.220408163265306,\n",
       " 21.464788732394368,\n",
       " 5.021416803953872,\n",
       " 5.021416803953872,\n",
       " 5.021416803953872,\n",
       " 5.157360406091371,\n",
       " 13.025641025641026,\n",
       " 13.025641025641026,\n",
       " 5.157360406091371,\n",
       " 5.021416803953872,\n",
       " 6.220408163265306,\n",
       " 5.157360406091371,\n",
       " 7.171764705882353,\n",
       " 5.157360406091371,\n",
       " 7.171764705882353,\n",
       " 5.021416803953872,\n",
       " 6.220408163265306,\n",
       " 10.228187919463087,\n",
       " 13.025641025641026,\n",
       " 5.021416803953872,\n",
       " 5.021416803953872,\n",
       " 6.220408163265306,\n",
       " 6.220408163265306,\n",
       " 5.021416803953872,\n",
       " 5.157360406091371,\n",
       " 6.220408163265306,\n",
       " 10.228187919463087,\n",
       " 12.440816326530612,\n",
       " 5.157360406091371,\n",
       " 7.171764705882353,\n",
       " 5.021416803953872,\n",
       " 12.440816326530612,\n",
       " 5.021416803953872,\n",
       " 10.228187919463087,\n",
       " 7.171764705882353,\n",
       " 5.157360406091371,\n",
       " 5.157360406091371,\n",
       " 6.220408163265306,\n",
       " 13.025641025641026,\n",
       " 5.157360406091371,\n",
       " 5.021416803953872,\n",
       " 12.440816326530612,\n",
       " 21.464788732394368,\n",
       " 6.220408163265306,\n",
       " 5.021416803953872,\n",
       " 5.157360406091371,\n",
       " 7.171764705882353,\n",
       " 6.220408163265306,\n",
       " 5.157360406091371,\n",
       " 7.171764705882353,\n",
       " 12.440816326530612,\n",
       " 10.228187919463087,\n",
       " 5.157360406091371,\n",
       " 6.220408163265306,\n",
       " 5.021416803953872,\n",
       " 13.025641025641026,\n",
       " 5.157360406091371,\n",
       " 5.021416803953872,\n",
       " 5.157360406091371,\n",
       " 7.171764705882353,\n",
       " 12.440816326530612,\n",
       " 10.228187919463087,\n",
       " 7.171764705882353,\n",
       " 5.157360406091371,\n",
       " 5.157360406091371,\n",
       " 5.021416803953872,\n",
       " 7.171764705882353,\n",
       " 6.220408163265306,\n",
       " 5.021416803953872,\n",
       " 13.025641025641026,\n",
       " 13.025641025641026,\n",
       " 13.025641025641026,\n",
       " 7.171764705882353,\n",
       " 13.025641025641026,\n",
       " 5.021416803953872,\n",
       " 5.157360406091371,\n",
       " 7.171764705882353,\n",
       " 5.157360406091371,\n",
       " 7.171764705882353,\n",
       " 5.021416803953872,\n",
       " 10.228187919463087,\n",
       " 5.157360406091371,\n",
       " 5.157360406091371,\n",
       " 6.220408163265306,\n",
       " 13.025641025641026,\n",
       " 7.171764705882353,\n",
       " 5.021416803953872,\n",
       " 5.021416803953872,\n",
       " 5.021416803953872,\n",
       " 13.025641025641026,\n",
       " 5.021416803953872,\n",
       " 5.157360406091371,\n",
       " 10.228187919463087,\n",
       " 12.440816326530612,\n",
       " 5.157360406091371,\n",
       " 6.220408163265306,\n",
       " 13.025641025641026,\n",
       " 5.021416803953872,\n",
       " 5.157360406091371,\n",
       " 5.021416803953872,\n",
       " 5.157360406091371,\n",
       " 12.440816326530612,\n",
       " 6.220408163265306,\n",
       " 6.220408163265306,\n",
       " 12.440816326530612,\n",
       " 5.021416803953872,\n",
       " 7.171764705882353,\n",
       " 12.440816326530612,\n",
       " 5.021416803953872,\n",
       " 6.220408163265306,\n",
       " 13.025641025641026,\n",
       " 7.171764705882353,\n",
       " 6.220408163265306,\n",
       " 6.220408163265306,\n",
       " 5.021416803953872,\n",
       " 7.171764705882353,\n",
       " 12.440816326530612,\n",
       " 5.021416803953872,\n",
       " 6.220408163265306,\n",
       " 21.464788732394368,\n",
       " 6.220408163265306,\n",
       " 5.021416803953872,\n",
       " 13.025641025641026,\n",
       " 6.220408163265306,\n",
       " 5.157360406091371,\n",
       " 5.157360406091371,\n",
       " 13.025641025641026,\n",
       " 13.025641025641026,\n",
       " 13.025641025641026,\n",
       " 5.157360406091371,\n",
       " 6.220408163265306,\n",
       " 10.228187919463087,\n",
       " 13.025641025641026,\n",
       " 5.021416803953872,\n",
       " 5.021416803953872,\n",
       " 13.025641025641026,\n",
       " 7.171764705882353,\n",
       " 21.464788732394368,\n",
       " 10.228187919463087,\n",
       " 5.021416803953872,\n",
       " 13.025641025641026,\n",
       " 5.021416803953872,\n",
       " 21.464788732394368,\n",
       " 13.025641025641026,\n",
       " 7.171764705882353,\n",
       " 6.220408163265306,\n",
       " 12.440816326530612,\n",
       " 5.157360406091371,\n",
       " 12.440816326530612,\n",
       " 7.171764705882353,\n",
       " 21.464788732394368,\n",
       " 6.220408163265306,\n",
       " 5.157360406091371,\n",
       " 5.021416803953872,\n",
       " 7.171764705882353,\n",
       " 5.157360406091371,\n",
       " 10.228187919463087,\n",
       " 5.021416803953872,\n",
       " 12.440816326530612,\n",
       " 7.171764705882353,\n",
       " 7.171764705882353,\n",
       " 12.440816326530612,\n",
       " 5.021416803953872,\n",
       " 5.157360406091371,\n",
       " 5.157360406091371,\n",
       " 7.171764705882353,\n",
       " 10.228187919463087,\n",
       " 5.021416803953872,\n",
       " 10.228187919463087,\n",
       " 5.157360406091371,\n",
       " 5.157360406091371,\n",
       " 5.021416803953872,\n",
       " 10.228187919463087,\n",
       " 5.157360406091371,\n",
       " 12.440816326530612,\n",
       " 7.171764705882353,\n",
       " 7.171764705882353,\n",
       " 5.021416803953872,\n",
       " 13.025641025641026,\n",
       " 5.157360406091371,\n",
       " 5.021416803953872,\n",
       " 5.021416803953872,\n",
       " 13.025641025641026,\n",
       " 6.220408163265306,\n",
       " 5.157360406091371,\n",
       " 13.025641025641026,\n",
       " 5.157360406091371,\n",
       " 6.220408163265306,\n",
       " 5.021416803953872,\n",
       " 13.025641025641026,\n",
       " 13.025641025641026,\n",
       " 13.025641025641026,\n",
       " 5.021416803953872,\n",
       " 6.220408163265306,\n",
       " 5.157360406091371,\n",
       " 10.228187919463087,\n",
       " 13.025641025641026,\n",
       " 6.220408163265306,\n",
       " 5.157360406091371,\n",
       " 5.157360406091371,\n",
       " 5.021416803953872,\n",
       " 5.021416803953872,\n",
       " 13.025641025641026,\n",
       " 5.021416803953872,\n",
       " 5.157360406091371,\n",
       " 12.440816326530612,\n",
       " 12.440816326530612,\n",
       " 5.021416803953872,\n",
       " 10.228187919463087,\n",
       " 12.440816326530612,\n",
       " 7.171764705882353,\n",
       " 7.171764705882353,\n",
       " 7.171764705882353,\n",
       " 5.157360406091371,\n",
       " 5.157360406091371,\n",
       " 13.025641025641026,\n",
       " 6.220408163265306,\n",
       " 10.228187919463087,\n",
       " 6.220408163265306,\n",
       " 7.171764705882353,\n",
       " 7.171764705882353,\n",
       " 7.171764705882353,\n",
       " 7.171764705882353,\n",
       " 5.021416803953872,\n",
       " 10.228187919463087,\n",
       " 13.025641025641026,\n",
       " 5.021416803953872,\n",
       " 5.157360406091371,\n",
       " 5.157360406091371,\n",
       " 7.171764705882353,\n",
       " 5.021416803953872,\n",
       " 12.440816326530612,\n",
       " 5.157360406091371,\n",
       " 12.440816326530612,\n",
       " 5.021416803953872,\n",
       " 6.220408163265306,\n",
       " 13.025641025641026,\n",
       " 13.025641025641026,\n",
       " 10.228187919463087,\n",
       " 6.220408163265306,\n",
       " 7.171764705882353,\n",
       " 12.440816326530612,\n",
       " 5.021416803953872,\n",
       " 10.228187919463087,\n",
       " 5.157360406091371,\n",
       " 13.025641025641026,\n",
       " 12.440816326530612,\n",
       " 5.021416803953872,\n",
       " 5.021416803953872,\n",
       " 7.171764705882353,\n",
       " 7.171764705882353,\n",
       " 5.157360406091371,\n",
       " 7.171764705882353,\n",
       " 5.021416803953872,\n",
       " 10.228187919463087,\n",
       " 10.228187919463087,\n",
       " 5.157360406091371,\n",
       " 5.021416803953872,\n",
       " 12.440816326530612,\n",
       " 5.157360406091371,\n",
       " 6.220408163265306,\n",
       " 10.228187919463087,\n",
       " 7.171764705882353,\n",
       " 5.157360406091371,\n",
       " 7.171764705882353,\n",
       " 5.157360406091371,\n",
       " 7.171764705882353,\n",
       " 13.025641025641026,\n",
       " 5.021416803953872,\n",
       " 5.021416803953872,\n",
       " 5.021416803953872,\n",
       " 7.171764705882353,\n",
       " 5.021416803953872,\n",
       " 7.171764705882353,\n",
       " 5.157360406091371,\n",
       " 13.025641025641026,\n",
       " 6.220408163265306,\n",
       " 7.171764705882353,\n",
       " 5.021416803953872,\n",
       " 7.171764705882353,\n",
       " 6.220408163265306,\n",
       " 5.157360406091371,\n",
       " 5.157360406091371,\n",
       " 5.021416803953872,\n",
       " 13.025641025641026,\n",
       " 5.021416803953872,\n",
       " 5.157360406091371,\n",
       " 5.021416803953872,\n",
       " 6.220408163265306,\n",
       " 7.171764705882353,\n",
       " 7.171764705882353,\n",
       " 5.021416803953872,\n",
       " 21.464788732394368,\n",
       " 5.157360406091371,\n",
       " 10.228187919463087,\n",
       " 5.157360406091371,\n",
       " 7.171764705882353,\n",
       " 5.021416803953872,\n",
       " 10.228187919463087,\n",
       " 6.220408163265306,\n",
       " 5.021416803953872,\n",
       " 10.228187919463087,\n",
       " 5.021416803953872,\n",
       " 6.220408163265306,\n",
       " 10.228187919463087,\n",
       " 5.157360406091371,\n",
       " 5.021416803953872,\n",
       " 6.220408163265306,\n",
       " 5.157360406091371,\n",
       " 10.228187919463087,\n",
       " 10.228187919463087,\n",
       " 5.021416803953872,\n",
       " 5.157360406091371,\n",
       " 6.220408163265306,\n",
       " 5.157360406091371,\n",
       " 21.464788732394368,\n",
       " 13.025641025641026,\n",
       " 10.228187919463087,\n",
       " 6.220408163265306,\n",
       " 5.021416803953872,\n",
       " 5.021416803953872,\n",
       " 5.021416803953872,\n",
       " 6.220408163265306,\n",
       " 12.440816326530612,\n",
       " 6.220408163265306,\n",
       " 5.021416803953872,\n",
       " 6.220408163265306,\n",
       " 7.171764705882353,\n",
       " 5.021416803953872,\n",
       " 10.228187919463087,\n",
       " 5.021416803953872,\n",
       " 5.021416803953872,\n",
       " 21.464788732394368,\n",
       " 5.021416803953872,\n",
       " 12.440816326530612,\n",
       " 5.021416803953872,\n",
       " 6.220408163265306,\n",
       " 5.157360406091371,\n",
       " 21.464788732394368,\n",
       " 6.220408163265306,\n",
       " 5.021416803953872,\n",
       " 10.228187919463087,\n",
       " 12.440816326530612,\n",
       " 5.157360406091371,\n",
       " 7.171764705882353,\n",
       " 5.021416803953872,\n",
       " 5.157360406091371,\n",
       " 12.440816326530612,\n",
       " 12.440816326530612,\n",
       " 5.157360406091371,\n",
       " 6.220408163265306,\n",
       " 10.228187919463087,\n",
       " 6.220408163265306,\n",
       " 7.171764705882353,\n",
       " 7.171764705882353,\n",
       " 7.171764705882353,\n",
       " 5.157360406091371,\n",
       " 13.025641025641026,\n",
       " 6.220408163265306,\n",
       " 6.220408163265306,\n",
       " 6.220408163265306,\n",
       " 5.021416803953872,\n",
       " 5.157360406091371,\n",
       " 12.440816326530612,\n",
       " 13.025641025641026,\n",
       " 5.157360406091371,\n",
       " 7.171764705882353,\n",
       " 13.025641025641026,\n",
       " 5.157360406091371,\n",
       " 10.228187919463087,\n",
       " 6.220408163265306,\n",
       " 7.171764705882353,\n",
       " 13.025641025641026,\n",
       " 10.228187919463087,\n",
       " 12.440816326530612,\n",
       " 21.464788732394368,\n",
       " 5.157360406091371,\n",
       " 7.171764705882353,\n",
       " 6.220408163265306,\n",
       " 13.025641025641026,\n",
       " 13.025641025641026,\n",
       " 5.021416803953872,\n",
       " 6.220408163265306,\n",
       " 5.157360406091371,\n",
       " 5.157360406091371,\n",
       " 12.440816326530612,\n",
       " 5.021416803953872,\n",
       " 6.220408163265306,\n",
       " 5.157360406091371,\n",
       " 10.228187919463087,\n",
       " 6.220408163265306,\n",
       " 6.220408163265306,\n",
       " 5.157360406091371,\n",
       " 12.440816326530612,\n",
       " 5.021416803953872,\n",
       " 6.220408163265306,\n",
       " 5.021416803953872,\n",
       " 5.157360406091371,\n",
       " 7.171764705882353,\n",
       " 13.025641025641026,\n",
       " 10.228187919463087,\n",
       " 10.228187919463087,\n",
       " 6.220408163265306,\n",
       " 5.157360406091371,\n",
       " 12.440816326530612,\n",
       " 5.157360406091371,\n",
       " 6.220408163265306,\n",
       " 7.171764705882353,\n",
       " 12.440816326530612,\n",
       " 5.157360406091371,\n",
       " 5.157360406091371,\n",
       " 6.220408163265306,\n",
       " 12.440816326530612,\n",
       " 5.157360406091371,\n",
       " 5.157360406091371,\n",
       " 7.171764705882353,\n",
       " 12.440816326530612,\n",
       " 5.021416803953872,\n",
       " 10.228187919463087,\n",
       " 5.021416803953872,\n",
       " 7.171764705882353,\n",
       " 12.440816326530612,\n",
       " 5.021416803953872,\n",
       " 6.220408163265306,\n",
       " 6.220408163265306,\n",
       " 6.220408163265306,\n",
       " 5.157360406091371,\n",
       " 7.171764705882353,\n",
       " 5.157360406091371,\n",
       " 7.171764705882353,\n",
       " 21.464788732394368,\n",
       " 12.440816326530612,\n",
       " 5.157360406091371,\n",
       " 5.021416803953872,\n",
       " 5.021416803953872,\n",
       " 5.157360406091371,\n",
       " 12.440816326530612,\n",
       " 10.228187919463087,\n",
       " 6.220408163265306,\n",
       " 10.228187919463087,\n",
       " 7.171764705882353,\n",
       " 6.220408163265306,\n",
       " 6.220408163265306,\n",
       " 190.5,\n",
       " 12.440816326530612,\n",
       " 7.171764705882353,\n",
       " 5.021416803953872,\n",
       " 5.021416803953872,\n",
       " 10.228187919463087,\n",
       " 5.157360406091371,\n",
       " 7.171764705882353,\n",
       " 5.157360406091371,\n",
       " 13.025641025641026,\n",
       " 6.220408163265306,\n",
       " 6.220408163265306,\n",
       " 5.021416803953872,\n",
       " 21.464788732394368,\n",
       " 6.220408163265306,\n",
       " 5.021416803953872,\n",
       " 5.021416803953872,\n",
       " 5.157360406091371,\n",
       " 5.021416803953872,\n",
       " 10.228187919463087,\n",
       " 12.440816326530612,\n",
       " 5.021416803953872,\n",
       " 10.228187919463087,\n",
       " 5.021416803953872,\n",
       " 5.021416803953872,\n",
       " 5.021416803953872,\n",
       " 5.157360406091371,\n",
       " 5.157360406091371,\n",
       " 5.021416803953872,\n",
       " 5.021416803953872,\n",
       " 5.157360406091371,\n",
       " 5.157360406091371,\n",
       " 5.021416803953872,\n",
       " 5.021416803953872,\n",
       " 13.025641025641026,\n",
       " 21.464788732394368,\n",
       " 5.021416803953872,\n",
       " 12.440816326530612,\n",
       " 6.220408163265306,\n",
       " 10.228187919463087,\n",
       " 5.021416803953872,\n",
       " 5.157360406091371,\n",
       " 6.220408163265306,\n",
       " 6.220408163265306,\n",
       " 6.220408163265306,\n",
       " 5.021416803953872,\n",
       " 6.220408163265306,\n",
       " 6.220408163265306,\n",
       " 5.021416803953872,\n",
       " 6.220408163265306,\n",
       " 7.171764705882353,\n",
       " 21.464788732394368,\n",
       " 7.171764705882353,\n",
       " 7.171764705882353,\n",
       " 7.171764705882353,\n",
       " 13.025641025641026,\n",
       " 5.021416803953872,\n",
       " 7.171764705882353,\n",
       " 21.464788732394368,\n",
       " 5.157360406091371,\n",
       " 5.021416803953872,\n",
       " 6.220408163265306,\n",
       " 6.220408163265306,\n",
       " 5.021416803953872,\n",
       " 5.157360406091371,\n",
       " 13.025641025641026,\n",
       " 13.025641025641026,\n",
       " 5.021416803953872,\n",
       " 5.021416803953872,\n",
       " 10.228187919463087,\n",
       " 5.021416803953872,\n",
       " 12.440816326530612,\n",
       " 12.440816326530612,\n",
       " 7.171764705882353,\n",
       " 10.228187919463087,\n",
       " 5.021416803953872,\n",
       " 21.464788732394368,\n",
       " 5.021416803953872,\n",
       " 13.025641025641026,\n",
       " 21.464788732394368,\n",
       " 5.157360406091371,\n",
       " 7.171764705882353,\n",
       " 10.228187919463087,\n",
       " 5.021416803953872,\n",
       " 5.021416803953872,\n",
       " 5.157360406091371,\n",
       " 10.228187919463087,\n",
       " 5.157360406091371,\n",
       " 5.021416803953872,\n",
       " 7.171764705882353,\n",
       " 6.220408163265306,\n",
       " 5.157360406091371,\n",
       " 5.157360406091371,\n",
       " 10.228187919463087,\n",
       " 5.157360406091371,\n",
       " 5.157360406091371,\n",
       " 12.440816326530612,\n",
       " 6.220408163265306,\n",
       " 12.440816326530612,\n",
       " 5.021416803953872,\n",
       " 13.025641025641026,\n",
       " 5.157360406091371,\n",
       " 7.171764705882353,\n",
       " 13.025641025641026,\n",
       " 5.021416803953872,\n",
       " 5.157360406091371,\n",
       " 12.440816326530612,\n",
       " 12.440816326530612,\n",
       " 5.021416803953872,\n",
       " 10.228187919463087,\n",
       " 13.025641025641026,\n",
       " 12.440816326530612,\n",
       " 10.228187919463087,\n",
       " 5.157360406091371,\n",
       " 6.220408163265306,\n",
       " 5.021416803953872,\n",
       " 5.157360406091371,\n",
       " 6.220408163265306,\n",
       " 5.021416803953872,\n",
       " 7.171764705882353,\n",
       " 6.220408163265306,\n",
       " 13.025641025641026,\n",
       " 7.171764705882353,\n",
       " 21.464788732394368,\n",
       " 5.021416803953872,\n",
       " 10.228187919463087,\n",
       " 5.021416803953872,\n",
       " 5.157360406091371,\n",
       " 12.440816326530612,\n",
       " 13.025641025641026,\n",
       " 13.025641025641026,\n",
       " 7.171764705882353,\n",
       " 10.228187919463087,\n",
       " 12.440816326530612,\n",
       " 5.157360406091371,\n",
       " 10.228187919463087,\n",
       " 5.021416803953872,\n",
       " 6.220408163265306,\n",
       " 10.228187919463087,\n",
       " 10.228187919463087,\n",
       " 190.5,\n",
       " 5.021416803953872,\n",
       " 5.021416803953872,\n",
       " 5.021416803953872,\n",
       " 6.220408163265306,\n",
       " 5.021416803953872,\n",
       " 5.021416803953872,\n",
       " 5.157360406091371,\n",
       " 5.021416803953872,\n",
       " 6.220408163265306,\n",
       " 5.021416803953872,\n",
       " 21.464788732394368,\n",
       " 7.171764705882353,\n",
       " 6.220408163265306,\n",
       " 10.228187919463087,\n",
       " 7.171764705882353,\n",
       " 13.025641025641026,\n",
       " 7.171764705882353,\n",
       " 5.021416803953872,\n",
       " 6.220408163265306,\n",
       " 12.440816326530612,\n",
       " 5.157360406091371,\n",
       " 12.440816326530612,\n",
       " 5.157360406091371,\n",
       " 7.171764705882353,\n",
       " 5.021416803953872,\n",
       " 5.157360406091371,\n",
       " 5.021416803953872,\n",
       " 7.171764705882353,\n",
       " 10.228187919463087,\n",
       " 5.021416803953872,\n",
       " 6.220408163265306,\n",
       " 5.157360406091371,\n",
       " 6.220408163265306,\n",
       " 12.440816326530612,\n",
       " 7.171764705882353,\n",
       " 10.228187919463087,\n",
       " 21.464788732394368,\n",
       " 7.171764705882353,\n",
       " 7.171764705882353,\n",
       " 10.228187919463087,\n",
       " 5.021416803953872,\n",
       " 5.021416803953872,\n",
       " 5.021416803953872,\n",
       " 190.5,\n",
       " 6.220408163265306,\n",
       " 6.220408163265306,\n",
       " 7.171764705882353,\n",
       " 7.171764705882353,\n",
       " 5.157360406091371,\n",
       " 12.440816326530612,\n",
       " 6.220408163265306,\n",
       " 5.157360406091371,\n",
       " 5.021416803953872,\n",
       " 5.021416803953872,\n",
       " 10.228187919463087,\n",
       " 6.220408163265306,\n",
       " 12.440816326530612,\n",
       " 5.021416803953872,\n",
       " 7.171764705882353,\n",
       " 5.021416803953872,\n",
       " 5.157360406091371,\n",
       " 6.220408163265306,\n",
       " 5.021416803953872,\n",
       " 12.440816326530612,\n",
       " 12.440816326530612,\n",
       " 5.021416803953872,\n",
       " 6.220408163265306,\n",
       " 7.171764705882353,\n",
       " 13.025641025641026,\n",
       " 12.440816326530612,\n",
       " 5.157360406091371,\n",
       " 7.171764705882353,\n",
       " 13.025641025641026,\n",
       " 13.025641025641026,\n",
       " 5.021416803953872,\n",
       " 5.157360406091371,\n",
       " 6.220408163265306,\n",
       " 5.157360406091371,\n",
       " 5.021416803953872,\n",
       " 10.228187919463087,\n",
       " 6.220408163265306,\n",
       " 13.025641025641026,\n",
       " 7.171764705882353,\n",
       " 6.220408163265306,\n",
       " 13.025641025641026,\n",
       " 5.157360406091371,\n",
       " 5.021416803953872,\n",
       " 10.228187919463087,\n",
       " 5.157360406091371,\n",
       " 7.171764705882353,\n",
       " 10.228187919463087,\n",
       " 5.157360406091371,\n",
       " 5.157360406091371,\n",
       " 5.157360406091371,\n",
       " 5.021416803953872,\n",
       " 7.171764705882353,\n",
       " 13.025641025641026,\n",
       " 12.440816326530612,\n",
       " 5.021416803953872,\n",
       " 5.021416803953872,\n",
       " 5.021416803953872,\n",
       " 10.228187919463087,\n",
       " 13.025641025641026,\n",
       " 6.220408163265306,\n",
       " 5.021416803953872,\n",
       " 12.440816326530612,\n",
       " 12.440816326530612,\n",
       " 5.157360406091371,\n",
       " 13.025641025641026,\n",
       " 12.440816326530612,\n",
       " 10.228187919463087,\n",
       " 7.171764705882353,\n",
       " 5.157360406091371,\n",
       " 6.220408163265306,\n",
       " 21.464788732394368,\n",
       " 6.220408163265306,\n",
       " 5.021416803953872,\n",
       " 5.021416803953872,\n",
       " 6.220408163265306,\n",
       " 5.021416803953872,\n",
       " 6.220408163265306,\n",
       " 6.220408163265306,\n",
       " 10.228187919463087,\n",
       " 10.228187919463087,\n",
       " 5.157360406091371,\n",
       " 7.171764705882353,\n",
       " 5.157360406091371,\n",
       " 6.220408163265306,\n",
       " 6.220408163265306,\n",
       " 6.220408163265306,\n",
       " 12.440816326530612,\n",
       " 6.220408163265306,\n",
       " 6.220408163265306,\n",
       " 5.157360406091371,\n",
       " 21.464788732394368,\n",
       " 5.157360406091371,\n",
       " 5.021416803953872,\n",
       " 6.220408163265306,\n",
       " 21.464788732394368,\n",
       " 5.157360406091371,\n",
       " 10.228187919463087,\n",
       " 5.157360406091371,\n",
       " 21.464788732394368,\n",
       " 7.171764705882353,\n",
       " 6.220408163265306,\n",
       " 21.464788732394368,\n",
       " 7.171764705882353,\n",
       " 13.025641025641026,\n",
       " 12.440816326530612,\n",
       " 6.220408163265306,\n",
       " 7.171764705882353,\n",
       " 6.220408163265306,\n",
       " 5.021416803953872,\n",
       " 12.440816326530612,\n",
       " 5.021416803953872,\n",
       " 13.025641025641026,\n",
       " 7.171764705882353,\n",
       " 7.171764705882353,\n",
       " 7.171764705882353,\n",
       " 21.464788732394368,\n",
       " 5.157360406091371,\n",
       " 7.171764705882353,\n",
       " 5.157360406091371,\n",
       " 5.021416803953872,\n",
       " 10.228187919463087,\n",
       " 190.5,\n",
       " 5.157360406091371,\n",
       " 12.440816326530612,\n",
       " 7.171764705882353,\n",
       " 5.157360406091371,\n",
       " 6.220408163265306,\n",
       " 6.220408163265306,\n",
       " 10.228187919463087,\n",
       " 6.220408163265306,\n",
       " 12.440816326530612,\n",
       " 5.157360406091371,\n",
       " 5.021416803953872,\n",
       " 5.021416803953872,\n",
       " 10.228187919463087,\n",
       " 5.021416803953872,\n",
       " 5.021416803953872,\n",
       " 13.025641025641026,\n",
       " 7.171764705882353,\n",
       " 7.171764705882353,\n",
       " 5.021416803953872,\n",
       " 6.220408163265306,\n",
       " 5.021416803953872,\n",
       " 12.440816326530612,\n",
       " 13.025641025641026,\n",
       " 5.021416803953872,\n",
       " 6.220408163265306,\n",
       " 6.220408163265306,\n",
       " 5.157360406091371,\n",
       " 5.021416803953872,\n",
       " 6.220408163265306,\n",
       " 5.157360406091371,\n",
       " 5.157360406091371,\n",
       " 6.220408163265306,\n",
       " 6.220408163265306,\n",
       " 190.5,\n",
       " 5.157360406091371,\n",
       " 6.220408163265306,\n",
       " 5.021416803953872,\n",
       " 5.157360406091371,\n",
       " 7.171764705882353,\n",
       " 6.220408163265306,\n",
       " 5.157360406091371,\n",
       " 5.021416803953872,\n",
       " 5.021416803953872,\n",
       " 13.025641025641026,\n",
       " 13.025641025641026,\n",
       " 5.021416803953872,\n",
       " 6.220408163265306,\n",
       " 7.171764705882353,\n",
       " 7.171764705882353,\n",
       " 5.157360406091371,\n",
       " 10.228187919463087,\n",
       " 21.464788732394368,\n",
       " 21.464788732394368,\n",
       " 10.228187919463087,\n",
       " 21.464788732394368,\n",
       " 5.157360406091371,\n",
       " 6.220408163265306,\n",
       " 5.157360406091371,\n",
       " 13.025641025641026,\n",
       " 10.228187919463087,\n",
       " 5.157360406091371,\n",
       " 13.025641025641026,\n",
       " 5.021416803953872,\n",
       " 5.157360406091371,\n",
       " 10.228187919463087,\n",
       " 12.440816326530612,\n",
       " 12.440816326530612,\n",
       " 5.021416803953872,\n",
       " 13.025641025641026,\n",
       " 6.220408163265306,\n",
       " 5.021416803953872,\n",
       " 7.171764705882353,\n",
       " 12.440816326530612,\n",
       " 7.171764705882353,\n",
       " 7.171764705882353,\n",
       " 10.228187919463087,\n",
       " ...]"
      ]
     },
     "execution_count": 33,
     "metadata": {},
     "output_type": "execute_result"
    }
   ],
   "source": [
    "sample_weights = [class_weights[e] for e in lab_ids ]\n",
    "sample_weights"
   ]
  },
  {
   "cell_type": "code",
   "execution_count": 34,
   "metadata": {},
   "outputs": [
    {
     "data": {
      "text/plain": [
       "<torch.utils.data.sampler.WeightedRandomSampler at 0x7fa29a2eb5d0>"
      ]
     },
     "execution_count": 34,
     "metadata": {},
     "output_type": "execute_result"
    }
   ],
   "source": [
    "sampler = WeightedRandomSampler(sample_weights,  num_samples=len(sample_weights), replacement=True)\n",
    "sampler"
   ]
  },
  {
   "cell_type": "code",
   "execution_count": 35,
   "metadata": {},
   "outputs": [
    {
     "data": {
      "image/png": "[encoded data removed]",
      "text/plain": [
       "<Figure size 1008x648 with 1 Axes>"
      ]
     },
     "metadata": {},
     "output_type": "display_data"
    }
   ],
   "source": [
    "# lets check what this will yield when loading the dataset with a DataLoader\n",
    "\n",
    "train_dl = DataLoader(train_dataset, sampler=sampler, batch_size=100)\n",
    "# see one batch\n",
    "for idx, batch in enumerate(train_dl):\n",
    "    x,y = batch['sequence'], batch['label']\n",
    "    _, c = np.unique(y, return_counts=True)\n",
    "    ax = sns.barplot(x=label_encoder.classes_,y=c)\n",
    "\n",
    "    ax.set_xticklabels(ax.get_xticklabels(),rotation=30)\n",
    "    i=0\n",
    "    for p in ax.patches:\n",
    "        height = p.get_height()\n",
    "        ax.text(p.get_x()+p.get_width()/2., height + 0.1,\n",
    "            c[i],ha=\"center\", size=18)\n",
    "        i += 1\n",
    "    break\n",
    "\n"
   ]
  },
  {
   "cell_type": "code",
   "execution_count": null,
   "metadata": {},
   "outputs": [],
   "source": []
  },
  {
   "cell_type": "code",
   "execution_count": 36,
   "metadata": {},
   "outputs": [],
   "source": [
    "# see all train data\n",
    "batches = []\n",
    "for idx, batch in enumerate(train_dl):\n",
    "    x,y = batch['sequence'], batch['label']\n",
    "    batches.append(y.numpy())"
   ]
  },
  {
   "cell_type": "code",
   "execution_count": 37,
   "metadata": {},
   "outputs": [
    {
     "data": {
      "image/png": "[encoded data removed]",
      "text/plain": [
       "<Figure size 1008x648 with 1 Axes>"
      ]
     },
     "metadata": {},
     "output_type": "display_data"
    }
   ],
   "source": [
    "_, c = np.unique(np.concatenate(batches), return_counts=True)\n",
    "ax = sns.barplot(x=label_encoder.classes_,y=c)\n",
    "\n",
    "ax.set_xticklabels(ax.get_xticklabels(),rotation=30)\n",
    "i=0\n",
    "for p in ax.patches:\n",
    "    height = p.get_height()\n",
    "    ax.text(p.get_x()+p.get_width()/2., height + 0.1,\n",
    "        c[i],ha=\"center\", size=18)\n",
    "    i += 1"
   ]
  },
  {
   "cell_type": "code",
   "execution_count": 38,
   "metadata": {},
   "outputs": [],
   "source": [
    "#lets put it in a function for our lit data madule\n",
    "def get_sampler(dataset):\n",
    "    lab_ids = [d['label'] for d in dataset]\n",
    "    labels_unique, counts = np.unique(lab_ids, return_counts=True)\n",
    "    class_weights = [sum(counts)/c for c in counts]\n",
    "    sample_weights = [class_weights[e] for e in lab_ids ]\n",
    "    sampler = WeightedRandomSampler(sample_weights,  num_samples=len(sample_weights), replacement=True)\n",
    "    return sampler"
   ]
  },
  {
   "cell_type": "code",
   "execution_count": 39,
   "metadata": {},
   "outputs": [],
   "source": [
    "class SurfaceDatamodule(pl.LightningDataModule):\n",
    "\n",
    "  def __init__(self, train_sequences, val_sequences, batch_size, balance=True):\n",
    "    super().__init__()\n",
    "    self.train_sequences = train_sequences\n",
    "    self.val_sequences = val_sequences\n",
    "    self.batch_size = batch_size\n",
    "    self.balance = balance\n",
    "    self.sampler = None\n",
    "\n",
    "  def setup(self, stage=None):\n",
    "    self.train_dataset = SurfaceDataset(self.train_sequences)\n",
    "    self.val_dataset = SurfaceDataset(self.val_sequences)\n",
    "    if self.balance:\n",
    "      self.sampler = get_sampler(self.train_dataset)\n",
    "\n",
    "  def train_dataloader(self):\n",
    "    if self.balance:\n",
    "        return DataLoader(self.train_dataset, \n",
    "                          batch_size=self.batch_size,\n",
    "                          sampler=self.sampler,\n",
    "                          num_workers=3)\n",
    "    return DataLoader(self.train_dataset, \n",
    "                  batch_size=self.batch_size,\n",
    "                  num_workers=3)\n",
    "      \n",
    "  def val_dataloader(self):\n",
    "      return DataLoader(self.val_dataset,\n",
    "                        batch_size=self.batch_size,\n",
    "                        num_workers=2)\n"
   ]
  },
  {
   "cell_type": "code",
   "execution_count": 40,
   "metadata": {},
   "outputs": [
    {
     "data": {
      "image/png": "[encoded data removed]",
      "text/plain": [
       "<Figure size 1008x648 with 1 Axes>"
      ]
     },
     "metadata": {},
     "output_type": "display_data"
    }
   ],
   "source": [
    "dm =SurfaceDatamodule(train_sequences, val_sequences, batch_size=100)\n",
    "dm.setup()\n",
    "\n",
    "# dm.train_dataloader().dataset\n",
    "batches = []\n",
    "for idx, batch in enumerate(dm.train_dataloader()):\n",
    "    x,y = batch['sequence'], batch['label']\n",
    "    batches.append(y.numpy())\n",
    "\n",
    "_, c = np.unique(np.concatenate(batches), return_counts=True)\n",
    "ax = sns.barplot(x=label_encoder.classes_,y=c)\n",
    "\n",
    "ax.set_xticklabels(ax.get_xticklabels(),rotation=30)\n",
    "i=0\n",
    "for p in ax.patches:\n",
    "    height = p.get_height()\n",
    "    ax.text(p.get_x()+p.get_width()/2., height + 0.1,\n",
    "        c[i],ha=\"center\", size=18)\n",
    "    i += 1"
   ]
  },
  {
   "cell_type": "markdown",
   "metadata": {},
   "source": [
    "## Architecture and PL Module"
   ]
  },
  {
   "cell_type": "code",
   "execution_count": 41,
   "metadata": {},
   "outputs": [],
   "source": [
    "\n",
    "class SurfaceModel(nn.Module):\n",
    "\n",
    "  def __init__(self, n_features, n_classes, n_hidden,dropout, n_layers=3):\n",
    "    super().__init__()\n",
    "    print(dropout)\n",
    "    self.n_fearues = n_features\n",
    "    self.n_classes = n_classes\n",
    "    self.n_hidden = n_hidden\n",
    "    self.n_layers = n_layers\n",
    "    self.dropout = dropout\n",
    "\n",
    "    self.lstm = nn.LSTM(\n",
    "        input_size =self.n_fearues,\n",
    "        hidden_size = self.n_hidden,\n",
    "        num_layers = self.n_layers,\n",
    "        dropout = self.dropout,\n",
    "        batch_first = True\n",
    "    )\n",
    "    self.cassifier = nn.Linear(self.n_hidden, self.n_classes)\n",
    "\n",
    "  def forward(self, x):\n",
    "        self.lstm.flatten_parameters()\n",
    "        _, (hidden,_) = self.lstm(x)\n",
    "        out = hidden[-1]\n",
    "        return self.cassifier(out)"
   ]
  },
  {
   "cell_type": "code",
   "execution_count": 44,
   "metadata": {},
   "outputs": [],
   "source": [
    "class SurfacePredictor(pl.LightningModule):\n",
    "  def __init__(self, n_features, n_classes, n_hidden, seq_length, dropout, n_layers=3, lr=0.0001):\n",
    "    super().__init__()\n",
    "    self.lr = lr \n",
    "    self.seq_length =seq_length\n",
    "    self.n_features = n_features\n",
    "\n",
    "    self.model = SurfaceModel(n_features, n_classes, n_hidden, n_layers=n_layers,dropout=dropout)\n",
    "    self.criterion = nn.CrossEntropyLoss()\n",
    "    self.train_ac = torchmetrics.Accuracy()\n",
    "    self.val_ac = torchmetrics.Accuracy()\n",
    "    self.save_hyperparameters()\n",
    "\n",
    "\n",
    "  def forward(self, x, labels=None):\n",
    "    output = self.model(x)\n",
    "\n",
    "    loss = 0\n",
    "    if labels is not None:\n",
    "      loss = self.criterion(output, labels)\n",
    "      return loss, output\n",
    "\n",
    "    return output\n",
    "\n",
    "\n",
    "  def training_step(self, batch, batch_idx):\n",
    "    sequences = batch['sequence']\n",
    "    labels = batch['label']\n",
    "    loss, outputs = self(sequences, labels)\n",
    "    predictions = torch.argmax(outputs, dim=1)\n",
    "    step_ac = self.train_ac(predictions, labels)\n",
    "\n",
    "    self.log('train_loss', loss, prog_bar=True, logger=True)\n",
    "    self.log('train_accuracy', step_ac, prog_bar=True, logger=True)\n",
    "\n",
    "    return dict(loss=loss, accuracy=step_ac)\n",
    "\n",
    "  def validation_step(self, batch, batch_idx):\n",
    "    sequences = batch['sequence']\n",
    "    labels = batch['label']\n",
    "    loss, outputs = self(sequences, labels)\n",
    "    predictions = torch.argmax(outputs, dim=1)\n",
    "    step_ac = self.train_ac(predictions, labels)\n",
    "\n",
    "    self.log('val_loss', loss, prog_bar=True, logger=True)\n",
    "    self.log('val_accuracy', step_ac, prog_bar=True, logger=True)\n",
    "\n",
    "    return dict(loss=loss, accuracy=step_ac, loggits=outputs)\n",
    "\n",
    "\n",
    "  def validation_epoch_end(self, validation_step_outputs):\n",
    "    dummyImput = torch.zeros(\n",
    "        (1, self.seq_length, self.n_features), device=self.device)\n",
    "    model_filename = f\"model_{str(self.global_step).zfill(5)}.onnx\"\n",
    "    # torch.onnx.export(self, dummyImput, model_filename, opset_version=11)\n",
    "    # wandb.save(model_filename,)\n",
    "    outputs = [out['loggits'] for out in validation_step_outputs]\n",
    "    flattened_outputs = torch.flatten(\n",
    "          torch.cat(outputs))\n",
    "    self.logger.experiment.log(\n",
    "    {'valid/logits': wandb.Histogram(flattened_outputs.to('cpu')),\n",
    "      'epoch': self.current_epoch}\n",
    "    )\n",
    "\n",
    "\n",
    "  def configure_optimizers(self):\n",
    "    return torch.optim.AdamW(self.parameters(), lr=self.lr)\n",
    " "
   ]
  },
  {
   "cell_type": "markdown",
   "metadata": {},
   "source": [
    "## Hyperparameter Tuning"
   ]
  },
  {
   "cell_type": "code",
   "execution_count": 43,
   "metadata": {},
   "outputs": [],
   "source": [
    "rand_sweep_config = {\n",
    "  \"method\": \"random\",   # Random search\n",
    "  \"metric\": {           # We want to maximize val_accuracy\n",
    "      \"name\": \"val_accuracy\",\n",
    "      \"goal\": \"maximize\"\n",
    "  },\n",
    "  \"parameters\": {\n",
    "        \"dropout\": {\n",
    "            # Choose from pre-defined values\n",
    "            \"values\": [0.3, 0.4, 0.5, 0.75, 0.85]\n",
    "        },\n",
    "        \"n_hidden\": {\n",
    "            # Choose from pre-defined values\n",
    "            \"values\": [64, 128, 256, 512]\n",
    "        },\n",
    "        \"batch_size\": {\n",
    "            # Choose from pre-defined values\n",
    "            \"values\": [64, 128, 256, 512]\n",
    "        },\n",
    "        \"lr\": {\n",
    "            # log uniform distribution between exp(min) and exp(max)\n",
    "            \"values\": [0.1, 0.01, 0.004, 0.001, 0.0004, 0.0001] \n",
    "        }\n",
    "    }\n",
    "}"
   ]
  },
  {
   "cell_type": "code",
   "execution_count": 45,
   "metadata": {},
   "outputs": [],
   "source": [
    "def sweep_iteration():\n",
    "\n",
    "    # set up W&B logger\n",
    "    wandb.init(config=rand_sweep_config)    # required to have access to `wandb.config`\n",
    "    config = wandb.config\n",
    "\n",
    "    # setup data\n",
    "    data_module =SurfaceDatamodule(train_sequences, val_sequences, batch_size=config.batch_size)\n",
    "\n",
    "    # setup model - note how we refer to sweep parameters with wandb.config\n",
    "    model = SurfacePredictor(n_features= 10,n_classes= 9,\n",
    "                           n_hidden= config.n_hidden,\n",
    "                           seq_length= 128, \n",
    "                           dropout = config.dropout, lr = config.lr)\n",
    "\n",
    "    # early_stopping_callback = EarlyStopping(monitor='val_loss', patience=4, verbose=True)\n",
    "    progress_bar = TQDMProgressBar(refresh_rate=30)\n",
    "\n",
    "    logger = WandbLogger(name='rand-sweep', save_dir='./logs', project='surface_pred_sweep', log_model=True)\n",
    "    callbacks = [progress_bar]\n",
    "\n",
    "    # setup Trainer\n",
    "    trainer = pl.Trainer(gpus = 1,\n",
    "                        max_epochs = 50,\n",
    "                        logger= logger,\n",
    "                        callbacks = callbacks,\n",
    "                        precision=16)\n",
    "\n",
    "    # train\n",
    "    trainer.fit(model, datamodule=data_module)\n",
    "    wandb.finish()"
   ]
  },
  {
   "cell_type": "code",
   "execution_count": null,
   "metadata": {},
   "outputs": [],
   "source": [
    "sweep_id = wandb.sweep(rand_sweep_config, project=\"Surface_predict-rand\")\n",
    "wandb.agent(sweep_id, sweep_iteration, count=100)\n",
    "wandb.finish()"
   ]
  },
  {
   "cell_type": "code",
   "execution_count": null,
   "metadata": {},
   "outputs": [],
   "source": []
  },
  {
   "cell_type": "code",
   "execution_count": null,
   "metadata": {},
   "outputs": [],
   "source": []
  },
  {
   "cell_type": "code",
   "execution_count": 72,
   "metadata": {},
   "outputs": [],
   "source": [
    "def train(data_module, params, run_name):\n",
    "    # setup data\n",
    "    #setup model\n",
    "    model = SurfacePredictor(n_features= params['n_features'], \n",
    "                             n_classes= params['n_classes'],\n",
    "                             n_hidden= params['n_hidden'], \n",
    "                             seq_length = params['seq_length'],\n",
    "                             dropout = params['dropout'], \n",
    "                             lr = params['lr'],\n",
    "                             n_layers= params['n_layers'])\n",
    "    # set up W&B logger\n",
    "    checkpoint_callback = ModelCheckpoint(\n",
    "    dirpath='checkpoints',\n",
    "    filename='best_checkpoint',\n",
    "    save_top_k=1,\n",
    "    verbose=True,\n",
    "    monitor='val_accuracy',\n",
    "    mode='max'\n",
    "    )\n",
    "    early_stopping_callback = EarlyStopping(monitor='val_accuracy', patience=10, verbose=True)\n",
    "    progress_bar = TQDMProgressBar(refresh_rate=30)\n",
    "\n",
    "    callbacks = [early_stopping_callback, checkpoint_callback, progress_bar]\n",
    "    \n",
    "    logger = WandbLogger(name=run_name, save_dir='logs', project='surface_pred')\n",
    "    progress_bar = TQDMProgressBar(refresh_rate=30,)\n",
    "\n",
    "    callbacks = [progress_bar]\n",
    "\n",
    "    # setup Trainer\n",
    "    trainer = pl.Trainer(gpus = 1,\n",
    "                        max_epochs = 250,\n",
    "                        logger= logger,\n",
    "                        callbacks = callbacks,\n",
    "                        log_every_n_steps=40,\n",
    "                        precision=16)\n",
    "\n",
    "    # train\n",
    "    trainer.fit(model, datamodule=data_module)\n",
    "    wandb.finish()\n",
    "    return trainer, data_module"
   ]
  },
  {
   "cell_type": "code",
   "execution_count": 75,
   "metadata": {},
   "outputs": [
    {
     "name": "stderr",
     "output_type": "stream",
     "text": [
      "Using 16bit native Automatic Mixed Precision (AMP)\n",
      "GPU available: True, used: True\n",
      "TPU available: False, using: 0 TPU cores\n",
      "IPU available: False, using: 0 IPUs\n",
      "LOCAL_RANK: 0 - CUDA_VISIBLE_DEVICES: [0]\n"
     ]
    },
    {
     "name": "stdout",
     "output_type": "stream",
     "text": [
      "0.3\n",
      "Problem at: /usr/local/lib/python3.7/dist-packages/pytorch_lightning/loggers/wandb.py 339 experiment\n"
     ]
    },
    {
     "name": "stderr",
     "output_type": "stream",
     "text": [
      "/usr/local/lib/python3.7/dist-packages/pytorch_lightning/trainer/trainer.py:688: UserWarning: Detected KeyboardInterrupt, attempting graceful shutdown...\n",
      "  rank_zero_warn(\"Detected KeyboardInterrupt, attempting graceful shutdown...\")\n"
     ]
    }
   ],
   "source": [
    "params ={\n",
    "    'n_features': len(feature_columns),\n",
    "    \"n_classes\": len(label_encoder.classes_),\n",
    "    \"seq_length\":128,\n",
    "    \"dropout\": 0.3,\n",
    "    \"n_hidden\": 256,\n",
    "    \"batch_size\": 64,\n",
    "    \"lr\": 0.001,\n",
    "    \"n_layers\" : 3   \n",
    "    }\n",
    "data_module =SurfaceDatamodule(train_sequences, val_sequences, batch_size=params['batch_size'])\n",
    "trainer, data_module = train(data_module, params, 'run-5')"
   ]
  },
  {
   "cell_type": "markdown",
   "metadata": {},
   "source": [
    "### Predictions"
   ]
  },
  {
   "cell_type": "code",
   "execution_count": 51,
   "metadata": {},
   "outputs": [
    {
     "data": {
      "application/vnd.google.colaboratory.intrinsic+json": {
       "type": "string"
      },
      "text/plain": [
       "'logs/surface_pred/vmcojylp/checkpoints/epoch=249-step=11999.ckpt'"
      ]
     },
     "execution_count": 51,
     "metadata": {},
     "output_type": "execute_result"
    }
   ],
   "source": [
    "trainer.checkpoint_callback.best_model_path"
   ]
  },
  {
   "cell_type": "code",
   "execution_count": 52,
   "metadata": {},
   "outputs": [
    {
     "name": "stdout",
     "output_type": "stream",
     "text": [
      "0.3\n"
     ]
    }
   ],
   "source": [
    "trained_model = SurfacePredictor.load_from_checkpoint(trainer.checkpoint_callback.best_model_path)\n",
    "trained_model.freeze()"
   ]
  },
  {
   "cell_type": "code",
   "execution_count": 46,
   "metadata": {},
   "outputs": [
    {
     "name": "stdout",
     "output_type": "stream",
     "text": [
      "0.75\n"
     ]
    }
   ],
   "source": []
  },
  {
   "cell_type": "code",
   "execution_count": 53,
   "metadata": {},
   "outputs": [],
   "source": [
    "val_dataset = SurfaceDataset(val_sequences)\n",
    "def predict(dataset, model, w_labels=True):    \n",
    "\n",
    "    predictions = []\n",
    "    labels = []\n",
    "\n",
    "    trained_model.eval()\n",
    "    with torch.no_grad():\n",
    "        for item in tqdm(dataset, desc='iterations'):\n",
    "            sequence = item['sequence']\n",
    "            output = model(sequence.unsqueeze(0))\n",
    "            pred = torch.argmax(output, dim=1)\n",
    "            predictions.append(pred.item())\n",
    "            if w_labels:\n",
    "                label = item['label']\n",
    "                labels.append(label.item())\n",
    "\n",
    "    return predictions, labels\n"
   ]
  },
  {
   "cell_type": "code",
   "execution_count": 54,
   "metadata": {},
   "outputs": [
    {
     "data": {
      "application/vnd.jupyter.widget-view+json": {
       "model_id": "6ff3f1d3de394d329b40e3962388dbcd",
       "version_major": 2,
       "version_minor": 0
      },
      "text/plain": [
       "iterations:   0%|          | 0/762 [00:00<?, ?it/s]"
      ]
     },
     "metadata": {},
     "output_type": "display_data"
    }
   ],
   "source": [
    "predictions, labels =  predict(val_dataset, trained_model, w_labels=True)"
   ]
  },
  {
   "cell_type": "code",
   "execution_count": 57,
   "metadata": {},
   "outputs": [],
   "source": [
    "classes = label_encoder.classes_"
   ]
  },
  {
   "cell_type": "code",
   "execution_count": 59,
   "metadata": {},
   "outputs": [],
   "source": [
    "def show_confusion_matrix(cm):\n",
    "    hmap = sns.heatmap(cm, annot=True, fmt='d', cmap='Blues' )\n",
    "    hmap.yaxis.set_ticklabels(hmap.yaxis.get_ticklabels(), rotation=0, ha='right')\n",
    "    hmap.xaxis.set_ticklabels(hmap.xaxis.get_ticklabels(), rotation=30, ha='right')\n",
    "    plt.ylabel('True Surface')\n",
    "    plt.xlabel('Predicted Surface')"
   ]
  },
  {
   "cell_type": "code",
   "execution_count": 60,
   "metadata": {},
   "outputs": [],
   "source": [
    "def get_report(labels, predictions,classes ):\n",
    "    print(classification_report(labels, predictions, target_names=classes))\n",
    "    cm = confusion_matrix(labels, predictions)\n",
    "    cm_df = pd.DataFrame(cm, index=classes, columns=classes)\n",
    "    show_confusion_matrix(cm_df)"
   ]
  },
  {
   "cell_type": "code",
   "execution_count": 61,
   "metadata": {},
   "outputs": [
    {
     "name": "stdout",
     "output_type": "stream",
     "text": [
      "                        precision    recall  f1-score   support\n",
      "\n",
      "                carpet       0.77      0.70      0.73        47\n",
      "              concrete       0.80      0.83      0.81       172\n",
      "         fine_concrete       0.63      0.49      0.55        65\n",
      "            hard_tiles       0.00      0.00      0.00         5\n",
      "hard_tiles_large_space       0.85      0.81      0.83        63\n",
      "              soft_pvc       0.82      0.87      0.85       141\n",
      "            soft_tiles       0.92      0.92      0.92        63\n",
      "                 tiled       0.70      0.73      0.71        89\n",
      "                  wood       0.68      0.72      0.70       117\n",
      "\n",
      "              accuracy                           0.77       762\n",
      "             macro avg       0.69      0.67      0.68       762\n",
      "          weighted avg       0.77      0.77      0.77       762\n",
      "\n"
     ]
    },
    {
     "data": {
      "image/png": "[encoded data removed]",
      "text/plain": [
       "<Figure size 1008x648 with 2 Axes>"
      ]
     },
     "metadata": {},
     "output_type": "display_data"
    }
   ],
   "source": [
    "get_report(labels, predictions, classes )"
   ]
  },
  {
   "cell_type": "code",
   "execution_count": null,
   "metadata": {},
   "outputs": [],
   "source": []
  },
  {
   "cell_type": "markdown",
   "metadata": {},
   "source": [
    "### Test Predictions "
   ]
  },
  {
   "cell_type": "code",
   "execution_count": 62,
   "metadata": {},
   "outputs": [
    {
     "data": {
      "text/html": [
       "<div>\n",
       "<style scoped>\n",
       "    .dataframe tbody tr th:only-of-type {\n",
       "        vertical-align: middle;\n",
       "    }\n",
       "\n",
       "    .dataframe tbody tr th {\n",
       "        vertical-align: top;\n",
       "    }\n",
       "\n",
       "    .dataframe thead th {\n",
       "        text-align: right;\n",
       "    }\n",
       "</style>\n",
       "<table border=\"1\" class=\"dataframe\">\n",
       "  <thead>\n",
       "    <tr style=\"text-align: right;\">\n",
       "      <th></th>\n",
       "      <th>row_id</th>\n",
       "      <th>series_id</th>\n",
       "      <th>measurement_number</th>\n",
       "      <th>orientation_X</th>\n",
       "      <th>orientation_Y</th>\n",
       "      <th>orientation_Z</th>\n",
       "      <th>orientation_W</th>\n",
       "      <th>angular_velocity_X</th>\n",
       "      <th>angular_velocity_Y</th>\n",
       "      <th>angular_velocity_Z</th>\n",
       "      <th>linear_acceleration_X</th>\n",
       "      <th>linear_acceleration_Y</th>\n",
       "      <th>linear_acceleration_Z</th>\n",
       "    </tr>\n",
       "  </thead>\n",
       "  <tbody>\n",
       "    <tr>\n",
       "      <th>0</th>\n",
       "      <td>0_0</td>\n",
       "      <td>0</td>\n",
       "      <td>0</td>\n",
       "      <td>0.91208</td>\n",
       "      <td>-0.38193</td>\n",
       "      <td>-0.050618</td>\n",
       "      <td>0.14028</td>\n",
       "      <td>-0.060205</td>\n",
       "      <td>0.071286</td>\n",
       "      <td>-0.187870</td>\n",
       "      <td>0.29492</td>\n",
       "      <td>2.8027</td>\n",
       "      <td>-9.6816</td>\n",
       "    </tr>\n",
       "    <tr>\n",
       "      <th>1</th>\n",
       "      <td>0_1</td>\n",
       "      <td>0</td>\n",
       "      <td>1</td>\n",
       "      <td>0.91220</td>\n",
       "      <td>-0.38165</td>\n",
       "      <td>-0.050573</td>\n",
       "      <td>0.14028</td>\n",
       "      <td>-0.033486</td>\n",
       "      <td>0.060210</td>\n",
       "      <td>-0.182060</td>\n",
       "      <td>0.14944</td>\n",
       "      <td>2.5408</td>\n",
       "      <td>-9.8521</td>\n",
       "    </tr>\n",
       "    <tr>\n",
       "      <th>2</th>\n",
       "      <td>0_2</td>\n",
       "      <td>0</td>\n",
       "      <td>2</td>\n",
       "      <td>0.91228</td>\n",
       "      <td>-0.38143</td>\n",
       "      <td>-0.050586</td>\n",
       "      <td>0.14032</td>\n",
       "      <td>-0.029686</td>\n",
       "      <td>0.029476</td>\n",
       "      <td>-0.184410</td>\n",
       "      <td>-0.49741</td>\n",
       "      <td>2.5853</td>\n",
       "      <td>-9.3835</td>\n",
       "    </tr>\n",
       "    <tr>\n",
       "      <th>3</th>\n",
       "      <td>0_3</td>\n",
       "      <td>0</td>\n",
       "      <td>3</td>\n",
       "      <td>0.91237</td>\n",
       "      <td>-0.38121</td>\n",
       "      <td>-0.050588</td>\n",
       "      <td>0.14035</td>\n",
       "      <td>-0.024217</td>\n",
       "      <td>0.037788</td>\n",
       "      <td>-0.187830</td>\n",
       "      <td>-0.32376</td>\n",
       "      <td>2.9966</td>\n",
       "      <td>-8.7415</td>\n",
       "    </tr>\n",
       "    <tr>\n",
       "      <th>4</th>\n",
       "      <td>0_4</td>\n",
       "      <td>0</td>\n",
       "      <td>4</td>\n",
       "      <td>0.91247</td>\n",
       "      <td>-0.38096</td>\n",
       "      <td>-0.050546</td>\n",
       "      <td>0.14042</td>\n",
       "      <td>-0.038047</td>\n",
       "      <td>0.083405</td>\n",
       "      <td>-0.201700</td>\n",
       "      <td>-0.70103</td>\n",
       "      <td>2.6498</td>\n",
       "      <td>-8.8432</td>\n",
       "    </tr>\n",
       "    <tr>\n",
       "      <th>...</th>\n",
       "      <td>...</td>\n",
       "      <td>...</td>\n",
       "      <td>...</td>\n",
       "      <td>...</td>\n",
       "      <td>...</td>\n",
       "      <td>...</td>\n",
       "      <td>...</td>\n",
       "      <td>...</td>\n",
       "      <td>...</td>\n",
       "      <td>...</td>\n",
       "      <td>...</td>\n",
       "      <td>...</td>\n",
       "      <td>...</td>\n",
       "    </tr>\n",
       "    <tr>\n",
       "      <th>488443</th>\n",
       "      <td>3815_123</td>\n",
       "      <td>3815</td>\n",
       "      <td>123</td>\n",
       "      <td>0.89516</td>\n",
       "      <td>-0.42026</td>\n",
       "      <td>-0.056425</td>\n",
       "      <td>0.13744</td>\n",
       "      <td>0.036579</td>\n",
       "      <td>0.008990</td>\n",
       "      <td>-0.008570</td>\n",
       "      <td>0.76537</td>\n",
       "      <td>3.5421</td>\n",
       "      <td>-8.4445</td>\n",
       "    </tr>\n",
       "    <tr>\n",
       "      <th>488444</th>\n",
       "      <td>3815_124</td>\n",
       "      <td>3815</td>\n",
       "      <td>124</td>\n",
       "      <td>0.89517</td>\n",
       "      <td>-0.42025</td>\n",
       "      <td>-0.056391</td>\n",
       "      <td>0.13742</td>\n",
       "      <td>0.022401</td>\n",
       "      <td>0.021198</td>\n",
       "      <td>-0.010905</td>\n",
       "      <td>-0.48107</td>\n",
       "      <td>3.3380</td>\n",
       "      <td>-8.8012</td>\n",
       "    </tr>\n",
       "    <tr>\n",
       "      <th>488445</th>\n",
       "      <td>3815_125</td>\n",
       "      <td>3815</td>\n",
       "      <td>125</td>\n",
       "      <td>0.89521</td>\n",
       "      <td>-0.42019</td>\n",
       "      <td>-0.056343</td>\n",
       "      <td>0.13734</td>\n",
       "      <td>0.033571</td>\n",
       "      <td>0.019868</td>\n",
       "      <td>-0.007203</td>\n",
       "      <td>0.44106</td>\n",
       "      <td>3.2110</td>\n",
       "      <td>-9.3700</td>\n",
       "    </tr>\n",
       "    <tr>\n",
       "      <th>488446</th>\n",
       "      <td>3815_126</td>\n",
       "      <td>3815</td>\n",
       "      <td>126</td>\n",
       "      <td>0.89522</td>\n",
       "      <td>-0.42019</td>\n",
       "      <td>-0.056300</td>\n",
       "      <td>0.13730</td>\n",
       "      <td>0.046988</td>\n",
       "      <td>0.015570</td>\n",
       "      <td>0.001514</td>\n",
       "      <td>-0.25947</td>\n",
       "      <td>2.8634</td>\n",
       "      <td>-9.8546</td>\n",
       "    </tr>\n",
       "    <tr>\n",
       "      <th>488447</th>\n",
       "      <td>3815_127</td>\n",
       "      <td>3815</td>\n",
       "      <td>127</td>\n",
       "      <td>0.89523</td>\n",
       "      <td>-0.42019</td>\n",
       "      <td>-0.056262</td>\n",
       "      <td>0.13723</td>\n",
       "      <td>0.058816</td>\n",
       "      <td>0.006849</td>\n",
       "      <td>-0.003825</td>\n",
       "      <td>0.22418</td>\n",
       "      <td>2.5159</td>\n",
       "      <td>-10.5870</td>\n",
       "    </tr>\n",
       "  </tbody>\n",
       "</table>\n",
       "<p>488448 rows × 13 columns</p>\n",
       "</div>"
      ],
      "text/plain": [
       "          row_id  series_id  ...  linear_acceleration_Y  linear_acceleration_Z\n",
       "0            0_0          0  ...                 2.8027                -9.6816\n",
       "1            0_1          0  ...                 2.5408                -9.8521\n",
       "2            0_2          0  ...                 2.5853                -9.3835\n",
       "3            0_3          0  ...                 2.9966                -8.7415\n",
       "4            0_4          0  ...                 2.6498                -8.8432\n",
       "...          ...        ...  ...                    ...                    ...\n",
       "488443  3815_123       3815  ...                 3.5421                -8.4445\n",
       "488444  3815_124       3815  ...                 3.3380                -8.8012\n",
       "488445  3815_125       3815  ...                 3.2110                -9.3700\n",
       "488446  3815_126       3815  ...                 2.8634                -9.8546\n",
       "488447  3815_127       3815  ...                 2.5159               -10.5870\n",
       "\n",
       "[488448 rows x 13 columns]"
      ]
     },
     "execution_count": 62,
     "metadata": {},
     "output_type": "execute_result"
    }
   ],
   "source": [
    "#load data\n",
    "x_test = pd.read_csv('./data/raw/X_test.csv', low_memory=False)\n",
    "x_test\n"
   ]
  },
  {
   "cell_type": "code",
   "execution_count": 63,
   "metadata": {},
   "outputs": [
    {
     "data": {
      "text/html": [
       "<div>\n",
       "<style scoped>\n",
       "    .dataframe tbody tr th:only-of-type {\n",
       "        vertical-align: middle;\n",
       "    }\n",
       "\n",
       "    .dataframe tbody tr th {\n",
       "        vertical-align: top;\n",
       "    }\n",
       "\n",
       "    .dataframe thead th {\n",
       "        text-align: right;\n",
       "    }\n",
       "</style>\n",
       "<table border=\"1\" class=\"dataframe\">\n",
       "  <thead>\n",
       "    <tr style=\"text-align: right;\">\n",
       "      <th></th>\n",
       "      <th>orientation_X</th>\n",
       "      <th>orientation_Y</th>\n",
       "      <th>orientation_Z</th>\n",
       "      <th>orientation_W</th>\n",
       "      <th>angular_velocity_X</th>\n",
       "      <th>angular_velocity_Y</th>\n",
       "      <th>angular_velocity_Z</th>\n",
       "      <th>linear_acceleration_X</th>\n",
       "      <th>linear_acceleration_Y</th>\n",
       "      <th>linear_acceleration_Z</th>\n",
       "    </tr>\n",
       "  </thead>\n",
       "  <tbody>\n",
       "    <tr>\n",
       "      <th>0</th>\n",
       "      <td>0.91208</td>\n",
       "      <td>-0.38193</td>\n",
       "      <td>-0.050618</td>\n",
       "      <td>0.14028</td>\n",
       "      <td>-0.060205</td>\n",
       "      <td>0.071286</td>\n",
       "      <td>-0.18787</td>\n",
       "      <td>0.29492</td>\n",
       "      <td>2.8027</td>\n",
       "      <td>-9.6816</td>\n",
       "    </tr>\n",
       "    <tr>\n",
       "      <th>1</th>\n",
       "      <td>0.91220</td>\n",
       "      <td>-0.38165</td>\n",
       "      <td>-0.050573</td>\n",
       "      <td>0.14028</td>\n",
       "      <td>-0.033486</td>\n",
       "      <td>0.060210</td>\n",
       "      <td>-0.18206</td>\n",
       "      <td>0.14944</td>\n",
       "      <td>2.5408</td>\n",
       "      <td>-9.8521</td>\n",
       "    </tr>\n",
       "    <tr>\n",
       "      <th>2</th>\n",
       "      <td>0.91228</td>\n",
       "      <td>-0.38143</td>\n",
       "      <td>-0.050586</td>\n",
       "      <td>0.14032</td>\n",
       "      <td>-0.029686</td>\n",
       "      <td>0.029476</td>\n",
       "      <td>-0.18441</td>\n",
       "      <td>-0.49741</td>\n",
       "      <td>2.5853</td>\n",
       "      <td>-9.3835</td>\n",
       "    </tr>\n",
       "    <tr>\n",
       "      <th>3</th>\n",
       "      <td>0.91237</td>\n",
       "      <td>-0.38121</td>\n",
       "      <td>-0.050588</td>\n",
       "      <td>0.14035</td>\n",
       "      <td>-0.024217</td>\n",
       "      <td>0.037788</td>\n",
       "      <td>-0.18783</td>\n",
       "      <td>-0.32376</td>\n",
       "      <td>2.9966</td>\n",
       "      <td>-8.7415</td>\n",
       "    </tr>\n",
       "    <tr>\n",
       "      <th>4</th>\n",
       "      <td>0.91247</td>\n",
       "      <td>-0.38096</td>\n",
       "      <td>-0.050546</td>\n",
       "      <td>0.14042</td>\n",
       "      <td>-0.038047</td>\n",
       "      <td>0.083405</td>\n",
       "      <td>-0.20170</td>\n",
       "      <td>-0.70103</td>\n",
       "      <td>2.6498</td>\n",
       "      <td>-8.8432</td>\n",
       "    </tr>\n",
       "    <tr>\n",
       "      <th>...</th>\n",
       "      <td>...</td>\n",
       "      <td>...</td>\n",
       "      <td>...</td>\n",
       "      <td>...</td>\n",
       "      <td>...</td>\n",
       "      <td>...</td>\n",
       "      <td>...</td>\n",
       "      <td>...</td>\n",
       "      <td>...</td>\n",
       "      <td>...</td>\n",
       "    </tr>\n",
       "    <tr>\n",
       "      <th>123</th>\n",
       "      <td>0.92745</td>\n",
       "      <td>-0.34256</td>\n",
       "      <td>-0.044737</td>\n",
       "      <td>0.14314</td>\n",
       "      <td>-0.042345</td>\n",
       "      <td>0.110970</td>\n",
       "      <td>-0.28062</td>\n",
       "      <td>-1.61520</td>\n",
       "      <td>3.9206</td>\n",
       "      <td>-9.7290</td>\n",
       "    </tr>\n",
       "    <tr>\n",
       "      <th>124</th>\n",
       "      <td>0.92757</td>\n",
       "      <td>-0.34221</td>\n",
       "      <td>-0.044644</td>\n",
       "      <td>0.14323</td>\n",
       "      <td>-0.037892</td>\n",
       "      <td>0.137240</td>\n",
       "      <td>-0.27835</td>\n",
       "      <td>0.14804</td>\n",
       "      <td>4.4519</td>\n",
       "      <td>-9.1428</td>\n",
       "    </tr>\n",
       "    <tr>\n",
       "      <th>125</th>\n",
       "      <td>0.92772</td>\n",
       "      <td>-0.34179</td>\n",
       "      <td>-0.044559</td>\n",
       "      <td>0.14332</td>\n",
       "      <td>-0.022882</td>\n",
       "      <td>0.140620</td>\n",
       "      <td>-0.27047</td>\n",
       "      <td>-1.20300</td>\n",
       "      <td>3.7139</td>\n",
       "      <td>-8.6641</td>\n",
       "    </tr>\n",
       "    <tr>\n",
       "      <th>126</th>\n",
       "      <td>0.92784</td>\n",
       "      <td>-0.34143</td>\n",
       "      <td>-0.044497</td>\n",
       "      <td>0.14338</td>\n",
       "      <td>-0.024329</td>\n",
       "      <td>0.106640</td>\n",
       "      <td>-0.28700</td>\n",
       "      <td>-0.30051</td>\n",
       "      <td>4.0866</td>\n",
       "      <td>-8.6810</td>\n",
       "    </tr>\n",
       "    <tr>\n",
       "      <th>127</th>\n",
       "      <td>0.92796</td>\n",
       "      <td>-0.34109</td>\n",
       "      <td>-0.044415</td>\n",
       "      <td>0.14348</td>\n",
       "      <td>-0.047562</td>\n",
       "      <td>0.131170</td>\n",
       "      <td>-0.27504</td>\n",
       "      <td>0.16446</td>\n",
       "      <td>4.8799</td>\n",
       "      <td>-8.3075</td>\n",
       "    </tr>\n",
       "  </tbody>\n",
       "</table>\n",
       "<p>128 rows × 10 columns</p>\n",
       "</div>"
      ],
      "text/plain": [
       "     orientation_X  orientation_Y  ...  linear_acceleration_Y  linear_acceleration_Z\n",
       "0          0.91208       -0.38193  ...                 2.8027                -9.6816\n",
       "1          0.91220       -0.38165  ...                 2.5408                -9.8521\n",
       "2          0.91228       -0.38143  ...                 2.5853                -9.3835\n",
       "3          0.91237       -0.38121  ...                 2.9966                -8.7415\n",
       "4          0.91247       -0.38096  ...                 2.6498                -8.8432\n",
       "..             ...            ...  ...                    ...                    ...\n",
       "123        0.92745       -0.34256  ...                 3.9206                -9.7290\n",
       "124        0.92757       -0.34221  ...                 4.4519                -9.1428\n",
       "125        0.92772       -0.34179  ...                 3.7139                -8.6641\n",
       "126        0.92784       -0.34143  ...                 4.0866                -8.6810\n",
       "127        0.92796       -0.34109  ...                 4.8799                -8.3075\n",
       "\n",
       "[128 rows x 10 columns]"
      ]
     },
     "execution_count": 63,
     "metadata": {},
     "output_type": "execute_result"
    }
   ],
   "source": [
    "test_sequences = get_sequences(x_test, test=True)\n",
    "test_sequences[0]"
   ]
  },
  {
   "cell_type": "code",
   "execution_count": 64,
   "metadata": {},
   "outputs": [
    {
     "data": {
      "text/plain": [
       "3816"
      ]
     },
     "execution_count": 64,
     "metadata": {},
     "output_type": "execute_result"
    }
   ],
   "source": [
    "test_dataset = SurfaceDataset(test_sequences, w_labels=False)\n",
    "len(test_dataset)"
   ]
  },
  {
   "cell_type": "code",
   "execution_count": 66,
   "metadata": {},
   "outputs": [
    {
     "data": {
      "application/vnd.jupyter.widget-view+json": {
       "model_id": "0faa4ca0bc44433c808fdf8ef76a5472",
       "version_major": 2,
       "version_minor": 0
      },
      "text/plain": [
       "iterations:   0%|          | 0/3816 [00:00<?, ?it/s]"
      ]
     },
     "metadata": {},
     "output_type": "display_data"
    }
   ],
   "source": [
    "predictions, _ = predict(test_dataset, trained_model, w_labels=False)"
   ]
  },
  {
   "cell_type": "code",
   "execution_count": 67,
   "metadata": {},
   "outputs": [
    {
     "data": {
      "text/plain": [
       "3816"
      ]
     },
     "execution_count": 67,
     "metadata": {},
     "output_type": "execute_result"
    }
   ],
   "source": [
    "len(predictions)"
   ]
  },
  {
   "cell_type": "code",
   "execution_count": 68,
   "metadata": {},
   "outputs": [
    {
     "data": {
      "text/plain": [
       "(3816, array([   0,    1,    2, ..., 3813, 3814, 3815]))"
      ]
     },
     "execution_count": 68,
     "metadata": {},
     "output_type": "execute_result"
    }
   ],
   "source": [
    "series_ids= x_test.series_id.unique()\n",
    "len(series_ids), series_ids"
   ]
  },
  {
   "cell_type": "code",
   "execution_count": 69,
   "metadata": {},
   "outputs": [],
   "source": [
    "surfaces = [label_encoder.classes_[i] for i in predictions]"
   ]
  },
  {
   "cell_type": "code",
   "execution_count": 70,
   "metadata": {},
   "outputs": [
    {
     "data": {
      "text/html": [
       "<div>\n",
       "<style scoped>\n",
       "    .dataframe tbody tr th:only-of-type {\n",
       "        vertical-align: middle;\n",
       "    }\n",
       "\n",
       "    .dataframe tbody tr th {\n",
       "        vertical-align: top;\n",
       "    }\n",
       "\n",
       "    .dataframe thead th {\n",
       "        text-align: right;\n",
       "    }\n",
       "</style>\n",
       "<table border=\"1\" class=\"dataframe\">\n",
       "  <thead>\n",
       "    <tr style=\"text-align: right;\">\n",
       "      <th></th>\n",
       "      <th>series_id</th>\n",
       "      <th>surface</th>\n",
       "    </tr>\n",
       "  </thead>\n",
       "  <tbody>\n",
       "    <tr>\n",
       "      <th>0</th>\n",
       "      <td>0</td>\n",
       "      <td>soft_tiles</td>\n",
       "    </tr>\n",
       "    <tr>\n",
       "      <th>1</th>\n",
       "      <td>1</td>\n",
       "      <td>wood</td>\n",
       "    </tr>\n",
       "    <tr>\n",
       "      <th>2</th>\n",
       "      <td>2</td>\n",
       "      <td>fine_concrete</td>\n",
       "    </tr>\n",
       "    <tr>\n",
       "      <th>3</th>\n",
       "      <td>3</td>\n",
       "      <td>wood</td>\n",
       "    </tr>\n",
       "    <tr>\n",
       "      <th>4</th>\n",
       "      <td>4</td>\n",
       "      <td>concrete</td>\n",
       "    </tr>\n",
       "    <tr>\n",
       "      <th>...</th>\n",
       "      <td>...</td>\n",
       "      <td>...</td>\n",
       "    </tr>\n",
       "    <tr>\n",
       "      <th>3811</th>\n",
       "      <td>3811</td>\n",
       "      <td>concrete</td>\n",
       "    </tr>\n",
       "    <tr>\n",
       "      <th>3812</th>\n",
       "      <td>3812</td>\n",
       "      <td>tiled</td>\n",
       "    </tr>\n",
       "    <tr>\n",
       "      <th>3813</th>\n",
       "      <td>3813</td>\n",
       "      <td>carpet</td>\n",
       "    </tr>\n",
       "    <tr>\n",
       "      <th>3814</th>\n",
       "      <td>3814</td>\n",
       "      <td>soft_tiles</td>\n",
       "    </tr>\n",
       "    <tr>\n",
       "      <th>3815</th>\n",
       "      <td>3815</td>\n",
       "      <td>soft_pvc</td>\n",
       "    </tr>\n",
       "  </tbody>\n",
       "</table>\n",
       "<p>3816 rows × 2 columns</p>\n",
       "</div>"
      ],
      "text/plain": [
       "      series_id        surface\n",
       "0             0     soft_tiles\n",
       "1             1           wood\n",
       "2             2  fine_concrete\n",
       "3             3           wood\n",
       "4             4       concrete\n",
       "...         ...            ...\n",
       "3811       3811       concrete\n",
       "3812       3812          tiled\n",
       "3813       3813         carpet\n",
       "3814       3814     soft_tiles\n",
       "3815       3815       soft_pvc\n",
       "\n",
       "[3816 rows x 2 columns]"
      ]
     },
     "execution_count": 70,
     "metadata": {},
     "output_type": "execute_result"
    }
   ],
   "source": [
    "sub = pd.DataFrame({'series_id':series_ids ,'surface': surfaces})\n",
    "sub.to_csv('03_submission.csv', index=False)\n",
    "sub"
   ]
  },
  {
   "cell_type": "code",
   "execution_count": 71,
   "metadata": {},
   "outputs": [
    {
     "name": "stderr",
     "output_type": "stream",
     "text": [
      "100%|██████████| 52.4k/52.4k [00:01<00:00, 39.0kB/s]\n"
     ]
    },
    {
     "data": {
      "text/plain": [
       "Successfully submitted to CareerCon 2019 - Help Navigate Robots "
      ]
     },
     "execution_count": 71,
     "metadata": {},
     "output_type": "execute_result"
    }
   ],
   "source": [
    "api.competition_submit_cli('03_submission.csv', 'after hyperparameter tuning', 'career-con-2019')"
   ]
  },
  {
   "cell_type": "code",
   "execution_count": null,
   "metadata": {},
   "outputs": [],
   "source": []
  },
  {
   "cell_type": "markdown",
   "metadata": {},
   "source": [
    "### Train with all data"
   ]
  },
  {
   "cell_type": "code",
   "execution_count": 76,
   "metadata": {},
   "outputs": [
    {
     "name": "stderr",
     "output_type": "stream",
     "text": [
      "Using 16bit native Automatic Mixed Precision (AMP)\n",
      "GPU available: True, used: True\n",
      "TPU available: False, using: 0 TPU cores\n",
      "IPU available: False, using: 0 IPUs\n",
      "LOCAL_RANK: 0 - CUDA_VISIBLE_DEVICES: [0]\n"
     ]
    },
    {
     "name": "stdout",
     "output_type": "stream",
     "text": [
      "0.3\n"
     ]
    },
    {
     "data": {
      "text/html": [
       "\n",
       "                    Syncing run <strong><a href=\"https://wandb.ai/phade160/surface_pred/runs/1ezf2avg\" target=\"_blank\">run_5-all_data</a></strong> to <a href=\"https://wandb.ai/phade160/surface_pred\" target=\"_blank\">Weights & Biases</a> (<a href=\"https://docs.wandb.com/integrations/jupyter.html\" target=\"_blank\">docs</a>).<br/>\n",
       "\n",
       "                "
      ],
      "text/plain": [
       "<IPython.core.display.HTML object>"
      ]
     },
     "metadata": {},
     "output_type": "display_data"
    },
    {
     "name": "stderr",
     "output_type": "stream",
     "text": [
      "\n",
      "  | Name      | Type             | Params\n",
      "-----------------------------------------------\n",
      "0 | model     | SurfaceModel     | 1.3 M \n",
      "1 | criterion | CrossEntropyLoss | 0     \n",
      "2 | train_ac  | Accuracy         | 0     \n",
      "3 | val_ac    | Accuracy         | 0     \n",
      "-----------------------------------------------\n",
      "1.3 M     Trainable params\n",
      "0         Non-trainable params\n",
      "1.3 M     Total params\n",
      "2.659     Total estimated model params size (MB)\n"
     ]
    },
    {
     "data": {
      "application/vnd.jupyter.widget-view+json": {
       "model_id": "6e47fbc05a634900b30d83d9a918ea51",
       "version_major": 2,
       "version_minor": 0
      },
      "text/plain": [
       "Validation sanity check: 0it [00:00, ?it/s]"
      ]
     },
     "metadata": {},
     "output_type": "display_data"
    },
    {
     "name": "stderr",
     "output_type": "stream",
     "text": [
      "/usr/local/lib/python3.7/dist-packages/pytorch_lightning/trainer/data_loading.py:133: UserWarning: The dataloader, val_dataloader 0, does not have many workers which may be a bottleneck. Consider increasing the value of the `num_workers` argument` (try 4 which is the number of cpus on this machine) in the `DataLoader` init to improve performance.\n",
      "  f\"The dataloader, {name}, does not have many workers which may be a bottleneck.\"\n",
      "Global seed set to 42\n"
     ]
    },
    {
     "data": {
      "application/vnd.jupyter.widget-view+json": {
       "model_id": "d87e4f495bb44115ad1241b931bfadb9",
       "version_major": 2,
       "version_minor": 0
      },
      "text/plain": [
       "Training: 0it [00:00, ?it/s]"
      ]
     },
     "metadata": {},
     "output_type": "display_data"
    },
    {
     "data": {
      "application/vnd.jupyter.widget-view+json": {
       "model_id": "24f8d8787c4a475ba9e33b75639eced6",
       "version_major": 2,
       "version_minor": 0
      },
      "text/plain": [
       "Validating: 0it [00:00, ?it/s]"
      ]
     },
     "metadata": {},
     "output_type": "display_data"
    },
    {
     "data": {
      "application/vnd.jupyter.widget-view+json": {
       "model_id": "0b3cba5f54dc44e9a6d1274f191d2f5f",
       "version_major": 2,
       "version_minor": 0
      },
      "text/plain": [
       "Validating: 0it [00:00, ?it/s]"
      ]
     },
     "metadata": {},
     "output_type": "display_data"
    },
    {
     "data": {
      "application/vnd.jupyter.widget-view+json": {
       "model_id": "ae3af0964a1b472b8faa19e5e97ae88a",
       "version_major": 2,
       "version_minor": 0
      },
      "text/plain": [
       "Validating: 0it [00:00, ?it/s]"
      ]
     },
     "metadata": {},
     "output_type": "display_data"
    },
    {
     "data": {
      "application/vnd.jupyter.widget-view+json": {
       "model_id": "3bd6cf1cee9f429dbf0d65c32aaff11e",
       "version_major": 2,
       "version_minor": 0
      },
      "text/plain": [
       "Validating: 0it [00:00, ?it/s]"
      ]
     },
     "metadata": {},
     "output_type": "display_data"
    },
    {
     "data": {
      "application/vnd.jupyter.widget-view+json": {
       "model_id": "6df3c6518de54a6cacdb6b8a408ed363",
       "version_major": 2,
       "version_minor": 0
      },
      "text/plain": [
       "Validating: 0it [00:00, ?it/s]"
      ]
     },
     "metadata": {},
     "output_type": "display_data"
    },
    {
     "data": {
      "application/vnd.jupyter.widget-view+json": {
       "model_id": "5ef26753b8fc4c3fbd9598f2d10bd8c9",
       "version_major": 2,
       "version_minor": 0
      },
      "text/plain": [
       "Validating: 0it [00:00, ?it/s]"
      ]
     },
     "metadata": {},
     "output_type": "display_data"
    },
    {
     "data": {
      "application/vnd.jupyter.widget-view+json": {
       "model_id": "678a0353de8b44428f3073b1248c0a83",
       "version_major": 2,
       "version_minor": 0
      },
      "text/plain": [
       "Validating: 0it [00:00, ?it/s]"
      ]
     },
     "metadata": {},
     "output_type": "display_data"
    },
    {
     "data": {
      "application/vnd.jupyter.widget-view+json": {
       "model_id": "9a41f5241f7743369f131383efc79a8f",
       "version_major": 2,
       "version_minor": 0
      },
      "text/plain": [
       "Validating: 0it [00:00, ?it/s]"
      ]
     },
     "metadata": {},
     "output_type": "display_data"
    },
    {
     "data": {
      "application/vnd.jupyter.widget-view+json": {
       "model_id": "b66ce8760ae34378a8bf71e715ac6c3d",
       "version_major": 2,
       "version_minor": 0
      },
      "text/plain": [
       "Validating: 0it [00:00, ?it/s]"
      ]
     },
     "metadata": {},
     "output_type": "display_data"
    },
    {
     "data": {
      "application/vnd.jupyter.widget-view+json": {
       "model_id": "a1a8d7b5c8c24e2b8751c04e1916af02",
       "version_major": 2,
       "version_minor": 0
      },
      "text/plain": [
       "Validating: 0it [00:00, ?it/s]"
      ]
     },
     "metadata": {},
     "output_type": "display_data"
    },
    {
     "data": {
      "application/vnd.jupyter.widget-view+json": {
       "model_id": "fb125d69eaa04c8bbb26836ed604fc71",
       "version_major": 2,
       "version_minor": 0
      },
      "text/plain": [
       "Validating: 0it [00:00, ?it/s]"
      ]
     },
     "metadata": {},
     "output_type": "display_data"
    },
    {
     "data": {
      "application/vnd.jupyter.widget-view+json": {
       "model_id": "91fea3324ae14135b1ce57c4f528b63b",
       "version_major": 2,
       "version_minor": 0
      },
      "text/plain": [
       "Validating: 0it [00:00, ?it/s]"
      ]
     },
     "metadata": {},
     "output_type": "display_data"
    },
    {
     "data": {
      "application/vnd.jupyter.widget-view+json": {
       "model_id": "1293f0d6cd77426984c7e1f45b401e1d",
       "version_major": 2,
       "version_minor": 0
      },
      "text/plain": [
       "Validating: 0it [00:00, ?it/s]"
      ]
     },
     "metadata": {},
     "output_type": "display_data"
    },
    {
     "data": {
      "application/vnd.jupyter.widget-view+json": {
       "model_id": "9fcdc20ace2e425b80b1d1cf91c475dd",
       "version_major": 2,
       "version_minor": 0
      },
      "text/plain": [
       "Validating: 0it [00:00, ?it/s]"
      ]
     },
     "metadata": {},
     "output_type": "display_data"
    },
    {
     "data": {
      "application/vnd.jupyter.widget-view+json": {
       "model_id": "1db59cff548345178023563280a3e8b8",
       "version_major": 2,
       "version_minor": 0
      },
      "text/plain": [
       "Validating: 0it [00:00, ?it/s]"
      ]
     },
     "metadata": {},
     "output_type": "display_data"
    },
    {
     "data": {
      "application/vnd.jupyter.widget-view+json": {
       "model_id": "73dff8cef56747e88d2a48acb2c1312f",
       "version_major": 2,
       "version_minor": 0
      },
      "text/plain": [
       "Validating: 0it [00:00, ?it/s]"
      ]
     },
     "metadata": {},
     "output_type": "display_data"
    },
    {
     "data": {
      "application/vnd.jupyter.widget-view+json": {
       "model_id": "f064b56a1c64403692c9124075f6218b",
       "version_major": 2,
       "version_minor": 0
      },
      "text/plain": [
       "Validating: 0it [00:00, ?it/s]"
      ]
     },
     "metadata": {},
     "output_type": "display_data"
    },
    {
     "data": {
      "application/vnd.jupyter.widget-view+json": {
       "model_id": "14b415b739a54f9c87162bbf2e6ddfd6",
       "version_major": 2,
       "version_minor": 0
      },
      "text/plain": [
       "Validating: 0it [00:00, ?it/s]"
      ]
     },
     "metadata": {},
     "output_type": "display_data"
    },
    {
     "data": {
      "application/vnd.jupyter.widget-view+json": {
       "model_id": "864e82887cc640c5acd41f05800cc58f",
       "version_major": 2,
       "version_minor": 0
      },
      "text/plain": [
       "Validating: 0it [00:00, ?it/s]"
      ]
     },
     "metadata": {},
     "output_type": "display_data"
    },
    {
     "data": {
      "application/vnd.jupyter.widget-view+json": {
       "model_id": "c918acd5a4fb4c75b63c75e13ce452a0",
       "version_major": 2,
       "version_minor": 0
      },
      "text/plain": [
       "Validating: 0it [00:00, ?it/s]"
      ]
     },
     "metadata": {},
     "output_type": "display_data"
    },
    {
     "data": {
      "application/vnd.jupyter.widget-view+json": {
       "model_id": "358ecb705f70494eb8006d5039477755",
       "version_major": 2,
       "version_minor": 0
      },
      "text/plain": [
       "Validating: 0it [00:00, ?it/s]"
      ]
     },
     "metadata": {},
     "output_type": "display_data"
    },
    {
     "data": {
      "application/vnd.jupyter.widget-view+json": {
       "model_id": "294be216e0dd4707a9f99d372d36ebde",
       "version_major": 2,
       "version_minor": 0
      },
      "text/plain": [
       "Validating: 0it [00:00, ?it/s]"
      ]
     },
     "metadata": {},
     "output_type": "display_data"
    },
    {
     "data": {
      "application/vnd.jupyter.widget-view+json": {
       "model_id": "f92a81ba83af4cef8ca278cb7da36631",
       "version_major": 2,
       "version_minor": 0
      },
      "text/plain": [
       "Validating: 0it [00:00, ?it/s]"
      ]
     },
     "metadata": {},
     "output_type": "display_data"
    },
    {
     "data": {
      "application/vnd.jupyter.widget-view+json": {
       "model_id": "9d1199856d464229b4d9d0d54cd7b196",
       "version_major": 2,
       "version_minor": 0
      },
      "text/plain": [
       "Validating: 0it [00:00, ?it/s]"
      ]
     },
     "metadata": {},
     "output_type": "display_data"
    },
    {
     "data": {
      "application/vnd.jupyter.widget-view+json": {
       "model_id": "8bd55b4fe8fe4153869005869edfc4cd",
       "version_major": 2,
       "version_minor": 0
      },
      "text/plain": [
       "Validating: 0it [00:00, ?it/s]"
      ]
     },
     "metadata": {},
     "output_type": "display_data"
    },
    {
     "data": {
      "application/vnd.jupyter.widget-view+json": {
       "model_id": "d489060a8cff401f9bbd7353838cc742",
       "version_major": 2,
       "version_minor": 0
      },
      "text/plain": [
       "Validating: 0it [00:00, ?it/s]"
      ]
     },
     "metadata": {},
     "output_type": "display_data"
    },
    {
     "data": {
      "application/vnd.jupyter.widget-view+json": {
       "model_id": "ccae75326c03447d8b64326b7ce37215",
       "version_major": 2,
       "version_minor": 0
      },
      "text/plain": [
       "Validating: 0it [00:00, ?it/s]"
      ]
     },
     "metadata": {},
     "output_type": "display_data"
    },
    {
     "data": {
      "application/vnd.jupyter.widget-view+json": {
       "model_id": "45b887360a654a5e9e58bb4ce12c2ad6",
       "version_major": 2,
       "version_minor": 0
      },
      "text/plain": [
       "Validating: 0it [00:00, ?it/s]"
      ]
     },
     "metadata": {},
     "output_type": "display_data"
    },
    {
     "data": {
      "application/vnd.jupyter.widget-view+json": {
       "model_id": "74b8545c4bf44c3ba08c1f90cc49f9e6",
       "version_major": 2,
       "version_minor": 0
      },
      "text/plain": [
       "Validating: 0it [00:00, ?it/s]"
      ]
     },
     "metadata": {},
     "output_type": "display_data"
    },
    {
     "data": {
      "application/vnd.jupyter.widget-view+json": {
       "model_id": "177c6df451c04c249bd1f5c2ca64c80c",
       "version_major": 2,
       "version_minor": 0
      },
      "text/plain": [
       "Validating: 0it [00:00, ?it/s]"
      ]
     },
     "metadata": {},
     "output_type": "display_data"
    },
    {
     "data": {
      "application/vnd.jupyter.widget-view+json": {
       "model_id": "ae5b87eb38bc45ae99ba123cfeca32d2",
       "version_major": 2,
       "version_minor": 0
      },
      "text/plain": [
       "Validating: 0it [00:00, ?it/s]"
      ]
     },
     "metadata": {},
     "output_type": "display_data"
    },
    {
     "data": {
      "application/vnd.jupyter.widget-view+json": {
       "model_id": "0eab89932ee44ffe8dbf2433b6d0f374",
       "version_major": 2,
       "version_minor": 0
      },
      "text/plain": [
       "Validating: 0it [00:00, ?it/s]"
      ]
     },
     "metadata": {},
     "output_type": "display_data"
    },
    {
     "data": {
      "application/vnd.jupyter.widget-view+json": {
       "model_id": "d31c22d75ac74319ae9418d9d470dbdd",
       "version_major": 2,
       "version_minor": 0
      },
      "text/plain": [
       "Validating: 0it [00:00, ?it/s]"
      ]
     },
     "metadata": {},
     "output_type": "display_data"
    },
    {
     "data": {
      "application/vnd.jupyter.widget-view+json": {
       "model_id": "55bf309d8f3a48c2bc41901168108d04",
       "version_major": 2,
       "version_minor": 0
      },
      "text/plain": [
       "Validating: 0it [00:00, ?it/s]"
      ]
     },
     "metadata": {},
     "output_type": "display_data"
    },
    {
     "data": {
      "application/vnd.jupyter.widget-view+json": {
       "model_id": "5327fa413a9d4f1db185b2a11828be5d",
       "version_major": 2,
       "version_minor": 0
      },
      "text/plain": [
       "Validating: 0it [00:00, ?it/s]"
      ]
     },
     "metadata": {},
     "output_type": "display_data"
    },
    {
     "data": {
      "application/vnd.jupyter.widget-view+json": {
       "model_id": "e52fcc49f6f14d11af61e07ca29c37d5",
       "version_major": 2,
       "version_minor": 0
      },
      "text/plain": [
       "Validating: 0it [00:00, ?it/s]"
      ]
     },
     "metadata": {},
     "output_type": "display_data"
    },
    {
     "data": {
      "application/vnd.jupyter.widget-view+json": {
       "model_id": "76d47bc2d45f4f46a74c1a1ab45a3645",
       "version_major": 2,
       "version_minor": 0
      },
      "text/plain": [
       "Validating: 0it [00:00, ?it/s]"
      ]
     },
     "metadata": {},
     "output_type": "display_data"
    },
    {
     "data": {
      "application/vnd.jupyter.widget-view+json": {
       "model_id": "8c77bae9e2ca4c3bb7bdabf7eb915c0b",
       "version_major": 2,
       "version_minor": 0
      },
      "text/plain": [
       "Validating: 0it [00:00, ?it/s]"
      ]
     },
     "metadata": {},
     "output_type": "display_data"
    },
    {
     "data": {
      "application/vnd.jupyter.widget-view+json": {
       "model_id": "3d19fc31bbc94885895af92437ff0691",
       "version_major": 2,
       "version_minor": 0
      },
      "text/plain": [
       "Validating: 0it [00:00, ?it/s]"
      ]
     },
     "metadata": {},
     "output_type": "display_data"
    },
    {
     "data": {
      "application/vnd.jupyter.widget-view+json": {
       "model_id": "6446217f8d724150a5909c275ac11445",
       "version_major": 2,
       "version_minor": 0
      },
      "text/plain": [
       "Validating: 0it [00:00, ?it/s]"
      ]
     },
     "metadata": {},
     "output_type": "display_data"
    },
    {
     "data": {
      "application/vnd.jupyter.widget-view+json": {
       "model_id": "135ad1cf2631437da995af79faf872a6",
       "version_major": 2,
       "version_minor": 0
      },
      "text/plain": [
       "Validating: 0it [00:00, ?it/s]"
      ]
     },
     "metadata": {},
     "output_type": "display_data"
    },
    {
     "data": {
      "application/vnd.jupyter.widget-view+json": {
       "model_id": "4a95e6578fbd4466b24e0e7b62920899",
       "version_major": 2,
       "version_minor": 0
      },
      "text/plain": [
       "Validating: 0it [00:00, ?it/s]"
      ]
     },
     "metadata": {},
     "output_type": "display_data"
    },
    {
     "data": {
      "application/vnd.jupyter.widget-view+json": {
       "model_id": "308e2218ed37416b9d595396ea92f8ed",
       "version_major": 2,
       "version_minor": 0
      },
      "text/plain": [
       "Validating: 0it [00:00, ?it/s]"
      ]
     },
     "metadata": {},
     "output_type": "display_data"
    },
    {
     "data": {
      "application/vnd.jupyter.widget-view+json": {
       "model_id": "e596e290c994482ab562864e4c4fba27",
       "version_major": 2,
       "version_minor": 0
      },
      "text/plain": [
       "Validating: 0it [00:00, ?it/s]"
      ]
     },
     "metadata": {},
     "output_type": "display_data"
    },
    {
     "data": {
      "application/vnd.jupyter.widget-view+json": {
       "model_id": "72ebd2646bb14b49a15d2a1c8f61758c",
       "version_major": 2,
       "version_minor": 0
      },
      "text/plain": [
       "Validating: 0it [00:00, ?it/s]"
      ]
     },
     "metadata": {},
     "output_type": "display_data"
    },
    {
     "data": {
      "application/vnd.jupyter.widget-view+json": {
       "model_id": "381d9e9dba244b988a0742c192c1e2ba",
       "version_major": 2,
       "version_minor": 0
      },
      "text/plain": [
       "Validating: 0it [00:00, ?it/s]"
      ]
     },
     "metadata": {},
     "output_type": "display_data"
    },
    {
     "data": {
      "application/vnd.jupyter.widget-view+json": {
       "model_id": "18cb2d029bef45ae8337ff8a58b43133",
       "version_major": 2,
       "version_minor": 0
      },
      "text/plain": [
       "Validating: 0it [00:00, ?it/s]"
      ]
     },
     "metadata": {},
     "output_type": "display_data"
    },
    {
     "data": {
      "application/vnd.jupyter.widget-view+json": {
       "model_id": "11b7769b672d470188f186184f7ad97c",
       "version_major": 2,
       "version_minor": 0
      },
      "text/plain": [
       "Validating: 0it [00:00, ?it/s]"
      ]
     },
     "metadata": {},
     "output_type": "display_data"
    },
    {
     "data": {
      "application/vnd.jupyter.widget-view+json": {
       "model_id": "8357b3f1551f45eebb24078ebb1a8092",
       "version_major": 2,
       "version_minor": 0
      },
      "text/plain": [
       "Validating: 0it [00:00, ?it/s]"
      ]
     },
     "metadata": {},
     "output_type": "display_data"
    },
    {
     "data": {
      "application/vnd.jupyter.widget-view+json": {
       "model_id": "bfc41021079a4d51aba49ba6d8d06a67",
       "version_major": 2,
       "version_minor": 0
      },
      "text/plain": [
       "Validating: 0it [00:00, ?it/s]"
      ]
     },
     "metadata": {},
     "output_type": "display_data"
    },
    {
     "data": {
      "application/vnd.jupyter.widget-view+json": {
       "model_id": "bc54f7ec61dc4ec69a7d571618461681",
       "version_major": 2,
       "version_minor": 0
      },
      "text/plain": [
       "Validating: 0it [00:00, ?it/s]"
      ]
     },
     "metadata": {},
     "output_type": "display_data"
    },
    {
     "data": {
      "application/vnd.jupyter.widget-view+json": {
       "model_id": "b869a39033e54f47bd7d475985c343f1",
       "version_major": 2,
       "version_minor": 0
      },
      "text/plain": [
       "Validating: 0it [00:00, ?it/s]"
      ]
     },
     "metadata": {},
     "output_type": "display_data"
    },
    {
     "data": {
      "application/vnd.jupyter.widget-view+json": {
       "model_id": "4f9f32c4a0094a9698e8e771db2f8c86",
       "version_major": 2,
       "version_minor": 0
      },
      "text/plain": [
       "Validating: 0it [00:00, ?it/s]"
      ]
     },
     "metadata": {},
     "output_type": "display_data"
    },
    {
     "data": {
      "application/vnd.jupyter.widget-view+json": {
       "model_id": "1a6ecabaf92d49b6b2d336715413b553",
       "version_major": 2,
       "version_minor": 0
      },
      "text/plain": [
       "Validating: 0it [00:00, ?it/s]"
      ]
     },
     "metadata": {},
     "output_type": "display_data"
    },
    {
     "data": {
      "application/vnd.jupyter.widget-view+json": {
       "model_id": "7fd2f470f0ae43d0abb5e8e0350a7bc0",
       "version_major": 2,
       "version_minor": 0
      },
      "text/plain": [
       "Validating: 0it [00:00, ?it/s]"
      ]
     },
     "metadata": {},
     "output_type": "display_data"
    },
    {
     "data": {
      "application/vnd.jupyter.widget-view+json": {
       "model_id": "fc687910bc6d4d42b49b31d3c787cfad",
       "version_major": 2,
       "version_minor": 0
      },
      "text/plain": [
       "Validating: 0it [00:00, ?it/s]"
      ]
     },
     "metadata": {},
     "output_type": "display_data"
    },
    {
     "data": {
      "application/vnd.jupyter.widget-view+json": {
       "model_id": "454ae6cf08fd432783bb4b91b8d008d3",
       "version_major": 2,
       "version_minor": 0
      },
      "text/plain": [
       "Validating: 0it [00:00, ?it/s]"
      ]
     },
     "metadata": {},
     "output_type": "display_data"
    },
    {
     "data": {
      "application/vnd.jupyter.widget-view+json": {
       "model_id": "d96aa77fd23f4d46b09740cbd278707e",
       "version_major": 2,
       "version_minor": 0
      },
      "text/plain": [
       "Validating: 0it [00:00, ?it/s]"
      ]
     },
     "metadata": {},
     "output_type": "display_data"
    },
    {
     "data": {
      "application/vnd.jupyter.widget-view+json": {
       "model_id": "e31b9d2b3de549bbabb0d814c40428f3",
       "version_major": 2,
       "version_minor": 0
      },
      "text/plain": [
       "Validating: 0it [00:00, ?it/s]"
      ]
     },
     "metadata": {},
     "output_type": "display_data"
    },
    {
     "data": {
      "application/vnd.jupyter.widget-view+json": {
       "model_id": "f0d789d2342a461bbe9541fea1475288",
       "version_major": 2,
       "version_minor": 0
      },
      "text/plain": [
       "Validating: 0it [00:00, ?it/s]"
      ]
     },
     "metadata": {},
     "output_type": "display_data"
    },
    {
     "data": {
      "application/vnd.jupyter.widget-view+json": {
       "model_id": "5be32da0b964416fb5c95e8ed37aea53",
       "version_major": 2,
       "version_minor": 0
      },
      "text/plain": [
       "Validating: 0it [00:00, ?it/s]"
      ]
     },
     "metadata": {},
     "output_type": "display_data"
    },
    {
     "data": {
      "application/vnd.jupyter.widget-view+json": {
       "model_id": "0cda0e738cf24df29e171cebc7d31e69",
       "version_major": 2,
       "version_minor": 0
      },
      "text/plain": [
       "Validating: 0it [00:00, ?it/s]"
      ]
     },
     "metadata": {},
     "output_type": "display_data"
    },
    {
     "data": {
      "application/vnd.jupyter.widget-view+json": {
       "model_id": "6dc3bf974787433eba20c2088fdcc2e4",
       "version_major": 2,
       "version_minor": 0
      },
      "text/plain": [
       "Validating: 0it [00:00, ?it/s]"
      ]
     },
     "metadata": {},
     "output_type": "display_data"
    },
    {
     "data": {
      "application/vnd.jupyter.widget-view+json": {
       "model_id": "e82ad24e2c6e4263a5f3e243ec414036",
       "version_major": 2,
       "version_minor": 0
      },
      "text/plain": [
       "Validating: 0it [00:00, ?it/s]"
      ]
     },
     "metadata": {},
     "output_type": "display_data"
    },
    {
     "data": {
      "application/vnd.jupyter.widget-view+json": {
       "model_id": "064f7a1e77934b7086aef8b9ba00555f",
       "version_major": 2,
       "version_minor": 0
      },
      "text/plain": [
       "Validating: 0it [00:00, ?it/s]"
      ]
     },
     "metadata": {},
     "output_type": "display_data"
    },
    {
     "data": {
      "application/vnd.jupyter.widget-view+json": {
       "model_id": "6955c9ef2f784fbcb73cd8f3e1457f04",
       "version_major": 2,
       "version_minor": 0
      },
      "text/plain": [
       "Validating: 0it [00:00, ?it/s]"
      ]
     },
     "metadata": {},
     "output_type": "display_data"
    },
    {
     "data": {
      "application/vnd.jupyter.widget-view+json": {
       "model_id": "10f080e287904b00b384f3de4798640f",
       "version_major": 2,
       "version_minor": 0
      },
      "text/plain": [
       "Validating: 0it [00:00, ?it/s]"
      ]
     },
     "metadata": {},
     "output_type": "display_data"
    },
    {
     "data": {
      "application/vnd.jupyter.widget-view+json": {
       "model_id": "f36b842ca7414cb4b04c67f9cd0155aa",
       "version_major": 2,
       "version_minor": 0
      },
      "text/plain": [
       "Validating: 0it [00:00, ?it/s]"
      ]
     },
     "metadata": {},
     "output_type": "display_data"
    },
    {
     "data": {
      "application/vnd.jupyter.widget-view+json": {
       "model_id": "dc6bac491a56458693fb43a7ba900593",
       "version_major": 2,
       "version_minor": 0
      },
      "text/plain": [
       "Validating: 0it [00:00, ?it/s]"
      ]
     },
     "metadata": {},
     "output_type": "display_data"
    },
    {
     "data": {
      "application/vnd.jupyter.widget-view+json": {
       "model_id": "807a0964add344eb82c60741845f36b9",
       "version_major": 2,
       "version_minor": 0
      },
      "text/plain": [
       "Validating: 0it [00:00, ?it/s]"
      ]
     },
     "metadata": {},
     "output_type": "display_data"
    },
    {
     "data": {
      "application/vnd.jupyter.widget-view+json": {
       "model_id": "1f2b803ca2db4af7b5c700987d0c2bb1",
       "version_major": 2,
       "version_minor": 0
      },
      "text/plain": [
       "Validating: 0it [00:00, ?it/s]"
      ]
     },
     "metadata": {},
     "output_type": "display_data"
    },
    {
     "data": {
      "application/vnd.jupyter.widget-view+json": {
       "model_id": "c3353d810bbe47d7b709c6f6da9572b6",
       "version_major": 2,
       "version_minor": 0
      },
      "text/plain": [
       "Validating: 0it [00:00, ?it/s]"
      ]
     },
     "metadata": {},
     "output_type": "display_data"
    },
    {
     "data": {
      "application/vnd.jupyter.widget-view+json": {
       "model_id": "2974d8f205264e7399a38e0e19a5fc46",
       "version_major": 2,
       "version_minor": 0
      },
      "text/plain": [
       "Validating: 0it [00:00, ?it/s]"
      ]
     },
     "metadata": {},
     "output_type": "display_data"
    },
    {
     "data": {
      "application/vnd.jupyter.widget-view+json": {
       "model_id": "400b909f2b0a487492bc25fbacdc59c3",
       "version_major": 2,
       "version_minor": 0
      },
      "text/plain": [
       "Validating: 0it [00:00, ?it/s]"
      ]
     },
     "metadata": {},
     "output_type": "display_data"
    },
    {
     "data": {
      "application/vnd.jupyter.widget-view+json": {
       "model_id": "85cbf72ad4054eb4860ce47377b56174",
       "version_major": 2,
       "version_minor": 0
      },
      "text/plain": [
       "Validating: 0it [00:00, ?it/s]"
      ]
     },
     "metadata": {},
     "output_type": "display_data"
    },
    {
     "data": {
      "application/vnd.jupyter.widget-view+json": {
       "model_id": "f22570bb904a4462881ee17b62774865",
       "version_major": 2,
       "version_minor": 0
      },
      "text/plain": [
       "Validating: 0it [00:00, ?it/s]"
      ]
     },
     "metadata": {},
     "output_type": "display_data"
    },
    {
     "data": {
      "application/vnd.jupyter.widget-view+json": {
       "model_id": "9887e1713667465b9d3f1f05f59d87b1",
       "version_major": 2,
       "version_minor": 0
      },
      "text/plain": [
       "Validating: 0it [00:00, ?it/s]"
      ]
     },
     "metadata": {},
     "output_type": "display_data"
    },
    {
     "data": {
      "application/vnd.jupyter.widget-view+json": {
       "model_id": "91b88f905c4c4842bc0dd9f8f406a4a5",
       "version_major": 2,
       "version_minor": 0
      },
      "text/plain": [
       "Validating: 0it [00:00, ?it/s]"
      ]
     },
     "metadata": {},
     "output_type": "display_data"
    },
    {
     "data": {
      "application/vnd.jupyter.widget-view+json": {
       "model_id": "8c3f91ee75a8489db18e6db87d431a95",
       "version_major": 2,
       "version_minor": 0
      },
      "text/plain": [
       "Validating: 0it [00:00, ?it/s]"
      ]
     },
     "metadata": {},
     "output_type": "display_data"
    },
    {
     "data": {
      "application/vnd.jupyter.widget-view+json": {
       "model_id": "a00a5f7b3fcc4a2eb356f5e8f8307cc4",
       "version_major": 2,
       "version_minor": 0
      },
      "text/plain": [
       "Validating: 0it [00:00, ?it/s]"
      ]
     },
     "metadata": {},
     "output_type": "display_data"
    },
    {
     "data": {
      "application/vnd.jupyter.widget-view+json": {
       "model_id": "e58bff9944e7451bb02f3a4a720d0048",
       "version_major": 2,
       "version_minor": 0
      },
      "text/plain": [
       "Validating: 0it [00:00, ?it/s]"
      ]
     },
     "metadata": {},
     "output_type": "display_data"
    },
    {
     "data": {
      "application/vnd.jupyter.widget-view+json": {
       "model_id": "88fddabd17434f3082aeead53e018ce4",
       "version_major": 2,
       "version_minor": 0
      },
      "text/plain": [
       "Validating: 0it [00:00, ?it/s]"
      ]
     },
     "metadata": {},
     "output_type": "display_data"
    },
    {
     "data": {
      "application/vnd.jupyter.widget-view+json": {
       "model_id": "9d1cae8d25f84bbcbf0b9e629d0a4d1b",
       "version_major": 2,
       "version_minor": 0
      },
      "text/plain": [
       "Validating: 0it [00:00, ?it/s]"
      ]
     },
     "metadata": {},
     "output_type": "display_data"
    },
    {
     "data": {
      "application/vnd.jupyter.widget-view+json": {
       "model_id": "2b0cb54c01c3498f83f9d0ca7cf21b57",
       "version_major": 2,
       "version_minor": 0
      },
      "text/plain": [
       "Validating: 0it [00:00, ?it/s]"
      ]
     },
     "metadata": {},
     "output_type": "display_data"
    },
    {
     "data": {
      "application/vnd.jupyter.widget-view+json": {
       "model_id": "324ef44d8b86471cbc67f07239576506",
       "version_major": 2,
       "version_minor": 0
      },
      "text/plain": [
       "Validating: 0it [00:00, ?it/s]"
      ]
     },
     "metadata": {},
     "output_type": "display_data"
    },
    {
     "data": {
      "application/vnd.jupyter.widget-view+json": {
       "model_id": "8a7291234fb448d481357bfb2357a35d",
       "version_major": 2,
       "version_minor": 0
      },
      "text/plain": [
       "Validating: 0it [00:00, ?it/s]"
      ]
     },
     "metadata": {},
     "output_type": "display_data"
    },
    {
     "data": {
      "application/vnd.jupyter.widget-view+json": {
       "model_id": "3d21cae8855d42d5821b5bbf21d22f60",
       "version_major": 2,
       "version_minor": 0
      },
      "text/plain": [
       "Validating: 0it [00:00, ?it/s]"
      ]
     },
     "metadata": {},
     "output_type": "display_data"
    },
    {
     "data": {
      "application/vnd.jupyter.widget-view+json": {
       "model_id": "85cb3419403b4bd0bd63b5dbc1e78e17",
       "version_major": 2,
       "version_minor": 0
      },
      "text/plain": [
       "Validating: 0it [00:00, ?it/s]"
      ]
     },
     "metadata": {},
     "output_type": "display_data"
    },
    {
     "data": {
      "application/vnd.jupyter.widget-view+json": {
       "model_id": "ba444d61f231462bb79799698c296ab4",
       "version_major": 2,
       "version_minor": 0
      },
      "text/plain": [
       "Validating: 0it [00:00, ?it/s]"
      ]
     },
     "metadata": {},
     "output_type": "display_data"
    },
    {
     "data": {
      "application/vnd.jupyter.widget-view+json": {
       "model_id": "f462cbf345d84676a0aff10206adecde",
       "version_major": 2,
       "version_minor": 0
      },
      "text/plain": [
       "Validating: 0it [00:00, ?it/s]"
      ]
     },
     "metadata": {},
     "output_type": "display_data"
    },
    {
     "data": {
      "application/vnd.jupyter.widget-view+json": {
       "model_id": "c6cd79769f1f4ffe97adc6ca9a1c5196",
       "version_major": 2,
       "version_minor": 0
      },
      "text/plain": [
       "Validating: 0it [00:00, ?it/s]"
      ]
     },
     "metadata": {},
     "output_type": "display_data"
    },
    {
     "data": {
      "application/vnd.jupyter.widget-view+json": {
       "model_id": "0e4db6ec86194a7d8b20b1d7486bbf0a",
       "version_major": 2,
       "version_minor": 0
      },
      "text/plain": [
       "Validating: 0it [00:00, ?it/s]"
      ]
     },
     "metadata": {},
     "output_type": "display_data"
    },
    {
     "data": {
      "application/vnd.jupyter.widget-view+json": {
       "model_id": "dccf35ae0b7c413baa81d6e7957145f4",
       "version_major": 2,
       "version_minor": 0
      },
      "text/plain": [
       "Validating: 0it [00:00, ?it/s]"
      ]
     },
     "metadata": {},
     "output_type": "display_data"
    },
    {
     "data": {
      "application/vnd.jupyter.widget-view+json": {
       "model_id": "efcc4408b9bf4a999f16b137608c7345",
       "version_major": 2,
       "version_minor": 0
      },
      "text/plain": [
       "Validating: 0it [00:00, ?it/s]"
      ]
     },
     "metadata": {},
     "output_type": "display_data"
    },
    {
     "data": {
      "application/vnd.jupyter.widget-view+json": {
       "model_id": "e59c36f5da9f41258a3983bdc9bcf947",
       "version_major": 2,
       "version_minor": 0
      },
      "text/plain": [
       "Validating: 0it [00:00, ?it/s]"
      ]
     },
     "metadata": {},
     "output_type": "display_data"
    },
    {
     "data": {
      "application/vnd.jupyter.widget-view+json": {
       "model_id": "e8a645c3d069464890f5d47dee4c8340",
       "version_major": 2,
       "version_minor": 0
      },
      "text/plain": [
       "Validating: 0it [00:00, ?it/s]"
      ]
     },
     "metadata": {},
     "output_type": "display_data"
    },
    {
     "data": {
      "application/vnd.jupyter.widget-view+json": {
       "model_id": "5aa43de459544e999c360448c70149a5",
       "version_major": 2,
       "version_minor": 0
      },
      "text/plain": [
       "Validating: 0it [00:00, ?it/s]"
      ]
     },
     "metadata": {},
     "output_type": "display_data"
    },
    {
     "data": {
      "application/vnd.jupyter.widget-view+json": {
       "model_id": "a89241ffe5994911a33ef65738e1a8f4",
       "version_major": 2,
       "version_minor": 0
      },
      "text/plain": [
       "Validating: 0it [00:00, ?it/s]"
      ]
     },
     "metadata": {},
     "output_type": "display_data"
    },
    {
     "data": {
      "application/vnd.jupyter.widget-view+json": {
       "model_id": "10ec31b7de984617afbbdaaf8f2662a4",
       "version_major": 2,
       "version_minor": 0
      },
      "text/plain": [
       "Validating: 0it [00:00, ?it/s]"
      ]
     },
     "metadata": {},
     "output_type": "display_data"
    },
    {
     "data": {
      "application/vnd.jupyter.widget-view+json": {
       "model_id": "c0120830bf014c6db6e51f327816b866",
       "version_major": 2,
       "version_minor": 0
      },
      "text/plain": [
       "Validating: 0it [00:00, ?it/s]"
      ]
     },
     "metadata": {},
     "output_type": "display_data"
    },
    {
     "data": {
      "application/vnd.jupyter.widget-view+json": {
       "model_id": "d76ad3c69c194de68b72d4162a28b655",
       "version_major": 2,
       "version_minor": 0
      },
      "text/plain": [
       "Validating: 0it [00:00, ?it/s]"
      ]
     },
     "metadata": {},
     "output_type": "display_data"
    },
    {
     "data": {
      "application/vnd.jupyter.widget-view+json": {
       "model_id": "bb2c9eff19a045349605f63e1e5abb5b",
       "version_major": 2,
       "version_minor": 0
      },
      "text/plain": [
       "Validating: 0it [00:00, ?it/s]"
      ]
     },
     "metadata": {},
     "output_type": "display_data"
    },
    {
     "data": {
      "application/vnd.jupyter.widget-view+json": {
       "model_id": "2f586dbf1b2a47beb6ed13e68c19e611",
       "version_major": 2,
       "version_minor": 0
      },
      "text/plain": [
       "Validating: 0it [00:00, ?it/s]"
      ]
     },
     "metadata": {},
     "output_type": "display_data"
    },
    {
     "data": {
      "application/vnd.jupyter.widget-view+json": {
       "model_id": "a904492f2229424d8a81c38ed8d3d22a",
       "version_major": 2,
       "version_minor": 0
      },
      "text/plain": [
       "Validating: 0it [00:00, ?it/s]"
      ]
     },
     "metadata": {},
     "output_type": "display_data"
    },
    {
     "data": {
      "application/vnd.jupyter.widget-view+json": {
       "model_id": "4681094a02e446c19acbd8610781eacc",
       "version_major": 2,
       "version_minor": 0
      },
      "text/plain": [
       "Validating: 0it [00:00, ?it/s]"
      ]
     },
     "metadata": {},
     "output_type": "display_data"
    },
    {
     "data": {
      "application/vnd.jupyter.widget-view+json": {
       "model_id": "c0e1f029364c4793a5f153401f345645",
       "version_major": 2,
       "version_minor": 0
      },
      "text/plain": [
       "Validating: 0it [00:00, ?it/s]"
      ]
     },
     "metadata": {},
     "output_type": "display_data"
    },
    {
     "data": {
      "application/vnd.jupyter.widget-view+json": {
       "model_id": "f74d4592552048cf8c18484bccd25db0",
       "version_major": 2,
       "version_minor": 0
      },
      "text/plain": [
       "Validating: 0it [00:00, ?it/s]"
      ]
     },
     "metadata": {},
     "output_type": "display_data"
    },
    {
     "data": {
      "application/vnd.jupyter.widget-view+json": {
       "model_id": "0d097d75de004ac8a1282f4cb9b1ac56",
       "version_major": 2,
       "version_minor": 0
      },
      "text/plain": [
       "Validating: 0it [00:00, ?it/s]"
      ]
     },
     "metadata": {},
     "output_type": "display_data"
    },
    {
     "data": {
      "application/vnd.jupyter.widget-view+json": {
       "model_id": "3fbe1b7cf3e349fe8e32371374d50daa",
       "version_major": 2,
       "version_minor": 0
      },
      "text/plain": [
       "Validating: 0it [00:00, ?it/s]"
      ]
     },
     "metadata": {},
     "output_type": "display_data"
    },
    {
     "data": {
      "application/vnd.jupyter.widget-view+json": {
       "model_id": "52fc1ab9223041b199efcf7aa0f89c96",
       "version_major": 2,
       "version_minor": 0
      },
      "text/plain": [
       "Validating: 0it [00:00, ?it/s]"
      ]
     },
     "metadata": {},
     "output_type": "display_data"
    },
    {
     "data": {
      "application/vnd.jupyter.widget-view+json": {
       "model_id": "f1af0740795b48d48239576771f4a085",
       "version_major": 2,
       "version_minor": 0
      },
      "text/plain": [
       "Validating: 0it [00:00, ?it/s]"
      ]
     },
     "metadata": {},
     "output_type": "display_data"
    },
    {
     "data": {
      "application/vnd.jupyter.widget-view+json": {
       "model_id": "b491168838ea46e68be234e0a34e37a9",
       "version_major": 2,
       "version_minor": 0
      },
      "text/plain": [
       "Validating: 0it [00:00, ?it/s]"
      ]
     },
     "metadata": {},
     "output_type": "display_data"
    },
    {
     "data": {
      "application/vnd.jupyter.widget-view+json": {
       "model_id": "740436a55747425f857e3cb4f638910e",
       "version_major": 2,
       "version_minor": 0
      },
      "text/plain": [
       "Validating: 0it [00:00, ?it/s]"
      ]
     },
     "metadata": {},
     "output_type": "display_data"
    },
    {
     "data": {
      "application/vnd.jupyter.widget-view+json": {
       "model_id": "5b57982e73544453a3ac7b70ea352f4d",
       "version_major": 2,
       "version_minor": 0
      },
      "text/plain": [
       "Validating: 0it [00:00, ?it/s]"
      ]
     },
     "metadata": {},
     "output_type": "display_data"
    },
    {
     "data": {
      "application/vnd.jupyter.widget-view+json": {
       "model_id": "6cdacb6a4491449cb3f7b1ba3f4ba5c5",
       "version_major": 2,
       "version_minor": 0
      },
      "text/plain": [
       "Validating: 0it [00:00, ?it/s]"
      ]
     },
     "metadata": {},
     "output_type": "display_data"
    },
    {
     "data": {
      "application/vnd.jupyter.widget-view+json": {
       "model_id": "31d483cf3f304ee29428fb47899e97b2",
       "version_major": 2,
       "version_minor": 0
      },
      "text/plain": [
       "Validating: 0it [00:00, ?it/s]"
      ]
     },
     "metadata": {},
     "output_type": "display_data"
    },
    {
     "data": {
      "application/vnd.jupyter.widget-view+json": {
       "model_id": "4d6023b4755045639b9db9c098b3b4cd",
       "version_major": 2,
       "version_minor": 0
      },
      "text/plain": [
       "Validating: 0it [00:00, ?it/s]"
      ]
     },
     "metadata": {},
     "output_type": "display_data"
    },
    {
     "data": {
      "application/vnd.jupyter.widget-view+json": {
       "model_id": "e9b94cabe71f4803ab367df1efa10613",
       "version_major": 2,
       "version_minor": 0
      },
      "text/plain": [
       "Validating: 0it [00:00, ?it/s]"
      ]
     },
     "metadata": {},
     "output_type": "display_data"
    },
    {
     "data": {
      "application/vnd.jupyter.widget-view+json": {
       "model_id": "7be56941b98041969717316023476d94",
       "version_major": 2,
       "version_minor": 0
      },
      "text/plain": [
       "Validating: 0it [00:00, ?it/s]"
      ]
     },
     "metadata": {},
     "output_type": "display_data"
    },
    {
     "data": {
      "application/vnd.jupyter.widget-view+json": {
       "model_id": "d908928d4a6b4b7597f2682ee8e576c1",
       "version_major": 2,
       "version_minor": 0
      },
      "text/plain": [
       "Validating: 0it [00:00, ?it/s]"
      ]
     },
     "metadata": {},
     "output_type": "display_data"
    },
    {
     "data": {
      "application/vnd.jupyter.widget-view+json": {
       "model_id": "b93face756354be1bb74214505156d33",
       "version_major": 2,
       "version_minor": 0
      },
      "text/plain": [
       "Validating: 0it [00:00, ?it/s]"
      ]
     },
     "metadata": {},
     "output_type": "display_data"
    },
    {
     "data": {
      "application/vnd.jupyter.widget-view+json": {
       "model_id": "e64cfb9698884322b05f626bbd8d167b",
       "version_major": 2,
       "version_minor": 0
      },
      "text/plain": [
       "Validating: 0it [00:00, ?it/s]"
      ]
     },
     "metadata": {},
     "output_type": "display_data"
    },
    {
     "data": {
      "application/vnd.jupyter.widget-view+json": {
       "model_id": "7a871ce9abce401c8c8719aac4a7e856",
       "version_major": 2,
       "version_minor": 0
      },
      "text/plain": [
       "Validating: 0it [00:00, ?it/s]"
      ]
     },
     "metadata": {},
     "output_type": "display_data"
    },
    {
     "data": {
      "application/vnd.jupyter.widget-view+json": {
       "model_id": "dd07cc11902042d89d09e290ad9f50ee",
       "version_major": 2,
       "version_minor": 0
      },
      "text/plain": [
       "Validating: 0it [00:00, ?it/s]"
      ]
     },
     "metadata": {},
     "output_type": "display_data"
    },
    {
     "data": {
      "application/vnd.jupyter.widget-view+json": {
       "model_id": "a5792cf4f1a646e99a299bc02736869e",
       "version_major": 2,
       "version_minor": 0
      },
      "text/plain": [
       "Validating: 0it [00:00, ?it/s]"
      ]
     },
     "metadata": {},
     "output_type": "display_data"
    },
    {
     "data": {
      "application/vnd.jupyter.widget-view+json": {
       "model_id": "4654768c2c4648ae92e6c87aae8296fc",
       "version_major": 2,
       "version_minor": 0
      },
      "text/plain": [
       "Validating: 0it [00:00, ?it/s]"
      ]
     },
     "metadata": {},
     "output_type": "display_data"
    },
    {
     "data": {
      "application/vnd.jupyter.widget-view+json": {
       "model_id": "c14c030b39f043ea8c33dc0e8ae0e681",
       "version_major": 2,
       "version_minor": 0
      },
      "text/plain": [
       "Validating: 0it [00:00, ?it/s]"
      ]
     },
     "metadata": {},
     "output_type": "display_data"
    },
    {
     "data": {
      "application/vnd.jupyter.widget-view+json": {
       "model_id": "1a364a8f0b204968b4075f5bde6e36de",
       "version_major": 2,
       "version_minor": 0
      },
      "text/plain": [
       "Validating: 0it [00:00, ?it/s]"
      ]
     },
     "metadata": {},
     "output_type": "display_data"
    },
    {
     "data": {
      "application/vnd.jupyter.widget-view+json": {
       "model_id": "ccb2b987be1342fa8a765a51b662455d",
       "version_major": 2,
       "version_minor": 0
      },
      "text/plain": [
       "Validating: 0it [00:00, ?it/s]"
      ]
     },
     "metadata": {},
     "output_type": "display_data"
    },
    {
     "data": {
      "application/vnd.jupyter.widget-view+json": {
       "model_id": "efba8771ef1b4d9dbc059891928bc774",
       "version_major": 2,
       "version_minor": 0
      },
      "text/plain": [
       "Validating: 0it [00:00, ?it/s]"
      ]
     },
     "metadata": {},
     "output_type": "display_data"
    },
    {
     "data": {
      "application/vnd.jupyter.widget-view+json": {
       "model_id": "29e9ae1a108c45b5952a70550d56777d",
       "version_major": 2,
       "version_minor": 0
      },
      "text/plain": [
       "Validating: 0it [00:00, ?it/s]"
      ]
     },
     "metadata": {},
     "output_type": "display_data"
    },
    {
     "data": {
      "application/vnd.jupyter.widget-view+json": {
       "model_id": "d70ddc2a474a4abbacaff2d8b144a5b9",
       "version_major": 2,
       "version_minor": 0
      },
      "text/plain": [
       "Validating: 0it [00:00, ?it/s]"
      ]
     },
     "metadata": {},
     "output_type": "display_data"
    },
    {
     "data": {
      "application/vnd.jupyter.widget-view+json": {
       "model_id": "74232691b212441bbd2ff10e9e69df5d",
       "version_major": 2,
       "version_minor": 0
      },
      "text/plain": [
       "Validating: 0it [00:00, ?it/s]"
      ]
     },
     "metadata": {},
     "output_type": "display_data"
    },
    {
     "data": {
      "application/vnd.jupyter.widget-view+json": {
       "model_id": "0f945eb403f043119aab5fd41628a3ff",
       "version_major": 2,
       "version_minor": 0
      },
      "text/plain": [
       "Validating: 0it [00:00, ?it/s]"
      ]
     },
     "metadata": {},
     "output_type": "display_data"
    },
    {
     "data": {
      "application/vnd.jupyter.widget-view+json": {
       "model_id": "d03cf7c4b70c459ab0120973206dcca1",
       "version_major": 2,
       "version_minor": 0
      },
      "text/plain": [
       "Validating: 0it [00:00, ?it/s]"
      ]
     },
     "metadata": {},
     "output_type": "display_data"
    },
    {
     "data": {
      "application/vnd.jupyter.widget-view+json": {
       "model_id": "69e2ebcc0a0045d697e3af3da0edc73a",
       "version_major": 2,
       "version_minor": 0
      },
      "text/plain": [
       "Validating: 0it [00:00, ?it/s]"
      ]
     },
     "metadata": {},
     "output_type": "display_data"
    },
    {
     "data": {
      "application/vnd.jupyter.widget-view+json": {
       "model_id": "7356ae7b1df646bcb7ff489d29a428e2",
       "version_major": 2,
       "version_minor": 0
      },
      "text/plain": [
       "Validating: 0it [00:00, ?it/s]"
      ]
     },
     "metadata": {},
     "output_type": "display_data"
    },
    {
     "data": {
      "application/vnd.jupyter.widget-view+json": {
       "model_id": "fea0ec335069456a9ec55bb07ee09323",
       "version_major": 2,
       "version_minor": 0
      },
      "text/plain": [
       "Validating: 0it [00:00, ?it/s]"
      ]
     },
     "metadata": {},
     "output_type": "display_data"
    },
    {
     "data": {
      "application/vnd.jupyter.widget-view+json": {
       "model_id": "aa92fc06837348549f4a796c61700c15",
       "version_major": 2,
       "version_minor": 0
      },
      "text/plain": [
       "Validating: 0it [00:00, ?it/s]"
      ]
     },
     "metadata": {},
     "output_type": "display_data"
    },
    {
     "data": {
      "application/vnd.jupyter.widget-view+json": {
       "model_id": "3eb956bab50f46aaa7866ad1ae7f9d9f",
       "version_major": 2,
       "version_minor": 0
      },
      "text/plain": [
       "Validating: 0it [00:00, ?it/s]"
      ]
     },
     "metadata": {},
     "output_type": "display_data"
    },
    {
     "data": {
      "application/vnd.jupyter.widget-view+json": {
       "model_id": "b8d2e42eb44f49eabdd1b19cbfb4814c",
       "version_major": 2,
       "version_minor": 0
      },
      "text/plain": [
       "Validating: 0it [00:00, ?it/s]"
      ]
     },
     "metadata": {},
     "output_type": "display_data"
    },
    {
     "data": {
      "application/vnd.jupyter.widget-view+json": {
       "model_id": "eab46a7fd5cd4269b959a540209934a1",
       "version_major": 2,
       "version_minor": 0
      },
      "text/plain": [
       "Validating: 0it [00:00, ?it/s]"
      ]
     },
     "metadata": {},
     "output_type": "display_data"
    },
    {
     "data": {
      "application/vnd.jupyter.widget-view+json": {
       "model_id": "d7d83627b5fa4eec85877700e8e7d453",
       "version_major": 2,
       "version_minor": 0
      },
      "text/plain": [
       "Validating: 0it [00:00, ?it/s]"
      ]
     },
     "metadata": {},
     "output_type": "display_data"
    },
    {
     "data": {
      "application/vnd.jupyter.widget-view+json": {
       "model_id": "f7da1906d0fd43a7a59ce8f5e71c7b43",
       "version_major": 2,
       "version_minor": 0
      },
      "text/plain": [
       "Validating: 0it [00:00, ?it/s]"
      ]
     },
     "metadata": {},
     "output_type": "display_data"
    },
    {
     "data": {
      "application/vnd.jupyter.widget-view+json": {
       "model_id": "4db7db9971b5450da1aeede2028c8b66",
       "version_major": 2,
       "version_minor": 0
      },
      "text/plain": [
       "Validating: 0it [00:00, ?it/s]"
      ]
     },
     "metadata": {},
     "output_type": "display_data"
    },
    {
     "data": {
      "application/vnd.jupyter.widget-view+json": {
       "model_id": "a02f3ce82f504f8185375528bb62b811",
       "version_major": 2,
       "version_minor": 0
      },
      "text/plain": [
       "Validating: 0it [00:00, ?it/s]"
      ]
     },
     "metadata": {},
     "output_type": "display_data"
    },
    {
     "data": {
      "application/vnd.jupyter.widget-view+json": {
       "model_id": "8799737c69b54c19a985f3c04e3bf121",
       "version_major": 2,
       "version_minor": 0
      },
      "text/plain": [
       "Validating: 0it [00:00, ?it/s]"
      ]
     },
     "metadata": {},
     "output_type": "display_data"
    },
    {
     "data": {
      "application/vnd.jupyter.widget-view+json": {
       "model_id": "90d80f28b5ec42278641edc9a10b84b7",
       "version_major": 2,
       "version_minor": 0
      },
      "text/plain": [
       "Validating: 0it [00:00, ?it/s]"
      ]
     },
     "metadata": {},
     "output_type": "display_data"
    },
    {
     "data": {
      "application/vnd.jupyter.widget-view+json": {
       "model_id": "f1de22b1b787488c83e4d4e956ae49b9",
       "version_major": 2,
       "version_minor": 0
      },
      "text/plain": [
       "Validating: 0it [00:00, ?it/s]"
      ]
     },
     "metadata": {},
     "output_type": "display_data"
    },
    {
     "data": {
      "application/vnd.jupyter.widget-view+json": {
       "model_id": "542f6e6527ed4c39968ac8118dfa0dbf",
       "version_major": 2,
       "version_minor": 0
      },
      "text/plain": [
       "Validating: 0it [00:00, ?it/s]"
      ]
     },
     "metadata": {},
     "output_type": "display_data"
    },
    {
     "data": {
      "application/vnd.jupyter.widget-view+json": {
       "model_id": "aebfb4fba0034efd8393ce25024937be",
       "version_major": 2,
       "version_minor": 0
      },
      "text/plain": [
       "Validating: 0it [00:00, ?it/s]"
      ]
     },
     "metadata": {},
     "output_type": "display_data"
    },
    {
     "data": {
      "application/vnd.jupyter.widget-view+json": {
       "model_id": "6e3d3b5f895d4ce98b5c9a51d3dd9285",
       "version_major": 2,
       "version_minor": 0
      },
      "text/plain": [
       "Validating: 0it [00:00, ?it/s]"
      ]
     },
     "metadata": {},
     "output_type": "display_data"
    },
    {
     "data": {
      "application/vnd.jupyter.widget-view+json": {
       "model_id": "c63459244b764a9197d793461c6bf277",
       "version_major": 2,
       "version_minor": 0
      },
      "text/plain": [
       "Validating: 0it [00:00, ?it/s]"
      ]
     },
     "metadata": {},
     "output_type": "display_data"
    },
    {
     "data": {
      "application/vnd.jupyter.widget-view+json": {
       "model_id": "290bcc30c5c94af8a212af6da780bd75",
       "version_major": 2,
       "version_minor": 0
      },
      "text/plain": [
       "Validating: 0it [00:00, ?it/s]"
      ]
     },
     "metadata": {},
     "output_type": "display_data"
    },
    {
     "data": {
      "application/vnd.jupyter.widget-view+json": {
       "model_id": "95a6ba6331704049b17fa4565d1792f7",
       "version_major": 2,
       "version_minor": 0
      },
      "text/plain": [
       "Validating: 0it [00:00, ?it/s]"
      ]
     },
     "metadata": {},
     "output_type": "display_data"
    },
    {
     "data": {
      "application/vnd.jupyter.widget-view+json": {
       "model_id": "48c626c5735b4c2688122487d9370529",
       "version_major": 2,
       "version_minor": 0
      },
      "text/plain": [
       "Validating: 0it [00:00, ?it/s]"
      ]
     },
     "metadata": {},
     "output_type": "display_data"
    },
    {
     "data": {
      "application/vnd.jupyter.widget-view+json": {
       "model_id": "5ef5cc4466b245e79c0b71d1638b03fb",
       "version_major": 2,
       "version_minor": 0
      },
      "text/plain": [
       "Validating: 0it [00:00, ?it/s]"
      ]
     },
     "metadata": {},
     "output_type": "display_data"
    },
    {
     "data": {
      "application/vnd.jupyter.widget-view+json": {
       "model_id": "af96e098037f494197838c3b03a648c4",
       "version_major": 2,
       "version_minor": 0
      },
      "text/plain": [
       "Validating: 0it [00:00, ?it/s]"
      ]
     },
     "metadata": {},
     "output_type": "display_data"
    },
    {
     "data": {
      "application/vnd.jupyter.widget-view+json": {
       "model_id": "3945e4941cd0466693b8855fb940727a",
       "version_major": 2,
       "version_minor": 0
      },
      "text/plain": [
       "Validating: 0it [00:00, ?it/s]"
      ]
     },
     "metadata": {},
     "output_type": "display_data"
    },
    {
     "data": {
      "application/vnd.jupyter.widget-view+json": {
       "model_id": "ea22542ea8224ca5b1c94306bac48175",
       "version_major": 2,
       "version_minor": 0
      },
      "text/plain": [
       "Validating: 0it [00:00, ?it/s]"
      ]
     },
     "metadata": {},
     "output_type": "display_data"
    },
    {
     "data": {
      "application/vnd.jupyter.widget-view+json": {
       "model_id": "d81c7116ac9e44e8a1b2d3e88694a1bb",
       "version_major": 2,
       "version_minor": 0
      },
      "text/plain": [
       "Validating: 0it [00:00, ?it/s]"
      ]
     },
     "metadata": {},
     "output_type": "display_data"
    },
    {
     "data": {
      "application/vnd.jupyter.widget-view+json": {
       "model_id": "8c815ca905454c0499f778089d05dae7",
       "version_major": 2,
       "version_minor": 0
      },
      "text/plain": [
       "Validating: 0it [00:00, ?it/s]"
      ]
     },
     "metadata": {},
     "output_type": "display_data"
    },
    {
     "data": {
      "application/vnd.jupyter.widget-view+json": {
       "model_id": "9ec7e6bbb21b414e98402227c14118ce",
       "version_major": 2,
       "version_minor": 0
      },
      "text/plain": [
       "Validating: 0it [00:00, ?it/s]"
      ]
     },
     "metadata": {},
     "output_type": "display_data"
    },
    {
     "data": {
      "application/vnd.jupyter.widget-view+json": {
       "model_id": "27dad2117ae5490c86c8c89deb5c354d",
       "version_major": 2,
       "version_minor": 0
      },
      "text/plain": [
       "Validating: 0it [00:00, ?it/s]"
      ]
     },
     "metadata": {},
     "output_type": "display_data"
    },
    {
     "data": {
      "application/vnd.jupyter.widget-view+json": {
       "model_id": "ad8d4c69077a484bb4551f6540dbb16c",
       "version_major": 2,
       "version_minor": 0
      },
      "text/plain": [
       "Validating: 0it [00:00, ?it/s]"
      ]
     },
     "metadata": {},
     "output_type": "display_data"
    },
    {
     "data": {
      "application/vnd.jupyter.widget-view+json": {
       "model_id": "375ccdd462cf4a10bac06b016cd9212b",
       "version_major": 2,
       "version_minor": 0
      },
      "text/plain": [
       "Validating: 0it [00:00, ?it/s]"
      ]
     },
     "metadata": {},
     "output_type": "display_data"
    },
    {
     "data": {
      "application/vnd.jupyter.widget-view+json": {
       "model_id": "11857530f85f42a6adab912f9bc2f6e1",
       "version_major": 2,
       "version_minor": 0
      },
      "text/plain": [
       "Validating: 0it [00:00, ?it/s]"
      ]
     },
     "metadata": {},
     "output_type": "display_data"
    },
    {
     "data": {
      "application/vnd.jupyter.widget-view+json": {
       "model_id": "3a3c6e0ffd1d47bb8bd4e51659060513",
       "version_major": 2,
       "version_minor": 0
      },
      "text/plain": [
       "Validating: 0it [00:00, ?it/s]"
      ]
     },
     "metadata": {},
     "output_type": "display_data"
    },
    {
     "data": {
      "application/vnd.jupyter.widget-view+json": {
       "model_id": "66ad3d75c7374b499b1427cf4b10d389",
       "version_major": 2,
       "version_minor": 0
      },
      "text/plain": [
       "Validating: 0it [00:00, ?it/s]"
      ]
     },
     "metadata": {},
     "output_type": "display_data"
    },
    {
     "data": {
      "application/vnd.jupyter.widget-view+json": {
       "model_id": "348e3d7e47f64b6da8d0ba7a501a23b3",
       "version_major": 2,
       "version_minor": 0
      },
      "text/plain": [
       "Validating: 0it [00:00, ?it/s]"
      ]
     },
     "metadata": {},
     "output_type": "display_data"
    },
    {
     "data": {
      "application/vnd.jupyter.widget-view+json": {
       "model_id": "2118656c68ba4d91acd540f95ccbb50a",
       "version_major": 2,
       "version_minor": 0
      },
      "text/plain": [
       "Validating: 0it [00:00, ?it/s]"
      ]
     },
     "metadata": {},
     "output_type": "display_data"
    },
    {
     "data": {
      "application/vnd.jupyter.widget-view+json": {
       "model_id": "f9e1fc5279ff4cdcab96167b76e1c7ce",
       "version_major": 2,
       "version_minor": 0
      },
      "text/plain": [
       "Validating: 0it [00:00, ?it/s]"
      ]
     },
     "metadata": {},
     "output_type": "display_data"
    },
    {
     "data": {
      "application/vnd.jupyter.widget-view+json": {
       "model_id": "d713b7a02f91400eb4fda973c40a9e0d",
       "version_major": 2,
       "version_minor": 0
      },
      "text/plain": [
       "Validating: 0it [00:00, ?it/s]"
      ]
     },
     "metadata": {},
     "output_type": "display_data"
    },
    {
     "data": {
      "application/vnd.jupyter.widget-view+json": {
       "model_id": "8825d9b1b080414f8c91e30898df93dd",
       "version_major": 2,
       "version_minor": 0
      },
      "text/plain": [
       "Validating: 0it [00:00, ?it/s]"
      ]
     },
     "metadata": {},
     "output_type": "display_data"
    },
    {
     "data": {
      "application/vnd.jupyter.widget-view+json": {
       "model_id": "f66d6593e86f44c4a546c8e963879777",
       "version_major": 2,
       "version_minor": 0
      },
      "text/plain": [
       "Validating: 0it [00:00, ?it/s]"
      ]
     },
     "metadata": {},
     "output_type": "display_data"
    },
    {
     "data": {
      "application/vnd.jupyter.widget-view+json": {
       "model_id": "f8b55cb0f8aa4e199d6fd35a60a33409",
       "version_major": 2,
       "version_minor": 0
      },
      "text/plain": [
       "Validating: 0it [00:00, ?it/s]"
      ]
     },
     "metadata": {},
     "output_type": "display_data"
    },
    {
     "data": {
      "application/vnd.jupyter.widget-view+json": {
       "model_id": "d79c74f19591416691a705d48113584f",
       "version_major": 2,
       "version_minor": 0
      },
      "text/plain": [
       "Validating: 0it [00:00, ?it/s]"
      ]
     },
     "metadata": {},
     "output_type": "display_data"
    },
    {
     "data": {
      "application/vnd.jupyter.widget-view+json": {
       "model_id": "17f5a0eb0ee043bfab4e1616f388db86",
       "version_major": 2,
       "version_minor": 0
      },
      "text/plain": [
       "Validating: 0it [00:00, ?it/s]"
      ]
     },
     "metadata": {},
     "output_type": "display_data"
    },
    {
     "data": {
      "application/vnd.jupyter.widget-view+json": {
       "model_id": "89c15c200f294c2ea02804e38e092000",
       "version_major": 2,
       "version_minor": 0
      },
      "text/plain": [
       "Validating: 0it [00:00, ?it/s]"
      ]
     },
     "metadata": {},
     "output_type": "display_data"
    },
    {
     "data": {
      "application/vnd.jupyter.widget-view+json": {
       "model_id": "fe9b66491c304c3ba469900e72b0ea89",
       "version_major": 2,
       "version_minor": 0
      },
      "text/plain": [
       "Validating: 0it [00:00, ?it/s]"
      ]
     },
     "metadata": {},
     "output_type": "display_data"
    },
    {
     "data": {
      "application/vnd.jupyter.widget-view+json": {
       "model_id": "c7adac1f7ff44e638a364727725172fb",
       "version_major": 2,
       "version_minor": 0
      },
      "text/plain": [
       "Validating: 0it [00:00, ?it/s]"
      ]
     },
     "metadata": {},
     "output_type": "display_data"
    },
    {
     "data": {
      "application/vnd.jupyter.widget-view+json": {
       "model_id": "5bfec17421554a4ea5228315c4582b12",
       "version_major": 2,
       "version_minor": 0
      },
      "text/plain": [
       "Validating: 0it [00:00, ?it/s]"
      ]
     },
     "metadata": {},
     "output_type": "display_data"
    },
    {
     "data": {
      "application/vnd.jupyter.widget-view+json": {
       "model_id": "7738fdaf8b924875ab60861adee96688",
       "version_major": 2,
       "version_minor": 0
      },
      "text/plain": [
       "Validating: 0it [00:00, ?it/s]"
      ]
     },
     "metadata": {},
     "output_type": "display_data"
    },
    {
     "data": {
      "application/vnd.jupyter.widget-view+json": {
       "model_id": "0baed4b4b8a948179433460d3d7b2f70",
       "version_major": 2,
       "version_minor": 0
      },
      "text/plain": [
       "Validating: 0it [00:00, ?it/s]"
      ]
     },
     "metadata": {},
     "output_type": "display_data"
    },
    {
     "data": {
      "application/vnd.jupyter.widget-view+json": {
       "model_id": "5505db8beeba4762b88a4373dba440a1",
       "version_major": 2,
       "version_minor": 0
      },
      "text/plain": [
       "Validating: 0it [00:00, ?it/s]"
      ]
     },
     "metadata": {},
     "output_type": "display_data"
    },
    {
     "data": {
      "application/vnd.jupyter.widget-view+json": {
       "model_id": "9063c6e034834545975d931f90dc549d",
       "version_major": 2,
       "version_minor": 0
      },
      "text/plain": [
       "Validating: 0it [00:00, ?it/s]"
      ]
     },
     "metadata": {},
     "output_type": "display_data"
    },
    {
     "data": {
      "application/vnd.jupyter.widget-view+json": {
       "model_id": "14904415464547589a6e2269d96db3fd",
       "version_major": 2,
       "version_minor": 0
      },
      "text/plain": [
       "Validating: 0it [00:00, ?it/s]"
      ]
     },
     "metadata": {},
     "output_type": "display_data"
    },
    {
     "data": {
      "application/vnd.jupyter.widget-view+json": {
       "model_id": "f52c5ec2022c46c7a4ed06b71e8e7f1e",
       "version_major": 2,
       "version_minor": 0
      },
      "text/plain": [
       "Validating: 0it [00:00, ?it/s]"
      ]
     },
     "metadata": {},
     "output_type": "display_data"
    },
    {
     "data": {
      "application/vnd.jupyter.widget-view+json": {
       "model_id": "0cd4391cef524acda4cc7b7a8624b65b",
       "version_major": 2,
       "version_minor": 0
      },
      "text/plain": [
       "Validating: 0it [00:00, ?it/s]"
      ]
     },
     "metadata": {},
     "output_type": "display_data"
    },
    {
     "data": {
      "application/vnd.jupyter.widget-view+json": {
       "model_id": "7054c299fb3d4803896e0f73401c8d97",
       "version_major": 2,
       "version_minor": 0
      },
      "text/plain": [
       "Validating: 0it [00:00, ?it/s]"
      ]
     },
     "metadata": {},
     "output_type": "display_data"
    },
    {
     "data": {
      "application/vnd.jupyter.widget-view+json": {
       "model_id": "c51c001ee2e7439ebd79df4aaf8d7a68",
       "version_major": 2,
       "version_minor": 0
      },
      "text/plain": [
       "Validating: 0it [00:00, ?it/s]"
      ]
     },
     "metadata": {},
     "output_type": "display_data"
    },
    {
     "data": {
      "application/vnd.jupyter.widget-view+json": {
       "model_id": "b35d7cd20d744816aeef7c3fa0418808",
       "version_major": 2,
       "version_minor": 0
      },
      "text/plain": [
       "Validating: 0it [00:00, ?it/s]"
      ]
     },
     "metadata": {},
     "output_type": "display_data"
    },
    {
     "data": {
      "application/vnd.jupyter.widget-view+json": {
       "model_id": "e5d54b4cdd354d6b8791c605b94b498e",
       "version_major": 2,
       "version_minor": 0
      },
      "text/plain": [
       "Validating: 0it [00:00, ?it/s]"
      ]
     },
     "metadata": {},
     "output_type": "display_data"
    },
    {
     "data": {
      "application/vnd.jupyter.widget-view+json": {
       "model_id": "937a5aed75514fa7ac0ddbee31247d95",
       "version_major": 2,
       "version_minor": 0
      },
      "text/plain": [
       "Validating: 0it [00:00, ?it/s]"
      ]
     },
     "metadata": {},
     "output_type": "display_data"
    },
    {
     "data": {
      "application/vnd.jupyter.widget-view+json": {
       "model_id": "0ed21c2f56e947d884b77404f9e38661",
       "version_major": 2,
       "version_minor": 0
      },
      "text/plain": [
       "Validating: 0it [00:00, ?it/s]"
      ]
     },
     "metadata": {},
     "output_type": "display_data"
    },
    {
     "data": {
      "application/vnd.jupyter.widget-view+json": {
       "model_id": "69ef3ca8469a43afba74d43d30392feb",
       "version_major": 2,
       "version_minor": 0
      },
      "text/plain": [
       "Validating: 0it [00:00, ?it/s]"
      ]
     },
     "metadata": {},
     "output_type": "display_data"
    },
    {
     "data": {
      "application/vnd.jupyter.widget-view+json": {
       "model_id": "2ce73b26e0c549ffaecfc3ccc8d823e7",
       "version_major": 2,
       "version_minor": 0
      },
      "text/plain": [
       "Validating: 0it [00:00, ?it/s]"
      ]
     },
     "metadata": {},
     "output_type": "display_data"
    },
    {
     "data": {
      "application/vnd.jupyter.widget-view+json": {
       "model_id": "f21cd061caf2423ca531a77766374579",
       "version_major": 2,
       "version_minor": 0
      },
      "text/plain": [
       "Validating: 0it [00:00, ?it/s]"
      ]
     },
     "metadata": {},
     "output_type": "display_data"
    },
    {
     "data": {
      "application/vnd.jupyter.widget-view+json": {
       "model_id": "09055eddf2d84b95937cb90d083d8682",
       "version_major": 2,
       "version_minor": 0
      },
      "text/plain": [
       "Validating: 0it [00:00, ?it/s]"
      ]
     },
     "metadata": {},
     "output_type": "display_data"
    },
    {
     "data": {
      "application/vnd.jupyter.widget-view+json": {
       "model_id": "17b73895afdc4ebcb7dcc1a3dc7cd650",
       "version_major": 2,
       "version_minor": 0
      },
      "text/plain": [
       "Validating: 0it [00:00, ?it/s]"
      ]
     },
     "metadata": {},
     "output_type": "display_data"
    },
    {
     "data": {
      "application/vnd.jupyter.widget-view+json": {
       "model_id": "3ac86c082d514b188242f098a2207beb",
       "version_major": 2,
       "version_minor": 0
      },
      "text/plain": [
       "Validating: 0it [00:00, ?it/s]"
      ]
     },
     "metadata": {},
     "output_type": "display_data"
    },
    {
     "data": {
      "application/vnd.jupyter.widget-view+json": {
       "model_id": "a36e759044da4443980662fb8b507cbb",
       "version_major": 2,
       "version_minor": 0
      },
      "text/plain": [
       "Validating: 0it [00:00, ?it/s]"
      ]
     },
     "metadata": {},
     "output_type": "display_data"
    },
    {
     "data": {
      "application/vnd.jupyter.widget-view+json": {
       "model_id": "ec802645ac1545a3964fb5e86f425d2d",
       "version_major": 2,
       "version_minor": 0
      },
      "text/plain": [
       "Validating: 0it [00:00, ?it/s]"
      ]
     },
     "metadata": {},
     "output_type": "display_data"
    },
    {
     "data": {
      "application/vnd.jupyter.widget-view+json": {
       "model_id": "bb0691337b9c43268f74690c22d99a32",
       "version_major": 2,
       "version_minor": 0
      },
      "text/plain": [
       "Validating: 0it [00:00, ?it/s]"
      ]
     },
     "metadata": {},
     "output_type": "display_data"
    },
    {
     "data": {
      "application/vnd.jupyter.widget-view+json": {
       "model_id": "5b1e2f03225543fc893b691eb2362ca2",
       "version_major": 2,
       "version_minor": 0
      },
      "text/plain": [
       "Validating: 0it [00:00, ?it/s]"
      ]
     },
     "metadata": {},
     "output_type": "display_data"
    },
    {
     "data": {
      "application/vnd.jupyter.widget-view+json": {
       "model_id": "bf2334a8609846849fb37d9f85162aa5",
       "version_major": 2,
       "version_minor": 0
      },
      "text/plain": [
       "Validating: 0it [00:00, ?it/s]"
      ]
     },
     "metadata": {},
     "output_type": "display_data"
    },
    {
     "data": {
      "application/vnd.jupyter.widget-view+json": {
       "model_id": "a608bde7692f4f22a0ab6c7110d99771",
       "version_major": 2,
       "version_minor": 0
      },
      "text/plain": [
       "Validating: 0it [00:00, ?it/s]"
      ]
     },
     "metadata": {},
     "output_type": "display_data"
    },
    {
     "data": {
      "application/vnd.jupyter.widget-view+json": {
       "model_id": "61a5301474cb47eaa0d8aa17c76cc015",
       "version_major": 2,
       "version_minor": 0
      },
      "text/plain": [
       "Validating: 0it [00:00, ?it/s]"
      ]
     },
     "metadata": {},
     "output_type": "display_data"
    },
    {
     "data": {
      "application/vnd.jupyter.widget-view+json": {
       "model_id": "5b9b53015f7e4accbdbf304c0fceeb5b",
       "version_major": 2,
       "version_minor": 0
      },
      "text/plain": [
       "Validating: 0it [00:00, ?it/s]"
      ]
     },
     "metadata": {},
     "output_type": "display_data"
    },
    {
     "data": {
      "application/vnd.jupyter.widget-view+json": {
       "model_id": "99c8588ac9ff46b6bae7bba4671cc1df",
       "version_major": 2,
       "version_minor": 0
      },
      "text/plain": [
       "Validating: 0it [00:00, ?it/s]"
      ]
     },
     "metadata": {},
     "output_type": "display_data"
    },
    {
     "data": {
      "application/vnd.jupyter.widget-view+json": {
       "model_id": "83555bb2ef7348db9be07bfcbb27018a",
       "version_major": 2,
       "version_minor": 0
      },
      "text/plain": [
       "Validating: 0it [00:00, ?it/s]"
      ]
     },
     "metadata": {},
     "output_type": "display_data"
    },
    {
     "data": {
      "application/vnd.jupyter.widget-view+json": {
       "model_id": "a6f20825336f4c5191f0c510a12074f4",
       "version_major": 2,
       "version_minor": 0
      },
      "text/plain": [
       "Validating: 0it [00:00, ?it/s]"
      ]
     },
     "metadata": {},
     "output_type": "display_data"
    },
    {
     "data": {
      "application/vnd.jupyter.widget-view+json": {
       "model_id": "05b73adda0e84b3eb12b39322a4ddae9",
       "version_major": 2,
       "version_minor": 0
      },
      "text/plain": [
       "Validating: 0it [00:00, ?it/s]"
      ]
     },
     "metadata": {},
     "output_type": "display_data"
    },
    {
     "data": {
      "application/vnd.jupyter.widget-view+json": {
       "model_id": "df1a97d043d44963b585199a9b6bc41b",
       "version_major": 2,
       "version_minor": 0
      },
      "text/plain": [
       "Validating: 0it [00:00, ?it/s]"
      ]
     },
     "metadata": {},
     "output_type": "display_data"
    },
    {
     "data": {
      "application/vnd.jupyter.widget-view+json": {
       "model_id": "2af74106de63477bb2ad451804ebcb30",
       "version_major": 2,
       "version_minor": 0
      },
      "text/plain": [
       "Validating: 0it [00:00, ?it/s]"
      ]
     },
     "metadata": {},
     "output_type": "display_data"
    },
    {
     "data": {
      "application/vnd.jupyter.widget-view+json": {
       "model_id": "356215f9b3bc43949dd4cbc4783bfe27",
       "version_major": 2,
       "version_minor": 0
      },
      "text/plain": [
       "Validating: 0it [00:00, ?it/s]"
      ]
     },
     "metadata": {},
     "output_type": "display_data"
    },
    {
     "data": {
      "application/vnd.jupyter.widget-view+json": {
       "model_id": "6277834b4d1544cab9a672e80f606b71",
       "version_major": 2,
       "version_minor": 0
      },
      "text/plain": [
       "Validating: 0it [00:00, ?it/s]"
      ]
     },
     "metadata": {},
     "output_type": "display_data"
    },
    {
     "data": {
      "application/vnd.jupyter.widget-view+json": {
       "model_id": "00c99499076f4cba888b5114bc8da477",
       "version_major": 2,
       "version_minor": 0
      },
      "text/plain": [
       "Validating: 0it [00:00, ?it/s]"
      ]
     },
     "metadata": {},
     "output_type": "display_data"
    },
    {
     "data": {
      "application/vnd.jupyter.widget-view+json": {
       "model_id": "f293a2128e5f43d1a9a0a2559acb9ba5",
       "version_major": 2,
       "version_minor": 0
      },
      "text/plain": [
       "Validating: 0it [00:00, ?it/s]"
      ]
     },
     "metadata": {},
     "output_type": "display_data"
    },
    {
     "data": {
      "application/vnd.jupyter.widget-view+json": {
       "model_id": "03b92e11af4e46c3bda3683f598e21b4",
       "version_major": 2,
       "version_minor": 0
      },
      "text/plain": [
       "Validating: 0it [00:00, ?it/s]"
      ]
     },
     "metadata": {},
     "output_type": "display_data"
    },
    {
     "data": {
      "application/vnd.jupyter.widget-view+json": {
       "model_id": "2af38369d0f74cb6ad6fd5b728bdf0f8",
       "version_major": 2,
       "version_minor": 0
      },
      "text/plain": [
       "Validating: 0it [00:00, ?it/s]"
      ]
     },
     "metadata": {},
     "output_type": "display_data"
    },
    {
     "data": {
      "application/vnd.jupyter.widget-view+json": {
       "model_id": "67c636e2f1924157bfbeaa267ecbbaaf",
       "version_major": 2,
       "version_minor": 0
      },
      "text/plain": [
       "Validating: 0it [00:00, ?it/s]"
      ]
     },
     "metadata": {},
     "output_type": "display_data"
    },
    {
     "data": {
      "application/vnd.jupyter.widget-view+json": {
       "model_id": "2084db23c41b4902a8f0b09d42b1641a",
       "version_major": 2,
       "version_minor": 0
      },
      "text/plain": [
       "Validating: 0it [00:00, ?it/s]"
      ]
     },
     "metadata": {},
     "output_type": "display_data"
    },
    {
     "data": {
      "application/vnd.jupyter.widget-view+json": {
       "model_id": "a3bc0f654f174ca5baab19d6a1bb4e97",
       "version_major": 2,
       "version_minor": 0
      },
      "text/plain": [
       "Validating: 0it [00:00, ?it/s]"
      ]
     },
     "metadata": {},
     "output_type": "display_data"
    },
    {
     "data": {
      "application/vnd.jupyter.widget-view+json": {
       "model_id": "cd626e2454f44ca79f5d8551e0c96338",
       "version_major": 2,
       "version_minor": 0
      },
      "text/plain": [
       "Validating: 0it [00:00, ?it/s]"
      ]
     },
     "metadata": {},
     "output_type": "display_data"
    },
    {
     "data": {
      "application/vnd.jupyter.widget-view+json": {
       "model_id": "68d74eaf4173431198993c98fecc767e",
       "version_major": 2,
       "version_minor": 0
      },
      "text/plain": [
       "Validating: 0it [00:00, ?it/s]"
      ]
     },
     "metadata": {},
     "output_type": "display_data"
    },
    {
     "data": {
      "application/vnd.jupyter.widget-view+json": {
       "model_id": "2aeeaebff45343cfbcabd14428e9fe22",
       "version_major": 2,
       "version_minor": 0
      },
      "text/plain": [
       "Validating: 0it [00:00, ?it/s]"
      ]
     },
     "metadata": {},
     "output_type": "display_data"
    },
    {
     "data": {
      "application/vnd.jupyter.widget-view+json": {
       "model_id": "94ad33d440234aa1ab5c959958050377",
       "version_major": 2,
       "version_minor": 0
      },
      "text/plain": [
       "Validating: 0it [00:00, ?it/s]"
      ]
     },
     "metadata": {},
     "output_type": "display_data"
    },
    {
     "data": {
      "application/vnd.jupyter.widget-view+json": {
       "model_id": "cf229d6f4d8e4aaf9df7891aa15ebc08",
       "version_major": 2,
       "version_minor": 0
      },
      "text/plain": [
       "Validating: 0it [00:00, ?it/s]"
      ]
     },
     "metadata": {},
     "output_type": "display_data"
    },
    {
     "data": {
      "application/vnd.jupyter.widget-view+json": {
       "model_id": "0574e361a675477c8bd02f128a825608",
       "version_major": 2,
       "version_minor": 0
      },
      "text/plain": [
       "Validating: 0it [00:00, ?it/s]"
      ]
     },
     "metadata": {},
     "output_type": "display_data"
    },
    {
     "data": {
      "application/vnd.jupyter.widget-view+json": {
       "model_id": "1058448afebc42688a1897158d9a8dc5",
       "version_major": 2,
       "version_minor": 0
      },
      "text/plain": [
       "Validating: 0it [00:00, ?it/s]"
      ]
     },
     "metadata": {},
     "output_type": "display_data"
    },
    {
     "data": {
      "application/vnd.jupyter.widget-view+json": {
       "model_id": "9629f85a8fd848939bb8d1158a1a7082",
       "version_major": 2,
       "version_minor": 0
      },
      "text/plain": [
       "Validating: 0it [00:00, ?it/s]"
      ]
     },
     "metadata": {},
     "output_type": "display_data"
    },
    {
     "data": {
      "application/vnd.jupyter.widget-view+json": {
       "model_id": "4ae69dcd3abd48dd9d9bef70065317f6",
       "version_major": 2,
       "version_minor": 0
      },
      "text/plain": [
       "Validating: 0it [00:00, ?it/s]"
      ]
     },
     "metadata": {},
     "output_type": "display_data"
    },
    {
     "data": {
      "application/vnd.jupyter.widget-view+json": {
       "model_id": "482bf5af27bd4c938c78363a9fa63cf7",
       "version_major": 2,
       "version_minor": 0
      },
      "text/plain": [
       "Validating: 0it [00:00, ?it/s]"
      ]
     },
     "metadata": {},
     "output_type": "display_data"
    },
    {
     "data": {
      "application/vnd.jupyter.widget-view+json": {
       "model_id": "dd561929e74145a9811f17dc30fe183d",
       "version_major": 2,
       "version_minor": 0
      },
      "text/plain": [
       "Validating: 0it [00:00, ?it/s]"
      ]
     },
     "metadata": {},
     "output_type": "display_data"
    },
    {
     "data": {
      "application/vnd.jupyter.widget-view+json": {
       "model_id": "659d08e2ecb049bf8eac5a58b40306d9",
       "version_major": 2,
       "version_minor": 0
      },
      "text/plain": [
       "Validating: 0it [00:00, ?it/s]"
      ]
     },
     "metadata": {},
     "output_type": "display_data"
    },
    {
     "data": {
      "application/vnd.jupyter.widget-view+json": {
       "model_id": "13469c7dc9234566ab69efa8e0fc6cf6",
       "version_major": 2,
       "version_minor": 0
      },
      "text/plain": [
       "Validating: 0it [00:00, ?it/s]"
      ]
     },
     "metadata": {},
     "output_type": "display_data"
    },
    {
     "data": {
      "application/vnd.jupyter.widget-view+json": {
       "model_id": "9c971b8cc9af4ab0a42308f3ac64353a",
       "version_major": 2,
       "version_minor": 0
      },
      "text/plain": [
       "Validating: 0it [00:00, ?it/s]"
      ]
     },
     "metadata": {},
     "output_type": "display_data"
    },
    {
     "data": {
      "application/vnd.jupyter.widget-view+json": {
       "model_id": "0484da9b21954074a38df7676b830cbb",
       "version_major": 2,
       "version_minor": 0
      },
      "text/plain": [
       "Validating: 0it [00:00, ?it/s]"
      ]
     },
     "metadata": {},
     "output_type": "display_data"
    },
    {
     "data": {
      "application/vnd.jupyter.widget-view+json": {
       "model_id": "cb95d67a21b74d1baa5cce8785263752",
       "version_major": 2,
       "version_minor": 0
      },
      "text/plain": [
       "Validating: 0it [00:00, ?it/s]"
      ]
     },
     "metadata": {},
     "output_type": "display_data"
    },
    {
     "data": {
      "application/vnd.jupyter.widget-view+json": {
       "model_id": "f88f87c5cddb4bd9ad34cec4e5ae3cb1",
       "version_major": 2,
       "version_minor": 0
      },
      "text/plain": [
       "Validating: 0it [00:00, ?it/s]"
      ]
     },
     "metadata": {},
     "output_type": "display_data"
    },
    {
     "data": {
      "application/vnd.jupyter.widget-view+json": {
       "model_id": "7995cdeb2e0f4db7b9bde557d352ac5a",
       "version_major": 2,
       "version_minor": 0
      },
      "text/plain": [
       "Validating: 0it [00:00, ?it/s]"
      ]
     },
     "metadata": {},
     "output_type": "display_data"
    },
    {
     "data": {
      "application/vnd.jupyter.widget-view+json": {
       "model_id": "de69db1bca524171a704ebc3295e2bd6",
       "version_major": 2,
       "version_minor": 0
      },
      "text/plain": [
       "Validating: 0it [00:00, ?it/s]"
      ]
     },
     "metadata": {},
     "output_type": "display_data"
    },
    {
     "data": {
      "application/vnd.jupyter.widget-view+json": {
       "model_id": "bb8762b7b32c498fa77ab7b8f8bcfbd7",
       "version_major": 2,
       "version_minor": 0
      },
      "text/plain": [
       "Validating: 0it [00:00, ?it/s]"
      ]
     },
     "metadata": {},
     "output_type": "display_data"
    },
    {
     "data": {
      "application/vnd.jupyter.widget-view+json": {
       "model_id": "ee297d34805948d8b760504bfcae3ae1",
       "version_major": 2,
       "version_minor": 0
      },
      "text/plain": [
       "Validating: 0it [00:00, ?it/s]"
      ]
     },
     "metadata": {},
     "output_type": "display_data"
    },
    {
     "data": {
      "application/vnd.jupyter.widget-view+json": {
       "model_id": "b2e908893367473b8a782d87df78ae92",
       "version_major": 2,
       "version_minor": 0
      },
      "text/plain": [
       "Validating: 0it [00:00, ?it/s]"
      ]
     },
     "metadata": {},
     "output_type": "display_data"
    },
    {
     "data": {
      "application/vnd.jupyter.widget-view+json": {
       "model_id": "7cfb998f14024ad698cd138bef58a94e",
       "version_major": 2,
       "version_minor": 0
      },
      "text/plain": [
       "Validating: 0it [00:00, ?it/s]"
      ]
     },
     "metadata": {},
     "output_type": "display_data"
    },
    {
     "data": {
      "application/vnd.jupyter.widget-view+json": {
       "model_id": "293585f2d2374b25a7464f98bb4bd1e3",
       "version_major": 2,
       "version_minor": 0
      },
      "text/plain": [
       "Validating: 0it [00:00, ?it/s]"
      ]
     },
     "metadata": {},
     "output_type": "display_data"
    },
    {
     "data": {
      "application/vnd.jupyter.widget-view+json": {
       "model_id": "de1890b419d2440babebc31b3f409140",
       "version_major": 2,
       "version_minor": 0
      },
      "text/plain": [
       "Validating: 0it [00:00, ?it/s]"
      ]
     },
     "metadata": {},
     "output_type": "display_data"
    },
    {
     "data": {
      "application/vnd.jupyter.widget-view+json": {
       "model_id": "38fce5ff8104469781cc26e1d9755194",
       "version_major": 2,
       "version_minor": 0
      },
      "text/plain": [
       "Validating: 0it [00:00, ?it/s]"
      ]
     },
     "metadata": {},
     "output_type": "display_data"
    },
    {
     "data": {
      "text/html": [
       "<br/>Waiting for W&B process to finish, PID 198973... <strong style=\"color:green\">(success).</strong>"
      ],
      "text/plain": [
       "<IPython.core.display.HTML object>"
      ]
     },
     "metadata": {},
     "output_type": "display_data"
    },
    {
     "data": {
      "application/vnd.jupyter.widget-view+json": {
       "model_id": "7776024473e24e7a95f69df95b056637",
       "version_major": 2,
       "version_minor": 0
      },
      "text/plain": [
       "VBox(children=(Label(value=' 0.00MB of 0.00MB uploaded (0.00MB deduped)\\r'), FloatProgress(value=1.0, max=1.0)…"
      ]
     },
     "metadata": {},
     "output_type": "display_data"
    },
    {
     "data": {
      "text/html": [
       "<style>\n",
       "    table.wandb td:nth-child(1) { padding: 0 10px; text-align: right }\n",
       "    .wandb-row { display: flex; flex-direction: row; flex-wrap: wrap; width: 100% }\n",
       "    .wandb-col { display: flex; flex-direction: column; flex-basis: 100%; flex: 1; padding: 10px; }\n",
       "    </style>\n",
       "<div class=\"wandb-row\"><div class=\"wandb-col\">\n",
       "<h3>Run history:</h3><br/><table class=\"wandb\"><tr><td>epoch</td><td>▁▁▁▂▂▂▂▂▂▃▃▃▃▃▃▄▄▄▄▄▅▅▅▅▅▅▆▆▆▆▆▇▇▇▇▇▇███</td></tr><tr><td>train_accuracy</td><td>▂▂▁▂▃▃▄▄▄▅▅▆▆▇▆▆▆▇▇▇▇▇████▇▇▇█████▇█████</td></tr><tr><td>train_loss</td><td>▇██▇▆▆▆▅▅▄▄▃▃▂▃▃▂▁▂▂▁▂▁▁▁▁▂▂▂▁▁▁▁▁▂▁▁▁▁▁</td></tr><tr><td>trainer/global_step</td><td>▁▁▁▂▂▂▂▂▂▃▃▃▃▃▃▄▄▄▄▄▅▅▅▅▅▅▆▆▆▆▆▇▇▇▇▇▇███</td></tr><tr><td>val_accuracy</td><td>▂▂▂▁▃▃▃▃▄▄▅▆▆▆▇▇▇▇▇▇▇▇▇█████████████████</td></tr><tr><td>val_loss</td><td>▇█▇█▇▆▆▆▅▅▄▄▃▃▃▂▂▂▂▂▂▂▂▁▁▁▁▁▁▁▁▁▁▁▁▁▁▁▁▁</td></tr></table><br/></div><div class=\"wandb-col\">\n",
       "<h3>Run summary:</h3><br/><table class=\"wandb\"><tr><td>epoch</td><td>249</td></tr><tr><td>train_accuracy</td><td>0.97059</td></tr><tr><td>train_loss</td><td>0.07836</td></tr><tr><td>trainer/global_step</td><td>14999</td></tr><tr><td>val_accuracy</td><td>0.98294</td></tr><tr><td>val_loss</td><td>0.05804</td></tr></table>\n",
       "</div></div>\n",
       "Synced 5 W&B file(s), 0 media file(s), 0 artifact file(s) and 0 other file(s)\n",
       "<br/>Synced <strong style=\"color:#cdcd00\">run_5-all_data</strong>: <a href=\"https://wandb.ai/phade160/surface_pred/runs/1ezf2avg\" target=\"_blank\">https://wandb.ai/phade160/surface_pred/runs/1ezf2avg</a><br/>\n",
       "Find logs at: <code>logs/wandb/run-20220221_155829-1ezf2avg/logs</code><br/>\n"
      ],
      "text/plain": [
       "<IPython.core.display.HTML object>"
      ]
     },
     "metadata": {},
     "output_type": "display_data"
    }
   ],
   "source": [
    "data_module =SurfaceDatamodule(sequences, val_sequences, batch_size=params['batch_size'])\n",
    "trainer, data_module = train(data_module, params, 'run_5-all_data')"
   ]
  },
  {
   "cell_type": "code",
   "execution_count": null,
   "metadata": {},
   "outputs": [],
   "source": []
  },
  {
   "cell_type": "code",
   "execution_count": 77,
   "metadata": {},
   "outputs": [
    {
     "data": {
      "application/vnd.google.colaboratory.intrinsic+json": {
       "type": "string"
      },
      "text/plain": [
       "'logs/surface_pred/1ezf2avg/checkpoints/epoch=249-step=14999.ckpt'"
      ]
     },
     "execution_count": 77,
     "metadata": {},
     "output_type": "execute_result"
    }
   ],
   "source": [
    "trainer.checkpoint_callback.best_model_path"
   ]
  },
  {
   "cell_type": "code",
   "execution_count": 78,
   "metadata": {},
   "outputs": [
    {
     "name": "stdout",
     "output_type": "stream",
     "text": [
      "0.3\n"
     ]
    }
   ],
   "source": [
    "trained_model = SurfacePredictor.load_from_checkpoint(trainer.checkpoint_callback.best_model_path)\n",
    "trained_model.freeze()"
   ]
  },
  {
   "cell_type": "code",
   "execution_count": 79,
   "metadata": {},
   "outputs": [
    {
     "data": {
      "application/vnd.jupyter.widget-view+json": {
       "model_id": "47e75d5aa51d4c5ca0ec2c0fd63431d5",
       "version_major": 2,
       "version_minor": 0
      },
      "text/plain": [
       "iterations:   0%|          | 0/762 [00:00<?, ?it/s]"
      ]
     },
     "metadata": {},
     "output_type": "display_data"
    }
   ],
   "source": [
    "val_dataset = SurfaceDataset(val_sequences)\n",
    "predictions, labels =  predict(val_dataset, trained_model, w_labels=True)"
   ]
  },
  {
   "cell_type": "code",
   "execution_count": 80,
   "metadata": {},
   "outputs": [
    {
     "name": "stdout",
     "output_type": "stream",
     "text": [
      "                        precision    recall  f1-score   support\n",
      "\n",
      "                carpet       0.96      1.00      0.98        47\n",
      "              concrete       0.99      0.97      0.98       172\n",
      "         fine_concrete       0.96      1.00      0.98        65\n",
      "            hard_tiles       1.00      1.00      1.00         5\n",
      "hard_tiles_large_space       1.00      1.00      1.00        63\n",
      "              soft_pvc       0.98      0.98      0.98       141\n",
      "            soft_tiles       0.98      1.00      0.99        63\n",
      "                 tiled       1.00      0.97      0.98        89\n",
      "                  wood       0.98      0.98      0.98       117\n",
      "\n",
      "              accuracy                           0.98       762\n",
      "             macro avg       0.98      0.99      0.99       762\n",
      "          weighted avg       0.98      0.98      0.98       762\n",
      "\n"
     ]
    },
    {
     "data": {
      "image/png": "[encoded data removed]",
      "text/plain": [
       "<Figure size 1008x648 with 2 Axes>"
      ]
     },
     "metadata": {},
     "output_type": "display_data"
    }
   ],
   "source": [
    "get_report(labels, predictions, classes)"
   ]
  },
  {
   "cell_type": "markdown",
   "metadata": {},
   "source": [
    "### On Test set"
   ]
  },
  {
   "cell_type": "code",
   "execution_count": 81,
   "metadata": {},
   "outputs": [
    {
     "data": {
      "application/vnd.jupyter.widget-view+json": {
       "model_id": "a442d449e499473ca6993b29fb7250e6",
       "version_major": 2,
       "version_minor": 0
      },
      "text/plain": [
       "iterations:   0%|          | 0/3816 [00:00<?, ?it/s]"
      ]
     },
     "metadata": {},
     "output_type": "display_data"
    }
   ],
   "source": [
    "predictions, _ = predict(test_dataset, trained_model, w_labels=False)"
   ]
  },
  {
   "cell_type": "code",
   "execution_count": 82,
   "metadata": {},
   "outputs": [
    {
     "data": {
      "text/html": [
       "<div>\n",
       "<style scoped>\n",
       "    .dataframe tbody tr th:only-of-type {\n",
       "        vertical-align: middle;\n",
       "    }\n",
       "\n",
       "    .dataframe tbody tr th {\n",
       "        vertical-align: top;\n",
       "    }\n",
       "\n",
       "    .dataframe thead th {\n",
       "        text-align: right;\n",
       "    }\n",
       "</style>\n",
       "<table border=\"1\" class=\"dataframe\">\n",
       "  <thead>\n",
       "    <tr style=\"text-align: right;\">\n",
       "      <th></th>\n",
       "      <th>series_id</th>\n",
       "      <th>surface</th>\n",
       "    </tr>\n",
       "  </thead>\n",
       "  <tbody>\n",
       "    <tr>\n",
       "      <th>0</th>\n",
       "      <td>0</td>\n",
       "      <td>soft_pvc</td>\n",
       "    </tr>\n",
       "    <tr>\n",
       "      <th>1</th>\n",
       "      <td>1</td>\n",
       "      <td>wood</td>\n",
       "    </tr>\n",
       "    <tr>\n",
       "      <th>2</th>\n",
       "      <td>2</td>\n",
       "      <td>concrete</td>\n",
       "    </tr>\n",
       "    <tr>\n",
       "      <th>3</th>\n",
       "      <td>3</td>\n",
       "      <td>wood</td>\n",
       "    </tr>\n",
       "    <tr>\n",
       "      <th>4</th>\n",
       "      <td>4</td>\n",
       "      <td>fine_concrete</td>\n",
       "    </tr>\n",
       "    <tr>\n",
       "      <th>...</th>\n",
       "      <td>...</td>\n",
       "      <td>...</td>\n",
       "    </tr>\n",
       "    <tr>\n",
       "      <th>3811</th>\n",
       "      <td>3811</td>\n",
       "      <td>concrete</td>\n",
       "    </tr>\n",
       "    <tr>\n",
       "      <th>3812</th>\n",
       "      <td>3812</td>\n",
       "      <td>tiled</td>\n",
       "    </tr>\n",
       "    <tr>\n",
       "      <th>3813</th>\n",
       "      <td>3813</td>\n",
       "      <td>soft_pvc</td>\n",
       "    </tr>\n",
       "    <tr>\n",
       "      <th>3814</th>\n",
       "      <td>3814</td>\n",
       "      <td>soft_tiles</td>\n",
       "    </tr>\n",
       "    <tr>\n",
       "      <th>3815</th>\n",
       "      <td>3815</td>\n",
       "      <td>soft_pvc</td>\n",
       "    </tr>\n",
       "  </tbody>\n",
       "</table>\n",
       "<p>3816 rows × 2 columns</p>\n",
       "</div>"
      ],
      "text/plain": [
       "      series_id        surface\n",
       "0             0       soft_pvc\n",
       "1             1           wood\n",
       "2             2       concrete\n",
       "3             3           wood\n",
       "4             4  fine_concrete\n",
       "...         ...            ...\n",
       "3811       3811       concrete\n",
       "3812       3812          tiled\n",
       "3813       3813       soft_pvc\n",
       "3814       3814     soft_tiles\n",
       "3815       3815       soft_pvc\n",
       "\n",
       "[3816 rows x 2 columns]"
      ]
     },
     "execution_count": 82,
     "metadata": {},
     "output_type": "execute_result"
    }
   ],
   "source": [
    "surfaces = [label_encoder.classes_[i] for i in predictions]\n",
    "sub = pd.DataFrame({'series_id':series_ids ,'surface': surfaces})\n",
    "sub.to_csv('output/03_submission.csv', index=False)\n",
    "sub"
   ]
  },
  {
   "cell_type": "code",
   "execution_count": 83,
   "metadata": {},
   "outputs": [
    {
     "name": "stderr",
     "output_type": "stream",
     "text": [
      "100%|██████████| 53.1k/53.1k [00:01<00:00, 31.8kB/s]\n"
     ]
    },
    {
     "data": {
      "text/plain": [
       "Successfully submitted to CareerCon 2019 - Help Navigate Robots "
      ]
     },
     "execution_count": 83,
     "metadata": {},
     "output_type": "execute_result"
    }
   ],
   "source": [
    "api.competition_submit_cli('output/03_submission.csv', 'after hyperparameter tuning', 'career-con-2019')"
   ]
  },
  {
   "cell_type": "code",
   "execution_count": null,
   "metadata": {},
   "outputs": [],
   "source": []
  }
 ],
 "metadata": {
  "interpreter": {
   "hash": "9f840a4eef7bbb90aedd234cef1162b46862d1489558fee5c318f5cebad6ff00"
  },
  "kernelspec": {
   "display_name": "Python 3.9.6 64-bit ('tensorflow': conda)",
   "language": "python",
   "name": "python3"
  },
  "language_info": {
   "codemirror_mode": {
    "name": "ipython",
    "version": 3
   },
   "file_extension": ".py",
   "mimetype": "text/x-python",
   "name": "python",
   "nbconvert_exporter": "python",
   "pygments_lexer": "ipython3",
   "version": "3.7.12"
  },
  "orig_nbformat": 4
 },
 "nbformat": 4,
 "nbformat_minor": 2
}
