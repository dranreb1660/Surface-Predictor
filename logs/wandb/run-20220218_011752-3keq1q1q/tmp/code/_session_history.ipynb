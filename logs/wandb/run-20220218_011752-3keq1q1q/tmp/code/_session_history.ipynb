{
 "cells": [
  {
   "cell_type": "code",
   "execution_count": 1,
   "id": "b816560d",
   "metadata": {},
   "outputs": [],
   "source": [
    "params23 ={\n",
    "    'n_features': len(feature_columns),\n",
    "    \"n_classes\": len(label_encoder.classes_),\n",
    "    \"dropout\": 0.4,\n",
    "    \"n_hidden\": 512,\n",
    "    \"batch_size\": 512,\n",
    "    \"lr\": 0.00426   \n",
    "    }"
   ]
  },
  {
   "cell_type": "code",
   "execution_count": 2,
   "id": "f17de2f4",
   "metadata": {},
   "outputs": [],
   "source": [
    "# from google.colab import drive\n",
    "from pathlib import Path\n",
    "# drive.mount('/content/gdrive', force_remount=True)\n",
    "%cd \"/content/drive/Othercomputers/my_mac/Coding_stuff/Projects/Surface_Predictor\""
   ]
  },
  {
   "cell_type": "code",
   "execution_count": 3,
   "id": "b13ffdb7",
   "metadata": {},
   "outputs": [],
   "source": [
    "creds = '...'\n",
    "cred_path = Path('~/.kaggle/kaggle.json').expanduser()\n",
    "if not cred_path.exists():\n",
    "  print('entered')\n",
    "  cred_path.parent.mkdir(exist_ok=True)\n",
    "  cred_path.write_text(creds)\n",
    "  cred_path.chmod(0o600)"
   ]
  },
  {
   "cell_type": "code",
   "execution_count": 4,
   "id": "e3066331",
   "metadata": {},
   "outputs": [],
   "source": [
    "# !kaggle competitions download -c career-con-2019 -p ./data/\n",
    "# !unzip ./data/X_test.csv.zip -d ./data\n",
    "# !unzip ./data/X_train.csv.zip -d ./data\n",
    "# !rm ./data/X_train.csv.zip ./data/X_test.csv.zip"
   ]
  },
  {
   "cell_type": "code",
   "execution_count": 5,
   "id": "1e69ed5e",
   "metadata": {},
   "outputs": [],
   "source": [
    "%pip install -Uqq pytorch-lightning torchmetrics wandb"
   ]
  },
  {
   "cell_type": "code",
   "execution_count": 6,
   "id": "29ade2b6",
   "metadata": {},
   "outputs": [],
   "source": [
    "import numpy as np\n",
    "import pandas as pd\n",
    "import matplotlib.pyplot as plt\n",
    "from matplotlib import rc\n",
    "import seaborn as sns\n",
    "import wandb\n",
    "from tqdm.auto import tqdm \n",
    "\n",
    "import torch\n",
    "import torch.autograd as autograd\n",
    "import torch.nn as nn\n",
    "import torch.nn.functional as F\n",
    "import torch.optim as optim\n",
    "from torch.utils.data import Dataset, DataLoader\n",
    "\n",
    "import pytorch_lightning as pl\n",
    "from pytorch_lightning.callbacks import ModelCheckpoint, EarlyStopping\n",
    "from pytorch_lightning.callbacks.progress import TQDMProgressBar\n",
    "from pytorch_lightning.loggers import WandbLogger\n",
    "import torchmetrics\n",
    "\n",
    "from pylab import rcParams\n",
    "from matplotlib.ticker import MaxNLocator\n",
    "from sklearn.metrics import classification_report, confusion_matrix\n",
    "from sklearn.preprocessing import LabelEncoder\n",
    "from sklearn.model_selection import train_test_split"
   ]
  },
  {
   "cell_type": "code",
   "execution_count": 7,
   "id": "3692bc85",
   "metadata": {},
   "outputs": [],
   "source": [
    "%matplotlib inline\n",
    "%config InlinBackend.figure_format = 'retina'\n",
    "sns.set_style(style= 'whitegrid')\n",
    "rcParams['figure.figsize'] = 14,9"
   ]
  },
  {
   "cell_type": "code",
   "execution_count": 8,
   "id": "4eb1e86d",
   "metadata": {},
   "outputs": [
    {
     "name": "stdout",
     "output_type": "stream",
     "text": [
      "42"
     ]
    }
   ],
   "source": [
    "pl.seed_everything(42)"
   ]
  },
  {
   "cell_type": "code",
   "execution_count": 9,
   "id": "7a0e9741",
   "metadata": {},
   "outputs": [],
   "source": [
    "!wandb login"
   ]
  },
  {
   "cell_type": "code",
   "execution_count": 10,
   "id": "b93f1ac8",
   "metadata": {},
   "outputs": [],
   "source": [
    "!pwd"
   ]
  },
  {
   "cell_type": "code",
   "execution_count": 11,
   "id": "0619f9ea",
   "metadata": {},
   "outputs": [
    {
     "name": "stdout",
     "output_type": "stream",
     "text": [
      "          row_id  series_id  ...  linear_acceleration_Y  linear_acceleration_Z\n",
      "0            0_0          0  ...                 2.1030                -9.7532\n",
      "1            0_1          0  ...                 1.5064                -9.4128\n",
      "2            0_2          0  ...                 1.5922                -8.7267\n",
      "3            0_3          0  ...                 1.0993               -10.0960\n",
      "4            0_4          0  ...                 1.4689               -10.4410\n",
      "...          ...        ...  ...                    ...                    ...\n",
      "487675  3809_123       3809  ...                 2.0115                -9.0063\n",
      "487676  3809_124       3809  ...                 3.0696                -8.1257\n",
      "487677  3809_125       3809  ...                 4.2622                -8.1443\n",
      "487678  3809_126       3809  ...                 4.7130                -9.4435\n",
      "487679  3809_127       3809  ...                 4.2751               -10.4980\n",
      "\n",
      "[487680 rows x 13 columns]"
     ]
    }
   ],
   "source": [
    "x_train = pd.read_csv('./data/raw/X_train.csv', low_memory=False)\n",
    "y_train = pd.read_csv('./data/raw/y_train.csv', low_memory=False)\n",
    "x_train"
   ]
  },
  {
   "cell_type": "code",
   "execution_count": 12,
   "id": "ca0fa46b",
   "metadata": {},
   "outputs": [],
   "source": [
    "x_train.info()"
   ]
  },
  {
   "cell_type": "code",
   "execution_count": 13,
   "id": "40c9f11a",
   "metadata": {},
   "outputs": [
    {
     "name": "stdout",
     "output_type": "stream",
     "text": [
      "      series_id  group_id        surface\n",
      "0             0        13  fine_concrete\n",
      "1             1        31       concrete\n",
      "2             2        20       concrete\n",
      "3             3        31       concrete\n",
      "4             4        22     soft_tiles\n",
      "...         ...       ...            ...\n",
      "3805       3805        55          tiled\n",
      "3806       3806        67           wood\n",
      "3807       3807        48  fine_concrete\n",
      "3808       3808        54          tiled\n",
      "3809       3809        56       soft_pvc\n",
      "\n",
      "[3810 rows x 3 columns]"
     ]
    }
   ],
   "source": [
    "y_train"
   ]
  },
  {
   "cell_type": "code",
   "execution_count": 14,
   "id": "93cc79b1",
   "metadata": {},
   "outputs": [],
   "source": [
    "y_train.surface.value_counts().plot(kind='bar')\n",
    "plt.xticks(rotation=45)\n",
    "plt.title('Distribution of target (surface) ')\n",
    "plt.show()"
   ]
  },
  {
   "cell_type": "code",
   "execution_count": 15,
   "id": "8913c573",
   "metadata": {},
   "outputs": [],
   "source": [
    "y_train.surface.value_counts().plot(kind='bar')\n",
    "plt.xticks(rotation=45)\n",
    "plt.title('Distribution of target (surface) ')\n",
    "plt.show()"
   ]
  },
  {
   "cell_type": "code",
   "execution_count": 16,
   "id": "611edc9b",
   "metadata": {},
   "outputs": [],
   "source": [
    "label_encoder =  LabelEncoder()\n",
    "encoded_labels = label_encoder.fit_transform(y_train.surface)"
   ]
  },
  {
   "cell_type": "code",
   "execution_count": 17,
   "id": "c85eead3",
   "metadata": {},
   "outputs": [
    {
     "name": "stdout",
     "output_type": "stream",
     "text": [
      "array(['carpet', 'concrete', 'fine_concrete', 'hard_tiles',\n",
      "       'hard_tiles_large_space', 'soft_pvc', 'soft_tiles', 'tiled',\n",
      "       'wood'], dtype=object)"
     ]
    }
   ],
   "source": [
    "label_encoder.classes_"
   ]
  },
  {
   "cell_type": "code",
   "execution_count": 18,
   "id": "6c3f2442",
   "metadata": {},
   "outputs": [
    {
     "name": "stdout",
     "output_type": "stream",
     "text": [
      "(array([2, 1, 1, 1, 6]),\n",
      " ['fine_concrete', 'concrete', 'concrete', 'concrete', 'soft_tiles'])"
     ]
    }
   ],
   "source": [
    "encoded_labels[:5], list(y_train.surface[:5])"
   ]
  },
  {
   "cell_type": "code",
   "execution_count": 19,
   "id": "dd11db5b",
   "metadata": {},
   "outputs": [
    {
     "name": "stdout",
     "output_type": "stream",
     "text": [
      "      series_id  group_id        surface  label\n",
      "0             0        13  fine_concrete      2\n",
      "1             1        31       concrete      1\n",
      "2             2        20       concrete      1\n",
      "3             3        31       concrete      1\n",
      "4             4        22     soft_tiles      6\n",
      "...         ...       ...            ...    ...\n",
      "3805       3805        55          tiled      7\n",
      "3806       3806        67           wood      8\n",
      "3807       3807        48  fine_concrete      2\n",
      "3808       3808        54          tiled      7\n",
      "3809       3809        56       soft_pvc      5\n",
      "\n",
      "[3810 rows x 4 columns]"
     ]
    }
   ],
   "source": [
    "y_train['label'] = encoded_labels\n",
    "y_train"
   ]
  },
  {
   "cell_type": "code",
   "execution_count": 20,
   "id": "35200313",
   "metadata": {},
   "outputs": [
    {
     "name": "stdout",
     "output_type": "stream",
     "text": [
      "          row_id  series_id  ...  linear_acceleration_Y  linear_acceleration_Z\n",
      "0            0_0          0  ...                 2.1030                -9.7532\n",
      "1            0_1          0  ...                 1.5064                -9.4128\n",
      "2            0_2          0  ...                 1.5922                -8.7267\n",
      "3            0_3          0  ...                 1.0993               -10.0960\n",
      "4            0_4          0  ...                 1.4689               -10.4410\n",
      "...          ...        ...  ...                    ...                    ...\n",
      "487675  3809_123       3809  ...                 2.0115                -9.0063\n",
      "487676  3809_124       3809  ...                 3.0696                -8.1257\n",
      "487677  3809_125       3809  ...                 4.2622                -8.1443\n",
      "487678  3809_126       3809  ...                 4.7130                -9.4435\n",
      "487679  3809_127       3809  ...                 4.2751               -10.4980\n",
      "\n",
      "[487680 rows x 13 columns]"
     ]
    }
   ],
   "source": [
    "x_train"
   ]
  },
  {
   "cell_type": "code",
   "execution_count": 21,
   "id": "b8b07607",
   "metadata": {},
   "outputs": [
    {
     "name": "stdout",
     "output_type": "stream",
     "text": [
      "['orientation_X',\n",
      " 'orientation_Y',\n",
      " 'orientation_Z',\n",
      " 'orientation_W',\n",
      " 'angular_velocity_X',\n",
      " 'angular_velocity_Y',\n",
      " 'angular_velocity_Z',\n",
      " 'linear_acceleration_X',\n",
      " 'linear_acceleration_Y',\n",
      " 'linear_acceleration_Z']"
     ]
    }
   ],
   "source": [
    "#we dont need the first 3 cols\n",
    "feature_columns = x_train.columns.to_list()[3:]\n",
    "feature_columns"
   ]
  },
  {
   "cell_type": "code",
   "execution_count": 22,
   "id": "570d121d",
   "metadata": {},
   "outputs": [
    {
     "name": "stdout",
     "output_type": "stream",
     "text": [
      "0       128\n",
      "2544    128\n",
      "2532    128\n",
      "2533    128\n",
      "2534    128\n",
      "       ... \n",
      "1274    128\n",
      "1275    128\n",
      "1276    128\n",
      "1277    128\n",
      "3809    128\n",
      "Name: series_id, Length: 3810, dtype: int64"
     ]
    }
   ],
   "source": [
    "#it looks like the sequences have been grouped for us\n",
    "x_train.series_id.value_counts()"
   ]
  },
  {
   "cell_type": "code",
   "execution_count": 23,
   "id": "fdc9d41d",
   "metadata": {},
   "outputs": [],
   "source": [
    "sequences = []\n",
    "for series_id, group in x_train.groupby('series_id'):\n",
    "  sequence_features = group[feature_columns]\n",
    "  label = y_train[y_train.series_id == series_id].iloc[0].label\n",
    "  sequences.append((sequence_features, label))"
   ]
  },
  {
   "cell_type": "code",
   "execution_count": 24,
   "id": "d3270049",
   "metadata": {},
   "outputs": [
    {
     "name": "stdout",
     "output_type": "stream",
     "text": [
      "(     orientation_X  orientation_Y  ...  linear_acceleration_Y  linear_acceleration_Z\n",
      " 0         -0.75853       -0.63435  ...                2.10300                -9.7532\n",
      " 1         -0.75853       -0.63434  ...                1.50640                -9.4128\n",
      " 2         -0.75853       -0.63435  ...                1.59220                -8.7267\n",
      " 3         -0.75852       -0.63436  ...                1.09930               -10.0960\n",
      " 4         -0.75852       -0.63435  ...                1.46890               -10.4410\n",
      " ..             ...            ...  ...                    ...                    ...\n",
      " 123       -0.75943       -0.63316  ...                1.79890                -6.8687\n",
      " 124       -0.75945       -0.63313  ...                2.35620                -6.8926\n",
      " 125       -0.75949       -0.63309  ...                0.97328                -9.9795\n",
      " 126       -0.75950       -0.63307  ...                0.34931               -11.9770\n",
      " 127       -0.75953       -0.63306  ...                0.80346               -10.6970\n",
      " \n",
      " [128 rows x 10 columns], 2)"
     ]
    }
   ],
   "source": [
    "sequences[0]"
   ]
  },
  {
   "cell_type": "code",
   "execution_count": 25,
   "id": "1435c893",
   "metadata": {},
   "outputs": [
    {
     "name": "stdout",
     "output_type": "stream",
     "text": [
      "(3048, 762)"
     ]
    }
   ],
   "source": [
    "train_sequences, val_sequences = train_test_split(sequences, test_size=0.2)\n",
    "len(train_sequences), len(val_sequences)"
   ]
  },
  {
   "cell_type": "code",
   "execution_count": 26,
   "id": "9565b4cc",
   "metadata": {},
   "outputs": [],
   "source": [
    "#sanity check\n",
    "len(train_sequences), len(val_sequences)\n",
    "print('all train seq shape check: ',[(train_sequences[i][0].shape) for i in range(len(train_sequences)) if (train_sequences[i][0].shape) != (128, 10)])\n",
    "# print('all train label shape check: ',[len(train_sequences[i][1]) for i in range(len(train_sequences)) if len(train_sequences[i][1]) != 10])\n",
    "print('all train seq shape check: ',[(val_sequences[i][0].shape) for i in range(len(val_sequences)) if (val_sequences[i][0].shape) != (128, 10)])\n",
    "# print('all train label shape check: ',[len(val_sequences[i][1]) for i in range(len(val_sequences)) if len(val_sequences[i][1]) != 10])"
   ]
  },
  {
   "cell_type": "code",
   "execution_count": 27,
   "id": "d5d73167",
   "metadata": {},
   "outputs": [],
   "source": [
    "\n",
    "class SurfaceDataset(Dataset):\n",
    "\n",
    "  def __init__(self, sequences) -> None:\n",
    "      super().__init__()\n",
    "      self.sequences = sequences\n",
    "\n",
    "  def __len__(self):\n",
    "    return len(self.sequences)\n",
    "\n",
    "  def __getitem__(self, index):\n",
    "    sequence, label = self.sequences[index]\n",
    "    return dict(\n",
    "      sequence=torch.Tensor(sequence.to_numpy()),\n",
    "      label=torch.tensor(label).long()\n",
    "    )"
   ]
  },
  {
   "cell_type": "code",
   "execution_count": 28,
   "id": "5254a4de",
   "metadata": {},
   "outputs": [],
   "source": [
    "class SurfaceDatamodule(pl.LightningDataModule):\n",
    "\n",
    "  def __init__(self, train_sequences, val_sequences, batch_size):\n",
    "    super().__init__()\n",
    "    self.train_sequences = train_sequences\n",
    "    self.val_sequences = val_sequences\n",
    "    self.batch_size = batch_size\n",
    "\n",
    "  def setup(self, stage=None):\n",
    "    self.train_dataset = SurfaceDataset(self.train_sequences)\n",
    "    self.val_dataset = SurfaceDataset(self.val_sequences)\n",
    "\n",
    "  def train_dataloader(self):\n",
    "      return DataLoader(self.train_dataset, \n",
    "                        batch_size=self.batch_size,\n",
    "                        num_workers=3)\n",
    "      \n",
    "  def val_dataloader(self):\n",
    "      return DataLoader(self.val_dataset,\n",
    "                        batch_size=self.batch_size,\n",
    "                        num_workers=2)"
   ]
  },
  {
   "cell_type": "code",
   "execution_count": 29,
   "id": "d496e923",
   "metadata": {},
   "outputs": [],
   "source": [
    "\n",
    "class SurfaceModel(nn.Module):\n",
    "\n",
    "  def __init__(self, n_features, n_classes, n_hidden,dropout, n_layers=3):\n",
    "    super().__init__()\n",
    "    print(dropout)\n",
    "    self.n_fearues = n_features\n",
    "    self.n_classes = n_classes\n",
    "    self.n_hidden = n_hidden\n",
    "    self.n_layers = n_layers\n",
    "    self.dropout = dropout\n",
    "\n",
    "    self.lstm = nn.LSTM(\n",
    "        input_size =self.n_fearues,\n",
    "        hidden_size = self.n_hidden,\n",
    "        num_layers = self.n_layers,\n",
    "        dropout = self.dropout,\n",
    "        batch_first = True\n",
    "    )\n",
    "    self.cassifier = nn.Linear(self.n_hidden, self.n_classes)\n",
    "\n",
    "  def forward(self, x):\n",
    "        self.lstm.flatten_parameters()\n",
    "        _, (hidden,_) = self.lstm(x)\n",
    "        out = hidden[-1]\n",
    "        return self.cassifier(out)"
   ]
  },
  {
   "cell_type": "code",
   "execution_count": 30,
   "id": "1f73cdc9",
   "metadata": {},
   "outputs": [],
   "source": [
    "class SurfacePredictor(pl.LightningModule):\n",
    "  def __init__(self, n_features, n_classes, n_hidden, seq_length, dropout, n_layers=3, lr=0.0001):\n",
    "    super().__init__()\n",
    "    self.lr = lr \n",
    "    self.seq_length =seq_length\n",
    "    self.n_features = n_features\n",
    "\n",
    "    self.model = SurfaceModel(n_features, n_classes, n_hidden, n_layers=n_layers,dropout=dropout)\n",
    "    self.criterion = nn.CrossEntropyLoss()\n",
    "    self.train_ac = torchmetrics.Accuracy()\n",
    "    self.val_ac = torchmetrics.Accuracy()\n",
    "    self.save_hyperparameters()\n",
    "\n",
    "\n",
    "  def forward(self, x, labels=None):\n",
    "    output = self.model(x)\n",
    "\n",
    "    loss = 0\n",
    "    if labels is not None:\n",
    "      loss = self.criterion(output, labels)\n",
    "      return loss, output\n",
    "\n",
    "    return output\n",
    "\n",
    "\n",
    "  def training_step(self, batch, batch_idx):\n",
    "    sequences = batch['sequence']\n",
    "    labels = batch['label']\n",
    "    loss, outputs = self(sequences, labels)\n",
    "    predictions = torch.argmax(outputs, dim=1)\n",
    "    step_ac = self.train_ac(predictions, labels)\n",
    "\n",
    "    self.log('train_loss', loss, prog_bar=True, logger=True)\n",
    "    self.log('train_accuracy', step_ac, prog_bar=True, logger=True)\n",
    "\n",
    "    return dict(loss=loss, accuracy=step_ac)\n",
    "\n",
    "  def validation_step(self, batch, batch_idx):\n",
    "    sequences = batch['sequence']\n",
    "    labels = batch['label']\n",
    "    loss, outputs = self(sequences, labels)\n",
    "    predictions = torch.argmax(outputs, dim=1)\n",
    "    step_ac = self.train_ac(predictions, labels)\n",
    "\n",
    "    self.log('val_loss', loss, prog_bar=True, logger=True)\n",
    "    self.log('val_accuracy', step_ac, prog_bar=True, logger=True)\n",
    "\n",
    "    return dict(loss=loss, accuracy=step_ac, loggits=outputs)\n",
    "\n",
    "\n",
    "  def validation_epoch_end(self, validation_step_outputs):\n",
    "    dummyImput = torch.zeros(\n",
    "        (1, self.seq_length, self.n_features), device=self.device)\n",
    "    model_filename = f\"model_{str(self.global_step).zfill(5)}.onnx\"\n",
    "    torch.onnx.export(self, dummyImput, model_filename, opset_version=11)\n",
    "    # wandb.save(model_filename,)\n",
    "    outputs = [out['loggits'] for out in validation_step_outputs]\n",
    "    flattened_outputs = torch.flatten(\n",
    "          torch.cat(outputs))\n",
    "    self.logger.experiment.log(\n",
    "    {'valid/logits': wandb.Histogram(flattened_outputs.to('cpu')),\n",
    "      'epoch': self.current_epoch}\n",
    "    )\n",
    "\n",
    "\n",
    "  def configure_optimizers(self):\n",
    "    return torch.optim.AdamW(self.parameters(), lr=self.lr)\n",
    " "
   ]
  },
  {
   "cell_type": "code",
   "execution_count": 31,
   "id": "035dc010",
   "metadata": {},
   "outputs": [],
   "source": [
    "n_epoch = 10\n",
    "bs = 256\n",
    "n_features = len(feature_columns)\n",
    "n_classes = len(label_encoder.classes_)\n",
    "n_hidden = 128\n",
    "seq_length= 128\n",
    "\n",
    "checkpoint_callback = ModelCheckpoint(\n",
    "    dirpath='checkpoints',\n",
    "    filename='best_checkpoint',\n",
    "    save_top_k=1,\n",
    "    verbose=True,\n",
    "    monitor='val_loss',\n",
    "    mode='min'\n",
    ")\n",
    "early_stopping_callback = EarlyStopping(monitor='val_loss', patience=4, verbose=True)\n",
    "progress_bar = TQDMProgressBar(refresh_rate=30)\n",
    "\n",
    "callbacks = [early_stopping_callback, checkpoint_callback, progress_bar]\n",
    "logger = WandbLogger(name='onnx', save_dir='./logs', project='surface_pred',settings=wandb.Settings(symlink=False))\n",
    "# wandb.init(settings=wandb.Settings(symlink=False))\n",
    "trainer = pl.Trainer(gpus = 1,\n",
    "                     max_epochs = n_epoch,\n",
    "                     logger= logger,\n",
    "                     callbacks = callbacks,\n",
    "                     precision=16)"
   ]
  },
  {
   "cell_type": "code",
   "execution_count": 32,
   "id": "1fe4054d",
   "metadata": {},
   "outputs": [],
   "source": [
    "params23 ={\n",
    "    'n_features': len(feature_columns),\n",
    "    \"n_classes\": len(label_encoder.classes_),\n",
    "    \"dropout\": 0.4,\n",
    "    \"n_hidden\": 512,\n",
    "    \"batch_size\": 512,\n",
    "    \"lr\": 0.00426   \n",
    "    }"
   ]
  },
  {
   "cell_type": "code",
   "execution_count": 33,
   "id": "fb832036",
   "metadata": {},
   "outputs": [],
   "source": [
    "def train(params, name):\n",
    "\n",
    "    # set up W&B logger\n",
    "    wandb_logger = WandbLogger(log_model=True)  # log final model\n",
    "\n",
    "\n",
    "    # setup data\n",
    "    data_module =SurfaceDatamodule(train_sequences, val_sequences, batch_size=params['batch_size'])\n",
    "\n",
    "    # setup model - note how we refer to sweep parameters with wandb.config\n",
    "    model = SurfacePredictor(n_features, n_classes,params['n_hidden'], seq_length, dropout = params['dropout'], lr = params['lr'])\n",
    "\n",
    "    # early_stopping_callback = EarlyStopping(monitor='val_loss', patience=4, verbose=True)\n",
    "    progress_bar = TQDMProgressBar(refresh_rate=30)\n",
    "\n",
    "    logger = WandbLogger(name=name, save_dir='./logs', project='surface_pred')\n",
    "    callbacks = [progress_bar]\n",
    "\n",
    "    # setup Trainer\n",
    "    trainer = pl.Trainer(gpus = 1,\n",
    "                        max_epochs = 250,\n",
    "                        logger= logger,\n",
    "                        callbacks = callbacks,\n",
    "                        precision=16)\n",
    "\n",
    "    # train\n",
    "    trainer.fit(model, datamodule=data_module)\n",
    "    wandb.finish()"
   ]
  },
  {
   "cell_type": "code",
   "execution_count": 34,
   "id": "6b9cfd5b",
   "metadata": {},
   "outputs": [],
   "source": [
    "def train(params, run_name):\n",
    "    # setup data\n",
    "    data_module =SurfaceDatamodule(train_sequences, val_sequences, batch_size=params['batch_size'])\n",
    "\n",
    "    model = SurfacePredictor(n_features= params['n_features'], \n",
    "                             n_classes= params['n_classes'],\n",
    "                             n_hidden= params['n_hidden'], \n",
    "                             seq_length = params['seq_length'],\n",
    "                             dropout = params['dropout'], \n",
    "                             lr = params['lr'])\n",
    "    # set up W&B logger\n",
    "    checkpoint_callback = ModelCheckpoint(\n",
    "    dirpath='checkpoints',\n",
    "    filename='best_checkpoint',\n",
    "    save_top_k=1,\n",
    "    verbose=True,\n",
    "    monitor='val_accuracy',\n",
    "    mode='max'\n",
    ")\n",
    "    early_stopping_callback = EarlyStopping(monitor='val_accuracy', patience=10, verbose=True)\n",
    "    progress_bar = TQDMProgressBar(refresh_rate=30)\n",
    "\n",
    "    callbacks = [early_stopping_callback, checkpoint_callback, progress_bar]\n",
    "    \n",
    "    logger = WandbLogger(name=run_name, save_dir='logs', project='surface_pred')\n",
    "    progress_bar = TQDMProgressBar(refresh_rate=30)\n",
    "\n",
    "    callbacks = [progress_bar]\n",
    "\n",
    "    # setup Trainer\n",
    "    trainer = pl.Trainer(gpus = 1,\n",
    "                        max_epochs = 250,\n",
    "                        logger= logger,\n",
    "                        callbacks = callbacks,\n",
    "                        precision=16)\n",
    "\n",
    "    # train\n",
    "    trainer.fit(model, datamodule=data_module)\n",
    "    wandb.finish()"
   ]
  },
  {
   "cell_type": "code",
   "execution_count": 35,
   "id": "81f70a42",
   "metadata": {},
   "outputs": [],
   "source": [
    "params23 ={\n",
    "    'n_features': len(feature_columns),\n",
    "    \"n_classes\": len(label_encoder.classes_),\n",
    "    \"seq_length\":128,\n",
    "    \"dropout\": 0.5,\n",
    "    \"n_hidden\": 5128,\n",
    "    \"batch_size\": 64,\n",
    "    \"lr\": 0.01  \n",
    "    }"
   ]
  },
  {
   "cell_type": "code",
   "execution_count": 36,
   "id": "c49aedcb",
   "metadata": {},
   "outputs": [],
   "source": [
    "params ={\n",
    "    'n_features': len(feature_columns),\n",
    "    \"n_classes\": len(label_encoder.classes_),\n",
    "    \"seq_length\":128,\n",
    "    \"dropout\": 0.5,\n",
    "    \"n_hidden\": 5128,\n",
    "    \"batch_size\": 64,\n",
    "    \"lr\": 0.01  \n",
    "    }?"
   ]
  },
  {
   "cell_type": "code",
   "execution_count": 37,
   "id": "80fe5eac",
   "metadata": {},
   "outputs": [],
   "source": [
    "params ={\n",
    "    'n_features': len(feature_columns),\n",
    "    \"n_classes\": len(label_encoder.classes_),\n",
    "    \"seq_length\":128,\n",
    "    \"dropout\": 0.5,\n",
    "    \"n_hidden\": 5128,\n",
    "    \"batch_size\": 64,\n",
    "    \"lr\": 0.01  \n",
    "    }"
   ]
  },
  {
   "cell_type": "code",
   "execution_count": 38,
   "id": "50d3e47f",
   "metadata": {},
   "outputs": [],
   "source": [
    "params ={\n",
    "    'n_features': len(feature_columns),\n",
    "    \"n_classes\": len(label_encoder.classes_),\n",
    "    \"seq_length\":128,\n",
    "    \"dropout\": 0.5,\n",
    "    \"n_hidden\": 5128,\n",
    "    \"batch_size\": 64,\n",
    "    \"lr\": 0.01  \n",
    "    }??"
   ]
  },
  {
   "cell_type": "code",
   "execution_count": 39,
   "id": "21efeea8",
   "metadata": {},
   "outputs": [],
   "source": [
    "params ={\n",
    "    'n_features': len(feature_columns),\n",
    "    \"n_classes\": len(label_encoder.classes_),\n",
    "    \"seq_length\":128,\n",
    "    \"dropout\": 0.5,\n",
    "    \"n_hidden\": 5128,\n",
    "    \"batch_size\": 64,\n",
    "    \"lr\": 0.01  \n",
    "    }"
   ]
  },
  {
   "cell_type": "code",
   "execution_count": 40,
   "id": "e4c70ae7",
   "metadata": {},
   "outputs": [],
   "source": [
    "params??"
   ]
  },
  {
   "cell_type": "code",
   "execution_count": 41,
   "id": "1a61a91e",
   "metadata": {},
   "outputs": [],
   "source": [
    "params ={\n",
    "    'n_features': len(feature_columns),\n",
    "    \"n_classes\": len(label_encoder.classes_),\n",
    "    \"seq_length\":128,\n",
    "    \"dropout\": 0.5,\n",
    "    \"n_hidden\": 128,\n",
    "    \"batch_size\": 64,\n",
    "    \"lr\": 0.01  \n",
    "    }"
   ]
  },
  {
   "cell_type": "code",
   "execution_count": 42,
   "id": "ab7443cb",
   "metadata": {},
   "outputs": [],
   "source": [
    "def train(params, run_name):\n",
    "    # setup data\n",
    "    data_module =SurfaceDatamodule(train_sequences, val_sequences, batch_size=params['batch_size'])\n",
    "\n",
    "    model = SurfacePredictor(n_features= params['n_features'], \n",
    "                             n_classes= params['n_classes'],\n",
    "                             n_hidden= params['n_hidden'], \n",
    "                             seq_length = params['seq_length'],\n",
    "                             dropout = params['dropout'], \n",
    "                             lr = params['lr'])\n",
    "    # set up W&B logger\n",
    "    checkpoint_callback = ModelCheckpoint(\n",
    "    dirpath='checkpoints',\n",
    "    filename='best_checkpoint',\n",
    "    save_top_k=1,\n",
    "    verbose=True,\n",
    "    monitor='val_accuracy',\n",
    "    mode='max'\n",
    ")\n",
    "    early_stopping_callback = EarlyStopping(monitor='val_accuracy', patience=10, verbose=True)\n",
    "    progress_bar = TQDMProgressBar(refresh_rate=30)\n",
    "\n",
    "    callbacks = [early_stopping_callback, checkpoint_callback, progress_bar]\n",
    "    \n",
    "    logger = WandbLogger(name=run_name, save_dir='logs', project='surface_pred')\n",
    "    progress_bar = TQDMProgressBar(refresh_rate=30)\n",
    "\n",
    "    callbacks = [progress_bar]\n",
    "\n",
    "    # setup Trainer\n",
    "    trainer = pl.Trainer(gpus = 1,\n",
    "                        max_epochs = 250,\n",
    "                        logger= logger,\n",
    "                        callbacks = callbacks,\n",
    "                        precision=16)\n",
    "\n",
    "    # train\n",
    "    trainer.fit(model, datamodule=data_module)\n",
    "    wandb.finish()"
   ]
  },
  {
   "cell_type": "code",
   "execution_count": 43,
   "id": "2226733f",
   "metadata": {},
   "outputs": [],
   "source": [
    "train(params, 'run_41_w_128nh')"
   ]
  },
  {
   "cell_type": "code",
   "execution_count": 44,
   "id": "a783f17c",
   "metadata": {},
   "outputs": [],
   "source": [
    "def train(params, run_name):\n",
    "    # setup data\n",
    "    data_module =SurfaceDatamodule(train_sequences, val_sequences, batch_size=params['batch_size'])\n",
    "\n",
    "    model = SurfacePredictor(n_features= params['n_features'], \n",
    "                             n_classes= params['n_classes'],\n",
    "                             n_hidden= params['n_hidden'], \n",
    "                             seq_length = params['seq_length'],\n",
    "                             dropout = params['dropout'], \n",
    "                             lr = params['lr'])\n",
    "    # set up W&B logger\n",
    "    checkpoint_callback = ModelCheckpoint(\n",
    "    dirpath='checkpoints',\n",
    "    filename='best_checkpoint',\n",
    "    save_top_k=1,\n",
    "    verbose=True,\n",
    "    monitor='val_accuracy',\n",
    "    mode='max'\n",
    ")\n",
    "    early_stopping_callback = EarlyStopping(monitor='val_accuracy', patience=10, verbose=True)\n",
    "    progress_bar = TQDMProgressBar(refresh_rate=30)\n",
    "\n",
    "    callbacks = [early_stopping_callback, checkpoint_callback, progress_bar]\n",
    "    \n",
    "    logger = WandbLogger(name=run_name, save_dir='logs', project='surface_pred')\n",
    "    progress_bar = TQDMProgressBar(refresh_rate=30,)\n",
    "\n",
    "    callbacks = [progress_bar]\n",
    "\n",
    "    # setup Trainer\n",
    "    trainer = pl.Trainer(gpus = 1,\n",
    "                        max_epochs = 250,\n",
    "                        logger= logger,\n",
    "                        callbacks = callbacks,\n",
    "                        log_every_n_steps=40,\n",
    "                        precision=16)\n",
    "\n",
    "    # train\n",
    "    trainer.fit(model, datamodule=data_module)\n",
    "    wandb.finish()"
   ]
  },
  {
   "cell_type": "code",
   "execution_count": 45,
   "id": "fc9d3181",
   "metadata": {},
   "outputs": [],
   "source": [
    "params ={\n",
    "    'n_features': len(feature_columns),\n",
    "    \"n_classes\": len(label_encoder.classes_),\n",
    "    \"seq_length\":128,\n",
    "    \"dropout\": 0.5,\n",
    "    \"n_hidden\": 128,\n",
    "    \"batch_size\": 64,\n",
    "    \"lr\": 0.04  \n",
    "    }"
   ]
  },
  {
   "cell_type": "code",
   "execution_count": 46,
   "id": "f6866514",
   "metadata": {},
   "outputs": [],
   "source": [
    "train(params, 'run_41_w_128nh_04lr')"
   ]
  },
  {
   "cell_type": "code",
   "execution_count": 47,
   "id": "1b4d4295",
   "metadata": {},
   "outputs": [],
   "source": [
    "class SurfacePredictor(pl.LightningModule):\n",
    "  def __init__(self, n_features, n_classes, n_hidden, seq_length, dropout, n_layers=3, lr=0.0001):\n",
    "    super().__init__()\n",
    "    self.lr = lr \n",
    "    self.seq_length =seq_length\n",
    "    self.n_features = n_features\n",
    "\n",
    "    self.model = SurfaceModel(n_features, n_classes, n_hidden, n_layers=n_layers,dropout=dropout)\n",
    "    self.criterion = nn.CrossEntropyLoss()\n",
    "    self.train_ac = torchmetrics.Accuracy()\n",
    "    self.val_ac = torchmetrics.Accuracy()\n",
    "    self.save_hyperparameters()\n",
    "\n",
    "\n",
    "  def forward(self, x, labels=None):\n",
    "    output = self.model(x)\n",
    "\n",
    "    loss = 0\n",
    "    if labels is not None:\n",
    "      loss = self.criterion(output, labels)\n",
    "      return loss, output\n",
    "\n",
    "    return output\n",
    "\n",
    "\n",
    "  def training_step(self, batch, batch_idx):\n",
    "    sequences = batch['sequence']\n",
    "    labels = batch['label']\n",
    "    loss, outputs = self(sequences, labels)\n",
    "    predictions = torch.argmax(outputs, dim=1)\n",
    "    step_ac = self.train_ac(predictions, labels)\n",
    "\n",
    "    self.log('train_loss', loss, prog_bar=True, logger=True)\n",
    "    self.log('train_accuracy', step_ac, prog_bar=True, logger=True)\n",
    "\n",
    "    return dict(loss=loss, accuracy=step_ac)\n",
    "\n",
    "  def validation_step(self, batch, batch_idx):\n",
    "    sequences = batch['sequence']\n",
    "    labels = batch['label']\n",
    "    loss, outputs = self(sequences, labels)\n",
    "    predictions = torch.argmax(outputs, dim=1)\n",
    "    step_ac = self.train_ac(predictions, labels)\n",
    "\n",
    "    self.log('val_loss', loss, prog_bar=True, logger=True)\n",
    "    self.log('val_accuracy', step_ac, prog_bar=True, logger=True)\n",
    "\n",
    "    return dict(loss=loss, accuracy=step_ac, loggits=outputs)\n",
    "\n",
    "\n",
    "  def validation_epoch_end(self, validation_step_outputs):\n",
    "    dummyImput = torch.zeros(\n",
    "        (1, self.seq_length, self.n_features), device=self.device)\n",
    "    model_filename = f\"model_{str(self.global_step).zfill(5)}.onnx\"\n",
    "    # torch.onnx.export(self, dummyImput, model_filename, opset_version=11)\n",
    "    # wandb.save(model_filename,)\n",
    "    outputs = [out['loggits'] for out in validation_step_outputs]\n",
    "    flattened_outputs = torch.flatten(\n",
    "          torch.cat(outputs))\n",
    "    self.logger.experiment.log(\n",
    "    {'valid/logits': wandb.Histogram(flattened_outputs.to('cpu')),\n",
    "      'epoch': self.current_epoch}\n",
    "    )\n",
    "\n",
    "\n",
    "  def configure_optimizers(self):\n",
    "    return torch.optim.AdamW(self.parameters(), lr=self.lr)\n",
    " "
   ]
  },
  {
   "cell_type": "code",
   "execution_count": 48,
   "id": "69aea81a",
   "metadata": {},
   "outputs": [],
   "source": [
    "params ={\n",
    "    'n_features': len(feature_columns),\n",
    "    \"n_classes\": len(label_encoder.classes_),\n",
    "    \"seq_length\":128,\n",
    "    \"dropout\": 0.5,\n",
    "    \"n_hidden\": 128,\n",
    "    \"batch_size\": 64,\n",
    "    \"lr\": 0.04  \n",
    "    }"
   ]
  },
  {
   "cell_type": "code",
   "execution_count": 49,
   "id": "69fcd360",
   "metadata": {},
   "outputs": [],
   "source": [
    "def train(params, run_name):\n",
    "    # setup data\n",
    "    data_module =SurfaceDatamodule(train_sequences, val_sequences, batch_size=params['batch_size'])\n",
    "\n",
    "    model = SurfacePredictor(n_features= params['n_features'], \n",
    "                             n_classes= params['n_classes'],\n",
    "                             n_hidden= params['n_hidden'], \n",
    "                             seq_length = params['seq_length'],\n",
    "                             dropout = params['dropout'], \n",
    "                             lr = params['lr'])\n",
    "    # set up W&B logger\n",
    "    checkpoint_callback = ModelCheckpoint(\n",
    "    dirpath='checkpoints',\n",
    "    filename='best_checkpoint',\n",
    "    save_top_k=1,\n",
    "    verbose=True,\n",
    "    monitor='val_accuracy',\n",
    "    mode='max'\n",
    ")\n",
    "    early_stopping_callback = EarlyStopping(monitor='val_accuracy', patience=10, verbose=True)\n",
    "    progress_bar = TQDMProgressBar(refresh_rate=30)\n",
    "\n",
    "    callbacks = [early_stopping_callback, checkpoint_callback, progress_bar]\n",
    "    \n",
    "    logger = WandbLogger(name=run_name, save_dir='logs', project='surface_pred')\n",
    "    progress_bar = TQDMProgressBar(refresh_rate=30,)\n",
    "\n",
    "    callbacks = [progress_bar]\n",
    "\n",
    "    # setup Trainer\n",
    "    trainer = pl.Trainer(gpus = 1,\n",
    "                        max_epochs = 250,\n",
    "                        logger= logger,\n",
    "                        callbacks = callbacks,\n",
    "                        log_every_n_steps=40,\n",
    "                        precision=16)\n",
    "\n",
    "    # train\n",
    "    trainer.fit(model, datamodule=data_module)\n",
    "    wandb.finish()"
   ]
  },
  {
   "cell_type": "code",
   "execution_count": 50,
   "id": "c1e83bde",
   "metadata": {},
   "outputs": [],
   "source": [
    "train(params, 'run_41_w_128nh_04lr')"
   ]
  },
  {
   "cell_type": "code",
   "execution_count": 51,
   "id": "da7d0099",
   "metadata": {},
   "outputs": [],
   "source": [
    "params ={\n",
    "    'n_features': len(feature_columns),\n",
    "    \"n_classes\": len(label_encoder.classes_),\n",
    "    \"seq_length\":256,\n",
    "    \"dropout\": 0.5,\n",
    "    \"n_hidden\": 128,\n",
    "    \"batch_size\": 64,\n",
    "    \"lr\": 0.01  \n",
    "    }"
   ]
  },
  {
   "cell_type": "code",
   "execution_count": 52,
   "id": "755e24e3",
   "metadata": {},
   "outputs": [],
   "source": [
    "def train(params, run_name):\n",
    "    # setup data\n",
    "    data_module =SurfaceDatamodule(train_sequences, val_sequences, batch_size=params['batch_size'])\n",
    "\n",
    "    model = SurfacePredictor(n_features= params['n_features'], \n",
    "                             n_classes= params['n_classes'],\n",
    "                             n_hidden= params['n_hidden'], \n",
    "                             seq_length = params['seq_length'],\n",
    "                             dropout = params['dropout'], \n",
    "                             lr = params['lr'])\n",
    "    # set up W&B logger\n",
    "    checkpoint_callback = ModelCheckpoint(\n",
    "    dirpath='checkpoints',\n",
    "    filename='best_checkpoint',\n",
    "    save_top_k=1,\n",
    "    verbose=True,\n",
    "    monitor='val_accuracy',\n",
    "    mode='max'\n",
    ")\n",
    "    early_stopping_callback = EarlyStopping(monitor='val_accuracy', patience=10, verbose=True)\n",
    "    progress_bar = TQDMProgressBar(refresh_rate=30)\n",
    "\n",
    "    callbacks = [early_stopping_callback, checkpoint_callback, progress_bar]\n",
    "    \n",
    "    logger = WandbLogger(name=run_name, save_dir='logs', project='surface_pred')\n",
    "    progress_bar = TQDMProgressBar(refresh_rate=30,)\n",
    "\n",
    "    callbacks = [progress_bar]\n",
    "\n",
    "    # setup Trainer\n",
    "    trainer = pl.Trainer(gpus = 1,\n",
    "                        max_epochs = 250,\n",
    "                        logger= logger,\n",
    "                        callbacks = callbacks,\n",
    "                        log_every_n_steps=40,\n",
    "                        precision=16)\n",
    "\n",
    "    # train\n",
    "    trainer.fit(model, datamodule=data_module)\n",
    "    wandb.finish()"
   ]
  },
  {
   "cell_type": "code",
   "execution_count": 53,
   "id": "eeded1b8",
   "metadata": {},
   "outputs": [],
   "source": [
    "train(params, 'run_41')"
   ]
  },
  {
   "cell_type": "code",
   "execution_count": 54,
   "id": "c448d523",
   "metadata": {},
   "outputs": [],
   "source": [
    "params ={\n",
    "    'n_features': len(feature_columns),\n",
    "    \"n_classes\": len(label_encoder.classes_),\n",
    "    \"seq_length\":128,\n",
    "    \"dropout\": 0.5,\n",
    "    \"n_hidden\": 256,\n",
    "    \"batch_size\": 64,\n",
    "    \"lr\": 0.01  \n",
    "    }\n",
    "train(params, 'run_41_orig')"
   ]
  },
  {
   "cell_type": "code",
   "execution_count": 55,
   "id": "77b170ad",
   "metadata": {},
   "outputs": [],
   "source": [
    "params ={\n",
    "    'n_features': len(feature_columns),\n",
    "    \"n_classes\": len(label_encoder.classes_),\n",
    "    \"seq_length\":256,\n",
    "    \"dropout\": 0.5,\n",
    "    \"n_hidden\": 256,\n",
    "    \"batch_size\": 64,\n",
    "    \"lr\": 0.01  \n",
    "    }\n",
    "train(params, 'run_41_sl256')"
   ]
  },
  {
   "cell_type": "code",
   "execution_count": 56,
   "id": "fe10d0c3",
   "metadata": {},
   "outputs": [],
   "source": [
    "params ={\n",
    "    'n_features': len(feature_columns),\n",
    "    \"n_classes\": len(label_encoder.classes_),\n",
    "    \"seq_length\":128,\n",
    "    \"dropout\": 0.5,\n",
    "    \"n_hidden\": 256,\n",
    "    \"batch_size\": 64,\n",
    "    \"lr\": 0.01  \n",
    "    }\n",
    "train(params, 'run_41_orig')"
   ]
  },
  {
   "cell_type": "code",
   "execution_count": 57,
   "id": "070b3cdb",
   "metadata": {},
   "outputs": [],
   "source": [
    "params ={\n",
    "    'n_features': len(feature_columns),\n",
    "    \"n_classes\": len(label_encoder.classes_),\n",
    "    \"seq_length\":256,\n",
    "    \"dropout\": 0.5,\n",
    "    \"n_hidden\": 256,\n",
    "    \"batch_size\": 64,\n",
    "    \"lr\": 0.01  \n",
    "    }\n",
    "train(params, 'run_41_sl256')"
   ]
  },
  {
   "cell_type": "code",
   "execution_count": 58,
   "id": "11630d89",
   "metadata": {},
   "outputs": [],
   "source": [
    "class SurfacePredictor(pl.LightningModule):\n",
    "  def __init__(self, n_features, n_classes, n_hidden, seq_length, dropout, n_layers=3, lr=0.0001):\n",
    "    super().__init__()\n",
    "    self.lr = lr \n",
    "    self.seq_length =seq_length\n",
    "    self.n_features = n_features\n",
    "\n",
    "    self.model = SurfaceModel(n_features, n_classes, n_hidden, n_layers=n_layers,dropout=dropout)\n",
    "    self.criterion = nn.CrossEntropyLoss()\n",
    "    self.train_ac = torchmetrics.Accuracy()\n",
    "    self.val_ac = torchmetrics.Accuracy()\n",
    "    self.save_hyperparameters()\n",
    "\n",
    "\n",
    "  def forward(self, x, labels=None):\n",
    "    output = self.model(x)\n",
    "\n",
    "    loss = 0\n",
    "    if labels is not None:\n",
    "      loss = self.criterion(output, labels)\n",
    "      return loss, output\n",
    "\n",
    "    return output\n",
    "\n",
    "\n",
    "  def training_step(self, batch, batch_idx):\n",
    "    sequences = batch['sequence']\n",
    "    labels = batch['label']\n",
    "    loss, outputs = self(sequences, labels)\n",
    "    predictions = torch.argmax(outputs, dim=1)\n",
    "    step_ac = self.train_ac(predictions, labels)\n",
    "\n",
    "    self.log('train_loss', loss, prog_bar=True, logger=True)\n",
    "    self.log('train_accuracy', step_ac, prog_bar=True, logger=True)\n",
    "\n",
    "    return dict(loss=loss, accuracy=step_ac)\n",
    "\n",
    "  def validation_step(self, batch, batch_idx):\n",
    "    sequences = batch['sequence']\n",
    "    labels = batch['label']\n",
    "    loss, outputs = self(sequences, labels)\n",
    "    predictions = torch.argmax(outputs, dim=1)\n",
    "    step_ac = self.train_ac(predictions, labels)\n",
    "\n",
    "    self.log('val_loss', loss, prog_bar=True, logger=True)\n",
    "    self.log('val_accuracy', step_ac, prog_bar=True, logger=True)\n",
    "\n",
    "    return dict(loss=loss, accuracy=step_ac, loggits=outputs)\n",
    "\n",
    "\n",
    "  def validation_epoch_end(self, validation_step_outputs):\n",
    "    dummyImput = torch.zeros(\n",
    "        (1, self.seq_length, self.n_features), device=self.device)\n",
    "    model_filename = f\"model_{str(self.global_step).zfill(5)}.onnx\"\n",
    "    # torch.onnx.export(self, dummyImput, model_filename, opset_version=11)\n",
    "    # wandb.save(model_filename,)\n",
    "    outputs = [out['loggits'] for out in validation_step_outputs]\n",
    "    flattened_outputs = torch.flatten(\n",
    "          torch.cat(outputs))\n",
    "    self.logger.experiment.log(\n",
    "    {'valid/logits': wandb.Histogram(flattened_outputs.to('cpu')),\n",
    "      'epoch': self.current_epoch}\n",
    "    )\n",
    "\n",
    "\n",
    "  def configure_optimizers(self):\n",
    "    return torch.optim.AdamW(self.parameters(), lr=self.lr)\n",
    " "
   ]
  },
  {
   "cell_type": "code",
   "execution_count": 59,
   "id": "eee0320d",
   "metadata": {},
   "outputs": [],
   "source": [
    "params ={\n",
    "    'n_features': len(feature_columns),\n",
    "    \"n_classes\": len(label_encoder.classes_),\n",
    "    \"seq_length\":256,\n",
    "    \"dropout\": 0.5,\n",
    "    \"n_hidden\": 128,\n",
    "    \"batch_size\": 64,\n",
    "    \"lr\": 0.01,\n",
    "    \"n_layers\" : 2  \n",
    "    }"
   ]
  },
  {
   "cell_type": "code",
   "execution_count": 60,
   "id": "656bc4de",
   "metadata": {},
   "outputs": [],
   "source": [
    "def train(params, run_name):\n",
    "    # setup data\n",
    "    data_module =SurfaceDatamodule(train_sequences, val_sequences, batch_size=params['batch_size'])\n",
    "\n",
    "    model = SurfacePredictor(n_features= params['n_features'], \n",
    "                             n_classes= params['n_classes'],\n",
    "                             n_hidden= params['n_hidden'], \n",
    "                             seq_length = params['seq_length'],\n",
    "                             dropout = params['dropout'], \n",
    "                             lr = params['lr'],\n",
    "                             n_layers= params['n_layers'])\n",
    "    # set up W&B logger\n",
    "    checkpoint_callback = ModelCheckpoint(\n",
    "    dirpath='checkpoints',\n",
    "    filename='best_checkpoint',\n",
    "    save_top_k=1,\n",
    "    verbose=True,\n",
    "    monitor='val_accuracy',\n",
    "    mode='max'\n",
    ")\n",
    "    early_stopping_callback = EarlyStopping(monitor='val_accuracy', patience=10, verbose=True)\n",
    "    progress_bar = TQDMProgressBar(refresh_rate=30)\n",
    "\n",
    "    callbacks = [early_stopping_callback, checkpoint_callback, progress_bar]\n",
    "    \n",
    "    logger = WandbLogger(name=run_name, save_dir='logs', project='surface_pred')\n",
    "    progress_bar = TQDMProgressBar(refresh_rate=30,)\n",
    "\n",
    "    callbacks = [progress_bar]\n",
    "\n",
    "    # setup Trainer\n",
    "    trainer = pl.Trainer(gpus = 1,\n",
    "                        max_epochs = 250,\n",
    "                        logger= logger,\n",
    "                        callbacks = callbacks,\n",
    "                        log_every_n_steps=40,\n",
    "                        precision=16)\n",
    "\n",
    "    # train\n",
    "    trainer.fit(model, datamodule=data_module)\n",
    "    wandb.finish()"
   ]
  },
  {
   "cell_type": "code",
   "execution_count": 61,
   "id": "a71babb9",
   "metadata": {},
   "outputs": [],
   "source": [
    "params ={\n",
    "    'n_features': len(feature_columns),\n",
    "    \"n_classes\": len(label_encoder.classes_),\n",
    "    \"seq_length\":256,\n",
    "    \"dropout\": 0.5,\n",
    "    \"n_hidden\": 128,\n",
    "    \"batch_size\": 64,\n",
    "    \"lr\": 0.01,\n",
    "    \"n_layers\" : 2  \n",
    "    }"
   ]
  },
  {
   "cell_type": "code",
   "execution_count": 62,
   "id": "f854863f",
   "metadata": {},
   "outputs": [],
   "source": [
    "train(params, 'run_41-2')"
   ]
  },
  {
   "cell_type": "code",
   "execution_count": 63,
   "id": "28493b65",
   "metadata": {},
   "outputs": [],
   "source": [
    "params ={\n",
    "    'n_features': len(feature_columns),\n",
    "    \"n_classes\": len(label_encoder.classes_),\n",
    "    \"seq_length\":128,\n",
    "    \"dropout\": 0.5,\n",
    "    \"n_hidden\": 256,\n",
    "    \"batch_size\": 64,\n",
    "    \"lr\": 0.01  \n",
    "    }\n",
    "train(params, 'run_41_orig')"
   ]
  },
  {
   "cell_type": "code",
   "execution_count": 64,
   "id": "0ab49662",
   "metadata": {},
   "outputs": [],
   "source": [
    "def train(params, run_name):\n",
    "    # setup data\n",
    "    data_module =SurfaceDatamodule(train_sequences, val_sequences, batch_size=params['batch_size'])\n",
    "\n",
    "    model = SurfacePredictor(n_features= params['n_features'], \n",
    "                             n_classes= params['n_classes'],\n",
    "                             n_hidden= params['n_hidden'], \n",
    "                             seq_length = params['seq_length'],\n",
    "                             dropout = params['dropout'], \n",
    "                             lr = params['lr'],\n",
    "                             n_layers= params['n_layers'])\n",
    "    # set up W&B logger\n",
    "    checkpoint_callback = ModelCheckpoint(\n",
    "    dirpath='checkpoints',\n",
    "    filename='best_checkpoint',\n",
    "    save_top_k=1,\n",
    "    verbose=True,\n",
    "    monitor='val_accuracy',\n",
    "    mode='max'\n",
    ")\n",
    "    early_stopping_callback = EarlyStopping(monitor='val_accuracy', patience=10, verbose=True)\n",
    "    progress_bar = TQDMProgressBar(refresh_rate=30)\n",
    "\n",
    "    callbacks = [early_stopping_callback, checkpoint_callback, progress_bar]\n",
    "    \n",
    "    logger = WandbLogger(name=run_name, save_dir='logs', project='surface_pred')\n",
    "    progress_bar = TQDMProgressBar(refresh_rate=30,)\n",
    "\n",
    "    callbacks = [progress_bar]\n",
    "\n",
    "    # setup Trainer\n",
    "    trainer = pl.Trainer(gpus = 1,\n",
    "                        max_epochs = 250,\n",
    "                        logger= logger,\n",
    "                        callbacks = callbacks,\n",
    "                        log_every_n_steps=40,\n",
    "                        precision=16)\n",
    "\n",
    "    # train\n",
    "    trainer.fit(model, datamodule=data_module)\n",
    "    wandb.finish()"
   ]
  },
  {
   "cell_type": "code",
   "execution_count": 65,
   "id": "6b8d66ae",
   "metadata": {},
   "outputs": [],
   "source": [
    "params ={\n",
    "    'n_features': len(feature_columns),\n",
    "    \"n_classes\": len(label_encoder.classes_),\n",
    "    \"seq_length\":128,\n",
    "    \"dropout\": 0.5,\n",
    "    \"n_hidden\": 256,\n",
    "    \"batch_size\": 64,\n",
    "    \"lr\": 0.01  \n",
    "    }\n",
    "train(params, 'run_41_orig')"
   ]
  },
  {
   "cell_type": "code",
   "execution_count": 66,
   "id": "abf7b439",
   "metadata": {},
   "outputs": [
    {
     "data": {
      "text/html": [
       "\n",
       "                    Syncing run <strong><a href=\"https://wandb.ai/phade160/surface_pred/runs/3keq1q1q\" target=\"_blank\">run_41_sl256</a></strong> to <a href=\"https://wandb.ai/phade160/surface_pred\" target=\"_blank\">Weights & Biases</a> (<a href=\"https://docs.wandb.com/integrations/jupyter.html\" target=\"_blank\">docs</a>).<br/>\n",
       "\n",
       "                "
      ],
      "text/plain": [
       "<IPython.core.display.HTML object>"
      ]
     },
     "metadata": {},
     "output_type": "display_data"
    },
    {
     "data": {
      "application/vnd.jupyter.widget-view+json": {
       "model_id": "f63c49ad01344c2b8763714b8feba57e",
       "version_major": 2,
       "version_minor": 0
      },
      "text/plain": [
       "Validation sanity check: 0it [00:00, ?it/s]"
      ]
     },
     "metadata": {},
     "output_type": "display_data"
    },
    {
     "data": {
      "application/vnd.jupyter.widget-view+json": {
       "model_id": "3c3a65fd3bcc445b81b12d138cb210de",
       "version_major": 2,
       "version_minor": 0
      },
      "text/plain": [
       "Training: 0it [00:00, ?it/s]"
      ]
     },
     "metadata": {},
     "output_type": "display_data"
    },
    {
     "data": {
      "application/vnd.jupyter.widget-view+json": {
       "model_id": "bb716599497b4b0aa232d154d20dfe2d",
       "version_major": 2,
       "version_minor": 0
      },
      "text/plain": [
       "Validating: 0it [00:00, ?it/s]"
      ]
     },
     "metadata": {},
     "output_type": "display_data"
    },
    {
     "data": {
      "application/vnd.jupyter.widget-view+json": {
       "model_id": "f667562d35de447b90a85966f2f5bcc9",
       "version_major": 2,
       "version_minor": 0
      },
      "text/plain": [
       "Validating: 0it [00:00, ?it/s]"
      ]
     },
     "metadata": {},
     "output_type": "display_data"
    },
    {
     "data": {
      "application/vnd.jupyter.widget-view+json": {
       "model_id": "704ca0cfae4c45eb838489ae75db81c7",
       "version_major": 2,
       "version_minor": 0
      },
      "text/plain": [
       "Validating: 0it [00:00, ?it/s]"
      ]
     },
     "metadata": {},
     "output_type": "display_data"
    },
    {
     "data": {
      "application/vnd.jupyter.widget-view+json": {
       "model_id": "ae4193394ba44dd0bd2891c6a489b137",
       "version_major": 2,
       "version_minor": 0
      },
      "text/plain": [
       "Validating: 0it [00:00, ?it/s]"
      ]
     },
     "metadata": {},
     "output_type": "display_data"
    },
    {
     "data": {
      "application/vnd.jupyter.widget-view+json": {
       "model_id": "020bdbde11534ef5bdec3d06814d69d2",
       "version_major": 2,
       "version_minor": 0
      },
      "text/plain": [
       "Validating: 0it [00:00, ?it/s]"
      ]
     },
     "metadata": {},
     "output_type": "display_data"
    },
    {
     "data": {
      "application/vnd.jupyter.widget-view+json": {
       "model_id": "00e01f203e3d4b4e8c59cb167f01bc27",
       "version_major": 2,
       "version_minor": 0
      },
      "text/plain": [
       "Validating: 0it [00:00, ?it/s]"
      ]
     },
     "metadata": {},
     "output_type": "display_data"
    },
    {
     "data": {
      "application/vnd.jupyter.widget-view+json": {
       "model_id": "cdc94da407e54268b9bd9de7a0891f37",
       "version_major": 2,
       "version_minor": 0
      },
      "text/plain": [
       "Validating: 0it [00:00, ?it/s]"
      ]
     },
     "metadata": {},
     "output_type": "display_data"
    },
    {
     "data": {
      "application/vnd.jupyter.widget-view+json": {
       "model_id": "4011c183e1364bb79c73302a38b356ca",
       "version_major": 2,
       "version_minor": 0
      },
      "text/plain": [
       "Validating: 0it [00:00, ?it/s]"
      ]
     },
     "metadata": {},
     "output_type": "display_data"
    },
    {
     "data": {
      "application/vnd.jupyter.widget-view+json": {
       "model_id": "99d0dc24e2074141aa8cd8d71a26f626",
       "version_major": 2,
       "version_minor": 0
      },
      "text/plain": [
       "Validating: 0it [00:00, ?it/s]"
      ]
     },
     "metadata": {},
     "output_type": "display_data"
    },
    {
     "data": {
      "application/vnd.jupyter.widget-view+json": {
       "model_id": "796dcdc3a45143fd8b012020fbb75243",
       "version_major": 2,
       "version_minor": 0
      },
      "text/plain": [
       "Validating: 0it [00:00, ?it/s]"
      ]
     },
     "metadata": {},
     "output_type": "display_data"
    },
    {
     "data": {
      "application/vnd.jupyter.widget-view+json": {
       "model_id": "9474483e9ecc4601a8ef30a89f566f38",
       "version_major": 2,
       "version_minor": 0
      },
      "text/plain": [
       "Validating: 0it [00:00, ?it/s]"
      ]
     },
     "metadata": {},
     "output_type": "display_data"
    },
    {
     "data": {
      "application/vnd.jupyter.widget-view+json": {
       "model_id": "a8e67dcda05045e583075ef854e4ed23",
       "version_major": 2,
       "version_minor": 0
      },
      "text/plain": [
       "Validating: 0it [00:00, ?it/s]"
      ]
     },
     "metadata": {},
     "output_type": "display_data"
    },
    {
     "data": {
      "application/vnd.jupyter.widget-view+json": {
       "model_id": "cceab2a1e9b049838d7a2b19e9cb43a8",
       "version_major": 2,
       "version_minor": 0
      },
      "text/plain": [
       "Validating: 0it [00:00, ?it/s]"
      ]
     },
     "metadata": {},
     "output_type": "display_data"
    },
    {
     "data": {
      "application/vnd.jupyter.widget-view+json": {
       "model_id": "17c58d75778f4f1392ca252518e1a2d6",
       "version_major": 2,
       "version_minor": 0
      },
      "text/plain": [
       "Validating: 0it [00:00, ?it/s]"
      ]
     },
     "metadata": {},
     "output_type": "display_data"
    },
    {
     "data": {
      "application/vnd.jupyter.widget-view+json": {
       "model_id": "d7ec20524b4949b69383abe44e0a18e1",
       "version_major": 2,
       "version_minor": 0
      },
      "text/plain": [
       "Validating: 0it [00:00, ?it/s]"
      ]
     },
     "metadata": {},
     "output_type": "display_data"
    },
    {
     "data": {
      "application/vnd.jupyter.widget-view+json": {
       "model_id": "741a5a1bda554618890f8c970d1df2f1",
       "version_major": 2,
       "version_minor": 0
      },
      "text/plain": [
       "Validating: 0it [00:00, ?it/s]"
      ]
     },
     "metadata": {},
     "output_type": "display_data"
    },
    {
     "data": {
      "application/vnd.jupyter.widget-view+json": {
       "model_id": "2fa91af90a95436a8502b8cf53eb2e97",
       "version_major": 2,
       "version_minor": 0
      },
      "text/plain": [
       "Validating: 0it [00:00, ?it/s]"
      ]
     },
     "metadata": {},
     "output_type": "display_data"
    },
    {
     "data": {
      "application/vnd.jupyter.widget-view+json": {
       "model_id": "8328f5c0e9a643b099da12185710c7ed",
       "version_major": 2,
       "version_minor": 0
      },
      "text/plain": [
       "Validating: 0it [00:00, ?it/s]"
      ]
     },
     "metadata": {},
     "output_type": "display_data"
    },
    {
     "data": {
      "application/vnd.jupyter.widget-view+json": {
       "model_id": "765c1ecfd0924103900b1f1acd0e93aa",
       "version_major": 2,
       "version_minor": 0
      },
      "text/plain": [
       "Validating: 0it [00:00, ?it/s]"
      ]
     },
     "metadata": {},
     "output_type": "display_data"
    },
    {
     "data": {
      "application/vnd.jupyter.widget-view+json": {
       "model_id": "cc73d025d70545beb1cd872abd366408",
       "version_major": 2,
       "version_minor": 0
      },
      "text/plain": [
       "Validating: 0it [00:00, ?it/s]"
      ]
     },
     "metadata": {},
     "output_type": "display_data"
    },
    {
     "data": {
      "application/vnd.jupyter.widget-view+json": {
       "model_id": "c16449c37c7942d4b9d0943070a72155",
       "version_major": 2,
       "version_minor": 0
      },
      "text/plain": [
       "Validating: 0it [00:00, ?it/s]"
      ]
     },
     "metadata": {},
     "output_type": "display_data"
    },
    {
     "data": {
      "application/vnd.jupyter.widget-view+json": {
       "model_id": "b75bc95d1dba44cb8051fc8448811235",
       "version_major": 2,
       "version_minor": 0
      },
      "text/plain": [
       "Validating: 0it [00:00, ?it/s]"
      ]
     },
     "metadata": {},
     "output_type": "display_data"
    },
    {
     "data": {
      "application/vnd.jupyter.widget-view+json": {
       "model_id": "80d5e54fedd44b5d8ccb788e1b42a42e",
       "version_major": 2,
       "version_minor": 0
      },
      "text/plain": [
       "Validating: 0it [00:00, ?it/s]"
      ]
     },
     "metadata": {},
     "output_type": "display_data"
    },
    {
     "data": {
      "application/vnd.jupyter.widget-view+json": {
       "model_id": "e5e6cacc645e44f19d2b3478314be8a7",
       "version_major": 2,
       "version_minor": 0
      },
      "text/plain": [
       "Validating: 0it [00:00, ?it/s]"
      ]
     },
     "metadata": {},
     "output_type": "display_data"
    },
    {
     "data": {
      "application/vnd.jupyter.widget-view+json": {
       "model_id": "8be8eabc901946e7914793abaa152224",
       "version_major": 2,
       "version_minor": 0
      },
      "text/plain": [
       "Validating: 0it [00:00, ?it/s]"
      ]
     },
     "metadata": {},
     "output_type": "display_data"
    },
    {
     "data": {
      "application/vnd.jupyter.widget-view+json": {
       "model_id": "175b7295ed664eb3bea9f8bcb440d9c3",
       "version_major": 2,
       "version_minor": 0
      },
      "text/plain": [
       "Validating: 0it [00:00, ?it/s]"
      ]
     },
     "metadata": {},
     "output_type": "display_data"
    },
    {
     "data": {
      "application/vnd.jupyter.widget-view+json": {
       "model_id": "594e3b5395354ee0a89fb0ffd7b94f16",
       "version_major": 2,
       "version_minor": 0
      },
      "text/plain": [
       "Validating: 0it [00:00, ?it/s]"
      ]
     },
     "metadata": {},
     "output_type": "display_data"
    },
    {
     "data": {
      "application/vnd.jupyter.widget-view+json": {
       "model_id": "dfb43d3599434c0bb1c481e713aadc4f",
       "version_major": 2,
       "version_minor": 0
      },
      "text/plain": [
       "Validating: 0it [00:00, ?it/s]"
      ]
     },
     "metadata": {},
     "output_type": "display_data"
    },
    {
     "data": {
      "application/vnd.jupyter.widget-view+json": {
       "model_id": "a888a49e642e490991589a6cc078b0ce",
       "version_major": 2,
       "version_minor": 0
      },
      "text/plain": [
       "Validating: 0it [00:00, ?it/s]"
      ]
     },
     "metadata": {},
     "output_type": "display_data"
    },
    {
     "data": {
      "application/vnd.jupyter.widget-view+json": {
       "model_id": "1ef04ad05de24803b82c6de553ff63f4",
       "version_major": 2,
       "version_minor": 0
      },
      "text/plain": [
       "Validating: 0it [00:00, ?it/s]"
      ]
     },
     "metadata": {},
     "output_type": "display_data"
    },
    {
     "data": {
      "application/vnd.jupyter.widget-view+json": {
       "model_id": "eed06be069a14920b456be50d099bfd3",
       "version_major": 2,
       "version_minor": 0
      },
      "text/plain": [
       "Validating: 0it [00:00, ?it/s]"
      ]
     },
     "metadata": {},
     "output_type": "display_data"
    },
    {
     "data": {
      "application/vnd.jupyter.widget-view+json": {
       "model_id": "e77e555dc80d40a0b2eda8b4eef5b442",
       "version_major": 2,
       "version_minor": 0
      },
      "text/plain": [
       "Validating: 0it [00:00, ?it/s]"
      ]
     },
     "metadata": {},
     "output_type": "display_data"
    },
    {
     "data": {
      "application/vnd.jupyter.widget-view+json": {
       "model_id": "886ff3608e084ace882c8f740a745fc9",
       "version_major": 2,
       "version_minor": 0
      },
      "text/plain": [
       "Validating: 0it [00:00, ?it/s]"
      ]
     },
     "metadata": {},
     "output_type": "display_data"
    },
    {
     "data": {
      "application/vnd.jupyter.widget-view+json": {
       "model_id": "c3d8c2ce3bab46ea9eeb9fe0085acbcb",
       "version_major": 2,
       "version_minor": 0
      },
      "text/plain": [
       "Validating: 0it [00:00, ?it/s]"
      ]
     },
     "metadata": {},
     "output_type": "display_data"
    },
    {
     "data": {
      "application/vnd.jupyter.widget-view+json": {
       "model_id": "4f5e49b010b84775a058934937787b59",
       "version_major": 2,
       "version_minor": 0
      },
      "text/plain": [
       "Validating: 0it [00:00, ?it/s]"
      ]
     },
     "metadata": {},
     "output_type": "display_data"
    },
    {
     "data": {
      "application/vnd.jupyter.widget-view+json": {
       "model_id": "f2e77f760fa746c6a3bf2e1bcf1737e2",
       "version_major": 2,
       "version_minor": 0
      },
      "text/plain": [
       "Validating: 0it [00:00, ?it/s]"
      ]
     },
     "metadata": {},
     "output_type": "display_data"
    },
    {
     "data": {
      "application/vnd.jupyter.widget-view+json": {
       "model_id": "a0852641cada4123b5b3d66b717087cc",
       "version_major": 2,
       "version_minor": 0
      },
      "text/plain": [
       "Validating: 0it [00:00, ?it/s]"
      ]
     },
     "metadata": {},
     "output_type": "display_data"
    },
    {
     "data": {
      "application/vnd.jupyter.widget-view+json": {
       "model_id": "2e540ab814134a22baa3aeae4669442a",
       "version_major": 2,
       "version_minor": 0
      },
      "text/plain": [
       "Validating: 0it [00:00, ?it/s]"
      ]
     },
     "metadata": {},
     "output_type": "display_data"
    },
    {
     "data": {
      "application/vnd.jupyter.widget-view+json": {
       "model_id": "228086d765cd448f9c7066dc21671ae4",
       "version_major": 2,
       "version_minor": 0
      },
      "text/plain": [
       "Validating: 0it [00:00, ?it/s]"
      ]
     },
     "metadata": {},
     "output_type": "display_data"
    },
    {
     "data": {
      "application/vnd.jupyter.widget-view+json": {
       "model_id": "42165319956841fab57dca6b56eecf7f",
       "version_major": 2,
       "version_minor": 0
      },
      "text/plain": [
       "Validating: 0it [00:00, ?it/s]"
      ]
     },
     "metadata": {},
     "output_type": "display_data"
    },
    {
     "data": {
      "application/vnd.jupyter.widget-view+json": {
       "model_id": "ba4f10d25939488a9dc387144ea10198",
       "version_major": 2,
       "version_minor": 0
      },
      "text/plain": [
       "Validating: 0it [00:00, ?it/s]"
      ]
     },
     "metadata": {},
     "output_type": "display_data"
    },
    {
     "data": {
      "application/vnd.jupyter.widget-view+json": {
       "model_id": "aa1e42ddf610474e872c0c833ecf880b",
       "version_major": 2,
       "version_minor": 0
      },
      "text/plain": [
       "Validating: 0it [00:00, ?it/s]"
      ]
     },
     "metadata": {},
     "output_type": "display_data"
    },
    {
     "data": {
      "application/vnd.jupyter.widget-view+json": {
       "model_id": "f308a238b30648638f87f3a9c72c0e38",
       "version_major": 2,
       "version_minor": 0
      },
      "text/plain": [
       "Validating: 0it [00:00, ?it/s]"
      ]
     },
     "metadata": {},
     "output_type": "display_data"
    },
    {
     "data": {
      "application/vnd.jupyter.widget-view+json": {
       "model_id": "f14b411cc8954ee6976a0bfe04384589",
       "version_major": 2,
       "version_minor": 0
      },
      "text/plain": [
       "Validating: 0it [00:00, ?it/s]"
      ]
     },
     "metadata": {},
     "output_type": "display_data"
    },
    {
     "data": {
      "application/vnd.jupyter.widget-view+json": {
       "model_id": "62ec3451b8344ddeab6e3e7acbbc8f35",
       "version_major": 2,
       "version_minor": 0
      },
      "text/plain": [
       "Validating: 0it [00:00, ?it/s]"
      ]
     },
     "metadata": {},
     "output_type": "display_data"
    },
    {
     "data": {
      "application/vnd.jupyter.widget-view+json": {
       "model_id": "bf2842f1009443dd9877f8ce972fd023",
       "version_major": 2,
       "version_minor": 0
      },
      "text/plain": [
       "Validating: 0it [00:00, ?it/s]"
      ]
     },
     "metadata": {},
     "output_type": "display_data"
    },
    {
     "data": {
      "application/vnd.jupyter.widget-view+json": {
       "model_id": "a6577f0b33ec40e4a5c0d46141ea6847",
       "version_major": 2,
       "version_minor": 0
      },
      "text/plain": [
       "Validating: 0it [00:00, ?it/s]"
      ]
     },
     "metadata": {},
     "output_type": "display_data"
    },
    {
     "data": {
      "application/vnd.jupyter.widget-view+json": {
       "model_id": "2d2b74b660d84ef69947d9d34ba6bd0f",
       "version_major": 2,
       "version_minor": 0
      },
      "text/plain": [
       "Validating: 0it [00:00, ?it/s]"
      ]
     },
     "metadata": {},
     "output_type": "display_data"
    },
    {
     "data": {
      "application/vnd.jupyter.widget-view+json": {
       "model_id": "549e999957c1486db12405969f2dbb75",
       "version_major": 2,
       "version_minor": 0
      },
      "text/plain": [
       "Validating: 0it [00:00, ?it/s]"
      ]
     },
     "metadata": {},
     "output_type": "display_data"
    },
    {
     "data": {
      "application/vnd.jupyter.widget-view+json": {
       "model_id": "95b6d3a4893d47169be55fb46512d71f",
       "version_major": 2,
       "version_minor": 0
      },
      "text/plain": [
       "Validating: 0it [00:00, ?it/s]"
      ]
     },
     "metadata": {},
     "output_type": "display_data"
    },
    {
     "data": {
      "application/vnd.jupyter.widget-view+json": {
       "model_id": "826fb3e03323450f866617ed1ac608f3",
       "version_major": 2,
       "version_minor": 0
      },
      "text/plain": [
       "Validating: 0it [00:00, ?it/s]"
      ]
     },
     "metadata": {},
     "output_type": "display_data"
    },
    {
     "data": {
      "application/vnd.jupyter.widget-view+json": {
       "model_id": "e1c6e86be92946ac9f13f332e33e5475",
       "version_major": 2,
       "version_minor": 0
      },
      "text/plain": [
       "Validating: 0it [00:00, ?it/s]"
      ]
     },
     "metadata": {},
     "output_type": "display_data"
    },
    {
     "data": {
      "application/vnd.jupyter.widget-view+json": {
       "model_id": "7722e81506b34be58f548fe09e8a4aae",
       "version_major": 2,
       "version_minor": 0
      },
      "text/plain": [
       "Validating: 0it [00:00, ?it/s]"
      ]
     },
     "metadata": {},
     "output_type": "display_data"
    },
    {
     "data": {
      "application/vnd.jupyter.widget-view+json": {
       "model_id": "699663e8e9a64e89a47c8d4bc7aac2bd",
       "version_major": 2,
       "version_minor": 0
      },
      "text/plain": [
       "Validating: 0it [00:00, ?it/s]"
      ]
     },
     "metadata": {},
     "output_type": "display_data"
    },
    {
     "data": {
      "application/vnd.jupyter.widget-view+json": {
       "model_id": "9c59548a14f0434dbbb086b896780632",
       "version_major": 2,
       "version_minor": 0
      },
      "text/plain": [
       "Validating: 0it [00:00, ?it/s]"
      ]
     },
     "metadata": {},
     "output_type": "display_data"
    },
    {
     "data": {
      "application/vnd.jupyter.widget-view+json": {
       "model_id": "407a3548a42549cbab03ff74a68c9c60",
       "version_major": 2,
       "version_minor": 0
      },
      "text/plain": [
       "Validating: 0it [00:00, ?it/s]"
      ]
     },
     "metadata": {},
     "output_type": "display_data"
    },
    {
     "data": {
      "application/vnd.jupyter.widget-view+json": {
       "model_id": "d5ef86d54cdb48ab86cbc905bd44d67c",
       "version_major": 2,
       "version_minor": 0
      },
      "text/plain": [
       "Validating: 0it [00:00, ?it/s]"
      ]
     },
     "metadata": {},
     "output_type": "display_data"
    },
    {
     "data": {
      "application/vnd.jupyter.widget-view+json": {
       "model_id": "96be35f51d674df085fbc905a8fc441d",
       "version_major": 2,
       "version_minor": 0
      },
      "text/plain": [
       "Validating: 0it [00:00, ?it/s]"
      ]
     },
     "metadata": {},
     "output_type": "display_data"
    },
    {
     "data": {
      "application/vnd.jupyter.widget-view+json": {
       "model_id": "c14901c2fb1f42fa9af4fce9c628ba20",
       "version_major": 2,
       "version_minor": 0
      },
      "text/plain": [
       "Validating: 0it [00:00, ?it/s]"
      ]
     },
     "metadata": {},
     "output_type": "display_data"
    },
    {
     "data": {
      "application/vnd.jupyter.widget-view+json": {
       "model_id": "31b498b6e0cf4abcacef98ef9e2d116c",
       "version_major": 2,
       "version_minor": 0
      },
      "text/plain": [
       "Validating: 0it [00:00, ?it/s]"
      ]
     },
     "metadata": {},
     "output_type": "display_data"
    },
    {
     "data": {
      "application/vnd.jupyter.widget-view+json": {
       "model_id": "bdf6409e6c4b418fbe49974593a4d4ab",
       "version_major": 2,
       "version_minor": 0
      },
      "text/plain": [
       "Validating: 0it [00:00, ?it/s]"
      ]
     },
     "metadata": {},
     "output_type": "display_data"
    },
    {
     "data": {
      "application/vnd.jupyter.widget-view+json": {
       "model_id": "017bfe515af14e6389e079f0fb1e6a32",
       "version_major": 2,
       "version_minor": 0
      },
      "text/plain": [
       "Validating: 0it [00:00, ?it/s]"
      ]
     },
     "metadata": {},
     "output_type": "display_data"
    },
    {
     "data": {
      "application/vnd.jupyter.widget-view+json": {
       "model_id": "bbe7bdfae5634ecaab45691681553a3c",
       "version_major": 2,
       "version_minor": 0
      },
      "text/plain": [
       "Validating: 0it [00:00, ?it/s]"
      ]
     },
     "metadata": {},
     "output_type": "display_data"
    },
    {
     "data": {
      "application/vnd.jupyter.widget-view+json": {
       "model_id": "2c9d233dc591421db0954373e8982687",
       "version_major": 2,
       "version_minor": 0
      },
      "text/plain": [
       "Validating: 0it [00:00, ?it/s]"
      ]
     },
     "metadata": {},
     "output_type": "display_data"
    },
    {
     "data": {
      "application/vnd.jupyter.widget-view+json": {
       "model_id": "e3e1d4fd850449d8ab8235dc1b852f28",
       "version_major": 2,
       "version_minor": 0
      },
      "text/plain": [
       "Validating: 0it [00:00, ?it/s]"
      ]
     },
     "metadata": {},
     "output_type": "display_data"
    },
    {
     "data": {
      "application/vnd.jupyter.widget-view+json": {
       "model_id": "bb326af5a66c4fb1a8687f63513b57e9",
       "version_major": 2,
       "version_minor": 0
      },
      "text/plain": [
       "Validating: 0it [00:00, ?it/s]"
      ]
     },
     "metadata": {},
     "output_type": "display_data"
    },
    {
     "data": {
      "application/vnd.jupyter.widget-view+json": {
       "model_id": "b3fc6867f14f4f93ab4d2530e033ac26",
       "version_major": 2,
       "version_minor": 0
      },
      "text/plain": [
       "Validating: 0it [00:00, ?it/s]"
      ]
     },
     "metadata": {},
     "output_type": "display_data"
    },
    {
     "data": {
      "application/vnd.jupyter.widget-view+json": {
       "model_id": "185ff4472b094465af6801f7bb4e9bec",
       "version_major": 2,
       "version_minor": 0
      },
      "text/plain": [
       "Validating: 0it [00:00, ?it/s]"
      ]
     },
     "metadata": {},
     "output_type": "display_data"
    },
    {
     "data": {
      "application/vnd.jupyter.widget-view+json": {
       "model_id": "66fa55f7e07c4f3492917a2c51426b63",
       "version_major": 2,
       "version_minor": 0
      },
      "text/plain": [
       "Validating: 0it [00:00, ?it/s]"
      ]
     },
     "metadata": {},
     "output_type": "display_data"
    },
    {
     "data": {
      "application/vnd.jupyter.widget-view+json": {
       "model_id": "d7f44d9c75bf4adbac576132ecbfacb7",
       "version_major": 2,
       "version_minor": 0
      },
      "text/plain": [
       "Validating: 0it [00:00, ?it/s]"
      ]
     },
     "metadata": {},
     "output_type": "display_data"
    },
    {
     "data": {
      "application/vnd.jupyter.widget-view+json": {
       "model_id": "14450804559044c0bbf5e87cd9045751",
       "version_major": 2,
       "version_minor": 0
      },
      "text/plain": [
       "Validating: 0it [00:00, ?it/s]"
      ]
     },
     "metadata": {},
     "output_type": "display_data"
    },
    {
     "data": {
      "application/vnd.jupyter.widget-view+json": {
       "model_id": "56b6e9b32a1d4b1d89695041bbdb674e",
       "version_major": 2,
       "version_minor": 0
      },
      "text/plain": [
       "Validating: 0it [00:00, ?it/s]"
      ]
     },
     "metadata": {},
     "output_type": "display_data"
    },
    {
     "data": {
      "application/vnd.jupyter.widget-view+json": {
       "model_id": "bd518fef6e154c369d48fdb9e095247a",
       "version_major": 2,
       "version_minor": 0
      },
      "text/plain": [
       "Validating: 0it [00:00, ?it/s]"
      ]
     },
     "metadata": {},
     "output_type": "display_data"
    },
    {
     "data": {
      "application/vnd.jupyter.widget-view+json": {
       "model_id": "2e86fe966a4d4e6a86834a90836aa549",
       "version_major": 2,
       "version_minor": 0
      },
      "text/plain": [
       "Validating: 0it [00:00, ?it/s]"
      ]
     },
     "metadata": {},
     "output_type": "display_data"
    },
    {
     "data": {
      "application/vnd.jupyter.widget-view+json": {
       "model_id": "a9755f8dd5434c789c2d447733ab7641",
       "version_major": 2,
       "version_minor": 0
      },
      "text/plain": [
       "Validating: 0it [00:00, ?it/s]"
      ]
     },
     "metadata": {},
     "output_type": "display_data"
    },
    {
     "data": {
      "application/vnd.jupyter.widget-view+json": {
       "model_id": "33a7086a044743d79efeebe005e3f967",
       "version_major": 2,
       "version_minor": 0
      },
      "text/plain": [
       "Validating: 0it [00:00, ?it/s]"
      ]
     },
     "metadata": {},
     "output_type": "display_data"
    },
    {
     "data": {
      "application/vnd.jupyter.widget-view+json": {
       "model_id": "b7e4bf7cd52d45fcb95a55f26b4dd98d",
       "version_major": 2,
       "version_minor": 0
      },
      "text/plain": [
       "Validating: 0it [00:00, ?it/s]"
      ]
     },
     "metadata": {},
     "output_type": "display_data"
    },
    {
     "data": {
      "application/vnd.jupyter.widget-view+json": {
       "model_id": "17c15782b77c48829ecdd62d02ad5f3d",
       "version_major": 2,
       "version_minor": 0
      },
      "text/plain": [
       "Validating: 0it [00:00, ?it/s]"
      ]
     },
     "metadata": {},
     "output_type": "display_data"
    },
    {
     "data": {
      "application/vnd.jupyter.widget-view+json": {
       "model_id": "038bdc5b318740d7afeba5444be48aa9",
       "version_major": 2,
       "version_minor": 0
      },
      "text/plain": [
       "Validating: 0it [00:00, ?it/s]"
      ]
     },
     "metadata": {},
     "output_type": "display_data"
    },
    {
     "data": {
      "application/vnd.jupyter.widget-view+json": {
       "model_id": "c6b3192de31d4bceb6732ed102d28b59",
       "version_major": 2,
       "version_minor": 0
      },
      "text/plain": [
       "Validating: 0it [00:00, ?it/s]"
      ]
     },
     "metadata": {},
     "output_type": "display_data"
    },
    {
     "data": {
      "application/vnd.jupyter.widget-view+json": {
       "model_id": "925d47551fb64445a1c557c62f9459aa",
       "version_major": 2,
       "version_minor": 0
      },
      "text/plain": [
       "Validating: 0it [00:00, ?it/s]"
      ]
     },
     "metadata": {},
     "output_type": "display_data"
    },
    {
     "data": {
      "application/vnd.jupyter.widget-view+json": {
       "model_id": "f816ec26aebd493799b8884cc8328414",
       "version_major": 2,
       "version_minor": 0
      },
      "text/plain": [
       "Validating: 0it [00:00, ?it/s]"
      ]
     },
     "metadata": {},
     "output_type": "display_data"
    },
    {
     "data": {
      "application/vnd.jupyter.widget-view+json": {
       "model_id": "f5a0d121c61143a1a4b602954821ba0a",
       "version_major": 2,
       "version_minor": 0
      },
      "text/plain": [
       "Validating: 0it [00:00, ?it/s]"
      ]
     },
     "metadata": {},
     "output_type": "display_data"
    },
    {
     "data": {
      "application/vnd.jupyter.widget-view+json": {
       "model_id": "27538d9d2b2747a1a722e6052e560426",
       "version_major": 2,
       "version_minor": 0
      },
      "text/plain": [
       "Validating: 0it [00:00, ?it/s]"
      ]
     },
     "metadata": {},
     "output_type": "display_data"
    },
    {
     "data": {
      "application/vnd.jupyter.widget-view+json": {
       "model_id": "251e7a7fec054ad9b45ae10f3da2e54e",
       "version_major": 2,
       "version_minor": 0
      },
      "text/plain": [
       "Validating: 0it [00:00, ?it/s]"
      ]
     },
     "metadata": {},
     "output_type": "display_data"
    },
    {
     "data": {
      "application/vnd.jupyter.widget-view+json": {
       "model_id": "220612dfa8214688948aace2db2b5567",
       "version_major": 2,
       "version_minor": 0
      },
      "text/plain": [
       "Validating: 0it [00:00, ?it/s]"
      ]
     },
     "metadata": {},
     "output_type": "display_data"
    },
    {
     "data": {
      "application/vnd.jupyter.widget-view+json": {
       "model_id": "5af06e1076d3489bb380fec865cd3404",
       "version_major": 2,
       "version_minor": 0
      },
      "text/plain": [
       "Validating: 0it [00:00, ?it/s]"
      ]
     },
     "metadata": {},
     "output_type": "display_data"
    },
    {
     "data": {
      "application/vnd.jupyter.widget-view+json": {
       "model_id": "3daafbafd94b4fe8a7e6a9eab31c3abf",
       "version_major": 2,
       "version_minor": 0
      },
      "text/plain": [
       "Validating: 0it [00:00, ?it/s]"
      ]
     },
     "metadata": {},
     "output_type": "display_data"
    },
    {
     "data": {
      "application/vnd.jupyter.widget-view+json": {
       "model_id": "6c4c4fbcebe248e0bb7f077d3323be16",
       "version_major": 2,
       "version_minor": 0
      },
      "text/plain": [
       "Validating: 0it [00:00, ?it/s]"
      ]
     },
     "metadata": {},
     "output_type": "display_data"
    },
    {
     "data": {
      "application/vnd.jupyter.widget-view+json": {
       "model_id": "be8a6fa5289049a5ab865bf77195ab05",
       "version_major": 2,
       "version_minor": 0
      },
      "text/plain": [
       "Validating: 0it [00:00, ?it/s]"
      ]
     },
     "metadata": {},
     "output_type": "display_data"
    },
    {
     "data": {
      "application/vnd.jupyter.widget-view+json": {
       "model_id": "b9a2e22119374390b5dfde0a86f352de",
       "version_major": 2,
       "version_minor": 0
      },
      "text/plain": [
       "Validating: 0it [00:00, ?it/s]"
      ]
     },
     "metadata": {},
     "output_type": "display_data"
    },
    {
     "data": {
      "application/vnd.jupyter.widget-view+json": {
       "model_id": "b3ac7ef5581a486582ceae89c0e75451",
       "version_major": 2,
       "version_minor": 0
      },
      "text/plain": [
       "Validating: 0it [00:00, ?it/s]"
      ]
     },
     "metadata": {},
     "output_type": "display_data"
    },
    {
     "data": {
      "application/vnd.jupyter.widget-view+json": {
       "model_id": "3fae8ac9c9c94c42bddd33b877e39a0a",
       "version_major": 2,
       "version_minor": 0
      },
      "text/plain": [
       "Validating: 0it [00:00, ?it/s]"
      ]
     },
     "metadata": {},
     "output_type": "display_data"
    },
    {
     "data": {
      "application/vnd.jupyter.widget-view+json": {
       "model_id": "387952800e2e41059c258cda08853030",
       "version_major": 2,
       "version_minor": 0
      },
      "text/plain": [
       "Validating: 0it [00:00, ?it/s]"
      ]
     },
     "metadata": {},
     "output_type": "display_data"
    },
    {
     "data": {
      "application/vnd.jupyter.widget-view+json": {
       "model_id": "c4d14654b11c4782922021d9fcae8d9a",
       "version_major": 2,
       "version_minor": 0
      },
      "text/plain": [
       "Validating: 0it [00:00, ?it/s]"
      ]
     },
     "metadata": {},
     "output_type": "display_data"
    },
    {
     "data": {
      "application/vnd.jupyter.widget-view+json": {
       "model_id": "44a5c3df28964fd3be4887977ab40069",
       "version_major": 2,
       "version_minor": 0
      },
      "text/plain": [
       "Validating: 0it [00:00, ?it/s]"
      ]
     },
     "metadata": {},
     "output_type": "display_data"
    },
    {
     "data": {
      "application/vnd.jupyter.widget-view+json": {
       "model_id": "1f1a858668c04c29997b1ae9fe93f60d",
       "version_major": 2,
       "version_minor": 0
      },
      "text/plain": [
       "Validating: 0it [00:00, ?it/s]"
      ]
     },
     "metadata": {},
     "output_type": "display_data"
    },
    {
     "data": {
      "application/vnd.jupyter.widget-view+json": {
       "model_id": "c8050e4fe4c2412baf33c50cd1c56e29",
       "version_major": 2,
       "version_minor": 0
      },
      "text/plain": [
       "Validating: 0it [00:00, ?it/s]"
      ]
     },
     "metadata": {},
     "output_type": "display_data"
    },
    {
     "data": {
      "application/vnd.jupyter.widget-view+json": {
       "model_id": "db45f0213b684ceab403fa19f95dc03a",
       "version_major": 2,
       "version_minor": 0
      },
      "text/plain": [
       "Validating: 0it [00:00, ?it/s]"
      ]
     },
     "metadata": {},
     "output_type": "display_data"
    },
    {
     "data": {
      "application/vnd.jupyter.widget-view+json": {
       "model_id": "8b75c8d7867e4a3e9973844f6c64dd24",
       "version_major": 2,
       "version_minor": 0
      },
      "text/plain": [
       "Validating: 0it [00:00, ?it/s]"
      ]
     },
     "metadata": {},
     "output_type": "display_data"
    },
    {
     "data": {
      "application/vnd.jupyter.widget-view+json": {
       "model_id": "4f8686904c7d485f97e335ce0e334797",
       "version_major": 2,
       "version_minor": 0
      },
      "text/plain": [
       "Validating: 0it [00:00, ?it/s]"
      ]
     },
     "metadata": {},
     "output_type": "display_data"
    },
    {
     "data": {
      "application/vnd.jupyter.widget-view+json": {
       "model_id": "1795921bc30641d88c080cfcf9d74417",
       "version_major": 2,
       "version_minor": 0
      },
      "text/plain": [
       "Validating: 0it [00:00, ?it/s]"
      ]
     },
     "metadata": {},
     "output_type": "display_data"
    },
    {
     "data": {
      "application/vnd.jupyter.widget-view+json": {
       "model_id": "f7d93069254c4251a7adda96040f07ea",
       "version_major": 2,
       "version_minor": 0
      },
      "text/plain": [
       "Validating: 0it [00:00, ?it/s]"
      ]
     },
     "metadata": {},
     "output_type": "display_data"
    },
    {
     "data": {
      "application/vnd.jupyter.widget-view+json": {
       "model_id": "bcf51cbbc3cf405891e60585c86e45c8",
       "version_major": 2,
       "version_minor": 0
      },
      "text/plain": [
       "Validating: 0it [00:00, ?it/s]"
      ]
     },
     "metadata": {},
     "output_type": "display_data"
    },
    {
     "data": {
      "application/vnd.jupyter.widget-view+json": {
       "model_id": "3f7af184de35411582e88ece9c7f8456",
       "version_major": 2,
       "version_minor": 0
      },
      "text/plain": [
       "Validating: 0it [00:00, ?it/s]"
      ]
     },
     "metadata": {},
     "output_type": "display_data"
    },
    {
     "data": {
      "application/vnd.jupyter.widget-view+json": {
       "model_id": "9a1a74b6fde44af1a7155718a281b0aa",
       "version_major": 2,
       "version_minor": 0
      },
      "text/plain": [
       "Validating: 0it [00:00, ?it/s]"
      ]
     },
     "metadata": {},
     "output_type": "display_data"
    },
    {
     "data": {
      "application/vnd.jupyter.widget-view+json": {
       "model_id": "dca0bbdb9e0548c29ef7d517c06c711c",
       "version_major": 2,
       "version_minor": 0
      },
      "text/plain": [
       "Validating: 0it [00:00, ?it/s]"
      ]
     },
     "metadata": {},
     "output_type": "display_data"
    },
    {
     "data": {
      "application/vnd.jupyter.widget-view+json": {
       "model_id": "3ff44f57f06747ea8275a15a4eda8eca",
       "version_major": 2,
       "version_minor": 0
      },
      "text/plain": [
       "Validating: 0it [00:00, ?it/s]"
      ]
     },
     "metadata": {},
     "output_type": "display_data"
    },
    {
     "data": {
      "application/vnd.jupyter.widget-view+json": {
       "model_id": "ad5fd3d48c7244b3bacfc777663cb4ba",
       "version_major": 2,
       "version_minor": 0
      },
      "text/plain": [
       "Validating: 0it [00:00, ?it/s]"
      ]
     },
     "metadata": {},
     "output_type": "display_data"
    },
    {
     "data": {
      "application/vnd.jupyter.widget-view+json": {
       "model_id": "261ee5542b7b4015b0c8fc2f497e227d",
       "version_major": 2,
       "version_minor": 0
      },
      "text/plain": [
       "Validating: 0it [00:00, ?it/s]"
      ]
     },
     "metadata": {},
     "output_type": "display_data"
    },
    {
     "data": {
      "application/vnd.jupyter.widget-view+json": {
       "model_id": "239aa54b45684ab8beb4c0fb08248d32",
       "version_major": 2,
       "version_minor": 0
      },
      "text/plain": [
       "Validating: 0it [00:00, ?it/s]"
      ]
     },
     "metadata": {},
     "output_type": "display_data"
    },
    {
     "data": {
      "application/vnd.jupyter.widget-view+json": {
       "model_id": "c889950da47f40ca8dfc609ecaa881d3",
       "version_major": 2,
       "version_minor": 0
      },
      "text/plain": [
       "Validating: 0it [00:00, ?it/s]"
      ]
     },
     "metadata": {},
     "output_type": "display_data"
    },
    {
     "data": {
      "application/vnd.jupyter.widget-view+json": {
       "model_id": "c3411583ca8e48d380fa4a29982927ab",
       "version_major": 2,
       "version_minor": 0
      },
      "text/plain": [
       "Validating: 0it [00:00, ?it/s]"
      ]
     },
     "metadata": {},
     "output_type": "display_data"
    },
    {
     "data": {
      "application/vnd.jupyter.widget-view+json": {
       "model_id": "cabad5e5ef40400d86cc326c68ca678e",
       "version_major": 2,
       "version_minor": 0
      },
      "text/plain": [
       "Validating: 0it [00:00, ?it/s]"
      ]
     },
     "metadata": {},
     "output_type": "display_data"
    },
    {
     "data": {
      "application/vnd.jupyter.widget-view+json": {
       "model_id": "4ed2559ff47441f0aacbf6a0f62b4b5f",
       "version_major": 2,
       "version_minor": 0
      },
      "text/plain": [
       "Validating: 0it [00:00, ?it/s]"
      ]
     },
     "metadata": {},
     "output_type": "display_data"
    },
    {
     "data": {
      "application/vnd.jupyter.widget-view+json": {
       "model_id": "0c9addcd1b13439cb3a19fab12813158",
       "version_major": 2,
       "version_minor": 0
      },
      "text/plain": [
       "Validating: 0it [00:00, ?it/s]"
      ]
     },
     "metadata": {},
     "output_type": "display_data"
    },
    {
     "data": {
      "application/vnd.jupyter.widget-view+json": {
       "model_id": "3ba2557430324028893bc21a1baba50f",
       "version_major": 2,
       "version_minor": 0
      },
      "text/plain": [
       "Validating: 0it [00:00, ?it/s]"
      ]
     },
     "metadata": {},
     "output_type": "display_data"
    },
    {
     "data": {
      "application/vnd.jupyter.widget-view+json": {
       "model_id": "742cfd1eb9eb446bb664575a687e150b",
       "version_major": 2,
       "version_minor": 0
      },
      "text/plain": [
       "Validating: 0it [00:00, ?it/s]"
      ]
     },
     "metadata": {},
     "output_type": "display_data"
    },
    {
     "data": {
      "application/vnd.jupyter.widget-view+json": {
       "model_id": "9278f2c9ae4347a08a822bc0230357b0",
       "version_major": 2,
       "version_minor": 0
      },
      "text/plain": [
       "Validating: 0it [00:00, ?it/s]"
      ]
     },
     "metadata": {},
     "output_type": "display_data"
    },
    {
     "data": {
      "application/vnd.jupyter.widget-view+json": {
       "model_id": "70f21e9ae3434ab7a4c94e8ac17f2713",
       "version_major": 2,
       "version_minor": 0
      },
      "text/plain": [
       "Validating: 0it [00:00, ?it/s]"
      ]
     },
     "metadata": {},
     "output_type": "display_data"
    },
    {
     "data": {
      "application/vnd.jupyter.widget-view+json": {
       "model_id": "6e40a833ad274b51bbb87169f9824ac2",
       "version_major": 2,
       "version_minor": 0
      },
      "text/plain": [
       "Validating: 0it [00:00, ?it/s]"
      ]
     },
     "metadata": {},
     "output_type": "display_data"
    },
    {
     "data": {
      "application/vnd.jupyter.widget-view+json": {
       "model_id": "3089ba9ec5a84381940dc7deaf874e86",
       "version_major": 2,
       "version_minor": 0
      },
      "text/plain": [
       "Validating: 0it [00:00, ?it/s]"
      ]
     },
     "metadata": {},
     "output_type": "display_data"
    },
    {
     "data": {
      "application/vnd.jupyter.widget-view+json": {
       "model_id": "b25763adad59413686457054a4bfd995",
       "version_major": 2,
       "version_minor": 0
      },
      "text/plain": [
       "Validating: 0it [00:00, ?it/s]"
      ]
     },
     "metadata": {},
     "output_type": "display_data"
    },
    {
     "data": {
      "application/vnd.jupyter.widget-view+json": {
       "model_id": "199423f2dd0440708f73c01320fc530d",
       "version_major": 2,
       "version_minor": 0
      },
      "text/plain": [
       "Validating: 0it [00:00, ?it/s]"
      ]
     },
     "metadata": {},
     "output_type": "display_data"
    },
    {
     "data": {
      "application/vnd.jupyter.widget-view+json": {
       "model_id": "9c894c6dd3134dfab615bb250fd97a55",
       "version_major": 2,
       "version_minor": 0
      },
      "text/plain": [
       "Validating: 0it [00:00, ?it/s]"
      ]
     },
     "metadata": {},
     "output_type": "display_data"
    },
    {
     "data": {
      "application/vnd.jupyter.widget-view+json": {
       "model_id": "23dcf604b4fe410699fb7f0ee95006e6",
       "version_major": 2,
       "version_minor": 0
      },
      "text/plain": [
       "Validating: 0it [00:00, ?it/s]"
      ]
     },
     "metadata": {},
     "output_type": "display_data"
    },
    {
     "data": {
      "application/vnd.jupyter.widget-view+json": {
       "model_id": "c00a860549624cc68e01b983f972702f",
       "version_major": 2,
       "version_minor": 0
      },
      "text/plain": [
       "Validating: 0it [00:00, ?it/s]"
      ]
     },
     "metadata": {},
     "output_type": "display_data"
    },
    {
     "data": {
      "application/vnd.jupyter.widget-view+json": {
       "model_id": "9920d6e14e144a72866bb123d25b61bd",
       "version_major": 2,
       "version_minor": 0
      },
      "text/plain": [
       "Validating: 0it [00:00, ?it/s]"
      ]
     },
     "metadata": {},
     "output_type": "display_data"
    },
    {
     "data": {
      "application/vnd.jupyter.widget-view+json": {
       "model_id": "ff1ed1db6fae4d0c80c34d512fb604c0",
       "version_major": 2,
       "version_minor": 0
      },
      "text/plain": [
       "Validating: 0it [00:00, ?it/s]"
      ]
     },
     "metadata": {},
     "output_type": "display_data"
    },
    {
     "data": {
      "application/vnd.jupyter.widget-view+json": {
       "model_id": "44c35ff900f4473086225f000a2340fb",
       "version_major": 2,
       "version_minor": 0
      },
      "text/plain": [
       "Validating: 0it [00:00, ?it/s]"
      ]
     },
     "metadata": {},
     "output_type": "display_data"
    },
    {
     "data": {
      "application/vnd.jupyter.widget-view+json": {
       "model_id": "8cd4a8dbba414a67807d5e4379cba65e",
       "version_major": 2,
       "version_minor": 0
      },
      "text/plain": [
       "Validating: 0it [00:00, ?it/s]"
      ]
     },
     "metadata": {},
     "output_type": "display_data"
    },
    {
     "data": {
      "application/vnd.jupyter.widget-view+json": {
       "model_id": "ec2c3e55a66a400a9d2683d8aab570ab",
       "version_major": 2,
       "version_minor": 0
      },
      "text/plain": [
       "Validating: 0it [00:00, ?it/s]"
      ]
     },
     "metadata": {},
     "output_type": "display_data"
    },
    {
     "data": {
      "application/vnd.jupyter.widget-view+json": {
       "model_id": "24eef97c263045e782e8c0306de73ccf",
       "version_major": 2,
       "version_minor": 0
      },
      "text/plain": [
       "Validating: 0it [00:00, ?it/s]"
      ]
     },
     "metadata": {},
     "output_type": "display_data"
    },
    {
     "data": {
      "application/vnd.jupyter.widget-view+json": {
       "model_id": "ad5346eb1c804dbaa6da2b3208701c93",
       "version_major": 2,
       "version_minor": 0
      },
      "text/plain": [
       "Validating: 0it [00:00, ?it/s]"
      ]
     },
     "metadata": {},
     "output_type": "display_data"
    },
    {
     "data": {
      "application/vnd.jupyter.widget-view+json": {
       "model_id": "0aa1bd5f35fb431b99b5867e7b0f1dd6",
       "version_major": 2,
       "version_minor": 0
      },
      "text/plain": [
       "Validating: 0it [00:00, ?it/s]"
      ]
     },
     "metadata": {},
     "output_type": "display_data"
    },
    {
     "data": {
      "application/vnd.jupyter.widget-view+json": {
       "model_id": "287ea357f32a425fbd17efc31b9e794d",
       "version_major": 2,
       "version_minor": 0
      },
      "text/plain": [
       "Validating: 0it [00:00, ?it/s]"
      ]
     },
     "metadata": {},
     "output_type": "display_data"
    },
    {
     "data": {
      "application/vnd.jupyter.widget-view+json": {
       "model_id": "498fa75e664143e68419359f7bb4a205",
       "version_major": 2,
       "version_minor": 0
      },
      "text/plain": [
       "Validating: 0it [00:00, ?it/s]"
      ]
     },
     "metadata": {},
     "output_type": "display_data"
    },
    {
     "data": {
      "application/vnd.jupyter.widget-view+json": {
       "model_id": "d46bd99a674f4a4186643a2eac93a279",
       "version_major": 2,
       "version_minor": 0
      },
      "text/plain": [
       "Validating: 0it [00:00, ?it/s]"
      ]
     },
     "metadata": {},
     "output_type": "display_data"
    },
    {
     "data": {
      "application/vnd.jupyter.widget-view+json": {
       "model_id": "22b54e26508d456198eaba604086441e",
       "version_major": 2,
       "version_minor": 0
      },
      "text/plain": [
       "Validating: 0it [00:00, ?it/s]"
      ]
     },
     "metadata": {},
     "output_type": "display_data"
    },
    {
     "data": {
      "application/vnd.jupyter.widget-view+json": {
       "model_id": "dcd67aedcc0e472181733e464e871e01",
       "version_major": 2,
       "version_minor": 0
      },
      "text/plain": [
       "Validating: 0it [00:00, ?it/s]"
      ]
     },
     "metadata": {},
     "output_type": "display_data"
    },
    {
     "data": {
      "application/vnd.jupyter.widget-view+json": {
       "model_id": "b2320751d6d442b2b79e8523a8a6ca24",
       "version_major": 2,
       "version_minor": 0
      },
      "text/plain": [
       "Validating: 0it [00:00, ?it/s]"
      ]
     },
     "metadata": {},
     "output_type": "display_data"
    },
    {
     "data": {
      "application/vnd.jupyter.widget-view+json": {
       "model_id": "3bebc4fc2f964a359ce9dd67b1ee0371",
       "version_major": 2,
       "version_minor": 0
      },
      "text/plain": [
       "Validating: 0it [00:00, ?it/s]"
      ]
     },
     "metadata": {},
     "output_type": "display_data"
    },
    {
     "data": {
      "application/vnd.jupyter.widget-view+json": {
       "model_id": "b66ff4a781fb4bbd9deb1d1f80137924",
       "version_major": 2,
       "version_minor": 0
      },
      "text/plain": [
       "Validating: 0it [00:00, ?it/s]"
      ]
     },
     "metadata": {},
     "output_type": "display_data"
    },
    {
     "data": {
      "application/vnd.jupyter.widget-view+json": {
       "model_id": "933ea1663b9a453dbb362ea249dc7197",
       "version_major": 2,
       "version_minor": 0
      },
      "text/plain": [
       "Validating: 0it [00:00, ?it/s]"
      ]
     },
     "metadata": {},
     "output_type": "display_data"
    },
    {
     "data": {
      "application/vnd.jupyter.widget-view+json": {
       "model_id": "e3bb539fc30a4c1c803d9850f248618b",
       "version_major": 2,
       "version_minor": 0
      },
      "text/plain": [
       "Validating: 0it [00:00, ?it/s]"
      ]
     },
     "metadata": {},
     "output_type": "display_data"
    },
    {
     "data": {
      "application/vnd.jupyter.widget-view+json": {
       "model_id": "580979f5ac6244b2a0ab0ee106f894a5",
       "version_major": 2,
       "version_minor": 0
      },
      "text/plain": [
       "Validating: 0it [00:00, ?it/s]"
      ]
     },
     "metadata": {},
     "output_type": "display_data"
    },
    {
     "data": {
      "application/vnd.jupyter.widget-view+json": {
       "model_id": "79caaa22eb5c49b2bc1f76477cc6a60e",
       "version_major": 2,
       "version_minor": 0
      },
      "text/plain": [
       "Validating: 0it [00:00, ?it/s]"
      ]
     },
     "metadata": {},
     "output_type": "display_data"
    },
    {
     "data": {
      "application/vnd.jupyter.widget-view+json": {
       "model_id": "a9ddc65c30e24f7fbe00cf77ee7cc56e",
       "version_major": 2,
       "version_minor": 0
      },
      "text/plain": [
       "Validating: 0it [00:00, ?it/s]"
      ]
     },
     "metadata": {},
     "output_type": "display_data"
    },
    {
     "data": {
      "application/vnd.jupyter.widget-view+json": {
       "model_id": "af6f9a9e81f2492e8ac0519c98cb4241",
       "version_major": 2,
       "version_minor": 0
      },
      "text/plain": [
       "Validating: 0it [00:00, ?it/s]"
      ]
     },
     "metadata": {},
     "output_type": "display_data"
    },
    {
     "data": {
      "application/vnd.jupyter.widget-view+json": {
       "model_id": "da63c27c97e748adb4f15a316cd196f9",
       "version_major": 2,
       "version_minor": 0
      },
      "text/plain": [
       "Validating: 0it [00:00, ?it/s]"
      ]
     },
     "metadata": {},
     "output_type": "display_data"
    },
    {
     "data": {
      "application/vnd.jupyter.widget-view+json": {
       "model_id": "836b6d9d613944caac5de34fdf337b7e",
       "version_major": 2,
       "version_minor": 0
      },
      "text/plain": [
       "Validating: 0it [00:00, ?it/s]"
      ]
     },
     "metadata": {},
     "output_type": "display_data"
    },
    {
     "data": {
      "application/vnd.jupyter.widget-view+json": {
       "model_id": "c2a9edfa441f4ce4910659668a7f365a",
       "version_major": 2,
       "version_minor": 0
      },
      "text/plain": [
       "Validating: 0it [00:00, ?it/s]"
      ]
     },
     "metadata": {},
     "output_type": "display_data"
    },
    {
     "data": {
      "application/vnd.jupyter.widget-view+json": {
       "model_id": "144bbdaf47f84c94ab676ae1a90f5067",
       "version_major": 2,
       "version_minor": 0
      },
      "text/plain": [
       "Validating: 0it [00:00, ?it/s]"
      ]
     },
     "metadata": {},
     "output_type": "display_data"
    },
    {
     "data": {
      "application/vnd.jupyter.widget-view+json": {
       "model_id": "37e9ea1161f54f18833d0da5bf454761",
       "version_major": 2,
       "version_minor": 0
      },
      "text/plain": [
       "Validating: 0it [00:00, ?it/s]"
      ]
     },
     "metadata": {},
     "output_type": "display_data"
    },
    {
     "data": {
      "application/vnd.jupyter.widget-view+json": {
       "model_id": "b58ad28759c745fc960befb8e89299b2",
       "version_major": 2,
       "version_minor": 0
      },
      "text/plain": [
       "Validating: 0it [00:00, ?it/s]"
      ]
     },
     "metadata": {},
     "output_type": "display_data"
    },
    {
     "data": {
      "application/vnd.jupyter.widget-view+json": {
       "model_id": "b95b698698fe4fc5bbaa0f795cd6e392",
       "version_major": 2,
       "version_minor": 0
      },
      "text/plain": [
       "Validating: 0it [00:00, ?it/s]"
      ]
     },
     "metadata": {},
     "output_type": "display_data"
    },
    {
     "data": {
      "application/vnd.jupyter.widget-view+json": {
       "model_id": "6d031b8ccd5546a7a22fa8d3feb2122a",
       "version_major": 2,
       "version_minor": 0
      },
      "text/plain": [
       "Validating: 0it [00:00, ?it/s]"
      ]
     },
     "metadata": {},
     "output_type": "display_data"
    },
    {
     "data": {
      "application/vnd.jupyter.widget-view+json": {
       "model_id": "d1c46d3db3f44fc3a1a6c1e5dfd3df2c",
       "version_major": 2,
       "version_minor": 0
      },
      "text/plain": [
       "Validating: 0it [00:00, ?it/s]"
      ]
     },
     "metadata": {},
     "output_type": "display_data"
    },
    {
     "data": {
      "application/vnd.jupyter.widget-view+json": {
       "model_id": "b6f31292e646446faca0db222f898fda",
       "version_major": 2,
       "version_minor": 0
      },
      "text/plain": [
       "Validating: 0it [00:00, ?it/s]"
      ]
     },
     "metadata": {},
     "output_type": "display_data"
    },
    {
     "data": {
      "application/vnd.jupyter.widget-view+json": {
       "model_id": "f5d4e1cf097b47e9b58a002e9774a895",
       "version_major": 2,
       "version_minor": 0
      },
      "text/plain": [
       "Validating: 0it [00:00, ?it/s]"
      ]
     },
     "metadata": {},
     "output_type": "display_data"
    },
    {
     "data": {
      "application/vnd.jupyter.widget-view+json": {
       "model_id": "411e3f4739e441e18f3edc490a0abc3f",
       "version_major": 2,
       "version_minor": 0
      },
      "text/plain": [
       "Validating: 0it [00:00, ?it/s]"
      ]
     },
     "metadata": {},
     "output_type": "display_data"
    },
    {
     "data": {
      "application/vnd.jupyter.widget-view+json": {
       "model_id": "eec01105733a4fc5a29ee1b9c2f53ed8",
       "version_major": 2,
       "version_minor": 0
      },
      "text/plain": [
       "Validating: 0it [00:00, ?it/s]"
      ]
     },
     "metadata": {},
     "output_type": "display_data"
    },
    {
     "data": {
      "application/vnd.jupyter.widget-view+json": {
       "model_id": "548e5fd1c9e347c7a9398ed806d690df",
       "version_major": 2,
       "version_minor": 0
      },
      "text/plain": [
       "Validating: 0it [00:00, ?it/s]"
      ]
     },
     "metadata": {},
     "output_type": "display_data"
    },
    {
     "data": {
      "application/vnd.jupyter.widget-view+json": {
       "model_id": "22b3b57b58204d179b743d6a885521f9",
       "version_major": 2,
       "version_minor": 0
      },
      "text/plain": [
       "Validating: 0it [00:00, ?it/s]"
      ]
     },
     "metadata": {},
     "output_type": "display_data"
    },
    {
     "data": {
      "application/vnd.jupyter.widget-view+json": {
       "model_id": "a8118fa71e194d45b040fa085798f2e6",
       "version_major": 2,
       "version_minor": 0
      },
      "text/plain": [
       "Validating: 0it [00:00, ?it/s]"
      ]
     },
     "metadata": {},
     "output_type": "display_data"
    },
    {
     "data": {
      "application/vnd.jupyter.widget-view+json": {
       "model_id": "84a5f07cac23425eaae77813697d65fa",
       "version_major": 2,
       "version_minor": 0
      },
      "text/plain": [
       "Validating: 0it [00:00, ?it/s]"
      ]
     },
     "metadata": {},
     "output_type": "display_data"
    },
    {
     "data": {
      "application/vnd.jupyter.widget-view+json": {
       "model_id": "33e9702ad695484a8361669c8b4f4b11",
       "version_major": 2,
       "version_minor": 0
      },
      "text/plain": [
       "Validating: 0it [00:00, ?it/s]"
      ]
     },
     "metadata": {},
     "output_type": "display_data"
    },
    {
     "data": {
      "application/vnd.jupyter.widget-view+json": {
       "model_id": "ad6ba0645a3a4fc79cee23cf2574ad2a",
       "version_major": 2,
       "version_minor": 0
      },
      "text/plain": [
       "Validating: 0it [00:00, ?it/s]"
      ]
     },
     "metadata": {},
     "output_type": "display_data"
    },
    {
     "data": {
      "application/vnd.jupyter.widget-view+json": {
       "model_id": "6d86d2c19e754209b64763aa88ecf640",
       "version_major": 2,
       "version_minor": 0
      },
      "text/plain": [
       "Validating: 0it [00:00, ?it/s]"
      ]
     },
     "metadata": {},
     "output_type": "display_data"
    },
    {
     "data": {
      "application/vnd.jupyter.widget-view+json": {
       "model_id": "2f628f18645f41ab82c32972ffa9f8ee",
       "version_major": 2,
       "version_minor": 0
      },
      "text/plain": [
       "Validating: 0it [00:00, ?it/s]"
      ]
     },
     "metadata": {},
     "output_type": "display_data"
    },
    {
     "data": {
      "application/vnd.jupyter.widget-view+json": {
       "model_id": "2c22085ca8b54ceca1accb579135bcfb",
       "version_major": 2,
       "version_minor": 0
      },
      "text/plain": [
       "Validating: 0it [00:00, ?it/s]"
      ]
     },
     "metadata": {},
     "output_type": "display_data"
    },
    {
     "data": {
      "application/vnd.jupyter.widget-view+json": {
       "model_id": "c9940083d9da41a0b3987b78c18b71dd",
       "version_major": 2,
       "version_minor": 0
      },
      "text/plain": [
       "Validating: 0it [00:00, ?it/s]"
      ]
     },
     "metadata": {},
     "output_type": "display_data"
    },
    {
     "data": {
      "application/vnd.jupyter.widget-view+json": {
       "model_id": "0c3793123d494c67aa7da41790dc0436",
       "version_major": 2,
       "version_minor": 0
      },
      "text/plain": [
       "Validating: 0it [00:00, ?it/s]"
      ]
     },
     "metadata": {},
     "output_type": "display_data"
    },
    {
     "data": {
      "application/vnd.jupyter.widget-view+json": {
       "model_id": "e5de3b365a3b490e94e73980a3d01756",
       "version_major": 2,
       "version_minor": 0
      },
      "text/plain": [
       "Validating: 0it [00:00, ?it/s]"
      ]
     },
     "metadata": {},
     "output_type": "display_data"
    },
    {
     "data": {
      "application/vnd.jupyter.widget-view+json": {
       "model_id": "e4e9aa4040f3406ba64498f7073ad448",
       "version_major": 2,
       "version_minor": 0
      },
      "text/plain": [
       "Validating: 0it [00:00, ?it/s]"
      ]
     },
     "metadata": {},
     "output_type": "display_data"
    },
    {
     "data": {
      "application/vnd.jupyter.widget-view+json": {
       "model_id": "4113e02ec39d41ad877ae15623fceca9",
       "version_major": 2,
       "version_minor": 0
      },
      "text/plain": [
       "Validating: 0it [00:00, ?it/s]"
      ]
     },
     "metadata": {},
     "output_type": "display_data"
    },
    {
     "data": {
      "application/vnd.jupyter.widget-view+json": {
       "model_id": "7d5d76ab0e7045fa9c830c405275dd1c",
       "version_major": 2,
       "version_minor": 0
      },
      "text/plain": [
       "Validating: 0it [00:00, ?it/s]"
      ]
     },
     "metadata": {},
     "output_type": "display_data"
    },
    {
     "data": {
      "application/vnd.jupyter.widget-view+json": {
       "model_id": "9f9b90953f4e47de866a651acf2d0fdb",
       "version_major": 2,
       "version_minor": 0
      },
      "text/plain": [
       "Validating: 0it [00:00, ?it/s]"
      ]
     },
     "metadata": {},
     "output_type": "display_data"
    },
    {
     "data": {
      "application/vnd.jupyter.widget-view+json": {
       "model_id": "073fe09967804a40afc1a19c87b59d48",
       "version_major": 2,
       "version_minor": 0
      },
      "text/plain": [
       "Validating: 0it [00:00, ?it/s]"
      ]
     },
     "metadata": {},
     "output_type": "display_data"
    },
    {
     "data": {
      "application/vnd.jupyter.widget-view+json": {
       "model_id": "fa170c21cb6a43959e9ae25e8ba2eac0",
       "version_major": 2,
       "version_minor": 0
      },
      "text/plain": [
       "Validating: 0it [00:00, ?it/s]"
      ]
     },
     "metadata": {},
     "output_type": "display_data"
    },
    {
     "data": {
      "application/vnd.jupyter.widget-view+json": {
       "model_id": "1c404263f38d463daf0b655601c20703",
       "version_major": 2,
       "version_minor": 0
      },
      "text/plain": [
       "Validating: 0it [00:00, ?it/s]"
      ]
     },
     "metadata": {},
     "output_type": "display_data"
    },
    {
     "data": {
      "application/vnd.jupyter.widget-view+json": {
       "model_id": "063a9b6467d74d6ca26d11c5e8e8b1bc",
       "version_major": 2,
       "version_minor": 0
      },
      "text/plain": [
       "Validating: 0it [00:00, ?it/s]"
      ]
     },
     "metadata": {},
     "output_type": "display_data"
    },
    {
     "data": {
      "application/vnd.jupyter.widget-view+json": {
       "model_id": "aa1cdb3c1c4c4f48bf850fb074d08993",
       "version_major": 2,
       "version_minor": 0
      },
      "text/plain": [
       "Validating: 0it [00:00, ?it/s]"
      ]
     },
     "metadata": {},
     "output_type": "display_data"
    },
    {
     "data": {
      "application/vnd.jupyter.widget-view+json": {
       "model_id": "5854ea353f614f4e8d995da89e6eed3e",
       "version_major": 2,
       "version_minor": 0
      },
      "text/plain": [
       "Validating: 0it [00:00, ?it/s]"
      ]
     },
     "metadata": {},
     "output_type": "display_data"
    },
    {
     "data": {
      "application/vnd.jupyter.widget-view+json": {
       "model_id": "7306fad1cd484fc1826987be0d0ed02c",
       "version_major": 2,
       "version_minor": 0
      },
      "text/plain": [
       "Validating: 0it [00:00, ?it/s]"
      ]
     },
     "metadata": {},
     "output_type": "display_data"
    },
    {
     "data": {
      "application/vnd.jupyter.widget-view+json": {
       "model_id": "c1fbee31aaea4aca87e0f22e8cb86af2",
       "version_major": 2,
       "version_minor": 0
      },
      "text/plain": [
       "Validating: 0it [00:00, ?it/s]"
      ]
     },
     "metadata": {},
     "output_type": "display_data"
    },
    {
     "data": {
      "application/vnd.jupyter.widget-view+json": {
       "model_id": "98aff16790fc422cb0db25f087393e20",
       "version_major": 2,
       "version_minor": 0
      },
      "text/plain": [
       "Validating: 0it [00:00, ?it/s]"
      ]
     },
     "metadata": {},
     "output_type": "display_data"
    },
    {
     "data": {
      "application/vnd.jupyter.widget-view+json": {
       "model_id": "9c60c7631098430b84716a8334dc20d2",
       "version_major": 2,
       "version_minor": 0
      },
      "text/plain": [
       "Validating: 0it [00:00, ?it/s]"
      ]
     },
     "metadata": {},
     "output_type": "display_data"
    },
    {
     "data": {
      "application/vnd.jupyter.widget-view+json": {
       "model_id": "9019e45d181e428aa5528aa4ec016158",
       "version_major": 2,
       "version_minor": 0
      },
      "text/plain": [
       "Validating: 0it [00:00, ?it/s]"
      ]
     },
     "metadata": {},
     "output_type": "display_data"
    },
    {
     "data": {
      "application/vnd.jupyter.widget-view+json": {
       "model_id": "f7c1dcc5fd824973a1209ad6fc5186ec",
       "version_major": 2,
       "version_minor": 0
      },
      "text/plain": [
       "Validating: 0it [00:00, ?it/s]"
      ]
     },
     "metadata": {},
     "output_type": "display_data"
    },
    {
     "data": {
      "application/vnd.jupyter.widget-view+json": {
       "model_id": "fb7aebee9ace4649a84e7d56db006362",
       "version_major": 2,
       "version_minor": 0
      },
      "text/plain": [
       "Validating: 0it [00:00, ?it/s]"
      ]
     },
     "metadata": {},
     "output_type": "display_data"
    },
    {
     "data": {
      "application/vnd.jupyter.widget-view+json": {
       "model_id": "370e7d24a22b4dc5a5911cce041b2cce",
       "version_major": 2,
       "version_minor": 0
      },
      "text/plain": [
       "Validating: 0it [00:00, ?it/s]"
      ]
     },
     "metadata": {},
     "output_type": "display_data"
    },
    {
     "data": {
      "application/vnd.jupyter.widget-view+json": {
       "model_id": "ee68a54106154c8eb11ca62852e617c1",
       "version_major": 2,
       "version_minor": 0
      },
      "text/plain": [
       "Validating: 0it [00:00, ?it/s]"
      ]
     },
     "metadata": {},
     "output_type": "display_data"
    },
    {
     "data": {
      "application/vnd.jupyter.widget-view+json": {
       "model_id": "ec7aa71832b348a797554b9c12d905fa",
       "version_major": 2,
       "version_minor": 0
      },
      "text/plain": [
       "Validating: 0it [00:00, ?it/s]"
      ]
     },
     "metadata": {},
     "output_type": "display_data"
    },
    {
     "data": {
      "application/vnd.jupyter.widget-view+json": {
       "model_id": "445b16d4f23c45ff8e1328fc99d4d977",
       "version_major": 2,
       "version_minor": 0
      },
      "text/plain": [
       "Validating: 0it [00:00, ?it/s]"
      ]
     },
     "metadata": {},
     "output_type": "display_data"
    },
    {
     "data": {
      "application/vnd.jupyter.widget-view+json": {
       "model_id": "068d2c4931d64d128ff6d164de418b2f",
       "version_major": 2,
       "version_minor": 0
      },
      "text/plain": [
       "Validating: 0it [00:00, ?it/s]"
      ]
     },
     "metadata": {},
     "output_type": "display_data"
    },
    {
     "data": {
      "application/vnd.jupyter.widget-view+json": {
       "model_id": "bd7ed2fc0c1c4ba0a38edb1d78d04480",
       "version_major": 2,
       "version_minor": 0
      },
      "text/plain": [
       "Validating: 0it [00:00, ?it/s]"
      ]
     },
     "metadata": {},
     "output_type": "display_data"
    },
    {
     "data": {
      "application/vnd.jupyter.widget-view+json": {
       "model_id": "4d09d35482524a7188143fb68e254ca5",
       "version_major": 2,
       "version_minor": 0
      },
      "text/plain": [
       "Validating: 0it [00:00, ?it/s]"
      ]
     },
     "metadata": {},
     "output_type": "display_data"
    },
    {
     "data": {
      "application/vnd.jupyter.widget-view+json": {
       "model_id": "cb269c511d194f39ace0c7abdceb3db7",
       "version_major": 2,
       "version_minor": 0
      },
      "text/plain": [
       "Validating: 0it [00:00, ?it/s]"
      ]
     },
     "metadata": {},
     "output_type": "display_data"
    },
    {
     "data": {
      "application/vnd.jupyter.widget-view+json": {
       "model_id": "1edd4b219c2642a08d9f79a5fe9cff5f",
       "version_major": 2,
       "version_minor": 0
      },
      "text/plain": [
       "Validating: 0it [00:00, ?it/s]"
      ]
     },
     "metadata": {},
     "output_type": "display_data"
    },
    {
     "data": {
      "application/vnd.jupyter.widget-view+json": {
       "model_id": "d5545802b49e417e958ec9c06927a814",
       "version_major": 2,
       "version_minor": 0
      },
      "text/plain": [
       "Validating: 0it [00:00, ?it/s]"
      ]
     },
     "metadata": {},
     "output_type": "display_data"
    },
    {
     "data": {
      "application/vnd.jupyter.widget-view+json": {
       "model_id": "074e7bd39b4748278f48358f7a94a9d4",
       "version_major": 2,
       "version_minor": 0
      },
      "text/plain": [
       "Validating: 0it [00:00, ?it/s]"
      ]
     },
     "metadata": {},
     "output_type": "display_data"
    },
    {
     "data": {
      "application/vnd.jupyter.widget-view+json": {
       "model_id": "393814b4a24c47998ffaf6c749e7e026",
       "version_major": 2,
       "version_minor": 0
      },
      "text/plain": [
       "Validating: 0it [00:00, ?it/s]"
      ]
     },
     "metadata": {},
     "output_type": "display_data"
    },
    {
     "data": {
      "application/vnd.jupyter.widget-view+json": {
       "model_id": "a2e9a14f61cc467196cf413209662d45",
       "version_major": 2,
       "version_minor": 0
      },
      "text/plain": [
       "Validating: 0it [00:00, ?it/s]"
      ]
     },
     "metadata": {},
     "output_type": "display_data"
    },
    {
     "data": {
      "application/vnd.jupyter.widget-view+json": {
       "model_id": "25ccdd9999584f70b27fcafa72c8668b",
       "version_major": 2,
       "version_minor": 0
      },
      "text/plain": [
       "Validating: 0it [00:00, ?it/s]"
      ]
     },
     "metadata": {},
     "output_type": "display_data"
    },
    {
     "data": {
      "application/vnd.jupyter.widget-view+json": {
       "model_id": "64a40a92df374b2795078984e3857675",
       "version_major": 2,
       "version_minor": 0
      },
      "text/plain": [
       "Validating: 0it [00:00, ?it/s]"
      ]
     },
     "metadata": {},
     "output_type": "display_data"
    },
    {
     "data": {
      "application/vnd.jupyter.widget-view+json": {
       "model_id": "5d15c6e44dcd4285adf5c1a0f2431c27",
       "version_major": 2,
       "version_minor": 0
      },
      "text/plain": [
       "Validating: 0it [00:00, ?it/s]"
      ]
     },
     "metadata": {},
     "output_type": "display_data"
    },
    {
     "data": {
      "application/vnd.jupyter.widget-view+json": {
       "model_id": "1b58c69c012d48d492a938f7a6b7c0cd",
       "version_major": 2,
       "version_minor": 0
      },
      "text/plain": [
       "Validating: 0it [00:00, ?it/s]"
      ]
     },
     "metadata": {},
     "output_type": "display_data"
    },
    {
     "data": {
      "application/vnd.jupyter.widget-view+json": {
       "model_id": "88c13bf640f343948dbfd743a921bcac",
       "version_major": 2,
       "version_minor": 0
      },
      "text/plain": [
       "Validating: 0it [00:00, ?it/s]"
      ]
     },
     "metadata": {},
     "output_type": "display_data"
    },
    {
     "data": {
      "application/vnd.jupyter.widget-view+json": {
       "model_id": "771bd9e07ec4486ca182655738b3e9d1",
       "version_major": 2,
       "version_minor": 0
      },
      "text/plain": [
       "Validating: 0it [00:00, ?it/s]"
      ]
     },
     "metadata": {},
     "output_type": "display_data"
    },
    {
     "data": {
      "application/vnd.jupyter.widget-view+json": {
       "model_id": "6d821002b1834819a4093f51b70475b6",
       "version_major": 2,
       "version_minor": 0
      },
      "text/plain": [
       "Validating: 0it [00:00, ?it/s]"
      ]
     },
     "metadata": {},
     "output_type": "display_data"
    },
    {
     "data": {
      "application/vnd.jupyter.widget-view+json": {
       "model_id": "728bc1eb4b1f424096932305eb24cdac",
       "version_major": 2,
       "version_minor": 0
      },
      "text/plain": [
       "Validating: 0it [00:00, ?it/s]"
      ]
     },
     "metadata": {},
     "output_type": "display_data"
    },
    {
     "data": {
      "application/vnd.jupyter.widget-view+json": {
       "model_id": "e7b0f5af255a4cf1bbd9e8ee4e5f1e87",
       "version_major": 2,
       "version_minor": 0
      },
      "text/plain": [
       "Validating: 0it [00:00, ?it/s]"
      ]
     },
     "metadata": {},
     "output_type": "display_data"
    },
    {
     "data": {
      "application/vnd.jupyter.widget-view+json": {
       "model_id": "254d74a363d647a9be34032c0e5c1701",
       "version_major": 2,
       "version_minor": 0
      },
      "text/plain": [
       "Validating: 0it [00:00, ?it/s]"
      ]
     },
     "metadata": {},
     "output_type": "display_data"
    },
    {
     "data": {
      "application/vnd.jupyter.widget-view+json": {
       "model_id": "77ab7690467945babe8ce1fdc134b639",
       "version_major": 2,
       "version_minor": 0
      },
      "text/plain": [
       "Validating: 0it [00:00, ?it/s]"
      ]
     },
     "metadata": {},
     "output_type": "display_data"
    },
    {
     "data": {
      "application/vnd.jupyter.widget-view+json": {
       "model_id": "bf12181985d3449abe11f4008abd2770",
       "version_major": 2,
       "version_minor": 0
      },
      "text/plain": [
       "Validating: 0it [00:00, ?it/s]"
      ]
     },
     "metadata": {},
     "output_type": "display_data"
    },
    {
     "data": {
      "application/vnd.jupyter.widget-view+json": {
       "model_id": "beac4aa737cf4ba9b488bd528f8ae1ed",
       "version_major": 2,
       "version_minor": 0
      },
      "text/plain": [
       "Validating: 0it [00:00, ?it/s]"
      ]
     },
     "metadata": {},
     "output_type": "display_data"
    },
    {
     "data": {
      "application/vnd.jupyter.widget-view+json": {
       "model_id": "45814d144ae147efb56719d28979614d",
       "version_major": 2,
       "version_minor": 0
      },
      "text/plain": [
       "Validating: 0it [00:00, ?it/s]"
      ]
     },
     "metadata": {},
     "output_type": "display_data"
    },
    {
     "data": {
      "application/vnd.jupyter.widget-view+json": {
       "model_id": "bcac4c647c5049b8977f273982e15ca1",
       "version_major": 2,
       "version_minor": 0
      },
      "text/plain": [
       "Validating: 0it [00:00, ?it/s]"
      ]
     },
     "metadata": {},
     "output_type": "display_data"
    },
    {
     "data": {
      "application/vnd.jupyter.widget-view+json": {
       "model_id": "8ac7f58b88094edda4bc6de2cae347c3",
       "version_major": 2,
       "version_minor": 0
      },
      "text/plain": [
       "Validating: 0it [00:00, ?it/s]"
      ]
     },
     "metadata": {},
     "output_type": "display_data"
    },
    {
     "data": {
      "application/vnd.jupyter.widget-view+json": {
       "model_id": "06822323e0e0485db07584be0ba6d946",
       "version_major": 2,
       "version_minor": 0
      },
      "text/plain": [
       "Validating: 0it [00:00, ?it/s]"
      ]
     },
     "metadata": {},
     "output_type": "display_data"
    },
    {
     "data": {
      "application/vnd.jupyter.widget-view+json": {
       "model_id": "0986e18a3aee4667b12fa9061259f2bc",
       "version_major": 2,
       "version_minor": 0
      },
      "text/plain": [
       "Validating: 0it [00:00, ?it/s]"
      ]
     },
     "metadata": {},
     "output_type": "display_data"
    },
    {
     "data": {
      "application/vnd.jupyter.widget-view+json": {
       "model_id": "e70c02ceb5e24d67922142ea064dbfb4",
       "version_major": 2,
       "version_minor": 0
      },
      "text/plain": [
       "Validating: 0it [00:00, ?it/s]"
      ]
     },
     "metadata": {},
     "output_type": "display_data"
    },
    {
     "data": {
      "application/vnd.jupyter.widget-view+json": {
       "model_id": "8b9aeb4887d64f73a7ffca87ea14bb1e",
       "version_major": 2,
       "version_minor": 0
      },
      "text/plain": [
       "Validating: 0it [00:00, ?it/s]"
      ]
     },
     "metadata": {},
     "output_type": "display_data"
    },
    {
     "data": {
      "application/vnd.jupyter.widget-view+json": {
       "model_id": "0002ab75e0704a4db5a8443dfeb4002b",
       "version_major": 2,
       "version_minor": 0
      },
      "text/plain": [
       "Validating: 0it [00:00, ?it/s]"
      ]
     },
     "metadata": {},
     "output_type": "display_data"
    },
    {
     "data": {
      "application/vnd.jupyter.widget-view+json": {
       "model_id": "c903d703c9b64793a20495e0b54f71b3",
       "version_major": 2,
       "version_minor": 0
      },
      "text/plain": [
       "Validating: 0it [00:00, ?it/s]"
      ]
     },
     "metadata": {},
     "output_type": "display_data"
    },
    {
     "data": {
      "application/vnd.jupyter.widget-view+json": {
       "model_id": "56fc105090894fb2b229a4c3522310ed",
       "version_major": 2,
       "version_minor": 0
      },
      "text/plain": [
       "Validating: 0it [00:00, ?it/s]"
      ]
     },
     "metadata": {},
     "output_type": "display_data"
    },
    {
     "data": {
      "application/vnd.jupyter.widget-view+json": {
       "model_id": "ff45d429210243ff8310594227f55de7",
       "version_major": 2,
       "version_minor": 0
      },
      "text/plain": [
       "Validating: 0it [00:00, ?it/s]"
      ]
     },
     "metadata": {},
     "output_type": "display_data"
    },
    {
     "data": {
      "application/vnd.jupyter.widget-view+json": {
       "model_id": "b8a12bda7bcf48f6a4b53f0bd4fc13a2",
       "version_major": 2,
       "version_minor": 0
      },
      "text/plain": [
       "Validating: 0it [00:00, ?it/s]"
      ]
     },
     "metadata": {},
     "output_type": "display_data"
    },
    {
     "data": {
      "application/vnd.jupyter.widget-view+json": {
       "model_id": "18445920936a41c799046df36cc9a647",
       "version_major": 2,
       "version_minor": 0
      },
      "text/plain": [
       "Validating: 0it [00:00, ?it/s]"
      ]
     },
     "metadata": {},
     "output_type": "display_data"
    },
    {
     "data": {
      "application/vnd.jupyter.widget-view+json": {
       "model_id": "9689729059a64a139327494e19a8cdf9",
       "version_major": 2,
       "version_minor": 0
      },
      "text/plain": [
       "Validating: 0it [00:00, ?it/s]"
      ]
     },
     "metadata": {},
     "output_type": "display_data"
    },
    {
     "data": {
      "application/vnd.jupyter.widget-view+json": {
       "model_id": "00c158d5a70c43d686c6f5ea890aa6d8",
       "version_major": 2,
       "version_minor": 0
      },
      "text/plain": [
       "Validating: 0it [00:00, ?it/s]"
      ]
     },
     "metadata": {},
     "output_type": "display_data"
    },
    {
     "data": {
      "application/vnd.jupyter.widget-view+json": {
       "model_id": "9c0ab2265d6a42b09685845e4633c331",
       "version_major": 2,
       "version_minor": 0
      },
      "text/plain": [
       "Validating: 0it [00:00, ?it/s]"
      ]
     },
     "metadata": {},
     "output_type": "display_data"
    },
    {
     "data": {
      "application/vnd.jupyter.widget-view+json": {
       "model_id": "b1389b5e137342e1b90efec3d4b6b764",
       "version_major": 2,
       "version_minor": 0
      },
      "text/plain": [
       "Validating: 0it [00:00, ?it/s]"
      ]
     },
     "metadata": {},
     "output_type": "display_data"
    },
    {
     "data": {
      "application/vnd.jupyter.widget-view+json": {
       "model_id": "4f79888e937b4275984f09282e138c3e",
       "version_major": 2,
       "version_minor": 0
      },
      "text/plain": [
       "Validating: 0it [00:00, ?it/s]"
      ]
     },
     "metadata": {},
     "output_type": "display_data"
    },
    {
     "data": {
      "application/vnd.jupyter.widget-view+json": {
       "model_id": "2475b56c09fd44fc858f3a414263ef81",
       "version_major": 2,
       "version_minor": 0
      },
      "text/plain": [
       "Validating: 0it [00:00, ?it/s]"
      ]
     },
     "metadata": {},
     "output_type": "display_data"
    },
    {
     "data": {
      "application/vnd.jupyter.widget-view+json": {
       "model_id": "2257a10554f149e3858ae8213427dd5f",
       "version_major": 2,
       "version_minor": 0
      },
      "text/plain": [
       "Validating: 0it [00:00, ?it/s]"
      ]
     },
     "metadata": {},
     "output_type": "display_data"
    },
    {
     "data": {
      "application/vnd.jupyter.widget-view+json": {
       "model_id": "ae92340eda54427da0c47e67fef90997",
       "version_major": 2,
       "version_minor": 0
      },
      "text/plain": [
       "Validating: 0it [00:00, ?it/s]"
      ]
     },
     "metadata": {},
     "output_type": "display_data"
    },
    {
     "data": {
      "application/vnd.jupyter.widget-view+json": {
       "model_id": "52b435aa0fef4c8e857161f13145e5e2",
       "version_major": 2,
       "version_minor": 0
      },
      "text/plain": [
       "Validating: 0it [00:00, ?it/s]"
      ]
     },
     "metadata": {},
     "output_type": "display_data"
    },
    {
     "data": {
      "application/vnd.jupyter.widget-view+json": {
       "model_id": "73c017184979480c8d7833388d3c42c2",
       "version_major": 2,
       "version_minor": 0
      },
      "text/plain": [
       "Validating: 0it [00:00, ?it/s]"
      ]
     },
     "metadata": {},
     "output_type": "display_data"
    },
    {
     "data": {
      "application/vnd.jupyter.widget-view+json": {
       "model_id": "612b8b67f47348e4a55553d28501ab3e",
       "version_major": 2,
       "version_minor": 0
      },
      "text/plain": [
       "Validating: 0it [00:00, ?it/s]"
      ]
     },
     "metadata": {},
     "output_type": "display_data"
    },
    {
     "data": {
      "application/vnd.jupyter.widget-view+json": {
       "model_id": "deaf35370ffa4b5eb5329803ac0ac53d",
       "version_major": 2,
       "version_minor": 0
      },
      "text/plain": [
       "Validating: 0it [00:00, ?it/s]"
      ]
     },
     "metadata": {},
     "output_type": "display_data"
    },
    {
     "data": {
      "application/vnd.jupyter.widget-view+json": {
       "model_id": "2ebbc44805d9479ab57c8d790a9beaf5",
       "version_major": 2,
       "version_minor": 0
      },
      "text/plain": [
       "Validating: 0it [00:00, ?it/s]"
      ]
     },
     "metadata": {},
     "output_type": "display_data"
    },
    {
     "data": {
      "application/vnd.jupyter.widget-view+json": {
       "model_id": "7812b4ec877841bf8a405c84de76b910",
       "version_major": 2,
       "version_minor": 0
      },
      "text/plain": [
       "Validating: 0it [00:00, ?it/s]"
      ]
     },
     "metadata": {},
     "output_type": "display_data"
    },
    {
     "data": {
      "application/vnd.jupyter.widget-view+json": {
       "model_id": "cd77d05f37eb4f959b4ee81d2081f38d",
       "version_major": 2,
       "version_minor": 0
      },
      "text/plain": [
       "Validating: 0it [00:00, ?it/s]"
      ]
     },
     "metadata": {},
     "output_type": "display_data"
    },
    {
     "data": {
      "application/vnd.jupyter.widget-view+json": {
       "model_id": "642bebe5b1c340e98bb4466a9da47c1a",
       "version_major": 2,
       "version_minor": 0
      },
      "text/plain": [
       "Validating: 0it [00:00, ?it/s]"
      ]
     },
     "metadata": {},
     "output_type": "display_data"
    },
    {
     "data": {
      "application/vnd.jupyter.widget-view+json": {
       "model_id": "4eb931617f4746b4832ee1073119132a",
       "version_major": 2,
       "version_minor": 0
      },
      "text/plain": [
       "Validating: 0it [00:00, ?it/s]"
      ]
     },
     "metadata": {},
     "output_type": "display_data"
    },
    {
     "data": {
      "application/vnd.jupyter.widget-view+json": {
       "model_id": "5f595fe59d444f4dad9c6d2517a45482",
       "version_major": 2,
       "version_minor": 0
      },
      "text/plain": [
       "Validating: 0it [00:00, ?it/s]"
      ]
     },
     "metadata": {},
     "output_type": "display_data"
    },
    {
     "data": {
      "application/vnd.jupyter.widget-view+json": {
       "model_id": "d9c7d1f0f1f044d8b1f4c8ff572abfa6",
       "version_major": 2,
       "version_minor": 0
      },
      "text/plain": [
       "Validating: 0it [00:00, ?it/s]"
      ]
     },
     "metadata": {},
     "output_type": "display_data"
    },
    {
     "data": {
      "application/vnd.jupyter.widget-view+json": {
       "model_id": "1bab22af8f904344afc013489f25c501",
       "version_major": 2,
       "version_minor": 0
      },
      "text/plain": [
       "Validating: 0it [00:00, ?it/s]"
      ]
     },
     "metadata": {},
     "output_type": "display_data"
    }
   ],
   "source": [
    "params ={\n",
    "    'n_features': len(feature_columns),\n",
    "    \"n_classes\": len(label_encoder.classes_),\n",
    "    \"seq_length\":256,\n",
    "    \"dropout\": 0.5,\n",
    "    \"n_hidden\": 256,\n",
    "    \"batch_size\": 64,\n",
    "    \"lr\": 0.01,\n",
    "    \"n_layers\" : 2  \n",
    "    }\n",
    "train(params, 'run_41_sl256')"
   ]
  }
 ],
 "metadata": {
  "kernelspec": {
   "display_name": "Python 3",
   "language": "python",
   "name": "python3"
  },
  "language_info": {
   "codemirror_mode": {
    "name": "ipython",
    "version": 3
   },
   "file_extension": ".py",
   "mimetype": "text/x-python",
   "name": "python",
   "nbconvert_exporter": "python",
   "pygments_lexer": "ipython3",
   "version": "3.7.12"
  }
 },
 "nbformat": 4,
 "nbformat_minor": 5
}
