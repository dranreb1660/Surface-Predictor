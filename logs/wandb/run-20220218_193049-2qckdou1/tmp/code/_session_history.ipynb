{
 "cells": [
  {
   "cell_type": "code",
   "execution_count": 1,
   "id": "df24d8f7",
   "metadata": {},
   "outputs": [],
   "source": [
    "ds = SurfaceDataset(sequences)\n",
    "len(ds)"
   ]
  },
  {
   "cell_type": "code",
   "execution_count": 2,
   "id": "372e6fd0",
   "metadata": {},
   "outputs": [],
   "source": [
    "# from google.colab import drive\n",
    "from pathlib import Path\n",
    "# drive.mount('/content/gdrive', force_remount=True)\n",
    "%cd \"/content/drive/Othercomputers/my_mac/Coding_stuff/Projects/Surface_Predictor\""
   ]
  },
  {
   "cell_type": "code",
   "execution_count": 3,
   "id": "cb7efffa",
   "metadata": {},
   "outputs": [],
   "source": [
    "creds = '...'\n",
    "cred_path = Path('~/.kaggle/kaggle.json').expanduser()\n",
    "if not cred_path.exists():\n",
    "  print('entered')\n",
    "  cred_path.parent.mkdir(exist_ok=True)\n",
    "  cred_path.write_text(creds)\n",
    "  cred_path.chmod(0o600)"
   ]
  },
  {
   "cell_type": "code",
   "execution_count": 4,
   "id": "79e0f8b3",
   "metadata": {},
   "outputs": [],
   "source": [
    "# !kaggle competitions download -c career-con-2019 -p ./data/\n",
    "# !unzip ./data/X_test.csv.zip -d ./data\n",
    "# !unzip ./data/X_train.csv.zip -d ./data\n",
    "# !rm ./data/X_train.csv.zip ./data/X_test.csv.zip"
   ]
  },
  {
   "cell_type": "code",
   "execution_count": 5,
   "id": "5a668299",
   "metadata": {},
   "outputs": [],
   "source": [
    "%pip install -Uqq pytorch-lightning torchmetrics wandb"
   ]
  },
  {
   "cell_type": "code",
   "execution_count": 6,
   "id": "a4b1d751",
   "metadata": {},
   "outputs": [],
   "source": [
    "import numpy as np\n",
    "import pandas as pd\n",
    "import matplotlib.pyplot as plt\n",
    "from matplotlib import rc\n",
    "import seaborn as sns\n",
    "import wandb\n",
    "from tqdm.auto import tqdm \n",
    "\n",
    "import torch\n",
    "import torch.autograd as autograd\n",
    "import torch.nn as nn\n",
    "import torch.nn.functional as F\n",
    "import torch.optim as optim\n",
    "from torch.utils.data import Dataset, DataLoader\n",
    "\n",
    "import pytorch_lightning as pl\n",
    "from pytorch_lightning.callbacks import ModelCheckpoint, EarlyStopping\n",
    "from pytorch_lightning.callbacks.progress import TQDMProgressBar\n",
    "from pytorch_lightning.loggers import WandbLogger\n",
    "import torchmetrics\n",
    "\n",
    "from pylab import rcParams\n",
    "from matplotlib.ticker import MaxNLocator\n",
    "from sklearn.metrics import classification_report, confusion_matrix\n",
    "from sklearn.preprocessing import LabelEncoder\n",
    "from sklearn.model_selection import train_test_split"
   ]
  },
  {
   "cell_type": "code",
   "execution_count": 7,
   "id": "9f9232ae",
   "metadata": {},
   "outputs": [],
   "source": [
    "%matplotlib inline\n",
    "%config InlinBackend.figure_format = 'retina'\n",
    "sns.set_style(style= 'whitegrid')\n",
    "rcParams['figure.figsize'] = 14,9"
   ]
  },
  {
   "cell_type": "code",
   "execution_count": 8,
   "id": "2699dcd1",
   "metadata": {},
   "outputs": [
    {
     "name": "stdout",
     "output_type": "stream",
     "text": [
      "42"
     ]
    }
   ],
   "source": [
    "pl.seed_everything(42)"
   ]
  },
  {
   "cell_type": "code",
   "execution_count": 9,
   "id": "b04f8249",
   "metadata": {},
   "outputs": [],
   "source": [
    "%matplotlib inline\n",
    "%config InlinBackend.figure_format = 'retina'\n",
    "sns.set_style(style= 'whitegrid')\n",
    "rcParams['figure.figsize'] = 14,9"
   ]
  },
  {
   "cell_type": "code",
   "execution_count": 10,
   "id": "9d5e62db",
   "metadata": {},
   "outputs": [
    {
     "name": "stdout",
     "output_type": "stream",
     "text": [
      "42"
     ]
    }
   ],
   "source": [
    "pl.seed_everything(42)"
   ]
  },
  {
   "cell_type": "code",
   "execution_count": 11,
   "id": "e56a8ec3",
   "metadata": {},
   "outputs": [],
   "source": [
    "!wandb login"
   ]
  },
  {
   "cell_type": "code",
   "execution_count": 12,
   "id": "adc219df",
   "metadata": {},
   "outputs": [],
   "source": [
    "!pwd"
   ]
  },
  {
   "cell_type": "code",
   "execution_count": 13,
   "id": "00892906",
   "metadata": {},
   "outputs": [
    {
     "name": "stdout",
     "output_type": "stream",
     "text": [
      "          row_id  series_id  ...  linear_acceleration_Y  linear_acceleration_Z\n",
      "0            0_0          0  ...                 2.1030                -9.7532\n",
      "1            0_1          0  ...                 1.5064                -9.4128\n",
      "2            0_2          0  ...                 1.5922                -8.7267\n",
      "3            0_3          0  ...                 1.0993               -10.0960\n",
      "4            0_4          0  ...                 1.4689               -10.4410\n",
      "...          ...        ...  ...                    ...                    ...\n",
      "487675  3809_123       3809  ...                 2.0115                -9.0063\n",
      "487676  3809_124       3809  ...                 3.0696                -8.1257\n",
      "487677  3809_125       3809  ...                 4.2622                -8.1443\n",
      "487678  3809_126       3809  ...                 4.7130                -9.4435\n",
      "487679  3809_127       3809  ...                 4.2751               -10.4980\n",
      "\n",
      "[487680 rows x 13 columns]"
     ]
    }
   ],
   "source": [
    "x_train = pd.read_csv('./data/raw/X_train.csv', low_memory=False)\n",
    "y_train = pd.read_csv('./data/raw/y_train.csv', low_memory=False)\n",
    "x_train"
   ]
  },
  {
   "cell_type": "code",
   "execution_count": 14,
   "id": "0ba4e007",
   "metadata": {},
   "outputs": [],
   "source": [
    "x_train.info()"
   ]
  },
  {
   "cell_type": "code",
   "execution_count": 15,
   "id": "c81737c1",
   "metadata": {},
   "outputs": [
    {
     "name": "stdout",
     "output_type": "stream",
     "text": [
      "      series_id  group_id        surface\n",
      "0             0        13  fine_concrete\n",
      "1             1        31       concrete\n",
      "2             2        20       concrete\n",
      "3             3        31       concrete\n",
      "4             4        22     soft_tiles\n",
      "...         ...       ...            ...\n",
      "3805       3805        55          tiled\n",
      "3806       3806        67           wood\n",
      "3807       3807        48  fine_concrete\n",
      "3808       3808        54          tiled\n",
      "3809       3809        56       soft_pvc\n",
      "\n",
      "[3810 rows x 3 columns]"
     ]
    }
   ],
   "source": [
    "y_train"
   ]
  },
  {
   "cell_type": "code",
   "execution_count": 16,
   "id": "47ef1c24",
   "metadata": {},
   "outputs": [],
   "source": [
    "y_train.surface.value_counts().plot(kind='bar')\n",
    "plt.xticks(rotation=45)\n",
    "plt.title('Distribution of target (surface) ')\n",
    "plt.show()"
   ]
  },
  {
   "cell_type": "code",
   "execution_count": 17,
   "id": "ec3837f2",
   "metadata": {},
   "outputs": [],
   "source": [
    "y_train.surface.value_counts().plot(kind='bar')\n",
    "plt.xticks(rotation=45)\n",
    "plt.title('Distribution of target (surface) ')\n",
    "plt.show()"
   ]
  },
  {
   "cell_type": "code",
   "execution_count": 18,
   "id": "826156df",
   "metadata": {},
   "outputs": [],
   "source": [
    "label_encoder =  LabelEncoder()\n",
    "encoded_labels = label_encoder.fit_transform(y_train.surface)"
   ]
  },
  {
   "cell_type": "code",
   "execution_count": 19,
   "id": "a8dd9e33",
   "metadata": {},
   "outputs": [
    {
     "name": "stdout",
     "output_type": "stream",
     "text": [
      "array(['carpet', 'concrete', 'fine_concrete', 'hard_tiles',\n",
      "       'hard_tiles_large_space', 'soft_pvc', 'soft_tiles', 'tiled',\n",
      "       'wood'], dtype=object)"
     ]
    }
   ],
   "source": [
    "label_encoder.classes_"
   ]
  },
  {
   "cell_type": "code",
   "execution_count": 20,
   "id": "08e633cc",
   "metadata": {},
   "outputs": [
    {
     "name": "stdout",
     "output_type": "stream",
     "text": [
      "(array([2, 1, 1, 1, 6]),\n",
      " ['fine_concrete', 'concrete', 'concrete', 'concrete', 'soft_tiles'])"
     ]
    }
   ],
   "source": [
    "encoded_labels[:5], list(y_train.surface[:5])"
   ]
  },
  {
   "cell_type": "code",
   "execution_count": 21,
   "id": "5447653d",
   "metadata": {},
   "outputs": [
    {
     "name": "stdout",
     "output_type": "stream",
     "text": [
      "      series_id  group_id        surface  label\n",
      "0             0        13  fine_concrete      2\n",
      "1             1        31       concrete      1\n",
      "2             2        20       concrete      1\n",
      "3             3        31       concrete      1\n",
      "4             4        22     soft_tiles      6\n",
      "...         ...       ...            ...    ...\n",
      "3805       3805        55          tiled      7\n",
      "3806       3806        67           wood      8\n",
      "3807       3807        48  fine_concrete      2\n",
      "3808       3808        54          tiled      7\n",
      "3809       3809        56       soft_pvc      5\n",
      "\n",
      "[3810 rows x 4 columns]"
     ]
    }
   ],
   "source": [
    "y_train['label'] = encoded_labels\n",
    "y_train"
   ]
  },
  {
   "cell_type": "code",
   "execution_count": 22,
   "id": "047af982",
   "metadata": {},
   "outputs": [
    {
     "name": "stdout",
     "output_type": "stream",
     "text": [
      "          row_id  series_id  ...  linear_acceleration_Y  linear_acceleration_Z\n",
      "0            0_0          0  ...                 2.1030                -9.7532\n",
      "1            0_1          0  ...                 1.5064                -9.4128\n",
      "2            0_2          0  ...                 1.5922                -8.7267\n",
      "3            0_3          0  ...                 1.0993               -10.0960\n",
      "4            0_4          0  ...                 1.4689               -10.4410\n",
      "...          ...        ...  ...                    ...                    ...\n",
      "487675  3809_123       3809  ...                 2.0115                -9.0063\n",
      "487676  3809_124       3809  ...                 3.0696                -8.1257\n",
      "487677  3809_125       3809  ...                 4.2622                -8.1443\n",
      "487678  3809_126       3809  ...                 4.7130                -9.4435\n",
      "487679  3809_127       3809  ...                 4.2751               -10.4980\n",
      "\n",
      "[487680 rows x 13 columns]"
     ]
    }
   ],
   "source": [
    "x_train"
   ]
  },
  {
   "cell_type": "code",
   "execution_count": 23,
   "id": "c2033990",
   "metadata": {},
   "outputs": [
    {
     "name": "stdout",
     "output_type": "stream",
     "text": [
      "['orientation_X',\n",
      " 'orientation_Y',\n",
      " 'orientation_Z',\n",
      " 'orientation_W',\n",
      " 'angular_velocity_X',\n",
      " 'angular_velocity_Y',\n",
      " 'angular_velocity_Z',\n",
      " 'linear_acceleration_X',\n",
      " 'linear_acceleration_Y',\n",
      " 'linear_acceleration_Z']"
     ]
    }
   ],
   "source": [
    "#we dont need the first 3 cols\n",
    "feature_columns = x_train.columns.to_list()[3:]\n",
    "feature_columns"
   ]
  },
  {
   "cell_type": "code",
   "execution_count": 24,
   "id": "63a94ac3",
   "metadata": {},
   "outputs": [
    {
     "name": "stdout",
     "output_type": "stream",
     "text": [
      "0       128\n",
      "2544    128\n",
      "2532    128\n",
      "2533    128\n",
      "2534    128\n",
      "       ... \n",
      "1274    128\n",
      "1275    128\n",
      "1276    128\n",
      "1277    128\n",
      "3809    128\n",
      "Name: series_id, Length: 3810, dtype: int64"
     ]
    }
   ],
   "source": [
    "#it looks like the sequences have been grouped for us\n",
    "x_train.series_id.value_counts()"
   ]
  },
  {
   "cell_type": "code",
   "execution_count": 25,
   "id": "519c28be",
   "metadata": {},
   "outputs": [],
   "source": [
    "sequences = []\n",
    "for series_id, group in x_train.groupby('series_id'):\n",
    "  sequence_features = group[feature_columns]\n",
    "  label = y_train[y_train.series_id == series_id].iloc[0].label\n",
    "  sequences.append((sequence_features, label))"
   ]
  },
  {
   "cell_type": "code",
   "execution_count": 26,
   "id": "efde232f",
   "metadata": {},
   "outputs": [
    {
     "name": "stdout",
     "output_type": "stream",
     "text": [
      "(     orientation_X  orientation_Y  ...  linear_acceleration_Y  linear_acceleration_Z\n",
      " 0         -0.75853       -0.63435  ...                2.10300                -9.7532\n",
      " 1         -0.75853       -0.63434  ...                1.50640                -9.4128\n",
      " 2         -0.75853       -0.63435  ...                1.59220                -8.7267\n",
      " 3         -0.75852       -0.63436  ...                1.09930               -10.0960\n",
      " 4         -0.75852       -0.63435  ...                1.46890               -10.4410\n",
      " ..             ...            ...  ...                    ...                    ...\n",
      " 123       -0.75943       -0.63316  ...                1.79890                -6.8687\n",
      " 124       -0.75945       -0.63313  ...                2.35620                -6.8926\n",
      " 125       -0.75949       -0.63309  ...                0.97328                -9.9795\n",
      " 126       -0.75950       -0.63307  ...                0.34931               -11.9770\n",
      " 127       -0.75953       -0.63306  ...                0.80346               -10.6970\n",
      " \n",
      " [128 rows x 10 columns], 2)"
     ]
    }
   ],
   "source": [
    "sequences[0]"
   ]
  },
  {
   "cell_type": "code",
   "execution_count": 27,
   "id": "31c6c97b",
   "metadata": {},
   "outputs": [],
   "source": [
    "from torch.utils.data import TensorDataset, WeightedRandomSampler"
   ]
  },
  {
   "cell_type": "code",
   "execution_count": 28,
   "id": "4691d0e9",
   "metadata": {},
   "outputs": [
    {
     "name": "stdout",
     "output_type": "stream",
     "text": [
      "tensor([2, 1, 1,  ..., 2, 7, 5])"
     ]
    }
   ],
   "source": [
    "all_label_ids = torch.tensor([seq[1] for seq in sequences], dtype=torch.long)\n",
    "all_label_ids"
   ]
  },
  {
   "cell_type": "code",
   "execution_count": 29,
   "id": "729242b0",
   "metadata": {},
   "outputs": [
    {
     "name": "stdout",
     "output_type": "stream",
     "text": [
      "(array([0, 1, 2, 3, 4, 5, 6, 7, 8]),\n",
      " array([189, 779, 363,  21, 308, 732, 297, 514, 607]))"
     ]
    }
   ],
   "source": [
    "labels_unique, counts = np.unique(all_label_ids, return_counts=True)\n",
    "labels_unique, counts"
   ]
  },
  {
   "cell_type": "code",
   "execution_count": 30,
   "id": "0fa00ec1",
   "metadata": {},
   "outputs": [],
   "source": [
    "\n",
    "class SurfaceDataset(Dataset):\n",
    "\n",
    "  def __init__(self, sequences) -> None:\n",
    "      super().__init__()\n",
    "      self.sequences = sequences\n",
    "\n",
    "  def __len__(self):\n",
    "    return len(self.sequences)\n",
    "\n",
    "  def __getitem__(self, index):\n",
    "    sequence, label = self.sequences[index]\n",
    "    return dict(\n",
    "      sequence=torch.Tensor(sequence.to_numpy()),\n",
    "      label=torch.tensor(label).long()\n",
    "    )"
   ]
  },
  {
   "cell_type": "code",
   "execution_count": 31,
   "id": "4a301f19",
   "metadata": {},
   "outputs": [],
   "source": [
    "\n",
    "class SurfaceDataset(Dataset):\n",
    "\n",
    "  def __init__(self, sequences) -> None:\n",
    "      super().__init__()\n",
    "      self.sequences = sequences\n",
    "\n",
    "  def __len__(self):\n",
    "    return len(self.sequences)\n",
    "\n",
    "  def __getitem__(self, index):\n",
    "    sequence, label = self.sequences[index]\n",
    "    return dict(\n",
    "      sequence=torch.Tensor(sequence.to_numpy()),\n",
    "      label=torch.tensor(label).long()\n",
    "    )"
   ]
  },
  {
   "cell_type": "code",
   "execution_count": 32,
   "id": "6c63a6df",
   "metadata": {},
   "outputs": [
    {
     "name": "stdout",
     "output_type": "stream",
     "text": [
      "3810"
     ]
    }
   ],
   "source": [
    "ds = SurfaceDataset(sequences)\n",
    "len(ds)"
   ]
  },
  {
   "cell_type": "code",
   "execution_count": 33,
   "id": "43012491",
   "metadata": {},
   "outputs": [
    {
     "name": "stdout",
     "output_type": "stream",
     "text": [
      "{'label': tensor(2),\n",
      " 'sequence': tensor([[ -0.7585,  -0.6344,  -0.1049,  ...,  -0.7486,   2.1030,  -9.7532],\n",
      "         [ -0.7585,  -0.6343,  -0.1049,  ...,   0.3399,   1.5064,  -9.4128],\n",
      "         [ -0.7585,  -0.6344,  -0.1049,  ...,  -0.2643,   1.5922,  -8.7267],\n",
      "         ...,\n",
      "         [ -0.7595,  -0.6331,  -0.1047,  ...,  -0.9819,   0.9733,  -9.9795],\n",
      "         [ -0.7595,  -0.6331,  -0.1046,  ...,  -0.7259,   0.3493, -11.9770],\n",
      "         [ -0.7595,  -0.6331,  -0.1046,  ...,  -0.5343,   0.8035, -10.6970]])}"
     ]
    }
   ],
   "source": [
    "ds = SurfaceDataset(sequences)\n",
    "len(ds)\n",
    "ds[0]"
   ]
  },
  {
   "cell_type": "code",
   "execution_count": 34,
   "id": "55d2420d",
   "metadata": {},
   "outputs": [],
   "source": [
    "ds = SurfaceDataset(sequences)\n",
    "len(ds)\n",
    "[d['labelds'] for d in ds]"
   ]
  },
  {
   "cell_type": "code",
   "execution_count": 35,
   "id": "d7b844bf",
   "metadata": {},
   "outputs": [
    {
     "name": "stdout",
     "output_type": "stream",
     "text": [
      "[tensor(2),\n",
      " tensor(1),\n",
      " tensor(1),\n",
      " tensor(1),\n",
      " tensor(6),\n",
      " tensor(7),\n",
      " tensor(5),\n",
      " tensor(1),\n",
      " tensor(4),\n",
      " tensor(7),\n",
      " tensor(5),\n",
      " tensor(7),\n",
      " tensor(0),\n",
      " tensor(0),\n",
      " tensor(1),\n",
      " tensor(0),\n",
      " tensor(0),\n",
      " tensor(6),\n",
      " tensor(7),\n",
      " tensor(6),\n",
      " tensor(7),\n",
      " tensor(4),\n",
      " tensor(6),\n",
      " tensor(7),\n",
      " tensor(6),\n",
      " tensor(6),\n",
      " tensor(2),\n",
      " tensor(3),\n",
      " tensor(7),\n",
      " tensor(4),\n",
      " tensor(6),\n",
      " tensor(6),\n",
      " tensor(2),\n",
      " tensor(1),\n",
      " tensor(1),\n",
      " tensor(1),\n",
      " tensor(7),\n",
      " tensor(0),\n",
      " tensor(5),\n",
      " tensor(8),\n",
      " tensor(2),\n",
      " tensor(8),\n",
      " tensor(2),\n",
      " tensor(8),\n",
      " tensor(6),\n",
      " tensor(3),\n",
      " tensor(5),\n",
      " tensor(2),\n",
      " tensor(1),\n",
      " tensor(5),\n",
      " tensor(1),\n",
      " tensor(6),\n",
      " tensor(6),\n",
      " tensor(1),\n",
      " tensor(0),\n",
      " tensor(6),\n",
      " tensor(2),\n",
      " tensor(2),\n",
      " tensor(0),\n",
      " tensor(6),\n",
      " tensor(1),\n",
      " tensor(7),\n",
      " tensor(5),\n",
      " tensor(4),\n",
      " tensor(5),\n",
      " tensor(1),\n",
      " tensor(7),\n",
      " tensor(7),\n",
      " tensor(1),\n",
      " tensor(5),\n",
      " tensor(1),\n",
      " tensor(1),\n",
      " tensor(5),\n",
      " tensor(5),\n",
      " tensor(8),\n",
      " tensor(2),\n",
      " tensor(6),\n",
      " tensor(2),\n",
      " tensor(5),\n",
      " tensor(2),\n",
      " tensor(6),\n",
      " tensor(7),\n",
      " tensor(5),\n",
      " tensor(8),\n",
      " tensor(2),\n",
      " tensor(6),\n",
      " tensor(1),\n",
      " tensor(5),\n",
      " tensor(6),\n",
      " tensor(8),\n",
      " tensor(5),\n",
      " tensor(5),\n",
      " tensor(2),\n",
      " tensor(2),\n",
      " tensor(1),\n",
      " tensor(6),\n",
      " tensor(8),\n",
      " tensor(8),\n",
      " tensor(4),\n",
      " tensor(7),\n",
      " tensor(2),\n",
      " tensor(6),\n",
      " tensor(8),\n",
      " tensor(5),\n",
      " tensor(2),\n",
      " tensor(5),\n",
      " tensor(6),\n",
      " tensor(6),\n",
      " tensor(5),\n",
      " tensor(5),\n",
      " tensor(8),\n",
      " tensor(2),\n",
      " tensor(5),\n",
      " tensor(1),\n",
      " tensor(6),\n",
      " tensor(5),\n",
      " tensor(5),\n",
      " tensor(6),\n",
      " tensor(0),\n",
      " tensor(4),\n",
      " tensor(7),\n",
      " tensor(6),\n",
      " tensor(5),\n",
      " tensor(5),\n",
      " tensor(4),\n",
      " tensor(1),\n",
      " tensor(7),\n",
      " tensor(7),\n",
      " tensor(0),\n",
      " tensor(6),\n",
      " tensor(5),\n",
      " tensor(5),\n",
      " tensor(2),\n",
      " tensor(5),\n",
      " tensor(6),\n",
      " tensor(6),\n",
      " tensor(6),\n",
      " tensor(6),\n",
      " tensor(8),\n",
      " tensor(1),\n",
      " tensor(6),\n",
      " tensor(7),\n",
      " tensor(4),\n",
      " tensor(5),\n",
      " tensor(1),\n",
      " tensor(6),\n",
      " tensor(7),\n",
      " tensor(8),\n",
      " tensor(3),\n",
      " tensor(0),\n",
      " tensor(6),\n",
      " tensor(1),\n",
      " tensor(1),\n",
      " tensor(4),\n",
      " tensor(5),\n",
      " tensor(2),\n",
      " tensor(6),\n",
      " tensor(1),\n",
      " tensor(5),\n",
      " tensor(6),\n",
      " tensor(7),\n",
      " tensor(2),\n",
      " tensor(1),\n",
      " tensor(5),\n",
      " tensor(8),\n",
      " tensor(4),\n",
      " tensor(5),\n",
      " tensor(2),\n",
      " tensor(2),\n",
      " tensor(2),\n",
      " tensor(7),\n",
      " tensor(7),\n",
      " tensor(8),\n",
      " tensor(1),\n",
      " tensor(7),\n",
      " tensor(4),\n",
      " tensor(0),\n",
      " tensor(8),\n",
      " tensor(5),\n",
      " tensor(4),\n",
      " tensor(6),\n",
      " tensor(7),\n",
      " tensor(1),\n",
      " tensor(4),\n",
      " tensor(5),\n",
      " tensor(4),\n",
      " tensor(5),\n",
      " tensor(7),\n",
      " tensor(0),\n",
      " tensor(3),\n",
      " tensor(2),\n",
      " tensor(6),\n",
      " tensor(8),\n",
      " tensor(5),\n",
      " tensor(2),\n",
      " tensor(1),\n",
      " tensor(6),\n",
      " tensor(8),\n",
      " tensor(1),\n",
      " tensor(1),\n",
      " tensor(7),\n",
      " tensor(5),\n",
      " tensor(1),\n",
      " tensor(5),\n",
      " tensor(8),\n",
      " tensor(5),\n",
      " tensor(0),\n",
      " tensor(8),\n",
      " tensor(1),\n",
      " tensor(4),\n",
      " tensor(6),\n",
      " tensor(5),\n",
      " tensor(1),\n",
      " tensor(0),\n",
      " tensor(5),\n",
      " tensor(8),\n",
      " tensor(8),\n",
      " tensor(8),\n",
      " tensor(6),\n",
      " tensor(0),\n",
      " tensor(7),\n",
      " tensor(6),\n",
      " tensor(5),\n",
      " tensor(5),\n",
      " tensor(4),\n",
      " tensor(7),\n",
      " tensor(8),\n",
      " tensor(5),\n",
      " tensor(5),\n",
      " tensor(8),\n",
      " tensor(1),\n",
      " tensor(2),\n",
      " tensor(5),\n",
      " tensor(1),\n",
      " tensor(7),\n",
      " tensor(1),\n",
      " tensor(6),\n",
      " tensor(5),\n",
      " tensor(2),\n",
      " tensor(7),\n",
      " tensor(6),\n",
      " tensor(5),\n",
      " tensor(1),\n",
      " tensor(1),\n",
      " tensor(0),\n",
      " tensor(6),\n",
      " tensor(5),\n",
      " tensor(5),\n",
      " tensor(6),\n",
      " tensor(5),\n",
      " tensor(0),\n",
      " tensor(8),\n",
      " tensor(5),\n",
      " tensor(6),\n",
      " tensor(7),\n",
      " tensor(8),\n",
      " tensor(8),\n",
      " tensor(3),\n",
      " tensor(6),\n",
      " tensor(6),\n",
      " tensor(5),\n",
      " tensor(1),\n",
      " tensor(5),\n",
      " tensor(8),\n",
      " tensor(5),\n",
      " tensor(8),\n",
      " tensor(5),\n",
      " tensor(5),\n",
      " tensor(1),\n",
      " tensor(5),\n",
      " tensor(8),\n",
      " tensor(7),\n",
      " tensor(6),\n",
      " tensor(4),\n",
      " tensor(2),\n",
      " tensor(6),\n",
      " tensor(7),\n",
      " tensor(1),\n",
      " tensor(6),\n",
      " tensor(5),\n",
      " tensor(2),\n",
      " tensor(1),\n",
      " tensor(5),\n",
      " tensor(5),\n",
      " tensor(7),\n",
      " tensor(4),\n",
      " tensor(5),\n",
      " tensor(5),\n",
      " tensor(5),\n",
      " tensor(5),\n",
      " tensor(5),\n",
      " tensor(6),\n",
      " tensor(6),\n",
      " tensor(6),\n",
      " tensor(5),\n",
      " tensor(5),\n",
      " tensor(4),\n",
      " tensor(8),\n",
      " tensor(6),\n",
      " tensor(1),\n",
      " tensor(4),\n",
      " tensor(5),\n",
      " tensor(5),\n",
      " tensor(7),\n",
      " tensor(1),\n",
      " tensor(7),\n",
      " tensor(1),\n",
      " tensor(6),\n",
      " tensor(0),\n",
      " tensor(7),\n",
      " tensor(1),\n",
      " tensor(4),\n",
      " tensor(0),\n",
      " tensor(7),\n",
      " tensor(6),\n",
      " tensor(1),\n",
      " tensor(6),\n",
      " tensor(7),\n",
      " tensor(0),\n",
      " tensor(1),\n",
      " tensor(5),\n",
      " tensor(6),\n",
      " tensor(8),\n",
      " tensor(1),\n",
      " tensor(7),\n",
      " tensor(5),\n",
      " tensor(5),\n",
      " tensor(5),\n",
      " tensor(8),\n",
      " tensor(5),\n",
      " tensor(1),\n",
      " tensor(5),\n",
      " tensor(8),\n",
      " tensor(1),\n",
      " tensor(6),\n",
      " tensor(1),\n",
      " tensor(8),\n",
      " tensor(5),\n",
      " tensor(7),\n",
      " tensor(6),\n",
      " tensor(5),\n",
      " tensor(8),\n",
      " tensor(1),\n",
      " tensor(4),\n",
      " tensor(8),\n",
      " tensor(1),\n",
      " tensor(5),\n",
      " tensor(7),\n",
      " tensor(6),\n",
      " tensor(1),\n",
      " tensor(4),\n",
      " tensor(6),\n",
      " tensor(2),\n",
      " tensor(1),\n",
      " tensor(5),\n",
      " tensor(8),\n",
      " tensor(1),\n",
      " tensor(6),\n",
      " tensor(2),\n",
      " tensor(8),\n",
      " tensor(1),\n",
      " tensor(5),\n",
      " tensor(1),\n",
      " tensor(5),\n",
      " tensor(5),\n",
      " tensor(6),\n",
      " tensor(7),\n",
      " tensor(5),\n",
      " tensor(7),\n",
      " tensor(8),\n",
      " tensor(6),\n",
      " tensor(6),\n",
      " tensor(6),\n",
      " tensor(1),\n",
      " tensor(5),\n",
      " tensor(6),\n",
      " tensor(4),\n",
      " tensor(6),\n",
      " tensor(7),\n",
      " tensor(6),\n",
      " tensor(6),\n",
      " tensor(5),\n",
      " tensor(7),\n",
      " tensor(5),\n",
      " tensor(4),\n",
      " tensor(6),\n",
      " tensor(7),\n",
      " tensor(1),\n",
      " tensor(5),\n",
      " tensor(0),\n",
      " tensor(5),\n",
      " tensor(8),\n",
      " tensor(0),\n",
      " tensor(2),\n",
      " tensor(2),\n",
      " tensor(0),\n",
      " tensor(1),\n",
      " tensor(6),\n",
      " tensor(4),\n",
      " tensor(6),\n",
      " tensor(1),\n",
      " tensor(1),\n",
      " tensor(5),\n",
      " tensor(1),\n",
      " tensor(1),\n",
      " tensor(6),\n",
      " tensor(6),\n",
      " tensor(5),\n",
      " tensor(1),\n",
      " tensor(5),\n",
      " tensor(7),\n",
      " tensor(7),\n",
      " tensor(5),\n",
      " tensor(5),\n",
      " tensor(1),\n",
      " tensor(2),\n",
      " tensor(5),\n",
      " tensor(8),\n",
      " tensor(8),\n",
      " tensor(1),\n",
      " tensor(5),\n",
      " tensor(6),\n",
      " tensor(7),\n",
      " tensor(5),\n",
      " tensor(5),\n",
      " tensor(6),\n",
      " tensor(4),\n",
      " tensor(1),\n",
      " tensor(1),\n",
      " tensor(7),\n",
      " tensor(5),\n",
      " tensor(7),\n",
      " tensor(4),\n",
      " tensor(5),\n",
      " tensor(5),\n",
      " tensor(5),\n",
      " tensor(8),\n",
      " tensor(5),\n",
      " tensor(1),\n",
      " tensor(6),\n",
      " tensor(6),\n",
      " tensor(2),\n",
      " tensor(8),\n",
      " tensor(4),\n",
      " tensor(5),\n",
      " tensor(6),\n",
      " tensor(8),\n",
      " tensor(8),\n",
      " tensor(6),\n",
      " tensor(1),\n",
      " tensor(7),\n",
      " tensor(5),\n",
      " tensor(6),\n",
      " tensor(5),\n",
      " tensor(6),\n",
      " tensor(6),\n",
      " tensor(5),\n",
      " tensor(4),\n",
      " tensor(6),\n",
      " tensor(3),\n",
      " tensor(6),\n",
      " tensor(8),\n",
      " tensor(4),\n",
      " tensor(6),\n",
      " tensor(5),\n",
      " tensor(5),\n",
      " tensor(1),\n",
      " tensor(5),\n",
      " tensor(6),\n",
      " tensor(1),\n",
      " tensor(1),\n",
      " tensor(1),\n",
      " tensor(5),\n",
      " tensor(8),\n",
      " tensor(6),\n",
      " tensor(2),\n",
      " tensor(7),\n",
      " tensor(5),\n",
      " tensor(6),\n",
      " tensor(1),\n",
      " tensor(6),\n",
      " tensor(7),\n",
      " tensor(5),\n",
      " tensor(8),\n",
      " tensor(7),\n",
      " tensor(6),\n",
      " tensor(2),\n",
      " tensor(1),\n",
      " tensor(7),\n",
      " tensor(2),\n",
      " tensor(5),\n",
      " tensor(5),\n",
      " tensor(1),\n",
      " tensor(2),\n",
      " tensor(1),\n",
      " tensor(1),\n",
      " tensor(7),\n",
      " tensor(6),\n",
      " tensor(1),\n",
      " tensor(0),\n",
      " tensor(5),\n",
      " tensor(6),\n",
      " tensor(6),\n",
      " tensor(5),\n",
      " tensor(6),\n",
      " tensor(6),\n",
      " tensor(0),\n",
      " tensor(2),\n",
      " tensor(6),\n",
      " tensor(5),\n",
      " tensor(1),\n",
      " tensor(6),\n",
      " tensor(1),\n",
      " tensor(5),\n",
      " tensor(7),\n",
      " tensor(8),\n",
      " tensor(2),\n",
      " tensor(1),\n",
      " tensor(5),\n",
      " tensor(2),\n",
      " tensor(0),\n",
      " tensor(2),\n",
      " tensor(8),\n",
      " tensor(1),\n",
      " tensor(1),\n",
      " tensor(6),\n",
      " tensor(8),\n",
      " tensor(3),\n",
      " tensor(0),\n",
      " tensor(7),\n",
      " tensor(8),\n",
      " tensor(8),\n",
      " tensor(8),\n",
      " tensor(4),\n",
      " tensor(5),\n",
      " tensor(1),\n",
      " tensor(8),\n",
      " tensor(1),\n",
      " tensor(8),\n",
      " tensor(5),\n",
      " tensor(4),\n",
      " tensor(6),\n",
      " tensor(5),\n",
      " tensor(6),\n",
      " tensor(5),\n",
      " tensor(5),\n",
      " tensor(8),\n",
      " tensor(4),\n",
      " tensor(4),\n",
      " tensor(8),\n",
      " tensor(6),\n",
      " tensor(8),\n",
      " tensor(6),\n",
      " tensor(5),\n",
      " tensor(5),\n",
      " tensor(4),\n",
      " tensor(5),\n",
      " tensor(7),\n",
      " tensor(4),\n",
      " tensor(7),\n",
      " tensor(4),\n",
      " tensor(7),\n",
      " tensor(1),\n",
      " tensor(2),\n",
      " tensor(1),\n",
      " tensor(5),\n",
      " tensor(3),\n",
      " tensor(5),\n",
      " tensor(6),\n",
      " tensor(8),\n",
      " tensor(1),\n",
      " tensor(6),\n",
      " tensor(0),\n",
      " tensor(8),\n",
      " tensor(5),\n",
      " tensor(1),\n",
      " tensor(1),\n",
      " tensor(6),\n",
      " tensor(1),\n",
      " tensor(8),\n",
      " tensor(0),\n",
      " tensor(6),\n",
      " tensor(6),\n",
      " tensor(7),\n",
      " tensor(8),\n",
      " tensor(1),\n",
      " tensor(1),\n",
      " tensor(3),\n",
      " tensor(8),\n",
      " tensor(2),\n",
      " tensor(2),\n",
      " tensor(4),\n",
      " tensor(6),\n",
      " tensor(5),\n",
      " tensor(4),\n",
      " tensor(6),\n",
      " tensor(7),\n",
      " tensor(6),\n",
      " tensor(4),\n",
      " tensor(1),\n",
      " tensor(2),\n",
      " tensor(2),\n",
      " tensor(1),\n",
      " tensor(0),\n",
      " tensor(5),\n",
      " tensor(7),\n",
      " tensor(8),\n",
      " tensor(7),\n",
      " tensor(1),\n",
      " tensor(5),\n",
      " tensor(5),\n",
      " tensor(5),\n",
      " tensor(5),\n",
      " tensor(0),\n",
      " tensor(8),\n",
      " tensor(6),\n",
      " tensor(4),\n",
      " tensor(1),\n",
      " tensor(7),\n",
      " tensor(1),\n",
      " tensor(6),\n",
      " tensor(7),\n",
      " tensor(8),\n",
      " tensor(1),\n",
      " tensor(8),\n",
      " tensor(2),\n",
      " tensor(7),\n",
      " tensor(6),\n",
      " tensor(8),\n",
      " tensor(5),\n",
      " tensor(1),\n",
      " tensor(5),\n",
      " tensor(5),\n",
      " tensor(0),\n",
      " tensor(6),\n",
      " tensor(5),\n",
      " tensor(7),\n",
      " tensor(6),\n",
      " tensor(1),\n",
      " tensor(5),\n",
      " tensor(5),\n",
      " tensor(2),\n",
      " tensor(5),\n",
      " tensor(1),\n",
      " tensor(6),\n",
      " tensor(4),\n",
      " tensor(5),\n",
      " tensor(1),\n",
      " tensor(5),\n",
      " tensor(5),\n",
      " tensor(6),\n",
      " tensor(4),\n",
      " tensor(7),\n",
      " tensor(1),\n",
      " tensor(1),\n",
      " tensor(2),\n",
      " tensor(7),\n",
      " tensor(5),\n",
      " tensor(4),\n",
      " tensor(6),\n",
      " tensor(1),\n",
      " tensor(0),\n",
      " tensor(6),\n",
      " tensor(6),\n",
      " tensor(0),\n",
      " tensor(0),\n",
      " tensor(4),\n",
      " tensor(7),\n",
      " tensor(5),\n",
      " tensor(6),\n",
      " tensor(0),\n",
      " tensor(8),\n",
      " tensor(5),\n",
      " tensor(0),\n",
      " tensor(8),\n",
      " tensor(2),\n",
      " tensor(5),\n",
      " tensor(6),\n",
      " tensor(5),\n",
      " tensor(1),\n",
      " tensor(1),\n",
      " tensor(7),\n",
      " tensor(6),\n",
      " tensor(5),\n",
      " tensor(5),\n",
      " tensor(5),\n",
      " tensor(1),\n",
      " tensor(5),\n",
      " tensor(7),\n",
      " tensor(7),\n",
      " tensor(2),\n",
      " tensor(6),\n",
      " tensor(7),\n",
      " tensor(5),\n",
      " tensor(1),\n",
      " tensor(8),\n",
      " tensor(7),\n",
      " tensor(2),\n",
      " tensor(5),\n",
      " tensor(5),\n",
      " tensor(5),\n",
      " tensor(5),\n",
      " tensor(6),\n",
      " tensor(1),\n",
      " tensor(0),\n",
      " tensor(2),\n",
      " tensor(6),\n",
      " tensor(1),\n",
      " tensor(8),\n",
      " tensor(0),\n",
      " tensor(5),\n",
      " tensor(5),\n",
      " tensor(5),\n",
      " tensor(0),\n",
      " tensor(5),\n",
      " tensor(6),\n",
      " tensor(2),\n",
      " tensor(7),\n",
      " tensor(0),\n",
      " tensor(5),\n",
      " tensor(6),\n",
      " tensor(0),\n",
      " tensor(1),\n",
      " tensor(4),\n",
      " tensor(8),\n",
      " tensor(0),\n",
      " tensor(8),\n",
      " tensor(8),\n",
      " tensor(5),\n",
      " tensor(4),\n",
      " tensor(1),\n",
      " tensor(6),\n",
      " tensor(8),\n",
      " tensor(6),\n",
      " tensor(1),\n",
      " tensor(8),\n",
      " tensor(8),\n",
      " tensor(2),\n",
      " tensor(5),\n",
      " tensor(1),\n",
      " tensor(6),\n",
      " tensor(2),\n",
      " tensor(6),\n",
      " tensor(8),\n",
      " tensor(1),\n",
      " tensor(3),\n",
      " tensor(5),\n",
      " tensor(7),\n",
      " tensor(1),\n",
      " tensor(6),\n",
      " tensor(2),\n",
      " tensor(5),\n",
      " tensor(2),\n",
      " tensor(4),\n",
      " tensor(8),\n",
      " tensor(5),\n",
      " tensor(6),\n",
      " tensor(6),\n",
      " tensor(1),\n",
      " tensor(6),\n",
      " tensor(6),\n",
      " tensor(2),\n",
      " tensor(7),\n",
      " tensor(6),\n",
      " tensor(1),\n",
      " tensor(1),\n",
      " tensor(7),\n",
      " tensor(6),\n",
      " tensor(5),\n",
      " tensor(8),\n",
      " tensor(8),\n",
      " tensor(1),\n",
      " tensor(1),\n",
      " tensor(6),\n",
      " tensor(8),\n",
      " tensor(5),\n",
      " tensor(6),\n",
      " tensor(1),\n",
      " tensor(2),\n",
      " tensor(7),\n",
      " tensor(8),\n",
      " tensor(5),\n",
      " tensor(5),\n",
      " tensor(8),\n",
      " tensor(5),\n",
      " tensor(4),\n",
      " tensor(7),\n",
      " tensor(4),\n",
      " tensor(5),\n",
      " tensor(7),\n",
      " tensor(2),\n",
      " tensor(8),\n",
      " tensor(1),\n",
      " tensor(6),\n",
      " tensor(5),\n",
      " tensor(2),\n",
      " tensor(0),\n",
      " tensor(4),\n",
      " tensor(3),\n",
      " tensor(5),\n",
      " tensor(5),\n",
      " tensor(1),\n",
      " tensor(0),\n",
      " tensor(6),\n",
      " tensor(3),\n",
      " tensor(6),\n",
      " tensor(7),\n",
      " tensor(4),\n",
      " tensor(5),\n",
      " tensor(5),\n",
      " tensor(1),\n",
      " tensor(7),\n",
      " tensor(8),\n",
      " tensor(7),\n",
      " tensor(2),\n",
      " tensor(7),\n",
      " tensor(8),\n",
      " tensor(1),\n",
      " tensor(5),\n",
      " tensor(6),\n",
      " tensor(7),\n",
      " tensor(8),\n",
      " tensor(6),\n",
      " tensor(2),\n",
      " tensor(0),\n",
      " tensor(5),\n",
      " tensor(3),\n",
      " tensor(5),\n",
      " tensor(1),\n",
      " tensor(8),\n",
      " tensor(6),\n",
      " tensor(5),\n",
      " tensor(6),\n",
      " tensor(7),\n",
      " tensor(1),\n",
      " tensor(8),\n",
      " tensor(2),\n",
      " tensor(7),\n",
      " tensor(6),\n",
      " tensor(1),\n",
      " tensor(2),\n",
      " tensor(5),\n",
      " tensor(5),\n",
      " tensor(4),\n",
      " tensor(6),\n",
      " tensor(4),\n",
      " tensor(1),\n",
      " tensor(7),\n",
      " tensor(8),\n",
      " tensor(6),\n",
      " tensor(5),\n",
      " tensor(1),\n",
      " tensor(5),\n",
      " tensor(4),\n",
      " tensor(1),\n",
      " tensor(5),\n",
      " tensor(7),\n",
      " tensor(8),\n",
      " tensor(5),\n",
      " tensor(4),\n",
      " tensor(5),\n",
      " tensor(1),\n",
      " tensor(1),\n",
      " tensor(0),\n",
      " tensor(6),\n",
      " tensor(1),\n",
      " tensor(2),\n",
      " tensor(8),\n",
      " tensor(0),\n",
      " tensor(6),\n",
      " tensor(1),\n",
      " tensor(5),\n",
      " tensor(7),\n",
      " tensor(5),\n",
      " tensor(6),\n",
      " tensor(1),\n",
      " tensor(5),\n",
      " tensor(8),\n",
      " tensor(8),\n",
      " tensor(5),\n",
      " tensor(4),\n",
      " tensor(5),\n",
      " tensor(1),\n",
      " tensor(5),\n",
      " tensor(6),\n",
      " tensor(1),\n",
      " tensor(4),\n",
      " tensor(6),\n",
      " tensor(6),\n",
      " tensor(0),\n",
      " tensor(7),\n",
      " tensor(5),\n",
      " tensor(6),\n",
      " tensor(1),\n",
      " tensor(6),\n",
      " tensor(7),\n",
      " tensor(5),\n",
      " tensor(1),\n",
      " tensor(8),\n",
      " tensor(4),\n",
      " tensor(4),\n",
      " tensor(7),\n",
      " tensor(1),\n",
      " tensor(8),\n",
      " tensor(5),\n",
      " tensor(5),\n",
      " tensor(8),\n",
      " tensor(7),\n",
      " tensor(1),\n",
      " tensor(5),\n",
      " tensor(6),\n",
      " tensor(8),\n",
      " tensor(6),\n",
      " tensor(6),\n",
      " tensor(5),\n",
      " tensor(0),\n",
      " tensor(5),\n",
      " tensor(4),\n",
      " tensor(0),\n",
      " tensor(7),\n",
      " tensor(6),\n",
      " tensor(1),\n",
      " tensor(5),\n",
      " tensor(1),\n",
      " tensor(1),\n",
      " tensor(5),\n",
      " tensor(1),\n",
      " tensor(8),\n",
      " tensor(7),\n",
      " tensor(8),\n",
      " tensor(2),\n",
      " tensor(5),\n",
      " tensor(5),\n",
      " tensor(1),\n",
      " tensor(2),\n",
      " tensor(0),\n",
      " tensor(6),\n",
      " tensor(1),\n",
      " tensor(1),\n",
      " tensor(5),\n",
      " tensor(6),\n",
      " tensor(5),\n",
      " tensor(7),\n",
      " tensor(6),\n",
      " tensor(7),\n",
      " tensor(1),\n",
      " tensor(2),\n",
      " tensor(5),\n",
      " tensor(5),\n",
      " tensor(0),\n",
      " tensor(5),\n",
      " tensor(5),\n",
      " tensor(5),\n",
      " tensor(5),\n",
      " tensor(0),\n",
      " tensor(5),\n",
      " tensor(8),\n",
      " tensor(8),\n",
      " tensor(2),\n",
      " tensor(5),\n",
      " tensor(5),\n",
      " tensor(7),\n",
      " tensor(5),\n",
      " tensor(5),\n",
      " tensor(5),\n",
      " tensor(8),\n",
      " tensor(5),\n",
      " tensor(1),\n",
      " tensor(1),\n",
      " tensor(0),\n",
      " tensor(5),\n",
      " tensor(7),\n",
      " tensor(1),\n",
      " tensor(5),\n",
      " tensor(8),\n",
      " tensor(8),\n",
      " tensor(6),\n",
      " tensor(1),\n",
      " tensor(6),\n",
      " tensor(0),\n",
      " tensor(5),\n",
      " tensor(8),\n",
      " tensor(8),\n",
      " tensor(5),\n",
      " tensor(7),\n",
      " tensor(2),\n",
      " tensor(5),\n",
      " tensor(1),\n",
      " tensor(1),\n",
      " tensor(6),\n",
      " tensor(5),\n",
      " tensor(0),\n",
      " tensor(5),\n",
      " tensor(2),\n",
      " tensor(8),\n",
      " tensor(7),\n",
      " tensor(2),\n",
      " tensor(6),\n",
      " tensor(7),\n",
      " tensor(6),\n",
      " ...]"
     ]
    }
   ],
   "source": [
    "ds = SurfaceDataset(sequences)\n",
    "len(ds)\n",
    "[d['label'] for d in ds]"
   ]
  },
  {
   "cell_type": "code",
   "execution_count": 36,
   "id": "82418de3",
   "metadata": {},
   "outputs": [
    {
     "name": "stdout",
     "output_type": "stream",
     "text": [
      "3810"
     ]
    }
   ],
   "source": [
    "ds = SurfaceDataset(sequences)\n",
    "len(ds)\n",
    "lab_ids = [d['label'] for d in ds]\n",
    "len(lab_ids)"
   ]
  },
  {
   "cell_type": "code",
   "execution_count": 37,
   "id": "940e20bd",
   "metadata": {},
   "outputs": [
    {
     "name": "stdout",
     "output_type": "stream",
     "text": [
      "(array([0, 1, 2, 3, 4, 5, 6, 7, 8]),\n",
      " array([189, 779, 363,  21, 308, 732, 297, 514, 607]))"
     ]
    }
   ],
   "source": [
    "labels_unique, counts = np.unique(lab_ids, return_counts=True)\n",
    "labels_unique, counts"
   ]
  },
  {
   "cell_type": "code",
   "execution_count": 38,
   "id": "d748a558",
   "metadata": {},
   "outputs": [],
   "source": [
    "class_weights = [sum(counts)/c for c in counts]\n",
    "print(class_weights)"
   ]
  },
  {
   "cell_type": "code",
   "execution_count": 39,
   "id": "f7b5d324",
   "metadata": {},
   "outputs": [],
   "source": [
    "sample_weights = [class_weights[e] for e in lab_ids ]\n",
    "weights"
   ]
  },
  {
   "cell_type": "code",
   "execution_count": 40,
   "id": "a4555e28",
   "metadata": {},
   "outputs": [
    {
     "name": "stdout",
     "output_type": "stream",
     "text": [
      "[10.49586776859504,\n",
      " 4.890885750962773,\n",
      " 4.890885750962773,\n",
      " 4.890885750962773,\n",
      " 12.828282828282829,\n",
      " 7.412451361867705,\n",
      " 5.204918032786885,\n",
      " 4.890885750962773,\n",
      " 12.37012987012987,\n",
      " 7.412451361867705,\n",
      " 5.204918032786885,\n",
      " 7.412451361867705,\n",
      " 20.158730158730158,\n",
      " 20.158730158730158,\n",
      " 4.890885750962773,\n",
      " 20.158730158730158,\n",
      " 20.158730158730158,\n",
      " 12.828282828282829,\n",
      " 7.412451361867705,\n",
      " 12.828282828282829,\n",
      " 7.412451361867705,\n",
      " 12.37012987012987,\n",
      " 12.828282828282829,\n",
      " 7.412451361867705,\n",
      " 12.828282828282829,\n",
      " 12.828282828282829,\n",
      " 10.49586776859504,\n",
      " 181.42857142857142,\n",
      " 7.412451361867705,\n",
      " 12.37012987012987,\n",
      " 12.828282828282829,\n",
      " 12.828282828282829,\n",
      " 10.49586776859504,\n",
      " 4.890885750962773,\n",
      " 4.890885750962773,\n",
      " 4.890885750962773,\n",
      " 7.412451361867705,\n",
      " 20.158730158730158,\n",
      " 5.204918032786885,\n",
      " 6.276771004942339,\n",
      " 10.49586776859504,\n",
      " 6.276771004942339,\n",
      " 10.49586776859504,\n",
      " 6.276771004942339,\n",
      " 12.828282828282829,\n",
      " 181.42857142857142,\n",
      " 5.204918032786885,\n",
      " 10.49586776859504,\n",
      " 4.890885750962773,\n",
      " 5.204918032786885,\n",
      " 4.890885750962773,\n",
      " 12.828282828282829,\n",
      " 12.828282828282829,\n",
      " 4.890885750962773,\n",
      " 20.158730158730158,\n",
      " 12.828282828282829,\n",
      " 10.49586776859504,\n",
      " 10.49586776859504,\n",
      " 20.158730158730158,\n",
      " 12.828282828282829,\n",
      " 4.890885750962773,\n",
      " 7.412451361867705,\n",
      " 5.204918032786885,\n",
      " 12.37012987012987,\n",
      " 5.204918032786885,\n",
      " 4.890885750962773,\n",
      " 7.412451361867705,\n",
      " 7.412451361867705,\n",
      " 4.890885750962773,\n",
      " 5.204918032786885,\n",
      " 4.890885750962773,\n",
      " 4.890885750962773,\n",
      " 5.204918032786885,\n",
      " 5.204918032786885,\n",
      " 6.276771004942339,\n",
      " 10.49586776859504,\n",
      " 12.828282828282829,\n",
      " 10.49586776859504,\n",
      " 5.204918032786885,\n",
      " 10.49586776859504,\n",
      " 12.828282828282829,\n",
      " 7.412451361867705,\n",
      " 5.204918032786885,\n",
      " 6.276771004942339,\n",
      " 10.49586776859504,\n",
      " 12.828282828282829,\n",
      " 4.890885750962773,\n",
      " 5.204918032786885,\n",
      " 12.828282828282829,\n",
      " 6.276771004942339,\n",
      " 5.204918032786885,\n",
      " 5.204918032786885,\n",
      " 10.49586776859504,\n",
      " 10.49586776859504,\n",
      " 4.890885750962773,\n",
      " 12.828282828282829,\n",
      " 6.276771004942339,\n",
      " 6.276771004942339,\n",
      " 12.37012987012987,\n",
      " 7.412451361867705,\n",
      " 10.49586776859504,\n",
      " 12.828282828282829,\n",
      " 6.276771004942339,\n",
      " 5.204918032786885,\n",
      " 10.49586776859504,\n",
      " 5.204918032786885,\n",
      " 12.828282828282829,\n",
      " 12.828282828282829,\n",
      " 5.204918032786885,\n",
      " 5.204918032786885,\n",
      " 6.276771004942339,\n",
      " 10.49586776859504,\n",
      " 5.204918032786885,\n",
      " 4.890885750962773,\n",
      " 12.828282828282829,\n",
      " 5.204918032786885,\n",
      " 5.204918032786885,\n",
      " 12.828282828282829,\n",
      " 20.158730158730158,\n",
      " 12.37012987012987,\n",
      " 7.412451361867705,\n",
      " 12.828282828282829,\n",
      " 5.204918032786885,\n",
      " 5.204918032786885,\n",
      " 12.37012987012987,\n",
      " 4.890885750962773,\n",
      " 7.412451361867705,\n",
      " 7.412451361867705,\n",
      " 20.158730158730158,\n",
      " 12.828282828282829,\n",
      " 5.204918032786885,\n",
      " 5.204918032786885,\n",
      " 10.49586776859504,\n",
      " 5.204918032786885,\n",
      " 12.828282828282829,\n",
      " 12.828282828282829,\n",
      " 12.828282828282829,\n",
      " 12.828282828282829,\n",
      " 6.276771004942339,\n",
      " 4.890885750962773,\n",
      " 12.828282828282829,\n",
      " 7.412451361867705,\n",
      " 12.37012987012987,\n",
      " 5.204918032786885,\n",
      " 4.890885750962773,\n",
      " 12.828282828282829,\n",
      " 7.412451361867705,\n",
      " 6.276771004942339,\n",
      " 181.42857142857142,\n",
      " 20.158730158730158,\n",
      " 12.828282828282829,\n",
      " 4.890885750962773,\n",
      " 4.890885750962773,\n",
      " 12.37012987012987,\n",
      " 5.204918032786885,\n",
      " 10.49586776859504,\n",
      " 12.828282828282829,\n",
      " 4.890885750962773,\n",
      " 5.204918032786885,\n",
      " 12.828282828282829,\n",
      " 7.412451361867705,\n",
      " 10.49586776859504,\n",
      " 4.890885750962773,\n",
      " 5.204918032786885,\n",
      " 6.276771004942339,\n",
      " 12.37012987012987,\n",
      " 5.204918032786885,\n",
      " 10.49586776859504,\n",
      " 10.49586776859504,\n",
      " 10.49586776859504,\n",
      " 7.412451361867705,\n",
      " 7.412451361867705,\n",
      " 6.276771004942339,\n",
      " 4.890885750962773,\n",
      " 7.412451361867705,\n",
      " 12.37012987012987,\n",
      " 20.158730158730158,\n",
      " 6.276771004942339,\n",
      " 5.204918032786885,\n",
      " 12.37012987012987,\n",
      " 12.828282828282829,\n",
      " 7.412451361867705,\n",
      " 4.890885750962773,\n",
      " 12.37012987012987,\n",
      " 5.204918032786885,\n",
      " 12.37012987012987,\n",
      " 5.204918032786885,\n",
      " 7.412451361867705,\n",
      " 20.158730158730158,\n",
      " 181.42857142857142,\n",
      " 10.49586776859504,\n",
      " 12.828282828282829,\n",
      " 6.276771004942339,\n",
      " 5.204918032786885,\n",
      " 10.49586776859504,\n",
      " 4.890885750962773,\n",
      " 12.828282828282829,\n",
      " 6.276771004942339,\n",
      " 4.890885750962773,\n",
      " 4.890885750962773,\n",
      " 7.412451361867705,\n",
      " 5.204918032786885,\n",
      " 4.890885750962773,\n",
      " 5.204918032786885,\n",
      " 6.276771004942339,\n",
      " 5.204918032786885,\n",
      " 20.158730158730158,\n",
      " 6.276771004942339,\n",
      " 4.890885750962773,\n",
      " 12.37012987012987,\n",
      " 12.828282828282829,\n",
      " 5.204918032786885,\n",
      " 4.890885750962773,\n",
      " 20.158730158730158,\n",
      " 5.204918032786885,\n",
      " 6.276771004942339,\n",
      " 6.276771004942339,\n",
      " 6.276771004942339,\n",
      " 12.828282828282829,\n",
      " 20.158730158730158,\n",
      " 7.412451361867705,\n",
      " 12.828282828282829,\n",
      " 5.204918032786885,\n",
      " 5.204918032786885,\n",
      " 12.37012987012987,\n",
      " 7.412451361867705,\n",
      " 6.276771004942339,\n",
      " 5.204918032786885,\n",
      " 5.204918032786885,\n",
      " 6.276771004942339,\n",
      " 4.890885750962773,\n",
      " 10.49586776859504,\n",
      " 5.204918032786885,\n",
      " 4.890885750962773,\n",
      " 7.412451361867705,\n",
      " 4.890885750962773,\n",
      " 12.828282828282829,\n",
      " 5.204918032786885,\n",
      " 10.49586776859504,\n",
      " 7.412451361867705,\n",
      " 12.828282828282829,\n",
      " 5.204918032786885,\n",
      " 4.890885750962773,\n",
      " 4.890885750962773,\n",
      " 20.158730158730158,\n",
      " 12.828282828282829,\n",
      " 5.204918032786885,\n",
      " 5.204918032786885,\n",
      " 12.828282828282829,\n",
      " 5.204918032786885,\n",
      " 20.158730158730158,\n",
      " 6.276771004942339,\n",
      " 5.204918032786885,\n",
      " 12.828282828282829,\n",
      " 7.412451361867705,\n",
      " 6.276771004942339,\n",
      " 6.276771004942339,\n",
      " 181.42857142857142,\n",
      " 12.828282828282829,\n",
      " 12.828282828282829,\n",
      " 5.204918032786885,\n",
      " 4.890885750962773,\n",
      " 5.204918032786885,\n",
      " 6.276771004942339,\n",
      " 5.204918032786885,\n",
      " 6.276771004942339,\n",
      " 5.204918032786885,\n",
      " 5.204918032786885,\n",
      " 4.890885750962773,\n",
      " 5.204918032786885,\n",
      " 6.276771004942339,\n",
      " 7.412451361867705,\n",
      " 12.828282828282829,\n",
      " 12.37012987012987,\n",
      " 10.49586776859504,\n",
      " 12.828282828282829,\n",
      " 7.412451361867705,\n",
      " 4.890885750962773,\n",
      " 12.828282828282829,\n",
      " 5.204918032786885,\n",
      " 10.49586776859504,\n",
      " 4.890885750962773,\n",
      " 5.204918032786885,\n",
      " 5.204918032786885,\n",
      " 7.412451361867705,\n",
      " 12.37012987012987,\n",
      " 5.204918032786885,\n",
      " 5.204918032786885,\n",
      " 5.204918032786885,\n",
      " 5.204918032786885,\n",
      " 5.204918032786885,\n",
      " 12.828282828282829,\n",
      " 12.828282828282829,\n",
      " 12.828282828282829,\n",
      " 5.204918032786885,\n",
      " 5.204918032786885,\n",
      " 12.37012987012987,\n",
      " 6.276771004942339,\n",
      " 12.828282828282829,\n",
      " 4.890885750962773,\n",
      " 12.37012987012987,\n",
      " 5.204918032786885,\n",
      " 5.204918032786885,\n",
      " 7.412451361867705,\n",
      " 4.890885750962773,\n",
      " 7.412451361867705,\n",
      " 4.890885750962773,\n",
      " 12.828282828282829,\n",
      " 20.158730158730158,\n",
      " 7.412451361867705,\n",
      " 4.890885750962773,\n",
      " 12.37012987012987,\n",
      " 20.158730158730158,\n",
      " 7.412451361867705,\n",
      " 12.828282828282829,\n",
      " 4.890885750962773,\n",
      " 12.828282828282829,\n",
      " 7.412451361867705,\n",
      " 20.158730158730158,\n",
      " 4.890885750962773,\n",
      " 5.204918032786885,\n",
      " 12.828282828282829,\n",
      " 6.276771004942339,\n",
      " 4.890885750962773,\n",
      " 7.412451361867705,\n",
      " 5.204918032786885,\n",
      " 5.204918032786885,\n",
      " 5.204918032786885,\n",
      " 6.276771004942339,\n",
      " 5.204918032786885,\n",
      " 4.890885750962773,\n",
      " 5.204918032786885,\n",
      " 6.276771004942339,\n",
      " 4.890885750962773,\n",
      " 12.828282828282829,\n",
      " 4.890885750962773,\n",
      " 6.276771004942339,\n",
      " 5.204918032786885,\n",
      " 7.412451361867705,\n",
      " 12.828282828282829,\n",
      " 5.204918032786885,\n",
      " 6.276771004942339,\n",
      " 4.890885750962773,\n",
      " 12.37012987012987,\n",
      " 6.276771004942339,\n",
      " 4.890885750962773,\n",
      " 5.204918032786885,\n",
      " 7.412451361867705,\n",
      " 12.828282828282829,\n",
      " 4.890885750962773,\n",
      " 12.37012987012987,\n",
      " 12.828282828282829,\n",
      " 10.49586776859504,\n",
      " 4.890885750962773,\n",
      " 5.204918032786885,\n",
      " 6.276771004942339,\n",
      " 4.890885750962773,\n",
      " 12.828282828282829,\n",
      " 10.49586776859504,\n",
      " 6.276771004942339,\n",
      " 4.890885750962773,\n",
      " 5.204918032786885,\n",
      " 4.890885750962773,\n",
      " 5.204918032786885,\n",
      " 5.204918032786885,\n",
      " 12.828282828282829,\n",
      " 7.412451361867705,\n",
      " 5.204918032786885,\n",
      " 7.412451361867705,\n",
      " 6.276771004942339,\n",
      " 12.828282828282829,\n",
      " 12.828282828282829,\n",
      " 12.828282828282829,\n",
      " 4.890885750962773,\n",
      " 5.204918032786885,\n",
      " 12.828282828282829,\n",
      " 12.37012987012987,\n",
      " 12.828282828282829,\n",
      " 7.412451361867705,\n",
      " 12.828282828282829,\n",
      " 12.828282828282829,\n",
      " 5.204918032786885,\n",
      " 7.412451361867705,\n",
      " 5.204918032786885,\n",
      " 12.37012987012987,\n",
      " 12.828282828282829,\n",
      " 7.412451361867705,\n",
      " 4.890885750962773,\n",
      " 5.204918032786885,\n",
      " 20.158730158730158,\n",
      " 5.204918032786885,\n",
      " 6.276771004942339,\n",
      " 20.158730158730158,\n",
      " 10.49586776859504,\n",
      " 10.49586776859504,\n",
      " 20.158730158730158,\n",
      " 4.890885750962773,\n",
      " 12.828282828282829,\n",
      " 12.37012987012987,\n",
      " 12.828282828282829,\n",
      " 4.890885750962773,\n",
      " 4.890885750962773,\n",
      " 5.204918032786885,\n",
      " 4.890885750962773,\n",
      " 4.890885750962773,\n",
      " 12.828282828282829,\n",
      " 12.828282828282829,\n",
      " 5.204918032786885,\n",
      " 4.890885750962773,\n",
      " 5.204918032786885,\n",
      " 7.412451361867705,\n",
      " 7.412451361867705,\n",
      " 5.204918032786885,\n",
      " 5.204918032786885,\n",
      " 4.890885750962773,\n",
      " 10.49586776859504,\n",
      " 5.204918032786885,\n",
      " 6.276771004942339,\n",
      " 6.276771004942339,\n",
      " 4.890885750962773,\n",
      " 5.204918032786885,\n",
      " 12.828282828282829,\n",
      " 7.412451361867705,\n",
      " 5.204918032786885,\n",
      " 5.204918032786885,\n",
      " 12.828282828282829,\n",
      " 12.37012987012987,\n",
      " 4.890885750962773,\n",
      " 4.890885750962773,\n",
      " 7.412451361867705,\n",
      " 5.204918032786885,\n",
      " 7.412451361867705,\n",
      " 12.37012987012987,\n",
      " 5.204918032786885,\n",
      " 5.204918032786885,\n",
      " 5.204918032786885,\n",
      " 6.276771004942339,\n",
      " 5.204918032786885,\n",
      " 4.890885750962773,\n",
      " 12.828282828282829,\n",
      " 12.828282828282829,\n",
      " 10.49586776859504,\n",
      " 6.276771004942339,\n",
      " 12.37012987012987,\n",
      " 5.204918032786885,\n",
      " 12.828282828282829,\n",
      " 6.276771004942339,\n",
      " 6.276771004942339,\n",
      " 12.828282828282829,\n",
      " 4.890885750962773,\n",
      " 7.412451361867705,\n",
      " 5.204918032786885,\n",
      " 12.828282828282829,\n",
      " 5.204918032786885,\n",
      " 12.828282828282829,\n",
      " 12.828282828282829,\n",
      " 5.204918032786885,\n",
      " 12.37012987012987,\n",
      " 12.828282828282829,\n",
      " 181.42857142857142,\n",
      " 12.828282828282829,\n",
      " 6.276771004942339,\n",
      " 12.37012987012987,\n",
      " 12.828282828282829,\n",
      " 5.204918032786885,\n",
      " 5.204918032786885,\n",
      " 4.890885750962773,\n",
      " 5.204918032786885,\n",
      " 12.828282828282829,\n",
      " 4.890885750962773,\n",
      " 4.890885750962773,\n",
      " 4.890885750962773,\n",
      " 5.204918032786885,\n",
      " 6.276771004942339,\n",
      " 12.828282828282829,\n",
      " 10.49586776859504,\n",
      " 7.412451361867705,\n",
      " 5.204918032786885,\n",
      " 12.828282828282829,\n",
      " 4.890885750962773,\n",
      " 12.828282828282829,\n",
      " 7.412451361867705,\n",
      " 5.204918032786885,\n",
      " 6.276771004942339,\n",
      " 7.412451361867705,\n",
      " 12.828282828282829,\n",
      " 10.49586776859504,\n",
      " 4.890885750962773,\n",
      " 7.412451361867705,\n",
      " 10.49586776859504,\n",
      " 5.204918032786885,\n",
      " 5.204918032786885,\n",
      " 4.890885750962773,\n",
      " 10.49586776859504,\n",
      " 4.890885750962773,\n",
      " 4.890885750962773,\n",
      " 7.412451361867705,\n",
      " 12.828282828282829,\n",
      " 4.890885750962773,\n",
      " 20.158730158730158,\n",
      " 5.204918032786885,\n",
      " 12.828282828282829,\n",
      " 12.828282828282829,\n",
      " 5.204918032786885,\n",
      " 12.828282828282829,\n",
      " 12.828282828282829,\n",
      " 20.158730158730158,\n",
      " 10.49586776859504,\n",
      " 12.828282828282829,\n",
      " 5.204918032786885,\n",
      " 4.890885750962773,\n",
      " 12.828282828282829,\n",
      " 4.890885750962773,\n",
      " 5.204918032786885,\n",
      " 7.412451361867705,\n",
      " 6.276771004942339,\n",
      " 10.49586776859504,\n",
      " 4.890885750962773,\n",
      " 5.204918032786885,\n",
      " 10.49586776859504,\n",
      " 20.158730158730158,\n",
      " 10.49586776859504,\n",
      " 6.276771004942339,\n",
      " 4.890885750962773,\n",
      " 4.890885750962773,\n",
      " 12.828282828282829,\n",
      " 6.276771004942339,\n",
      " 181.42857142857142,\n",
      " 20.158730158730158,\n",
      " 7.412451361867705,\n",
      " 6.276771004942339,\n",
      " 6.276771004942339,\n",
      " 6.276771004942339,\n",
      " 12.37012987012987,\n",
      " 5.204918032786885,\n",
      " 4.890885750962773,\n",
      " 6.276771004942339,\n",
      " 4.890885750962773,\n",
      " 6.276771004942339,\n",
      " 5.204918032786885,\n",
      " 12.37012987012987,\n",
      " 12.828282828282829,\n",
      " 5.204918032786885,\n",
      " 12.828282828282829,\n",
      " 5.204918032786885,\n",
      " 5.204918032786885,\n",
      " 6.276771004942339,\n",
      " 12.37012987012987,\n",
      " 12.37012987012987,\n",
      " 6.276771004942339,\n",
      " 12.828282828282829,\n",
      " 6.276771004942339,\n",
      " 12.828282828282829,\n",
      " 5.204918032786885,\n",
      " 5.204918032786885,\n",
      " 12.37012987012987,\n",
      " 5.204918032786885,\n",
      " 7.412451361867705,\n",
      " 12.37012987012987,\n",
      " 7.412451361867705,\n",
      " 12.37012987012987,\n",
      " 7.412451361867705,\n",
      " 4.890885750962773,\n",
      " 10.49586776859504,\n",
      " 4.890885750962773,\n",
      " 5.204918032786885,\n",
      " 181.42857142857142,\n",
      " 5.204918032786885,\n",
      " 12.828282828282829,\n",
      " 6.276771004942339,\n",
      " 4.890885750962773,\n",
      " 12.828282828282829,\n",
      " 20.158730158730158,\n",
      " 6.276771004942339,\n",
      " 5.204918032786885,\n",
      " 4.890885750962773,\n",
      " 4.890885750962773,\n",
      " 12.828282828282829,\n",
      " 4.890885750962773,\n",
      " 6.276771004942339,\n",
      " 20.158730158730158,\n",
      " 12.828282828282829,\n",
      " 12.828282828282829,\n",
      " 7.412451361867705,\n",
      " 6.276771004942339,\n",
      " 4.890885750962773,\n",
      " 4.890885750962773,\n",
      " 181.42857142857142,\n",
      " 6.276771004942339,\n",
      " 10.49586776859504,\n",
      " 10.49586776859504,\n",
      " 12.37012987012987,\n",
      " 12.828282828282829,\n",
      " 5.204918032786885,\n",
      " 12.37012987012987,\n",
      " 12.828282828282829,\n",
      " 7.412451361867705,\n",
      " 12.828282828282829,\n",
      " 12.37012987012987,\n",
      " 4.890885750962773,\n",
      " 10.49586776859504,\n",
      " 10.49586776859504,\n",
      " 4.890885750962773,\n",
      " 20.158730158730158,\n",
      " 5.204918032786885,\n",
      " 7.412451361867705,\n",
      " 6.276771004942339,\n",
      " 7.412451361867705,\n",
      " 4.890885750962773,\n",
      " 5.204918032786885,\n",
      " 5.204918032786885,\n",
      " 5.204918032786885,\n",
      " 5.204918032786885,\n",
      " 20.158730158730158,\n",
      " 6.276771004942339,\n",
      " 12.828282828282829,\n",
      " 12.37012987012987,\n",
      " 4.890885750962773,\n",
      " 7.412451361867705,\n",
      " 4.890885750962773,\n",
      " 12.828282828282829,\n",
      " 7.412451361867705,\n",
      " 6.276771004942339,\n",
      " 4.890885750962773,\n",
      " 6.276771004942339,\n",
      " 10.49586776859504,\n",
      " 7.412451361867705,\n",
      " 12.828282828282829,\n",
      " 6.276771004942339,\n",
      " 5.204918032786885,\n",
      " 4.890885750962773,\n",
      " 5.204918032786885,\n",
      " 5.204918032786885,\n",
      " 20.158730158730158,\n",
      " 12.828282828282829,\n",
      " 5.204918032786885,\n",
      " 7.412451361867705,\n",
      " 12.828282828282829,\n",
      " 4.890885750962773,\n",
      " 5.204918032786885,\n",
      " 5.204918032786885,\n",
      " 10.49586776859504,\n",
      " 5.204918032786885,\n",
      " 4.890885750962773,\n",
      " 12.828282828282829,\n",
      " 12.37012987012987,\n",
      " 5.204918032786885,\n",
      " 4.890885750962773,\n",
      " 5.204918032786885,\n",
      " 5.204918032786885,\n",
      " 12.828282828282829,\n",
      " 12.37012987012987,\n",
      " 7.412451361867705,\n",
      " 4.890885750962773,\n",
      " 4.890885750962773,\n",
      " 10.49586776859504,\n",
      " 7.412451361867705,\n",
      " 5.204918032786885,\n",
      " 12.37012987012987,\n",
      " 12.828282828282829,\n",
      " 4.890885750962773,\n",
      " 20.158730158730158,\n",
      " 12.828282828282829,\n",
      " 12.828282828282829,\n",
      " 20.158730158730158,\n",
      " 20.158730158730158,\n",
      " 12.37012987012987,\n",
      " 7.412451361867705,\n",
      " 5.204918032786885,\n",
      " 12.828282828282829,\n",
      " 20.158730158730158,\n",
      " 6.276771004942339,\n",
      " 5.204918032786885,\n",
      " 20.158730158730158,\n",
      " 6.276771004942339,\n",
      " 10.49586776859504,\n",
      " 5.204918032786885,\n",
      " 12.828282828282829,\n",
      " 5.204918032786885,\n",
      " 4.890885750962773,\n",
      " 4.890885750962773,\n",
      " 7.412451361867705,\n",
      " 12.828282828282829,\n",
      " 5.204918032786885,\n",
      " 5.204918032786885,\n",
      " 5.204918032786885,\n",
      " 4.890885750962773,\n",
      " 5.204918032786885,\n",
      " 7.412451361867705,\n",
      " 7.412451361867705,\n",
      " 10.49586776859504,\n",
      " 12.828282828282829,\n",
      " 7.412451361867705,\n",
      " 5.204918032786885,\n",
      " 4.890885750962773,\n",
      " 6.276771004942339,\n",
      " 7.412451361867705,\n",
      " 10.49586776859504,\n",
      " 5.204918032786885,\n",
      " 5.204918032786885,\n",
      " 5.204918032786885,\n",
      " 5.204918032786885,\n",
      " 12.828282828282829,\n",
      " 4.890885750962773,\n",
      " 20.158730158730158,\n",
      " 10.49586776859504,\n",
      " 12.828282828282829,\n",
      " 4.890885750962773,\n",
      " 6.276771004942339,\n",
      " 20.158730158730158,\n",
      " 5.204918032786885,\n",
      " 5.204918032786885,\n",
      " 5.204918032786885,\n",
      " 20.158730158730158,\n",
      " 5.204918032786885,\n",
      " 12.828282828282829,\n",
      " 10.49586776859504,\n",
      " 7.412451361867705,\n",
      " 20.158730158730158,\n",
      " 5.204918032786885,\n",
      " 12.828282828282829,\n",
      " 20.158730158730158,\n",
      " 4.890885750962773,\n",
      " 12.37012987012987,\n",
      " 6.276771004942339,\n",
      " 20.158730158730158,\n",
      " 6.276771004942339,\n",
      " 6.276771004942339,\n",
      " 5.204918032786885,\n",
      " 12.37012987012987,\n",
      " 4.890885750962773,\n",
      " 12.828282828282829,\n",
      " 6.276771004942339,\n",
      " 12.828282828282829,\n",
      " 4.890885750962773,\n",
      " 6.276771004942339,\n",
      " 6.276771004942339,\n",
      " 10.49586776859504,\n",
      " 5.204918032786885,\n",
      " 4.890885750962773,\n",
      " 12.828282828282829,\n",
      " 10.49586776859504,\n",
      " 12.828282828282829,\n",
      " 6.276771004942339,\n",
      " 4.890885750962773,\n",
      " 181.42857142857142,\n",
      " 5.204918032786885,\n",
      " 7.412451361867705,\n",
      " 4.890885750962773,\n",
      " 12.828282828282829,\n",
      " 10.49586776859504,\n",
      " 5.204918032786885,\n",
      " 10.49586776859504,\n",
      " 12.37012987012987,\n",
      " 6.276771004942339,\n",
      " 5.204918032786885,\n",
      " 12.828282828282829,\n",
      " 12.828282828282829,\n",
      " 4.890885750962773,\n",
      " 12.828282828282829,\n",
      " 12.828282828282829,\n",
      " 10.49586776859504,\n",
      " 7.412451361867705,\n",
      " 12.828282828282829,\n",
      " 4.890885750962773,\n",
      " 4.890885750962773,\n",
      " 7.412451361867705,\n",
      " 12.828282828282829,\n",
      " 5.204918032786885,\n",
      " 6.276771004942339,\n",
      " 6.276771004942339,\n",
      " 4.890885750962773,\n",
      " 4.890885750962773,\n",
      " 12.828282828282829,\n",
      " 6.276771004942339,\n",
      " 5.204918032786885,\n",
      " 12.828282828282829,\n",
      " 4.890885750962773,\n",
      " 10.49586776859504,\n",
      " 7.412451361867705,\n",
      " 6.276771004942339,\n",
      " 5.204918032786885,\n",
      " 5.204918032786885,\n",
      " 6.276771004942339,\n",
      " 5.204918032786885,\n",
      " 12.37012987012987,\n",
      " 7.412451361867705,\n",
      " 12.37012987012987,\n",
      " 5.204918032786885,\n",
      " 7.412451361867705,\n",
      " 10.49586776859504,\n",
      " 6.276771004942339,\n",
      " 4.890885750962773,\n",
      " 12.828282828282829,\n",
      " 5.204918032786885,\n",
      " 10.49586776859504,\n",
      " 20.158730158730158,\n",
      " 12.37012987012987,\n",
      " 181.42857142857142,\n",
      " 5.204918032786885,\n",
      " 5.204918032786885,\n",
      " 4.890885750962773,\n",
      " 20.158730158730158,\n",
      " 12.828282828282829,\n",
      " 181.42857142857142,\n",
      " 12.828282828282829,\n",
      " 7.412451361867705,\n",
      " 12.37012987012987,\n",
      " 5.204918032786885,\n",
      " 5.204918032786885,\n",
      " 4.890885750962773,\n",
      " 7.412451361867705,\n",
      " 6.276771004942339,\n",
      " 7.412451361867705,\n",
      " 10.49586776859504,\n",
      " 7.412451361867705,\n",
      " 6.276771004942339,\n",
      " 4.890885750962773,\n",
      " 5.204918032786885,\n",
      " 12.828282828282829,\n",
      " 7.412451361867705,\n",
      " 6.276771004942339,\n",
      " 12.828282828282829,\n",
      " 10.49586776859504,\n",
      " 20.158730158730158,\n",
      " 5.204918032786885,\n",
      " 181.42857142857142,\n",
      " 5.204918032786885,\n",
      " 4.890885750962773,\n",
      " 6.276771004942339,\n",
      " 12.828282828282829,\n",
      " 5.204918032786885,\n",
      " 12.828282828282829,\n",
      " 7.412451361867705,\n",
      " 4.890885750962773,\n",
      " 6.276771004942339,\n",
      " 10.49586776859504,\n",
      " 7.412451361867705,\n",
      " 12.828282828282829,\n",
      " 4.890885750962773,\n",
      " 10.49586776859504,\n",
      " 5.204918032786885,\n",
      " 5.204918032786885,\n",
      " 12.37012987012987,\n",
      " 12.828282828282829,\n",
      " 12.37012987012987,\n",
      " 4.890885750962773,\n",
      " 7.412451361867705,\n",
      " 6.276771004942339,\n",
      " 12.828282828282829,\n",
      " 5.204918032786885,\n",
      " 4.890885750962773,\n",
      " 5.204918032786885,\n",
      " 12.37012987012987,\n",
      " 4.890885750962773,\n",
      " 5.204918032786885,\n",
      " 7.412451361867705,\n",
      " 6.276771004942339,\n",
      " 5.204918032786885,\n",
      " 12.37012987012987,\n",
      " 5.204918032786885,\n",
      " 4.890885750962773,\n",
      " 4.890885750962773,\n",
      " 20.158730158730158,\n",
      " 12.828282828282829,\n",
      " 4.890885750962773,\n",
      " 10.49586776859504,\n",
      " 6.276771004942339,\n",
      " 20.158730158730158,\n",
      " 12.828282828282829,\n",
      " 4.890885750962773,\n",
      " 5.204918032786885,\n",
      " 7.412451361867705,\n",
      " 5.204918032786885,\n",
      " 12.828282828282829,\n",
      " 4.890885750962773,\n",
      " 5.204918032786885,\n",
      " 6.276771004942339,\n",
      " 6.276771004942339,\n",
      " 5.204918032786885,\n",
      " 12.37012987012987,\n",
      " 5.204918032786885,\n",
      " 4.890885750962773,\n",
      " 5.204918032786885,\n",
      " 12.828282828282829,\n",
      " 4.890885750962773,\n",
      " 12.37012987012987,\n",
      " 12.828282828282829,\n",
      " 12.828282828282829,\n",
      " 20.158730158730158,\n",
      " 7.412451361867705,\n",
      " 5.204918032786885,\n",
      " 12.828282828282829,\n",
      " 4.890885750962773,\n",
      " 12.828282828282829,\n",
      " 7.412451361867705,\n",
      " 5.204918032786885,\n",
      " 4.890885750962773,\n",
      " 6.276771004942339,\n",
      " 12.37012987012987,\n",
      " 12.37012987012987,\n",
      " 7.412451361867705,\n",
      " 4.890885750962773,\n",
      " 6.276771004942339,\n",
      " 5.204918032786885,\n",
      " 5.204918032786885,\n",
      " 6.276771004942339,\n",
      " 7.412451361867705,\n",
      " 4.890885750962773,\n",
      " 5.204918032786885,\n",
      " 12.828282828282829,\n",
      " 6.276771004942339,\n",
      " 12.828282828282829,\n",
      " 12.828282828282829,\n",
      " 5.204918032786885,\n",
      " 20.158730158730158,\n",
      " 5.204918032786885,\n",
      " 12.37012987012987,\n",
      " 20.158730158730158,\n",
      " 7.412451361867705,\n",
      " 12.828282828282829,\n",
      " 4.890885750962773,\n",
      " 5.204918032786885,\n",
      " 4.890885750962773,\n",
      " 4.890885750962773,\n",
      " 5.204918032786885,\n",
      " 4.890885750962773,\n",
      " 6.276771004942339,\n",
      " 7.412451361867705,\n",
      " 6.276771004942339,\n",
      " 10.49586776859504,\n",
      " 5.204918032786885,\n",
      " 5.204918032786885,\n",
      " 4.890885750962773,\n",
      " 10.49586776859504,\n",
      " 20.158730158730158,\n",
      " 12.828282828282829,\n",
      " 4.890885750962773,\n",
      " 4.890885750962773,\n",
      " 5.204918032786885,\n",
      " 12.828282828282829,\n",
      " 5.204918032786885,\n",
      " 7.412451361867705,\n",
      " 12.828282828282829,\n",
      " 7.412451361867705,\n",
      " 4.890885750962773,\n",
      " 10.49586776859504,\n",
      " 5.204918032786885,\n",
      " 5.204918032786885,\n",
      " 20.158730158730158,\n",
      " 5.204918032786885,\n",
      " 5.204918032786885,\n",
      " 5.204918032786885,\n",
      " 5.204918032786885,\n",
      " 20.158730158730158,\n",
      " 5.204918032786885,\n",
      " 6.276771004942339,\n",
      " 6.276771004942339,\n",
      " 10.49586776859504,\n",
      " 5.204918032786885,\n",
      " 5.204918032786885,\n",
      " 7.412451361867705,\n",
      " 5.204918032786885,\n",
      " 5.204918032786885,\n",
      " 5.204918032786885,\n",
      " 6.276771004942339,\n",
      " 5.204918032786885,\n",
      " 4.890885750962773,\n",
      " 4.890885750962773,\n",
      " 20.158730158730158,\n",
      " 5.204918032786885,\n",
      " 7.412451361867705,\n",
      " 4.890885750962773,\n",
      " 5.204918032786885,\n",
      " 6.276771004942339,\n",
      " 6.276771004942339,\n",
      " 12.828282828282829,\n",
      " 4.890885750962773,\n",
      " 12.828282828282829,\n",
      " 20.158730158730158,\n",
      " 5.204918032786885,\n",
      " 6.276771004942339,\n",
      " 6.276771004942339,\n",
      " 5.204918032786885,\n",
      " 7.412451361867705,\n",
      " 10.49586776859504,\n",
      " 5.204918032786885,\n",
      " 4.890885750962773,\n",
      " 4.890885750962773,\n",
      " 12.828282828282829,\n",
      " 5.204918032786885,\n",
      " 20.158730158730158,\n",
      " 5.204918032786885,\n",
      " 10.49586776859504,\n",
      " 6.276771004942339,\n",
      " 7.412451361867705,\n",
      " 10.49586776859504,\n",
      " 12.828282828282829,\n",
      " 7.412451361867705,\n",
      " 12.828282828282829,\n",
      " ...]"
     ]
    }
   ],
   "source": [
    "sample_weights = [class_weights[e] for e in lab_ids ]\n",
    "sample_weights"
   ]
  },
  {
   "cell_type": "code",
   "execution_count": 41,
   "id": "964e4762",
   "metadata": {},
   "outputs": [],
   "source": [
    "type(sampler)"
   ]
  },
  {
   "cell_type": "code",
   "execution_count": 42,
   "id": "f541555e",
   "metadata": {},
   "outputs": [],
   "source": [
    "sampler = WeightedRandomSampler(sample_weights,  num_samples=len(sample_weights), replacement=True)"
   ]
  },
  {
   "cell_type": "code",
   "execution_count": 43,
   "id": "c708557f",
   "metadata": {},
   "outputs": [
    {
     "name": "stdout",
     "output_type": "stream",
     "text": [
      "torch.utils.data.sampler.WeightedRandomSampler"
     ]
    }
   ],
   "source": [
    "type(sampler)"
   ]
  },
  {
   "cell_type": "code",
   "execution_count": 44,
   "id": "88bc3e82",
   "metadata": {},
   "outputs": [
    {
     "name": "stdout",
     "output_type": "stream",
     "text": [
      "<torch.utils.data.sampler.WeightedRandomSampler at 0x7f39c5fa8310>"
     ]
    }
   ],
   "source": [
    "sampler"
   ]
  },
  {
   "cell_type": "code",
   "execution_count": 45,
   "id": "539e4bd4",
   "metadata": {},
   "outputs": [],
   "source": [
    "def get_sampler(dataset):\n",
    "    lab_ids = [d['label'] for d in dataset]\n",
    "    labels_unique, counts = np.unique(lab_ids, return_counts=True)\n",
    "    class_weights = [sum(counts)/c for c in counts]\n",
    "    sample_weights = [class_weights[e] for e in lab_ids ]\n",
    "    sampler = WeightedRandomSampler(sample_weights,  num_samples=len(sample_weights), replacement=True)\n",
    "    return sampler"
   ]
  },
  {
   "cell_type": "code",
   "execution_count": 46,
   "id": "6eabd67f",
   "metadata": {},
   "outputs": [
    {
     "name": "stdout",
     "output_type": "stream",
     "text": [
      "(3048, 762)"
     ]
    }
   ],
   "source": [
    "train_sequences, val_sequences = train_test_split(sequences, test_size=0.2)\n",
    "len(train_sequences), len(val_sequences)"
   ]
  },
  {
   "cell_type": "code",
   "execution_count": 47,
   "id": "ffaea188",
   "metadata": {},
   "outputs": [
    {
     "name": "stdout",
     "output_type": "stream",
     "text": [
      "3048"
     ]
    }
   ],
   "source": [
    "train_dataset = SurfaceDataset(train_sequences)\n",
    "len(train_dataset)"
   ]
  },
  {
   "cell_type": "code",
   "execution_count": 48,
   "id": "79a84e20",
   "metadata": {},
   "outputs": [],
   "source": [
    "lab_ids = [d['label'] for d in dataset]\n",
    "labels_unique, counts = np.unique(lab_ids, return_counts=True)"
   ]
  },
  {
   "cell_type": "code",
   "execution_count": 49,
   "id": "1f3fea49",
   "metadata": {},
   "outputs": [
    {
     "name": "stdout",
     "output_type": "stream",
     "text": [
      "(array([0, 1, 2, 3, 4, 5, 6, 7, 8]),\n",
      " array([142, 607, 298,  16, 245, 591, 234, 425, 490]))"
     ]
    }
   ],
   "source": [
    "lab_ids = [item['label'] for item in train_dataset]\n",
    "labels_unique, counts = np.unique(lab_ids, return_counts=True)\n",
    "labels_unique, counts"
   ]
  },
  {
   "cell_type": "code",
   "execution_count": 50,
   "id": "36cc5efe",
   "metadata": {},
   "outputs": [],
   "source": [
    "#lets plot them\n",
    "sns.countplot(x=labels_unique, y=counts)"
   ]
  },
  {
   "cell_type": "code",
   "execution_count": 51,
   "id": "57ad4926",
   "metadata": {},
   "outputs": [],
   "source": [
    "#lets plot them\n",
    "sns.countplot(x=labels_unique, data=counts)"
   ]
  },
  {
   "cell_type": "code",
   "execution_count": 52,
   "id": "34abf1bb",
   "metadata": {},
   "outputs": [],
   "source": [
    "#lets plot them\n",
    "sns.countplot(x=labels_unique, data=lab_ids)"
   ]
  },
  {
   "cell_type": "code",
   "execution_count": 53,
   "id": "8bb76db7",
   "metadata": {},
   "outputs": [
    {
     "name": "stdout",
     "output_type": "stream",
     "text": [
      "<matplotlib.axes._subplots.AxesSubplot at 0x7f39c6c8dc90>"
     ]
    }
   ],
   "source": [
    "#lets plot them\n",
    "sns.barplot(x=labels_unique,y=counts)"
   ]
  },
  {
   "cell_type": "code",
   "execution_count": 54,
   "id": "bc23ac0b",
   "metadata": {},
   "outputs": [
    {
     "name": "stdout",
     "output_type": "stream",
     "text": [
      "<matplotlib.axes._subplots.AxesSubplot at 0x7f39c5ef2c50>"
     ]
    }
   ],
   "source": [
    "#lets plot them\n",
    "sns.barplot(x=label_encoder.classes_,y=counts)"
   ]
  },
  {
   "cell_type": "code",
   "execution_count": 55,
   "id": "9e0c0bb2",
   "metadata": {},
   "outputs": [
    {
     "name": "stdout",
     "output_type": "stream",
     "text": [
      "(array([0, 1, 2, 3, 4, 5, 6, 7, 8]),\n",
      " <a list of 9 Text major ticklabel objects>)"
     ]
    }
   ],
   "source": [
    "#lets plot them\n",
    "sns.barplot(x=label_encoder.classes_,y=counts)\n",
    "plt.xticks(rotation=30)"
   ]
  },
  {
   "cell_type": "code",
   "execution_count": 56,
   "id": "5b02b9ec",
   "metadata": {},
   "outputs": [],
   "source": [
    "#lets plot them\n",
    "ax = sns.barplot(data=counts)\n",
    "ax.bar_label(ax.containers[0])\n",
    "# sns.barplot(x=label_encoder.classes_,y=counts)\n",
    "# plt.xticks(rotation=30)"
   ]
  },
  {
   "cell_type": "code",
   "execution_count": 57,
   "id": "a25ad7c0",
   "metadata": {},
   "outputs": [],
   "source": [
    "#lets plot them\n",
    "# ax = sns.barplot(data=counts)\n",
    "# ax.bar_label(ax.containers[0])\n",
    "ax = sns.barplot(x=label_encoder.classes_,y=counts)\n",
    "ax.bar_label(ax.containers[0])\n",
    "plt.xticks(rotation=30)"
   ]
  },
  {
   "cell_type": "code",
   "execution_count": 58,
   "id": "f71a5eab",
   "metadata": {},
   "outputs": [],
   "source": [
    "#lets plot them\n",
    "# ax = sns.barplot(data=counts)\n",
    "# ax.bar_label(ax.containers[0])\n",
    "ax = sns.barplot(x=label_encoder.classes_,y=counts)\n",
    "\n",
    "ax.xticks(rotation=30)"
   ]
  },
  {
   "cell_type": "code",
   "execution_count": 59,
   "id": "611a1873",
   "metadata": {},
   "outputs": [],
   "source": [
    "#lets plot them\n",
    "# ax = sns.barplot(data=counts)\n",
    "# ax.bar_label(ax.containers[0])\n",
    "ax = sns.barplot(x=label_encoder.classes_,y=counts)\n",
    "\n",
    "ax.set_xticks(rotation=30)"
   ]
  },
  {
   "cell_type": "code",
   "execution_count": 60,
   "id": "a1aa7e75",
   "metadata": {},
   "outputs": [],
   "source": [
    "#lets plot them\n",
    "# ax = sns.barplot(data=counts)\n",
    "# ax.bar_label(ax.containers[0])\n",
    "ax = sns.barplot(x=label_encoder.classes_,y=counts)\n",
    "\n",
    "ax.set_xticks(label_encoder.classes_, rotation=30)"
   ]
  },
  {
   "cell_type": "code",
   "execution_count": 61,
   "id": "2a695e6a",
   "metadata": {},
   "outputs": [
    {
     "name": "stdout",
     "output_type": "stream",
     "text": [
      "[Text(0, 0, 'carpet'),\n",
      " Text(0, 0, 'concrete'),\n",
      " Text(0, 0, 'fine_concrete'),\n",
      " Text(0, 0, 'hard_tiles'),\n",
      " Text(0, 0, 'hard_tiles_large_space'),\n",
      " Text(0, 0, 'soft_pvc'),\n",
      " Text(0, 0, 'soft_tiles'),\n",
      " Text(0, 0, 'tiled'),\n",
      " Text(0, 0, 'wood')]"
     ]
    }
   ],
   "source": [
    "#lets plot them\n",
    "# ax = sns.barplot(data=counts)\n",
    "# ax.bar_label(ax.containers[0])\n",
    "ax = sns.barplot(x=label_encoder.classes_,y=counts)\n",
    "\n",
    "ax.set_xticklabels(ax.get_xticklabels(),rotation=30)"
   ]
  },
  {
   "cell_type": "code",
   "execution_count": 62,
   "id": "21089b39",
   "metadata": {},
   "outputs": [],
   "source": [
    "#lets plot them\n",
    "# ax = sns.barplot(data=counts)\n",
    "# ax.bar_label(ax.containers[0])\n",
    "ax = sns.barplot(x=label_encoder.classes_,y=counts)\n",
    "\n",
    "ax.set_xticklabels(ax.get_xticklabels(),rotation=30);"
   ]
  },
  {
   "cell_type": "code",
   "execution_count": 63,
   "id": "27f7a6c6",
   "metadata": {},
   "outputs": [
    {
     "name": "stdout",
     "output_type": "stream",
     "text": [
      "''"
     ]
    }
   ],
   "source": [
    "#lets plot them\n",
    "# ax = sns.barplot(data=counts)\n",
    "# ax.bar_label(ax.containers[0])\n",
    "ax = sns.barplot(x=label_encoder.classes_,y=counts)\n",
    "\n",
    "ax.set_xticklabels(ax.get_xticklabels(),rotation=30)\n",
    "i=0\n",
    "for p in ax.patches:\n",
    "    height = p.get_height()\n",
    "    ax.text(p.get_x()+p.get_width()/2., height + 0.1,\n",
    "        counts[i],ha=\"center\")\n",
    "    i += 1\n",
    ";"
   ]
  },
  {
   "cell_type": "code",
   "execution_count": 64,
   "id": "90e244c8",
   "metadata": {},
   "outputs": [
    {
     "name": "stdout",
     "output_type": "stream",
     "text": [
      "''"
     ]
    }
   ],
   "source": [
    "#lets plot them\n",
    "# ax = sns.barplot(data=counts)\n",
    "# ax.bar_label(ax.containers[0])\n",
    "ax = sns.barplot(x=label_encoder.classes_,y=counts)\n",
    "\n",
    "ax.set_xticklabels(ax.get_xticklabels(),rotation=30)\n",
    "i=0\n",
    "for p in ax.patches:\n",
    "    height = p.get_height()\n",
    "    ax.text(p.get_x()+p.get_width()/2., height + 0.1,\n",
    "        counts[i],ha=\"center\", size=18)\n",
    "    i += 1\n",
    ";"
   ]
  },
  {
   "cell_type": "code",
   "execution_count": 65,
   "id": "ebac4839",
   "metadata": {},
   "outputs": [],
   "source": [
    "class_weights = [sum(counts)/c for c in counts]\n",
    "class_weight"
   ]
  },
  {
   "cell_type": "code",
   "execution_count": 66,
   "id": "925c53ca",
   "metadata": {},
   "outputs": [
    {
     "name": "stdout",
     "output_type": "stream",
     "text": [
      "[21.464788732394368,\n",
      " 5.021416803953872,\n",
      " 10.228187919463087,\n",
      " 190.5,\n",
      " 12.440816326530612,\n",
      " 5.157360406091371,\n",
      " 13.025641025641026,\n",
      " 7.171764705882353,\n",
      " 6.220408163265306]"
     ]
    }
   ],
   "source": [
    "class_weights = [sum(counts)/c for c in counts]\n",
    "class_weights"
   ]
  },
  {
   "cell_type": "code",
   "execution_count": 67,
   "id": "b9902c80",
   "metadata": {},
   "outputs": [
    {
     "name": "stdout",
     "output_type": "stream",
     "text": [
      "[12.440816326530612,\n",
      " 12.440816326530612,\n",
      " 5.157360406091371,\n",
      " 12.440816326530612,\n",
      " 5.157360406091371,\n",
      " 12.440816326530612,\n",
      " 5.021416803953872,\n",
      " 13.025641025641026,\n",
      " 7.171764705882353,\n",
      " 12.440816326530612,\n",
      " 5.157360406091371,\n",
      " 10.228187919463087,\n",
      " 5.157360406091371,\n",
      " 5.157360406091371,\n",
      " 5.157360406091371,\n",
      " 7.171764705882353,\n",
      " 12.440816326530612,\n",
      " 6.220408163265306,\n",
      " 5.157360406091371,\n",
      " 21.464788732394368,\n",
      " 13.025641025641026,\n",
      " 10.228187919463087,\n",
      " 5.021416803953872,\n",
      " 7.171764705882353,\n",
      " 10.228187919463087,\n",
      " 7.171764705882353,\n",
      " 5.021416803953872,\n",
      " 5.157360406091371,\n",
      " 12.440816326530612,\n",
      " 6.220408163265306,\n",
      " 5.021416803953872,\n",
      " 13.025641025641026,\n",
      " 5.021416803953872,\n",
      " 5.021416803953872,\n",
      " 5.157360406091371,\n",
      " 13.025641025641026,\n",
      " 7.171764705882353,\n",
      " 10.228187919463087,\n",
      " 13.025641025641026,\n",
      " 5.021416803953872,\n",
      " 12.440816326530612,\n",
      " 6.220408163265306,\n",
      " 6.220408163265306,\n",
      " 12.440816326530612,\n",
      " 10.228187919463087,\n",
      " 7.171764705882353,\n",
      " 6.220408163265306,\n",
      " 21.464788732394368,\n",
      " 7.171764705882353,\n",
      " 7.171764705882353,\n",
      " 5.157360406091371,\n",
      " 5.157360406091371,\n",
      " 12.440816326530612,\n",
      " 5.021416803953872,\n",
      " 10.228187919463087,\n",
      " 5.021416803953872,\n",
      " 5.157360406091371,\n",
      " 21.464788732394368,\n",
      " 7.171764705882353,\n",
      " 12.440816326530612,\n",
      " 5.021416803953872,\n",
      " 5.157360406091371,\n",
      " 5.021416803953872,\n",
      " 10.228187919463087,\n",
      " 7.171764705882353,\n",
      " 5.021416803953872,\n",
      " 10.228187919463087,\n",
      " 6.220408163265306,\n",
      " 5.021416803953872,\n",
      " 5.157360406091371,\n",
      " 5.021416803953872,\n",
      " 5.157360406091371,\n",
      " 6.220408163265306,\n",
      " 6.220408163265306,\n",
      " 6.220408163265306,\n",
      " 5.157360406091371,\n",
      " 5.157360406091371,\n",
      " 5.021416803953872,\n",
      " 13.025641025641026,\n",
      " 21.464788732394368,\n",
      " 10.228187919463087,\n",
      " 5.021416803953872,\n",
      " 6.220408163265306,\n",
      " 5.157360406091371,\n",
      " 10.228187919463087,\n",
      " 5.021416803953872,\n",
      " 7.171764705882353,\n",
      " 10.228187919463087,\n",
      " 12.440816326530612,\n",
      " 5.157360406091371,\n",
      " 6.220408163265306,\n",
      " 7.171764705882353,\n",
      " 10.228187919463087,\n",
      " 7.171764705882353,\n",
      " 6.220408163265306,\n",
      " 5.021416803953872,\n",
      " 5.021416803953872,\n",
      " 5.021416803953872,\n",
      " 21.464788732394368,\n",
      " 13.025641025641026,\n",
      " 5.157360406091371,\n",
      " 13.025641025641026,\n",
      " 6.220408163265306,\n",
      " 7.171764705882353,\n",
      " 5.157360406091371,\n",
      " 7.171764705882353,\n",
      " 5.021416803953872,\n",
      " 5.021416803953872,\n",
      " 12.440816326530612,\n",
      " 5.021416803953872,\n",
      " 5.021416803953872,\n",
      " 5.157360406091371,\n",
      " 6.220408163265306,\n",
      " 5.157360406091371,\n",
      " 7.171764705882353,\n",
      " 6.220408163265306,\n",
      " 5.157360406091371,\n",
      " 5.021416803953872,\n",
      " 10.228187919463087,\n",
      " 7.171764705882353,\n",
      " 6.220408163265306,\n",
      " 5.021416803953872,\n",
      " 13.025641025641026,\n",
      " 5.021416803953872,\n",
      " 12.440816326530612,\n",
      " 5.021416803953872,\n",
      " 13.025641025641026,\n",
      " 5.021416803953872,\n",
      " 7.171764705882353,\n",
      " 7.171764705882353,\n",
      " 21.464788732394368,\n",
      " 21.464788732394368,\n",
      " 6.220408163265306,\n",
      " 7.171764705882353,\n",
      " 5.021416803953872,\n",
      " 5.021416803953872,\n",
      " 5.021416803953872,\n",
      " 6.220408163265306,\n",
      " 5.157360406091371,\n",
      " 21.464788732394368,\n",
      " 10.228187919463087,\n",
      " 5.021416803953872,\n",
      " 5.157360406091371,\n",
      " 5.157360406091371,\n",
      " 10.228187919463087,\n",
      " 10.228187919463087,\n",
      " 12.440816326530612,\n",
      " 6.220408163265306,\n",
      " 6.220408163265306,\n",
      " 6.220408163265306,\n",
      " 5.157360406091371,\n",
      " 10.228187919463087,\n",
      " 7.171764705882353,\n",
      " 7.171764705882353,\n",
      " 6.220408163265306,\n",
      " 6.220408163265306,\n",
      " 6.220408163265306,\n",
      " 13.025641025641026,\n",
      " 5.157360406091371,\n",
      " 10.228187919463087,\n",
      " 12.440816326530612,\n",
      " 12.440816326530612,\n",
      " 6.220408163265306,\n",
      " 12.440816326530612,\n",
      " 21.464788732394368,\n",
      " 5.021416803953872,\n",
      " 5.021416803953872,\n",
      " 12.440816326530612,\n",
      " 6.220408163265306,\n",
      " 7.171764705882353,\n",
      " 5.021416803953872,\n",
      " 7.171764705882353,\n",
      " 5.157360406091371,\n",
      " 21.464788732394368,\n",
      " 6.220408163265306,\n",
      " 21.464788732394368,\n",
      " 5.021416803953872,\n",
      " 5.021416803953872,\n",
      " 5.021416803953872,\n",
      " 5.157360406091371,\n",
      " 13.025641025641026,\n",
      " 13.025641025641026,\n",
      " 5.157360406091371,\n",
      " 5.021416803953872,\n",
      " 6.220408163265306,\n",
      " 5.157360406091371,\n",
      " 7.171764705882353,\n",
      " 5.157360406091371,\n",
      " 7.171764705882353,\n",
      " 5.021416803953872,\n",
      " 6.220408163265306,\n",
      " 10.228187919463087,\n",
      " 13.025641025641026,\n",
      " 5.021416803953872,\n",
      " 5.021416803953872,\n",
      " 6.220408163265306,\n",
      " 6.220408163265306,\n",
      " 5.021416803953872,\n",
      " 5.157360406091371,\n",
      " 6.220408163265306,\n",
      " 10.228187919463087,\n",
      " 12.440816326530612,\n",
      " 5.157360406091371,\n",
      " 7.171764705882353,\n",
      " 5.021416803953872,\n",
      " 12.440816326530612,\n",
      " 5.021416803953872,\n",
      " 10.228187919463087,\n",
      " 7.171764705882353,\n",
      " 5.157360406091371,\n",
      " 5.157360406091371,\n",
      " 6.220408163265306,\n",
      " 13.025641025641026,\n",
      " 5.157360406091371,\n",
      " 5.021416803953872,\n",
      " 12.440816326530612,\n",
      " 21.464788732394368,\n",
      " 6.220408163265306,\n",
      " 5.021416803953872,\n",
      " 5.157360406091371,\n",
      " 7.171764705882353,\n",
      " 6.220408163265306,\n",
      " 5.157360406091371,\n",
      " 7.171764705882353,\n",
      " 12.440816326530612,\n",
      " 10.228187919463087,\n",
      " 5.157360406091371,\n",
      " 6.220408163265306,\n",
      " 5.021416803953872,\n",
      " 13.025641025641026,\n",
      " 5.157360406091371,\n",
      " 5.021416803953872,\n",
      " 5.157360406091371,\n",
      " 7.171764705882353,\n",
      " 12.440816326530612,\n",
      " 10.228187919463087,\n",
      " 7.171764705882353,\n",
      " 5.157360406091371,\n",
      " 5.157360406091371,\n",
      " 5.021416803953872,\n",
      " 7.171764705882353,\n",
      " 6.220408163265306,\n",
      " 5.021416803953872,\n",
      " 13.025641025641026,\n",
      " 13.025641025641026,\n",
      " 13.025641025641026,\n",
      " 7.171764705882353,\n",
      " 13.025641025641026,\n",
      " 5.021416803953872,\n",
      " 5.157360406091371,\n",
      " 7.171764705882353,\n",
      " 5.157360406091371,\n",
      " 7.171764705882353,\n",
      " 5.021416803953872,\n",
      " 10.228187919463087,\n",
      " 5.157360406091371,\n",
      " 5.157360406091371,\n",
      " 6.220408163265306,\n",
      " 13.025641025641026,\n",
      " 7.171764705882353,\n",
      " 5.021416803953872,\n",
      " 5.021416803953872,\n",
      " 5.021416803953872,\n",
      " 13.025641025641026,\n",
      " 5.021416803953872,\n",
      " 5.157360406091371,\n",
      " 10.228187919463087,\n",
      " 12.440816326530612,\n",
      " 5.157360406091371,\n",
      " 6.220408163265306,\n",
      " 13.025641025641026,\n",
      " 5.021416803953872,\n",
      " 5.157360406091371,\n",
      " 5.021416803953872,\n",
      " 5.157360406091371,\n",
      " 12.440816326530612,\n",
      " 6.220408163265306,\n",
      " 6.220408163265306,\n",
      " 12.440816326530612,\n",
      " 5.021416803953872,\n",
      " 7.171764705882353,\n",
      " 12.440816326530612,\n",
      " 5.021416803953872,\n",
      " 6.220408163265306,\n",
      " 13.025641025641026,\n",
      " 7.171764705882353,\n",
      " 6.220408163265306,\n",
      " 6.220408163265306,\n",
      " 5.021416803953872,\n",
      " 7.171764705882353,\n",
      " 12.440816326530612,\n",
      " 5.021416803953872,\n",
      " 6.220408163265306,\n",
      " 21.464788732394368,\n",
      " 6.220408163265306,\n",
      " 5.021416803953872,\n",
      " 13.025641025641026,\n",
      " 6.220408163265306,\n",
      " 5.157360406091371,\n",
      " 5.157360406091371,\n",
      " 13.025641025641026,\n",
      " 13.025641025641026,\n",
      " 13.025641025641026,\n",
      " 5.157360406091371,\n",
      " 6.220408163265306,\n",
      " 10.228187919463087,\n",
      " 13.025641025641026,\n",
      " 5.021416803953872,\n",
      " 5.021416803953872,\n",
      " 13.025641025641026,\n",
      " 7.171764705882353,\n",
      " 21.464788732394368,\n",
      " 10.228187919463087,\n",
      " 5.021416803953872,\n",
      " 13.025641025641026,\n",
      " 5.021416803953872,\n",
      " 21.464788732394368,\n",
      " 13.025641025641026,\n",
      " 7.171764705882353,\n",
      " 6.220408163265306,\n",
      " 12.440816326530612,\n",
      " 5.157360406091371,\n",
      " 12.440816326530612,\n",
      " 7.171764705882353,\n",
      " 21.464788732394368,\n",
      " 6.220408163265306,\n",
      " 5.157360406091371,\n",
      " 5.021416803953872,\n",
      " 7.171764705882353,\n",
      " 5.157360406091371,\n",
      " 10.228187919463087,\n",
      " 5.021416803953872,\n",
      " 12.440816326530612,\n",
      " 7.171764705882353,\n",
      " 7.171764705882353,\n",
      " 12.440816326530612,\n",
      " 5.021416803953872,\n",
      " 5.157360406091371,\n",
      " 5.157360406091371,\n",
      " 7.171764705882353,\n",
      " 10.228187919463087,\n",
      " 5.021416803953872,\n",
      " 10.228187919463087,\n",
      " 5.157360406091371,\n",
      " 5.157360406091371,\n",
      " 5.021416803953872,\n",
      " 10.228187919463087,\n",
      " 5.157360406091371,\n",
      " 12.440816326530612,\n",
      " 7.171764705882353,\n",
      " 7.171764705882353,\n",
      " 5.021416803953872,\n",
      " 13.025641025641026,\n",
      " 5.157360406091371,\n",
      " 5.021416803953872,\n",
      " 5.021416803953872,\n",
      " 13.025641025641026,\n",
      " 6.220408163265306,\n",
      " 5.157360406091371,\n",
      " 13.025641025641026,\n",
      " 5.157360406091371,\n",
      " 6.220408163265306,\n",
      " 5.021416803953872,\n",
      " 13.025641025641026,\n",
      " 13.025641025641026,\n",
      " 13.025641025641026,\n",
      " 5.021416803953872,\n",
      " 6.220408163265306,\n",
      " 5.157360406091371,\n",
      " 10.228187919463087,\n",
      " 13.025641025641026,\n",
      " 6.220408163265306,\n",
      " 5.157360406091371,\n",
      " 5.157360406091371,\n",
      " 5.021416803953872,\n",
      " 5.021416803953872,\n",
      " 13.025641025641026,\n",
      " 5.021416803953872,\n",
      " 5.157360406091371,\n",
      " 12.440816326530612,\n",
      " 12.440816326530612,\n",
      " 5.021416803953872,\n",
      " 10.228187919463087,\n",
      " 12.440816326530612,\n",
      " 7.171764705882353,\n",
      " 7.171764705882353,\n",
      " 7.171764705882353,\n",
      " 5.157360406091371,\n",
      " 5.157360406091371,\n",
      " 13.025641025641026,\n",
      " 6.220408163265306,\n",
      " 10.228187919463087,\n",
      " 6.220408163265306,\n",
      " 7.171764705882353,\n",
      " 7.171764705882353,\n",
      " 7.171764705882353,\n",
      " 7.171764705882353,\n",
      " 5.021416803953872,\n",
      " 10.228187919463087,\n",
      " 13.025641025641026,\n",
      " 5.021416803953872,\n",
      " 5.157360406091371,\n",
      " 5.157360406091371,\n",
      " 7.171764705882353,\n",
      " 5.021416803953872,\n",
      " 12.440816326530612,\n",
      " 5.157360406091371,\n",
      " 12.440816326530612,\n",
      " 5.021416803953872,\n",
      " 6.220408163265306,\n",
      " 13.025641025641026,\n",
      " 13.025641025641026,\n",
      " 10.228187919463087,\n",
      " 6.220408163265306,\n",
      " 7.171764705882353,\n",
      " 12.440816326530612,\n",
      " 5.021416803953872,\n",
      " 10.228187919463087,\n",
      " 5.157360406091371,\n",
      " 13.025641025641026,\n",
      " 12.440816326530612,\n",
      " 5.021416803953872,\n",
      " 5.021416803953872,\n",
      " 7.171764705882353,\n",
      " 7.171764705882353,\n",
      " 5.157360406091371,\n",
      " 7.171764705882353,\n",
      " 5.021416803953872,\n",
      " 10.228187919463087,\n",
      " 10.228187919463087,\n",
      " 5.157360406091371,\n",
      " 5.021416803953872,\n",
      " 12.440816326530612,\n",
      " 5.157360406091371,\n",
      " 6.220408163265306,\n",
      " 10.228187919463087,\n",
      " 7.171764705882353,\n",
      " 5.157360406091371,\n",
      " 7.171764705882353,\n",
      " 5.157360406091371,\n",
      " 7.171764705882353,\n",
      " 13.025641025641026,\n",
      " 5.021416803953872,\n",
      " 5.021416803953872,\n",
      " 5.021416803953872,\n",
      " 7.171764705882353,\n",
      " 5.021416803953872,\n",
      " 7.171764705882353,\n",
      " 5.157360406091371,\n",
      " 13.025641025641026,\n",
      " 6.220408163265306,\n",
      " 7.171764705882353,\n",
      " 5.021416803953872,\n",
      " 7.171764705882353,\n",
      " 6.220408163265306,\n",
      " 5.157360406091371,\n",
      " 5.157360406091371,\n",
      " 5.021416803953872,\n",
      " 13.025641025641026,\n",
      " 5.021416803953872,\n",
      " 5.157360406091371,\n",
      " 5.021416803953872,\n",
      " 6.220408163265306,\n",
      " 7.171764705882353,\n",
      " 7.171764705882353,\n",
      " 5.021416803953872,\n",
      " 21.464788732394368,\n",
      " 5.157360406091371,\n",
      " 10.228187919463087,\n",
      " 5.157360406091371,\n",
      " 7.171764705882353,\n",
      " 5.021416803953872,\n",
      " 10.228187919463087,\n",
      " 6.220408163265306,\n",
      " 5.021416803953872,\n",
      " 10.228187919463087,\n",
      " 5.021416803953872,\n",
      " 6.220408163265306,\n",
      " 10.228187919463087,\n",
      " 5.157360406091371,\n",
      " 5.021416803953872,\n",
      " 6.220408163265306,\n",
      " 5.157360406091371,\n",
      " 10.228187919463087,\n",
      " 10.228187919463087,\n",
      " 5.021416803953872,\n",
      " 5.157360406091371,\n",
      " 6.220408163265306,\n",
      " 5.157360406091371,\n",
      " 21.464788732394368,\n",
      " 13.025641025641026,\n",
      " 10.228187919463087,\n",
      " 6.220408163265306,\n",
      " 5.021416803953872,\n",
      " 5.021416803953872,\n",
      " 5.021416803953872,\n",
      " 6.220408163265306,\n",
      " 12.440816326530612,\n",
      " 6.220408163265306,\n",
      " 5.021416803953872,\n",
      " 6.220408163265306,\n",
      " 7.171764705882353,\n",
      " 5.021416803953872,\n",
      " 10.228187919463087,\n",
      " 5.021416803953872,\n",
      " 5.021416803953872,\n",
      " 21.464788732394368,\n",
      " 5.021416803953872,\n",
      " 12.440816326530612,\n",
      " 5.021416803953872,\n",
      " 6.220408163265306,\n",
      " 5.157360406091371,\n",
      " 21.464788732394368,\n",
      " 6.220408163265306,\n",
      " 5.021416803953872,\n",
      " 10.228187919463087,\n",
      " 12.440816326530612,\n",
      " 5.157360406091371,\n",
      " 7.171764705882353,\n",
      " 5.021416803953872,\n",
      " 5.157360406091371,\n",
      " 12.440816326530612,\n",
      " 12.440816326530612,\n",
      " 5.157360406091371,\n",
      " 6.220408163265306,\n",
      " 10.228187919463087,\n",
      " 6.220408163265306,\n",
      " 7.171764705882353,\n",
      " 7.171764705882353,\n",
      " 7.171764705882353,\n",
      " 5.157360406091371,\n",
      " 13.025641025641026,\n",
      " 6.220408163265306,\n",
      " 6.220408163265306,\n",
      " 6.220408163265306,\n",
      " 5.021416803953872,\n",
      " 5.157360406091371,\n",
      " 12.440816326530612,\n",
      " 13.025641025641026,\n",
      " 5.157360406091371,\n",
      " 7.171764705882353,\n",
      " 13.025641025641026,\n",
      " 5.157360406091371,\n",
      " 10.228187919463087,\n",
      " 6.220408163265306,\n",
      " 7.171764705882353,\n",
      " 13.025641025641026,\n",
      " 10.228187919463087,\n",
      " 12.440816326530612,\n",
      " 21.464788732394368,\n",
      " 5.157360406091371,\n",
      " 7.171764705882353,\n",
      " 6.220408163265306,\n",
      " 13.025641025641026,\n",
      " 13.025641025641026,\n",
      " 5.021416803953872,\n",
      " 6.220408163265306,\n",
      " 5.157360406091371,\n",
      " 5.157360406091371,\n",
      " 12.440816326530612,\n",
      " 5.021416803953872,\n",
      " 6.220408163265306,\n",
      " 5.157360406091371,\n",
      " 10.228187919463087,\n",
      " 6.220408163265306,\n",
      " 6.220408163265306,\n",
      " 5.157360406091371,\n",
      " 12.440816326530612,\n",
      " 5.021416803953872,\n",
      " 6.220408163265306,\n",
      " 5.021416803953872,\n",
      " 5.157360406091371,\n",
      " 7.171764705882353,\n",
      " 13.025641025641026,\n",
      " 10.228187919463087,\n",
      " 10.228187919463087,\n",
      " 6.220408163265306,\n",
      " 5.157360406091371,\n",
      " 12.440816326530612,\n",
      " 5.157360406091371,\n",
      " 6.220408163265306,\n",
      " 7.171764705882353,\n",
      " 12.440816326530612,\n",
      " 5.157360406091371,\n",
      " 5.157360406091371,\n",
      " 6.220408163265306,\n",
      " 12.440816326530612,\n",
      " 5.157360406091371,\n",
      " 5.157360406091371,\n",
      " 7.171764705882353,\n",
      " 12.440816326530612,\n",
      " 5.021416803953872,\n",
      " 10.228187919463087,\n",
      " 5.021416803953872,\n",
      " 7.171764705882353,\n",
      " 12.440816326530612,\n",
      " 5.021416803953872,\n",
      " 6.220408163265306,\n",
      " 6.220408163265306,\n",
      " 6.220408163265306,\n",
      " 5.157360406091371,\n",
      " 7.171764705882353,\n",
      " 5.157360406091371,\n",
      " 7.171764705882353,\n",
      " 21.464788732394368,\n",
      " 12.440816326530612,\n",
      " 5.157360406091371,\n",
      " 5.021416803953872,\n",
      " 5.021416803953872,\n",
      " 5.157360406091371,\n",
      " 12.440816326530612,\n",
      " 10.228187919463087,\n",
      " 6.220408163265306,\n",
      " 10.228187919463087,\n",
      " 7.171764705882353,\n",
      " 6.220408163265306,\n",
      " 6.220408163265306,\n",
      " 190.5,\n",
      " 12.440816326530612,\n",
      " 7.171764705882353,\n",
      " 5.021416803953872,\n",
      " 5.021416803953872,\n",
      " 10.228187919463087,\n",
      " 5.157360406091371,\n",
      " 7.171764705882353,\n",
      " 5.157360406091371,\n",
      " 13.025641025641026,\n",
      " 6.220408163265306,\n",
      " 6.220408163265306,\n",
      " 5.021416803953872,\n",
      " 21.464788732394368,\n",
      " 6.220408163265306,\n",
      " 5.021416803953872,\n",
      " 5.021416803953872,\n",
      " 5.157360406091371,\n",
      " 5.021416803953872,\n",
      " 10.228187919463087,\n",
      " 12.440816326530612,\n",
      " 5.021416803953872,\n",
      " 10.228187919463087,\n",
      " 5.021416803953872,\n",
      " 5.021416803953872,\n",
      " 5.021416803953872,\n",
      " 5.157360406091371,\n",
      " 5.157360406091371,\n",
      " 5.021416803953872,\n",
      " 5.021416803953872,\n",
      " 5.157360406091371,\n",
      " 5.157360406091371,\n",
      " 5.021416803953872,\n",
      " 5.021416803953872,\n",
      " 13.025641025641026,\n",
      " 21.464788732394368,\n",
      " 5.021416803953872,\n",
      " 12.440816326530612,\n",
      " 6.220408163265306,\n",
      " 10.228187919463087,\n",
      " 5.021416803953872,\n",
      " 5.157360406091371,\n",
      " 6.220408163265306,\n",
      " 6.220408163265306,\n",
      " 6.220408163265306,\n",
      " 5.021416803953872,\n",
      " 6.220408163265306,\n",
      " 6.220408163265306,\n",
      " 5.021416803953872,\n",
      " 6.220408163265306,\n",
      " 7.171764705882353,\n",
      " 21.464788732394368,\n",
      " 7.171764705882353,\n",
      " 7.171764705882353,\n",
      " 7.171764705882353,\n",
      " 13.025641025641026,\n",
      " 5.021416803953872,\n",
      " 7.171764705882353,\n",
      " 21.464788732394368,\n",
      " 5.157360406091371,\n",
      " 5.021416803953872,\n",
      " 6.220408163265306,\n",
      " 6.220408163265306,\n",
      " 5.021416803953872,\n",
      " 5.157360406091371,\n",
      " 13.025641025641026,\n",
      " 13.025641025641026,\n",
      " 5.021416803953872,\n",
      " 5.021416803953872,\n",
      " 10.228187919463087,\n",
      " 5.021416803953872,\n",
      " 12.440816326530612,\n",
      " 12.440816326530612,\n",
      " 7.171764705882353,\n",
      " 10.228187919463087,\n",
      " 5.021416803953872,\n",
      " 21.464788732394368,\n",
      " 5.021416803953872,\n",
      " 13.025641025641026,\n",
      " 21.464788732394368,\n",
      " 5.157360406091371,\n",
      " 7.171764705882353,\n",
      " 10.228187919463087,\n",
      " 5.021416803953872,\n",
      " 5.021416803953872,\n",
      " 5.157360406091371,\n",
      " 10.228187919463087,\n",
      " 5.157360406091371,\n",
      " 5.021416803953872,\n",
      " 7.171764705882353,\n",
      " 6.220408163265306,\n",
      " 5.157360406091371,\n",
      " 5.157360406091371,\n",
      " 10.228187919463087,\n",
      " 5.157360406091371,\n",
      " 5.157360406091371,\n",
      " 12.440816326530612,\n",
      " 6.220408163265306,\n",
      " 12.440816326530612,\n",
      " 5.021416803953872,\n",
      " 13.025641025641026,\n",
      " 5.157360406091371,\n",
      " 7.171764705882353,\n",
      " 13.025641025641026,\n",
      " 5.021416803953872,\n",
      " 5.157360406091371,\n",
      " 12.440816326530612,\n",
      " 12.440816326530612,\n",
      " 5.021416803953872,\n",
      " 10.228187919463087,\n",
      " 13.025641025641026,\n",
      " 12.440816326530612,\n",
      " 10.228187919463087,\n",
      " 5.157360406091371,\n",
      " 6.220408163265306,\n",
      " 5.021416803953872,\n",
      " 5.157360406091371,\n",
      " 6.220408163265306,\n",
      " 5.021416803953872,\n",
      " 7.171764705882353,\n",
      " 6.220408163265306,\n",
      " 13.025641025641026,\n",
      " 7.171764705882353,\n",
      " 21.464788732394368,\n",
      " 5.021416803953872,\n",
      " 10.228187919463087,\n",
      " 5.021416803953872,\n",
      " 5.157360406091371,\n",
      " 12.440816326530612,\n",
      " 13.025641025641026,\n",
      " 13.025641025641026,\n",
      " 7.171764705882353,\n",
      " 10.228187919463087,\n",
      " 12.440816326530612,\n",
      " 5.157360406091371,\n",
      " 10.228187919463087,\n",
      " 5.021416803953872,\n",
      " 6.220408163265306,\n",
      " 10.228187919463087,\n",
      " 10.228187919463087,\n",
      " 190.5,\n",
      " 5.021416803953872,\n",
      " 5.021416803953872,\n",
      " 5.021416803953872,\n",
      " 6.220408163265306,\n",
      " 5.021416803953872,\n",
      " 5.021416803953872,\n",
      " 5.157360406091371,\n",
      " 5.021416803953872,\n",
      " 6.220408163265306,\n",
      " 5.021416803953872,\n",
      " 21.464788732394368,\n",
      " 7.171764705882353,\n",
      " 6.220408163265306,\n",
      " 10.228187919463087,\n",
      " 7.171764705882353,\n",
      " 13.025641025641026,\n",
      " 7.171764705882353,\n",
      " 5.021416803953872,\n",
      " 6.220408163265306,\n",
      " 12.440816326530612,\n",
      " 5.157360406091371,\n",
      " 12.440816326530612,\n",
      " 5.157360406091371,\n",
      " 7.171764705882353,\n",
      " 5.021416803953872,\n",
      " 5.157360406091371,\n",
      " 5.021416803953872,\n",
      " 7.171764705882353,\n",
      " 10.228187919463087,\n",
      " 5.021416803953872,\n",
      " 6.220408163265306,\n",
      " 5.157360406091371,\n",
      " 6.220408163265306,\n",
      " 12.440816326530612,\n",
      " 7.171764705882353,\n",
      " 10.228187919463087,\n",
      " 21.464788732394368,\n",
      " 7.171764705882353,\n",
      " 7.171764705882353,\n",
      " 10.228187919463087,\n",
      " 5.021416803953872,\n",
      " 5.021416803953872,\n",
      " 5.021416803953872,\n",
      " 190.5,\n",
      " 6.220408163265306,\n",
      " 6.220408163265306,\n",
      " 7.171764705882353,\n",
      " 7.171764705882353,\n",
      " 5.157360406091371,\n",
      " 12.440816326530612,\n",
      " 6.220408163265306,\n",
      " 5.157360406091371,\n",
      " 5.021416803953872,\n",
      " 5.021416803953872,\n",
      " 10.228187919463087,\n",
      " 6.220408163265306,\n",
      " 12.440816326530612,\n",
      " 5.021416803953872,\n",
      " 7.171764705882353,\n",
      " 5.021416803953872,\n",
      " 5.157360406091371,\n",
      " 6.220408163265306,\n",
      " 5.021416803953872,\n",
      " 12.440816326530612,\n",
      " 12.440816326530612,\n",
      " 5.021416803953872,\n",
      " 6.220408163265306,\n",
      " 7.171764705882353,\n",
      " 13.025641025641026,\n",
      " 12.440816326530612,\n",
      " 5.157360406091371,\n",
      " 7.171764705882353,\n",
      " 13.025641025641026,\n",
      " 13.025641025641026,\n",
      " 5.021416803953872,\n",
      " 5.157360406091371,\n",
      " 6.220408163265306,\n",
      " 5.157360406091371,\n",
      " 5.021416803953872,\n",
      " 10.228187919463087,\n",
      " 6.220408163265306,\n",
      " 13.025641025641026,\n",
      " 7.171764705882353,\n",
      " 6.220408163265306,\n",
      " 13.025641025641026,\n",
      " 5.157360406091371,\n",
      " 5.021416803953872,\n",
      " 10.228187919463087,\n",
      " 5.157360406091371,\n",
      " 7.171764705882353,\n",
      " 10.228187919463087,\n",
      " 5.157360406091371,\n",
      " 5.157360406091371,\n",
      " 5.157360406091371,\n",
      " 5.021416803953872,\n",
      " 7.171764705882353,\n",
      " 13.025641025641026,\n",
      " 12.440816326530612,\n",
      " 5.021416803953872,\n",
      " 5.021416803953872,\n",
      " 5.021416803953872,\n",
      " 10.228187919463087,\n",
      " 13.025641025641026,\n",
      " 6.220408163265306,\n",
      " 5.021416803953872,\n",
      " 12.440816326530612,\n",
      " 12.440816326530612,\n",
      " 5.157360406091371,\n",
      " 13.025641025641026,\n",
      " 12.440816326530612,\n",
      " 10.228187919463087,\n",
      " 7.171764705882353,\n",
      " 5.157360406091371,\n",
      " 6.220408163265306,\n",
      " 21.464788732394368,\n",
      " 6.220408163265306,\n",
      " 5.021416803953872,\n",
      " 5.021416803953872,\n",
      " 6.220408163265306,\n",
      " 5.021416803953872,\n",
      " 6.220408163265306,\n",
      " 6.220408163265306,\n",
      " 10.228187919463087,\n",
      " 10.228187919463087,\n",
      " 5.157360406091371,\n",
      " 7.171764705882353,\n",
      " 5.157360406091371,\n",
      " 6.220408163265306,\n",
      " 6.220408163265306,\n",
      " 6.220408163265306,\n",
      " 12.440816326530612,\n",
      " 6.220408163265306,\n",
      " 6.220408163265306,\n",
      " 5.157360406091371,\n",
      " 21.464788732394368,\n",
      " 5.157360406091371,\n",
      " 5.021416803953872,\n",
      " 6.220408163265306,\n",
      " 21.464788732394368,\n",
      " 5.157360406091371,\n",
      " 10.228187919463087,\n",
      " 5.157360406091371,\n",
      " 21.464788732394368,\n",
      " 7.171764705882353,\n",
      " 6.220408163265306,\n",
      " 21.464788732394368,\n",
      " 7.171764705882353,\n",
      " 13.025641025641026,\n",
      " 12.440816326530612,\n",
      " 6.220408163265306,\n",
      " 7.171764705882353,\n",
      " 6.220408163265306,\n",
      " 5.021416803953872,\n",
      " 12.440816326530612,\n",
      " 5.021416803953872,\n",
      " 13.025641025641026,\n",
      " 7.171764705882353,\n",
      " 7.171764705882353,\n",
      " 7.171764705882353,\n",
      " 21.464788732394368,\n",
      " 5.157360406091371,\n",
      " 7.171764705882353,\n",
      " 5.157360406091371,\n",
      " 5.021416803953872,\n",
      " 10.228187919463087,\n",
      " 190.5,\n",
      " 5.157360406091371,\n",
      " 12.440816326530612,\n",
      " 7.171764705882353,\n",
      " 5.157360406091371,\n",
      " 6.220408163265306,\n",
      " 6.220408163265306,\n",
      " 10.228187919463087,\n",
      " 6.220408163265306,\n",
      " 12.440816326530612,\n",
      " 5.157360406091371,\n",
      " 5.021416803953872,\n",
      " 5.021416803953872,\n",
      " 10.228187919463087,\n",
      " 5.021416803953872,\n",
      " 5.021416803953872,\n",
      " 13.025641025641026,\n",
      " 7.171764705882353,\n",
      " 7.171764705882353,\n",
      " 5.021416803953872,\n",
      " 6.220408163265306,\n",
      " 5.021416803953872,\n",
      " 12.440816326530612,\n",
      " 13.025641025641026,\n",
      " 5.021416803953872,\n",
      " 6.220408163265306,\n",
      " 6.220408163265306,\n",
      " 5.157360406091371,\n",
      " 5.021416803953872,\n",
      " 6.220408163265306,\n",
      " 5.157360406091371,\n",
      " 5.157360406091371,\n",
      " 6.220408163265306,\n",
      " 6.220408163265306,\n",
      " 190.5,\n",
      " 5.157360406091371,\n",
      " 6.220408163265306,\n",
      " 5.021416803953872,\n",
      " 5.157360406091371,\n",
      " 7.171764705882353,\n",
      " 6.220408163265306,\n",
      " 5.157360406091371,\n",
      " 5.021416803953872,\n",
      " 5.021416803953872,\n",
      " 13.025641025641026,\n",
      " 13.025641025641026,\n",
      " 5.021416803953872,\n",
      " 6.220408163265306,\n",
      " 7.171764705882353,\n",
      " 7.171764705882353,\n",
      " 5.157360406091371,\n",
      " 10.228187919463087,\n",
      " 21.464788732394368,\n",
      " 21.464788732394368,\n",
      " 10.228187919463087,\n",
      " 21.464788732394368,\n",
      " 5.157360406091371,\n",
      " 6.220408163265306,\n",
      " 5.157360406091371,\n",
      " 13.025641025641026,\n",
      " 10.228187919463087,\n",
      " 5.157360406091371,\n",
      " 13.025641025641026,\n",
      " 5.021416803953872,\n",
      " 5.157360406091371,\n",
      " 10.228187919463087,\n",
      " 12.440816326530612,\n",
      " 12.440816326530612,\n",
      " 5.021416803953872,\n",
      " 13.025641025641026,\n",
      " 6.220408163265306,\n",
      " 5.021416803953872,\n",
      " 7.171764705882353,\n",
      " 12.440816326530612,\n",
      " 7.171764705882353,\n",
      " 7.171764705882353,\n",
      " 10.228187919463087,\n",
      " ...]"
     ]
    }
   ],
   "source": [
    "sample_weights = [class_weights[e] for e in lab_ids ]\n",
    "sample_weights"
   ]
  },
  {
   "cell_type": "code",
   "execution_count": 68,
   "id": "36765b25",
   "metadata": {},
   "outputs": [],
   "source": [
    "sampler = WeightedRandomSampler(sample_weights,  num_samples=len(sample_weights), replacement=True)\n",
    "sample"
   ]
  },
  {
   "cell_type": "code",
   "execution_count": 69,
   "id": "42e96bf9",
   "metadata": {},
   "outputs": [
    {
     "name": "stdout",
     "output_type": "stream",
     "text": [
      "<torch.utils.data.sampler.WeightedRandomSampler at 0x7f39c5969710>"
     ]
    }
   ],
   "source": [
    "sampler = WeightedRandomSampler(sample_weights,  num_samples=len(sample_weights), replacement=True)\n",
    "sampler"
   ]
  },
  {
   "cell_type": "code",
   "execution_count": 70,
   "id": "dce3d5ad",
   "metadata": {},
   "outputs": [],
   "source": [
    "# lets check what this will yield when loading the dataset with a DataLoader\n",
    "train_dl = DataLoader(train_dataset, sampler=sampler, batch_size=100)\n",
    "batches = []\n",
    "for idx, batch in train_dl:\n",
    "    x,y = batch['sequence'], batch['label']\n",
    "    sns.countplot(y)\n",
    "    break"
   ]
  },
  {
   "cell_type": "code",
   "execution_count": 71,
   "id": "c8c0ab68",
   "metadata": {},
   "outputs": [],
   "source": [
    "# lets check what this will yield when loading the dataset with a DataLoader\n",
    "train_dl = DataLoader(train_dataset, sampler=sampler, batch_size=100)\n",
    "batches = []\n",
    "for idx, batch in train_dl:\n",
    "    print(batch)\n",
    "    x,y = batch['sequence'], batch['label']\n",
    "    sns.countplot(y)\n",
    "    break"
   ]
  },
  {
   "cell_type": "code",
   "execution_count": 72,
   "id": "8e6beb7e",
   "metadata": {},
   "outputs": [],
   "source": [
    "# lets check what this will yield when loading the dataset with a DataLoader\n",
    "train_dl = DataLoader(train_dataset, sampler=sampler, batch_size=100)\n",
    "batches = []\n",
    "for idx, batch in enumerate(train_dl):\n",
    "    print(batch)\n",
    "    x,y = batch['sequence'], batch['label']\n",
    "    sns.countplot(y)\n",
    "    break"
   ]
  },
  {
   "cell_type": "code",
   "execution_count": 73,
   "id": "8d0d8478",
   "metadata": {},
   "outputs": [],
   "source": [
    "# lets check what this will yield when loading the dataset with a DataLoader\n",
    "train_dl = DataLoader(train_dataset, sampler=sampler, batch_size=100)\n",
    "batches = []\n",
    "for idx, batch in enumerate(train_dl):\n",
    "    x,y = batch['sequence'], batch['label']\n",
    "    sns.countplot(y)\n",
    "    break"
   ]
  },
  {
   "cell_type": "code",
   "execution_count": 74,
   "id": "fe48ec2a",
   "metadata": {},
   "outputs": [],
   "source": [
    "# lets check what this will yield when loading the dataset with a DataLoader\n",
    "train_dl = DataLoader(train_dataset, sampler=sampler, batch_size=100)\n",
    "batches = []\n",
    "for idx, batch in enumerate(train_dl):\n",
    "    x,y = batch['sequence'], batch['label']\n",
    "    _, c = np.unique(y, return_counts=True)\n",
    "    ax = sns.barplot(x=label_encoder.classes_,y=c)\n",
    "\n",
    "    ax.set_xticklabels(ax.get_xticklabels(),rotation=30)\n",
    "    i=0\n",
    "    for p in ax.patches:\n",
    "        height = p.get_height()\n",
    "        ax.text(p.get_x()+p.get_width()/2., height + 0.1,\n",
    "            c[i],ha=\"center\", size=18)\n",
    "        i += 1\n",
    "    break"
   ]
  },
  {
   "cell_type": "code",
   "execution_count": 75,
   "id": "34ded2f2",
   "metadata": {},
   "outputs": [],
   "source": [
    "# lets check what this will yield when loading the dataset with a DataLoader\n",
    "train_dl = DataLoader(train_dataset, sampler=sampler, batch_size=100)\n",
    "batches = []\n",
    "for idx, batch in enumerate(train_dl):\n",
    "    x,y = batch['sequence'], batch['label']\n",
    "    _, c = np.unique(y, return_counts=True)\n",
    "    ax = sns.barplot(x=label_encoder.classes_,y=c)\n",
    "\n",
    "    ax.set_xticklabels(ax.get_xticklabels(),rotation=30)\n",
    "    i=0\n",
    "    for p in ax.patches:\n",
    "        height = p.get_height()\n",
    "        ax.text(p.get_x()+p.get_width()/2., height + 0.1,\n",
    "            c[i],ha=\"center\", size=18)\n",
    "        i += 1\n",
    "    break"
   ]
  },
  {
   "cell_type": "code",
   "execution_count": 76,
   "id": "1c37ae31",
   "metadata": {},
   "outputs": [],
   "source": [
    "# see all train data\n",
    "batches = []\n",
    "for idx, batch in enumerate(train_dl):\n",
    "    x,y = batch['sequence'], batch['label']\n",
    "    batches.append(y.numpy())"
   ]
  },
  {
   "cell_type": "code",
   "execution_count": 77,
   "id": "311d6580",
   "metadata": {},
   "outputs": [],
   "source": [
    "_, c = np.unique(np.concatenate(batches), return_counts=True)\n",
    "ax = sns.barplot(x=label_encoder.classes_,y=c)\n",
    "\n",
    "ax.set_xticklabels(ax.get_xticklabels(),rotation=30)\n",
    "i=0\n",
    "for p in ax.patches:\n",
    "    height = p.get_height()\n",
    "    ax.text(p.get_x()+p.get_width()/2., height + 0.1,\n",
    "        c[i],ha=\"center\", size=18)\n",
    "    i += 1"
   ]
  },
  {
   "cell_type": "code",
   "execution_count": 78,
   "id": "82fc84c7",
   "metadata": {},
   "outputs": [],
   "source": [
    "class SurfaceDatamodule(pl.LightningDataModule):\n",
    "\n",
    "  def __init__(self, train_sequences, val_sequences, batch_size, balance=True):\n",
    "    super().__init__()\n",
    "    self.train_sequences = train_sequences\n",
    "    self.val_sequences = val_sequences\n",
    "    self.batch_size = batch_size\n",
    "    self.balance = balance\n",
    "    self.sampler = None\n",
    "\n",
    "  def setup(self, stage=None):\n",
    "    self.train_dataset = SurfaceDataset(self.train_sequences)\n",
    "    self.val_dataset = SurfaceDataset(self.val_sequences)\n",
    "    if self.balance:\n",
    "      self.sampler = get_sampler(self.train_dataset)\n",
    "\n",
    "  def train_dataloader(self):\n",
    "    if self.balance:\n",
    "      return DataLoader(self.train_dataset, \n",
    "                        batch_size=self.batch_size,\n",
    "                        sampler=self.sampler,\n",
    "                        num_workers=3)\n",
    "    return DataLoader(self.train_dataset, \n",
    "                  batch_size=self.batch_size,\n",
    "                  num_workers=3)\n",
    "      \n",
    "  def val_dataloader(self):\n",
    "      return DataLoader(self.val_dataset,\n",
    "                        batch_size=self.batch_size,\n",
    "                        num_workers=2)"
   ]
  },
  {
   "cell_type": "code",
   "execution_count": 79,
   "id": "baeb91f8",
   "metadata": {},
   "outputs": [],
   "source": [
    "\n",
    "class SurfaceModel(nn.Module):\n",
    "\n",
    "  def __init__(self, n_features, n_classes, n_hidden,dropout, n_layers=3):\n",
    "    super().__init__()\n",
    "    print(dropout)\n",
    "    self.n_fearues = n_features\n",
    "    self.n_classes = n_classes\n",
    "    self.n_hidden = n_hidden\n",
    "    self.n_layers = n_layers\n",
    "    self.dropout = dropout\n",
    "\n",
    "    self.lstm = nn.LSTM(\n",
    "        input_size =self.n_fearues,\n",
    "        hidden_size = self.n_hidden,\n",
    "        num_layers = self.n_layers,\n",
    "        dropout = self.dropout,\n",
    "        batch_first = True\n",
    "    )\n",
    "    self.cassifier = nn.Linear(self.n_hidden, self.n_classes)\n",
    "\n",
    "  def forward(self, x):\n",
    "        self.lstm.flatten_parameters()\n",
    "        _, (hidden,_) = self.lstm(x)\n",
    "        out = hidden[-1]\n",
    "        return self.cassifier(out)"
   ]
  },
  {
   "cell_type": "code",
   "execution_count": 80,
   "id": "e4d35ff6",
   "metadata": {},
   "outputs": [],
   "source": [
    "class SurfacePredictor(pl.LightningModule):\n",
    "  def __init__(self, n_features, n_classes, n_hidden, seq_length, dropout, n_layers=3, lr=0.0001):\n",
    "    super().__init__()\n",
    "    self.lr = lr \n",
    "    self.seq_length =seq_length\n",
    "    self.n_features = n_features\n",
    "\n",
    "    self.model = SurfaceModel(n_features, n_classes, n_hidden, n_layers=n_layers,dropout=dropout)\n",
    "    self.criterion = nn.CrossEntropyLoss()\n",
    "    self.train_ac = torchmetrics.Accuracy()\n",
    "    self.val_ac = torchmetrics.Accuracy()\n",
    "    self.save_hyperparameters()\n",
    "\n",
    "\n",
    "  def forward(self, x, labels=None):\n",
    "    output = self.model(x)\n",
    "\n",
    "    loss = 0\n",
    "    if labels is not None:\n",
    "      loss = self.criterion(output, labels)\n",
    "      return loss, output\n",
    "\n",
    "    return output\n",
    "\n",
    "\n",
    "  def training_step(self, batch, batch_idx):\n",
    "    sequences = batch['sequence']\n",
    "    labels = batch['label']\n",
    "    loss, outputs = self(sequences, labels)\n",
    "    predictions = torch.argmax(outputs, dim=1)\n",
    "    step_ac = self.train_ac(predictions, labels)\n",
    "\n",
    "    self.log('train_loss', loss, prog_bar=True, logger=True)\n",
    "    self.log('train_accuracy', step_ac, prog_bar=True, logger=True)\n",
    "\n",
    "    return dict(loss=loss, accuracy=step_ac)\n",
    "\n",
    "  def validation_step(self, batch, batch_idx):\n",
    "    sequences = batch['sequence']\n",
    "    labels = batch['label']\n",
    "    loss, outputs = self(sequences, labels)\n",
    "    predictions = torch.argmax(outputs, dim=1)\n",
    "    step_ac = self.train_ac(predictions, labels)\n",
    "\n",
    "    self.log('val_loss', loss, prog_bar=True, logger=True)\n",
    "    self.log('val_accuracy', step_ac, prog_bar=True, logger=True)\n",
    "\n",
    "    return dict(loss=loss, accuracy=step_ac, loggits=outputs)\n",
    "\n",
    "\n",
    "  def validation_epoch_end(self, validation_step_outputs):\n",
    "    dummyImput = torch.zeros(\n",
    "        (1, self.seq_length, self.n_features), device=self.device)\n",
    "    model_filename = f\"model_{str(self.global_step).zfill(5)}.onnx\"\n",
    "    torch.onnx.export(self, dummyImput, model_filename, opset_version=11)\n",
    "    # wandb.save(model_filename,)\n",
    "    outputs = [out['loggits'] for out in validation_step_outputs]\n",
    "    flattened_outputs = torch.flatten(\n",
    "          torch.cat(outputs))\n",
    "    self.logger.experiment.log(\n",
    "    {'valid/logits': wandb.Histogram(flattened_outputs.to('cpu')),\n",
    "      'epoch': self.current_epoch}\n",
    "    )\n",
    "\n",
    "\n",
    "  def configure_optimizers(self):\n",
    "    return torch.optim.AdamW(self.parameters(), lr=self.lr)\n",
    " "
   ]
  },
  {
   "cell_type": "code",
   "execution_count": 81,
   "id": "a80afcec",
   "metadata": {},
   "outputs": [],
   "source": [
    "def train(params, run_name):\n",
    "    # setup data\n",
    "    data_module =SurfaceDatamodule(train_sequences, val_sequences, batch_size=params['batch_size'])\n",
    "\n",
    "    model = SurfacePredictor(n_features= params['n_features'], \n",
    "                             n_classes= params['n_classes'],\n",
    "                             n_hidden= params['n_hidden'], \n",
    "                             seq_length = params['seq_length'],\n",
    "                             dropout = params['dropout'], \n",
    "                             lr = params['lr'],\n",
    "                             n_layers= params['n_layers'])\n",
    "    # set up W&B logger\n",
    "    checkpoint_callback = ModelCheckpoint(\n",
    "    dirpath='checkpoints',\n",
    "    filename='best_checkpoint',\n",
    "    save_top_k=1,\n",
    "    verbose=True,\n",
    "    monitor='val_accuracy',\n",
    "    mode='max'\n",
    ")\n",
    "    early_stopping_callback = EarlyStopping(monitor='val_accuracy', patience=10, verbose=True)\n",
    "    progress_bar = TQDMProgressBar(refresh_rate=30)\n",
    "\n",
    "    callbacks = [early_stopping_callback, checkpoint_callback, progress_bar]\n",
    "    \n",
    "    logger = WandbLogger(name=run_name, save_dir='logs', project='surface_pred')\n",
    "    progress_bar = TQDMProgressBar(refresh_rate=30,)\n",
    "\n",
    "    callbacks = [progress_bar]\n",
    "\n",
    "    # setup Trainer\n",
    "    trainer = pl.Trainer(gpus = 1,\n",
    "                        max_epochs = 250,\n",
    "                        logger= logger,\n",
    "                        callbacks = callbacks,\n",
    "                        log_every_n_steps=40,\n",
    "                        precision=16)\n",
    "\n",
    "    # train\n",
    "    trainer.fit(model, datamodule=data_module)\n",
    "    wandb.finish()\n",
    "    return trainer, data_module"
   ]
  },
  {
   "cell_type": "code",
   "execution_count": 82,
   "id": "a1448b79",
   "metadata": {},
   "outputs": [
    {
     "data": {
      "text/html": [
       "\n",
       "                    Syncing run <strong><a href=\"https://wandb.ai/phade160/surface_pred/runs/2qckdou1\" target=\"_blank\">run_41_yt-bal-data</a></strong> to <a href=\"https://wandb.ai/phade160/surface_pred\" target=\"_blank\">Weights & Biases</a> (<a href=\"https://docs.wandb.com/integrations/jupyter.html\" target=\"_blank\">docs</a>).<br/>\n",
       "\n",
       "                "
      ],
      "text/plain": [
       "<IPython.core.display.HTML object>"
      ]
     },
     "metadata": {},
     "output_type": "display_data"
    },
    {
     "data": {
      "application/vnd.jupyter.widget-view+json": {
       "model_id": "ae2aec6bf7b54e419aabbfebd4a6fe72",
       "version_major": 2,
       "version_minor": 0
      },
      "text/plain": [
       "Validation sanity check: 0it [00:00, ?it/s]"
      ]
     },
     "metadata": {},
     "output_type": "display_data"
    },
    {
     "data": {
      "application/vnd.jupyter.widget-view+json": {
       "model_id": "8ee106820e724ea49d7190ab50e668fd",
       "version_major": 2,
       "version_minor": 0
      },
      "text/plain": [
       "Training: 0it [00:00, ?it/s]"
      ]
     },
     "metadata": {},
     "output_type": "display_data"
    },
    {
     "data": {
      "application/vnd.jupyter.widget-view+json": {
       "model_id": "da90608c61a0475eb62754d30dd83d8b",
       "version_major": 2,
       "version_minor": 0
      },
      "text/plain": [
       "Validating: 0it [00:00, ?it/s]"
      ]
     },
     "metadata": {},
     "output_type": "display_data"
    },
    {
     "data": {
      "application/vnd.jupyter.widget-view+json": {
       "model_id": "f8acb0ebe78748ff9435e745075bc152",
       "version_major": 2,
       "version_minor": 0
      },
      "text/plain": [
       "Validating: 0it [00:00, ?it/s]"
      ]
     },
     "metadata": {},
     "output_type": "display_data"
    },
    {
     "data": {
      "application/vnd.jupyter.widget-view+json": {
       "model_id": "62ed58a5cbca4a3597c592c98481cae3",
       "version_major": 2,
       "version_minor": 0
      },
      "text/plain": [
       "Validating: 0it [00:00, ?it/s]"
      ]
     },
     "metadata": {},
     "output_type": "display_data"
    },
    {
     "data": {
      "application/vnd.jupyter.widget-view+json": {
       "model_id": "da1deb20ae18462b802f7e94a6cead33",
       "version_major": 2,
       "version_minor": 0
      },
      "text/plain": [
       "Validating: 0it [00:00, ?it/s]"
      ]
     },
     "metadata": {},
     "output_type": "display_data"
    },
    {
     "data": {
      "application/vnd.jupyter.widget-view+json": {
       "model_id": "bb2381a280204a99a8dbc2280bf4fa43",
       "version_major": 2,
       "version_minor": 0
      },
      "text/plain": [
       "Validating: 0it [00:00, ?it/s]"
      ]
     },
     "metadata": {},
     "output_type": "display_data"
    },
    {
     "data": {
      "application/vnd.jupyter.widget-view+json": {
       "model_id": "0d0a91bc1dd94a3a8683d77a2c495368",
       "version_major": 2,
       "version_minor": 0
      },
      "text/plain": [
       "Validating: 0it [00:00, ?it/s]"
      ]
     },
     "metadata": {},
     "output_type": "display_data"
    },
    {
     "data": {
      "application/vnd.jupyter.widget-view+json": {
       "model_id": "fc347f028f4345c9982aa4e159dfd0db",
       "version_major": 2,
       "version_minor": 0
      },
      "text/plain": [
       "Validating: 0it [00:00, ?it/s]"
      ]
     },
     "metadata": {},
     "output_type": "display_data"
    },
    {
     "data": {
      "application/vnd.jupyter.widget-view+json": {
       "model_id": "a2ece6054c104d6f9a0b29249e41e0a1",
       "version_major": 2,
       "version_minor": 0
      },
      "text/plain": [
       "Validating: 0it [00:00, ?it/s]"
      ]
     },
     "metadata": {},
     "output_type": "display_data"
    },
    {
     "data": {
      "application/vnd.jupyter.widget-view+json": {
       "model_id": "30dd88bb5f3a4d2f894c8c0f23ab619c",
       "version_major": 2,
       "version_minor": 0
      },
      "text/plain": [
       "Validating: 0it [00:00, ?it/s]"
      ]
     },
     "metadata": {},
     "output_type": "display_data"
    },
    {
     "data": {
      "application/vnd.jupyter.widget-view+json": {
       "model_id": "ecd2710c50a54b82b5ed9f2173ba7dc8",
       "version_major": 2,
       "version_minor": 0
      },
      "text/plain": [
       "Validating: 0it [00:00, ?it/s]"
      ]
     },
     "metadata": {},
     "output_type": "display_data"
    },
    {
     "data": {
      "application/vnd.jupyter.widget-view+json": {
       "model_id": "717dc94677564f6dbb5723ac1093d06b",
       "version_major": 2,
       "version_minor": 0
      },
      "text/plain": [
       "Validating: 0it [00:00, ?it/s]"
      ]
     },
     "metadata": {},
     "output_type": "display_data"
    },
    {
     "data": {
      "application/vnd.jupyter.widget-view+json": {
       "model_id": "3439380d60e249f88c39e9c6f764dbf5",
       "version_major": 2,
       "version_minor": 0
      },
      "text/plain": [
       "Validating: 0it [00:00, ?it/s]"
      ]
     },
     "metadata": {},
     "output_type": "display_data"
    },
    {
     "data": {
      "application/vnd.jupyter.widget-view+json": {
       "model_id": "14101d4663ba48b8aa1b1cc44f11699f",
       "version_major": 2,
       "version_minor": 0
      },
      "text/plain": [
       "Validating: 0it [00:00, ?it/s]"
      ]
     },
     "metadata": {},
     "output_type": "display_data"
    },
    {
     "data": {
      "application/vnd.jupyter.widget-view+json": {
       "model_id": "f7d28d7f050b4bb68e36dd3449cbcd1f",
       "version_major": 2,
       "version_minor": 0
      },
      "text/plain": [
       "Validating: 0it [00:00, ?it/s]"
      ]
     },
     "metadata": {},
     "output_type": "display_data"
    },
    {
     "data": {
      "application/vnd.jupyter.widget-view+json": {
       "model_id": "b79e2a4682834afeb0666abd5105d438",
       "version_major": 2,
       "version_minor": 0
      },
      "text/plain": [
       "Validating: 0it [00:00, ?it/s]"
      ]
     },
     "metadata": {},
     "output_type": "display_data"
    },
    {
     "data": {
      "application/vnd.jupyter.widget-view+json": {
       "model_id": "72d3c9852a064f1aa803b70145434492",
       "version_major": 2,
       "version_minor": 0
      },
      "text/plain": [
       "Validating: 0it [00:00, ?it/s]"
      ]
     },
     "metadata": {},
     "output_type": "display_data"
    },
    {
     "data": {
      "application/vnd.jupyter.widget-view+json": {
       "model_id": "04f37fc0f781450e9abb79017386db6b",
       "version_major": 2,
       "version_minor": 0
      },
      "text/plain": [
       "Validating: 0it [00:00, ?it/s]"
      ]
     },
     "metadata": {},
     "output_type": "display_data"
    },
    {
     "data": {
      "application/vnd.jupyter.widget-view+json": {
       "model_id": "1bf1122c54794828a998cc271068873b",
       "version_major": 2,
       "version_minor": 0
      },
      "text/plain": [
       "Validating: 0it [00:00, ?it/s]"
      ]
     },
     "metadata": {},
     "output_type": "display_data"
    },
    {
     "data": {
      "application/vnd.jupyter.widget-view+json": {
       "model_id": "1137022ef1d94bd7a1df6e5e04ec1406",
       "version_major": 2,
       "version_minor": 0
      },
      "text/plain": [
       "Validating: 0it [00:00, ?it/s]"
      ]
     },
     "metadata": {},
     "output_type": "display_data"
    },
    {
     "data": {
      "application/vnd.jupyter.widget-view+json": {
       "model_id": "f10ef0e83f704d419e5e84aa1a54f714",
       "version_major": 2,
       "version_minor": 0
      },
      "text/plain": [
       "Validating: 0it [00:00, ?it/s]"
      ]
     },
     "metadata": {},
     "output_type": "display_data"
    },
    {
     "data": {
      "application/vnd.jupyter.widget-view+json": {
       "model_id": "8547b65842654baeb794321917c3082b",
       "version_major": 2,
       "version_minor": 0
      },
      "text/plain": [
       "Validating: 0it [00:00, ?it/s]"
      ]
     },
     "metadata": {},
     "output_type": "display_data"
    },
    {
     "data": {
      "application/vnd.jupyter.widget-view+json": {
       "model_id": "da62573f2e404b3c95452e692941470b",
       "version_major": 2,
       "version_minor": 0
      },
      "text/plain": [
       "Validating: 0it [00:00, ?it/s]"
      ]
     },
     "metadata": {},
     "output_type": "display_data"
    },
    {
     "data": {
      "application/vnd.jupyter.widget-view+json": {
       "model_id": "a40adf6a80c84f89b574586ede6ee5ee",
       "version_major": 2,
       "version_minor": 0
      },
      "text/plain": [
       "Validating: 0it [00:00, ?it/s]"
      ]
     },
     "metadata": {},
     "output_type": "display_data"
    },
    {
     "data": {
      "application/vnd.jupyter.widget-view+json": {
       "model_id": "7e1856b55d464942977096462bfd4018",
       "version_major": 2,
       "version_minor": 0
      },
      "text/plain": [
       "Validating: 0it [00:00, ?it/s]"
      ]
     },
     "metadata": {},
     "output_type": "display_data"
    },
    {
     "data": {
      "application/vnd.jupyter.widget-view+json": {
       "model_id": "f99f73a4ce604761a7f2be87167a6154",
       "version_major": 2,
       "version_minor": 0
      },
      "text/plain": [
       "Validating: 0it [00:00, ?it/s]"
      ]
     },
     "metadata": {},
     "output_type": "display_data"
    },
    {
     "data": {
      "application/vnd.jupyter.widget-view+json": {
       "model_id": "5146bedcf54840ef8c37d2456beb1aef",
       "version_major": 2,
       "version_minor": 0
      },
      "text/plain": [
       "Validating: 0it [00:00, ?it/s]"
      ]
     },
     "metadata": {},
     "output_type": "display_data"
    },
    {
     "data": {
      "application/vnd.jupyter.widget-view+json": {
       "model_id": "158a3699948e4cf4a3cfab5958f2588b",
       "version_major": 2,
       "version_minor": 0
      },
      "text/plain": [
       "Validating: 0it [00:00, ?it/s]"
      ]
     },
     "metadata": {},
     "output_type": "display_data"
    },
    {
     "data": {
      "application/vnd.jupyter.widget-view+json": {
       "model_id": "ec55b079ba374d32b661bf358a45819b",
       "version_major": 2,
       "version_minor": 0
      },
      "text/plain": [
       "Validating: 0it [00:00, ?it/s]"
      ]
     },
     "metadata": {},
     "output_type": "display_data"
    },
    {
     "data": {
      "application/vnd.jupyter.widget-view+json": {
       "model_id": "fd3e2ac9e6b3457e99aa8d0797196700",
       "version_major": 2,
       "version_minor": 0
      },
      "text/plain": [
       "Validating: 0it [00:00, ?it/s]"
      ]
     },
     "metadata": {},
     "output_type": "display_data"
    },
    {
     "data": {
      "application/vnd.jupyter.widget-view+json": {
       "model_id": "df9f6d2ed5084f0b8aeebb668c434937",
       "version_major": 2,
       "version_minor": 0
      },
      "text/plain": [
       "Validating: 0it [00:00, ?it/s]"
      ]
     },
     "metadata": {},
     "output_type": "display_data"
    },
    {
     "data": {
      "application/vnd.jupyter.widget-view+json": {
       "model_id": "62dbebe8e6614c2b843e367b6ceca660",
       "version_major": 2,
       "version_minor": 0
      },
      "text/plain": [
       "Validating: 0it [00:00, ?it/s]"
      ]
     },
     "metadata": {},
     "output_type": "display_data"
    },
    {
     "data": {
      "application/vnd.jupyter.widget-view+json": {
       "model_id": "d25e141f902f4d26ac03cb2c1db4c24d",
       "version_major": 2,
       "version_minor": 0
      },
      "text/plain": [
       "Validating: 0it [00:00, ?it/s]"
      ]
     },
     "metadata": {},
     "output_type": "display_data"
    },
    {
     "data": {
      "application/vnd.jupyter.widget-view+json": {
       "model_id": "500ea754cc5f46e78072106d958c8618",
       "version_major": 2,
       "version_minor": 0
      },
      "text/plain": [
       "Validating: 0it [00:00, ?it/s]"
      ]
     },
     "metadata": {},
     "output_type": "display_data"
    },
    {
     "data": {
      "application/vnd.jupyter.widget-view+json": {
       "model_id": "6e236cbeb01a466485aa8e630dfafc49",
       "version_major": 2,
       "version_minor": 0
      },
      "text/plain": [
       "Validating: 0it [00:00, ?it/s]"
      ]
     },
     "metadata": {},
     "output_type": "display_data"
    },
    {
     "data": {
      "application/vnd.jupyter.widget-view+json": {
       "model_id": "cc90f11d43864675a3baa12c880aaf20",
       "version_major": 2,
       "version_minor": 0
      },
      "text/plain": [
       "Validating: 0it [00:00, ?it/s]"
      ]
     },
     "metadata": {},
     "output_type": "display_data"
    },
    {
     "data": {
      "application/vnd.jupyter.widget-view+json": {
       "model_id": "ca8f6234e58b48c6aa5c8d1351e7ac02",
       "version_major": 2,
       "version_minor": 0
      },
      "text/plain": [
       "Validating: 0it [00:00, ?it/s]"
      ]
     },
     "metadata": {},
     "output_type": "display_data"
    },
    {
     "data": {
      "application/vnd.jupyter.widget-view+json": {
       "model_id": "7023fd63a43a4643a1d6e87667407026",
       "version_major": 2,
       "version_minor": 0
      },
      "text/plain": [
       "Validating: 0it [00:00, ?it/s]"
      ]
     },
     "metadata": {},
     "output_type": "display_data"
    },
    {
     "data": {
      "application/vnd.jupyter.widget-view+json": {
       "model_id": "0c6becb946c54a6eb9f8dfb021048888",
       "version_major": 2,
       "version_minor": 0
      },
      "text/plain": [
       "Validating: 0it [00:00, ?it/s]"
      ]
     },
     "metadata": {},
     "output_type": "display_data"
    },
    {
     "data": {
      "application/vnd.jupyter.widget-view+json": {
       "model_id": "08a8467f93c042b99f58bacabd6f470b",
       "version_major": 2,
       "version_minor": 0
      },
      "text/plain": [
       "Validating: 0it [00:00, ?it/s]"
      ]
     },
     "metadata": {},
     "output_type": "display_data"
    },
    {
     "data": {
      "application/vnd.jupyter.widget-view+json": {
       "model_id": "1e3bfde047ca4de98f6cdc1dd46c77a1",
       "version_major": 2,
       "version_minor": 0
      },
      "text/plain": [
       "Validating: 0it [00:00, ?it/s]"
      ]
     },
     "metadata": {},
     "output_type": "display_data"
    },
    {
     "data": {
      "application/vnd.jupyter.widget-view+json": {
       "model_id": "5fb501991e7c40cbad3867b162b430de",
       "version_major": 2,
       "version_minor": 0
      },
      "text/plain": [
       "Validating: 0it [00:00, ?it/s]"
      ]
     },
     "metadata": {},
     "output_type": "display_data"
    },
    {
     "data": {
      "application/vnd.jupyter.widget-view+json": {
       "model_id": "b0c2e333cd454f878e58d0c75d3b42e7",
       "version_major": 2,
       "version_minor": 0
      },
      "text/plain": [
       "Validating: 0it [00:00, ?it/s]"
      ]
     },
     "metadata": {},
     "output_type": "display_data"
    },
    {
     "data": {
      "application/vnd.jupyter.widget-view+json": {
       "model_id": "99583d9ea856469f90d15a9f90ff7598",
       "version_major": 2,
       "version_minor": 0
      },
      "text/plain": [
       "Validating: 0it [00:00, ?it/s]"
      ]
     },
     "metadata": {},
     "output_type": "display_data"
    },
    {
     "data": {
      "application/vnd.jupyter.widget-view+json": {
       "model_id": "3442c5b0e3c042a5baeb94bda63ea8af",
       "version_major": 2,
       "version_minor": 0
      },
      "text/plain": [
       "Validating: 0it [00:00, ?it/s]"
      ]
     },
     "metadata": {},
     "output_type": "display_data"
    },
    {
     "data": {
      "application/vnd.jupyter.widget-view+json": {
       "model_id": "b6466e01adcb49d58cf571b3497da3ff",
       "version_major": 2,
       "version_minor": 0
      },
      "text/plain": [
       "Validating: 0it [00:00, ?it/s]"
      ]
     },
     "metadata": {},
     "output_type": "display_data"
    },
    {
     "data": {
      "application/vnd.jupyter.widget-view+json": {
       "model_id": "de96d7d68aa24015853b02e315200c7b",
       "version_major": 2,
       "version_minor": 0
      },
      "text/plain": [
       "Validating: 0it [00:00, ?it/s]"
      ]
     },
     "metadata": {},
     "output_type": "display_data"
    },
    {
     "data": {
      "application/vnd.jupyter.widget-view+json": {
       "model_id": "5f9322c1da3a47a2aed4abf10476672a",
       "version_major": 2,
       "version_minor": 0
      },
      "text/plain": [
       "Validating: 0it [00:00, ?it/s]"
      ]
     },
     "metadata": {},
     "output_type": "display_data"
    },
    {
     "data": {
      "application/vnd.jupyter.widget-view+json": {
       "model_id": "d2f9d5b23e1f49939156045d524b9d99",
       "version_major": 2,
       "version_minor": 0
      },
      "text/plain": [
       "Validating: 0it [00:00, ?it/s]"
      ]
     },
     "metadata": {},
     "output_type": "display_data"
    },
    {
     "data": {
      "application/vnd.jupyter.widget-view+json": {
       "model_id": "2889724cb42b479982c762a6f86a1891",
       "version_major": 2,
       "version_minor": 0
      },
      "text/plain": [
       "Validating: 0it [00:00, ?it/s]"
      ]
     },
     "metadata": {},
     "output_type": "display_data"
    },
    {
     "data": {
      "application/vnd.jupyter.widget-view+json": {
       "model_id": "2db2425a83d647af9d660a081bc04cfb",
       "version_major": 2,
       "version_minor": 0
      },
      "text/plain": [
       "Validating: 0it [00:00, ?it/s]"
      ]
     },
     "metadata": {},
     "output_type": "display_data"
    },
    {
     "data": {
      "application/vnd.jupyter.widget-view+json": {
       "model_id": "c417486a4cba435b9857cda204e2d5b2",
       "version_major": 2,
       "version_minor": 0
      },
      "text/plain": [
       "Validating: 0it [00:00, ?it/s]"
      ]
     },
     "metadata": {},
     "output_type": "display_data"
    },
    {
     "data": {
      "application/vnd.jupyter.widget-view+json": {
       "model_id": "dc50eccb2e6c4acbb06dd3357e873253",
       "version_major": 2,
       "version_minor": 0
      },
      "text/plain": [
       "Validating: 0it [00:00, ?it/s]"
      ]
     },
     "metadata": {},
     "output_type": "display_data"
    },
    {
     "data": {
      "application/vnd.jupyter.widget-view+json": {
       "model_id": "2f7a89c404504c488d0e608f12065888",
       "version_major": 2,
       "version_minor": 0
      },
      "text/plain": [
       "Validating: 0it [00:00, ?it/s]"
      ]
     },
     "metadata": {},
     "output_type": "display_data"
    },
    {
     "data": {
      "application/vnd.jupyter.widget-view+json": {
       "model_id": "eda04574fb9a40119b6ef4a8afaf3f5c",
       "version_major": 2,
       "version_minor": 0
      },
      "text/plain": [
       "Validating: 0it [00:00, ?it/s]"
      ]
     },
     "metadata": {},
     "output_type": "display_data"
    },
    {
     "data": {
      "application/vnd.jupyter.widget-view+json": {
       "model_id": "df83d40554eb4c67ae4a1bcfa89d5b55",
       "version_major": 2,
       "version_minor": 0
      },
      "text/plain": [
       "Validating: 0it [00:00, ?it/s]"
      ]
     },
     "metadata": {},
     "output_type": "display_data"
    },
    {
     "data": {
      "application/vnd.jupyter.widget-view+json": {
       "model_id": "c24ededd9266408aa53c97841a7f618a",
       "version_major": 2,
       "version_minor": 0
      },
      "text/plain": [
       "Validating: 0it [00:00, ?it/s]"
      ]
     },
     "metadata": {},
     "output_type": "display_data"
    },
    {
     "data": {
      "application/vnd.jupyter.widget-view+json": {
       "model_id": "ade967e67d824cb4a69490144ab1e431",
       "version_major": 2,
       "version_minor": 0
      },
      "text/plain": [
       "Validating: 0it [00:00, ?it/s]"
      ]
     },
     "metadata": {},
     "output_type": "display_data"
    },
    {
     "data": {
      "application/vnd.jupyter.widget-view+json": {
       "model_id": "eeda37bd0b2c43cbb899ec88f79ad2f2",
       "version_major": 2,
       "version_minor": 0
      },
      "text/plain": [
       "Validating: 0it [00:00, ?it/s]"
      ]
     },
     "metadata": {},
     "output_type": "display_data"
    },
    {
     "data": {
      "application/vnd.jupyter.widget-view+json": {
       "model_id": "8f436e908b1d4f96ae2c9435b7860ed5",
       "version_major": 2,
       "version_minor": 0
      },
      "text/plain": [
       "Validating: 0it [00:00, ?it/s]"
      ]
     },
     "metadata": {},
     "output_type": "display_data"
    },
    {
     "data": {
      "application/vnd.jupyter.widget-view+json": {
       "model_id": "ba7a6f19617444c2b4779176ed30c1e6",
       "version_major": 2,
       "version_minor": 0
      },
      "text/plain": [
       "Validating: 0it [00:00, ?it/s]"
      ]
     },
     "metadata": {},
     "output_type": "display_data"
    },
    {
     "data": {
      "application/vnd.jupyter.widget-view+json": {
       "model_id": "9f7a1c86dfb14ec68d61a5c354459808",
       "version_major": 2,
       "version_minor": 0
      },
      "text/plain": [
       "Validating: 0it [00:00, ?it/s]"
      ]
     },
     "metadata": {},
     "output_type": "display_data"
    },
    {
     "data": {
      "application/vnd.jupyter.widget-view+json": {
       "model_id": "7f3a23797db94769892b2c5468563d6a",
       "version_major": 2,
       "version_minor": 0
      },
      "text/plain": [
       "Validating: 0it [00:00, ?it/s]"
      ]
     },
     "metadata": {},
     "output_type": "display_data"
    },
    {
     "data": {
      "application/vnd.jupyter.widget-view+json": {
       "model_id": "5a7fd86379844d0b8c1c961a89e89f76",
       "version_major": 2,
       "version_minor": 0
      },
      "text/plain": [
       "Validating: 0it [00:00, ?it/s]"
      ]
     },
     "metadata": {},
     "output_type": "display_data"
    },
    {
     "data": {
      "application/vnd.jupyter.widget-view+json": {
       "model_id": "b62bf19dfb0145e58587a505f6fff382",
       "version_major": 2,
       "version_minor": 0
      },
      "text/plain": [
       "Validating: 0it [00:00, ?it/s]"
      ]
     },
     "metadata": {},
     "output_type": "display_data"
    },
    {
     "data": {
      "application/vnd.jupyter.widget-view+json": {
       "model_id": "1bdad6ae19bb4c3cb99b4cb7921822ee",
       "version_major": 2,
       "version_minor": 0
      },
      "text/plain": [
       "Validating: 0it [00:00, ?it/s]"
      ]
     },
     "metadata": {},
     "output_type": "display_data"
    },
    {
     "data": {
      "application/vnd.jupyter.widget-view+json": {
       "model_id": "9a834648a3254a7291288909a61e98b5",
       "version_major": 2,
       "version_minor": 0
      },
      "text/plain": [
       "Validating: 0it [00:00, ?it/s]"
      ]
     },
     "metadata": {},
     "output_type": "display_data"
    },
    {
     "data": {
      "application/vnd.jupyter.widget-view+json": {
       "model_id": "be99d10f421e4f768a84b535e9fd1d4d",
       "version_major": 2,
       "version_minor": 0
      },
      "text/plain": [
       "Validating: 0it [00:00, ?it/s]"
      ]
     },
     "metadata": {},
     "output_type": "display_data"
    },
    {
     "data": {
      "application/vnd.jupyter.widget-view+json": {
       "model_id": "017bf4ce24fb48ae9682a8963405d8fb",
       "version_major": 2,
       "version_minor": 0
      },
      "text/plain": [
       "Validating: 0it [00:00, ?it/s]"
      ]
     },
     "metadata": {},
     "output_type": "display_data"
    },
    {
     "data": {
      "application/vnd.jupyter.widget-view+json": {
       "model_id": "6791e37356d64423a74696dea3d7b593",
       "version_major": 2,
       "version_minor": 0
      },
      "text/plain": [
       "Validating: 0it [00:00, ?it/s]"
      ]
     },
     "metadata": {},
     "output_type": "display_data"
    },
    {
     "data": {
      "application/vnd.jupyter.widget-view+json": {
       "model_id": "b022edb5077a422288442e92a05dbdea",
       "version_major": 2,
       "version_minor": 0
      },
      "text/plain": [
       "Validating: 0it [00:00, ?it/s]"
      ]
     },
     "metadata": {},
     "output_type": "display_data"
    },
    {
     "data": {
      "application/vnd.jupyter.widget-view+json": {
       "model_id": "4069d83374944e0d8da1ad40f482cdda",
       "version_major": 2,
       "version_minor": 0
      },
      "text/plain": [
       "Validating: 0it [00:00, ?it/s]"
      ]
     },
     "metadata": {},
     "output_type": "display_data"
    },
    {
     "data": {
      "application/vnd.jupyter.widget-view+json": {
       "model_id": "49bbaa06ef6e4b339ff27ea030500a51",
       "version_major": 2,
       "version_minor": 0
      },
      "text/plain": [
       "Validating: 0it [00:00, ?it/s]"
      ]
     },
     "metadata": {},
     "output_type": "display_data"
    },
    {
     "data": {
      "application/vnd.jupyter.widget-view+json": {
       "model_id": "3ecd09a89198496183cd2aa3cb14520b",
       "version_major": 2,
       "version_minor": 0
      },
      "text/plain": [
       "Validating: 0it [00:00, ?it/s]"
      ]
     },
     "metadata": {},
     "output_type": "display_data"
    },
    {
     "data": {
      "application/vnd.jupyter.widget-view+json": {
       "model_id": "fadc302af21843f4bce21f477c5ee3c6",
       "version_major": 2,
       "version_minor": 0
      },
      "text/plain": [
       "Validating: 0it [00:00, ?it/s]"
      ]
     },
     "metadata": {},
     "output_type": "display_data"
    },
    {
     "data": {
      "application/vnd.jupyter.widget-view+json": {
       "model_id": "111f55b8fcd7461885bcf0e686975fa1",
       "version_major": 2,
       "version_minor": 0
      },
      "text/plain": [
       "Validating: 0it [00:00, ?it/s]"
      ]
     },
     "metadata": {},
     "output_type": "display_data"
    },
    {
     "data": {
      "application/vnd.jupyter.widget-view+json": {
       "model_id": "82d12a35ecbf4ca38b605d49d484c923",
       "version_major": 2,
       "version_minor": 0
      },
      "text/plain": [
       "Validating: 0it [00:00, ?it/s]"
      ]
     },
     "metadata": {},
     "output_type": "display_data"
    },
    {
     "data": {
      "application/vnd.jupyter.widget-view+json": {
       "model_id": "1ab13078265c4832a6e0f17e13702385",
       "version_major": 2,
       "version_minor": 0
      },
      "text/plain": [
       "Validating: 0it [00:00, ?it/s]"
      ]
     },
     "metadata": {},
     "output_type": "display_data"
    },
    {
     "data": {
      "application/vnd.jupyter.widget-view+json": {
       "model_id": "2839ff3c3c844a9eb4b70b2bec5031a5",
       "version_major": 2,
       "version_minor": 0
      },
      "text/plain": [
       "Validating: 0it [00:00, ?it/s]"
      ]
     },
     "metadata": {},
     "output_type": "display_data"
    },
    {
     "data": {
      "application/vnd.jupyter.widget-view+json": {
       "model_id": "dd53759adc8d43e6ac861c290f47c956",
       "version_major": 2,
       "version_minor": 0
      },
      "text/plain": [
       "Validating: 0it [00:00, ?it/s]"
      ]
     },
     "metadata": {},
     "output_type": "display_data"
    },
    {
     "data": {
      "application/vnd.jupyter.widget-view+json": {
       "model_id": "fdae56c1891343a1b96e47e082f2d005",
       "version_major": 2,
       "version_minor": 0
      },
      "text/plain": [
       "Validating: 0it [00:00, ?it/s]"
      ]
     },
     "metadata": {},
     "output_type": "display_data"
    },
    {
     "data": {
      "application/vnd.jupyter.widget-view+json": {
       "model_id": "0f9e15ede4f04cfd9818d923a76d0d22",
       "version_major": 2,
       "version_minor": 0
      },
      "text/plain": [
       "Validating: 0it [00:00, ?it/s]"
      ]
     },
     "metadata": {},
     "output_type": "display_data"
    },
    {
     "data": {
      "application/vnd.jupyter.widget-view+json": {
       "model_id": "29eb00f6322f48b291415e6e55aaae1a",
       "version_major": 2,
       "version_minor": 0
      },
      "text/plain": [
       "Validating: 0it [00:00, ?it/s]"
      ]
     },
     "metadata": {},
     "output_type": "display_data"
    },
    {
     "data": {
      "application/vnd.jupyter.widget-view+json": {
       "model_id": "e61be8c73a344bfa87649cdbaca9de49",
       "version_major": 2,
       "version_minor": 0
      },
      "text/plain": [
       "Validating: 0it [00:00, ?it/s]"
      ]
     },
     "metadata": {},
     "output_type": "display_data"
    },
    {
     "data": {
      "application/vnd.jupyter.widget-view+json": {
       "model_id": "e7e9fa624c674e028768761e6bbcb2d9",
       "version_major": 2,
       "version_minor": 0
      },
      "text/plain": [
       "Validating: 0it [00:00, ?it/s]"
      ]
     },
     "metadata": {},
     "output_type": "display_data"
    },
    {
     "data": {
      "application/vnd.jupyter.widget-view+json": {
       "model_id": "a60471cb6e0e4eeca1d0165ed08027b0",
       "version_major": 2,
       "version_minor": 0
      },
      "text/plain": [
       "Validating: 0it [00:00, ?it/s]"
      ]
     },
     "metadata": {},
     "output_type": "display_data"
    },
    {
     "data": {
      "application/vnd.jupyter.widget-view+json": {
       "model_id": "991fda681ce64a6fa5300e45b38896a6",
       "version_major": 2,
       "version_minor": 0
      },
      "text/plain": [
       "Validating: 0it [00:00, ?it/s]"
      ]
     },
     "metadata": {},
     "output_type": "display_data"
    },
    {
     "data": {
      "application/vnd.jupyter.widget-view+json": {
       "model_id": "58b0976addf14138afa40cae7ee7ea3a",
       "version_major": 2,
       "version_minor": 0
      },
      "text/plain": [
       "Validating: 0it [00:00, ?it/s]"
      ]
     },
     "metadata": {},
     "output_type": "display_data"
    },
    {
     "data": {
      "application/vnd.jupyter.widget-view+json": {
       "model_id": "2271293e215c4969ba63cee8cb546c37",
       "version_major": 2,
       "version_minor": 0
      },
      "text/plain": [
       "Validating: 0it [00:00, ?it/s]"
      ]
     },
     "metadata": {},
     "output_type": "display_data"
    },
    {
     "data": {
      "application/vnd.jupyter.widget-view+json": {
       "model_id": "d7f8a260597e4c1ab191e44b859de100",
       "version_major": 2,
       "version_minor": 0
      },
      "text/plain": [
       "Validating: 0it [00:00, ?it/s]"
      ]
     },
     "metadata": {},
     "output_type": "display_data"
    },
    {
     "data": {
      "application/vnd.jupyter.widget-view+json": {
       "model_id": "ce42bb851e634230a6ef9e4ae61022d7",
       "version_major": 2,
       "version_minor": 0
      },
      "text/plain": [
       "Validating: 0it [00:00, ?it/s]"
      ]
     },
     "metadata": {},
     "output_type": "display_data"
    },
    {
     "data": {
      "application/vnd.jupyter.widget-view+json": {
       "model_id": "b3da71bad5184b6bb43a1d1fb383510f",
       "version_major": 2,
       "version_minor": 0
      },
      "text/plain": [
       "Validating: 0it [00:00, ?it/s]"
      ]
     },
     "metadata": {},
     "output_type": "display_data"
    },
    {
     "data": {
      "application/vnd.jupyter.widget-view+json": {
       "model_id": "048ec7ca1a0046ccb8929b4ee86031e7",
       "version_major": 2,
       "version_minor": 0
      },
      "text/plain": [
       "Validating: 0it [00:00, ?it/s]"
      ]
     },
     "metadata": {},
     "output_type": "display_data"
    },
    {
     "data": {
      "application/vnd.jupyter.widget-view+json": {
       "model_id": "3e72b020050242278cb559f35295d1b6",
       "version_major": 2,
       "version_minor": 0
      },
      "text/plain": [
       "Validating: 0it [00:00, ?it/s]"
      ]
     },
     "metadata": {},
     "output_type": "display_data"
    },
    {
     "data": {
      "application/vnd.jupyter.widget-view+json": {
       "model_id": "8243e9d41ee143eeb6bd1dc55ce5c0e2",
       "version_major": 2,
       "version_minor": 0
      },
      "text/plain": [
       "Validating: 0it [00:00, ?it/s]"
      ]
     },
     "metadata": {},
     "output_type": "display_data"
    },
    {
     "data": {
      "application/vnd.jupyter.widget-view+json": {
       "model_id": "9cc4f85217e54adab31a05b82f08efa7",
       "version_major": 2,
       "version_minor": 0
      },
      "text/plain": [
       "Validating: 0it [00:00, ?it/s]"
      ]
     },
     "metadata": {},
     "output_type": "display_data"
    },
    {
     "data": {
      "application/vnd.jupyter.widget-view+json": {
       "model_id": "792bd5edeebf4fd1b5390b23b944681b",
       "version_major": 2,
       "version_minor": 0
      },
      "text/plain": [
       "Validating: 0it [00:00, ?it/s]"
      ]
     },
     "metadata": {},
     "output_type": "display_data"
    },
    {
     "data": {
      "application/vnd.jupyter.widget-view+json": {
       "model_id": "641e62c6b6734e8fa08fb1b12da0b6cd",
       "version_major": 2,
       "version_minor": 0
      },
      "text/plain": [
       "Validating: 0it [00:00, ?it/s]"
      ]
     },
     "metadata": {},
     "output_type": "display_data"
    },
    {
     "data": {
      "application/vnd.jupyter.widget-view+json": {
       "model_id": "cc6fdd1eb4ed4fccbe401a87a391316d",
       "version_major": 2,
       "version_minor": 0
      },
      "text/plain": [
       "Validating: 0it [00:00, ?it/s]"
      ]
     },
     "metadata": {},
     "output_type": "display_data"
    },
    {
     "data": {
      "application/vnd.jupyter.widget-view+json": {
       "model_id": "26387cd0f53543eb8d25558dd85ce8c4",
       "version_major": 2,
       "version_minor": 0
      },
      "text/plain": [
       "Validating: 0it [00:00, ?it/s]"
      ]
     },
     "metadata": {},
     "output_type": "display_data"
    },
    {
     "data": {
      "application/vnd.jupyter.widget-view+json": {
       "model_id": "516e41530d8247f4a1140e6b2cd282e9",
       "version_major": 2,
       "version_minor": 0
      },
      "text/plain": [
       "Validating: 0it [00:00, ?it/s]"
      ]
     },
     "metadata": {},
     "output_type": "display_data"
    },
    {
     "data": {
      "application/vnd.jupyter.widget-view+json": {
       "model_id": "764c6d46c4c24b14802b904aeeb30672",
       "version_major": 2,
       "version_minor": 0
      },
      "text/plain": [
       "Validating: 0it [00:00, ?it/s]"
      ]
     },
     "metadata": {},
     "output_type": "display_data"
    },
    {
     "data": {
      "application/vnd.jupyter.widget-view+json": {
       "model_id": "327a38c1244749118f6ac3f9bd76e5b5",
       "version_major": 2,
       "version_minor": 0
      },
      "text/plain": [
       "Validating: 0it [00:00, ?it/s]"
      ]
     },
     "metadata": {},
     "output_type": "display_data"
    },
    {
     "data": {
      "application/vnd.jupyter.widget-view+json": {
       "model_id": "c3d3d7e58ca34fc4a86548e4b9850a7d",
       "version_major": 2,
       "version_minor": 0
      },
      "text/plain": [
       "Validating: 0it [00:00, ?it/s]"
      ]
     },
     "metadata": {},
     "output_type": "display_data"
    },
    {
     "data": {
      "application/vnd.jupyter.widget-view+json": {
       "model_id": "1b774b1a42b24c17b6dd1820a0a7c73d",
       "version_major": 2,
       "version_minor": 0
      },
      "text/plain": [
       "Validating: 0it [00:00, ?it/s]"
      ]
     },
     "metadata": {},
     "output_type": "display_data"
    },
    {
     "data": {
      "application/vnd.jupyter.widget-view+json": {
       "model_id": "a75ce0e6687d4713b3f446bf093ceb5d",
       "version_major": 2,
       "version_minor": 0
      },
      "text/plain": [
       "Validating: 0it [00:00, ?it/s]"
      ]
     },
     "metadata": {},
     "output_type": "display_data"
    },
    {
     "data": {
      "application/vnd.jupyter.widget-view+json": {
       "model_id": "45fcbc3bedac4e9c84d03468edb3ce86",
       "version_major": 2,
       "version_minor": 0
      },
      "text/plain": [
       "Validating: 0it [00:00, ?it/s]"
      ]
     },
     "metadata": {},
     "output_type": "display_data"
    },
    {
     "data": {
      "application/vnd.jupyter.widget-view+json": {
       "model_id": "5216b35e52b74e44a06167e7a5ae5a1e",
       "version_major": 2,
       "version_minor": 0
      },
      "text/plain": [
       "Validating: 0it [00:00, ?it/s]"
      ]
     },
     "metadata": {},
     "output_type": "display_data"
    },
    {
     "data": {
      "application/vnd.jupyter.widget-view+json": {
       "model_id": "cd22f2f2bf8b48f98549ecc073a5f1a1",
       "version_major": 2,
       "version_minor": 0
      },
      "text/plain": [
       "Validating: 0it [00:00, ?it/s]"
      ]
     },
     "metadata": {},
     "output_type": "display_data"
    },
    {
     "data": {
      "application/vnd.jupyter.widget-view+json": {
       "model_id": "51cb9d47e0a04d48882d336f38468fb2",
       "version_major": 2,
       "version_minor": 0
      },
      "text/plain": [
       "Validating: 0it [00:00, ?it/s]"
      ]
     },
     "metadata": {},
     "output_type": "display_data"
    },
    {
     "data": {
      "application/vnd.jupyter.widget-view+json": {
       "model_id": "af1bdff5a4f6453faf4c335a08a99527",
       "version_major": 2,
       "version_minor": 0
      },
      "text/plain": [
       "Validating: 0it [00:00, ?it/s]"
      ]
     },
     "metadata": {},
     "output_type": "display_data"
    },
    {
     "data": {
      "application/vnd.jupyter.widget-view+json": {
       "model_id": "09ac92bac1c6409d8bd82b235f44104b",
       "version_major": 2,
       "version_minor": 0
      },
      "text/plain": [
       "Validating: 0it [00:00, ?it/s]"
      ]
     },
     "metadata": {},
     "output_type": "display_data"
    },
    {
     "data": {
      "application/vnd.jupyter.widget-view+json": {
       "model_id": "493394ee874543c4bc408ef3a2c77dde",
       "version_major": 2,
       "version_minor": 0
      },
      "text/plain": [
       "Validating: 0it [00:00, ?it/s]"
      ]
     },
     "metadata": {},
     "output_type": "display_data"
    },
    {
     "data": {
      "application/vnd.jupyter.widget-view+json": {
       "model_id": "5e5fadb9de3c4da7be4e5ebb19c27193",
       "version_major": 2,
       "version_minor": 0
      },
      "text/plain": [
       "Validating: 0it [00:00, ?it/s]"
      ]
     },
     "metadata": {},
     "output_type": "display_data"
    },
    {
     "data": {
      "application/vnd.jupyter.widget-view+json": {
       "model_id": "26dbadd2c7414117b4da055c4f6670ac",
       "version_major": 2,
       "version_minor": 0
      },
      "text/plain": [
       "Validating: 0it [00:00, ?it/s]"
      ]
     },
     "metadata": {},
     "output_type": "display_data"
    },
    {
     "data": {
      "application/vnd.jupyter.widget-view+json": {
       "model_id": "ca6bd525487c4f5f87d4dab6d113c95a",
       "version_major": 2,
       "version_minor": 0
      },
      "text/plain": [
       "Validating: 0it [00:00, ?it/s]"
      ]
     },
     "metadata": {},
     "output_type": "display_data"
    },
    {
     "data": {
      "application/vnd.jupyter.widget-view+json": {
       "model_id": "7a73490338f945b182f9038f4d334f96",
       "version_major": 2,
       "version_minor": 0
      },
      "text/plain": [
       "Validating: 0it [00:00, ?it/s]"
      ]
     },
     "metadata": {},
     "output_type": "display_data"
    },
    {
     "data": {
      "application/vnd.jupyter.widget-view+json": {
       "model_id": "55eb19fca8a44bd1bdd7a210a06e3450",
       "version_major": 2,
       "version_minor": 0
      },
      "text/plain": [
       "Validating: 0it [00:00, ?it/s]"
      ]
     },
     "metadata": {},
     "output_type": "display_data"
    },
    {
     "data": {
      "application/vnd.jupyter.widget-view+json": {
       "model_id": "988fe5ac77f2452185c4756ded0ede1e",
       "version_major": 2,
       "version_minor": 0
      },
      "text/plain": [
       "Validating: 0it [00:00, ?it/s]"
      ]
     },
     "metadata": {},
     "output_type": "display_data"
    },
    {
     "data": {
      "application/vnd.jupyter.widget-view+json": {
       "model_id": "6cc12c6aa575441f839cbbe44b27b0fd",
       "version_major": 2,
       "version_minor": 0
      },
      "text/plain": [
       "Validating: 0it [00:00, ?it/s]"
      ]
     },
     "metadata": {},
     "output_type": "display_data"
    },
    {
     "data": {
      "application/vnd.jupyter.widget-view+json": {
       "model_id": "c08200dbe8ef4e11b1658b6a31fd518b",
       "version_major": 2,
       "version_minor": 0
      },
      "text/plain": [
       "Validating: 0it [00:00, ?it/s]"
      ]
     },
     "metadata": {},
     "output_type": "display_data"
    },
    {
     "data": {
      "application/vnd.jupyter.widget-view+json": {
       "model_id": "89750f385920473599518a296afac9b2",
       "version_major": 2,
       "version_minor": 0
      },
      "text/plain": [
       "Validating: 0it [00:00, ?it/s]"
      ]
     },
     "metadata": {},
     "output_type": "display_data"
    },
    {
     "data": {
      "application/vnd.jupyter.widget-view+json": {
       "model_id": "6f0590565b82440982f00b1f03e6e1da",
       "version_major": 2,
       "version_minor": 0
      },
      "text/plain": [
       "Validating: 0it [00:00, ?it/s]"
      ]
     },
     "metadata": {},
     "output_type": "display_data"
    },
    {
     "data": {
      "application/vnd.jupyter.widget-view+json": {
       "model_id": "f6b506f7b63c4e989ca442b0fdf97222",
       "version_major": 2,
       "version_minor": 0
      },
      "text/plain": [
       "Validating: 0it [00:00, ?it/s]"
      ]
     },
     "metadata": {},
     "output_type": "display_data"
    },
    {
     "data": {
      "application/vnd.jupyter.widget-view+json": {
       "model_id": "dc92c937061540ce89bbe68b7487d60c",
       "version_major": 2,
       "version_minor": 0
      },
      "text/plain": [
       "Validating: 0it [00:00, ?it/s]"
      ]
     },
     "metadata": {},
     "output_type": "display_data"
    },
    {
     "data": {
      "application/vnd.jupyter.widget-view+json": {
       "model_id": "0ae816551e5140ecb204dd187d98b912",
       "version_major": 2,
       "version_minor": 0
      },
      "text/plain": [
       "Validating: 0it [00:00, ?it/s]"
      ]
     },
     "metadata": {},
     "output_type": "display_data"
    },
    {
     "data": {
      "application/vnd.jupyter.widget-view+json": {
       "model_id": "3baf4ecb5e4b4815b7385bf6ddfb4bcf",
       "version_major": 2,
       "version_minor": 0
      },
      "text/plain": [
       "Validating: 0it [00:00, ?it/s]"
      ]
     },
     "metadata": {},
     "output_type": "display_data"
    },
    {
     "data": {
      "application/vnd.jupyter.widget-view+json": {
       "model_id": "4e2a620a0ebb4be591494c084e41bf77",
       "version_major": 2,
       "version_minor": 0
      },
      "text/plain": [
       "Validating: 0it [00:00, ?it/s]"
      ]
     },
     "metadata": {},
     "output_type": "display_data"
    },
    {
     "data": {
      "application/vnd.jupyter.widget-view+json": {
       "model_id": "6377416ac6154dd5950893877d61bc9b",
       "version_major": 2,
       "version_minor": 0
      },
      "text/plain": [
       "Validating: 0it [00:00, ?it/s]"
      ]
     },
     "metadata": {},
     "output_type": "display_data"
    },
    {
     "data": {
      "application/vnd.jupyter.widget-view+json": {
       "model_id": "7f6d4e43af2c4e2fbc65cfa9bfc81e49",
       "version_major": 2,
       "version_minor": 0
      },
      "text/plain": [
       "Validating: 0it [00:00, ?it/s]"
      ]
     },
     "metadata": {},
     "output_type": "display_data"
    },
    {
     "data": {
      "application/vnd.jupyter.widget-view+json": {
       "model_id": "d5f5ee9cd86a4337bab9deec07a42c8e",
       "version_major": 2,
       "version_minor": 0
      },
      "text/plain": [
       "Validating: 0it [00:00, ?it/s]"
      ]
     },
     "metadata": {},
     "output_type": "display_data"
    },
    {
     "data": {
      "application/vnd.jupyter.widget-view+json": {
       "model_id": "701d7920c03f46dab8671d1efdc53a0a",
       "version_major": 2,
       "version_minor": 0
      },
      "text/plain": [
       "Validating: 0it [00:00, ?it/s]"
      ]
     },
     "metadata": {},
     "output_type": "display_data"
    },
    {
     "data": {
      "application/vnd.jupyter.widget-view+json": {
       "model_id": "aae517bcef51493db0456482df63dfc3",
       "version_major": 2,
       "version_minor": 0
      },
      "text/plain": [
       "Validating: 0it [00:00, ?it/s]"
      ]
     },
     "metadata": {},
     "output_type": "display_data"
    },
    {
     "data": {
      "application/vnd.jupyter.widget-view+json": {
       "model_id": "a45ef1c86e674b469de24c6121ec45d4",
       "version_major": 2,
       "version_minor": 0
      },
      "text/plain": [
       "Validating: 0it [00:00, ?it/s]"
      ]
     },
     "metadata": {},
     "output_type": "display_data"
    },
    {
     "data": {
      "application/vnd.jupyter.widget-view+json": {
       "model_id": "41a7e2becb874ba79ec95e1ac4514c75",
       "version_major": 2,
       "version_minor": 0
      },
      "text/plain": [
       "Validating: 0it [00:00, ?it/s]"
      ]
     },
     "metadata": {},
     "output_type": "display_data"
    },
    {
     "data": {
      "application/vnd.jupyter.widget-view+json": {
       "model_id": "51d6b04d09b8499b9b05f986aef06011",
       "version_major": 2,
       "version_minor": 0
      },
      "text/plain": [
       "Validating: 0it [00:00, ?it/s]"
      ]
     },
     "metadata": {},
     "output_type": "display_data"
    },
    {
     "data": {
      "application/vnd.jupyter.widget-view+json": {
       "model_id": "4273428f00624b68a8be1106381eddfd",
       "version_major": 2,
       "version_minor": 0
      },
      "text/plain": [
       "Validating: 0it [00:00, ?it/s]"
      ]
     },
     "metadata": {},
     "output_type": "display_data"
    },
    {
     "data": {
      "application/vnd.jupyter.widget-view+json": {
       "model_id": "951775589629475abf127a3a851a7a46",
       "version_major": 2,
       "version_minor": 0
      },
      "text/plain": [
       "Validating: 0it [00:00, ?it/s]"
      ]
     },
     "metadata": {},
     "output_type": "display_data"
    },
    {
     "data": {
      "application/vnd.jupyter.widget-view+json": {
       "model_id": "63bbba275162486f90516f2c64659054",
       "version_major": 2,
       "version_minor": 0
      },
      "text/plain": [
       "Validating: 0it [00:00, ?it/s]"
      ]
     },
     "metadata": {},
     "output_type": "display_data"
    },
    {
     "data": {
      "application/vnd.jupyter.widget-view+json": {
       "model_id": "5f5333871ff54ea0bc0d8c6bbd9d4d02",
       "version_major": 2,
       "version_minor": 0
      },
      "text/plain": [
       "Validating: 0it [00:00, ?it/s]"
      ]
     },
     "metadata": {},
     "output_type": "display_data"
    },
    {
     "data": {
      "application/vnd.jupyter.widget-view+json": {
       "model_id": "6f66048eba1545fb9833b069ebf48a0b",
       "version_major": 2,
       "version_minor": 0
      },
      "text/plain": [
       "Validating: 0it [00:00, ?it/s]"
      ]
     },
     "metadata": {},
     "output_type": "display_data"
    },
    {
     "data": {
      "application/vnd.jupyter.widget-view+json": {
       "model_id": "f895e9ba3dec42dba2418a9d2a09db97",
       "version_major": 2,
       "version_minor": 0
      },
      "text/plain": [
       "Validating: 0it [00:00, ?it/s]"
      ]
     },
     "metadata": {},
     "output_type": "display_data"
    },
    {
     "data": {
      "application/vnd.jupyter.widget-view+json": {
       "model_id": "4f06dbed4dfd4fa389b265844c39bc92",
       "version_major": 2,
       "version_minor": 0
      },
      "text/plain": [
       "Validating: 0it [00:00, ?it/s]"
      ]
     },
     "metadata": {},
     "output_type": "display_data"
    },
    {
     "data": {
      "application/vnd.jupyter.widget-view+json": {
       "model_id": "25773a51ef9c4d98bf74fe31d7ce4309",
       "version_major": 2,
       "version_minor": 0
      },
      "text/plain": [
       "Validating: 0it [00:00, ?it/s]"
      ]
     },
     "metadata": {},
     "output_type": "display_data"
    },
    {
     "data": {
      "application/vnd.jupyter.widget-view+json": {
       "model_id": "7eed5e3d723440a1a47611ffa9d3d791",
       "version_major": 2,
       "version_minor": 0
      },
      "text/plain": [
       "Validating: 0it [00:00, ?it/s]"
      ]
     },
     "metadata": {},
     "output_type": "display_data"
    },
    {
     "data": {
      "application/vnd.jupyter.widget-view+json": {
       "model_id": "386577eafed44f698b0f85d34c7a9d9a",
       "version_major": 2,
       "version_minor": 0
      },
      "text/plain": [
       "Validating: 0it [00:00, ?it/s]"
      ]
     },
     "metadata": {},
     "output_type": "display_data"
    },
    {
     "data": {
      "application/vnd.jupyter.widget-view+json": {
       "model_id": "2af4788c417e496596df4413ee81b5e9",
       "version_major": 2,
       "version_minor": 0
      },
      "text/plain": [
       "Validating: 0it [00:00, ?it/s]"
      ]
     },
     "metadata": {},
     "output_type": "display_data"
    },
    {
     "data": {
      "application/vnd.jupyter.widget-view+json": {
       "model_id": "72d5a49c3cfe474bb10e1af781f38865",
       "version_major": 2,
       "version_minor": 0
      },
      "text/plain": [
       "Validating: 0it [00:00, ?it/s]"
      ]
     },
     "metadata": {},
     "output_type": "display_data"
    },
    {
     "data": {
      "application/vnd.jupyter.widget-view+json": {
       "model_id": "a1551afa32be47fa89bf8e6d5120d833",
       "version_major": 2,
       "version_minor": 0
      },
      "text/plain": [
       "Validating: 0it [00:00, ?it/s]"
      ]
     },
     "metadata": {},
     "output_type": "display_data"
    },
    {
     "data": {
      "application/vnd.jupyter.widget-view+json": {
       "model_id": "28af7e13b22045cf874e33683ec10645",
       "version_major": 2,
       "version_minor": 0
      },
      "text/plain": [
       "Validating: 0it [00:00, ?it/s]"
      ]
     },
     "metadata": {},
     "output_type": "display_data"
    },
    {
     "data": {
      "application/vnd.jupyter.widget-view+json": {
       "model_id": "0bfa47aa0fdc46c99dae4b8fec093bfd",
       "version_major": 2,
       "version_minor": 0
      },
      "text/plain": [
       "Validating: 0it [00:00, ?it/s]"
      ]
     },
     "metadata": {},
     "output_type": "display_data"
    },
    {
     "data": {
      "application/vnd.jupyter.widget-view+json": {
       "model_id": "bfb8b994f0304f0abde7efa3e47fdc42",
       "version_major": 2,
       "version_minor": 0
      },
      "text/plain": [
       "Validating: 0it [00:00, ?it/s]"
      ]
     },
     "metadata": {},
     "output_type": "display_data"
    },
    {
     "data": {
      "application/vnd.jupyter.widget-view+json": {
       "model_id": "7acc7706f1d34d56ad1699a9b0054cc0",
       "version_major": 2,
       "version_minor": 0
      },
      "text/plain": [
       "Validating: 0it [00:00, ?it/s]"
      ]
     },
     "metadata": {},
     "output_type": "display_data"
    },
    {
     "data": {
      "application/vnd.jupyter.widget-view+json": {
       "model_id": "21b81e4facf84a1c9199a0facd235a3a",
       "version_major": 2,
       "version_minor": 0
      },
      "text/plain": [
       "Validating: 0it [00:00, ?it/s]"
      ]
     },
     "metadata": {},
     "output_type": "display_data"
    },
    {
     "data": {
      "application/vnd.jupyter.widget-view+json": {
       "model_id": "55da6c37d352406fad9ffce539abd1c3",
       "version_major": 2,
       "version_minor": 0
      },
      "text/plain": [
       "Validating: 0it [00:00, ?it/s]"
      ]
     },
     "metadata": {},
     "output_type": "display_data"
    },
    {
     "data": {
      "application/vnd.jupyter.widget-view+json": {
       "model_id": "13b4c74629e742fca3416a92b506f84b",
       "version_major": 2,
       "version_minor": 0
      },
      "text/plain": [
       "Validating: 0it [00:00, ?it/s]"
      ]
     },
     "metadata": {},
     "output_type": "display_data"
    },
    {
     "data": {
      "application/vnd.jupyter.widget-view+json": {
       "model_id": "a35a348dccce4398bb7bfbb64c546a0f",
       "version_major": 2,
       "version_minor": 0
      },
      "text/plain": [
       "Validating: 0it [00:00, ?it/s]"
      ]
     },
     "metadata": {},
     "output_type": "display_data"
    },
    {
     "data": {
      "application/vnd.jupyter.widget-view+json": {
       "model_id": "e4019ec3f59d42988452c11db28fc148",
       "version_major": 2,
       "version_minor": 0
      },
      "text/plain": [
       "Validating: 0it [00:00, ?it/s]"
      ]
     },
     "metadata": {},
     "output_type": "display_data"
    },
    {
     "data": {
      "application/vnd.jupyter.widget-view+json": {
       "model_id": "3fe54fe419da44beb43de6295a4e4578",
       "version_major": 2,
       "version_minor": 0
      },
      "text/plain": [
       "Validating: 0it [00:00, ?it/s]"
      ]
     },
     "metadata": {},
     "output_type": "display_data"
    },
    {
     "data": {
      "application/vnd.jupyter.widget-view+json": {
       "model_id": "27922b8126c0404e9cc76a65b903c57e",
       "version_major": 2,
       "version_minor": 0
      },
      "text/plain": [
       "Validating: 0it [00:00, ?it/s]"
      ]
     },
     "metadata": {},
     "output_type": "display_data"
    },
    {
     "data": {
      "application/vnd.jupyter.widget-view+json": {
       "model_id": "36353846b42a4ddab8bb71bfe0e59f9f",
       "version_major": 2,
       "version_minor": 0
      },
      "text/plain": [
       "Validating: 0it [00:00, ?it/s]"
      ]
     },
     "metadata": {},
     "output_type": "display_data"
    },
    {
     "data": {
      "application/vnd.jupyter.widget-view+json": {
       "model_id": "7bd3c7e68b2d440a810b6854e7438183",
       "version_major": 2,
       "version_minor": 0
      },
      "text/plain": [
       "Validating: 0it [00:00, ?it/s]"
      ]
     },
     "metadata": {},
     "output_type": "display_data"
    },
    {
     "data": {
      "application/vnd.jupyter.widget-view+json": {
       "model_id": "d058334718974c79a8b0cc2500de9396",
       "version_major": 2,
       "version_minor": 0
      },
      "text/plain": [
       "Validating: 0it [00:00, ?it/s]"
      ]
     },
     "metadata": {},
     "output_type": "display_data"
    },
    {
     "data": {
      "application/vnd.jupyter.widget-view+json": {
       "model_id": "0e355dade7e04aa9aeb2ce32e18c07d5",
       "version_major": 2,
       "version_minor": 0
      },
      "text/plain": [
       "Validating: 0it [00:00, ?it/s]"
      ]
     },
     "metadata": {},
     "output_type": "display_data"
    },
    {
     "data": {
      "application/vnd.jupyter.widget-view+json": {
       "model_id": "8bc9f72dffca446885a20419684773aa",
       "version_major": 2,
       "version_minor": 0
      },
      "text/plain": [
       "Validating: 0it [00:00, ?it/s]"
      ]
     },
     "metadata": {},
     "output_type": "display_data"
    },
    {
     "data": {
      "application/vnd.jupyter.widget-view+json": {
       "model_id": "0c11761d48634c0aa3c26d7ae425dc0c",
       "version_major": 2,
       "version_minor": 0
      },
      "text/plain": [
       "Validating: 0it [00:00, ?it/s]"
      ]
     },
     "metadata": {},
     "output_type": "display_data"
    },
    {
     "data": {
      "application/vnd.jupyter.widget-view+json": {
       "model_id": "a160ec9811f54637a2fff26efc89e747",
       "version_major": 2,
       "version_minor": 0
      },
      "text/plain": [
       "Validating: 0it [00:00, ?it/s]"
      ]
     },
     "metadata": {},
     "output_type": "display_data"
    },
    {
     "data": {
      "application/vnd.jupyter.widget-view+json": {
       "model_id": "9ab3887612b446c3854518335ec13982",
       "version_major": 2,
       "version_minor": 0
      },
      "text/plain": [
       "Validating: 0it [00:00, ?it/s]"
      ]
     },
     "metadata": {},
     "output_type": "display_data"
    },
    {
     "data": {
      "application/vnd.jupyter.widget-view+json": {
       "model_id": "d9186a96dc4748d89fedc851468ca5f1",
       "version_major": 2,
       "version_minor": 0
      },
      "text/plain": [
       "Validating: 0it [00:00, ?it/s]"
      ]
     },
     "metadata": {},
     "output_type": "display_data"
    },
    {
     "data": {
      "application/vnd.jupyter.widget-view+json": {
       "model_id": "8c96a50803d04ce88ccc4d9a009625eb",
       "version_major": 2,
       "version_minor": 0
      },
      "text/plain": [
       "Validating: 0it [00:00, ?it/s]"
      ]
     },
     "metadata": {},
     "output_type": "display_data"
    },
    {
     "data": {
      "application/vnd.jupyter.widget-view+json": {
       "model_id": "52a17e05baba4446870c07d0932c7019",
       "version_major": 2,
       "version_minor": 0
      },
      "text/plain": [
       "Validating: 0it [00:00, ?it/s]"
      ]
     },
     "metadata": {},
     "output_type": "display_data"
    },
    {
     "data": {
      "application/vnd.jupyter.widget-view+json": {
       "model_id": "1e9b520bbb6343c99bb01af72410cdda",
       "version_major": 2,
       "version_minor": 0
      },
      "text/plain": [
       "Validating: 0it [00:00, ?it/s]"
      ]
     },
     "metadata": {},
     "output_type": "display_data"
    },
    {
     "data": {
      "application/vnd.jupyter.widget-view+json": {
       "model_id": "5e2d73c760594578bf5fc27fa9b98aa8",
       "version_major": 2,
       "version_minor": 0
      },
      "text/plain": [
       "Validating: 0it [00:00, ?it/s]"
      ]
     },
     "metadata": {},
     "output_type": "display_data"
    },
    {
     "data": {
      "application/vnd.jupyter.widget-view+json": {
       "model_id": "e682212b66004f5ab091e390dd073495",
       "version_major": 2,
       "version_minor": 0
      },
      "text/plain": [
       "Validating: 0it [00:00, ?it/s]"
      ]
     },
     "metadata": {},
     "output_type": "display_data"
    },
    {
     "data": {
      "application/vnd.jupyter.widget-view+json": {
       "model_id": "e10fc1c574b849e694aefa80af221b26",
       "version_major": 2,
       "version_minor": 0
      },
      "text/plain": [
       "Validating: 0it [00:00, ?it/s]"
      ]
     },
     "metadata": {},
     "output_type": "display_data"
    },
    {
     "data": {
      "application/vnd.jupyter.widget-view+json": {
       "model_id": "736207cf0874412188b171de6e6d4658",
       "version_major": 2,
       "version_minor": 0
      },
      "text/plain": [
       "Validating: 0it [00:00, ?it/s]"
      ]
     },
     "metadata": {},
     "output_type": "display_data"
    },
    {
     "data": {
      "application/vnd.jupyter.widget-view+json": {
       "model_id": "d9f93dafee7e41b09ce2e9b61f51ca2f",
       "version_major": 2,
       "version_minor": 0
      },
      "text/plain": [
       "Validating: 0it [00:00, ?it/s]"
      ]
     },
     "metadata": {},
     "output_type": "display_data"
    },
    {
     "data": {
      "application/vnd.jupyter.widget-view+json": {
       "model_id": "694c53c2d9a44012b61d35958c2e539f",
       "version_major": 2,
       "version_minor": 0
      },
      "text/plain": [
       "Validating: 0it [00:00, ?it/s]"
      ]
     },
     "metadata": {},
     "output_type": "display_data"
    },
    {
     "data": {
      "application/vnd.jupyter.widget-view+json": {
       "model_id": "ca170968afe94186be9c9b2c0260a9d4",
       "version_major": 2,
       "version_minor": 0
      },
      "text/plain": [
       "Validating: 0it [00:00, ?it/s]"
      ]
     },
     "metadata": {},
     "output_type": "display_data"
    },
    {
     "data": {
      "application/vnd.jupyter.widget-view+json": {
       "model_id": "70713f0bc3384f88a916868d54993fb3",
       "version_major": 2,
       "version_minor": 0
      },
      "text/plain": [
       "Validating: 0it [00:00, ?it/s]"
      ]
     },
     "metadata": {},
     "output_type": "display_data"
    },
    {
     "data": {
      "application/vnd.jupyter.widget-view+json": {
       "model_id": "ef891edfbefc4d7e9f1a16083f1462c5",
       "version_major": 2,
       "version_minor": 0
      },
      "text/plain": [
       "Validating: 0it [00:00, ?it/s]"
      ]
     },
     "metadata": {},
     "output_type": "display_data"
    },
    {
     "data": {
      "application/vnd.jupyter.widget-view+json": {
       "model_id": "11caad71bd024893b0c0622f05314009",
       "version_major": 2,
       "version_minor": 0
      },
      "text/plain": [
       "Validating: 0it [00:00, ?it/s]"
      ]
     },
     "metadata": {},
     "output_type": "display_data"
    },
    {
     "data": {
      "application/vnd.jupyter.widget-view+json": {
       "model_id": "7eacf733567b41d7ba0bc765d57395ea",
       "version_major": 2,
       "version_minor": 0
      },
      "text/plain": [
       "Validating: 0it [00:00, ?it/s]"
      ]
     },
     "metadata": {},
     "output_type": "display_data"
    },
    {
     "data": {
      "application/vnd.jupyter.widget-view+json": {
       "model_id": "5eee3582d1784398a9357d4a0e29c4d5",
       "version_major": 2,
       "version_minor": 0
      },
      "text/plain": [
       "Validating: 0it [00:00, ?it/s]"
      ]
     },
     "metadata": {},
     "output_type": "display_data"
    },
    {
     "data": {
      "application/vnd.jupyter.widget-view+json": {
       "model_id": "39eeb2ea947d4121aaa2033920444f3d",
       "version_major": 2,
       "version_minor": 0
      },
      "text/plain": [
       "Validating: 0it [00:00, ?it/s]"
      ]
     },
     "metadata": {},
     "output_type": "display_data"
    },
    {
     "data": {
      "application/vnd.jupyter.widget-view+json": {
       "model_id": "15f16709ab0541e386d45aabc52c85aa",
       "version_major": 2,
       "version_minor": 0
      },
      "text/plain": [
       "Validating: 0it [00:00, ?it/s]"
      ]
     },
     "metadata": {},
     "output_type": "display_data"
    },
    {
     "data": {
      "application/vnd.jupyter.widget-view+json": {
       "model_id": "11a1d4e948da494382ab70deb3dcecd7",
       "version_major": 2,
       "version_minor": 0
      },
      "text/plain": [
       "Validating: 0it [00:00, ?it/s]"
      ]
     },
     "metadata": {},
     "output_type": "display_data"
    },
    {
     "data": {
      "application/vnd.jupyter.widget-view+json": {
       "model_id": "c8f81dde705b49a6ad65fca789ab3655",
       "version_major": 2,
       "version_minor": 0
      },
      "text/plain": [
       "Validating: 0it [00:00, ?it/s]"
      ]
     },
     "metadata": {},
     "output_type": "display_data"
    },
    {
     "data": {
      "application/vnd.jupyter.widget-view+json": {
       "model_id": "e2e8b3b40a9345f18e1a849e63416f9c",
       "version_major": 2,
       "version_minor": 0
      },
      "text/plain": [
       "Validating: 0it [00:00, ?it/s]"
      ]
     },
     "metadata": {},
     "output_type": "display_data"
    },
    {
     "data": {
      "application/vnd.jupyter.widget-view+json": {
       "model_id": "6869307155234b9c9d17f3499c9c9ade",
       "version_major": 2,
       "version_minor": 0
      },
      "text/plain": [
       "Validating: 0it [00:00, ?it/s]"
      ]
     },
     "metadata": {},
     "output_type": "display_data"
    },
    {
     "data": {
      "application/vnd.jupyter.widget-view+json": {
       "model_id": "930a276fcccc404bb6d222aefa41096e",
       "version_major": 2,
       "version_minor": 0
      },
      "text/plain": [
       "Validating: 0it [00:00, ?it/s]"
      ]
     },
     "metadata": {},
     "output_type": "display_data"
    },
    {
     "data": {
      "application/vnd.jupyter.widget-view+json": {
       "model_id": "b9ded364fdb74dcda00405ecf28c3157",
       "version_major": 2,
       "version_minor": 0
      },
      "text/plain": [
       "Validating: 0it [00:00, ?it/s]"
      ]
     },
     "metadata": {},
     "output_type": "display_data"
    },
    {
     "data": {
      "application/vnd.jupyter.widget-view+json": {
       "model_id": "7cbf4d163e1d4e26bdf933ac3e9e53a5",
       "version_major": 2,
       "version_minor": 0
      },
      "text/plain": [
       "Validating: 0it [00:00, ?it/s]"
      ]
     },
     "metadata": {},
     "output_type": "display_data"
    },
    {
     "data": {
      "application/vnd.jupyter.widget-view+json": {
       "model_id": "23f6e3518d1b46728cad64aed269cb6e",
       "version_major": 2,
       "version_minor": 0
      },
      "text/plain": [
       "Validating: 0it [00:00, ?it/s]"
      ]
     },
     "metadata": {},
     "output_type": "display_data"
    },
    {
     "data": {
      "application/vnd.jupyter.widget-view+json": {
       "model_id": "08fd0e0ed3ca46aab0c2c333a1b04ac2",
       "version_major": 2,
       "version_minor": 0
      },
      "text/plain": [
       "Validating: 0it [00:00, ?it/s]"
      ]
     },
     "metadata": {},
     "output_type": "display_data"
    },
    {
     "data": {
      "application/vnd.jupyter.widget-view+json": {
       "model_id": "ceb8fe80dc234b238c679e418998f5f3",
       "version_major": 2,
       "version_minor": 0
      },
      "text/plain": [
       "Validating: 0it [00:00, ?it/s]"
      ]
     },
     "metadata": {},
     "output_type": "display_data"
    },
    {
     "data": {
      "application/vnd.jupyter.widget-view+json": {
       "model_id": "0d3132d9369342a1ab112ed46d6b5368",
       "version_major": 2,
       "version_minor": 0
      },
      "text/plain": [
       "Validating: 0it [00:00, ?it/s]"
      ]
     },
     "metadata": {},
     "output_type": "display_data"
    },
    {
     "data": {
      "application/vnd.jupyter.widget-view+json": {
       "model_id": "8ff9c84cbc2f4a28950aa6778a3197e6",
       "version_major": 2,
       "version_minor": 0
      },
      "text/plain": [
       "Validating: 0it [00:00, ?it/s]"
      ]
     },
     "metadata": {},
     "output_type": "display_data"
    },
    {
     "data": {
      "application/vnd.jupyter.widget-view+json": {
       "model_id": "2040f1c7cd04441f98e4f21ec9690597",
       "version_major": 2,
       "version_minor": 0
      },
      "text/plain": [
       "Validating: 0it [00:00, ?it/s]"
      ]
     },
     "metadata": {},
     "output_type": "display_data"
    },
    {
     "data": {
      "application/vnd.jupyter.widget-view+json": {
       "model_id": "b4e40a16661a404fb554453aba0cebbd",
       "version_major": 2,
       "version_minor": 0
      },
      "text/plain": [
       "Validating: 0it [00:00, ?it/s]"
      ]
     },
     "metadata": {},
     "output_type": "display_data"
    },
    {
     "data": {
      "application/vnd.jupyter.widget-view+json": {
       "model_id": "d4da479573f94899a7c6f793b042705e",
       "version_major": 2,
       "version_minor": 0
      },
      "text/plain": [
       "Validating: 0it [00:00, ?it/s]"
      ]
     },
     "metadata": {},
     "output_type": "display_data"
    },
    {
     "data": {
      "application/vnd.jupyter.widget-view+json": {
       "model_id": "e1d08dec45134b0ba9709ae0d24bc3fb",
       "version_major": 2,
       "version_minor": 0
      },
      "text/plain": [
       "Validating: 0it [00:00, ?it/s]"
      ]
     },
     "metadata": {},
     "output_type": "display_data"
    },
    {
     "data": {
      "application/vnd.jupyter.widget-view+json": {
       "model_id": "457052565dd24acd9df784c283f4ee75",
       "version_major": 2,
       "version_minor": 0
      },
      "text/plain": [
       "Validating: 0it [00:00, ?it/s]"
      ]
     },
     "metadata": {},
     "output_type": "display_data"
    },
    {
     "data": {
      "application/vnd.jupyter.widget-view+json": {
       "model_id": "ae36749800fa488b92b47d10dfb06e97",
       "version_major": 2,
       "version_minor": 0
      },
      "text/plain": [
       "Validating: 0it [00:00, ?it/s]"
      ]
     },
     "metadata": {},
     "output_type": "display_data"
    },
    {
     "data": {
      "application/vnd.jupyter.widget-view+json": {
       "model_id": "7ce4485e4bda49128fc8b15148cc5787",
       "version_major": 2,
       "version_minor": 0
      },
      "text/plain": [
       "Validating: 0it [00:00, ?it/s]"
      ]
     },
     "metadata": {},
     "output_type": "display_data"
    },
    {
     "data": {
      "application/vnd.jupyter.widget-view+json": {
       "model_id": "7681d71244974048bfdfd6626bf81980",
       "version_major": 2,
       "version_minor": 0
      },
      "text/plain": [
       "Validating: 0it [00:00, ?it/s]"
      ]
     },
     "metadata": {},
     "output_type": "display_data"
    },
    {
     "data": {
      "application/vnd.jupyter.widget-view+json": {
       "model_id": "a40199b87f8244c1b496e1d29d3c6f57",
       "version_major": 2,
       "version_minor": 0
      },
      "text/plain": [
       "Validating: 0it [00:00, ?it/s]"
      ]
     },
     "metadata": {},
     "output_type": "display_data"
    },
    {
     "data": {
      "application/vnd.jupyter.widget-view+json": {
       "model_id": "fe8f834b70a84895bbdd20834b237f8b",
       "version_major": 2,
       "version_minor": 0
      },
      "text/plain": [
       "Validating: 0it [00:00, ?it/s]"
      ]
     },
     "metadata": {},
     "output_type": "display_data"
    },
    {
     "data": {
      "application/vnd.jupyter.widget-view+json": {
       "model_id": "921abe2adfc64fe19b24303da1b640a5",
       "version_major": 2,
       "version_minor": 0
      },
      "text/plain": [
       "Validating: 0it [00:00, ?it/s]"
      ]
     },
     "metadata": {},
     "output_type": "display_data"
    },
    {
     "data": {
      "application/vnd.jupyter.widget-view+json": {
       "model_id": "0717efe2bfcd43b780470af4fc2d8e17",
       "version_major": 2,
       "version_minor": 0
      },
      "text/plain": [
       "Validating: 0it [00:00, ?it/s]"
      ]
     },
     "metadata": {},
     "output_type": "display_data"
    },
    {
     "data": {
      "application/vnd.jupyter.widget-view+json": {
       "model_id": "b33cd3cc0c61449c8bd66b7f7cc73280",
       "version_major": 2,
       "version_minor": 0
      },
      "text/plain": [
       "Validating: 0it [00:00, ?it/s]"
      ]
     },
     "metadata": {},
     "output_type": "display_data"
    },
    {
     "data": {
      "application/vnd.jupyter.widget-view+json": {
       "model_id": "056d5c8311c34f359aff028ca1758a40",
       "version_major": 2,
       "version_minor": 0
      },
      "text/plain": [
       "Validating: 0it [00:00, ?it/s]"
      ]
     },
     "metadata": {},
     "output_type": "display_data"
    },
    {
     "data": {
      "application/vnd.jupyter.widget-view+json": {
       "model_id": "a7c0cfa196254fb796f19c244eeca8bf",
       "version_major": 2,
       "version_minor": 0
      },
      "text/plain": [
       "Validating: 0it [00:00, ?it/s]"
      ]
     },
     "metadata": {},
     "output_type": "display_data"
    },
    {
     "data": {
      "application/vnd.jupyter.widget-view+json": {
       "model_id": "50a4e0ec86594aa5a7e46bbb19328049",
       "version_major": 2,
       "version_minor": 0
      },
      "text/plain": [
       "Validating: 0it [00:00, ?it/s]"
      ]
     },
     "metadata": {},
     "output_type": "display_data"
    },
    {
     "data": {
      "application/vnd.jupyter.widget-view+json": {
       "model_id": "890217212d6347bb95d42e0fcc6572e5",
       "version_major": 2,
       "version_minor": 0
      },
      "text/plain": [
       "Validating: 0it [00:00, ?it/s]"
      ]
     },
     "metadata": {},
     "output_type": "display_data"
    },
    {
     "data": {
      "application/vnd.jupyter.widget-view+json": {
       "model_id": "7b0fcfc748ba47eba3195da785cd0151",
       "version_major": 2,
       "version_minor": 0
      },
      "text/plain": [
       "Validating: 0it [00:00, ?it/s]"
      ]
     },
     "metadata": {},
     "output_type": "display_data"
    },
    {
     "data": {
      "application/vnd.jupyter.widget-view+json": {
       "model_id": "93001f0a33644b1e959ca8cf7638ad85",
       "version_major": 2,
       "version_minor": 0
      },
      "text/plain": [
       "Validating: 0it [00:00, ?it/s]"
      ]
     },
     "metadata": {},
     "output_type": "display_data"
    },
    {
     "data": {
      "application/vnd.jupyter.widget-view+json": {
       "model_id": "2add3c08828f44d8b742675d618477aa",
       "version_major": 2,
       "version_minor": 0
      },
      "text/plain": [
       "Validating: 0it [00:00, ?it/s]"
      ]
     },
     "metadata": {},
     "output_type": "display_data"
    },
    {
     "data": {
      "application/vnd.jupyter.widget-view+json": {
       "model_id": "f5f548f869cd45609d8d2ba85660c4f3",
       "version_major": 2,
       "version_minor": 0
      },
      "text/plain": [
       "Validating: 0it [00:00, ?it/s]"
      ]
     },
     "metadata": {},
     "output_type": "display_data"
    },
    {
     "data": {
      "application/vnd.jupyter.widget-view+json": {
       "model_id": "6a1ee925eded4767992fa5746c80c6b0",
       "version_major": 2,
       "version_minor": 0
      },
      "text/plain": [
       "Validating: 0it [00:00, ?it/s]"
      ]
     },
     "metadata": {},
     "output_type": "display_data"
    },
    {
     "data": {
      "application/vnd.jupyter.widget-view+json": {
       "model_id": "8e2bbfb7574d4e00a7bd15d70f238f97",
       "version_major": 2,
       "version_minor": 0
      },
      "text/plain": [
       "Validating: 0it [00:00, ?it/s]"
      ]
     },
     "metadata": {},
     "output_type": "display_data"
    },
    {
     "data": {
      "application/vnd.jupyter.widget-view+json": {
       "model_id": "a7ab4bd3c34b480a8f687dd01063271d",
       "version_major": 2,
       "version_minor": 0
      },
      "text/plain": [
       "Validating: 0it [00:00, ?it/s]"
      ]
     },
     "metadata": {},
     "output_type": "display_data"
    },
    {
     "data": {
      "application/vnd.jupyter.widget-view+json": {
       "model_id": "e486ca56cc074be98a055623d262f8b1",
       "version_major": 2,
       "version_minor": 0
      },
      "text/plain": [
       "Validating: 0it [00:00, ?it/s]"
      ]
     },
     "metadata": {},
     "output_type": "display_data"
    },
    {
     "data": {
      "application/vnd.jupyter.widget-view+json": {
       "model_id": "1026ecd127b84342b259e060738ffc75",
       "version_major": 2,
       "version_minor": 0
      },
      "text/plain": [
       "Validating: 0it [00:00, ?it/s]"
      ]
     },
     "metadata": {},
     "output_type": "display_data"
    },
    {
     "data": {
      "application/vnd.jupyter.widget-view+json": {
       "model_id": "acaee71c7f3a4a6ba4d3235da65efbef",
       "version_major": 2,
       "version_minor": 0
      },
      "text/plain": [
       "Validating: 0it [00:00, ?it/s]"
      ]
     },
     "metadata": {},
     "output_type": "display_data"
    },
    {
     "data": {
      "application/vnd.jupyter.widget-view+json": {
       "model_id": "c8eb9285c91e438086d0cd2444a7391b",
       "version_major": 2,
       "version_minor": 0
      },
      "text/plain": [
       "Validating: 0it [00:00, ?it/s]"
      ]
     },
     "metadata": {},
     "output_type": "display_data"
    },
    {
     "data": {
      "application/vnd.jupyter.widget-view+json": {
       "model_id": "ebd0a36dac3d4f6d8ac4352165db3f7c",
       "version_major": 2,
       "version_minor": 0
      },
      "text/plain": [
       "Validating: 0it [00:00, ?it/s]"
      ]
     },
     "metadata": {},
     "output_type": "display_data"
    },
    {
     "data": {
      "application/vnd.jupyter.widget-view+json": {
       "model_id": "d09ce8c1e5dd46a3871accd2c0549904",
       "version_major": 2,
       "version_minor": 0
      },
      "text/plain": [
       "Validating: 0it [00:00, ?it/s]"
      ]
     },
     "metadata": {},
     "output_type": "display_data"
    },
    {
     "data": {
      "application/vnd.jupyter.widget-view+json": {
       "model_id": "3a0dbf26f44c47bbaf9cc0adfce878e4",
       "version_major": 2,
       "version_minor": 0
      },
      "text/plain": [
       "Validating: 0it [00:00, ?it/s]"
      ]
     },
     "metadata": {},
     "output_type": "display_data"
    },
    {
     "data": {
      "application/vnd.jupyter.widget-view+json": {
       "model_id": "5fe914131ea04103be3de253e81af255",
       "version_major": 2,
       "version_minor": 0
      },
      "text/plain": [
       "Validating: 0it [00:00, ?it/s]"
      ]
     },
     "metadata": {},
     "output_type": "display_data"
    },
    {
     "data": {
      "application/vnd.jupyter.widget-view+json": {
       "model_id": "88b908ef0c4747f595e5e33e02ce0757",
       "version_major": 2,
       "version_minor": 0
      },
      "text/plain": [
       "Validating: 0it [00:00, ?it/s]"
      ]
     },
     "metadata": {},
     "output_type": "display_data"
    },
    {
     "data": {
      "application/vnd.jupyter.widget-view+json": {
       "model_id": "a43fd96bc949419da9d26acb299667d1",
       "version_major": 2,
       "version_minor": 0
      },
      "text/plain": [
       "Validating: 0it [00:00, ?it/s]"
      ]
     },
     "metadata": {},
     "output_type": "display_data"
    },
    {
     "data": {
      "application/vnd.jupyter.widget-view+json": {
       "model_id": "e50d070d025a4b14b62fdfd5ffcb06cd",
       "version_major": 2,
       "version_minor": 0
      },
      "text/plain": [
       "Validating: 0it [00:00, ?it/s]"
      ]
     },
     "metadata": {},
     "output_type": "display_data"
    },
    {
     "data": {
      "application/vnd.jupyter.widget-view+json": {
       "model_id": "c245102f6b1b45d48093e03395c43dcd",
       "version_major": 2,
       "version_minor": 0
      },
      "text/plain": [
       "Validating: 0it [00:00, ?it/s]"
      ]
     },
     "metadata": {},
     "output_type": "display_data"
    },
    {
     "data": {
      "application/vnd.jupyter.widget-view+json": {
       "model_id": "03963df05fd04beda4e0865f7cdd7dab",
       "version_major": 2,
       "version_minor": 0
      },
      "text/plain": [
       "Validating: 0it [00:00, ?it/s]"
      ]
     },
     "metadata": {},
     "output_type": "display_data"
    },
    {
     "data": {
      "application/vnd.jupyter.widget-view+json": {
       "model_id": "56575959322b4c5ebe5522ed06db914a",
       "version_major": 2,
       "version_minor": 0
      },
      "text/plain": [
       "Validating: 0it [00:00, ?it/s]"
      ]
     },
     "metadata": {},
     "output_type": "display_data"
    },
    {
     "data": {
      "application/vnd.jupyter.widget-view+json": {
       "model_id": "9839142318ec4e21b324b75af78eed25",
       "version_major": 2,
       "version_minor": 0
      },
      "text/plain": [
       "Validating: 0it [00:00, ?it/s]"
      ]
     },
     "metadata": {},
     "output_type": "display_data"
    },
    {
     "data": {
      "application/vnd.jupyter.widget-view+json": {
       "model_id": "92b0b4efbc7d4b9e94851dfaed9f3c92",
       "version_major": 2,
       "version_minor": 0
      },
      "text/plain": [
       "Validating: 0it [00:00, ?it/s]"
      ]
     },
     "metadata": {},
     "output_type": "display_data"
    },
    {
     "data": {
      "application/vnd.jupyter.widget-view+json": {
       "model_id": "0240b6759c2844059c32f0b59b5cf4ed",
       "version_major": 2,
       "version_minor": 0
      },
      "text/plain": [
       "Validating: 0it [00:00, ?it/s]"
      ]
     },
     "metadata": {},
     "output_type": "display_data"
    },
    {
     "data": {
      "application/vnd.jupyter.widget-view+json": {
       "model_id": "4a14dc5cfe5e4d2fb491c420bcede401",
       "version_major": 2,
       "version_minor": 0
      },
      "text/plain": [
       "Validating: 0it [00:00, ?it/s]"
      ]
     },
     "metadata": {},
     "output_type": "display_data"
    },
    {
     "data": {
      "application/vnd.jupyter.widget-view+json": {
       "model_id": "a4799937cf284bf4990418210d89ae5c",
       "version_major": 2,
       "version_minor": 0
      },
      "text/plain": [
       "Validating: 0it [00:00, ?it/s]"
      ]
     },
     "metadata": {},
     "output_type": "display_data"
    },
    {
     "data": {
      "application/vnd.jupyter.widget-view+json": {
       "model_id": "9b200df26e9c4567aadd9416d709b23a",
       "version_major": 2,
       "version_minor": 0
      },
      "text/plain": [
       "Validating: 0it [00:00, ?it/s]"
      ]
     },
     "metadata": {},
     "output_type": "display_data"
    },
    {
     "data": {
      "application/vnd.jupyter.widget-view+json": {
       "model_id": "867ab21bdd8d417893b250ab8e48e9f2",
       "version_major": 2,
       "version_minor": 0
      },
      "text/plain": [
       "Validating: 0it [00:00, ?it/s]"
      ]
     },
     "metadata": {},
     "output_type": "display_data"
    },
    {
     "data": {
      "application/vnd.jupyter.widget-view+json": {
       "model_id": "c8c56891e54e4055b2f28462f9fcb90e",
       "version_major": 2,
       "version_minor": 0
      },
      "text/plain": [
       "Validating: 0it [00:00, ?it/s]"
      ]
     },
     "metadata": {},
     "output_type": "display_data"
    },
    {
     "data": {
      "application/vnd.jupyter.widget-view+json": {
       "model_id": "e10904c34a8b45149a04ac920c2132f6",
       "version_major": 2,
       "version_minor": 0
      },
      "text/plain": [
       "Validating: 0it [00:00, ?it/s]"
      ]
     },
     "metadata": {},
     "output_type": "display_data"
    },
    {
     "data": {
      "application/vnd.jupyter.widget-view+json": {
       "model_id": "f0dda66c661c484faeb5df2ad26dd753",
       "version_major": 2,
       "version_minor": 0
      },
      "text/plain": [
       "Validating: 0it [00:00, ?it/s]"
      ]
     },
     "metadata": {},
     "output_type": "display_data"
    },
    {
     "data": {
      "application/vnd.jupyter.widget-view+json": {
       "model_id": "d544b88f0cb443aaa990f5e100ae317f",
       "version_major": 2,
       "version_minor": 0
      },
      "text/plain": [
       "Validating: 0it [00:00, ?it/s]"
      ]
     },
     "metadata": {},
     "output_type": "display_data"
    },
    {
     "data": {
      "application/vnd.jupyter.widget-view+json": {
       "model_id": "7a8b0a6ce87f47a5b6b604506b9fa69b",
       "version_major": 2,
       "version_minor": 0
      },
      "text/plain": [
       "Validating: 0it [00:00, ?it/s]"
      ]
     },
     "metadata": {},
     "output_type": "display_data"
    },
    {
     "data": {
      "application/vnd.jupyter.widget-view+json": {
       "model_id": "18ca65891cd44cda8c511af3e74cefc6",
       "version_major": 2,
       "version_minor": 0
      },
      "text/plain": [
       "Validating: 0it [00:00, ?it/s]"
      ]
     },
     "metadata": {},
     "output_type": "display_data"
    },
    {
     "data": {
      "application/vnd.jupyter.widget-view+json": {
       "model_id": "f618a66de5944417b99a0dc019e1eb4a",
       "version_major": 2,
       "version_minor": 0
      },
      "text/plain": [
       "Validating: 0it [00:00, ?it/s]"
      ]
     },
     "metadata": {},
     "output_type": "display_data"
    },
    {
     "data": {
      "application/vnd.jupyter.widget-view+json": {
       "model_id": "238729b088ed49f6b89fb6ef14a0aebe",
       "version_major": 2,
       "version_minor": 0
      },
      "text/plain": [
       "Validating: 0it [00:00, ?it/s]"
      ]
     },
     "metadata": {},
     "output_type": "display_data"
    }
   ],
   "source": [
    "params ={\n",
    "    'n_features': len(feature_columns),\n",
    "    \"n_classes\": len(label_encoder.classes_),\n",
    "    \"seq_length\":128,\n",
    "    \"dropout\": 0.75,\n",
    "    \"n_hidden\": 256,\n",
    "    \"batch_size\": 64,\n",
    "    \"lr\": 0.0001,\n",
    "    \"n_layers\" : 3   \n",
    "    }\n",
    "trainer, data_module = train(params, 'run_41_yt-bal-data')"
   ]
  }
 ],
 "metadata": {
  "kernelspec": {
   "display_name": "Python 3",
   "language": "python",
   "name": "python3"
  },
  "language_info": {
   "codemirror_mode": {
    "name": "ipython",
    "version": 3
   },
   "file_extension": ".py",
   "mimetype": "text/x-python",
   "name": "python",
   "nbconvert_exporter": "python",
   "pygments_lexer": "ipython3",
   "version": "3.7.12"
  }
 },
 "nbformat": 4,
 "nbformat_minor": 5
}
