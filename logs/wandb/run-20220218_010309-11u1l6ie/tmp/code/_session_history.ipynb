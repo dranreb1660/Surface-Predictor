{
 "cells": [
  {
   "cell_type": "code",
   "execution_count": 1,
   "id": "43c8844a",
   "metadata": {},
   "outputs": [],
   "source": [
    "params23 ={\n",
    "    'n_features': len(feature_columns),\n",
    "    \"n_classes\": len(label_encoder.classes_),\n",
    "    \"dropout\": 0.4,\n",
    "    \"n_hidden\": 512,\n",
    "    \"batch_size\": 512,\n",
    "    \"lr\": 0.00426   \n",
    "    }"
   ]
  },
  {
   "cell_type": "code",
   "execution_count": 2,
   "id": "4b86022f",
   "metadata": {},
   "outputs": [],
   "source": [
    "# from google.colab import drive\n",
    "from pathlib import Path\n",
    "# drive.mount('/content/gdrive', force_remount=True)\n",
    "%cd \"/content/drive/Othercomputers/my_mac/Coding_stuff/Projects/Surface_Predictor\""
   ]
  },
  {
   "cell_type": "code",
   "execution_count": 3,
   "id": "3b7a91f6",
   "metadata": {},
   "outputs": [],
   "source": [
    "creds = '...'\n",
    "cred_path = Path('~/.kaggle/kaggle.json').expanduser()\n",
    "if not cred_path.exists():\n",
    "  print('entered')\n",
    "  cred_path.parent.mkdir(exist_ok=True)\n",
    "  cred_path.write_text(creds)\n",
    "  cred_path.chmod(0o600)"
   ]
  },
  {
   "cell_type": "code",
   "execution_count": 4,
   "id": "89de0f35",
   "metadata": {},
   "outputs": [],
   "source": [
    "# !kaggle competitions download -c career-con-2019 -p ./data/\n",
    "# !unzip ./data/X_test.csv.zip -d ./data\n",
    "# !unzip ./data/X_train.csv.zip -d ./data\n",
    "# !rm ./data/X_train.csv.zip ./data/X_test.csv.zip"
   ]
  },
  {
   "cell_type": "code",
   "execution_count": 5,
   "id": "9a157eaf",
   "metadata": {},
   "outputs": [],
   "source": [
    "%pip install -Uqq pytorch-lightning torchmetrics wandb"
   ]
  },
  {
   "cell_type": "code",
   "execution_count": 6,
   "id": "330cbd70",
   "metadata": {},
   "outputs": [],
   "source": [
    "import numpy as np\n",
    "import pandas as pd\n",
    "import matplotlib.pyplot as plt\n",
    "from matplotlib import rc\n",
    "import seaborn as sns\n",
    "import wandb\n",
    "from tqdm.auto import tqdm \n",
    "\n",
    "import torch\n",
    "import torch.autograd as autograd\n",
    "import torch.nn as nn\n",
    "import torch.nn.functional as F\n",
    "import torch.optim as optim\n",
    "from torch.utils.data import Dataset, DataLoader\n",
    "\n",
    "import pytorch_lightning as pl\n",
    "from pytorch_lightning.callbacks import ModelCheckpoint, EarlyStopping\n",
    "from pytorch_lightning.callbacks.progress import TQDMProgressBar\n",
    "from pytorch_lightning.loggers import WandbLogger\n",
    "import torchmetrics\n",
    "\n",
    "from pylab import rcParams\n",
    "from matplotlib.ticker import MaxNLocator\n",
    "from sklearn.metrics import classification_report, confusion_matrix\n",
    "from sklearn.preprocessing import LabelEncoder\n",
    "from sklearn.model_selection import train_test_split"
   ]
  },
  {
   "cell_type": "code",
   "execution_count": 7,
   "id": "b34538b2",
   "metadata": {},
   "outputs": [],
   "source": [
    "%matplotlib inline\n",
    "%config InlinBackend.figure_format = 'retina'\n",
    "sns.set_style(style= 'whitegrid')\n",
    "rcParams['figure.figsize'] = 14,9"
   ]
  },
  {
   "cell_type": "code",
   "execution_count": 8,
   "id": "35f4fa3b",
   "metadata": {},
   "outputs": [
    {
     "name": "stdout",
     "output_type": "stream",
     "text": [
      "42"
     ]
    }
   ],
   "source": [
    "pl.seed_everything(42)"
   ]
  },
  {
   "cell_type": "code",
   "execution_count": 9,
   "id": "d905b7f3",
   "metadata": {},
   "outputs": [],
   "source": [
    "!wandb login"
   ]
  },
  {
   "cell_type": "code",
   "execution_count": 10,
   "id": "790cb381",
   "metadata": {},
   "outputs": [],
   "source": [
    "!pwd"
   ]
  },
  {
   "cell_type": "code",
   "execution_count": 11,
   "id": "80beda5d",
   "metadata": {},
   "outputs": [
    {
     "name": "stdout",
     "output_type": "stream",
     "text": [
      "          row_id  series_id  ...  linear_acceleration_Y  linear_acceleration_Z\n",
      "0            0_0          0  ...                 2.1030                -9.7532\n",
      "1            0_1          0  ...                 1.5064                -9.4128\n",
      "2            0_2          0  ...                 1.5922                -8.7267\n",
      "3            0_3          0  ...                 1.0993               -10.0960\n",
      "4            0_4          0  ...                 1.4689               -10.4410\n",
      "...          ...        ...  ...                    ...                    ...\n",
      "487675  3809_123       3809  ...                 2.0115                -9.0063\n",
      "487676  3809_124       3809  ...                 3.0696                -8.1257\n",
      "487677  3809_125       3809  ...                 4.2622                -8.1443\n",
      "487678  3809_126       3809  ...                 4.7130                -9.4435\n",
      "487679  3809_127       3809  ...                 4.2751               -10.4980\n",
      "\n",
      "[487680 rows x 13 columns]"
     ]
    }
   ],
   "source": [
    "x_train = pd.read_csv('./data/raw/X_train.csv', low_memory=False)\n",
    "y_train = pd.read_csv('./data/raw/y_train.csv', low_memory=False)\n",
    "x_train"
   ]
  },
  {
   "cell_type": "code",
   "execution_count": 12,
   "id": "34e07870",
   "metadata": {},
   "outputs": [],
   "source": [
    "x_train.info()"
   ]
  },
  {
   "cell_type": "code",
   "execution_count": 13,
   "id": "4a3af2fc",
   "metadata": {},
   "outputs": [
    {
     "name": "stdout",
     "output_type": "stream",
     "text": [
      "      series_id  group_id        surface\n",
      "0             0        13  fine_concrete\n",
      "1             1        31       concrete\n",
      "2             2        20       concrete\n",
      "3             3        31       concrete\n",
      "4             4        22     soft_tiles\n",
      "...         ...       ...            ...\n",
      "3805       3805        55          tiled\n",
      "3806       3806        67           wood\n",
      "3807       3807        48  fine_concrete\n",
      "3808       3808        54          tiled\n",
      "3809       3809        56       soft_pvc\n",
      "\n",
      "[3810 rows x 3 columns]"
     ]
    }
   ],
   "source": [
    "y_train"
   ]
  },
  {
   "cell_type": "code",
   "execution_count": 14,
   "id": "3ae3a4b4",
   "metadata": {},
   "outputs": [],
   "source": [
    "y_train.surface.value_counts().plot(kind='bar')\n",
    "plt.xticks(rotation=45)\n",
    "plt.title('Distribution of target (surface) ')\n",
    "plt.show()"
   ]
  },
  {
   "cell_type": "code",
   "execution_count": 15,
   "id": "739c0aed",
   "metadata": {},
   "outputs": [],
   "source": [
    "y_train.surface.value_counts().plot(kind='bar')\n",
    "plt.xticks(rotation=45)\n",
    "plt.title('Distribution of target (surface) ')\n",
    "plt.show()"
   ]
  },
  {
   "cell_type": "code",
   "execution_count": 16,
   "id": "0e980e9a",
   "metadata": {},
   "outputs": [],
   "source": [
    "label_encoder =  LabelEncoder()\n",
    "encoded_labels = label_encoder.fit_transform(y_train.surface)"
   ]
  },
  {
   "cell_type": "code",
   "execution_count": 17,
   "id": "6a05c0a6",
   "metadata": {},
   "outputs": [
    {
     "name": "stdout",
     "output_type": "stream",
     "text": [
      "array(['carpet', 'concrete', 'fine_concrete', 'hard_tiles',\n",
      "       'hard_tiles_large_space', 'soft_pvc', 'soft_tiles', 'tiled',\n",
      "       'wood'], dtype=object)"
     ]
    }
   ],
   "source": [
    "label_encoder.classes_"
   ]
  },
  {
   "cell_type": "code",
   "execution_count": 18,
   "id": "c7040d20",
   "metadata": {},
   "outputs": [
    {
     "name": "stdout",
     "output_type": "stream",
     "text": [
      "(array([2, 1, 1, 1, 6]),\n",
      " ['fine_concrete', 'concrete', 'concrete', 'concrete', 'soft_tiles'])"
     ]
    }
   ],
   "source": [
    "encoded_labels[:5], list(y_train.surface[:5])"
   ]
  },
  {
   "cell_type": "code",
   "execution_count": 19,
   "id": "2cbd49b6",
   "metadata": {},
   "outputs": [
    {
     "name": "stdout",
     "output_type": "stream",
     "text": [
      "      series_id  group_id        surface  label\n",
      "0             0        13  fine_concrete      2\n",
      "1             1        31       concrete      1\n",
      "2             2        20       concrete      1\n",
      "3             3        31       concrete      1\n",
      "4             4        22     soft_tiles      6\n",
      "...         ...       ...            ...    ...\n",
      "3805       3805        55          tiled      7\n",
      "3806       3806        67           wood      8\n",
      "3807       3807        48  fine_concrete      2\n",
      "3808       3808        54          tiled      7\n",
      "3809       3809        56       soft_pvc      5\n",
      "\n",
      "[3810 rows x 4 columns]"
     ]
    }
   ],
   "source": [
    "y_train['label'] = encoded_labels\n",
    "y_train"
   ]
  },
  {
   "cell_type": "code",
   "execution_count": 20,
   "id": "51f9ad27",
   "metadata": {},
   "outputs": [
    {
     "name": "stdout",
     "output_type": "stream",
     "text": [
      "          row_id  series_id  ...  linear_acceleration_Y  linear_acceleration_Z\n",
      "0            0_0          0  ...                 2.1030                -9.7532\n",
      "1            0_1          0  ...                 1.5064                -9.4128\n",
      "2            0_2          0  ...                 1.5922                -8.7267\n",
      "3            0_3          0  ...                 1.0993               -10.0960\n",
      "4            0_4          0  ...                 1.4689               -10.4410\n",
      "...          ...        ...  ...                    ...                    ...\n",
      "487675  3809_123       3809  ...                 2.0115                -9.0063\n",
      "487676  3809_124       3809  ...                 3.0696                -8.1257\n",
      "487677  3809_125       3809  ...                 4.2622                -8.1443\n",
      "487678  3809_126       3809  ...                 4.7130                -9.4435\n",
      "487679  3809_127       3809  ...                 4.2751               -10.4980\n",
      "\n",
      "[487680 rows x 13 columns]"
     ]
    }
   ],
   "source": [
    "x_train"
   ]
  },
  {
   "cell_type": "code",
   "execution_count": 21,
   "id": "3c06b455",
   "metadata": {},
   "outputs": [
    {
     "name": "stdout",
     "output_type": "stream",
     "text": [
      "['orientation_X',\n",
      " 'orientation_Y',\n",
      " 'orientation_Z',\n",
      " 'orientation_W',\n",
      " 'angular_velocity_X',\n",
      " 'angular_velocity_Y',\n",
      " 'angular_velocity_Z',\n",
      " 'linear_acceleration_X',\n",
      " 'linear_acceleration_Y',\n",
      " 'linear_acceleration_Z']"
     ]
    }
   ],
   "source": [
    "#we dont need the first 3 cols\n",
    "feature_columns = x_train.columns.to_list()[3:]\n",
    "feature_columns"
   ]
  },
  {
   "cell_type": "code",
   "execution_count": 22,
   "id": "23cabe9e",
   "metadata": {},
   "outputs": [
    {
     "name": "stdout",
     "output_type": "stream",
     "text": [
      "0       128\n",
      "2544    128\n",
      "2532    128\n",
      "2533    128\n",
      "2534    128\n",
      "       ... \n",
      "1274    128\n",
      "1275    128\n",
      "1276    128\n",
      "1277    128\n",
      "3809    128\n",
      "Name: series_id, Length: 3810, dtype: int64"
     ]
    }
   ],
   "source": [
    "#it looks like the sequences have been grouped for us\n",
    "x_train.series_id.value_counts()"
   ]
  },
  {
   "cell_type": "code",
   "execution_count": 23,
   "id": "9267ae9d",
   "metadata": {},
   "outputs": [],
   "source": [
    "sequences = []\n",
    "for series_id, group in x_train.groupby('series_id'):\n",
    "  sequence_features = group[feature_columns]\n",
    "  label = y_train[y_train.series_id == series_id].iloc[0].label\n",
    "  sequences.append((sequence_features, label))"
   ]
  },
  {
   "cell_type": "code",
   "execution_count": 24,
   "id": "0b32f9af",
   "metadata": {},
   "outputs": [
    {
     "name": "stdout",
     "output_type": "stream",
     "text": [
      "(     orientation_X  orientation_Y  ...  linear_acceleration_Y  linear_acceleration_Z\n",
      " 0         -0.75853       -0.63435  ...                2.10300                -9.7532\n",
      " 1         -0.75853       -0.63434  ...                1.50640                -9.4128\n",
      " 2         -0.75853       -0.63435  ...                1.59220                -8.7267\n",
      " 3         -0.75852       -0.63436  ...                1.09930               -10.0960\n",
      " 4         -0.75852       -0.63435  ...                1.46890               -10.4410\n",
      " ..             ...            ...  ...                    ...                    ...\n",
      " 123       -0.75943       -0.63316  ...                1.79890                -6.8687\n",
      " 124       -0.75945       -0.63313  ...                2.35620                -6.8926\n",
      " 125       -0.75949       -0.63309  ...                0.97328                -9.9795\n",
      " 126       -0.75950       -0.63307  ...                0.34931               -11.9770\n",
      " 127       -0.75953       -0.63306  ...                0.80346               -10.6970\n",
      " \n",
      " [128 rows x 10 columns], 2)"
     ]
    }
   ],
   "source": [
    "sequences[0]"
   ]
  },
  {
   "cell_type": "code",
   "execution_count": 25,
   "id": "9da7ee74",
   "metadata": {},
   "outputs": [
    {
     "name": "stdout",
     "output_type": "stream",
     "text": [
      "(3048, 762)"
     ]
    }
   ],
   "source": [
    "train_sequences, val_sequences = train_test_split(sequences, test_size=0.2)\n",
    "len(train_sequences), len(val_sequences)"
   ]
  },
  {
   "cell_type": "code",
   "execution_count": 26,
   "id": "c58f3ded",
   "metadata": {},
   "outputs": [],
   "source": [
    "#sanity check\n",
    "len(train_sequences), len(val_sequences)\n",
    "print('all train seq shape check: ',[(train_sequences[i][0].shape) for i in range(len(train_sequences)) if (train_sequences[i][0].shape) != (128, 10)])\n",
    "# print('all train label shape check: ',[len(train_sequences[i][1]) for i in range(len(train_sequences)) if len(train_sequences[i][1]) != 10])\n",
    "print('all train seq shape check: ',[(val_sequences[i][0].shape) for i in range(len(val_sequences)) if (val_sequences[i][0].shape) != (128, 10)])\n",
    "# print('all train label shape check: ',[len(val_sequences[i][1]) for i in range(len(val_sequences)) if len(val_sequences[i][1]) != 10])"
   ]
  },
  {
   "cell_type": "code",
   "execution_count": 27,
   "id": "fed00776",
   "metadata": {},
   "outputs": [],
   "source": [
    "\n",
    "class SurfaceDataset(Dataset):\n",
    "\n",
    "  def __init__(self, sequences) -> None:\n",
    "      super().__init__()\n",
    "      self.sequences = sequences\n",
    "\n",
    "  def __len__(self):\n",
    "    return len(self.sequences)\n",
    "\n",
    "  def __getitem__(self, index):\n",
    "    sequence, label = self.sequences[index]\n",
    "    return dict(\n",
    "      sequence=torch.Tensor(sequence.to_numpy()),\n",
    "      label=torch.tensor(label).long()\n",
    "    )"
   ]
  },
  {
   "cell_type": "code",
   "execution_count": 28,
   "id": "59347c61",
   "metadata": {},
   "outputs": [],
   "source": [
    "class SurfaceDatamodule(pl.LightningDataModule):\n",
    "\n",
    "  def __init__(self, train_sequences, val_sequences, batch_size):\n",
    "    super().__init__()\n",
    "    self.train_sequences = train_sequences\n",
    "    self.val_sequences = val_sequences\n",
    "    self.batch_size = batch_size\n",
    "\n",
    "  def setup(self, stage=None):\n",
    "    self.train_dataset = SurfaceDataset(self.train_sequences)\n",
    "    self.val_dataset = SurfaceDataset(self.val_sequences)\n",
    "\n",
    "  def train_dataloader(self):\n",
    "      return DataLoader(self.train_dataset, \n",
    "                        batch_size=self.batch_size,\n",
    "                        num_workers=3)\n",
    "      \n",
    "  def val_dataloader(self):\n",
    "      return DataLoader(self.val_dataset,\n",
    "                        batch_size=self.batch_size,\n",
    "                        num_workers=2)"
   ]
  },
  {
   "cell_type": "code",
   "execution_count": 29,
   "id": "f6702a79",
   "metadata": {},
   "outputs": [],
   "source": [
    "\n",
    "class SurfaceModel(nn.Module):\n",
    "\n",
    "  def __init__(self, n_features, n_classes, n_hidden,dropout, n_layers=3):\n",
    "    super().__init__()\n",
    "    print(dropout)\n",
    "    self.n_fearues = n_features\n",
    "    self.n_classes = n_classes\n",
    "    self.n_hidden = n_hidden\n",
    "    self.n_layers = n_layers\n",
    "    self.dropout = dropout\n",
    "\n",
    "    self.lstm = nn.LSTM(\n",
    "        input_size =self.n_fearues,\n",
    "        hidden_size = self.n_hidden,\n",
    "        num_layers = self.n_layers,\n",
    "        dropout = self.dropout,\n",
    "        batch_first = True\n",
    "    )\n",
    "    self.cassifier = nn.Linear(self.n_hidden, self.n_classes)\n",
    "\n",
    "  def forward(self, x):\n",
    "        self.lstm.flatten_parameters()\n",
    "        _, (hidden,_) = self.lstm(x)\n",
    "        out = hidden[-1]\n",
    "        return self.cassifier(out)"
   ]
  },
  {
   "cell_type": "code",
   "execution_count": 30,
   "id": "a5a22778",
   "metadata": {},
   "outputs": [],
   "source": [
    "class SurfacePredictor(pl.LightningModule):\n",
    "  def __init__(self, n_features, n_classes, n_hidden, seq_length, dropout, n_layers=3, lr=0.0001):\n",
    "    super().__init__()\n",
    "    self.lr = lr \n",
    "    self.seq_length =seq_length\n",
    "    self.n_features = n_features\n",
    "\n",
    "    self.model = SurfaceModel(n_features, n_classes, n_hidden, n_layers=n_layers,dropout=dropout)\n",
    "    self.criterion = nn.CrossEntropyLoss()\n",
    "    self.train_ac = torchmetrics.Accuracy()\n",
    "    self.val_ac = torchmetrics.Accuracy()\n",
    "    self.save_hyperparameters()\n",
    "\n",
    "\n",
    "  def forward(self, x, labels=None):\n",
    "    output = self.model(x)\n",
    "\n",
    "    loss = 0\n",
    "    if labels is not None:\n",
    "      loss = self.criterion(output, labels)\n",
    "      return loss, output\n",
    "\n",
    "    return output\n",
    "\n",
    "\n",
    "  def training_step(self, batch, batch_idx):\n",
    "    sequences = batch['sequence']\n",
    "    labels = batch['label']\n",
    "    loss, outputs = self(sequences, labels)\n",
    "    predictions = torch.argmax(outputs, dim=1)\n",
    "    step_ac = self.train_ac(predictions, labels)\n",
    "\n",
    "    self.log('train_loss', loss, prog_bar=True, logger=True)\n",
    "    self.log('train_accuracy', step_ac, prog_bar=True, logger=True)\n",
    "\n",
    "    return dict(loss=loss, accuracy=step_ac)\n",
    "\n",
    "  def validation_step(self, batch, batch_idx):\n",
    "    sequences = batch['sequence']\n",
    "    labels = batch['label']\n",
    "    loss, outputs = self(sequences, labels)\n",
    "    predictions = torch.argmax(outputs, dim=1)\n",
    "    step_ac = self.train_ac(predictions, labels)\n",
    "\n",
    "    self.log('val_loss', loss, prog_bar=True, logger=True)\n",
    "    self.log('val_accuracy', step_ac, prog_bar=True, logger=True)\n",
    "\n",
    "    return dict(loss=loss, accuracy=step_ac, loggits=outputs)\n",
    "\n",
    "\n",
    "  def validation_epoch_end(self, validation_step_outputs):\n",
    "    dummyImput = torch.zeros(\n",
    "        (1, self.seq_length, self.n_features), device=self.device)\n",
    "    model_filename = f\"model_{str(self.global_step).zfill(5)}.onnx\"\n",
    "    torch.onnx.export(self, dummyImput, model_filename, opset_version=11)\n",
    "    # wandb.save(model_filename,)\n",
    "    outputs = [out['loggits'] for out in validation_step_outputs]\n",
    "    flattened_outputs = torch.flatten(\n",
    "          torch.cat(outputs))\n",
    "    self.logger.experiment.log(\n",
    "    {'valid/logits': wandb.Histogram(flattened_outputs.to('cpu')),\n",
    "      'epoch': self.current_epoch}\n",
    "    )\n",
    "\n",
    "\n",
    "  def configure_optimizers(self):\n",
    "    return torch.optim.AdamW(self.parameters(), lr=self.lr)\n",
    " "
   ]
  },
  {
   "cell_type": "code",
   "execution_count": 31,
   "id": "7912dfe4",
   "metadata": {},
   "outputs": [],
   "source": [
    "n_epoch = 10\n",
    "bs = 256\n",
    "n_features = len(feature_columns)\n",
    "n_classes = len(label_encoder.classes_)\n",
    "n_hidden = 128\n",
    "seq_length= 128\n",
    "\n",
    "checkpoint_callback = ModelCheckpoint(\n",
    "    dirpath='checkpoints',\n",
    "    filename='best_checkpoint',\n",
    "    save_top_k=1,\n",
    "    verbose=True,\n",
    "    monitor='val_loss',\n",
    "    mode='min'\n",
    ")\n",
    "early_stopping_callback = EarlyStopping(monitor='val_loss', patience=4, verbose=True)\n",
    "progress_bar = TQDMProgressBar(refresh_rate=30)\n",
    "\n",
    "callbacks = [early_stopping_callback, checkpoint_callback, progress_bar]\n",
    "logger = WandbLogger(name='onnx', save_dir='./logs', project='surface_pred',settings=wandb.Settings(symlink=False))\n",
    "# wandb.init(settings=wandb.Settings(symlink=False))\n",
    "trainer = pl.Trainer(gpus = 1,\n",
    "                     max_epochs = n_epoch,\n",
    "                     logger= logger,\n",
    "                     callbacks = callbacks,\n",
    "                     precision=16)"
   ]
  },
  {
   "cell_type": "code",
   "execution_count": 32,
   "id": "46ba0be6",
   "metadata": {},
   "outputs": [],
   "source": [
    "params23 ={\n",
    "    'n_features': len(feature_columns),\n",
    "    \"n_classes\": len(label_encoder.classes_),\n",
    "    \"dropout\": 0.4,\n",
    "    \"n_hidden\": 512,\n",
    "    \"batch_size\": 512,\n",
    "    \"lr\": 0.00426   \n",
    "    }"
   ]
  },
  {
   "cell_type": "code",
   "execution_count": 33,
   "id": "ac6f9e67",
   "metadata": {},
   "outputs": [],
   "source": [
    "def train(params, name):\n",
    "\n",
    "    # set up W&B logger\n",
    "    wandb_logger = WandbLogger(log_model=True)  # log final model\n",
    "\n",
    "\n",
    "    # setup data\n",
    "    data_module =SurfaceDatamodule(train_sequences, val_sequences, batch_size=params['batch_size'])\n",
    "\n",
    "    # setup model - note how we refer to sweep parameters with wandb.config\n",
    "    model = SurfacePredictor(n_features, n_classes,params['n_hidden'], seq_length, dropout = params['dropout'], lr = params['lr'])\n",
    "\n",
    "    # early_stopping_callback = EarlyStopping(monitor='val_loss', patience=4, verbose=True)\n",
    "    progress_bar = TQDMProgressBar(refresh_rate=30)\n",
    "\n",
    "    logger = WandbLogger(name=name, save_dir='./logs', project='surface_pred')\n",
    "    callbacks = [progress_bar]\n",
    "\n",
    "    # setup Trainer\n",
    "    trainer = pl.Trainer(gpus = 1,\n",
    "                        max_epochs = 250,\n",
    "                        logger= logger,\n",
    "                        callbacks = callbacks,\n",
    "                        precision=16)\n",
    "\n",
    "    # train\n",
    "    trainer.fit(model, datamodule=data_module)\n",
    "    wandb.finish()"
   ]
  },
  {
   "cell_type": "code",
   "execution_count": 34,
   "id": "4cc4e65a",
   "metadata": {},
   "outputs": [],
   "source": [
    "def train(params, run_name):\n",
    "    # setup data\n",
    "    data_module =SurfaceDatamodule(train_sequences, val_sequences, batch_size=params['batch_size'])\n",
    "\n",
    "    model = SurfacePredictor(n_features= params['n_features'], \n",
    "                             n_classes= params['n_classes'],\n",
    "                             n_hidden= params['n_hidden'], \n",
    "                             seq_length = params['seq_length'],\n",
    "                             dropout = params['dropout'], \n",
    "                             lr = params['lr'])\n",
    "    # set up W&B logger\n",
    "    checkpoint_callback = ModelCheckpoint(\n",
    "    dirpath='checkpoints',\n",
    "    filename='best_checkpoint',\n",
    "    save_top_k=1,\n",
    "    verbose=True,\n",
    "    monitor='val_accuracy',\n",
    "    mode='max'\n",
    ")\n",
    "    early_stopping_callback = EarlyStopping(monitor='val_accuracy', patience=10, verbose=True)\n",
    "    progress_bar = TQDMProgressBar(refresh_rate=30)\n",
    "\n",
    "    callbacks = [early_stopping_callback, checkpoint_callback, progress_bar]\n",
    "    \n",
    "    logger = WandbLogger(name=run_name, save_dir='logs', project='surface_pred')\n",
    "    progress_bar = TQDMProgressBar(refresh_rate=30)\n",
    "\n",
    "    callbacks = [progress_bar]\n",
    "\n",
    "    # setup Trainer\n",
    "    trainer = pl.Trainer(gpus = 1,\n",
    "                        max_epochs = 250,\n",
    "                        logger= logger,\n",
    "                        callbacks = callbacks,\n",
    "                        precision=16)\n",
    "\n",
    "    # train\n",
    "    trainer.fit(model, datamodule=data_module)\n",
    "    wandb.finish()"
   ]
  },
  {
   "cell_type": "code",
   "execution_count": 35,
   "id": "3eced5cb",
   "metadata": {},
   "outputs": [],
   "source": [
    "params23 ={\n",
    "    'n_features': len(feature_columns),\n",
    "    \"n_classes\": len(label_encoder.classes_),\n",
    "    \"seq_length\":128,\n",
    "    \"dropout\": 0.5,\n",
    "    \"n_hidden\": 5128,\n",
    "    \"batch_size\": 64,\n",
    "    \"lr\": 0.01  \n",
    "    }"
   ]
  },
  {
   "cell_type": "code",
   "execution_count": 36,
   "id": "b3e137a8",
   "metadata": {},
   "outputs": [],
   "source": [
    "params ={\n",
    "    'n_features': len(feature_columns),\n",
    "    \"n_classes\": len(label_encoder.classes_),\n",
    "    \"seq_length\":128,\n",
    "    \"dropout\": 0.5,\n",
    "    \"n_hidden\": 5128,\n",
    "    \"batch_size\": 64,\n",
    "    \"lr\": 0.01  \n",
    "    }?"
   ]
  },
  {
   "cell_type": "code",
   "execution_count": 37,
   "id": "8409bf2f",
   "metadata": {},
   "outputs": [],
   "source": [
    "params ={\n",
    "    'n_features': len(feature_columns),\n",
    "    \"n_classes\": len(label_encoder.classes_),\n",
    "    \"seq_length\":128,\n",
    "    \"dropout\": 0.5,\n",
    "    \"n_hidden\": 5128,\n",
    "    \"batch_size\": 64,\n",
    "    \"lr\": 0.01  \n",
    "    }"
   ]
  },
  {
   "cell_type": "code",
   "execution_count": 38,
   "id": "c25e5e70",
   "metadata": {},
   "outputs": [],
   "source": [
    "params ={\n",
    "    'n_features': len(feature_columns),\n",
    "    \"n_classes\": len(label_encoder.classes_),\n",
    "    \"seq_length\":128,\n",
    "    \"dropout\": 0.5,\n",
    "    \"n_hidden\": 5128,\n",
    "    \"batch_size\": 64,\n",
    "    \"lr\": 0.01  \n",
    "    }??"
   ]
  },
  {
   "cell_type": "code",
   "execution_count": 39,
   "id": "bed7ee5f",
   "metadata": {},
   "outputs": [],
   "source": [
    "params ={\n",
    "    'n_features': len(feature_columns),\n",
    "    \"n_classes\": len(label_encoder.classes_),\n",
    "    \"seq_length\":128,\n",
    "    \"dropout\": 0.5,\n",
    "    \"n_hidden\": 5128,\n",
    "    \"batch_size\": 64,\n",
    "    \"lr\": 0.01  \n",
    "    }"
   ]
  },
  {
   "cell_type": "code",
   "execution_count": 40,
   "id": "57eb218b",
   "metadata": {},
   "outputs": [],
   "source": [
    "params??"
   ]
  },
  {
   "cell_type": "code",
   "execution_count": 41,
   "id": "817884f3",
   "metadata": {},
   "outputs": [],
   "source": [
    "params ={\n",
    "    'n_features': len(feature_columns),\n",
    "    \"n_classes\": len(label_encoder.classes_),\n",
    "    \"seq_length\":128,\n",
    "    \"dropout\": 0.5,\n",
    "    \"n_hidden\": 128,\n",
    "    \"batch_size\": 64,\n",
    "    \"lr\": 0.01  \n",
    "    }"
   ]
  },
  {
   "cell_type": "code",
   "execution_count": 42,
   "id": "53045988",
   "metadata": {},
   "outputs": [],
   "source": [
    "def train(params, run_name):\n",
    "    # setup data\n",
    "    data_module =SurfaceDatamodule(train_sequences, val_sequences, batch_size=params['batch_size'])\n",
    "\n",
    "    model = SurfacePredictor(n_features= params['n_features'], \n",
    "                             n_classes= params['n_classes'],\n",
    "                             n_hidden= params['n_hidden'], \n",
    "                             seq_length = params['seq_length'],\n",
    "                             dropout = params['dropout'], \n",
    "                             lr = params['lr'])\n",
    "    # set up W&B logger\n",
    "    checkpoint_callback = ModelCheckpoint(\n",
    "    dirpath='checkpoints',\n",
    "    filename='best_checkpoint',\n",
    "    save_top_k=1,\n",
    "    verbose=True,\n",
    "    monitor='val_accuracy',\n",
    "    mode='max'\n",
    ")\n",
    "    early_stopping_callback = EarlyStopping(monitor='val_accuracy', patience=10, verbose=True)\n",
    "    progress_bar = TQDMProgressBar(refresh_rate=30)\n",
    "\n",
    "    callbacks = [early_stopping_callback, checkpoint_callback, progress_bar]\n",
    "    \n",
    "    logger = WandbLogger(name=run_name, save_dir='logs', project='surface_pred')\n",
    "    progress_bar = TQDMProgressBar(refresh_rate=30)\n",
    "\n",
    "    callbacks = [progress_bar]\n",
    "\n",
    "    # setup Trainer\n",
    "    trainer = pl.Trainer(gpus = 1,\n",
    "                        max_epochs = 250,\n",
    "                        logger= logger,\n",
    "                        callbacks = callbacks,\n",
    "                        precision=16)\n",
    "\n",
    "    # train\n",
    "    trainer.fit(model, datamodule=data_module)\n",
    "    wandb.finish()"
   ]
  },
  {
   "cell_type": "code",
   "execution_count": 43,
   "id": "ff1ba963",
   "metadata": {},
   "outputs": [],
   "source": [
    "train(params, 'run_41_w_128nh')"
   ]
  },
  {
   "cell_type": "code",
   "execution_count": 44,
   "id": "c1a73fd3",
   "metadata": {},
   "outputs": [],
   "source": [
    "def train(params, run_name):\n",
    "    # setup data\n",
    "    data_module =SurfaceDatamodule(train_sequences, val_sequences, batch_size=params['batch_size'])\n",
    "\n",
    "    model = SurfacePredictor(n_features= params['n_features'], \n",
    "                             n_classes= params['n_classes'],\n",
    "                             n_hidden= params['n_hidden'], \n",
    "                             seq_length = params['seq_length'],\n",
    "                             dropout = params['dropout'], \n",
    "                             lr = params['lr'])\n",
    "    # set up W&B logger\n",
    "    checkpoint_callback = ModelCheckpoint(\n",
    "    dirpath='checkpoints',\n",
    "    filename='best_checkpoint',\n",
    "    save_top_k=1,\n",
    "    verbose=True,\n",
    "    monitor='val_accuracy',\n",
    "    mode='max'\n",
    ")\n",
    "    early_stopping_callback = EarlyStopping(monitor='val_accuracy', patience=10, verbose=True)\n",
    "    progress_bar = TQDMProgressBar(refresh_rate=30)\n",
    "\n",
    "    callbacks = [early_stopping_callback, checkpoint_callback, progress_bar]\n",
    "    \n",
    "    logger = WandbLogger(name=run_name, save_dir='logs', project='surface_pred')\n",
    "    progress_bar = TQDMProgressBar(refresh_rate=30,)\n",
    "\n",
    "    callbacks = [progress_bar]\n",
    "\n",
    "    # setup Trainer\n",
    "    trainer = pl.Trainer(gpus = 1,\n",
    "                        max_epochs = 250,\n",
    "                        logger= logger,\n",
    "                        callbacks = callbacks,\n",
    "                        log_every_n_steps=40,\n",
    "                        precision=16)\n",
    "\n",
    "    # train\n",
    "    trainer.fit(model, datamodule=data_module)\n",
    "    wandb.finish()"
   ]
  },
  {
   "cell_type": "code",
   "execution_count": 45,
   "id": "5376678e",
   "metadata": {},
   "outputs": [],
   "source": [
    "params ={\n",
    "    'n_features': len(feature_columns),\n",
    "    \"n_classes\": len(label_encoder.classes_),\n",
    "    \"seq_length\":128,\n",
    "    \"dropout\": 0.5,\n",
    "    \"n_hidden\": 128,\n",
    "    \"batch_size\": 64,\n",
    "    \"lr\": 0.04  \n",
    "    }"
   ]
  },
  {
   "cell_type": "code",
   "execution_count": 46,
   "id": "e78a56c3",
   "metadata": {},
   "outputs": [],
   "source": [
    "train(params, 'run_41_w_128nh_04lr')"
   ]
  },
  {
   "cell_type": "code",
   "execution_count": 47,
   "id": "f547f774",
   "metadata": {},
   "outputs": [],
   "source": [
    "class SurfacePredictor(pl.LightningModule):\n",
    "  def __init__(self, n_features, n_classes, n_hidden, seq_length, dropout, n_layers=3, lr=0.0001):\n",
    "    super().__init__()\n",
    "    self.lr = lr \n",
    "    self.seq_length =seq_length\n",
    "    self.n_features = n_features\n",
    "\n",
    "    self.model = SurfaceModel(n_features, n_classes, n_hidden, n_layers=n_layers,dropout=dropout)\n",
    "    self.criterion = nn.CrossEntropyLoss()\n",
    "    self.train_ac = torchmetrics.Accuracy()\n",
    "    self.val_ac = torchmetrics.Accuracy()\n",
    "    self.save_hyperparameters()\n",
    "\n",
    "\n",
    "  def forward(self, x, labels=None):\n",
    "    output = self.model(x)\n",
    "\n",
    "    loss = 0\n",
    "    if labels is not None:\n",
    "      loss = self.criterion(output, labels)\n",
    "      return loss, output\n",
    "\n",
    "    return output\n",
    "\n",
    "\n",
    "  def training_step(self, batch, batch_idx):\n",
    "    sequences = batch['sequence']\n",
    "    labels = batch['label']\n",
    "    loss, outputs = self(sequences, labels)\n",
    "    predictions = torch.argmax(outputs, dim=1)\n",
    "    step_ac = self.train_ac(predictions, labels)\n",
    "\n",
    "    self.log('train_loss', loss, prog_bar=True, logger=True)\n",
    "    self.log('train_accuracy', step_ac, prog_bar=True, logger=True)\n",
    "\n",
    "    return dict(loss=loss, accuracy=step_ac)\n",
    "\n",
    "  def validation_step(self, batch, batch_idx):\n",
    "    sequences = batch['sequence']\n",
    "    labels = batch['label']\n",
    "    loss, outputs = self(sequences, labels)\n",
    "    predictions = torch.argmax(outputs, dim=1)\n",
    "    step_ac = self.train_ac(predictions, labels)\n",
    "\n",
    "    self.log('val_loss', loss, prog_bar=True, logger=True)\n",
    "    self.log('val_accuracy', step_ac, prog_bar=True, logger=True)\n",
    "\n",
    "    return dict(loss=loss, accuracy=step_ac, loggits=outputs)\n",
    "\n",
    "\n",
    "  def validation_epoch_end(self, validation_step_outputs):\n",
    "    dummyImput = torch.zeros(\n",
    "        (1, self.seq_length, self.n_features), device=self.device)\n",
    "    model_filename = f\"model_{str(self.global_step).zfill(5)}.onnx\"\n",
    "    # torch.onnx.export(self, dummyImput, model_filename, opset_version=11)\n",
    "    # wandb.save(model_filename,)\n",
    "    outputs = [out['loggits'] for out in validation_step_outputs]\n",
    "    flattened_outputs = torch.flatten(\n",
    "          torch.cat(outputs))\n",
    "    self.logger.experiment.log(\n",
    "    {'valid/logits': wandb.Histogram(flattened_outputs.to('cpu')),\n",
    "      'epoch': self.current_epoch}\n",
    "    )\n",
    "\n",
    "\n",
    "  def configure_optimizers(self):\n",
    "    return torch.optim.AdamW(self.parameters(), lr=self.lr)\n",
    " "
   ]
  },
  {
   "cell_type": "code",
   "execution_count": 48,
   "id": "4f359685",
   "metadata": {},
   "outputs": [],
   "source": [
    "params ={\n",
    "    'n_features': len(feature_columns),\n",
    "    \"n_classes\": len(label_encoder.classes_),\n",
    "    \"seq_length\":128,\n",
    "    \"dropout\": 0.5,\n",
    "    \"n_hidden\": 128,\n",
    "    \"batch_size\": 64,\n",
    "    \"lr\": 0.04  \n",
    "    }"
   ]
  },
  {
   "cell_type": "code",
   "execution_count": 49,
   "id": "29c073c5",
   "metadata": {},
   "outputs": [],
   "source": [
    "def train(params, run_name):\n",
    "    # setup data\n",
    "    data_module =SurfaceDatamodule(train_sequences, val_sequences, batch_size=params['batch_size'])\n",
    "\n",
    "    model = SurfacePredictor(n_features= params['n_features'], \n",
    "                             n_classes= params['n_classes'],\n",
    "                             n_hidden= params['n_hidden'], \n",
    "                             seq_length = params['seq_length'],\n",
    "                             dropout = params['dropout'], \n",
    "                             lr = params['lr'])\n",
    "    # set up W&B logger\n",
    "    checkpoint_callback = ModelCheckpoint(\n",
    "    dirpath='checkpoints',\n",
    "    filename='best_checkpoint',\n",
    "    save_top_k=1,\n",
    "    verbose=True,\n",
    "    monitor='val_accuracy',\n",
    "    mode='max'\n",
    ")\n",
    "    early_stopping_callback = EarlyStopping(monitor='val_accuracy', patience=10, verbose=True)\n",
    "    progress_bar = TQDMProgressBar(refresh_rate=30)\n",
    "\n",
    "    callbacks = [early_stopping_callback, checkpoint_callback, progress_bar]\n",
    "    \n",
    "    logger = WandbLogger(name=run_name, save_dir='logs', project='surface_pred')\n",
    "    progress_bar = TQDMProgressBar(refresh_rate=30,)\n",
    "\n",
    "    callbacks = [progress_bar]\n",
    "\n",
    "    # setup Trainer\n",
    "    trainer = pl.Trainer(gpus = 1,\n",
    "                        max_epochs = 250,\n",
    "                        logger= logger,\n",
    "                        callbacks = callbacks,\n",
    "                        log_every_n_steps=40,\n",
    "                        precision=16)\n",
    "\n",
    "    # train\n",
    "    trainer.fit(model, datamodule=data_module)\n",
    "    wandb.finish()"
   ]
  },
  {
   "cell_type": "code",
   "execution_count": 50,
   "id": "978d6f98",
   "metadata": {},
   "outputs": [],
   "source": [
    "train(params, 'run_41_w_128nh_04lr')"
   ]
  },
  {
   "cell_type": "code",
   "execution_count": 51,
   "id": "298fd830",
   "metadata": {},
   "outputs": [],
   "source": [
    "params ={\n",
    "    'n_features': len(feature_columns),\n",
    "    \"n_classes\": len(label_encoder.classes_),\n",
    "    \"seq_length\":256,\n",
    "    \"dropout\": 0.5,\n",
    "    \"n_hidden\": 128,\n",
    "    \"batch_size\": 64,\n",
    "    \"lr\": 0.01  \n",
    "    }"
   ]
  },
  {
   "cell_type": "code",
   "execution_count": 52,
   "id": "ee47b53b",
   "metadata": {},
   "outputs": [],
   "source": [
    "def train(params, run_name):\n",
    "    # setup data\n",
    "    data_module =SurfaceDatamodule(train_sequences, val_sequences, batch_size=params['batch_size'])\n",
    "\n",
    "    model = SurfacePredictor(n_features= params['n_features'], \n",
    "                             n_classes= params['n_classes'],\n",
    "                             n_hidden= params['n_hidden'], \n",
    "                             seq_length = params['seq_length'],\n",
    "                             dropout = params['dropout'], \n",
    "                             lr = params['lr'])\n",
    "    # set up W&B logger\n",
    "    checkpoint_callback = ModelCheckpoint(\n",
    "    dirpath='checkpoints',\n",
    "    filename='best_checkpoint',\n",
    "    save_top_k=1,\n",
    "    verbose=True,\n",
    "    monitor='val_accuracy',\n",
    "    mode='max'\n",
    ")\n",
    "    early_stopping_callback = EarlyStopping(monitor='val_accuracy', patience=10, verbose=True)\n",
    "    progress_bar = TQDMProgressBar(refresh_rate=30)\n",
    "\n",
    "    callbacks = [early_stopping_callback, checkpoint_callback, progress_bar]\n",
    "    \n",
    "    logger = WandbLogger(name=run_name, save_dir='logs', project='surface_pred')\n",
    "    progress_bar = TQDMProgressBar(refresh_rate=30,)\n",
    "\n",
    "    callbacks = [progress_bar]\n",
    "\n",
    "    # setup Trainer\n",
    "    trainer = pl.Trainer(gpus = 1,\n",
    "                        max_epochs = 250,\n",
    "                        logger= logger,\n",
    "                        callbacks = callbacks,\n",
    "                        log_every_n_steps=40,\n",
    "                        precision=16)\n",
    "\n",
    "    # train\n",
    "    trainer.fit(model, datamodule=data_module)\n",
    "    wandb.finish()"
   ]
  },
  {
   "cell_type": "code",
   "execution_count": 53,
   "id": "58e1dc3a",
   "metadata": {},
   "outputs": [],
   "source": [
    "train(params, 'run_41')"
   ]
  },
  {
   "cell_type": "code",
   "execution_count": 54,
   "id": "a2b37625",
   "metadata": {},
   "outputs": [],
   "source": [
    "params ={\n",
    "    'n_features': len(feature_columns),\n",
    "    \"n_classes\": len(label_encoder.classes_),\n",
    "    \"seq_length\":128,\n",
    "    \"dropout\": 0.5,\n",
    "    \"n_hidden\": 256,\n",
    "    \"batch_size\": 64,\n",
    "    \"lr\": 0.01  \n",
    "    }\n",
    "train(params, 'run_41_orig')"
   ]
  },
  {
   "cell_type": "code",
   "execution_count": 55,
   "id": "5123c182",
   "metadata": {},
   "outputs": [],
   "source": [
    "params ={\n",
    "    'n_features': len(feature_columns),\n",
    "    \"n_classes\": len(label_encoder.classes_),\n",
    "    \"seq_length\":256,\n",
    "    \"dropout\": 0.5,\n",
    "    \"n_hidden\": 256,\n",
    "    \"batch_size\": 64,\n",
    "    \"lr\": 0.01  \n",
    "    }\n",
    "train(params, 'run_41_sl256')"
   ]
  },
  {
   "cell_type": "code",
   "execution_count": 56,
   "id": "27adec8e",
   "metadata": {},
   "outputs": [],
   "source": [
    "params ={\n",
    "    'n_features': len(feature_columns),\n",
    "    \"n_classes\": len(label_encoder.classes_),\n",
    "    \"seq_length\":128,\n",
    "    \"dropout\": 0.5,\n",
    "    \"n_hidden\": 256,\n",
    "    \"batch_size\": 64,\n",
    "    \"lr\": 0.01  \n",
    "    }\n",
    "train(params, 'run_41_orig')"
   ]
  },
  {
   "cell_type": "code",
   "execution_count": 57,
   "id": "9d8aaaad",
   "metadata": {},
   "outputs": [],
   "source": [
    "params ={\n",
    "    'n_features': len(feature_columns),\n",
    "    \"n_classes\": len(label_encoder.classes_),\n",
    "    \"seq_length\":256,\n",
    "    \"dropout\": 0.5,\n",
    "    \"n_hidden\": 256,\n",
    "    \"batch_size\": 64,\n",
    "    \"lr\": 0.01  \n",
    "    }\n",
    "train(params, 'run_41_sl256')"
   ]
  },
  {
   "cell_type": "code",
   "execution_count": 58,
   "id": "b8124b50",
   "metadata": {},
   "outputs": [],
   "source": [
    "class SurfacePredictor(pl.LightningModule):\n",
    "  def __init__(self, n_features, n_classes, n_hidden, seq_length, dropout, n_layers=3, lr=0.0001):\n",
    "    super().__init__()\n",
    "    self.lr = lr \n",
    "    self.seq_length =seq_length\n",
    "    self.n_features = n_features\n",
    "\n",
    "    self.model = SurfaceModel(n_features, n_classes, n_hidden, n_layers=n_layers,dropout=dropout)\n",
    "    self.criterion = nn.CrossEntropyLoss()\n",
    "    self.train_ac = torchmetrics.Accuracy()\n",
    "    self.val_ac = torchmetrics.Accuracy()\n",
    "    self.save_hyperparameters()\n",
    "\n",
    "\n",
    "  def forward(self, x, labels=None):\n",
    "    output = self.model(x)\n",
    "\n",
    "    loss = 0\n",
    "    if labels is not None:\n",
    "      loss = self.criterion(output, labels)\n",
    "      return loss, output\n",
    "\n",
    "    return output\n",
    "\n",
    "\n",
    "  def training_step(self, batch, batch_idx):\n",
    "    sequences = batch['sequence']\n",
    "    labels = batch['label']\n",
    "    loss, outputs = self(sequences, labels)\n",
    "    predictions = torch.argmax(outputs, dim=1)\n",
    "    step_ac = self.train_ac(predictions, labels)\n",
    "\n",
    "    self.log('train_loss', loss, prog_bar=True, logger=True)\n",
    "    self.log('train_accuracy', step_ac, prog_bar=True, logger=True)\n",
    "\n",
    "    return dict(loss=loss, accuracy=step_ac)\n",
    "\n",
    "  def validation_step(self, batch, batch_idx):\n",
    "    sequences = batch['sequence']\n",
    "    labels = batch['label']\n",
    "    loss, outputs = self(sequences, labels)\n",
    "    predictions = torch.argmax(outputs, dim=1)\n",
    "    step_ac = self.train_ac(predictions, labels)\n",
    "\n",
    "    self.log('val_loss', loss, prog_bar=True, logger=True)\n",
    "    self.log('val_accuracy', step_ac, prog_bar=True, logger=True)\n",
    "\n",
    "    return dict(loss=loss, accuracy=step_ac, loggits=outputs)\n",
    "\n",
    "\n",
    "  def validation_epoch_end(self, validation_step_outputs):\n",
    "    dummyImput = torch.zeros(\n",
    "        (1, self.seq_length, self.n_features), device=self.device)\n",
    "    model_filename = f\"model_{str(self.global_step).zfill(5)}.onnx\"\n",
    "    # torch.onnx.export(self, dummyImput, model_filename, opset_version=11)\n",
    "    # wandb.save(model_filename,)\n",
    "    outputs = [out['loggits'] for out in validation_step_outputs]\n",
    "    flattened_outputs = torch.flatten(\n",
    "          torch.cat(outputs))\n",
    "    self.logger.experiment.log(\n",
    "    {'valid/logits': wandb.Histogram(flattened_outputs.to('cpu')),\n",
    "      'epoch': self.current_epoch}\n",
    "    )\n",
    "\n",
    "\n",
    "  def configure_optimizers(self):\n",
    "    return torch.optim.AdamW(self.parameters(), lr=self.lr)\n",
    " "
   ]
  },
  {
   "cell_type": "code",
   "execution_count": 59,
   "id": "d65afce2",
   "metadata": {},
   "outputs": [],
   "source": [
    "params ={\n",
    "    'n_features': len(feature_columns),\n",
    "    \"n_classes\": len(label_encoder.classes_),\n",
    "    \"seq_length\":256,\n",
    "    \"dropout\": 0.5,\n",
    "    \"n_hidden\": 128,\n",
    "    \"batch_size\": 64,\n",
    "    \"lr\": 0.01,\n",
    "    \"n_layers\" : 2  \n",
    "    }"
   ]
  },
  {
   "cell_type": "code",
   "execution_count": 60,
   "id": "1d9d5d63",
   "metadata": {},
   "outputs": [],
   "source": [
    "def train(params, run_name):\n",
    "    # setup data\n",
    "    data_module =SurfaceDatamodule(train_sequences, val_sequences, batch_size=params['batch_size'])\n",
    "\n",
    "    model = SurfacePredictor(n_features= params['n_features'], \n",
    "                             n_classes= params['n_classes'],\n",
    "                             n_hidden= params['n_hidden'], \n",
    "                             seq_length = params['seq_length'],\n",
    "                             dropout = params['dropout'], \n",
    "                             lr = params['lr'],\n",
    "                             n_layers= params['n_layers'])\n",
    "    # set up W&B logger\n",
    "    checkpoint_callback = ModelCheckpoint(\n",
    "    dirpath='checkpoints',\n",
    "    filename='best_checkpoint',\n",
    "    save_top_k=1,\n",
    "    verbose=True,\n",
    "    monitor='val_accuracy',\n",
    "    mode='max'\n",
    ")\n",
    "    early_stopping_callback = EarlyStopping(monitor='val_accuracy', patience=10, verbose=True)\n",
    "    progress_bar = TQDMProgressBar(refresh_rate=30)\n",
    "\n",
    "    callbacks = [early_stopping_callback, checkpoint_callback, progress_bar]\n",
    "    \n",
    "    logger = WandbLogger(name=run_name, save_dir='logs', project='surface_pred')\n",
    "    progress_bar = TQDMProgressBar(refresh_rate=30,)\n",
    "\n",
    "    callbacks = [progress_bar]\n",
    "\n",
    "    # setup Trainer\n",
    "    trainer = pl.Trainer(gpus = 1,\n",
    "                        max_epochs = 250,\n",
    "                        logger= logger,\n",
    "                        callbacks = callbacks,\n",
    "                        log_every_n_steps=40,\n",
    "                        precision=16)\n",
    "\n",
    "    # train\n",
    "    trainer.fit(model, datamodule=data_module)\n",
    "    wandb.finish()"
   ]
  },
  {
   "cell_type": "code",
   "execution_count": 61,
   "id": "31625608",
   "metadata": {},
   "outputs": [],
   "source": [
    "params ={\n",
    "    'n_features': len(feature_columns),\n",
    "    \"n_classes\": len(label_encoder.classes_),\n",
    "    \"seq_length\":256,\n",
    "    \"dropout\": 0.5,\n",
    "    \"n_hidden\": 128,\n",
    "    \"batch_size\": 64,\n",
    "    \"lr\": 0.01,\n",
    "    \"n_layers\" : 2  \n",
    "    }"
   ]
  },
  {
   "cell_type": "code",
   "execution_count": 62,
   "id": "21de013c",
   "metadata": {},
   "outputs": [
    {
     "data": {
      "text/html": [
       "\n",
       "                    Syncing run <strong><a href=\"https://wandb.ai/phade160/surface_pred/runs/11u1l6ie\" target=\"_blank\">run_41-2</a></strong> to <a href=\"https://wandb.ai/phade160/surface_pred\" target=\"_blank\">Weights & Biases</a> (<a href=\"https://docs.wandb.com/integrations/jupyter.html\" target=\"_blank\">docs</a>).<br/>\n",
       "\n",
       "                "
      ],
      "text/plain": [
       "<IPython.core.display.HTML object>"
      ]
     },
     "metadata": {},
     "output_type": "display_data"
    },
    {
     "data": {
      "application/vnd.jupyter.widget-view+json": {
       "model_id": "5a3e74be04964de0b37ce179393a0b7a",
       "version_major": 2,
       "version_minor": 0
      },
      "text/plain": [
       "Validation sanity check: 0it [00:00, ?it/s]"
      ]
     },
     "metadata": {},
     "output_type": "display_data"
    },
    {
     "data": {
      "application/vnd.jupyter.widget-view+json": {
       "model_id": "b9effe761d72424e889234ee0dd4f2e0",
       "version_major": 2,
       "version_minor": 0
      },
      "text/plain": [
       "Training: 0it [00:00, ?it/s]"
      ]
     },
     "metadata": {},
     "output_type": "display_data"
    },
    {
     "data": {
      "application/vnd.jupyter.widget-view+json": {
       "model_id": "1de5f644050947549dc165f0559a57e7",
       "version_major": 2,
       "version_minor": 0
      },
      "text/plain": [
       "Validating: 0it [00:00, ?it/s]"
      ]
     },
     "metadata": {},
     "output_type": "display_data"
    },
    {
     "data": {
      "application/vnd.jupyter.widget-view+json": {
       "model_id": "3790ec993e374d558df7d7d339fc15c6",
       "version_major": 2,
       "version_minor": 0
      },
      "text/plain": [
       "Validating: 0it [00:00, ?it/s]"
      ]
     },
     "metadata": {},
     "output_type": "display_data"
    },
    {
     "data": {
      "application/vnd.jupyter.widget-view+json": {
       "model_id": "9fa94db085b84c8cafd513a2a2a1ede4",
       "version_major": 2,
       "version_minor": 0
      },
      "text/plain": [
       "Validating: 0it [00:00, ?it/s]"
      ]
     },
     "metadata": {},
     "output_type": "display_data"
    },
    {
     "data": {
      "application/vnd.jupyter.widget-view+json": {
       "model_id": "d73ae00f1a3549399417beef1e7ae59c",
       "version_major": 2,
       "version_minor": 0
      },
      "text/plain": [
       "Validating: 0it [00:00, ?it/s]"
      ]
     },
     "metadata": {},
     "output_type": "display_data"
    },
    {
     "data": {
      "application/vnd.jupyter.widget-view+json": {
       "model_id": "0940bb68f59441ed9d8e0bed4a9ad031",
       "version_major": 2,
       "version_minor": 0
      },
      "text/plain": [
       "Validating: 0it [00:00, ?it/s]"
      ]
     },
     "metadata": {},
     "output_type": "display_data"
    },
    {
     "data": {
      "application/vnd.jupyter.widget-view+json": {
       "model_id": "b5bd66be3df446f9b7be44ef861473f3",
       "version_major": 2,
       "version_minor": 0
      },
      "text/plain": [
       "Validating: 0it [00:00, ?it/s]"
      ]
     },
     "metadata": {},
     "output_type": "display_data"
    },
    {
     "data": {
      "application/vnd.jupyter.widget-view+json": {
       "model_id": "1681bcbdcd5c4e5fb6b0d3f00b765920",
       "version_major": 2,
       "version_minor": 0
      },
      "text/plain": [
       "Validating: 0it [00:00, ?it/s]"
      ]
     },
     "metadata": {},
     "output_type": "display_data"
    },
    {
     "data": {
      "application/vnd.jupyter.widget-view+json": {
       "model_id": "9454aad0eda44e3599aa80b20bdd3706",
       "version_major": 2,
       "version_minor": 0
      },
      "text/plain": [
       "Validating: 0it [00:00, ?it/s]"
      ]
     },
     "metadata": {},
     "output_type": "display_data"
    },
    {
     "data": {
      "application/vnd.jupyter.widget-view+json": {
       "model_id": "0e815d11de444060a87cd371c791b496",
       "version_major": 2,
       "version_minor": 0
      },
      "text/plain": [
       "Validating: 0it [00:00, ?it/s]"
      ]
     },
     "metadata": {},
     "output_type": "display_data"
    },
    {
     "data": {
      "application/vnd.jupyter.widget-view+json": {
       "model_id": "5ad7d51c37094f30ba6c7310fadba97b",
       "version_major": 2,
       "version_minor": 0
      },
      "text/plain": [
       "Validating: 0it [00:00, ?it/s]"
      ]
     },
     "metadata": {},
     "output_type": "display_data"
    },
    {
     "data": {
      "application/vnd.jupyter.widget-view+json": {
       "model_id": "793519bc400746f7b5bd7c859645ec71",
       "version_major": 2,
       "version_minor": 0
      },
      "text/plain": [
       "Validating: 0it [00:00, ?it/s]"
      ]
     },
     "metadata": {},
     "output_type": "display_data"
    },
    {
     "data": {
      "application/vnd.jupyter.widget-view+json": {
       "model_id": "5c662d90692340fd9585d0b9200311ae",
       "version_major": 2,
       "version_minor": 0
      },
      "text/plain": [
       "Validating: 0it [00:00, ?it/s]"
      ]
     },
     "metadata": {},
     "output_type": "display_data"
    },
    {
     "data": {
      "application/vnd.jupyter.widget-view+json": {
       "model_id": "3f0df9f608cc46bc8003650a03847f87",
       "version_major": 2,
       "version_minor": 0
      },
      "text/plain": [
       "Validating: 0it [00:00, ?it/s]"
      ]
     },
     "metadata": {},
     "output_type": "display_data"
    },
    {
     "data": {
      "application/vnd.jupyter.widget-view+json": {
       "model_id": "a49ca680dd4f4f31ac6e45e09199f763",
       "version_major": 2,
       "version_minor": 0
      },
      "text/plain": [
       "Validating: 0it [00:00, ?it/s]"
      ]
     },
     "metadata": {},
     "output_type": "display_data"
    },
    {
     "data": {
      "application/vnd.jupyter.widget-view+json": {
       "model_id": "64551c60eca0434eb07b3ccbf33bd0b8",
       "version_major": 2,
       "version_minor": 0
      },
      "text/plain": [
       "Validating: 0it [00:00, ?it/s]"
      ]
     },
     "metadata": {},
     "output_type": "display_data"
    },
    {
     "data": {
      "application/vnd.jupyter.widget-view+json": {
       "model_id": "eecbdb7e3dda46c4a5ef6c8dc8e5688b",
       "version_major": 2,
       "version_minor": 0
      },
      "text/plain": [
       "Validating: 0it [00:00, ?it/s]"
      ]
     },
     "metadata": {},
     "output_type": "display_data"
    },
    {
     "data": {
      "application/vnd.jupyter.widget-view+json": {
       "model_id": "2c1be860920d4f74ada566b7231590de",
       "version_major": 2,
       "version_minor": 0
      },
      "text/plain": [
       "Validating: 0it [00:00, ?it/s]"
      ]
     },
     "metadata": {},
     "output_type": "display_data"
    },
    {
     "data": {
      "application/vnd.jupyter.widget-view+json": {
       "model_id": "a58737faeafb4bbba332874e4e1f94c2",
       "version_major": 2,
       "version_minor": 0
      },
      "text/plain": [
       "Validating: 0it [00:00, ?it/s]"
      ]
     },
     "metadata": {},
     "output_type": "display_data"
    },
    {
     "data": {
      "application/vnd.jupyter.widget-view+json": {
       "model_id": "332ddf53f3c4463f96df7084ca9106ae",
       "version_major": 2,
       "version_minor": 0
      },
      "text/plain": [
       "Validating: 0it [00:00, ?it/s]"
      ]
     },
     "metadata": {},
     "output_type": "display_data"
    },
    {
     "data": {
      "application/vnd.jupyter.widget-view+json": {
       "model_id": "a8c3e98c539b4df6b862b76cc1505d3a",
       "version_major": 2,
       "version_minor": 0
      },
      "text/plain": [
       "Validating: 0it [00:00, ?it/s]"
      ]
     },
     "metadata": {},
     "output_type": "display_data"
    },
    {
     "data": {
      "application/vnd.jupyter.widget-view+json": {
       "model_id": "c38393638b084aa1b1d13afe3667a179",
       "version_major": 2,
       "version_minor": 0
      },
      "text/plain": [
       "Validating: 0it [00:00, ?it/s]"
      ]
     },
     "metadata": {},
     "output_type": "display_data"
    },
    {
     "data": {
      "application/vnd.jupyter.widget-view+json": {
       "model_id": "1c3f210ed1f843feb3152daf3709f8db",
       "version_major": 2,
       "version_minor": 0
      },
      "text/plain": [
       "Validating: 0it [00:00, ?it/s]"
      ]
     },
     "metadata": {},
     "output_type": "display_data"
    },
    {
     "data": {
      "application/vnd.jupyter.widget-view+json": {
       "model_id": "5631c193432d4ae7928ea170362de5ba",
       "version_major": 2,
       "version_minor": 0
      },
      "text/plain": [
       "Validating: 0it [00:00, ?it/s]"
      ]
     },
     "metadata": {},
     "output_type": "display_data"
    },
    {
     "data": {
      "application/vnd.jupyter.widget-view+json": {
       "model_id": "f6ef4b3873284134aeccc3fe6313a2c6",
       "version_major": 2,
       "version_minor": 0
      },
      "text/plain": [
       "Validating: 0it [00:00, ?it/s]"
      ]
     },
     "metadata": {},
     "output_type": "display_data"
    },
    {
     "data": {
      "application/vnd.jupyter.widget-view+json": {
       "model_id": "6fc703ad6597446c929b24e2d56f8de3",
       "version_major": 2,
       "version_minor": 0
      },
      "text/plain": [
       "Validating: 0it [00:00, ?it/s]"
      ]
     },
     "metadata": {},
     "output_type": "display_data"
    },
    {
     "data": {
      "application/vnd.jupyter.widget-view+json": {
       "model_id": "200d67a9aee94d9197937f074f82a582",
       "version_major": 2,
       "version_minor": 0
      },
      "text/plain": [
       "Validating: 0it [00:00, ?it/s]"
      ]
     },
     "metadata": {},
     "output_type": "display_data"
    },
    {
     "data": {
      "application/vnd.jupyter.widget-view+json": {
       "model_id": "cd162edb889041eda42c6fc0fdbd35a8",
       "version_major": 2,
       "version_minor": 0
      },
      "text/plain": [
       "Validating: 0it [00:00, ?it/s]"
      ]
     },
     "metadata": {},
     "output_type": "display_data"
    },
    {
     "data": {
      "application/vnd.jupyter.widget-view+json": {
       "model_id": "32db4ddc44414fe69bf070a18510a36b",
       "version_major": 2,
       "version_minor": 0
      },
      "text/plain": [
       "Validating: 0it [00:00, ?it/s]"
      ]
     },
     "metadata": {},
     "output_type": "display_data"
    },
    {
     "data": {
      "application/vnd.jupyter.widget-view+json": {
       "model_id": "c0dd3ce9665d4189b1e4569707bdbd4c",
       "version_major": 2,
       "version_minor": 0
      },
      "text/plain": [
       "Validating: 0it [00:00, ?it/s]"
      ]
     },
     "metadata": {},
     "output_type": "display_data"
    },
    {
     "data": {
      "application/vnd.jupyter.widget-view+json": {
       "model_id": "994a43d84f964ac1b9d02e7d51bf2413",
       "version_major": 2,
       "version_minor": 0
      },
      "text/plain": [
       "Validating: 0it [00:00, ?it/s]"
      ]
     },
     "metadata": {},
     "output_type": "display_data"
    },
    {
     "data": {
      "application/vnd.jupyter.widget-view+json": {
       "model_id": "ec80a6c343e843a497406e93d7919077",
       "version_major": 2,
       "version_minor": 0
      },
      "text/plain": [
       "Validating: 0it [00:00, ?it/s]"
      ]
     },
     "metadata": {},
     "output_type": "display_data"
    },
    {
     "data": {
      "application/vnd.jupyter.widget-view+json": {
       "model_id": "0af6a766702e47efaa61d597184231fa",
       "version_major": 2,
       "version_minor": 0
      },
      "text/plain": [
       "Validating: 0it [00:00, ?it/s]"
      ]
     },
     "metadata": {},
     "output_type": "display_data"
    },
    {
     "data": {
      "application/vnd.jupyter.widget-view+json": {
       "model_id": "ba9b3aa2bbac4b5b954b0b28b9c5edfd",
       "version_major": 2,
       "version_minor": 0
      },
      "text/plain": [
       "Validating: 0it [00:00, ?it/s]"
      ]
     },
     "metadata": {},
     "output_type": "display_data"
    },
    {
     "data": {
      "application/vnd.jupyter.widget-view+json": {
       "model_id": "a6a5e4a7fa36445b862c07ae00ea99ba",
       "version_major": 2,
       "version_minor": 0
      },
      "text/plain": [
       "Validating: 0it [00:00, ?it/s]"
      ]
     },
     "metadata": {},
     "output_type": "display_data"
    },
    {
     "data": {
      "application/vnd.jupyter.widget-view+json": {
       "model_id": "d2b3617676f3490195fabd1d6233f98d",
       "version_major": 2,
       "version_minor": 0
      },
      "text/plain": [
       "Validating: 0it [00:00, ?it/s]"
      ]
     },
     "metadata": {},
     "output_type": "display_data"
    },
    {
     "data": {
      "application/vnd.jupyter.widget-view+json": {
       "model_id": "b43630bd39fc44c4b52ff85fdf0423a6",
       "version_major": 2,
       "version_minor": 0
      },
      "text/plain": [
       "Validating: 0it [00:00, ?it/s]"
      ]
     },
     "metadata": {},
     "output_type": "display_data"
    },
    {
     "data": {
      "application/vnd.jupyter.widget-view+json": {
       "model_id": "7877a048115d4620a0049948ff70936d",
       "version_major": 2,
       "version_minor": 0
      },
      "text/plain": [
       "Validating: 0it [00:00, ?it/s]"
      ]
     },
     "metadata": {},
     "output_type": "display_data"
    },
    {
     "data": {
      "application/vnd.jupyter.widget-view+json": {
       "model_id": "6bf2b4c3dde644eca7be4805e4e2782d",
       "version_major": 2,
       "version_minor": 0
      },
      "text/plain": [
       "Validating: 0it [00:00, ?it/s]"
      ]
     },
     "metadata": {},
     "output_type": "display_data"
    },
    {
     "data": {
      "application/vnd.jupyter.widget-view+json": {
       "model_id": "84d846cfdf124ba4aaed808c39708bf0",
       "version_major": 2,
       "version_minor": 0
      },
      "text/plain": [
       "Validating: 0it [00:00, ?it/s]"
      ]
     },
     "metadata": {},
     "output_type": "display_data"
    },
    {
     "data": {
      "application/vnd.jupyter.widget-view+json": {
       "model_id": "62fc58a078344eda98bab2cfd8269eb6",
       "version_major": 2,
       "version_minor": 0
      },
      "text/plain": [
       "Validating: 0it [00:00, ?it/s]"
      ]
     },
     "metadata": {},
     "output_type": "display_data"
    },
    {
     "data": {
      "application/vnd.jupyter.widget-view+json": {
       "model_id": "f19bb818ebd94863b5c2f7296eecaaf5",
       "version_major": 2,
       "version_minor": 0
      },
      "text/plain": [
       "Validating: 0it [00:00, ?it/s]"
      ]
     },
     "metadata": {},
     "output_type": "display_data"
    },
    {
     "data": {
      "application/vnd.jupyter.widget-view+json": {
       "model_id": "291cc83fb31c41dfa98faca6848e844d",
       "version_major": 2,
       "version_minor": 0
      },
      "text/plain": [
       "Validating: 0it [00:00, ?it/s]"
      ]
     },
     "metadata": {},
     "output_type": "display_data"
    },
    {
     "data": {
      "application/vnd.jupyter.widget-view+json": {
       "model_id": "36226396f37242d5a14174400c19e0dc",
       "version_major": 2,
       "version_minor": 0
      },
      "text/plain": [
       "Validating: 0it [00:00, ?it/s]"
      ]
     },
     "metadata": {},
     "output_type": "display_data"
    },
    {
     "data": {
      "application/vnd.jupyter.widget-view+json": {
       "model_id": "9d2d74a69c4b4b97add268cbb3a6583f",
       "version_major": 2,
       "version_minor": 0
      },
      "text/plain": [
       "Validating: 0it [00:00, ?it/s]"
      ]
     },
     "metadata": {},
     "output_type": "display_data"
    },
    {
     "data": {
      "application/vnd.jupyter.widget-view+json": {
       "model_id": "8dd0599cd4874ea7aa1d71a7929fe38c",
       "version_major": 2,
       "version_minor": 0
      },
      "text/plain": [
       "Validating: 0it [00:00, ?it/s]"
      ]
     },
     "metadata": {},
     "output_type": "display_data"
    },
    {
     "data": {
      "application/vnd.jupyter.widget-view+json": {
       "model_id": "572d9985cbaa4069a7ed37c2111419a3",
       "version_major": 2,
       "version_minor": 0
      },
      "text/plain": [
       "Validating: 0it [00:00, ?it/s]"
      ]
     },
     "metadata": {},
     "output_type": "display_data"
    },
    {
     "data": {
      "application/vnd.jupyter.widget-view+json": {
       "model_id": "60a88ae7a65543f4bb653a5114f8e8a7",
       "version_major": 2,
       "version_minor": 0
      },
      "text/plain": [
       "Validating: 0it [00:00, ?it/s]"
      ]
     },
     "metadata": {},
     "output_type": "display_data"
    },
    {
     "data": {
      "application/vnd.jupyter.widget-view+json": {
       "model_id": "61d2e4d69b9943089c4d181171e92b96",
       "version_major": 2,
       "version_minor": 0
      },
      "text/plain": [
       "Validating: 0it [00:00, ?it/s]"
      ]
     },
     "metadata": {},
     "output_type": "display_data"
    },
    {
     "data": {
      "application/vnd.jupyter.widget-view+json": {
       "model_id": "feb76a2fcba441f2bcc39a2d65934cdf",
       "version_major": 2,
       "version_minor": 0
      },
      "text/plain": [
       "Validating: 0it [00:00, ?it/s]"
      ]
     },
     "metadata": {},
     "output_type": "display_data"
    },
    {
     "data": {
      "application/vnd.jupyter.widget-view+json": {
       "model_id": "a25002aecc884ea8a114852247365b95",
       "version_major": 2,
       "version_minor": 0
      },
      "text/plain": [
       "Validating: 0it [00:00, ?it/s]"
      ]
     },
     "metadata": {},
     "output_type": "display_data"
    },
    {
     "data": {
      "application/vnd.jupyter.widget-view+json": {
       "model_id": "7ba4606bb6914b22b167a757cd6ab7ca",
       "version_major": 2,
       "version_minor": 0
      },
      "text/plain": [
       "Validating: 0it [00:00, ?it/s]"
      ]
     },
     "metadata": {},
     "output_type": "display_data"
    },
    {
     "data": {
      "application/vnd.jupyter.widget-view+json": {
       "model_id": "7066511159ee4d7096dd6aa04d62c17e",
       "version_major": 2,
       "version_minor": 0
      },
      "text/plain": [
       "Validating: 0it [00:00, ?it/s]"
      ]
     },
     "metadata": {},
     "output_type": "display_data"
    },
    {
     "data": {
      "application/vnd.jupyter.widget-view+json": {
       "model_id": "790215b4ce234706a4df2c2789336bcb",
       "version_major": 2,
       "version_minor": 0
      },
      "text/plain": [
       "Validating: 0it [00:00, ?it/s]"
      ]
     },
     "metadata": {},
     "output_type": "display_data"
    },
    {
     "data": {
      "application/vnd.jupyter.widget-view+json": {
       "model_id": "c5509f234bf74fffb5a783e2e166775c",
       "version_major": 2,
       "version_minor": 0
      },
      "text/plain": [
       "Validating: 0it [00:00, ?it/s]"
      ]
     },
     "metadata": {},
     "output_type": "display_data"
    },
    {
     "data": {
      "application/vnd.jupyter.widget-view+json": {
       "model_id": "9f49a19dc8e44522a155f84ff714598f",
       "version_major": 2,
       "version_minor": 0
      },
      "text/plain": [
       "Validating: 0it [00:00, ?it/s]"
      ]
     },
     "metadata": {},
     "output_type": "display_data"
    },
    {
     "data": {
      "application/vnd.jupyter.widget-view+json": {
       "model_id": "71396ca105e24c1e867b4918e219affb",
       "version_major": 2,
       "version_minor": 0
      },
      "text/plain": [
       "Validating: 0it [00:00, ?it/s]"
      ]
     },
     "metadata": {},
     "output_type": "display_data"
    },
    {
     "data": {
      "application/vnd.jupyter.widget-view+json": {
       "model_id": "462b94456cae433b85b6331d76d34534",
       "version_major": 2,
       "version_minor": 0
      },
      "text/plain": [
       "Validating: 0it [00:00, ?it/s]"
      ]
     },
     "metadata": {},
     "output_type": "display_data"
    },
    {
     "data": {
      "application/vnd.jupyter.widget-view+json": {
       "model_id": "89b622ef8d714144b5b4181b8ca79984",
       "version_major": 2,
       "version_minor": 0
      },
      "text/plain": [
       "Validating: 0it [00:00, ?it/s]"
      ]
     },
     "metadata": {},
     "output_type": "display_data"
    },
    {
     "data": {
      "application/vnd.jupyter.widget-view+json": {
       "model_id": "6ef17ebbb9654162a992ca1523eaf877",
       "version_major": 2,
       "version_minor": 0
      },
      "text/plain": [
       "Validating: 0it [00:00, ?it/s]"
      ]
     },
     "metadata": {},
     "output_type": "display_data"
    },
    {
     "data": {
      "application/vnd.jupyter.widget-view+json": {
       "model_id": "a21d86ab6f274a6a8ecf89e26ec9b7df",
       "version_major": 2,
       "version_minor": 0
      },
      "text/plain": [
       "Validating: 0it [00:00, ?it/s]"
      ]
     },
     "metadata": {},
     "output_type": "display_data"
    },
    {
     "data": {
      "application/vnd.jupyter.widget-view+json": {
       "model_id": "f093d27671aa41febf7488f41980295f",
       "version_major": 2,
       "version_minor": 0
      },
      "text/plain": [
       "Validating: 0it [00:00, ?it/s]"
      ]
     },
     "metadata": {},
     "output_type": "display_data"
    },
    {
     "data": {
      "application/vnd.jupyter.widget-view+json": {
       "model_id": "371e4d4f5bb54a5cafe5ca4aef1dec08",
       "version_major": 2,
       "version_minor": 0
      },
      "text/plain": [
       "Validating: 0it [00:00, ?it/s]"
      ]
     },
     "metadata": {},
     "output_type": "display_data"
    },
    {
     "data": {
      "application/vnd.jupyter.widget-view+json": {
       "model_id": "7e9bcd65270f4b7788acce2aa9a790cd",
       "version_major": 2,
       "version_minor": 0
      },
      "text/plain": [
       "Validating: 0it [00:00, ?it/s]"
      ]
     },
     "metadata": {},
     "output_type": "display_data"
    },
    {
     "data": {
      "application/vnd.jupyter.widget-view+json": {
       "model_id": "dbd2b126d1114cdd82366ec77eb853ec",
       "version_major": 2,
       "version_minor": 0
      },
      "text/plain": [
       "Validating: 0it [00:00, ?it/s]"
      ]
     },
     "metadata": {},
     "output_type": "display_data"
    },
    {
     "data": {
      "application/vnd.jupyter.widget-view+json": {
       "model_id": "c42b875ec68b4c66a226b1458984057b",
       "version_major": 2,
       "version_minor": 0
      },
      "text/plain": [
       "Validating: 0it [00:00, ?it/s]"
      ]
     },
     "metadata": {},
     "output_type": "display_data"
    },
    {
     "data": {
      "application/vnd.jupyter.widget-view+json": {
       "model_id": "7d3071e88a7a4afd9c9c496219f3803a",
       "version_major": 2,
       "version_minor": 0
      },
      "text/plain": [
       "Validating: 0it [00:00, ?it/s]"
      ]
     },
     "metadata": {},
     "output_type": "display_data"
    },
    {
     "data": {
      "application/vnd.jupyter.widget-view+json": {
       "model_id": "38724fb3400a4c1a916a078021e96c49",
       "version_major": 2,
       "version_minor": 0
      },
      "text/plain": [
       "Validating: 0it [00:00, ?it/s]"
      ]
     },
     "metadata": {},
     "output_type": "display_data"
    },
    {
     "data": {
      "application/vnd.jupyter.widget-view+json": {
       "model_id": "5c8ac73b64b44b249d03cb519c4c637b",
       "version_major": 2,
       "version_minor": 0
      },
      "text/plain": [
       "Validating: 0it [00:00, ?it/s]"
      ]
     },
     "metadata": {},
     "output_type": "display_data"
    },
    {
     "data": {
      "application/vnd.jupyter.widget-view+json": {
       "model_id": "c146d1db8a7443078af37619e052bf19",
       "version_major": 2,
       "version_minor": 0
      },
      "text/plain": [
       "Validating: 0it [00:00, ?it/s]"
      ]
     },
     "metadata": {},
     "output_type": "display_data"
    },
    {
     "data": {
      "application/vnd.jupyter.widget-view+json": {
       "model_id": "24c38f8ade3849ee9d8205be0658fb1c",
       "version_major": 2,
       "version_minor": 0
      },
      "text/plain": [
       "Validating: 0it [00:00, ?it/s]"
      ]
     },
     "metadata": {},
     "output_type": "display_data"
    },
    {
     "data": {
      "application/vnd.jupyter.widget-view+json": {
       "model_id": "20449d3df9064b4c8e3346a87d0f346b",
       "version_major": 2,
       "version_minor": 0
      },
      "text/plain": [
       "Validating: 0it [00:00, ?it/s]"
      ]
     },
     "metadata": {},
     "output_type": "display_data"
    },
    {
     "data": {
      "application/vnd.jupyter.widget-view+json": {
       "model_id": "33886b9daeef4d65ad48cd74392b7c04",
       "version_major": 2,
       "version_minor": 0
      },
      "text/plain": [
       "Validating: 0it [00:00, ?it/s]"
      ]
     },
     "metadata": {},
     "output_type": "display_data"
    },
    {
     "data": {
      "application/vnd.jupyter.widget-view+json": {
       "model_id": "fae8a9730b534a05a402ead7869b573f",
       "version_major": 2,
       "version_minor": 0
      },
      "text/plain": [
       "Validating: 0it [00:00, ?it/s]"
      ]
     },
     "metadata": {},
     "output_type": "display_data"
    },
    {
     "data": {
      "application/vnd.jupyter.widget-view+json": {
       "model_id": "000453d417eb433a97d3479379ea2891",
       "version_major": 2,
       "version_minor": 0
      },
      "text/plain": [
       "Validating: 0it [00:00, ?it/s]"
      ]
     },
     "metadata": {},
     "output_type": "display_data"
    },
    {
     "data": {
      "application/vnd.jupyter.widget-view+json": {
       "model_id": "ff88b12a7ea74c98bad8814fb9e1c1b5",
       "version_major": 2,
       "version_minor": 0
      },
      "text/plain": [
       "Validating: 0it [00:00, ?it/s]"
      ]
     },
     "metadata": {},
     "output_type": "display_data"
    },
    {
     "data": {
      "application/vnd.jupyter.widget-view+json": {
       "model_id": "559c3370da1043f7bb91c80eeb5c452b",
       "version_major": 2,
       "version_minor": 0
      },
      "text/plain": [
       "Validating: 0it [00:00, ?it/s]"
      ]
     },
     "metadata": {},
     "output_type": "display_data"
    },
    {
     "data": {
      "application/vnd.jupyter.widget-view+json": {
       "model_id": "be80b01fe5754d65ba7da7ef8f7fadfb",
       "version_major": 2,
       "version_minor": 0
      },
      "text/plain": [
       "Validating: 0it [00:00, ?it/s]"
      ]
     },
     "metadata": {},
     "output_type": "display_data"
    },
    {
     "data": {
      "application/vnd.jupyter.widget-view+json": {
       "model_id": "fb57ccf125034e01a347449e8b18c4aa",
       "version_major": 2,
       "version_minor": 0
      },
      "text/plain": [
       "Validating: 0it [00:00, ?it/s]"
      ]
     },
     "metadata": {},
     "output_type": "display_data"
    },
    {
     "data": {
      "application/vnd.jupyter.widget-view+json": {
       "model_id": "fcf22bf8c3cc4235a0f73acbbd9e13d7",
       "version_major": 2,
       "version_minor": 0
      },
      "text/plain": [
       "Validating: 0it [00:00, ?it/s]"
      ]
     },
     "metadata": {},
     "output_type": "display_data"
    },
    {
     "data": {
      "application/vnd.jupyter.widget-view+json": {
       "model_id": "9a2ff178f1344271bf8eb82ac05b5400",
       "version_major": 2,
       "version_minor": 0
      },
      "text/plain": [
       "Validating: 0it [00:00, ?it/s]"
      ]
     },
     "metadata": {},
     "output_type": "display_data"
    },
    {
     "data": {
      "application/vnd.jupyter.widget-view+json": {
       "model_id": "64053a3555644aa29634bf0d5984c5e0",
       "version_major": 2,
       "version_minor": 0
      },
      "text/plain": [
       "Validating: 0it [00:00, ?it/s]"
      ]
     },
     "metadata": {},
     "output_type": "display_data"
    },
    {
     "data": {
      "application/vnd.jupyter.widget-view+json": {
       "model_id": "b3b722550dcb446a831cfeb850b47538",
       "version_major": 2,
       "version_minor": 0
      },
      "text/plain": [
       "Validating: 0it [00:00, ?it/s]"
      ]
     },
     "metadata": {},
     "output_type": "display_data"
    },
    {
     "data": {
      "application/vnd.jupyter.widget-view+json": {
       "model_id": "53068a9daa024af58163e3e949e6756f",
       "version_major": 2,
       "version_minor": 0
      },
      "text/plain": [
       "Validating: 0it [00:00, ?it/s]"
      ]
     },
     "metadata": {},
     "output_type": "display_data"
    },
    {
     "data": {
      "application/vnd.jupyter.widget-view+json": {
       "model_id": "2dfc2fe535434eb5916b8940c9b305e4",
       "version_major": 2,
       "version_minor": 0
      },
      "text/plain": [
       "Validating: 0it [00:00, ?it/s]"
      ]
     },
     "metadata": {},
     "output_type": "display_data"
    },
    {
     "data": {
      "application/vnd.jupyter.widget-view+json": {
       "model_id": "0bc9049dc3c447259d6be60f552154b7",
       "version_major": 2,
       "version_minor": 0
      },
      "text/plain": [
       "Validating: 0it [00:00, ?it/s]"
      ]
     },
     "metadata": {},
     "output_type": "display_data"
    },
    {
     "data": {
      "application/vnd.jupyter.widget-view+json": {
       "model_id": "475f91f1391b4ac7a6ba5541d32f2791",
       "version_major": 2,
       "version_minor": 0
      },
      "text/plain": [
       "Validating: 0it [00:00, ?it/s]"
      ]
     },
     "metadata": {},
     "output_type": "display_data"
    },
    {
     "data": {
      "application/vnd.jupyter.widget-view+json": {
       "model_id": "8929626ac70543b5bbaccdbf37a809d5",
       "version_major": 2,
       "version_minor": 0
      },
      "text/plain": [
       "Validating: 0it [00:00, ?it/s]"
      ]
     },
     "metadata": {},
     "output_type": "display_data"
    },
    {
     "data": {
      "application/vnd.jupyter.widget-view+json": {
       "model_id": "9f7c224d57de465e9f3d38f1f588cefd",
       "version_major": 2,
       "version_minor": 0
      },
      "text/plain": [
       "Validating: 0it [00:00, ?it/s]"
      ]
     },
     "metadata": {},
     "output_type": "display_data"
    },
    {
     "data": {
      "application/vnd.jupyter.widget-view+json": {
       "model_id": "32e48bd1648545b184bda314f1b50c64",
       "version_major": 2,
       "version_minor": 0
      },
      "text/plain": [
       "Validating: 0it [00:00, ?it/s]"
      ]
     },
     "metadata": {},
     "output_type": "display_data"
    },
    {
     "data": {
      "application/vnd.jupyter.widget-view+json": {
       "model_id": "35164eae011744bc91b28f0c987de593",
       "version_major": 2,
       "version_minor": 0
      },
      "text/plain": [
       "Validating: 0it [00:00, ?it/s]"
      ]
     },
     "metadata": {},
     "output_type": "display_data"
    },
    {
     "data": {
      "application/vnd.jupyter.widget-view+json": {
       "model_id": "d64d70b9714a4cacaa22e087ae3a8ea5",
       "version_major": 2,
       "version_minor": 0
      },
      "text/plain": [
       "Validating: 0it [00:00, ?it/s]"
      ]
     },
     "metadata": {},
     "output_type": "display_data"
    },
    {
     "data": {
      "application/vnd.jupyter.widget-view+json": {
       "model_id": "a984ea059e2140e9ad14a02f93a35099",
       "version_major": 2,
       "version_minor": 0
      },
      "text/plain": [
       "Validating: 0it [00:00, ?it/s]"
      ]
     },
     "metadata": {},
     "output_type": "display_data"
    },
    {
     "data": {
      "application/vnd.jupyter.widget-view+json": {
       "model_id": "58f1cca74f424bae88144ce5180077fb",
       "version_major": 2,
       "version_minor": 0
      },
      "text/plain": [
       "Validating: 0it [00:00, ?it/s]"
      ]
     },
     "metadata": {},
     "output_type": "display_data"
    },
    {
     "data": {
      "application/vnd.jupyter.widget-view+json": {
       "model_id": "89989b26941444a19e0078a27b1df6c2",
       "version_major": 2,
       "version_minor": 0
      },
      "text/plain": [
       "Validating: 0it [00:00, ?it/s]"
      ]
     },
     "metadata": {},
     "output_type": "display_data"
    },
    {
     "data": {
      "application/vnd.jupyter.widget-view+json": {
       "model_id": "3fa620f7bf9446d5a9f5865b767cd813",
       "version_major": 2,
       "version_minor": 0
      },
      "text/plain": [
       "Validating: 0it [00:00, ?it/s]"
      ]
     },
     "metadata": {},
     "output_type": "display_data"
    },
    {
     "data": {
      "application/vnd.jupyter.widget-view+json": {
       "model_id": "f42dbcedcf994e92809d001c346481ae",
       "version_major": 2,
       "version_minor": 0
      },
      "text/plain": [
       "Validating: 0it [00:00, ?it/s]"
      ]
     },
     "metadata": {},
     "output_type": "display_data"
    },
    {
     "data": {
      "application/vnd.jupyter.widget-view+json": {
       "model_id": "f924e39148324b90add4c918dc99e5b6",
       "version_major": 2,
       "version_minor": 0
      },
      "text/plain": [
       "Validating: 0it [00:00, ?it/s]"
      ]
     },
     "metadata": {},
     "output_type": "display_data"
    },
    {
     "data": {
      "application/vnd.jupyter.widget-view+json": {
       "model_id": "1b7dead88d18490daf5f0f6eb7979965",
       "version_major": 2,
       "version_minor": 0
      },
      "text/plain": [
       "Validating: 0it [00:00, ?it/s]"
      ]
     },
     "metadata": {},
     "output_type": "display_data"
    },
    {
     "data": {
      "application/vnd.jupyter.widget-view+json": {
       "model_id": "e5a7450006bc4bb9be88a88e4f2921c7",
       "version_major": 2,
       "version_minor": 0
      },
      "text/plain": [
       "Validating: 0it [00:00, ?it/s]"
      ]
     },
     "metadata": {},
     "output_type": "display_data"
    },
    {
     "data": {
      "application/vnd.jupyter.widget-view+json": {
       "model_id": "ce0296e08972435eba3e051188355fc4",
       "version_major": 2,
       "version_minor": 0
      },
      "text/plain": [
       "Validating: 0it [00:00, ?it/s]"
      ]
     },
     "metadata": {},
     "output_type": "display_data"
    },
    {
     "data": {
      "application/vnd.jupyter.widget-view+json": {
       "model_id": "f1886d2c04184ad6a821e9e501e71b0b",
       "version_major": 2,
       "version_minor": 0
      },
      "text/plain": [
       "Validating: 0it [00:00, ?it/s]"
      ]
     },
     "metadata": {},
     "output_type": "display_data"
    },
    {
     "data": {
      "application/vnd.jupyter.widget-view+json": {
       "model_id": "a1c01db2e51a49c59dec6206039b1f82",
       "version_major": 2,
       "version_minor": 0
      },
      "text/plain": [
       "Validating: 0it [00:00, ?it/s]"
      ]
     },
     "metadata": {},
     "output_type": "display_data"
    },
    {
     "data": {
      "application/vnd.jupyter.widget-view+json": {
       "model_id": "9c1e4e5ee4d9410ca71eb76ffe312bea",
       "version_major": 2,
       "version_minor": 0
      },
      "text/plain": [
       "Validating: 0it [00:00, ?it/s]"
      ]
     },
     "metadata": {},
     "output_type": "display_data"
    },
    {
     "data": {
      "application/vnd.jupyter.widget-view+json": {
       "model_id": "a3618752352847df9f0a68bbf7fc5bdf",
       "version_major": 2,
       "version_minor": 0
      },
      "text/plain": [
       "Validating: 0it [00:00, ?it/s]"
      ]
     },
     "metadata": {},
     "output_type": "display_data"
    },
    {
     "data": {
      "application/vnd.jupyter.widget-view+json": {
       "model_id": "f55be39689d54e54aefd6944a4ff7948",
       "version_major": 2,
       "version_minor": 0
      },
      "text/plain": [
       "Validating: 0it [00:00, ?it/s]"
      ]
     },
     "metadata": {},
     "output_type": "display_data"
    },
    {
     "data": {
      "application/vnd.jupyter.widget-view+json": {
       "model_id": "11f28e2212d442ffae1ed63d8402abf0",
       "version_major": 2,
       "version_minor": 0
      },
      "text/plain": [
       "Validating: 0it [00:00, ?it/s]"
      ]
     },
     "metadata": {},
     "output_type": "display_data"
    },
    {
     "data": {
      "application/vnd.jupyter.widget-view+json": {
       "model_id": "b068b794e140468aa366862d95537643",
       "version_major": 2,
       "version_minor": 0
      },
      "text/plain": [
       "Validating: 0it [00:00, ?it/s]"
      ]
     },
     "metadata": {},
     "output_type": "display_data"
    },
    {
     "data": {
      "application/vnd.jupyter.widget-view+json": {
       "model_id": "b6f5ee1ca6e4474489221b36700fd058",
       "version_major": 2,
       "version_minor": 0
      },
      "text/plain": [
       "Validating: 0it [00:00, ?it/s]"
      ]
     },
     "metadata": {},
     "output_type": "display_data"
    },
    {
     "data": {
      "application/vnd.jupyter.widget-view+json": {
       "model_id": "8eed062493cf4c3a99cd30d0c52c5fb4",
       "version_major": 2,
       "version_minor": 0
      },
      "text/plain": [
       "Validating: 0it [00:00, ?it/s]"
      ]
     },
     "metadata": {},
     "output_type": "display_data"
    },
    {
     "data": {
      "application/vnd.jupyter.widget-view+json": {
       "model_id": "22829965b8964a378fd72f23604b345f",
       "version_major": 2,
       "version_minor": 0
      },
      "text/plain": [
       "Validating: 0it [00:00, ?it/s]"
      ]
     },
     "metadata": {},
     "output_type": "display_data"
    },
    {
     "data": {
      "application/vnd.jupyter.widget-view+json": {
       "model_id": "e9c87fdae5e549728d6125b1794442f1",
       "version_major": 2,
       "version_minor": 0
      },
      "text/plain": [
       "Validating: 0it [00:00, ?it/s]"
      ]
     },
     "metadata": {},
     "output_type": "display_data"
    },
    {
     "data": {
      "application/vnd.jupyter.widget-view+json": {
       "model_id": "5655310a36434d89ae610e3930763baa",
       "version_major": 2,
       "version_minor": 0
      },
      "text/plain": [
       "Validating: 0it [00:00, ?it/s]"
      ]
     },
     "metadata": {},
     "output_type": "display_data"
    },
    {
     "data": {
      "application/vnd.jupyter.widget-view+json": {
       "model_id": "47e6dd609b4d4ef78bffe0f1db3fb61c",
       "version_major": 2,
       "version_minor": 0
      },
      "text/plain": [
       "Validating: 0it [00:00, ?it/s]"
      ]
     },
     "metadata": {},
     "output_type": "display_data"
    },
    {
     "data": {
      "application/vnd.jupyter.widget-view+json": {
       "model_id": "fa967262eb424a97b495195267a435ea",
       "version_major": 2,
       "version_minor": 0
      },
      "text/plain": [
       "Validating: 0it [00:00, ?it/s]"
      ]
     },
     "metadata": {},
     "output_type": "display_data"
    },
    {
     "data": {
      "application/vnd.jupyter.widget-view+json": {
       "model_id": "a192f16075664381ade251f4ff7e1b51",
       "version_major": 2,
       "version_minor": 0
      },
      "text/plain": [
       "Validating: 0it [00:00, ?it/s]"
      ]
     },
     "metadata": {},
     "output_type": "display_data"
    },
    {
     "data": {
      "application/vnd.jupyter.widget-view+json": {
       "model_id": "e1ea764a2b904882851401eaf7b0d963",
       "version_major": 2,
       "version_minor": 0
      },
      "text/plain": [
       "Validating: 0it [00:00, ?it/s]"
      ]
     },
     "metadata": {},
     "output_type": "display_data"
    },
    {
     "data": {
      "application/vnd.jupyter.widget-view+json": {
       "model_id": "605644708ead49f5b3c12ce92675c901",
       "version_major": 2,
       "version_minor": 0
      },
      "text/plain": [
       "Validating: 0it [00:00, ?it/s]"
      ]
     },
     "metadata": {},
     "output_type": "display_data"
    },
    {
     "data": {
      "application/vnd.jupyter.widget-view+json": {
       "model_id": "177d6f23c74a4e2a9c2855e534aa3002",
       "version_major": 2,
       "version_minor": 0
      },
      "text/plain": [
       "Validating: 0it [00:00, ?it/s]"
      ]
     },
     "metadata": {},
     "output_type": "display_data"
    },
    {
     "data": {
      "application/vnd.jupyter.widget-view+json": {
       "model_id": "12238127d62e4a45803a9e08d7c39333",
       "version_major": 2,
       "version_minor": 0
      },
      "text/plain": [
       "Validating: 0it [00:00, ?it/s]"
      ]
     },
     "metadata": {},
     "output_type": "display_data"
    },
    {
     "data": {
      "application/vnd.jupyter.widget-view+json": {
       "model_id": "b7d7dd98088942858ebb020f2c75a9f9",
       "version_major": 2,
       "version_minor": 0
      },
      "text/plain": [
       "Validating: 0it [00:00, ?it/s]"
      ]
     },
     "metadata": {},
     "output_type": "display_data"
    },
    {
     "data": {
      "application/vnd.jupyter.widget-view+json": {
       "model_id": "0ecae1d83a434193b17e30a7e0eef391",
       "version_major": 2,
       "version_minor": 0
      },
      "text/plain": [
       "Validating: 0it [00:00, ?it/s]"
      ]
     },
     "metadata": {},
     "output_type": "display_data"
    },
    {
     "data": {
      "application/vnd.jupyter.widget-view+json": {
       "model_id": "8e1f2911b8c14ff3a9fd43fd3dc835e8",
       "version_major": 2,
       "version_minor": 0
      },
      "text/plain": [
       "Validating: 0it [00:00, ?it/s]"
      ]
     },
     "metadata": {},
     "output_type": "display_data"
    },
    {
     "data": {
      "application/vnd.jupyter.widget-view+json": {
       "model_id": "426aecb9205e4721b80d49a9bb3b212e",
       "version_major": 2,
       "version_minor": 0
      },
      "text/plain": [
       "Validating: 0it [00:00, ?it/s]"
      ]
     },
     "metadata": {},
     "output_type": "display_data"
    },
    {
     "data": {
      "application/vnd.jupyter.widget-view+json": {
       "model_id": "3e40b8406c7e4c2589532c9b17b747ba",
       "version_major": 2,
       "version_minor": 0
      },
      "text/plain": [
       "Validating: 0it [00:00, ?it/s]"
      ]
     },
     "metadata": {},
     "output_type": "display_data"
    },
    {
     "data": {
      "application/vnd.jupyter.widget-view+json": {
       "model_id": "3d5b4dd011c64669a3c13bce9d50ca2d",
       "version_major": 2,
       "version_minor": 0
      },
      "text/plain": [
       "Validating: 0it [00:00, ?it/s]"
      ]
     },
     "metadata": {},
     "output_type": "display_data"
    },
    {
     "data": {
      "application/vnd.jupyter.widget-view+json": {
       "model_id": "c464b3830ba846c2a88037dc978c7d01",
       "version_major": 2,
       "version_minor": 0
      },
      "text/plain": [
       "Validating: 0it [00:00, ?it/s]"
      ]
     },
     "metadata": {},
     "output_type": "display_data"
    },
    {
     "data": {
      "application/vnd.jupyter.widget-view+json": {
       "model_id": "6e24028e7d314d05a5ba5b894c71562b",
       "version_major": 2,
       "version_minor": 0
      },
      "text/plain": [
       "Validating: 0it [00:00, ?it/s]"
      ]
     },
     "metadata": {},
     "output_type": "display_data"
    },
    {
     "data": {
      "application/vnd.jupyter.widget-view+json": {
       "model_id": "e6da8a37003a455ea27f9307066635d0",
       "version_major": 2,
       "version_minor": 0
      },
      "text/plain": [
       "Validating: 0it [00:00, ?it/s]"
      ]
     },
     "metadata": {},
     "output_type": "display_data"
    },
    {
     "data": {
      "application/vnd.jupyter.widget-view+json": {
       "model_id": "12285205c7524b43bf2e63c1ae971b25",
       "version_major": 2,
       "version_minor": 0
      },
      "text/plain": [
       "Validating: 0it [00:00, ?it/s]"
      ]
     },
     "metadata": {},
     "output_type": "display_data"
    },
    {
     "data": {
      "application/vnd.jupyter.widget-view+json": {
       "model_id": "2b0fa7636d6041b39413d1438f86f023",
       "version_major": 2,
       "version_minor": 0
      },
      "text/plain": [
       "Validating: 0it [00:00, ?it/s]"
      ]
     },
     "metadata": {},
     "output_type": "display_data"
    },
    {
     "data": {
      "application/vnd.jupyter.widget-view+json": {
       "model_id": "e9dff950172e41608c1d541a8da5d2f2",
       "version_major": 2,
       "version_minor": 0
      },
      "text/plain": [
       "Validating: 0it [00:00, ?it/s]"
      ]
     },
     "metadata": {},
     "output_type": "display_data"
    },
    {
     "data": {
      "application/vnd.jupyter.widget-view+json": {
       "model_id": "7404d6daca8240f39998cff15f26e92e",
       "version_major": 2,
       "version_minor": 0
      },
      "text/plain": [
       "Validating: 0it [00:00, ?it/s]"
      ]
     },
     "metadata": {},
     "output_type": "display_data"
    },
    {
     "data": {
      "application/vnd.jupyter.widget-view+json": {
       "model_id": "138ac272b82d4c0d862e2e99c1484179",
       "version_major": 2,
       "version_minor": 0
      },
      "text/plain": [
       "Validating: 0it [00:00, ?it/s]"
      ]
     },
     "metadata": {},
     "output_type": "display_data"
    },
    {
     "data": {
      "application/vnd.jupyter.widget-view+json": {
       "model_id": "dceff50bfb72437382de2e08a6567583",
       "version_major": 2,
       "version_minor": 0
      },
      "text/plain": [
       "Validating: 0it [00:00, ?it/s]"
      ]
     },
     "metadata": {},
     "output_type": "display_data"
    },
    {
     "data": {
      "application/vnd.jupyter.widget-view+json": {
       "model_id": "fde1cb5ffd9448e9b106b7d951b773ca",
       "version_major": 2,
       "version_minor": 0
      },
      "text/plain": [
       "Validating: 0it [00:00, ?it/s]"
      ]
     },
     "metadata": {},
     "output_type": "display_data"
    },
    {
     "data": {
      "application/vnd.jupyter.widget-view+json": {
       "model_id": "0212dcdacc984b18872fb9696243ea85",
       "version_major": 2,
       "version_minor": 0
      },
      "text/plain": [
       "Validating: 0it [00:00, ?it/s]"
      ]
     },
     "metadata": {},
     "output_type": "display_data"
    },
    {
     "data": {
      "application/vnd.jupyter.widget-view+json": {
       "model_id": "2bbac7447b4a4f429f358b00f508c103",
       "version_major": 2,
       "version_minor": 0
      },
      "text/plain": [
       "Validating: 0it [00:00, ?it/s]"
      ]
     },
     "metadata": {},
     "output_type": "display_data"
    },
    {
     "data": {
      "application/vnd.jupyter.widget-view+json": {
       "model_id": "d884ccc332ba40e48dd40c96036c5659",
       "version_major": 2,
       "version_minor": 0
      },
      "text/plain": [
       "Validating: 0it [00:00, ?it/s]"
      ]
     },
     "metadata": {},
     "output_type": "display_data"
    },
    {
     "data": {
      "application/vnd.jupyter.widget-view+json": {
       "model_id": "f1a90f1a2ec846958df462be4a6d867b",
       "version_major": 2,
       "version_minor": 0
      },
      "text/plain": [
       "Validating: 0it [00:00, ?it/s]"
      ]
     },
     "metadata": {},
     "output_type": "display_data"
    },
    {
     "data": {
      "application/vnd.jupyter.widget-view+json": {
       "model_id": "9e84293bcf644d4fb6d063b557734c68",
       "version_major": 2,
       "version_minor": 0
      },
      "text/plain": [
       "Validating: 0it [00:00, ?it/s]"
      ]
     },
     "metadata": {},
     "output_type": "display_data"
    },
    {
     "data": {
      "application/vnd.jupyter.widget-view+json": {
       "model_id": "93f472515f0842e3963a3984a7bacc49",
       "version_major": 2,
       "version_minor": 0
      },
      "text/plain": [
       "Validating: 0it [00:00, ?it/s]"
      ]
     },
     "metadata": {},
     "output_type": "display_data"
    },
    {
     "data": {
      "application/vnd.jupyter.widget-view+json": {
       "model_id": "903ccbec2bfa4fc797a5463d26c1651b",
       "version_major": 2,
       "version_minor": 0
      },
      "text/plain": [
       "Validating: 0it [00:00, ?it/s]"
      ]
     },
     "metadata": {},
     "output_type": "display_data"
    },
    {
     "data": {
      "application/vnd.jupyter.widget-view+json": {
       "model_id": "94d47ff72b6a46c994a16569aa4e54f8",
       "version_major": 2,
       "version_minor": 0
      },
      "text/plain": [
       "Validating: 0it [00:00, ?it/s]"
      ]
     },
     "metadata": {},
     "output_type": "display_data"
    },
    {
     "data": {
      "application/vnd.jupyter.widget-view+json": {
       "model_id": "076b39c2f79a4eeaaa5cbf0bb2e6c007",
       "version_major": 2,
       "version_minor": 0
      },
      "text/plain": [
       "Validating: 0it [00:00, ?it/s]"
      ]
     },
     "metadata": {},
     "output_type": "display_data"
    },
    {
     "data": {
      "application/vnd.jupyter.widget-view+json": {
       "model_id": "3a5ee1618c5f4ecba078e209301ba15c",
       "version_major": 2,
       "version_minor": 0
      },
      "text/plain": [
       "Validating: 0it [00:00, ?it/s]"
      ]
     },
     "metadata": {},
     "output_type": "display_data"
    },
    {
     "data": {
      "application/vnd.jupyter.widget-view+json": {
       "model_id": "d40f8231c603404a8be584aa75191bb7",
       "version_major": 2,
       "version_minor": 0
      },
      "text/plain": [
       "Validating: 0it [00:00, ?it/s]"
      ]
     },
     "metadata": {},
     "output_type": "display_data"
    },
    {
     "data": {
      "application/vnd.jupyter.widget-view+json": {
       "model_id": "7c5423578b534593b87a2f4a4d2bcf69",
       "version_major": 2,
       "version_minor": 0
      },
      "text/plain": [
       "Validating: 0it [00:00, ?it/s]"
      ]
     },
     "metadata": {},
     "output_type": "display_data"
    },
    {
     "data": {
      "application/vnd.jupyter.widget-view+json": {
       "model_id": "6b9e4431432a47d8b2f21cfd5112f4cd",
       "version_major": 2,
       "version_minor": 0
      },
      "text/plain": [
       "Validating: 0it [00:00, ?it/s]"
      ]
     },
     "metadata": {},
     "output_type": "display_data"
    },
    {
     "data": {
      "application/vnd.jupyter.widget-view+json": {
       "model_id": "13db0c18c26c481081777e485e9a7864",
       "version_major": 2,
       "version_minor": 0
      },
      "text/plain": [
       "Validating: 0it [00:00, ?it/s]"
      ]
     },
     "metadata": {},
     "output_type": "display_data"
    },
    {
     "data": {
      "application/vnd.jupyter.widget-view+json": {
       "model_id": "6be3a90f11ad49eb8b6b494d6a60e82d",
       "version_major": 2,
       "version_minor": 0
      },
      "text/plain": [
       "Validating: 0it [00:00, ?it/s]"
      ]
     },
     "metadata": {},
     "output_type": "display_data"
    },
    {
     "data": {
      "application/vnd.jupyter.widget-view+json": {
       "model_id": "8d2544bd53ca4dbb885c44bd6f9fe5e6",
       "version_major": 2,
       "version_minor": 0
      },
      "text/plain": [
       "Validating: 0it [00:00, ?it/s]"
      ]
     },
     "metadata": {},
     "output_type": "display_data"
    },
    {
     "data": {
      "application/vnd.jupyter.widget-view+json": {
       "model_id": "f7916295261f496dba27d2616eda97e2",
       "version_major": 2,
       "version_minor": 0
      },
      "text/plain": [
       "Validating: 0it [00:00, ?it/s]"
      ]
     },
     "metadata": {},
     "output_type": "display_data"
    },
    {
     "data": {
      "application/vnd.jupyter.widget-view+json": {
       "model_id": "d8d1df83e1c448f68d0ad663a463e5a1",
       "version_major": 2,
       "version_minor": 0
      },
      "text/plain": [
       "Validating: 0it [00:00, ?it/s]"
      ]
     },
     "metadata": {},
     "output_type": "display_data"
    },
    {
     "data": {
      "application/vnd.jupyter.widget-view+json": {
       "model_id": "6c4789929b8d46728ff6304d0518cbab",
       "version_major": 2,
       "version_minor": 0
      },
      "text/plain": [
       "Validating: 0it [00:00, ?it/s]"
      ]
     },
     "metadata": {},
     "output_type": "display_data"
    },
    {
     "data": {
      "application/vnd.jupyter.widget-view+json": {
       "model_id": "f6c9bc21c9ea48b4b1e2eb643ae32e41",
       "version_major": 2,
       "version_minor": 0
      },
      "text/plain": [
       "Validating: 0it [00:00, ?it/s]"
      ]
     },
     "metadata": {},
     "output_type": "display_data"
    },
    {
     "data": {
      "application/vnd.jupyter.widget-view+json": {
       "model_id": "407c1a57e23e4470b94afcade1bf87d5",
       "version_major": 2,
       "version_minor": 0
      },
      "text/plain": [
       "Validating: 0it [00:00, ?it/s]"
      ]
     },
     "metadata": {},
     "output_type": "display_data"
    },
    {
     "data": {
      "application/vnd.jupyter.widget-view+json": {
       "model_id": "169198310a0d453788ec461fe589e347",
       "version_major": 2,
       "version_minor": 0
      },
      "text/plain": [
       "Validating: 0it [00:00, ?it/s]"
      ]
     },
     "metadata": {},
     "output_type": "display_data"
    },
    {
     "data": {
      "application/vnd.jupyter.widget-view+json": {
       "model_id": "62edd361a62a44a58d23b0a0fc14927d",
       "version_major": 2,
       "version_minor": 0
      },
      "text/plain": [
       "Validating: 0it [00:00, ?it/s]"
      ]
     },
     "metadata": {},
     "output_type": "display_data"
    },
    {
     "data": {
      "application/vnd.jupyter.widget-view+json": {
       "model_id": "078d19052340488bb680f1bd6b1682ad",
       "version_major": 2,
       "version_minor": 0
      },
      "text/plain": [
       "Validating: 0it [00:00, ?it/s]"
      ]
     },
     "metadata": {},
     "output_type": "display_data"
    },
    {
     "data": {
      "application/vnd.jupyter.widget-view+json": {
       "model_id": "99071ed767f14d82b5c0eade71318af5",
       "version_major": 2,
       "version_minor": 0
      },
      "text/plain": [
       "Validating: 0it [00:00, ?it/s]"
      ]
     },
     "metadata": {},
     "output_type": "display_data"
    },
    {
     "data": {
      "application/vnd.jupyter.widget-view+json": {
       "model_id": "7652561f7d094cd1b4d6de05c92957d2",
       "version_major": 2,
       "version_minor": 0
      },
      "text/plain": [
       "Validating: 0it [00:00, ?it/s]"
      ]
     },
     "metadata": {},
     "output_type": "display_data"
    },
    {
     "data": {
      "application/vnd.jupyter.widget-view+json": {
       "model_id": "1b4ace64a70f48f88d032513582dd416",
       "version_major": 2,
       "version_minor": 0
      },
      "text/plain": [
       "Validating: 0it [00:00, ?it/s]"
      ]
     },
     "metadata": {},
     "output_type": "display_data"
    },
    {
     "data": {
      "application/vnd.jupyter.widget-view+json": {
       "model_id": "41589f3402fc43d1943b748b99fc7b97",
       "version_major": 2,
       "version_minor": 0
      },
      "text/plain": [
       "Validating: 0it [00:00, ?it/s]"
      ]
     },
     "metadata": {},
     "output_type": "display_data"
    },
    {
     "data": {
      "application/vnd.jupyter.widget-view+json": {
       "model_id": "8c7f10db257e45439bc64d1f7164a7a3",
       "version_major": 2,
       "version_minor": 0
      },
      "text/plain": [
       "Validating: 0it [00:00, ?it/s]"
      ]
     },
     "metadata": {},
     "output_type": "display_data"
    },
    {
     "data": {
      "application/vnd.jupyter.widget-view+json": {
       "model_id": "3904837ea87e444b8947991b5bc8391a",
       "version_major": 2,
       "version_minor": 0
      },
      "text/plain": [
       "Validating: 0it [00:00, ?it/s]"
      ]
     },
     "metadata": {},
     "output_type": "display_data"
    },
    {
     "data": {
      "application/vnd.jupyter.widget-view+json": {
       "model_id": "1a74c0542d374583be8abd2c4f0635eb",
       "version_major": 2,
       "version_minor": 0
      },
      "text/plain": [
       "Validating: 0it [00:00, ?it/s]"
      ]
     },
     "metadata": {},
     "output_type": "display_data"
    },
    {
     "data": {
      "application/vnd.jupyter.widget-view+json": {
       "model_id": "c817958dd5f1499b8623efc2479ffc15",
       "version_major": 2,
       "version_minor": 0
      },
      "text/plain": [
       "Validating: 0it [00:00, ?it/s]"
      ]
     },
     "metadata": {},
     "output_type": "display_data"
    },
    {
     "data": {
      "application/vnd.jupyter.widget-view+json": {
       "model_id": "ee84b14e78c54539898919b921eb2017",
       "version_major": 2,
       "version_minor": 0
      },
      "text/plain": [
       "Validating: 0it [00:00, ?it/s]"
      ]
     },
     "metadata": {},
     "output_type": "display_data"
    },
    {
     "data": {
      "application/vnd.jupyter.widget-view+json": {
       "model_id": "1e1c7b35bb2643a3821ec3784b01bbeb",
       "version_major": 2,
       "version_minor": 0
      },
      "text/plain": [
       "Validating: 0it [00:00, ?it/s]"
      ]
     },
     "metadata": {},
     "output_type": "display_data"
    },
    {
     "data": {
      "application/vnd.jupyter.widget-view+json": {
       "model_id": "2c2c0919fdd843cdbd7c092241f6fd7f",
       "version_major": 2,
       "version_minor": 0
      },
      "text/plain": [
       "Validating: 0it [00:00, ?it/s]"
      ]
     },
     "metadata": {},
     "output_type": "display_data"
    },
    {
     "data": {
      "application/vnd.jupyter.widget-view+json": {
       "model_id": "7581ef1e233847bbb4b913c420655e4a",
       "version_major": 2,
       "version_minor": 0
      },
      "text/plain": [
       "Validating: 0it [00:00, ?it/s]"
      ]
     },
     "metadata": {},
     "output_type": "display_data"
    },
    {
     "data": {
      "application/vnd.jupyter.widget-view+json": {
       "model_id": "c2fc946467c84607aec1ca70fb1b7782",
       "version_major": 2,
       "version_minor": 0
      },
      "text/plain": [
       "Validating: 0it [00:00, ?it/s]"
      ]
     },
     "metadata": {},
     "output_type": "display_data"
    },
    {
     "data": {
      "application/vnd.jupyter.widget-view+json": {
       "model_id": "3ead006c302b45c89ebc4ef4ef149d58",
       "version_major": 2,
       "version_minor": 0
      },
      "text/plain": [
       "Validating: 0it [00:00, ?it/s]"
      ]
     },
     "metadata": {},
     "output_type": "display_data"
    },
    {
     "data": {
      "application/vnd.jupyter.widget-view+json": {
       "model_id": "b53449327c4043c090d4692ba8a0f0ba",
       "version_major": 2,
       "version_minor": 0
      },
      "text/plain": [
       "Validating: 0it [00:00, ?it/s]"
      ]
     },
     "metadata": {},
     "output_type": "display_data"
    },
    {
     "data": {
      "application/vnd.jupyter.widget-view+json": {
       "model_id": "fda7723568eb4aa0829e0a5cba9a26c7",
       "version_major": 2,
       "version_minor": 0
      },
      "text/plain": [
       "Validating: 0it [00:00, ?it/s]"
      ]
     },
     "metadata": {},
     "output_type": "display_data"
    },
    {
     "data": {
      "application/vnd.jupyter.widget-view+json": {
       "model_id": "742a860d70774568b357df4c6a1e9670",
       "version_major": 2,
       "version_minor": 0
      },
      "text/plain": [
       "Validating: 0it [00:00, ?it/s]"
      ]
     },
     "metadata": {},
     "output_type": "display_data"
    },
    {
     "data": {
      "application/vnd.jupyter.widget-view+json": {
       "model_id": "a94a235044fa4e5ebf87fbde5c64d176",
       "version_major": 2,
       "version_minor": 0
      },
      "text/plain": [
       "Validating: 0it [00:00, ?it/s]"
      ]
     },
     "metadata": {},
     "output_type": "display_data"
    },
    {
     "data": {
      "application/vnd.jupyter.widget-view+json": {
       "model_id": "021ce063f1bd4d668363fdc4c6c8ee02",
       "version_major": 2,
       "version_minor": 0
      },
      "text/plain": [
       "Validating: 0it [00:00, ?it/s]"
      ]
     },
     "metadata": {},
     "output_type": "display_data"
    },
    {
     "data": {
      "application/vnd.jupyter.widget-view+json": {
       "model_id": "10a1ffc3dc704b90b1592b7020f5ce3c",
       "version_major": 2,
       "version_minor": 0
      },
      "text/plain": [
       "Validating: 0it [00:00, ?it/s]"
      ]
     },
     "metadata": {},
     "output_type": "display_data"
    },
    {
     "data": {
      "application/vnd.jupyter.widget-view+json": {
       "model_id": "4a4e5341350541e0b2f10a492a34576c",
       "version_major": 2,
       "version_minor": 0
      },
      "text/plain": [
       "Validating: 0it [00:00, ?it/s]"
      ]
     },
     "metadata": {},
     "output_type": "display_data"
    },
    {
     "data": {
      "application/vnd.jupyter.widget-view+json": {
       "model_id": "8538a47551584f19be5054dca1836c0b",
       "version_major": 2,
       "version_minor": 0
      },
      "text/plain": [
       "Validating: 0it [00:00, ?it/s]"
      ]
     },
     "metadata": {},
     "output_type": "display_data"
    },
    {
     "data": {
      "application/vnd.jupyter.widget-view+json": {
       "model_id": "cb5f1fefde934fbbba86042bdb2fa602",
       "version_major": 2,
       "version_minor": 0
      },
      "text/plain": [
       "Validating: 0it [00:00, ?it/s]"
      ]
     },
     "metadata": {},
     "output_type": "display_data"
    },
    {
     "data": {
      "application/vnd.jupyter.widget-view+json": {
       "model_id": "3a6327c3cca24ef49aef3a6b3fa7193c",
       "version_major": 2,
       "version_minor": 0
      },
      "text/plain": [
       "Validating: 0it [00:00, ?it/s]"
      ]
     },
     "metadata": {},
     "output_type": "display_data"
    },
    {
     "data": {
      "application/vnd.jupyter.widget-view+json": {
       "model_id": "2aff81823f9c49dea3cb8f3fe353be0a",
       "version_major": 2,
       "version_minor": 0
      },
      "text/plain": [
       "Validating: 0it [00:00, ?it/s]"
      ]
     },
     "metadata": {},
     "output_type": "display_data"
    },
    {
     "data": {
      "application/vnd.jupyter.widget-view+json": {
       "model_id": "3b801d01c6f44034bb1e3ab359530a5a",
       "version_major": 2,
       "version_minor": 0
      },
      "text/plain": [
       "Validating: 0it [00:00, ?it/s]"
      ]
     },
     "metadata": {},
     "output_type": "display_data"
    },
    {
     "data": {
      "application/vnd.jupyter.widget-view+json": {
       "model_id": "4cf53f961cb84fba8f063ecded423905",
       "version_major": 2,
       "version_minor": 0
      },
      "text/plain": [
       "Validating: 0it [00:00, ?it/s]"
      ]
     },
     "metadata": {},
     "output_type": "display_data"
    },
    {
     "data": {
      "application/vnd.jupyter.widget-view+json": {
       "model_id": "969cf155c6e84d0193ada4e099da8d31",
       "version_major": 2,
       "version_minor": 0
      },
      "text/plain": [
       "Validating: 0it [00:00, ?it/s]"
      ]
     },
     "metadata": {},
     "output_type": "display_data"
    },
    {
     "data": {
      "application/vnd.jupyter.widget-view+json": {
       "model_id": "21164b645b5b4dc5928afc6a50774dcd",
       "version_major": 2,
       "version_minor": 0
      },
      "text/plain": [
       "Validating: 0it [00:00, ?it/s]"
      ]
     },
     "metadata": {},
     "output_type": "display_data"
    },
    {
     "data": {
      "application/vnd.jupyter.widget-view+json": {
       "model_id": "4a372f7fb1f14c07bd9563b64cef506f",
       "version_major": 2,
       "version_minor": 0
      },
      "text/plain": [
       "Validating: 0it [00:00, ?it/s]"
      ]
     },
     "metadata": {},
     "output_type": "display_data"
    },
    {
     "data": {
      "application/vnd.jupyter.widget-view+json": {
       "model_id": "edaabb4f49264560ae35fd6e9c3108a3",
       "version_major": 2,
       "version_minor": 0
      },
      "text/plain": [
       "Validating: 0it [00:00, ?it/s]"
      ]
     },
     "metadata": {},
     "output_type": "display_data"
    },
    {
     "data": {
      "application/vnd.jupyter.widget-view+json": {
       "model_id": "7fee046e4b314c6eb414aa2659e8744e",
       "version_major": 2,
       "version_minor": 0
      },
      "text/plain": [
       "Validating: 0it [00:00, ?it/s]"
      ]
     },
     "metadata": {},
     "output_type": "display_data"
    },
    {
     "data": {
      "application/vnd.jupyter.widget-view+json": {
       "model_id": "661bccba82ed459b88b1473155654b63",
       "version_major": 2,
       "version_minor": 0
      },
      "text/plain": [
       "Validating: 0it [00:00, ?it/s]"
      ]
     },
     "metadata": {},
     "output_type": "display_data"
    },
    {
     "data": {
      "application/vnd.jupyter.widget-view+json": {
       "model_id": "2eec3a493bba4b23b1f43f4ae7bd9d4c",
       "version_major": 2,
       "version_minor": 0
      },
      "text/plain": [
       "Validating: 0it [00:00, ?it/s]"
      ]
     },
     "metadata": {},
     "output_type": "display_data"
    },
    {
     "data": {
      "application/vnd.jupyter.widget-view+json": {
       "model_id": "499642f7a67c4a2e87ff9d9d0e70af09",
       "version_major": 2,
       "version_minor": 0
      },
      "text/plain": [
       "Validating: 0it [00:00, ?it/s]"
      ]
     },
     "metadata": {},
     "output_type": "display_data"
    },
    {
     "data": {
      "application/vnd.jupyter.widget-view+json": {
       "model_id": "0a50c3071e4d47dc8cc18f013e1a66a4",
       "version_major": 2,
       "version_minor": 0
      },
      "text/plain": [
       "Validating: 0it [00:00, ?it/s]"
      ]
     },
     "metadata": {},
     "output_type": "display_data"
    },
    {
     "data": {
      "application/vnd.jupyter.widget-view+json": {
       "model_id": "1ec30ac4c97e453290ffe2f1edfeb4e0",
       "version_major": 2,
       "version_minor": 0
      },
      "text/plain": [
       "Validating: 0it [00:00, ?it/s]"
      ]
     },
     "metadata": {},
     "output_type": "display_data"
    },
    {
     "data": {
      "application/vnd.jupyter.widget-view+json": {
       "model_id": "af2c8eba60274016ba50c8766514921f",
       "version_major": 2,
       "version_minor": 0
      },
      "text/plain": [
       "Validating: 0it [00:00, ?it/s]"
      ]
     },
     "metadata": {},
     "output_type": "display_data"
    },
    {
     "data": {
      "application/vnd.jupyter.widget-view+json": {
       "model_id": "64ca0936443c413eaa900b752b1a1c27",
       "version_major": 2,
       "version_minor": 0
      },
      "text/plain": [
       "Validating: 0it [00:00, ?it/s]"
      ]
     },
     "metadata": {},
     "output_type": "display_data"
    },
    {
     "data": {
      "application/vnd.jupyter.widget-view+json": {
       "model_id": "b09347ae095140bd8c0715b7b23a1f40",
       "version_major": 2,
       "version_minor": 0
      },
      "text/plain": [
       "Validating: 0it [00:00, ?it/s]"
      ]
     },
     "metadata": {},
     "output_type": "display_data"
    },
    {
     "data": {
      "application/vnd.jupyter.widget-view+json": {
       "model_id": "ed0bce00df454f86a2f2056929170914",
       "version_major": 2,
       "version_minor": 0
      },
      "text/plain": [
       "Validating: 0it [00:00, ?it/s]"
      ]
     },
     "metadata": {},
     "output_type": "display_data"
    },
    {
     "data": {
      "application/vnd.jupyter.widget-view+json": {
       "model_id": "e91c2e8265464156a0860e4a78c2d622",
       "version_major": 2,
       "version_minor": 0
      },
      "text/plain": [
       "Validating: 0it [00:00, ?it/s]"
      ]
     },
     "metadata": {},
     "output_type": "display_data"
    },
    {
     "data": {
      "application/vnd.jupyter.widget-view+json": {
       "model_id": "0da282a57bea45c59af708f7cd5bcf23",
       "version_major": 2,
       "version_minor": 0
      },
      "text/plain": [
       "Validating: 0it [00:00, ?it/s]"
      ]
     },
     "metadata": {},
     "output_type": "display_data"
    },
    {
     "data": {
      "application/vnd.jupyter.widget-view+json": {
       "model_id": "33448bca7e8542849f5f788658e18553",
       "version_major": 2,
       "version_minor": 0
      },
      "text/plain": [
       "Validating: 0it [00:00, ?it/s]"
      ]
     },
     "metadata": {},
     "output_type": "display_data"
    },
    {
     "data": {
      "application/vnd.jupyter.widget-view+json": {
       "model_id": "a9e58923884141a3822729942f9f5558",
       "version_major": 2,
       "version_minor": 0
      },
      "text/plain": [
       "Validating: 0it [00:00, ?it/s]"
      ]
     },
     "metadata": {},
     "output_type": "display_data"
    },
    {
     "data": {
      "application/vnd.jupyter.widget-view+json": {
       "model_id": "e5773d6a45014caba252e6dac55641f2",
       "version_major": 2,
       "version_minor": 0
      },
      "text/plain": [
       "Validating: 0it [00:00, ?it/s]"
      ]
     },
     "metadata": {},
     "output_type": "display_data"
    },
    {
     "data": {
      "application/vnd.jupyter.widget-view+json": {
       "model_id": "b46cb328b11b4472bc435dfa33a64426",
       "version_major": 2,
       "version_minor": 0
      },
      "text/plain": [
       "Validating: 0it [00:00, ?it/s]"
      ]
     },
     "metadata": {},
     "output_type": "display_data"
    },
    {
     "data": {
      "application/vnd.jupyter.widget-view+json": {
       "model_id": "a67487432a694fe3ab665b4bc0b9e7e4",
       "version_major": 2,
       "version_minor": 0
      },
      "text/plain": [
       "Validating: 0it [00:00, ?it/s]"
      ]
     },
     "metadata": {},
     "output_type": "display_data"
    },
    {
     "data": {
      "application/vnd.jupyter.widget-view+json": {
       "model_id": "fc26beb6cbad4db98aded1f95cb025f2",
       "version_major": 2,
       "version_minor": 0
      },
      "text/plain": [
       "Validating: 0it [00:00, ?it/s]"
      ]
     },
     "metadata": {},
     "output_type": "display_data"
    },
    {
     "data": {
      "application/vnd.jupyter.widget-view+json": {
       "model_id": "b16be22b3c0e4611ae30f234cbcc6ee3",
       "version_major": 2,
       "version_minor": 0
      },
      "text/plain": [
       "Validating: 0it [00:00, ?it/s]"
      ]
     },
     "metadata": {},
     "output_type": "display_data"
    },
    {
     "data": {
      "application/vnd.jupyter.widget-view+json": {
       "model_id": "0f66ddb1d0754eeb959abbbfa90a943f",
       "version_major": 2,
       "version_minor": 0
      },
      "text/plain": [
       "Validating: 0it [00:00, ?it/s]"
      ]
     },
     "metadata": {},
     "output_type": "display_data"
    },
    {
     "data": {
      "application/vnd.jupyter.widget-view+json": {
       "model_id": "707684c2b67b48f490822c9bf846378c",
       "version_major": 2,
       "version_minor": 0
      },
      "text/plain": [
       "Validating: 0it [00:00, ?it/s]"
      ]
     },
     "metadata": {},
     "output_type": "display_data"
    },
    {
     "data": {
      "application/vnd.jupyter.widget-view+json": {
       "model_id": "3db47f43457e44f999bb843fc36b6c50",
       "version_major": 2,
       "version_minor": 0
      },
      "text/plain": [
       "Validating: 0it [00:00, ?it/s]"
      ]
     },
     "metadata": {},
     "output_type": "display_data"
    },
    {
     "data": {
      "application/vnd.jupyter.widget-view+json": {
       "model_id": "9a83e20b27be4545939282371625d765",
       "version_major": 2,
       "version_minor": 0
      },
      "text/plain": [
       "Validating: 0it [00:00, ?it/s]"
      ]
     },
     "metadata": {},
     "output_type": "display_data"
    },
    {
     "data": {
      "application/vnd.jupyter.widget-view+json": {
       "model_id": "97226aada85a470fa9fc0d26792cee24",
       "version_major": 2,
       "version_minor": 0
      },
      "text/plain": [
       "Validating: 0it [00:00, ?it/s]"
      ]
     },
     "metadata": {},
     "output_type": "display_data"
    },
    {
     "data": {
      "application/vnd.jupyter.widget-view+json": {
       "model_id": "87d5c202504f4579924eaee582b86bb8",
       "version_major": 2,
       "version_minor": 0
      },
      "text/plain": [
       "Validating: 0it [00:00, ?it/s]"
      ]
     },
     "metadata": {},
     "output_type": "display_data"
    },
    {
     "data": {
      "application/vnd.jupyter.widget-view+json": {
       "model_id": "8a8ff28e52574f1d9349709d178587c7",
       "version_major": 2,
       "version_minor": 0
      },
      "text/plain": [
       "Validating: 0it [00:00, ?it/s]"
      ]
     },
     "metadata": {},
     "output_type": "display_data"
    },
    {
     "data": {
      "application/vnd.jupyter.widget-view+json": {
       "model_id": "d8bcd4b05b2e4b20a212ad6adde18357",
       "version_major": 2,
       "version_minor": 0
      },
      "text/plain": [
       "Validating: 0it [00:00, ?it/s]"
      ]
     },
     "metadata": {},
     "output_type": "display_data"
    },
    {
     "data": {
      "application/vnd.jupyter.widget-view+json": {
       "model_id": "b27321264137470aa73e885961acd98d",
       "version_major": 2,
       "version_minor": 0
      },
      "text/plain": [
       "Validating: 0it [00:00, ?it/s]"
      ]
     },
     "metadata": {},
     "output_type": "display_data"
    },
    {
     "data": {
      "application/vnd.jupyter.widget-view+json": {
       "model_id": "1ca6c18ac4ce493190f80c7c2fbb14bb",
       "version_major": 2,
       "version_minor": 0
      },
      "text/plain": [
       "Validating: 0it [00:00, ?it/s]"
      ]
     },
     "metadata": {},
     "output_type": "display_data"
    },
    {
     "data": {
      "application/vnd.jupyter.widget-view+json": {
       "model_id": "ea0c03b91ef3454dbcebdf1b19fa2c9d",
       "version_major": 2,
       "version_minor": 0
      },
      "text/plain": [
       "Validating: 0it [00:00, ?it/s]"
      ]
     },
     "metadata": {},
     "output_type": "display_data"
    },
    {
     "data": {
      "application/vnd.jupyter.widget-view+json": {
       "model_id": "c2dfc6b76923415bb829bd928f77b1cc",
       "version_major": 2,
       "version_minor": 0
      },
      "text/plain": [
       "Validating: 0it [00:00, ?it/s]"
      ]
     },
     "metadata": {},
     "output_type": "display_data"
    },
    {
     "data": {
      "application/vnd.jupyter.widget-view+json": {
       "model_id": "6dbde08f89c14d12bd7e5a72987cf0ca",
       "version_major": 2,
       "version_minor": 0
      },
      "text/plain": [
       "Validating: 0it [00:00, ?it/s]"
      ]
     },
     "metadata": {},
     "output_type": "display_data"
    },
    {
     "data": {
      "application/vnd.jupyter.widget-view+json": {
       "model_id": "987bbcb7d8ee4f0aafd0ab6c432cf2a5",
       "version_major": 2,
       "version_minor": 0
      },
      "text/plain": [
       "Validating: 0it [00:00, ?it/s]"
      ]
     },
     "metadata": {},
     "output_type": "display_data"
    },
    {
     "data": {
      "application/vnd.jupyter.widget-view+json": {
       "model_id": "4912d977617a44528f267bcc557a4e6c",
       "version_major": 2,
       "version_minor": 0
      },
      "text/plain": [
       "Validating: 0it [00:00, ?it/s]"
      ]
     },
     "metadata": {},
     "output_type": "display_data"
    },
    {
     "data": {
      "application/vnd.jupyter.widget-view+json": {
       "model_id": "288864a3e93f43ca93c788a312cb6703",
       "version_major": 2,
       "version_minor": 0
      },
      "text/plain": [
       "Validating: 0it [00:00, ?it/s]"
      ]
     },
     "metadata": {},
     "output_type": "display_data"
    },
    {
     "data": {
      "application/vnd.jupyter.widget-view+json": {
       "model_id": "5df5e72a57014bd898ddc6a9c66e9dc1",
       "version_major": 2,
       "version_minor": 0
      },
      "text/plain": [
       "Validating: 0it [00:00, ?it/s]"
      ]
     },
     "metadata": {},
     "output_type": "display_data"
    },
    {
     "data": {
      "application/vnd.jupyter.widget-view+json": {
       "model_id": "4c4b8108636449feba11d3d1271c8653",
       "version_major": 2,
       "version_minor": 0
      },
      "text/plain": [
       "Validating: 0it [00:00, ?it/s]"
      ]
     },
     "metadata": {},
     "output_type": "display_data"
    },
    {
     "data": {
      "application/vnd.jupyter.widget-view+json": {
       "model_id": "d76cb959fc5948588ed6cc90ba463b59",
       "version_major": 2,
       "version_minor": 0
      },
      "text/plain": [
       "Validating: 0it [00:00, ?it/s]"
      ]
     },
     "metadata": {},
     "output_type": "display_data"
    },
    {
     "data": {
      "application/vnd.jupyter.widget-view+json": {
       "model_id": "aa206f05fa724d979d1c345f9179c939",
       "version_major": 2,
       "version_minor": 0
      },
      "text/plain": [
       "Validating: 0it [00:00, ?it/s]"
      ]
     },
     "metadata": {},
     "output_type": "display_data"
    },
    {
     "data": {
      "application/vnd.jupyter.widget-view+json": {
       "model_id": "91257574777d4a08a785a33f506d5516",
       "version_major": 2,
       "version_minor": 0
      },
      "text/plain": [
       "Validating: 0it [00:00, ?it/s]"
      ]
     },
     "metadata": {},
     "output_type": "display_data"
    },
    {
     "data": {
      "application/vnd.jupyter.widget-view+json": {
       "model_id": "ac0f3d5517004c95854daee5a355dbb4",
       "version_major": 2,
       "version_minor": 0
      },
      "text/plain": [
       "Validating: 0it [00:00, ?it/s]"
      ]
     },
     "metadata": {},
     "output_type": "display_data"
    },
    {
     "data": {
      "application/vnd.jupyter.widget-view+json": {
       "model_id": "7ce2148b556d47a4a6b6d86282ff9cff",
       "version_major": 2,
       "version_minor": 0
      },
      "text/plain": [
       "Validating: 0it [00:00, ?it/s]"
      ]
     },
     "metadata": {},
     "output_type": "display_data"
    },
    {
     "data": {
      "application/vnd.jupyter.widget-view+json": {
       "model_id": "69141ef7b42e42acac11aa9d9e8eca46",
       "version_major": 2,
       "version_minor": 0
      },
      "text/plain": [
       "Validating: 0it [00:00, ?it/s]"
      ]
     },
     "metadata": {},
     "output_type": "display_data"
    },
    {
     "data": {
      "application/vnd.jupyter.widget-view+json": {
       "model_id": "5e7e12151bef42a3a4705c4368e10cda",
       "version_major": 2,
       "version_minor": 0
      },
      "text/plain": [
       "Validating: 0it [00:00, ?it/s]"
      ]
     },
     "metadata": {},
     "output_type": "display_data"
    },
    {
     "data": {
      "application/vnd.jupyter.widget-view+json": {
       "model_id": "5ce63e251cbd42c889f0d826b6918ba7",
       "version_major": 2,
       "version_minor": 0
      },
      "text/plain": [
       "Validating: 0it [00:00, ?it/s]"
      ]
     },
     "metadata": {},
     "output_type": "display_data"
    },
    {
     "data": {
      "application/vnd.jupyter.widget-view+json": {
       "model_id": "577dd0e7a4604a358acc51fddda695dc",
       "version_major": 2,
       "version_minor": 0
      },
      "text/plain": [
       "Validating: 0it [00:00, ?it/s]"
      ]
     },
     "metadata": {},
     "output_type": "display_data"
    },
    {
     "data": {
      "application/vnd.jupyter.widget-view+json": {
       "model_id": "83a0a5b7ce364d08bfda498eab4a100a",
       "version_major": 2,
       "version_minor": 0
      },
      "text/plain": [
       "Validating: 0it [00:00, ?it/s]"
      ]
     },
     "metadata": {},
     "output_type": "display_data"
    },
    {
     "data": {
      "application/vnd.jupyter.widget-view+json": {
       "model_id": "75c616ff2b7c4cf0b9e1ab0d268da1e4",
       "version_major": 2,
       "version_minor": 0
      },
      "text/plain": [
       "Validating: 0it [00:00, ?it/s]"
      ]
     },
     "metadata": {},
     "output_type": "display_data"
    },
    {
     "data": {
      "application/vnd.jupyter.widget-view+json": {
       "model_id": "6bb27d7376234905a7553a60af81afbb",
       "version_major": 2,
       "version_minor": 0
      },
      "text/plain": [
       "Validating: 0it [00:00, ?it/s]"
      ]
     },
     "metadata": {},
     "output_type": "display_data"
    },
    {
     "data": {
      "application/vnd.jupyter.widget-view+json": {
       "model_id": "73bb340fcdbd4ddcb392b71de9e68574",
       "version_major": 2,
       "version_minor": 0
      },
      "text/plain": [
       "Validating: 0it [00:00, ?it/s]"
      ]
     },
     "metadata": {},
     "output_type": "display_data"
    },
    {
     "data": {
      "application/vnd.jupyter.widget-view+json": {
       "model_id": "058bf98ad5d84adcba346fac9077d7dc",
       "version_major": 2,
       "version_minor": 0
      },
      "text/plain": [
       "Validating: 0it [00:00, ?it/s]"
      ]
     },
     "metadata": {},
     "output_type": "display_data"
    },
    {
     "data": {
      "application/vnd.jupyter.widget-view+json": {
       "model_id": "13ced326279a43ecbf9547b60d52abc0",
       "version_major": 2,
       "version_minor": 0
      },
      "text/plain": [
       "Validating: 0it [00:00, ?it/s]"
      ]
     },
     "metadata": {},
     "output_type": "display_data"
    },
    {
     "data": {
      "application/vnd.jupyter.widget-view+json": {
       "model_id": "f306606a358d4972a594daf1167f5f92",
       "version_major": 2,
       "version_minor": 0
      },
      "text/plain": [
       "Validating: 0it [00:00, ?it/s]"
      ]
     },
     "metadata": {},
     "output_type": "display_data"
    },
    {
     "data": {
      "application/vnd.jupyter.widget-view+json": {
       "model_id": "dc396cf655d24cc0b4d5656161cd6fd3",
       "version_major": 2,
       "version_minor": 0
      },
      "text/plain": [
       "Validating: 0it [00:00, ?it/s]"
      ]
     },
     "metadata": {},
     "output_type": "display_data"
    },
    {
     "data": {
      "application/vnd.jupyter.widget-view+json": {
       "model_id": "8fe1ca0fbd344d29954b276a10d20ef2",
       "version_major": 2,
       "version_minor": 0
      },
      "text/plain": [
       "Validating: 0it [00:00, ?it/s]"
      ]
     },
     "metadata": {},
     "output_type": "display_data"
    },
    {
     "data": {
      "application/vnd.jupyter.widget-view+json": {
       "model_id": "6347146b18594be3bcf45ad27c8d745f",
       "version_major": 2,
       "version_minor": 0
      },
      "text/plain": [
       "Validating: 0it [00:00, ?it/s]"
      ]
     },
     "metadata": {},
     "output_type": "display_data"
    },
    {
     "data": {
      "application/vnd.jupyter.widget-view+json": {
       "model_id": "ab6a48fe590e43a2af2c3eb03ac74cff",
       "version_major": 2,
       "version_minor": 0
      },
      "text/plain": [
       "Validating: 0it [00:00, ?it/s]"
      ]
     },
     "metadata": {},
     "output_type": "display_data"
    },
    {
     "data": {
      "application/vnd.jupyter.widget-view+json": {
       "model_id": "5fd9c75d5c19428f9f314cbeaad77350",
       "version_major": 2,
       "version_minor": 0
      },
      "text/plain": [
       "Validating: 0it [00:00, ?it/s]"
      ]
     },
     "metadata": {},
     "output_type": "display_data"
    },
    {
     "data": {
      "application/vnd.jupyter.widget-view+json": {
       "model_id": "079f3211b19f4879bcece42e36df5780",
       "version_major": 2,
       "version_minor": 0
      },
      "text/plain": [
       "Validating: 0it [00:00, ?it/s]"
      ]
     },
     "metadata": {},
     "output_type": "display_data"
    },
    {
     "data": {
      "application/vnd.jupyter.widget-view+json": {
       "model_id": "0526c0c4cf3b40bca9d60249bf752c29",
       "version_major": 2,
       "version_minor": 0
      },
      "text/plain": [
       "Validating: 0it [00:00, ?it/s]"
      ]
     },
     "metadata": {},
     "output_type": "display_data"
    }
   ],
   "source": [
    "train(params, 'run_41-2')"
   ]
  }
 ],
 "metadata": {
  "kernelspec": {
   "display_name": "Python 3",
   "language": "python",
   "name": "python3"
  },
  "language_info": {
   "codemirror_mode": {
    "name": "ipython",
    "version": 3
   },
   "file_extension": ".py",
   "mimetype": "text/x-python",
   "name": "python",
   "nbconvert_exporter": "python",
   "pygments_lexer": "ipython3",
   "version": "3.7.12"
  }
 },
 "nbformat": 4,
 "nbformat_minor": 5
}
