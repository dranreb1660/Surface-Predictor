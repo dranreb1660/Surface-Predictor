{
 "cells": [
  {
   "cell_type": "code",
   "execution_count": 1,
   "id": "98470c46",
   "metadata": {},
   "outputs": [],
   "source": [
    "params23 ={\n",
    "    'n_features': len(feature_columns),\n",
    "    \"n_classes\": len(label_encoder.classes_),\n",
    "    \"dropout\": 0.4,\n",
    "    \"n_hidden\": 512,\n",
    "    \"batch_size\": 512,\n",
    "    \"lr\": 0.00426   \n",
    "    }"
   ]
  },
  {
   "cell_type": "code",
   "execution_count": 2,
   "id": "671824a1",
   "metadata": {},
   "outputs": [],
   "source": [
    "# from google.colab import drive\n",
    "from pathlib import Path\n",
    "# drive.mount('/content/gdrive', force_remount=True)\n",
    "%cd \"/content/drive/Othercomputers/my_mac/Coding_stuff/Projects/Surface_Predictor\""
   ]
  },
  {
   "cell_type": "code",
   "execution_count": 3,
   "id": "d657c5fb",
   "metadata": {},
   "outputs": [],
   "source": [
    "creds = '...'\n",
    "cred_path = Path('~/.kaggle/kaggle.json').expanduser()\n",
    "if not cred_path.exists():\n",
    "  print('entered')\n",
    "  cred_path.parent.mkdir(exist_ok=True)\n",
    "  cred_path.write_text(creds)\n",
    "  cred_path.chmod(0o600)"
   ]
  },
  {
   "cell_type": "code",
   "execution_count": 4,
   "id": "be1a0eeb",
   "metadata": {},
   "outputs": [],
   "source": [
    "# !kaggle competitions download -c career-con-2019 -p ./data/\n",
    "# !unzip ./data/X_test.csv.zip -d ./data\n",
    "# !unzip ./data/X_train.csv.zip -d ./data\n",
    "# !rm ./data/X_train.csv.zip ./data/X_test.csv.zip"
   ]
  },
  {
   "cell_type": "code",
   "execution_count": 5,
   "id": "eb84e16d",
   "metadata": {},
   "outputs": [],
   "source": [
    "%pip install -Uqq pytorch-lightning torchmetrics wandb"
   ]
  },
  {
   "cell_type": "code",
   "execution_count": 6,
   "id": "d70a8979",
   "metadata": {},
   "outputs": [],
   "source": [
    "import numpy as np\n",
    "import pandas as pd\n",
    "import matplotlib.pyplot as plt\n",
    "from matplotlib import rc\n",
    "import seaborn as sns\n",
    "import wandb\n",
    "from tqdm.auto import tqdm \n",
    "\n",
    "import torch\n",
    "import torch.autograd as autograd\n",
    "import torch.nn as nn\n",
    "import torch.nn.functional as F\n",
    "import torch.optim as optim\n",
    "from torch.utils.data import Dataset, DataLoader\n",
    "\n",
    "import pytorch_lightning as pl\n",
    "from pytorch_lightning.callbacks import ModelCheckpoint, EarlyStopping\n",
    "from pytorch_lightning.callbacks.progress import TQDMProgressBar\n",
    "from pytorch_lightning.loggers import WandbLogger\n",
    "import torchmetrics\n",
    "\n",
    "from pylab import rcParams\n",
    "from matplotlib.ticker import MaxNLocator\n",
    "from sklearn.metrics import classification_report, confusion_matrix\n",
    "from sklearn.preprocessing import LabelEncoder\n",
    "from sklearn.model_selection import train_test_split"
   ]
  },
  {
   "cell_type": "code",
   "execution_count": 7,
   "id": "47337d99",
   "metadata": {},
   "outputs": [],
   "source": [
    "%matplotlib inline\n",
    "%config InlinBackend.figure_format = 'retina'\n",
    "sns.set_style(style= 'whitegrid')\n",
    "rcParams['figure.figsize'] = 14,9"
   ]
  },
  {
   "cell_type": "code",
   "execution_count": 8,
   "id": "8719e4db",
   "metadata": {},
   "outputs": [
    {
     "name": "stdout",
     "output_type": "stream",
     "text": [
      "42"
     ]
    }
   ],
   "source": [
    "pl.seed_everything(42)"
   ]
  },
  {
   "cell_type": "code",
   "execution_count": 9,
   "id": "4532599d",
   "metadata": {},
   "outputs": [],
   "source": [
    "!wandb login"
   ]
  },
  {
   "cell_type": "code",
   "execution_count": 10,
   "id": "3d3cca84",
   "metadata": {},
   "outputs": [],
   "source": [
    "!pwd"
   ]
  },
  {
   "cell_type": "code",
   "execution_count": 11,
   "id": "e586ba9c",
   "metadata": {},
   "outputs": [
    {
     "name": "stdout",
     "output_type": "stream",
     "text": [
      "          row_id  series_id  ...  linear_acceleration_Y  linear_acceleration_Z\n",
      "0            0_0          0  ...                 2.1030                -9.7532\n",
      "1            0_1          0  ...                 1.5064                -9.4128\n",
      "2            0_2          0  ...                 1.5922                -8.7267\n",
      "3            0_3          0  ...                 1.0993               -10.0960\n",
      "4            0_4          0  ...                 1.4689               -10.4410\n",
      "...          ...        ...  ...                    ...                    ...\n",
      "487675  3809_123       3809  ...                 2.0115                -9.0063\n",
      "487676  3809_124       3809  ...                 3.0696                -8.1257\n",
      "487677  3809_125       3809  ...                 4.2622                -8.1443\n",
      "487678  3809_126       3809  ...                 4.7130                -9.4435\n",
      "487679  3809_127       3809  ...                 4.2751               -10.4980\n",
      "\n",
      "[487680 rows x 13 columns]"
     ]
    }
   ],
   "source": [
    "x_train = pd.read_csv('./data/raw/X_train.csv', low_memory=False)\n",
    "y_train = pd.read_csv('./data/raw/y_train.csv', low_memory=False)\n",
    "x_train"
   ]
  },
  {
   "cell_type": "code",
   "execution_count": 12,
   "id": "e765457b",
   "metadata": {},
   "outputs": [],
   "source": [
    "x_train.info()"
   ]
  },
  {
   "cell_type": "code",
   "execution_count": 13,
   "id": "1b486b33",
   "metadata": {},
   "outputs": [
    {
     "name": "stdout",
     "output_type": "stream",
     "text": [
      "      series_id  group_id        surface\n",
      "0             0        13  fine_concrete\n",
      "1             1        31       concrete\n",
      "2             2        20       concrete\n",
      "3             3        31       concrete\n",
      "4             4        22     soft_tiles\n",
      "...         ...       ...            ...\n",
      "3805       3805        55          tiled\n",
      "3806       3806        67           wood\n",
      "3807       3807        48  fine_concrete\n",
      "3808       3808        54          tiled\n",
      "3809       3809        56       soft_pvc\n",
      "\n",
      "[3810 rows x 3 columns]"
     ]
    }
   ],
   "source": [
    "y_train"
   ]
  },
  {
   "cell_type": "code",
   "execution_count": 14,
   "id": "0ba2517f",
   "metadata": {},
   "outputs": [],
   "source": [
    "y_train.surface.value_counts().plot(kind='bar')\n",
    "plt.xticks(rotation=45)\n",
    "plt.title('Distribution of target (surface) ')\n",
    "plt.show()"
   ]
  },
  {
   "cell_type": "code",
   "execution_count": 15,
   "id": "e062b997",
   "metadata": {},
   "outputs": [],
   "source": [
    "y_train.surface.value_counts().plot(kind='bar')\n",
    "plt.xticks(rotation=45)\n",
    "plt.title('Distribution of target (surface) ')\n",
    "plt.show()"
   ]
  },
  {
   "cell_type": "code",
   "execution_count": 16,
   "id": "77f8da63",
   "metadata": {},
   "outputs": [],
   "source": [
    "label_encoder =  LabelEncoder()\n",
    "encoded_labels = label_encoder.fit_transform(y_train.surface)"
   ]
  },
  {
   "cell_type": "code",
   "execution_count": 17,
   "id": "7aa8d13c",
   "metadata": {},
   "outputs": [
    {
     "name": "stdout",
     "output_type": "stream",
     "text": [
      "array(['carpet', 'concrete', 'fine_concrete', 'hard_tiles',\n",
      "       'hard_tiles_large_space', 'soft_pvc', 'soft_tiles', 'tiled',\n",
      "       'wood'], dtype=object)"
     ]
    }
   ],
   "source": [
    "label_encoder.classes_"
   ]
  },
  {
   "cell_type": "code",
   "execution_count": 18,
   "id": "fda29d69",
   "metadata": {},
   "outputs": [
    {
     "name": "stdout",
     "output_type": "stream",
     "text": [
      "(array([2, 1, 1, 1, 6]),\n",
      " ['fine_concrete', 'concrete', 'concrete', 'concrete', 'soft_tiles'])"
     ]
    }
   ],
   "source": [
    "encoded_labels[:5], list(y_train.surface[:5])"
   ]
  },
  {
   "cell_type": "code",
   "execution_count": 19,
   "id": "94060552",
   "metadata": {},
   "outputs": [
    {
     "name": "stdout",
     "output_type": "stream",
     "text": [
      "      series_id  group_id        surface  label\n",
      "0             0        13  fine_concrete      2\n",
      "1             1        31       concrete      1\n",
      "2             2        20       concrete      1\n",
      "3             3        31       concrete      1\n",
      "4             4        22     soft_tiles      6\n",
      "...         ...       ...            ...    ...\n",
      "3805       3805        55          tiled      7\n",
      "3806       3806        67           wood      8\n",
      "3807       3807        48  fine_concrete      2\n",
      "3808       3808        54          tiled      7\n",
      "3809       3809        56       soft_pvc      5\n",
      "\n",
      "[3810 rows x 4 columns]"
     ]
    }
   ],
   "source": [
    "y_train['label'] = encoded_labels\n",
    "y_train"
   ]
  },
  {
   "cell_type": "code",
   "execution_count": 20,
   "id": "3a379caa",
   "metadata": {},
   "outputs": [
    {
     "name": "stdout",
     "output_type": "stream",
     "text": [
      "          row_id  series_id  ...  linear_acceleration_Y  linear_acceleration_Z\n",
      "0            0_0          0  ...                 2.1030                -9.7532\n",
      "1            0_1          0  ...                 1.5064                -9.4128\n",
      "2            0_2          0  ...                 1.5922                -8.7267\n",
      "3            0_3          0  ...                 1.0993               -10.0960\n",
      "4            0_4          0  ...                 1.4689               -10.4410\n",
      "...          ...        ...  ...                    ...                    ...\n",
      "487675  3809_123       3809  ...                 2.0115                -9.0063\n",
      "487676  3809_124       3809  ...                 3.0696                -8.1257\n",
      "487677  3809_125       3809  ...                 4.2622                -8.1443\n",
      "487678  3809_126       3809  ...                 4.7130                -9.4435\n",
      "487679  3809_127       3809  ...                 4.2751               -10.4980\n",
      "\n",
      "[487680 rows x 13 columns]"
     ]
    }
   ],
   "source": [
    "x_train"
   ]
  },
  {
   "cell_type": "code",
   "execution_count": 21,
   "id": "5f558aa0",
   "metadata": {},
   "outputs": [
    {
     "name": "stdout",
     "output_type": "stream",
     "text": [
      "['orientation_X',\n",
      " 'orientation_Y',\n",
      " 'orientation_Z',\n",
      " 'orientation_W',\n",
      " 'angular_velocity_X',\n",
      " 'angular_velocity_Y',\n",
      " 'angular_velocity_Z',\n",
      " 'linear_acceleration_X',\n",
      " 'linear_acceleration_Y',\n",
      " 'linear_acceleration_Z']"
     ]
    }
   ],
   "source": [
    "#we dont need the first 3 cols\n",
    "feature_columns = x_train.columns.to_list()[3:]\n",
    "feature_columns"
   ]
  },
  {
   "cell_type": "code",
   "execution_count": 22,
   "id": "354cce03",
   "metadata": {},
   "outputs": [
    {
     "name": "stdout",
     "output_type": "stream",
     "text": [
      "0       128\n",
      "2544    128\n",
      "2532    128\n",
      "2533    128\n",
      "2534    128\n",
      "       ... \n",
      "1274    128\n",
      "1275    128\n",
      "1276    128\n",
      "1277    128\n",
      "3809    128\n",
      "Name: series_id, Length: 3810, dtype: int64"
     ]
    }
   ],
   "source": [
    "#it looks like the sequences have been grouped for us\n",
    "x_train.series_id.value_counts()"
   ]
  },
  {
   "cell_type": "code",
   "execution_count": 23,
   "id": "445cc3f4",
   "metadata": {},
   "outputs": [],
   "source": [
    "sequences = []\n",
    "for series_id, group in x_train.groupby('series_id'):\n",
    "  sequence_features = group[feature_columns]\n",
    "  label = y_train[y_train.series_id == series_id].iloc[0].label\n",
    "  sequences.append((sequence_features, label))"
   ]
  },
  {
   "cell_type": "code",
   "execution_count": 24,
   "id": "40115d61",
   "metadata": {},
   "outputs": [
    {
     "name": "stdout",
     "output_type": "stream",
     "text": [
      "(     orientation_X  orientation_Y  ...  linear_acceleration_Y  linear_acceleration_Z\n",
      " 0         -0.75853       -0.63435  ...                2.10300                -9.7532\n",
      " 1         -0.75853       -0.63434  ...                1.50640                -9.4128\n",
      " 2         -0.75853       -0.63435  ...                1.59220                -8.7267\n",
      " 3         -0.75852       -0.63436  ...                1.09930               -10.0960\n",
      " 4         -0.75852       -0.63435  ...                1.46890               -10.4410\n",
      " ..             ...            ...  ...                    ...                    ...\n",
      " 123       -0.75943       -0.63316  ...                1.79890                -6.8687\n",
      " 124       -0.75945       -0.63313  ...                2.35620                -6.8926\n",
      " 125       -0.75949       -0.63309  ...                0.97328                -9.9795\n",
      " 126       -0.75950       -0.63307  ...                0.34931               -11.9770\n",
      " 127       -0.75953       -0.63306  ...                0.80346               -10.6970\n",
      " \n",
      " [128 rows x 10 columns], 2)"
     ]
    }
   ],
   "source": [
    "sequences[0]"
   ]
  },
  {
   "cell_type": "code",
   "execution_count": 25,
   "id": "675bff04",
   "metadata": {},
   "outputs": [
    {
     "name": "stdout",
     "output_type": "stream",
     "text": [
      "(3048, 762)"
     ]
    }
   ],
   "source": [
    "train_sequences, val_sequences = train_test_split(sequences, test_size=0.2)\n",
    "len(train_sequences), len(val_sequences)"
   ]
  },
  {
   "cell_type": "code",
   "execution_count": 26,
   "id": "2d7b109c",
   "metadata": {},
   "outputs": [],
   "source": [
    "#sanity check\n",
    "len(train_sequences), len(val_sequences)\n",
    "print('all train seq shape check: ',[(train_sequences[i][0].shape) for i in range(len(train_sequences)) if (train_sequences[i][0].shape) != (128, 10)])\n",
    "# print('all train label shape check: ',[len(train_sequences[i][1]) for i in range(len(train_sequences)) if len(train_sequences[i][1]) != 10])\n",
    "print('all train seq shape check: ',[(val_sequences[i][0].shape) for i in range(len(val_sequences)) if (val_sequences[i][0].shape) != (128, 10)])\n",
    "# print('all train label shape check: ',[len(val_sequences[i][1]) for i in range(len(val_sequences)) if len(val_sequences[i][1]) != 10])"
   ]
  },
  {
   "cell_type": "code",
   "execution_count": 27,
   "id": "60664714",
   "metadata": {},
   "outputs": [],
   "source": [
    "\n",
    "class SurfaceDataset(Dataset):\n",
    "\n",
    "  def __init__(self, sequences) -> None:\n",
    "      super().__init__()\n",
    "      self.sequences = sequences\n",
    "\n",
    "  def __len__(self):\n",
    "    return len(self.sequences)\n",
    "\n",
    "  def __getitem__(self, index):\n",
    "    sequence, label = self.sequences[index]\n",
    "    return dict(\n",
    "      sequence=torch.Tensor(sequence.to_numpy()),\n",
    "      label=torch.tensor(label).long()\n",
    "    )"
   ]
  },
  {
   "cell_type": "code",
   "execution_count": 28,
   "id": "68e0c7ff",
   "metadata": {},
   "outputs": [],
   "source": [
    "class SurfaceDatamodule(pl.LightningDataModule):\n",
    "\n",
    "  def __init__(self, train_sequences, val_sequences, batch_size):\n",
    "    super().__init__()\n",
    "    self.train_sequences = train_sequences\n",
    "    self.val_sequences = val_sequences\n",
    "    self.batch_size = batch_size\n",
    "\n",
    "  def setup(self, stage=None):\n",
    "    self.train_dataset = SurfaceDataset(self.train_sequences)\n",
    "    self.val_dataset = SurfaceDataset(self.val_sequences)\n",
    "\n",
    "  def train_dataloader(self):\n",
    "      return DataLoader(self.train_dataset, \n",
    "                        batch_size=self.batch_size,\n",
    "                        num_workers=3)\n",
    "      \n",
    "  def val_dataloader(self):\n",
    "      return DataLoader(self.val_dataset,\n",
    "                        batch_size=self.batch_size,\n",
    "                        num_workers=2)"
   ]
  },
  {
   "cell_type": "code",
   "execution_count": 29,
   "id": "6595493c",
   "metadata": {},
   "outputs": [],
   "source": [
    "\n",
    "class SurfaceModel(nn.Module):\n",
    "\n",
    "  def __init__(self, n_features, n_classes, n_hidden,dropout, n_layers=3):\n",
    "    super().__init__()\n",
    "    print(dropout)\n",
    "    self.n_fearues = n_features\n",
    "    self.n_classes = n_classes\n",
    "    self.n_hidden = n_hidden\n",
    "    self.n_layers = n_layers\n",
    "    self.dropout = dropout\n",
    "\n",
    "    self.lstm = nn.LSTM(\n",
    "        input_size =self.n_fearues,\n",
    "        hidden_size = self.n_hidden,\n",
    "        num_layers = self.n_layers,\n",
    "        dropout = self.dropout,\n",
    "        batch_first = True\n",
    "    )\n",
    "    self.cassifier = nn.Linear(self.n_hidden, self.n_classes)\n",
    "\n",
    "  def forward(self, x):\n",
    "        self.lstm.flatten_parameters()\n",
    "        _, (hidden,_) = self.lstm(x)\n",
    "        out = hidden[-1]\n",
    "        return self.cassifier(out)"
   ]
  },
  {
   "cell_type": "code",
   "execution_count": 30,
   "id": "031174f9",
   "metadata": {},
   "outputs": [],
   "source": [
    "class SurfacePredictor(pl.LightningModule):\n",
    "  def __init__(self, n_features, n_classes, n_hidden, seq_length, dropout, n_layers=3, lr=0.0001):\n",
    "    super().__init__()\n",
    "    self.lr = lr \n",
    "    self.seq_length =seq_length\n",
    "    self.n_features = n_features\n",
    "\n",
    "    self.model = SurfaceModel(n_features, n_classes, n_hidden, n_layers=n_layers,dropout=dropout)\n",
    "    self.criterion = nn.CrossEntropyLoss()\n",
    "    self.train_ac = torchmetrics.Accuracy()\n",
    "    self.val_ac = torchmetrics.Accuracy()\n",
    "    self.save_hyperparameters()\n",
    "\n",
    "\n",
    "  def forward(self, x, labels=None):\n",
    "    output = self.model(x)\n",
    "\n",
    "    loss = 0\n",
    "    if labels is not None:\n",
    "      loss = self.criterion(output, labels)\n",
    "      return loss, output\n",
    "\n",
    "    return output\n",
    "\n",
    "\n",
    "  def training_step(self, batch, batch_idx):\n",
    "    sequences = batch['sequence']\n",
    "    labels = batch['label']\n",
    "    loss, outputs = self(sequences, labels)\n",
    "    predictions = torch.argmax(outputs, dim=1)\n",
    "    step_ac = self.train_ac(predictions, labels)\n",
    "\n",
    "    self.log('train_loss', loss, prog_bar=True, logger=True)\n",
    "    self.log('train_accuracy', step_ac, prog_bar=True, logger=True)\n",
    "\n",
    "    return dict(loss=loss, accuracy=step_ac)\n",
    "\n",
    "  def validation_step(self, batch, batch_idx):\n",
    "    sequences = batch['sequence']\n",
    "    labels = batch['label']\n",
    "    loss, outputs = self(sequences, labels)\n",
    "    predictions = torch.argmax(outputs, dim=1)\n",
    "    step_ac = self.train_ac(predictions, labels)\n",
    "\n",
    "    self.log('val_loss', loss, prog_bar=True, logger=True)\n",
    "    self.log('val_accuracy', step_ac, prog_bar=True, logger=True)\n",
    "\n",
    "    return dict(loss=loss, accuracy=step_ac, loggits=outputs)\n",
    "\n",
    "\n",
    "  def validation_epoch_end(self, validation_step_outputs):\n",
    "    dummyImput = torch.zeros(\n",
    "        (1, self.seq_length, self.n_features), device=self.device)\n",
    "    model_filename = f\"model_{str(self.global_step).zfill(5)}.onnx\"\n",
    "    torch.onnx.export(self, dummyImput, model_filename, opset_version=11)\n",
    "    # wandb.save(model_filename,)\n",
    "    outputs = [out['loggits'] for out in validation_step_outputs]\n",
    "    flattened_outputs = torch.flatten(\n",
    "          torch.cat(outputs))\n",
    "    self.logger.experiment.log(\n",
    "    {'valid/logits': wandb.Histogram(flattened_outputs.to('cpu')),\n",
    "      'epoch': self.current_epoch}\n",
    "    )\n",
    "\n",
    "\n",
    "  def configure_optimizers(self):\n",
    "    return torch.optim.AdamW(self.parameters(), lr=self.lr)\n",
    " "
   ]
  },
  {
   "cell_type": "code",
   "execution_count": 31,
   "id": "d88b5715",
   "metadata": {},
   "outputs": [],
   "source": [
    "n_epoch = 10\n",
    "bs = 256\n",
    "n_features = len(feature_columns)\n",
    "n_classes = len(label_encoder.classes_)\n",
    "n_hidden = 128\n",
    "seq_length= 128\n",
    "\n",
    "checkpoint_callback = ModelCheckpoint(\n",
    "    dirpath='checkpoints',\n",
    "    filename='best_checkpoint',\n",
    "    save_top_k=1,\n",
    "    verbose=True,\n",
    "    monitor='val_loss',\n",
    "    mode='min'\n",
    ")\n",
    "early_stopping_callback = EarlyStopping(monitor='val_loss', patience=4, verbose=True)\n",
    "progress_bar = TQDMProgressBar(refresh_rate=30)\n",
    "\n",
    "callbacks = [early_stopping_callback, checkpoint_callback, progress_bar]\n",
    "logger = WandbLogger(name='onnx', save_dir='./logs', project='surface_pred',settings=wandb.Settings(symlink=False))\n",
    "# wandb.init(settings=wandb.Settings(symlink=False))\n",
    "trainer = pl.Trainer(gpus = 1,\n",
    "                     max_epochs = n_epoch,\n",
    "                     logger= logger,\n",
    "                     callbacks = callbacks,\n",
    "                     precision=16)"
   ]
  },
  {
   "cell_type": "code",
   "execution_count": 32,
   "id": "ee2bacd8",
   "metadata": {},
   "outputs": [],
   "source": [
    "params23 ={\n",
    "    'n_features': len(feature_columns),\n",
    "    \"n_classes\": len(label_encoder.classes_),\n",
    "    \"dropout\": 0.4,\n",
    "    \"n_hidden\": 512,\n",
    "    \"batch_size\": 512,\n",
    "    \"lr\": 0.00426   \n",
    "    }"
   ]
  },
  {
   "cell_type": "code",
   "execution_count": 33,
   "id": "5bf95d5e",
   "metadata": {},
   "outputs": [],
   "source": [
    "def train(params, name):\n",
    "\n",
    "    # set up W&B logger\n",
    "    wandb_logger = WandbLogger(log_model=True)  # log final model\n",
    "\n",
    "\n",
    "    # setup data\n",
    "    data_module =SurfaceDatamodule(train_sequences, val_sequences, batch_size=params['batch_size'])\n",
    "\n",
    "    # setup model - note how we refer to sweep parameters with wandb.config\n",
    "    model = SurfacePredictor(n_features, n_classes,params['n_hidden'], seq_length, dropout = params['dropout'], lr = params['lr'])\n",
    "\n",
    "    # early_stopping_callback = EarlyStopping(monitor='val_loss', patience=4, verbose=True)\n",
    "    progress_bar = TQDMProgressBar(refresh_rate=30)\n",
    "\n",
    "    logger = WandbLogger(name=name, save_dir='./logs', project='surface_pred')\n",
    "    callbacks = [progress_bar]\n",
    "\n",
    "    # setup Trainer\n",
    "    trainer = pl.Trainer(gpus = 1,\n",
    "                        max_epochs = 250,\n",
    "                        logger= logger,\n",
    "                        callbacks = callbacks,\n",
    "                        precision=16)\n",
    "\n",
    "    # train\n",
    "    trainer.fit(model, datamodule=data_module)\n",
    "    wandb.finish()"
   ]
  },
  {
   "cell_type": "code",
   "execution_count": 34,
   "id": "008d5071",
   "metadata": {},
   "outputs": [],
   "source": [
    "def train(params, run_name):\n",
    "    # setup data\n",
    "    data_module =SurfaceDatamodule(train_sequences, val_sequences, batch_size=params['batch_size'])\n",
    "\n",
    "    model = SurfacePredictor(n_features= params['n_features'], \n",
    "                             n_classes= params['n_classes'],\n",
    "                             n_hidden= params['n_hidden'], \n",
    "                             seq_length = params['seq_length'],\n",
    "                             dropout = params['dropout'], \n",
    "                             lr = params['lr'])\n",
    "    # set up W&B logger\n",
    "    checkpoint_callback = ModelCheckpoint(\n",
    "    dirpath='checkpoints',\n",
    "    filename='best_checkpoint',\n",
    "    save_top_k=1,\n",
    "    verbose=True,\n",
    "    monitor='val_accuracy',\n",
    "    mode='max'\n",
    ")\n",
    "    early_stopping_callback = EarlyStopping(monitor='val_accuracy', patience=10, verbose=True)\n",
    "    progress_bar = TQDMProgressBar(refresh_rate=30)\n",
    "\n",
    "    callbacks = [early_stopping_callback, checkpoint_callback, progress_bar]\n",
    "    \n",
    "    logger = WandbLogger(name=run_name, save_dir='logs', project='surface_pred')\n",
    "    progress_bar = TQDMProgressBar(refresh_rate=30)\n",
    "\n",
    "    callbacks = [progress_bar]\n",
    "\n",
    "    # setup Trainer\n",
    "    trainer = pl.Trainer(gpus = 1,\n",
    "                        max_epochs = 250,\n",
    "                        logger= logger,\n",
    "                        callbacks = callbacks,\n",
    "                        precision=16)\n",
    "\n",
    "    # train\n",
    "    trainer.fit(model, datamodule=data_module)\n",
    "    wandb.finish()"
   ]
  },
  {
   "cell_type": "code",
   "execution_count": 35,
   "id": "8fc31a09",
   "metadata": {},
   "outputs": [],
   "source": [
    "params23 ={\n",
    "    'n_features': len(feature_columns),\n",
    "    \"n_classes\": len(label_encoder.classes_),\n",
    "    \"seq_length\":128,\n",
    "    \"dropout\": 0.5,\n",
    "    \"n_hidden\": 5128,\n",
    "    \"batch_size\": 64,\n",
    "    \"lr\": 0.01  \n",
    "    }"
   ]
  },
  {
   "cell_type": "code",
   "execution_count": 36,
   "id": "591ac505",
   "metadata": {},
   "outputs": [],
   "source": [
    "params ={\n",
    "    'n_features': len(feature_columns),\n",
    "    \"n_classes\": len(label_encoder.classes_),\n",
    "    \"seq_length\":128,\n",
    "    \"dropout\": 0.5,\n",
    "    \"n_hidden\": 5128,\n",
    "    \"batch_size\": 64,\n",
    "    \"lr\": 0.01  \n",
    "    }?"
   ]
  },
  {
   "cell_type": "code",
   "execution_count": 37,
   "id": "c5bb5c70",
   "metadata": {},
   "outputs": [],
   "source": [
    "params ={\n",
    "    'n_features': len(feature_columns),\n",
    "    \"n_classes\": len(label_encoder.classes_),\n",
    "    \"seq_length\":128,\n",
    "    \"dropout\": 0.5,\n",
    "    \"n_hidden\": 5128,\n",
    "    \"batch_size\": 64,\n",
    "    \"lr\": 0.01  \n",
    "    }"
   ]
  },
  {
   "cell_type": "code",
   "execution_count": 38,
   "id": "7b7c4386",
   "metadata": {},
   "outputs": [],
   "source": [
    "params ={\n",
    "    'n_features': len(feature_columns),\n",
    "    \"n_classes\": len(label_encoder.classes_),\n",
    "    \"seq_length\":128,\n",
    "    \"dropout\": 0.5,\n",
    "    \"n_hidden\": 5128,\n",
    "    \"batch_size\": 64,\n",
    "    \"lr\": 0.01  \n",
    "    }??"
   ]
  },
  {
   "cell_type": "code",
   "execution_count": 39,
   "id": "f59c5c47",
   "metadata": {},
   "outputs": [],
   "source": [
    "params ={\n",
    "    'n_features': len(feature_columns),\n",
    "    \"n_classes\": len(label_encoder.classes_),\n",
    "    \"seq_length\":128,\n",
    "    \"dropout\": 0.5,\n",
    "    \"n_hidden\": 5128,\n",
    "    \"batch_size\": 64,\n",
    "    \"lr\": 0.01  \n",
    "    }"
   ]
  },
  {
   "cell_type": "code",
   "execution_count": 40,
   "id": "d1b1effb",
   "metadata": {},
   "outputs": [],
   "source": [
    "params??"
   ]
  },
  {
   "cell_type": "code",
   "execution_count": 41,
   "id": "f3d72778",
   "metadata": {},
   "outputs": [],
   "source": [
    "params ={\n",
    "    'n_features': len(feature_columns),\n",
    "    \"n_classes\": len(label_encoder.classes_),\n",
    "    \"seq_length\":128,\n",
    "    \"dropout\": 0.5,\n",
    "    \"n_hidden\": 128,\n",
    "    \"batch_size\": 64,\n",
    "    \"lr\": 0.01  \n",
    "    }"
   ]
  },
  {
   "cell_type": "code",
   "execution_count": 42,
   "id": "a8ff7f57",
   "metadata": {},
   "outputs": [],
   "source": [
    "def train(params, run_name):\n",
    "    # setup data\n",
    "    data_module =SurfaceDatamodule(train_sequences, val_sequences, batch_size=params['batch_size'])\n",
    "\n",
    "    model = SurfacePredictor(n_features= params['n_features'], \n",
    "                             n_classes= params['n_classes'],\n",
    "                             n_hidden= params['n_hidden'], \n",
    "                             seq_length = params['seq_length'],\n",
    "                             dropout = params['dropout'], \n",
    "                             lr = params['lr'])\n",
    "    # set up W&B logger\n",
    "    checkpoint_callback = ModelCheckpoint(\n",
    "    dirpath='checkpoints',\n",
    "    filename='best_checkpoint',\n",
    "    save_top_k=1,\n",
    "    verbose=True,\n",
    "    monitor='val_accuracy',\n",
    "    mode='max'\n",
    ")\n",
    "    early_stopping_callback = EarlyStopping(monitor='val_accuracy', patience=10, verbose=True)\n",
    "    progress_bar = TQDMProgressBar(refresh_rate=30)\n",
    "\n",
    "    callbacks = [early_stopping_callback, checkpoint_callback, progress_bar]\n",
    "    \n",
    "    logger = WandbLogger(name=run_name, save_dir='logs', project='surface_pred')\n",
    "    progress_bar = TQDMProgressBar(refresh_rate=30)\n",
    "\n",
    "    callbacks = [progress_bar]\n",
    "\n",
    "    # setup Trainer\n",
    "    trainer = pl.Trainer(gpus = 1,\n",
    "                        max_epochs = 250,\n",
    "                        logger= logger,\n",
    "                        callbacks = callbacks,\n",
    "                        precision=16)\n",
    "\n",
    "    # train\n",
    "    trainer.fit(model, datamodule=data_module)\n",
    "    wandb.finish()"
   ]
  },
  {
   "cell_type": "code",
   "execution_count": 43,
   "id": "14d91561",
   "metadata": {},
   "outputs": [],
   "source": [
    "train(params, 'run_41_w_128nh')"
   ]
  },
  {
   "cell_type": "code",
   "execution_count": 44,
   "id": "0ea9cc28",
   "metadata": {},
   "outputs": [],
   "source": [
    "def train(params, run_name):\n",
    "    # setup data\n",
    "    data_module =SurfaceDatamodule(train_sequences, val_sequences, batch_size=params['batch_size'])\n",
    "\n",
    "    model = SurfacePredictor(n_features= params['n_features'], \n",
    "                             n_classes= params['n_classes'],\n",
    "                             n_hidden= params['n_hidden'], \n",
    "                             seq_length = params['seq_length'],\n",
    "                             dropout = params['dropout'], \n",
    "                             lr = params['lr'])\n",
    "    # set up W&B logger\n",
    "    checkpoint_callback = ModelCheckpoint(\n",
    "    dirpath='checkpoints',\n",
    "    filename='best_checkpoint',\n",
    "    save_top_k=1,\n",
    "    verbose=True,\n",
    "    monitor='val_accuracy',\n",
    "    mode='max'\n",
    ")\n",
    "    early_stopping_callback = EarlyStopping(monitor='val_accuracy', patience=10, verbose=True)\n",
    "    progress_bar = TQDMProgressBar(refresh_rate=30)\n",
    "\n",
    "    callbacks = [early_stopping_callback, checkpoint_callback, progress_bar]\n",
    "    \n",
    "    logger = WandbLogger(name=run_name, save_dir='logs', project='surface_pred')\n",
    "    progress_bar = TQDMProgressBar(refresh_rate=30,)\n",
    "\n",
    "    callbacks = [progress_bar]\n",
    "\n",
    "    # setup Trainer\n",
    "    trainer = pl.Trainer(gpus = 1,\n",
    "                        max_epochs = 250,\n",
    "                        logger= logger,\n",
    "                        callbacks = callbacks,\n",
    "                        log_every_n_steps=40,\n",
    "                        precision=16)\n",
    "\n",
    "    # train\n",
    "    trainer.fit(model, datamodule=data_module)\n",
    "    wandb.finish()"
   ]
  },
  {
   "cell_type": "code",
   "execution_count": 45,
   "id": "377705af",
   "metadata": {},
   "outputs": [],
   "source": [
    "params ={\n",
    "    'n_features': len(feature_columns),\n",
    "    \"n_classes\": len(label_encoder.classes_),\n",
    "    \"seq_length\":128,\n",
    "    \"dropout\": 0.5,\n",
    "    \"n_hidden\": 128,\n",
    "    \"batch_size\": 64,\n",
    "    \"lr\": 0.04  \n",
    "    }"
   ]
  },
  {
   "cell_type": "code",
   "execution_count": 46,
   "id": "3f8b4755",
   "metadata": {},
   "outputs": [],
   "source": [
    "train(params, 'run_41_w_128nh_04lr')"
   ]
  },
  {
   "cell_type": "code",
   "execution_count": 47,
   "id": "8d790dc1",
   "metadata": {},
   "outputs": [],
   "source": [
    "class SurfacePredictor(pl.LightningModule):\n",
    "  def __init__(self, n_features, n_classes, n_hidden, seq_length, dropout, n_layers=3, lr=0.0001):\n",
    "    super().__init__()\n",
    "    self.lr = lr \n",
    "    self.seq_length =seq_length\n",
    "    self.n_features = n_features\n",
    "\n",
    "    self.model = SurfaceModel(n_features, n_classes, n_hidden, n_layers=n_layers,dropout=dropout)\n",
    "    self.criterion = nn.CrossEntropyLoss()\n",
    "    self.train_ac = torchmetrics.Accuracy()\n",
    "    self.val_ac = torchmetrics.Accuracy()\n",
    "    self.save_hyperparameters()\n",
    "\n",
    "\n",
    "  def forward(self, x, labels=None):\n",
    "    output = self.model(x)\n",
    "\n",
    "    loss = 0\n",
    "    if labels is not None:\n",
    "      loss = self.criterion(output, labels)\n",
    "      return loss, output\n",
    "\n",
    "    return output\n",
    "\n",
    "\n",
    "  def training_step(self, batch, batch_idx):\n",
    "    sequences = batch['sequence']\n",
    "    labels = batch['label']\n",
    "    loss, outputs = self(sequences, labels)\n",
    "    predictions = torch.argmax(outputs, dim=1)\n",
    "    step_ac = self.train_ac(predictions, labels)\n",
    "\n",
    "    self.log('train_loss', loss, prog_bar=True, logger=True)\n",
    "    self.log('train_accuracy', step_ac, prog_bar=True, logger=True)\n",
    "\n",
    "    return dict(loss=loss, accuracy=step_ac)\n",
    "\n",
    "  def validation_step(self, batch, batch_idx):\n",
    "    sequences = batch['sequence']\n",
    "    labels = batch['label']\n",
    "    loss, outputs = self(sequences, labels)\n",
    "    predictions = torch.argmax(outputs, dim=1)\n",
    "    step_ac = self.train_ac(predictions, labels)\n",
    "\n",
    "    self.log('val_loss', loss, prog_bar=True, logger=True)\n",
    "    self.log('val_accuracy', step_ac, prog_bar=True, logger=True)\n",
    "\n",
    "    return dict(loss=loss, accuracy=step_ac, loggits=outputs)\n",
    "\n",
    "\n",
    "  def validation_epoch_end(self, validation_step_outputs):\n",
    "    dummyImput = torch.zeros(\n",
    "        (1, self.seq_length, self.n_features), device=self.device)\n",
    "    model_filename = f\"model_{str(self.global_step).zfill(5)}.onnx\"\n",
    "    # torch.onnx.export(self, dummyImput, model_filename, opset_version=11)\n",
    "    # wandb.save(model_filename,)\n",
    "    outputs = [out['loggits'] for out in validation_step_outputs]\n",
    "    flattened_outputs = torch.flatten(\n",
    "          torch.cat(outputs))\n",
    "    self.logger.experiment.log(\n",
    "    {'valid/logits': wandb.Histogram(flattened_outputs.to('cpu')),\n",
    "      'epoch': self.current_epoch}\n",
    "    )\n",
    "\n",
    "\n",
    "  def configure_optimizers(self):\n",
    "    return torch.optim.AdamW(self.parameters(), lr=self.lr)\n",
    " "
   ]
  },
  {
   "cell_type": "code",
   "execution_count": 48,
   "id": "f0621812",
   "metadata": {},
   "outputs": [],
   "source": [
    "params ={\n",
    "    'n_features': len(feature_columns),\n",
    "    \"n_classes\": len(label_encoder.classes_),\n",
    "    \"seq_length\":128,\n",
    "    \"dropout\": 0.5,\n",
    "    \"n_hidden\": 128,\n",
    "    \"batch_size\": 64,\n",
    "    \"lr\": 0.04  \n",
    "    }"
   ]
  },
  {
   "cell_type": "code",
   "execution_count": 49,
   "id": "f2c8df99",
   "metadata": {},
   "outputs": [],
   "source": [
    "def train(params, run_name):\n",
    "    # setup data\n",
    "    data_module =SurfaceDatamodule(train_sequences, val_sequences, batch_size=params['batch_size'])\n",
    "\n",
    "    model = SurfacePredictor(n_features= params['n_features'], \n",
    "                             n_classes= params['n_classes'],\n",
    "                             n_hidden= params['n_hidden'], \n",
    "                             seq_length = params['seq_length'],\n",
    "                             dropout = params['dropout'], \n",
    "                             lr = params['lr'])\n",
    "    # set up W&B logger\n",
    "    checkpoint_callback = ModelCheckpoint(\n",
    "    dirpath='checkpoints',\n",
    "    filename='best_checkpoint',\n",
    "    save_top_k=1,\n",
    "    verbose=True,\n",
    "    monitor='val_accuracy',\n",
    "    mode='max'\n",
    ")\n",
    "    early_stopping_callback = EarlyStopping(monitor='val_accuracy', patience=10, verbose=True)\n",
    "    progress_bar = TQDMProgressBar(refresh_rate=30)\n",
    "\n",
    "    callbacks = [early_stopping_callback, checkpoint_callback, progress_bar]\n",
    "    \n",
    "    logger = WandbLogger(name=run_name, save_dir='logs', project='surface_pred')\n",
    "    progress_bar = TQDMProgressBar(refresh_rate=30,)\n",
    "\n",
    "    callbacks = [progress_bar]\n",
    "\n",
    "    # setup Trainer\n",
    "    trainer = pl.Trainer(gpus = 1,\n",
    "                        max_epochs = 250,\n",
    "                        logger= logger,\n",
    "                        callbacks = callbacks,\n",
    "                        log_every_n_steps=40,\n",
    "                        precision=16)\n",
    "\n",
    "    # train\n",
    "    trainer.fit(model, datamodule=data_module)\n",
    "    wandb.finish()"
   ]
  },
  {
   "cell_type": "code",
   "execution_count": 50,
   "id": "2a4a8c34",
   "metadata": {},
   "outputs": [],
   "source": [
    "train(params, 'run_41_w_128nh_04lr')"
   ]
  },
  {
   "cell_type": "code",
   "execution_count": 51,
   "id": "f0118727",
   "metadata": {},
   "outputs": [],
   "source": [
    "params ={\n",
    "    'n_features': len(feature_columns),\n",
    "    \"n_classes\": len(label_encoder.classes_),\n",
    "    \"seq_length\":256,\n",
    "    \"dropout\": 0.5,\n",
    "    \"n_hidden\": 128,\n",
    "    \"batch_size\": 64,\n",
    "    \"lr\": 0.01  \n",
    "    }"
   ]
  },
  {
   "cell_type": "code",
   "execution_count": 52,
   "id": "1267ea28",
   "metadata": {},
   "outputs": [],
   "source": [
    "def train(params, run_name):\n",
    "    # setup data\n",
    "    data_module =SurfaceDatamodule(train_sequences, val_sequences, batch_size=params['batch_size'])\n",
    "\n",
    "    model = SurfacePredictor(n_features= params['n_features'], \n",
    "                             n_classes= params['n_classes'],\n",
    "                             n_hidden= params['n_hidden'], \n",
    "                             seq_length = params['seq_length'],\n",
    "                             dropout = params['dropout'], \n",
    "                             lr = params['lr'])\n",
    "    # set up W&B logger\n",
    "    checkpoint_callback = ModelCheckpoint(\n",
    "    dirpath='checkpoints',\n",
    "    filename='best_checkpoint',\n",
    "    save_top_k=1,\n",
    "    verbose=True,\n",
    "    monitor='val_accuracy',\n",
    "    mode='max'\n",
    ")\n",
    "    early_stopping_callback = EarlyStopping(monitor='val_accuracy', patience=10, verbose=True)\n",
    "    progress_bar = TQDMProgressBar(refresh_rate=30)\n",
    "\n",
    "    callbacks = [early_stopping_callback, checkpoint_callback, progress_bar]\n",
    "    \n",
    "    logger = WandbLogger(name=run_name, save_dir='logs', project='surface_pred')\n",
    "    progress_bar = TQDMProgressBar(refresh_rate=30,)\n",
    "\n",
    "    callbacks = [progress_bar]\n",
    "\n",
    "    # setup Trainer\n",
    "    trainer = pl.Trainer(gpus = 1,\n",
    "                        max_epochs = 250,\n",
    "                        logger= logger,\n",
    "                        callbacks = callbacks,\n",
    "                        log_every_n_steps=40,\n",
    "                        precision=16)\n",
    "\n",
    "    # train\n",
    "    trainer.fit(model, datamodule=data_module)\n",
    "    wandb.finish()"
   ]
  },
  {
   "cell_type": "code",
   "execution_count": 53,
   "id": "30497008",
   "metadata": {},
   "outputs": [],
   "source": [
    "train(params, 'run_41')"
   ]
  },
  {
   "cell_type": "code",
   "execution_count": 54,
   "id": "951f3c4c",
   "metadata": {},
   "outputs": [
    {
     "data": {
      "text/html": [
       "\n",
       "                    Syncing run <strong><a href=\"https://wandb.ai/phade160/surface_pred/runs/d8wu2pww\" target=\"_blank\">run_41_orig</a></strong> to <a href=\"https://wandb.ai/phade160/surface_pred\" target=\"_blank\">Weights & Biases</a> (<a href=\"https://docs.wandb.com/integrations/jupyter.html\" target=\"_blank\">docs</a>).<br/>\n",
       "\n",
       "                "
      ],
      "text/plain": [
       "<IPython.core.display.HTML object>"
      ]
     },
     "metadata": {},
     "output_type": "display_data"
    },
    {
     "data": {
      "application/vnd.jupyter.widget-view+json": {
       "model_id": "4b5cd9d0b9ad4e2fa2e0440a3f545ce2",
       "version_major": 2,
       "version_minor": 0
      },
      "text/plain": [
       "Validation sanity check: 0it [00:00, ?it/s]"
      ]
     },
     "metadata": {},
     "output_type": "display_data"
    },
    {
     "data": {
      "application/vnd.jupyter.widget-view+json": {
       "model_id": "3fa92945cb604ffbb45f0c732598d625",
       "version_major": 2,
       "version_minor": 0
      },
      "text/plain": [
       "Training: 0it [00:00, ?it/s]"
      ]
     },
     "metadata": {},
     "output_type": "display_data"
    },
    {
     "data": {
      "application/vnd.jupyter.widget-view+json": {
       "model_id": "bb21c548b5d744fd80da64942895980d",
       "version_major": 2,
       "version_minor": 0
      },
      "text/plain": [
       "Validating: 0it [00:00, ?it/s]"
      ]
     },
     "metadata": {},
     "output_type": "display_data"
    },
    {
     "data": {
      "application/vnd.jupyter.widget-view+json": {
       "model_id": "ef48d1b8592f4b2dae5e918a4c9e3002",
       "version_major": 2,
       "version_minor": 0
      },
      "text/plain": [
       "Validating: 0it [00:00, ?it/s]"
      ]
     },
     "metadata": {},
     "output_type": "display_data"
    },
    {
     "data": {
      "application/vnd.jupyter.widget-view+json": {
       "model_id": "42d0f2c587af4f709b812b1717011656",
       "version_major": 2,
       "version_minor": 0
      },
      "text/plain": [
       "Validating: 0it [00:00, ?it/s]"
      ]
     },
     "metadata": {},
     "output_type": "display_data"
    },
    {
     "data": {
      "application/vnd.jupyter.widget-view+json": {
       "model_id": "cb718473179a4c0b884bb658bcb72e62",
       "version_major": 2,
       "version_minor": 0
      },
      "text/plain": [
       "Validating: 0it [00:00, ?it/s]"
      ]
     },
     "metadata": {},
     "output_type": "display_data"
    },
    {
     "data": {
      "application/vnd.jupyter.widget-view+json": {
       "model_id": "83ccba67fca24846bfaf0b6318bd50fd",
       "version_major": 2,
       "version_minor": 0
      },
      "text/plain": [
       "Validating: 0it [00:00, ?it/s]"
      ]
     },
     "metadata": {},
     "output_type": "display_data"
    },
    {
     "data": {
      "application/vnd.jupyter.widget-view+json": {
       "model_id": "f94fd561737f416ebd93eb5745ddc062",
       "version_major": 2,
       "version_minor": 0
      },
      "text/plain": [
       "Validating: 0it [00:00, ?it/s]"
      ]
     },
     "metadata": {},
     "output_type": "display_data"
    },
    {
     "data": {
      "application/vnd.jupyter.widget-view+json": {
       "model_id": "53948226a4d34fa7bdc0b963c4192748",
       "version_major": 2,
       "version_minor": 0
      },
      "text/plain": [
       "Validating: 0it [00:00, ?it/s]"
      ]
     },
     "metadata": {},
     "output_type": "display_data"
    },
    {
     "data": {
      "application/vnd.jupyter.widget-view+json": {
       "model_id": "65b671d602b04486b2c1f8bfbfad6fca",
       "version_major": 2,
       "version_minor": 0
      },
      "text/plain": [
       "Validating: 0it [00:00, ?it/s]"
      ]
     },
     "metadata": {},
     "output_type": "display_data"
    },
    {
     "data": {
      "application/vnd.jupyter.widget-view+json": {
       "model_id": "d3692b0ad06f4033b78d087c10a1dcd6",
       "version_major": 2,
       "version_minor": 0
      },
      "text/plain": [
       "Validating: 0it [00:00, ?it/s]"
      ]
     },
     "metadata": {},
     "output_type": "display_data"
    },
    {
     "data": {
      "application/vnd.jupyter.widget-view+json": {
       "model_id": "28511892df75479687736e467aefe052",
       "version_major": 2,
       "version_minor": 0
      },
      "text/plain": [
       "Validating: 0it [00:00, ?it/s]"
      ]
     },
     "metadata": {},
     "output_type": "display_data"
    },
    {
     "data": {
      "application/vnd.jupyter.widget-view+json": {
       "model_id": "448393e6cd2d45bdb8e809455210929d",
       "version_major": 2,
       "version_minor": 0
      },
      "text/plain": [
       "Validating: 0it [00:00, ?it/s]"
      ]
     },
     "metadata": {},
     "output_type": "display_data"
    },
    {
     "data": {
      "application/vnd.jupyter.widget-view+json": {
       "model_id": "7839c49568a345e1b26979d7eb7a7423",
       "version_major": 2,
       "version_minor": 0
      },
      "text/plain": [
       "Validating: 0it [00:00, ?it/s]"
      ]
     },
     "metadata": {},
     "output_type": "display_data"
    },
    {
     "data": {
      "application/vnd.jupyter.widget-view+json": {
       "model_id": "3a87913d87cf4a0fa23adf89123bdbd0",
       "version_major": 2,
       "version_minor": 0
      },
      "text/plain": [
       "Validating: 0it [00:00, ?it/s]"
      ]
     },
     "metadata": {},
     "output_type": "display_data"
    },
    {
     "data": {
      "application/vnd.jupyter.widget-view+json": {
       "model_id": "c3e490864c60451da63ca8914e92756e",
       "version_major": 2,
       "version_minor": 0
      },
      "text/plain": [
       "Validating: 0it [00:00, ?it/s]"
      ]
     },
     "metadata": {},
     "output_type": "display_data"
    },
    {
     "data": {
      "application/vnd.jupyter.widget-view+json": {
       "model_id": "858ffece5ca240f1895a21cc1d820966",
       "version_major": 2,
       "version_minor": 0
      },
      "text/plain": [
       "Validating: 0it [00:00, ?it/s]"
      ]
     },
     "metadata": {},
     "output_type": "display_data"
    },
    {
     "data": {
      "application/vnd.jupyter.widget-view+json": {
       "model_id": "2592cf56abcc403795ce2078d0e9a772",
       "version_major": 2,
       "version_minor": 0
      },
      "text/plain": [
       "Validating: 0it [00:00, ?it/s]"
      ]
     },
     "metadata": {},
     "output_type": "display_data"
    },
    {
     "data": {
      "application/vnd.jupyter.widget-view+json": {
       "model_id": "e63194f2b9cb4ed4b8abf27462ffc543",
       "version_major": 2,
       "version_minor": 0
      },
      "text/plain": [
       "Validating: 0it [00:00, ?it/s]"
      ]
     },
     "metadata": {},
     "output_type": "display_data"
    },
    {
     "data": {
      "application/vnd.jupyter.widget-view+json": {
       "model_id": "318228df0dd6409b9206853767882105",
       "version_major": 2,
       "version_minor": 0
      },
      "text/plain": [
       "Validating: 0it [00:00, ?it/s]"
      ]
     },
     "metadata": {},
     "output_type": "display_data"
    },
    {
     "data": {
      "application/vnd.jupyter.widget-view+json": {
       "model_id": "787c54881c3148019d57810105099ed3",
       "version_major": 2,
       "version_minor": 0
      },
      "text/plain": [
       "Validating: 0it [00:00, ?it/s]"
      ]
     },
     "metadata": {},
     "output_type": "display_data"
    },
    {
     "data": {
      "application/vnd.jupyter.widget-view+json": {
       "model_id": "8de256f4650f471397d305c76861f26d",
       "version_major": 2,
       "version_minor": 0
      },
      "text/plain": [
       "Validating: 0it [00:00, ?it/s]"
      ]
     },
     "metadata": {},
     "output_type": "display_data"
    },
    {
     "data": {
      "application/vnd.jupyter.widget-view+json": {
       "model_id": "8fbf3484080d4960956113c8c59c7ed7",
       "version_major": 2,
       "version_minor": 0
      },
      "text/plain": [
       "Validating: 0it [00:00, ?it/s]"
      ]
     },
     "metadata": {},
     "output_type": "display_data"
    },
    {
     "data": {
      "application/vnd.jupyter.widget-view+json": {
       "model_id": "aa0aaec55aae48e8b11bbdc6c978dfd3",
       "version_major": 2,
       "version_minor": 0
      },
      "text/plain": [
       "Validating: 0it [00:00, ?it/s]"
      ]
     },
     "metadata": {},
     "output_type": "display_data"
    },
    {
     "data": {
      "application/vnd.jupyter.widget-view+json": {
       "model_id": "281ab53ea8fc43478a11e6b5bc641d14",
       "version_major": 2,
       "version_minor": 0
      },
      "text/plain": [
       "Validating: 0it [00:00, ?it/s]"
      ]
     },
     "metadata": {},
     "output_type": "display_data"
    },
    {
     "data": {
      "application/vnd.jupyter.widget-view+json": {
       "model_id": "60f4190e415a4fdca11d0a1b503fa06f",
       "version_major": 2,
       "version_minor": 0
      },
      "text/plain": [
       "Validating: 0it [00:00, ?it/s]"
      ]
     },
     "metadata": {},
     "output_type": "display_data"
    },
    {
     "data": {
      "application/vnd.jupyter.widget-view+json": {
       "model_id": "4b6081c79b1a484188744541666882a4",
       "version_major": 2,
       "version_minor": 0
      },
      "text/plain": [
       "Validating: 0it [00:00, ?it/s]"
      ]
     },
     "metadata": {},
     "output_type": "display_data"
    },
    {
     "data": {
      "application/vnd.jupyter.widget-view+json": {
       "model_id": "0a72cbd3d26245eb81d7cb598ae47a8c",
       "version_major": 2,
       "version_minor": 0
      },
      "text/plain": [
       "Validating: 0it [00:00, ?it/s]"
      ]
     },
     "metadata": {},
     "output_type": "display_data"
    },
    {
     "data": {
      "application/vnd.jupyter.widget-view+json": {
       "model_id": "512d539e79e34a77b8f7a9816d5f2372",
       "version_major": 2,
       "version_minor": 0
      },
      "text/plain": [
       "Validating: 0it [00:00, ?it/s]"
      ]
     },
     "metadata": {},
     "output_type": "display_data"
    },
    {
     "data": {
      "application/vnd.jupyter.widget-view+json": {
       "model_id": "a1ec683c94ee4e9aa91c8b2a68f09127",
       "version_major": 2,
       "version_minor": 0
      },
      "text/plain": [
       "Validating: 0it [00:00, ?it/s]"
      ]
     },
     "metadata": {},
     "output_type": "display_data"
    },
    {
     "data": {
      "application/vnd.jupyter.widget-view+json": {
       "model_id": "54bac8c629b645e39a69ac675fa6a6c6",
       "version_major": 2,
       "version_minor": 0
      },
      "text/plain": [
       "Validating: 0it [00:00, ?it/s]"
      ]
     },
     "metadata": {},
     "output_type": "display_data"
    },
    {
     "data": {
      "application/vnd.jupyter.widget-view+json": {
       "model_id": "3f6929171eac40679b089614184f0a53",
       "version_major": 2,
       "version_minor": 0
      },
      "text/plain": [
       "Validating: 0it [00:00, ?it/s]"
      ]
     },
     "metadata": {},
     "output_type": "display_data"
    },
    {
     "data": {
      "application/vnd.jupyter.widget-view+json": {
       "model_id": "58bca736625e402fb73bfc9fdeedb60e",
       "version_major": 2,
       "version_minor": 0
      },
      "text/plain": [
       "Validating: 0it [00:00, ?it/s]"
      ]
     },
     "metadata": {},
     "output_type": "display_data"
    },
    {
     "data": {
      "application/vnd.jupyter.widget-view+json": {
       "model_id": "1c6dcfb0d8ea40a38cd745de48b0371f",
       "version_major": 2,
       "version_minor": 0
      },
      "text/plain": [
       "Validating: 0it [00:00, ?it/s]"
      ]
     },
     "metadata": {},
     "output_type": "display_data"
    },
    {
     "data": {
      "application/vnd.jupyter.widget-view+json": {
       "model_id": "0df43eaf9ac3415391fa4c2a39194858",
       "version_major": 2,
       "version_minor": 0
      },
      "text/plain": [
       "Validating: 0it [00:00, ?it/s]"
      ]
     },
     "metadata": {},
     "output_type": "display_data"
    },
    {
     "data": {
      "application/vnd.jupyter.widget-view+json": {
       "model_id": "9a7c67f8a7734d70ac435c27b31e4965",
       "version_major": 2,
       "version_minor": 0
      },
      "text/plain": [
       "Validating: 0it [00:00, ?it/s]"
      ]
     },
     "metadata": {},
     "output_type": "display_data"
    },
    {
     "data": {
      "application/vnd.jupyter.widget-view+json": {
       "model_id": "daa2e68c8e7940c4848464d7dbd067e8",
       "version_major": 2,
       "version_minor": 0
      },
      "text/plain": [
       "Validating: 0it [00:00, ?it/s]"
      ]
     },
     "metadata": {},
     "output_type": "display_data"
    },
    {
     "data": {
      "application/vnd.jupyter.widget-view+json": {
       "model_id": "0d7db4dc67c94b108291f4303abf0224",
       "version_major": 2,
       "version_minor": 0
      },
      "text/plain": [
       "Validating: 0it [00:00, ?it/s]"
      ]
     },
     "metadata": {},
     "output_type": "display_data"
    },
    {
     "data": {
      "application/vnd.jupyter.widget-view+json": {
       "model_id": "4b9ab6f08cb54fafb3a6e6604b6d08a0",
       "version_major": 2,
       "version_minor": 0
      },
      "text/plain": [
       "Validating: 0it [00:00, ?it/s]"
      ]
     },
     "metadata": {},
     "output_type": "display_data"
    },
    {
     "data": {
      "application/vnd.jupyter.widget-view+json": {
       "model_id": "ae187afe292e45cc87605cbcb37ea54e",
       "version_major": 2,
       "version_minor": 0
      },
      "text/plain": [
       "Validating: 0it [00:00, ?it/s]"
      ]
     },
     "metadata": {},
     "output_type": "display_data"
    },
    {
     "data": {
      "application/vnd.jupyter.widget-view+json": {
       "model_id": "19d5fbdb72784a198b57a8002818c478",
       "version_major": 2,
       "version_minor": 0
      },
      "text/plain": [
       "Validating: 0it [00:00, ?it/s]"
      ]
     },
     "metadata": {},
     "output_type": "display_data"
    },
    {
     "data": {
      "application/vnd.jupyter.widget-view+json": {
       "model_id": "2b7c1e52c8534581ba13f31ffae4e6b6",
       "version_major": 2,
       "version_minor": 0
      },
      "text/plain": [
       "Validating: 0it [00:00, ?it/s]"
      ]
     },
     "metadata": {},
     "output_type": "display_data"
    },
    {
     "data": {
      "application/vnd.jupyter.widget-view+json": {
       "model_id": "5e7b1c0215ba4573a790c2af34a14284",
       "version_major": 2,
       "version_minor": 0
      },
      "text/plain": [
       "Validating: 0it [00:00, ?it/s]"
      ]
     },
     "metadata": {},
     "output_type": "display_data"
    },
    {
     "data": {
      "application/vnd.jupyter.widget-view+json": {
       "model_id": "16f2d972fb7542eea5b0c1a7b16582fd",
       "version_major": 2,
       "version_minor": 0
      },
      "text/plain": [
       "Validating: 0it [00:00, ?it/s]"
      ]
     },
     "metadata": {},
     "output_type": "display_data"
    },
    {
     "data": {
      "application/vnd.jupyter.widget-view+json": {
       "model_id": "305d4c9182584725b1a189dcdf1a5c9d",
       "version_major": 2,
       "version_minor": 0
      },
      "text/plain": [
       "Validating: 0it [00:00, ?it/s]"
      ]
     },
     "metadata": {},
     "output_type": "display_data"
    },
    {
     "data": {
      "application/vnd.jupyter.widget-view+json": {
       "model_id": "3c1836f77fa14e44a51aa3a5a397d6bb",
       "version_major": 2,
       "version_minor": 0
      },
      "text/plain": [
       "Validating: 0it [00:00, ?it/s]"
      ]
     },
     "metadata": {},
     "output_type": "display_data"
    },
    {
     "data": {
      "application/vnd.jupyter.widget-view+json": {
       "model_id": "494b6cd8e2b248a28d0b9bd52ec87511",
       "version_major": 2,
       "version_minor": 0
      },
      "text/plain": [
       "Validating: 0it [00:00, ?it/s]"
      ]
     },
     "metadata": {},
     "output_type": "display_data"
    },
    {
     "data": {
      "application/vnd.jupyter.widget-view+json": {
       "model_id": "0beed9c5ef654a8198feabb0e25e4f87",
       "version_major": 2,
       "version_minor": 0
      },
      "text/plain": [
       "Validating: 0it [00:00, ?it/s]"
      ]
     },
     "metadata": {},
     "output_type": "display_data"
    },
    {
     "data": {
      "application/vnd.jupyter.widget-view+json": {
       "model_id": "8ffe7cdb269e4add88eab8e22db247b1",
       "version_major": 2,
       "version_minor": 0
      },
      "text/plain": [
       "Validating: 0it [00:00, ?it/s]"
      ]
     },
     "metadata": {},
     "output_type": "display_data"
    },
    {
     "data": {
      "application/vnd.jupyter.widget-view+json": {
       "model_id": "c709b51c7d5d4741afcd321d6bdf1a29",
       "version_major": 2,
       "version_minor": 0
      },
      "text/plain": [
       "Validating: 0it [00:00, ?it/s]"
      ]
     },
     "metadata": {},
     "output_type": "display_data"
    },
    {
     "data": {
      "application/vnd.jupyter.widget-view+json": {
       "model_id": "97ea1672845d4929ab5a75b592b4a530",
       "version_major": 2,
       "version_minor": 0
      },
      "text/plain": [
       "Validating: 0it [00:00, ?it/s]"
      ]
     },
     "metadata": {},
     "output_type": "display_data"
    },
    {
     "data": {
      "application/vnd.jupyter.widget-view+json": {
       "model_id": "d99ae736984745599c7fcdd9abb0057a",
       "version_major": 2,
       "version_minor": 0
      },
      "text/plain": [
       "Validating: 0it [00:00, ?it/s]"
      ]
     },
     "metadata": {},
     "output_type": "display_data"
    },
    {
     "data": {
      "application/vnd.jupyter.widget-view+json": {
       "model_id": "6a058f05a49546c39bd04852521b11e7",
       "version_major": 2,
       "version_minor": 0
      },
      "text/plain": [
       "Validating: 0it [00:00, ?it/s]"
      ]
     },
     "metadata": {},
     "output_type": "display_data"
    },
    {
     "data": {
      "application/vnd.jupyter.widget-view+json": {
       "model_id": "9f94c578ec3b46eaa728fe19da1ad249",
       "version_major": 2,
       "version_minor": 0
      },
      "text/plain": [
       "Validating: 0it [00:00, ?it/s]"
      ]
     },
     "metadata": {},
     "output_type": "display_data"
    },
    {
     "data": {
      "application/vnd.jupyter.widget-view+json": {
       "model_id": "e244de8955c348dd984ae0c508153277",
       "version_major": 2,
       "version_minor": 0
      },
      "text/plain": [
       "Validating: 0it [00:00, ?it/s]"
      ]
     },
     "metadata": {},
     "output_type": "display_data"
    },
    {
     "data": {
      "application/vnd.jupyter.widget-view+json": {
       "model_id": "637dfbc77f154fe2b3fcc1cb5d5c13bb",
       "version_major": 2,
       "version_minor": 0
      },
      "text/plain": [
       "Validating: 0it [00:00, ?it/s]"
      ]
     },
     "metadata": {},
     "output_type": "display_data"
    },
    {
     "data": {
      "application/vnd.jupyter.widget-view+json": {
       "model_id": "06d9a01d072d4b77ac73ec9f312549ac",
       "version_major": 2,
       "version_minor": 0
      },
      "text/plain": [
       "Validating: 0it [00:00, ?it/s]"
      ]
     },
     "metadata": {},
     "output_type": "display_data"
    },
    {
     "data": {
      "application/vnd.jupyter.widget-view+json": {
       "model_id": "01cd8d5ac3d54d19b67ca3d91b665779",
       "version_major": 2,
       "version_minor": 0
      },
      "text/plain": [
       "Validating: 0it [00:00, ?it/s]"
      ]
     },
     "metadata": {},
     "output_type": "display_data"
    },
    {
     "data": {
      "application/vnd.jupyter.widget-view+json": {
       "model_id": "6e52299a633d4c8a98843d4613efcdf2",
       "version_major": 2,
       "version_minor": 0
      },
      "text/plain": [
       "Validating: 0it [00:00, ?it/s]"
      ]
     },
     "metadata": {},
     "output_type": "display_data"
    },
    {
     "data": {
      "application/vnd.jupyter.widget-view+json": {
       "model_id": "36b7531a07484ac29db34fb2f551865d",
       "version_major": 2,
       "version_minor": 0
      },
      "text/plain": [
       "Validating: 0it [00:00, ?it/s]"
      ]
     },
     "metadata": {},
     "output_type": "display_data"
    },
    {
     "data": {
      "application/vnd.jupyter.widget-view+json": {
       "model_id": "4918210e06c542a598e4e1f5c210a38d",
       "version_major": 2,
       "version_minor": 0
      },
      "text/plain": [
       "Validating: 0it [00:00, ?it/s]"
      ]
     },
     "metadata": {},
     "output_type": "display_data"
    },
    {
     "data": {
      "application/vnd.jupyter.widget-view+json": {
       "model_id": "d01af4d4f0dd42ab8382f610d1bd4a29",
       "version_major": 2,
       "version_minor": 0
      },
      "text/plain": [
       "Validating: 0it [00:00, ?it/s]"
      ]
     },
     "metadata": {},
     "output_type": "display_data"
    },
    {
     "data": {
      "application/vnd.jupyter.widget-view+json": {
       "model_id": "dd23ddbc31634fa29bfab36e6b504660",
       "version_major": 2,
       "version_minor": 0
      },
      "text/plain": [
       "Validating: 0it [00:00, ?it/s]"
      ]
     },
     "metadata": {},
     "output_type": "display_data"
    },
    {
     "data": {
      "application/vnd.jupyter.widget-view+json": {
       "model_id": "f6526d6a8fee46fc8e8ddd2655d83351",
       "version_major": 2,
       "version_minor": 0
      },
      "text/plain": [
       "Validating: 0it [00:00, ?it/s]"
      ]
     },
     "metadata": {},
     "output_type": "display_data"
    },
    {
     "data": {
      "application/vnd.jupyter.widget-view+json": {
       "model_id": "fcd8b0b35dc348e4a92d5cb0bced9add",
       "version_major": 2,
       "version_minor": 0
      },
      "text/plain": [
       "Validating: 0it [00:00, ?it/s]"
      ]
     },
     "metadata": {},
     "output_type": "display_data"
    },
    {
     "data": {
      "application/vnd.jupyter.widget-view+json": {
       "model_id": "e352700264b742fdbd956b18a6292b91",
       "version_major": 2,
       "version_minor": 0
      },
      "text/plain": [
       "Validating: 0it [00:00, ?it/s]"
      ]
     },
     "metadata": {},
     "output_type": "display_data"
    },
    {
     "data": {
      "application/vnd.jupyter.widget-view+json": {
       "model_id": "5cfeb597541c42ab8fb031557a34aaf3",
       "version_major": 2,
       "version_minor": 0
      },
      "text/plain": [
       "Validating: 0it [00:00, ?it/s]"
      ]
     },
     "metadata": {},
     "output_type": "display_data"
    },
    {
     "data": {
      "application/vnd.jupyter.widget-view+json": {
       "model_id": "613692681f7f4e39ae165b2d80faa231",
       "version_major": 2,
       "version_minor": 0
      },
      "text/plain": [
       "Validating: 0it [00:00, ?it/s]"
      ]
     },
     "metadata": {},
     "output_type": "display_data"
    },
    {
     "data": {
      "application/vnd.jupyter.widget-view+json": {
       "model_id": "a083a37c96fd4a0b96a45dee66ae623d",
       "version_major": 2,
       "version_minor": 0
      },
      "text/plain": [
       "Validating: 0it [00:00, ?it/s]"
      ]
     },
     "metadata": {},
     "output_type": "display_data"
    },
    {
     "data": {
      "application/vnd.jupyter.widget-view+json": {
       "model_id": "418f4a3508c94a2486e43b307f3550ae",
       "version_major": 2,
       "version_minor": 0
      },
      "text/plain": [
       "Validating: 0it [00:00, ?it/s]"
      ]
     },
     "metadata": {},
     "output_type": "display_data"
    },
    {
     "data": {
      "application/vnd.jupyter.widget-view+json": {
       "model_id": "731ed92b577b4f0991aef6c1da0fa458",
       "version_major": 2,
       "version_minor": 0
      },
      "text/plain": [
       "Validating: 0it [00:00, ?it/s]"
      ]
     },
     "metadata": {},
     "output_type": "display_data"
    },
    {
     "data": {
      "application/vnd.jupyter.widget-view+json": {
       "model_id": "e3d510f70d3a41b68850b33ecea2f238",
       "version_major": 2,
       "version_minor": 0
      },
      "text/plain": [
       "Validating: 0it [00:00, ?it/s]"
      ]
     },
     "metadata": {},
     "output_type": "display_data"
    },
    {
     "data": {
      "application/vnd.jupyter.widget-view+json": {
       "model_id": "f753b7e11f034f279a8467e2ad175aad",
       "version_major": 2,
       "version_minor": 0
      },
      "text/plain": [
       "Validating: 0it [00:00, ?it/s]"
      ]
     },
     "metadata": {},
     "output_type": "display_data"
    },
    {
     "data": {
      "application/vnd.jupyter.widget-view+json": {
       "model_id": "67d9e0c58be8413d8e7aaa6c2968d394",
       "version_major": 2,
       "version_minor": 0
      },
      "text/plain": [
       "Validating: 0it [00:00, ?it/s]"
      ]
     },
     "metadata": {},
     "output_type": "display_data"
    },
    {
     "data": {
      "application/vnd.jupyter.widget-view+json": {
       "model_id": "c841bb34a31142d393dd0c07122457a3",
       "version_major": 2,
       "version_minor": 0
      },
      "text/plain": [
       "Validating: 0it [00:00, ?it/s]"
      ]
     },
     "metadata": {},
     "output_type": "display_data"
    },
    {
     "data": {
      "application/vnd.jupyter.widget-view+json": {
       "model_id": "a15954d02e0141bab4a8a9138f85c3c0",
       "version_major": 2,
       "version_minor": 0
      },
      "text/plain": [
       "Validating: 0it [00:00, ?it/s]"
      ]
     },
     "metadata": {},
     "output_type": "display_data"
    },
    {
     "data": {
      "application/vnd.jupyter.widget-view+json": {
       "model_id": "30f566abed4849348cb4215236eeb7e7",
       "version_major": 2,
       "version_minor": 0
      },
      "text/plain": [
       "Validating: 0it [00:00, ?it/s]"
      ]
     },
     "metadata": {},
     "output_type": "display_data"
    },
    {
     "data": {
      "application/vnd.jupyter.widget-view+json": {
       "model_id": "f68f0e04838c4c6f803fb38357049f84",
       "version_major": 2,
       "version_minor": 0
      },
      "text/plain": [
       "Validating: 0it [00:00, ?it/s]"
      ]
     },
     "metadata": {},
     "output_type": "display_data"
    },
    {
     "data": {
      "application/vnd.jupyter.widget-view+json": {
       "model_id": "5fdf3cd026494ec79c12740f22bbcdd8",
       "version_major": 2,
       "version_minor": 0
      },
      "text/plain": [
       "Validating: 0it [00:00, ?it/s]"
      ]
     },
     "metadata": {},
     "output_type": "display_data"
    },
    {
     "data": {
      "application/vnd.jupyter.widget-view+json": {
       "model_id": "71c7bfd6ee4d494e9309888e8115c1b9",
       "version_major": 2,
       "version_minor": 0
      },
      "text/plain": [
       "Validating: 0it [00:00, ?it/s]"
      ]
     },
     "metadata": {},
     "output_type": "display_data"
    },
    {
     "data": {
      "application/vnd.jupyter.widget-view+json": {
       "model_id": "554732d58a494a5b9d4072f54cf8b5f2",
       "version_major": 2,
       "version_minor": 0
      },
      "text/plain": [
       "Validating: 0it [00:00, ?it/s]"
      ]
     },
     "metadata": {},
     "output_type": "display_data"
    },
    {
     "data": {
      "application/vnd.jupyter.widget-view+json": {
       "model_id": "6a4080fccfb5454eb21df0ca75191889",
       "version_major": 2,
       "version_minor": 0
      },
      "text/plain": [
       "Validating: 0it [00:00, ?it/s]"
      ]
     },
     "metadata": {},
     "output_type": "display_data"
    },
    {
     "data": {
      "application/vnd.jupyter.widget-view+json": {
       "model_id": "4b75f946a6424930871b4cf47d0482ea",
       "version_major": 2,
       "version_minor": 0
      },
      "text/plain": [
       "Validating: 0it [00:00, ?it/s]"
      ]
     },
     "metadata": {},
     "output_type": "display_data"
    },
    {
     "data": {
      "application/vnd.jupyter.widget-view+json": {
       "model_id": "58954f0263a0430080ff546a05f60d7a",
       "version_major": 2,
       "version_minor": 0
      },
      "text/plain": [
       "Validating: 0it [00:00, ?it/s]"
      ]
     },
     "metadata": {},
     "output_type": "display_data"
    },
    {
     "data": {
      "application/vnd.jupyter.widget-view+json": {
       "model_id": "f58719f5df6a402e86656a0991a7f5c4",
       "version_major": 2,
       "version_minor": 0
      },
      "text/plain": [
       "Validating: 0it [00:00, ?it/s]"
      ]
     },
     "metadata": {},
     "output_type": "display_data"
    },
    {
     "data": {
      "application/vnd.jupyter.widget-view+json": {
       "model_id": "65d91c32f697446aa64ea79b353d3791",
       "version_major": 2,
       "version_minor": 0
      },
      "text/plain": [
       "Validating: 0it [00:00, ?it/s]"
      ]
     },
     "metadata": {},
     "output_type": "display_data"
    },
    {
     "data": {
      "application/vnd.jupyter.widget-view+json": {
       "model_id": "c3179069dd7a406387311bc03ce95167",
       "version_major": 2,
       "version_minor": 0
      },
      "text/plain": [
       "Validating: 0it [00:00, ?it/s]"
      ]
     },
     "metadata": {},
     "output_type": "display_data"
    },
    {
     "data": {
      "application/vnd.jupyter.widget-view+json": {
       "model_id": "00699a6bee014a89b098d685fd016bb4",
       "version_major": 2,
       "version_minor": 0
      },
      "text/plain": [
       "Validating: 0it [00:00, ?it/s]"
      ]
     },
     "metadata": {},
     "output_type": "display_data"
    },
    {
     "data": {
      "application/vnd.jupyter.widget-view+json": {
       "model_id": "e25cf0812ce7406d9787462b8f17d12d",
       "version_major": 2,
       "version_minor": 0
      },
      "text/plain": [
       "Validating: 0it [00:00, ?it/s]"
      ]
     },
     "metadata": {},
     "output_type": "display_data"
    },
    {
     "data": {
      "application/vnd.jupyter.widget-view+json": {
       "model_id": "6043f9faf3ed468895736213cb2a7c4f",
       "version_major": 2,
       "version_minor": 0
      },
      "text/plain": [
       "Validating: 0it [00:00, ?it/s]"
      ]
     },
     "metadata": {},
     "output_type": "display_data"
    },
    {
     "data": {
      "application/vnd.jupyter.widget-view+json": {
       "model_id": "32df883b05f34d93be1f0d2478abb822",
       "version_major": 2,
       "version_minor": 0
      },
      "text/plain": [
       "Validating: 0it [00:00, ?it/s]"
      ]
     },
     "metadata": {},
     "output_type": "display_data"
    },
    {
     "data": {
      "application/vnd.jupyter.widget-view+json": {
       "model_id": "a28dc07c1f774424bb6ab904ff0fda93",
       "version_major": 2,
       "version_minor": 0
      },
      "text/plain": [
       "Validating: 0it [00:00, ?it/s]"
      ]
     },
     "metadata": {},
     "output_type": "display_data"
    },
    {
     "data": {
      "application/vnd.jupyter.widget-view+json": {
       "model_id": "6b35208d5c164c7495be0d203fa80154",
       "version_major": 2,
       "version_minor": 0
      },
      "text/plain": [
       "Validating: 0it [00:00, ?it/s]"
      ]
     },
     "metadata": {},
     "output_type": "display_data"
    },
    {
     "data": {
      "application/vnd.jupyter.widget-view+json": {
       "model_id": "0349cc7b497343cd8d0602229fa3a5bd",
       "version_major": 2,
       "version_minor": 0
      },
      "text/plain": [
       "Validating: 0it [00:00, ?it/s]"
      ]
     },
     "metadata": {},
     "output_type": "display_data"
    },
    {
     "data": {
      "application/vnd.jupyter.widget-view+json": {
       "model_id": "24ab5620fca94da0a030c4c86fbf1020",
       "version_major": 2,
       "version_minor": 0
      },
      "text/plain": [
       "Validating: 0it [00:00, ?it/s]"
      ]
     },
     "metadata": {},
     "output_type": "display_data"
    },
    {
     "data": {
      "application/vnd.jupyter.widget-view+json": {
       "model_id": "2972ffb842704f6898b976c7374c45ed",
       "version_major": 2,
       "version_minor": 0
      },
      "text/plain": [
       "Validating: 0it [00:00, ?it/s]"
      ]
     },
     "metadata": {},
     "output_type": "display_data"
    },
    {
     "data": {
      "application/vnd.jupyter.widget-view+json": {
       "model_id": "955f6f1c2fd84beba1d70d32069b31b3",
       "version_major": 2,
       "version_minor": 0
      },
      "text/plain": [
       "Validating: 0it [00:00, ?it/s]"
      ]
     },
     "metadata": {},
     "output_type": "display_data"
    },
    {
     "data": {
      "application/vnd.jupyter.widget-view+json": {
       "model_id": "fd8120152d7d4245a0369acec51970ba",
       "version_major": 2,
       "version_minor": 0
      },
      "text/plain": [
       "Validating: 0it [00:00, ?it/s]"
      ]
     },
     "metadata": {},
     "output_type": "display_data"
    },
    {
     "data": {
      "application/vnd.jupyter.widget-view+json": {
       "model_id": "d18f72c2ffc14a8aa59f10027c224d5a",
       "version_major": 2,
       "version_minor": 0
      },
      "text/plain": [
       "Validating: 0it [00:00, ?it/s]"
      ]
     },
     "metadata": {},
     "output_type": "display_data"
    },
    {
     "data": {
      "application/vnd.jupyter.widget-view+json": {
       "model_id": "1abc157e81e249a29f83b5cb41f805a6",
       "version_major": 2,
       "version_minor": 0
      },
      "text/plain": [
       "Validating: 0it [00:00, ?it/s]"
      ]
     },
     "metadata": {},
     "output_type": "display_data"
    },
    {
     "data": {
      "application/vnd.jupyter.widget-view+json": {
       "model_id": "a533676df7764b68a299d7355b05056f",
       "version_major": 2,
       "version_minor": 0
      },
      "text/plain": [
       "Validating: 0it [00:00, ?it/s]"
      ]
     },
     "metadata": {},
     "output_type": "display_data"
    },
    {
     "data": {
      "application/vnd.jupyter.widget-view+json": {
       "model_id": "fe147e0a21464ad88f51aeb3145a7378",
       "version_major": 2,
       "version_minor": 0
      },
      "text/plain": [
       "Validating: 0it [00:00, ?it/s]"
      ]
     },
     "metadata": {},
     "output_type": "display_data"
    },
    {
     "data": {
      "application/vnd.jupyter.widget-view+json": {
       "model_id": "423e27ab01bc427998ee6746ec566f4e",
       "version_major": 2,
       "version_minor": 0
      },
      "text/plain": [
       "Validating: 0it [00:00, ?it/s]"
      ]
     },
     "metadata": {},
     "output_type": "display_data"
    },
    {
     "data": {
      "application/vnd.jupyter.widget-view+json": {
       "model_id": "c740a7ae8f3c4b29b2e5cfd7570196bf",
       "version_major": 2,
       "version_minor": 0
      },
      "text/plain": [
       "Validating: 0it [00:00, ?it/s]"
      ]
     },
     "metadata": {},
     "output_type": "display_data"
    },
    {
     "data": {
      "application/vnd.jupyter.widget-view+json": {
       "model_id": "2b19fd15782f44e8b95898d9780175a7",
       "version_major": 2,
       "version_minor": 0
      },
      "text/plain": [
       "Validating: 0it [00:00, ?it/s]"
      ]
     },
     "metadata": {},
     "output_type": "display_data"
    },
    {
     "data": {
      "application/vnd.jupyter.widget-view+json": {
       "model_id": "2100f32f848e4be5819807dd6c770080",
       "version_major": 2,
       "version_minor": 0
      },
      "text/plain": [
       "Validating: 0it [00:00, ?it/s]"
      ]
     },
     "metadata": {},
     "output_type": "display_data"
    },
    {
     "data": {
      "application/vnd.jupyter.widget-view+json": {
       "model_id": "56274dfc0960476496fc53143e8f0302",
       "version_major": 2,
       "version_minor": 0
      },
      "text/plain": [
       "Validating: 0it [00:00, ?it/s]"
      ]
     },
     "metadata": {},
     "output_type": "display_data"
    },
    {
     "data": {
      "application/vnd.jupyter.widget-view+json": {
       "model_id": "32dc967208694f3da71e99ecf98314ac",
       "version_major": 2,
       "version_minor": 0
      },
      "text/plain": [
       "Validating: 0it [00:00, ?it/s]"
      ]
     },
     "metadata": {},
     "output_type": "display_data"
    },
    {
     "data": {
      "application/vnd.jupyter.widget-view+json": {
       "model_id": "8a8d6ad83c044caf9218f96d5718d72c",
       "version_major": 2,
       "version_minor": 0
      },
      "text/plain": [
       "Validating: 0it [00:00, ?it/s]"
      ]
     },
     "metadata": {},
     "output_type": "display_data"
    },
    {
     "data": {
      "application/vnd.jupyter.widget-view+json": {
       "model_id": "dd05d8695d4b48af8319e68ade3fc7ca",
       "version_major": 2,
       "version_minor": 0
      },
      "text/plain": [
       "Validating: 0it [00:00, ?it/s]"
      ]
     },
     "metadata": {},
     "output_type": "display_data"
    },
    {
     "data": {
      "application/vnd.jupyter.widget-view+json": {
       "model_id": "06ad616e8f624aaeb666293193937846",
       "version_major": 2,
       "version_minor": 0
      },
      "text/plain": [
       "Validating: 0it [00:00, ?it/s]"
      ]
     },
     "metadata": {},
     "output_type": "display_data"
    },
    {
     "data": {
      "application/vnd.jupyter.widget-view+json": {
       "model_id": "4b0fc1fa4e6b424bbd072d14d4bd749f",
       "version_major": 2,
       "version_minor": 0
      },
      "text/plain": [
       "Validating: 0it [00:00, ?it/s]"
      ]
     },
     "metadata": {},
     "output_type": "display_data"
    },
    {
     "data": {
      "application/vnd.jupyter.widget-view+json": {
       "model_id": "ccda2d7dc330406f8f9db947edfb8775",
       "version_major": 2,
       "version_minor": 0
      },
      "text/plain": [
       "Validating: 0it [00:00, ?it/s]"
      ]
     },
     "metadata": {},
     "output_type": "display_data"
    },
    {
     "data": {
      "application/vnd.jupyter.widget-view+json": {
       "model_id": "a2e2f42487df4c4b9cd4b764387819bd",
       "version_major": 2,
       "version_minor": 0
      },
      "text/plain": [
       "Validating: 0it [00:00, ?it/s]"
      ]
     },
     "metadata": {},
     "output_type": "display_data"
    },
    {
     "data": {
      "application/vnd.jupyter.widget-view+json": {
       "model_id": "d4b540c924294dceaac12059a7298e02",
       "version_major": 2,
       "version_minor": 0
      },
      "text/plain": [
       "Validating: 0it [00:00, ?it/s]"
      ]
     },
     "metadata": {},
     "output_type": "display_data"
    },
    {
     "data": {
      "application/vnd.jupyter.widget-view+json": {
       "model_id": "1e62fb94e42d4d0b8fd9bbd2ed50a482",
       "version_major": 2,
       "version_minor": 0
      },
      "text/plain": [
       "Validating: 0it [00:00, ?it/s]"
      ]
     },
     "metadata": {},
     "output_type": "display_data"
    },
    {
     "data": {
      "application/vnd.jupyter.widget-view+json": {
       "model_id": "99cd558f5b7b4a87b361249820de149c",
       "version_major": 2,
       "version_minor": 0
      },
      "text/plain": [
       "Validating: 0it [00:00, ?it/s]"
      ]
     },
     "metadata": {},
     "output_type": "display_data"
    },
    {
     "data": {
      "application/vnd.jupyter.widget-view+json": {
       "model_id": "42f1b044ad8f4e1ca487eeaceeff6c13",
       "version_major": 2,
       "version_minor": 0
      },
      "text/plain": [
       "Validating: 0it [00:00, ?it/s]"
      ]
     },
     "metadata": {},
     "output_type": "display_data"
    },
    {
     "data": {
      "application/vnd.jupyter.widget-view+json": {
       "model_id": "dd988877a8a341beba478e557ac8445d",
       "version_major": 2,
       "version_minor": 0
      },
      "text/plain": [
       "Validating: 0it [00:00, ?it/s]"
      ]
     },
     "metadata": {},
     "output_type": "display_data"
    },
    {
     "data": {
      "application/vnd.jupyter.widget-view+json": {
       "model_id": "f312b7e2b6ee492a9d4061423f930442",
       "version_major": 2,
       "version_minor": 0
      },
      "text/plain": [
       "Validating: 0it [00:00, ?it/s]"
      ]
     },
     "metadata": {},
     "output_type": "display_data"
    },
    {
     "data": {
      "application/vnd.jupyter.widget-view+json": {
       "model_id": "cecadd8e59df48619284cf1af8ff0b1d",
       "version_major": 2,
       "version_minor": 0
      },
      "text/plain": [
       "Validating: 0it [00:00, ?it/s]"
      ]
     },
     "metadata": {},
     "output_type": "display_data"
    },
    {
     "data": {
      "application/vnd.jupyter.widget-view+json": {
       "model_id": "9b013290b6a741dcb03bf44d25f9a8ab",
       "version_major": 2,
       "version_minor": 0
      },
      "text/plain": [
       "Validating: 0it [00:00, ?it/s]"
      ]
     },
     "metadata": {},
     "output_type": "display_data"
    },
    {
     "data": {
      "application/vnd.jupyter.widget-view+json": {
       "model_id": "71d38bda7d064cccae550df64be29545",
       "version_major": 2,
       "version_minor": 0
      },
      "text/plain": [
       "Validating: 0it [00:00, ?it/s]"
      ]
     },
     "metadata": {},
     "output_type": "display_data"
    },
    {
     "data": {
      "application/vnd.jupyter.widget-view+json": {
       "model_id": "e0c4072aea5b4ac19150dd46390b5c8a",
       "version_major": 2,
       "version_minor": 0
      },
      "text/plain": [
       "Validating: 0it [00:00, ?it/s]"
      ]
     },
     "metadata": {},
     "output_type": "display_data"
    },
    {
     "data": {
      "application/vnd.jupyter.widget-view+json": {
       "model_id": "7bb7be77f6984aafbef11ee52149bad0",
       "version_major": 2,
       "version_minor": 0
      },
      "text/plain": [
       "Validating: 0it [00:00, ?it/s]"
      ]
     },
     "metadata": {},
     "output_type": "display_data"
    },
    {
     "data": {
      "application/vnd.jupyter.widget-view+json": {
       "model_id": "f532e8c88e3f4679b0525302a57964b2",
       "version_major": 2,
       "version_minor": 0
      },
      "text/plain": [
       "Validating: 0it [00:00, ?it/s]"
      ]
     },
     "metadata": {},
     "output_type": "display_data"
    },
    {
     "data": {
      "application/vnd.jupyter.widget-view+json": {
       "model_id": "fda985a5008b46f6a21699ddf74ee1d2",
       "version_major": 2,
       "version_minor": 0
      },
      "text/plain": [
       "Validating: 0it [00:00, ?it/s]"
      ]
     },
     "metadata": {},
     "output_type": "display_data"
    },
    {
     "data": {
      "application/vnd.jupyter.widget-view+json": {
       "model_id": "04e20f7dbc4f416d8ba0f86f7248a585",
       "version_major": 2,
       "version_minor": 0
      },
      "text/plain": [
       "Validating: 0it [00:00, ?it/s]"
      ]
     },
     "metadata": {},
     "output_type": "display_data"
    },
    {
     "data": {
      "application/vnd.jupyter.widget-view+json": {
       "model_id": "fdb3bca6f4074ed99c0a5203ae336242",
       "version_major": 2,
       "version_minor": 0
      },
      "text/plain": [
       "Validating: 0it [00:00, ?it/s]"
      ]
     },
     "metadata": {},
     "output_type": "display_data"
    },
    {
     "data": {
      "application/vnd.jupyter.widget-view+json": {
       "model_id": "b3095d88fd4c41acaa7182335ed64067",
       "version_major": 2,
       "version_minor": 0
      },
      "text/plain": [
       "Validating: 0it [00:00, ?it/s]"
      ]
     },
     "metadata": {},
     "output_type": "display_data"
    },
    {
     "data": {
      "application/vnd.jupyter.widget-view+json": {
       "model_id": "af53f7e4c61a484c9d6709d18312a406",
       "version_major": 2,
       "version_minor": 0
      },
      "text/plain": [
       "Validating: 0it [00:00, ?it/s]"
      ]
     },
     "metadata": {},
     "output_type": "display_data"
    },
    {
     "data": {
      "application/vnd.jupyter.widget-view+json": {
       "model_id": "dd05bcf8f8ef4ba484f914cb8f085417",
       "version_major": 2,
       "version_minor": 0
      },
      "text/plain": [
       "Validating: 0it [00:00, ?it/s]"
      ]
     },
     "metadata": {},
     "output_type": "display_data"
    },
    {
     "data": {
      "application/vnd.jupyter.widget-view+json": {
       "model_id": "0cb6edea3ea04c328df72713a09f0af9",
       "version_major": 2,
       "version_minor": 0
      },
      "text/plain": [
       "Validating: 0it [00:00, ?it/s]"
      ]
     },
     "metadata": {},
     "output_type": "display_data"
    },
    {
     "data": {
      "application/vnd.jupyter.widget-view+json": {
       "model_id": "e1433ac43abf4affa92e6a689817cbb7",
       "version_major": 2,
       "version_minor": 0
      },
      "text/plain": [
       "Validating: 0it [00:00, ?it/s]"
      ]
     },
     "metadata": {},
     "output_type": "display_data"
    },
    {
     "data": {
      "application/vnd.jupyter.widget-view+json": {
       "model_id": "baa7961821024cadbec3a2114913e4e2",
       "version_major": 2,
       "version_minor": 0
      },
      "text/plain": [
       "Validating: 0it [00:00, ?it/s]"
      ]
     },
     "metadata": {},
     "output_type": "display_data"
    },
    {
     "data": {
      "application/vnd.jupyter.widget-view+json": {
       "model_id": "d81d837c43cb43c5bd6b33c9719187b2",
       "version_major": 2,
       "version_minor": 0
      },
      "text/plain": [
       "Validating: 0it [00:00, ?it/s]"
      ]
     },
     "metadata": {},
     "output_type": "display_data"
    },
    {
     "data": {
      "application/vnd.jupyter.widget-view+json": {
       "model_id": "1a21f818bc5e494ba5035a91faaa4466",
       "version_major": 2,
       "version_minor": 0
      },
      "text/plain": [
       "Validating: 0it [00:00, ?it/s]"
      ]
     },
     "metadata": {},
     "output_type": "display_data"
    },
    {
     "data": {
      "application/vnd.jupyter.widget-view+json": {
       "model_id": "6b8205cc7267494e89709ec1edfb7558",
       "version_major": 2,
       "version_minor": 0
      },
      "text/plain": [
       "Validating: 0it [00:00, ?it/s]"
      ]
     },
     "metadata": {},
     "output_type": "display_data"
    },
    {
     "data": {
      "application/vnd.jupyter.widget-view+json": {
       "model_id": "55422bf31ad14aa190ebb838460ed2d8",
       "version_major": 2,
       "version_minor": 0
      },
      "text/plain": [
       "Validating: 0it [00:00, ?it/s]"
      ]
     },
     "metadata": {},
     "output_type": "display_data"
    },
    {
     "data": {
      "application/vnd.jupyter.widget-view+json": {
       "model_id": "b0f53b5f8f3441dd9aaaad89d1506c62",
       "version_major": 2,
       "version_minor": 0
      },
      "text/plain": [
       "Validating: 0it [00:00, ?it/s]"
      ]
     },
     "metadata": {},
     "output_type": "display_data"
    },
    {
     "data": {
      "application/vnd.jupyter.widget-view+json": {
       "model_id": "c84ed58f10a549d1a038fa82da469c0a",
       "version_major": 2,
       "version_minor": 0
      },
      "text/plain": [
       "Validating: 0it [00:00, ?it/s]"
      ]
     },
     "metadata": {},
     "output_type": "display_data"
    },
    {
     "data": {
      "application/vnd.jupyter.widget-view+json": {
       "model_id": "12e0c4bec25f46f5a17261fdf4384905",
       "version_major": 2,
       "version_minor": 0
      },
      "text/plain": [
       "Validating: 0it [00:00, ?it/s]"
      ]
     },
     "metadata": {},
     "output_type": "display_data"
    },
    {
     "data": {
      "application/vnd.jupyter.widget-view+json": {
       "model_id": "7beb914a71c84919ab960a786ffc3756",
       "version_major": 2,
       "version_minor": 0
      },
      "text/plain": [
       "Validating: 0it [00:00, ?it/s]"
      ]
     },
     "metadata": {},
     "output_type": "display_data"
    },
    {
     "data": {
      "application/vnd.jupyter.widget-view+json": {
       "model_id": "506311dc4b064f72b8c6593fc00372e3",
       "version_major": 2,
       "version_minor": 0
      },
      "text/plain": [
       "Validating: 0it [00:00, ?it/s]"
      ]
     },
     "metadata": {},
     "output_type": "display_data"
    },
    {
     "data": {
      "application/vnd.jupyter.widget-view+json": {
       "model_id": "0ee0563574c94d869b418a7fc98b66c4",
       "version_major": 2,
       "version_minor": 0
      },
      "text/plain": [
       "Validating: 0it [00:00, ?it/s]"
      ]
     },
     "metadata": {},
     "output_type": "display_data"
    },
    {
     "data": {
      "application/vnd.jupyter.widget-view+json": {
       "model_id": "237b9f97eb8d40629ce11226f5a00dd9",
       "version_major": 2,
       "version_minor": 0
      },
      "text/plain": [
       "Validating: 0it [00:00, ?it/s]"
      ]
     },
     "metadata": {},
     "output_type": "display_data"
    },
    {
     "data": {
      "application/vnd.jupyter.widget-view+json": {
       "model_id": "44f76e393e80433097979cd5754ae23f",
       "version_major": 2,
       "version_minor": 0
      },
      "text/plain": [
       "Validating: 0it [00:00, ?it/s]"
      ]
     },
     "metadata": {},
     "output_type": "display_data"
    },
    {
     "data": {
      "application/vnd.jupyter.widget-view+json": {
       "model_id": "139b5cc28d8f42c48cc49a9b0de5dadb",
       "version_major": 2,
       "version_minor": 0
      },
      "text/plain": [
       "Validating: 0it [00:00, ?it/s]"
      ]
     },
     "metadata": {},
     "output_type": "display_data"
    },
    {
     "data": {
      "application/vnd.jupyter.widget-view+json": {
       "model_id": "ac129bcad0884dd09ab9bfc592fc8e6d",
       "version_major": 2,
       "version_minor": 0
      },
      "text/plain": [
       "Validating: 0it [00:00, ?it/s]"
      ]
     },
     "metadata": {},
     "output_type": "display_data"
    },
    {
     "data": {
      "application/vnd.jupyter.widget-view+json": {
       "model_id": "239a84b0acb54cf88215505ab1b41704",
       "version_major": 2,
       "version_minor": 0
      },
      "text/plain": [
       "Validating: 0it [00:00, ?it/s]"
      ]
     },
     "metadata": {},
     "output_type": "display_data"
    },
    {
     "data": {
      "application/vnd.jupyter.widget-view+json": {
       "model_id": "d31e8b77e07e4ac1b476a353ae557f95",
       "version_major": 2,
       "version_minor": 0
      },
      "text/plain": [
       "Validating: 0it [00:00, ?it/s]"
      ]
     },
     "metadata": {},
     "output_type": "display_data"
    },
    {
     "data": {
      "application/vnd.jupyter.widget-view+json": {
       "model_id": "948d223c7a51491fb6dd87049ec88e5d",
       "version_major": 2,
       "version_minor": 0
      },
      "text/plain": [
       "Validating: 0it [00:00, ?it/s]"
      ]
     },
     "metadata": {},
     "output_type": "display_data"
    },
    {
     "data": {
      "application/vnd.jupyter.widget-view+json": {
       "model_id": "b850fbd920d44695ab321f5488b98ff4",
       "version_major": 2,
       "version_minor": 0
      },
      "text/plain": [
       "Validating: 0it [00:00, ?it/s]"
      ]
     },
     "metadata": {},
     "output_type": "display_data"
    },
    {
     "data": {
      "application/vnd.jupyter.widget-view+json": {
       "model_id": "ba1a0f968bcd4fad9005268fb75aac28",
       "version_major": 2,
       "version_minor": 0
      },
      "text/plain": [
       "Validating: 0it [00:00, ?it/s]"
      ]
     },
     "metadata": {},
     "output_type": "display_data"
    },
    {
     "data": {
      "application/vnd.jupyter.widget-view+json": {
       "model_id": "5ef747a24f434c64bbe7d30db3bc579d",
       "version_major": 2,
       "version_minor": 0
      },
      "text/plain": [
       "Validating: 0it [00:00, ?it/s]"
      ]
     },
     "metadata": {},
     "output_type": "display_data"
    },
    {
     "data": {
      "application/vnd.jupyter.widget-view+json": {
       "model_id": "b1d4506beb2b437ba24ba4555cfdc6d2",
       "version_major": 2,
       "version_minor": 0
      },
      "text/plain": [
       "Validating: 0it [00:00, ?it/s]"
      ]
     },
     "metadata": {},
     "output_type": "display_data"
    },
    {
     "data": {
      "application/vnd.jupyter.widget-view+json": {
       "model_id": "8a73a7443c0c448a974c321282087995",
       "version_major": 2,
       "version_minor": 0
      },
      "text/plain": [
       "Validating: 0it [00:00, ?it/s]"
      ]
     },
     "metadata": {},
     "output_type": "display_data"
    },
    {
     "data": {
      "application/vnd.jupyter.widget-view+json": {
       "model_id": "95c00919f2644039a70f956dd912875a",
       "version_major": 2,
       "version_minor": 0
      },
      "text/plain": [
       "Validating: 0it [00:00, ?it/s]"
      ]
     },
     "metadata": {},
     "output_type": "display_data"
    },
    {
     "data": {
      "application/vnd.jupyter.widget-view+json": {
       "model_id": "2dbfc7a0bf134a29b4c6d99d4c9685ca",
       "version_major": 2,
       "version_minor": 0
      },
      "text/plain": [
       "Validating: 0it [00:00, ?it/s]"
      ]
     },
     "metadata": {},
     "output_type": "display_data"
    },
    {
     "data": {
      "application/vnd.jupyter.widget-view+json": {
       "model_id": "9da827af41e848b696810beed36e34ec",
       "version_major": 2,
       "version_minor": 0
      },
      "text/plain": [
       "Validating: 0it [00:00, ?it/s]"
      ]
     },
     "metadata": {},
     "output_type": "display_data"
    },
    {
     "data": {
      "application/vnd.jupyter.widget-view+json": {
       "model_id": "aeb4152ebdad483e928dd00419703df9",
       "version_major": 2,
       "version_minor": 0
      },
      "text/plain": [
       "Validating: 0it [00:00, ?it/s]"
      ]
     },
     "metadata": {},
     "output_type": "display_data"
    },
    {
     "data": {
      "application/vnd.jupyter.widget-view+json": {
       "model_id": "8a1e75eaefce4b99a1ed2236a13b3ae5",
       "version_major": 2,
       "version_minor": 0
      },
      "text/plain": [
       "Validating: 0it [00:00, ?it/s]"
      ]
     },
     "metadata": {},
     "output_type": "display_data"
    },
    {
     "data": {
      "application/vnd.jupyter.widget-view+json": {
       "model_id": "d6fb15d3a7ee409684b2db3d925a5b57",
       "version_major": 2,
       "version_minor": 0
      },
      "text/plain": [
       "Validating: 0it [00:00, ?it/s]"
      ]
     },
     "metadata": {},
     "output_type": "display_data"
    },
    {
     "data": {
      "application/vnd.jupyter.widget-view+json": {
       "model_id": "54420dd8cfd74197ad9ee948bc016593",
       "version_major": 2,
       "version_minor": 0
      },
      "text/plain": [
       "Validating: 0it [00:00, ?it/s]"
      ]
     },
     "metadata": {},
     "output_type": "display_data"
    },
    {
     "data": {
      "application/vnd.jupyter.widget-view+json": {
       "model_id": "4bc6967a162d46cea0277016f211c93b",
       "version_major": 2,
       "version_minor": 0
      },
      "text/plain": [
       "Validating: 0it [00:00, ?it/s]"
      ]
     },
     "metadata": {},
     "output_type": "display_data"
    },
    {
     "data": {
      "application/vnd.jupyter.widget-view+json": {
       "model_id": "5d4ab670030342db91bfbbdc397649d5",
       "version_major": 2,
       "version_minor": 0
      },
      "text/plain": [
       "Validating: 0it [00:00, ?it/s]"
      ]
     },
     "metadata": {},
     "output_type": "display_data"
    },
    {
     "data": {
      "application/vnd.jupyter.widget-view+json": {
       "model_id": "2c65d114d12f4d0d924bf336cea06e8b",
       "version_major": 2,
       "version_minor": 0
      },
      "text/plain": [
       "Validating: 0it [00:00, ?it/s]"
      ]
     },
     "metadata": {},
     "output_type": "display_data"
    },
    {
     "data": {
      "application/vnd.jupyter.widget-view+json": {
       "model_id": "b472f66297d34e1fb5f3f00ddcad141c",
       "version_major": 2,
       "version_minor": 0
      },
      "text/plain": [
       "Validating: 0it [00:00, ?it/s]"
      ]
     },
     "metadata": {},
     "output_type": "display_data"
    },
    {
     "data": {
      "application/vnd.jupyter.widget-view+json": {
       "model_id": "f91688dc3f1a4f0e830eef6aee3359c2",
       "version_major": 2,
       "version_minor": 0
      },
      "text/plain": [
       "Validating: 0it [00:00, ?it/s]"
      ]
     },
     "metadata": {},
     "output_type": "display_data"
    },
    {
     "data": {
      "application/vnd.jupyter.widget-view+json": {
       "model_id": "0bf6f39229b44dafbf5f374e88b7bbeb",
       "version_major": 2,
       "version_minor": 0
      },
      "text/plain": [
       "Validating: 0it [00:00, ?it/s]"
      ]
     },
     "metadata": {},
     "output_type": "display_data"
    },
    {
     "data": {
      "application/vnd.jupyter.widget-view+json": {
       "model_id": "1d0302ba51634be0b30da96da899f31f",
       "version_major": 2,
       "version_minor": 0
      },
      "text/plain": [
       "Validating: 0it [00:00, ?it/s]"
      ]
     },
     "metadata": {},
     "output_type": "display_data"
    },
    {
     "data": {
      "application/vnd.jupyter.widget-view+json": {
       "model_id": "5bfee870a22f4308bb19b8e0fadc89fe",
       "version_major": 2,
       "version_minor": 0
      },
      "text/plain": [
       "Validating: 0it [00:00, ?it/s]"
      ]
     },
     "metadata": {},
     "output_type": "display_data"
    },
    {
     "data": {
      "application/vnd.jupyter.widget-view+json": {
       "model_id": "82f914e839334c579b43ae374f4760c0",
       "version_major": 2,
       "version_minor": 0
      },
      "text/plain": [
       "Validating: 0it [00:00, ?it/s]"
      ]
     },
     "metadata": {},
     "output_type": "display_data"
    },
    {
     "data": {
      "application/vnd.jupyter.widget-view+json": {
       "model_id": "2442521446f04ca7bb339685e0ef4bfc",
       "version_major": 2,
       "version_minor": 0
      },
      "text/plain": [
       "Validating: 0it [00:00, ?it/s]"
      ]
     },
     "metadata": {},
     "output_type": "display_data"
    },
    {
     "data": {
      "application/vnd.jupyter.widget-view+json": {
       "model_id": "f10172f185ee436ba8326b8fd543a7cc",
       "version_major": 2,
       "version_minor": 0
      },
      "text/plain": [
       "Validating: 0it [00:00, ?it/s]"
      ]
     },
     "metadata": {},
     "output_type": "display_data"
    },
    {
     "data": {
      "application/vnd.jupyter.widget-view+json": {
       "model_id": "1b53e296d1a648008e7b3f514ab88b0d",
       "version_major": 2,
       "version_minor": 0
      },
      "text/plain": [
       "Validating: 0it [00:00, ?it/s]"
      ]
     },
     "metadata": {},
     "output_type": "display_data"
    },
    {
     "data": {
      "application/vnd.jupyter.widget-view+json": {
       "model_id": "8b2e398558c34720bb459e2a5d8b20a6",
       "version_major": 2,
       "version_minor": 0
      },
      "text/plain": [
       "Validating: 0it [00:00, ?it/s]"
      ]
     },
     "metadata": {},
     "output_type": "display_data"
    },
    {
     "data": {
      "application/vnd.jupyter.widget-view+json": {
       "model_id": "78fffe9348594ef7a39d300f2cdab7c9",
       "version_major": 2,
       "version_minor": 0
      },
      "text/plain": [
       "Validating: 0it [00:00, ?it/s]"
      ]
     },
     "metadata": {},
     "output_type": "display_data"
    },
    {
     "data": {
      "application/vnd.jupyter.widget-view+json": {
       "model_id": "b58b4debfacc43d496befa6b1bfc90a5",
       "version_major": 2,
       "version_minor": 0
      },
      "text/plain": [
       "Validating: 0it [00:00, ?it/s]"
      ]
     },
     "metadata": {},
     "output_type": "display_data"
    },
    {
     "data": {
      "application/vnd.jupyter.widget-view+json": {
       "model_id": "62690652116341c1a0241b82ea587d80",
       "version_major": 2,
       "version_minor": 0
      },
      "text/plain": [
       "Validating: 0it [00:00, ?it/s]"
      ]
     },
     "metadata": {},
     "output_type": "display_data"
    },
    {
     "data": {
      "application/vnd.jupyter.widget-view+json": {
       "model_id": "b0d27aef134e45fbbcf970314eb7efec",
       "version_major": 2,
       "version_minor": 0
      },
      "text/plain": [
       "Validating: 0it [00:00, ?it/s]"
      ]
     },
     "metadata": {},
     "output_type": "display_data"
    },
    {
     "data": {
      "application/vnd.jupyter.widget-view+json": {
       "model_id": "82189b42ac024ef4845f792e03f7d325",
       "version_major": 2,
       "version_minor": 0
      },
      "text/plain": [
       "Validating: 0it [00:00, ?it/s]"
      ]
     },
     "metadata": {},
     "output_type": "display_data"
    },
    {
     "data": {
      "application/vnd.jupyter.widget-view+json": {
       "model_id": "c5d3a31832e1431c9eb7b9d9516871bc",
       "version_major": 2,
       "version_minor": 0
      },
      "text/plain": [
       "Validating: 0it [00:00, ?it/s]"
      ]
     },
     "metadata": {},
     "output_type": "display_data"
    },
    {
     "data": {
      "application/vnd.jupyter.widget-view+json": {
       "model_id": "2702fbdc6b314f12a01237aec2719be3",
       "version_major": 2,
       "version_minor": 0
      },
      "text/plain": [
       "Validating: 0it [00:00, ?it/s]"
      ]
     },
     "metadata": {},
     "output_type": "display_data"
    },
    {
     "data": {
      "application/vnd.jupyter.widget-view+json": {
       "model_id": "c211f2fcc4df41b0bec980dafa4921b5",
       "version_major": 2,
       "version_minor": 0
      },
      "text/plain": [
       "Validating: 0it [00:00, ?it/s]"
      ]
     },
     "metadata": {},
     "output_type": "display_data"
    },
    {
     "data": {
      "application/vnd.jupyter.widget-view+json": {
       "model_id": "49597cb58b32400497b1c8f8fd71991e",
       "version_major": 2,
       "version_minor": 0
      },
      "text/plain": [
       "Validating: 0it [00:00, ?it/s]"
      ]
     },
     "metadata": {},
     "output_type": "display_data"
    },
    {
     "data": {
      "application/vnd.jupyter.widget-view+json": {
       "model_id": "e1a3eef2f3364f79bd4ffbba0c87ef16",
       "version_major": 2,
       "version_minor": 0
      },
      "text/plain": [
       "Validating: 0it [00:00, ?it/s]"
      ]
     },
     "metadata": {},
     "output_type": "display_data"
    },
    {
     "data": {
      "application/vnd.jupyter.widget-view+json": {
       "model_id": "bb0f7a1bb40543aeb272eaabe4e8fb30",
       "version_major": 2,
       "version_minor": 0
      },
      "text/plain": [
       "Validating: 0it [00:00, ?it/s]"
      ]
     },
     "metadata": {},
     "output_type": "display_data"
    },
    {
     "data": {
      "application/vnd.jupyter.widget-view+json": {
       "model_id": "b7adf9a318e742b6a5426e4dc76e89e9",
       "version_major": 2,
       "version_minor": 0
      },
      "text/plain": [
       "Validating: 0it [00:00, ?it/s]"
      ]
     },
     "metadata": {},
     "output_type": "display_data"
    },
    {
     "data": {
      "application/vnd.jupyter.widget-view+json": {
       "model_id": "2c4393c2555d4de1b85a86cfb94bae48",
       "version_major": 2,
       "version_minor": 0
      },
      "text/plain": [
       "Validating: 0it [00:00, ?it/s]"
      ]
     },
     "metadata": {},
     "output_type": "display_data"
    },
    {
     "data": {
      "application/vnd.jupyter.widget-view+json": {
       "model_id": "305baf5b5d184e21b087a147303c469c",
       "version_major": 2,
       "version_minor": 0
      },
      "text/plain": [
       "Validating: 0it [00:00, ?it/s]"
      ]
     },
     "metadata": {},
     "output_type": "display_data"
    },
    {
     "data": {
      "application/vnd.jupyter.widget-view+json": {
       "model_id": "8241ef432e8449e38466d96b6e07d1c1",
       "version_major": 2,
       "version_minor": 0
      },
      "text/plain": [
       "Validating: 0it [00:00, ?it/s]"
      ]
     },
     "metadata": {},
     "output_type": "display_data"
    },
    {
     "data": {
      "application/vnd.jupyter.widget-view+json": {
       "model_id": "0127c574b9d2406da5719958ac3e864d",
       "version_major": 2,
       "version_minor": 0
      },
      "text/plain": [
       "Validating: 0it [00:00, ?it/s]"
      ]
     },
     "metadata": {},
     "output_type": "display_data"
    },
    {
     "data": {
      "application/vnd.jupyter.widget-view+json": {
       "model_id": "6096c52163124cd6b731eb8acf4d6bd0",
       "version_major": 2,
       "version_minor": 0
      },
      "text/plain": [
       "Validating: 0it [00:00, ?it/s]"
      ]
     },
     "metadata": {},
     "output_type": "display_data"
    },
    {
     "data": {
      "application/vnd.jupyter.widget-view+json": {
       "model_id": "8e39f39179614701ad6181348d4e3371",
       "version_major": 2,
       "version_minor": 0
      },
      "text/plain": [
       "Validating: 0it [00:00, ?it/s]"
      ]
     },
     "metadata": {},
     "output_type": "display_data"
    },
    {
     "data": {
      "application/vnd.jupyter.widget-view+json": {
       "model_id": "59963e95b14846b4883a24af2455557d",
       "version_major": 2,
       "version_minor": 0
      },
      "text/plain": [
       "Validating: 0it [00:00, ?it/s]"
      ]
     },
     "metadata": {},
     "output_type": "display_data"
    },
    {
     "data": {
      "application/vnd.jupyter.widget-view+json": {
       "model_id": "ac98e6ec43fc43b7bd735b6f3727c74a",
       "version_major": 2,
       "version_minor": 0
      },
      "text/plain": [
       "Validating: 0it [00:00, ?it/s]"
      ]
     },
     "metadata": {},
     "output_type": "display_data"
    },
    {
     "data": {
      "application/vnd.jupyter.widget-view+json": {
       "model_id": "9e8d31fe941d4e8f8bf56886877fd6f0",
       "version_major": 2,
       "version_minor": 0
      },
      "text/plain": [
       "Validating: 0it [00:00, ?it/s]"
      ]
     },
     "metadata": {},
     "output_type": "display_data"
    },
    {
     "data": {
      "application/vnd.jupyter.widget-view+json": {
       "model_id": "3392e5da2b2f4c34969a82b117f9370f",
       "version_major": 2,
       "version_minor": 0
      },
      "text/plain": [
       "Validating: 0it [00:00, ?it/s]"
      ]
     },
     "metadata": {},
     "output_type": "display_data"
    },
    {
     "data": {
      "application/vnd.jupyter.widget-view+json": {
       "model_id": "cdb2163d5c7c4ad5a3a4f1f7e6fb9655",
       "version_major": 2,
       "version_minor": 0
      },
      "text/plain": [
       "Validating: 0it [00:00, ?it/s]"
      ]
     },
     "metadata": {},
     "output_type": "display_data"
    },
    {
     "data": {
      "application/vnd.jupyter.widget-view+json": {
       "model_id": "5e84fc655ca646868f68c256212c1a3d",
       "version_major": 2,
       "version_minor": 0
      },
      "text/plain": [
       "Validating: 0it [00:00, ?it/s]"
      ]
     },
     "metadata": {},
     "output_type": "display_data"
    },
    {
     "data": {
      "application/vnd.jupyter.widget-view+json": {
       "model_id": "bffa2a77ba924bb1b70592fbe5e62764",
       "version_major": 2,
       "version_minor": 0
      },
      "text/plain": [
       "Validating: 0it [00:00, ?it/s]"
      ]
     },
     "metadata": {},
     "output_type": "display_data"
    },
    {
     "data": {
      "application/vnd.jupyter.widget-view+json": {
       "model_id": "512c3675852b49efb0aaffe17baf90fa",
       "version_major": 2,
       "version_minor": 0
      },
      "text/plain": [
       "Validating: 0it [00:00, ?it/s]"
      ]
     },
     "metadata": {},
     "output_type": "display_data"
    },
    {
     "data": {
      "application/vnd.jupyter.widget-view+json": {
       "model_id": "756da4d876b64c138b408a8bceb7ada4",
       "version_major": 2,
       "version_minor": 0
      },
      "text/plain": [
       "Validating: 0it [00:00, ?it/s]"
      ]
     },
     "metadata": {},
     "output_type": "display_data"
    },
    {
     "data": {
      "application/vnd.jupyter.widget-view+json": {
       "model_id": "7d415e366fc74e6ab2a57b2b6fa647f8",
       "version_major": 2,
       "version_minor": 0
      },
      "text/plain": [
       "Validating: 0it [00:00, ?it/s]"
      ]
     },
     "metadata": {},
     "output_type": "display_data"
    },
    {
     "data": {
      "application/vnd.jupyter.widget-view+json": {
       "model_id": "07363d62961f4711b7bc83ae74ef34d9",
       "version_major": 2,
       "version_minor": 0
      },
      "text/plain": [
       "Validating: 0it [00:00, ?it/s]"
      ]
     },
     "metadata": {},
     "output_type": "display_data"
    },
    {
     "data": {
      "application/vnd.jupyter.widget-view+json": {
       "model_id": "faee237e401546efbd4f3469a3682754",
       "version_major": 2,
       "version_minor": 0
      },
      "text/plain": [
       "Validating: 0it [00:00, ?it/s]"
      ]
     },
     "metadata": {},
     "output_type": "display_data"
    },
    {
     "data": {
      "application/vnd.jupyter.widget-view+json": {
       "model_id": "04bcf465d13441baacd6e7f4ef3dc094",
       "version_major": 2,
       "version_minor": 0
      },
      "text/plain": [
       "Validating: 0it [00:00, ?it/s]"
      ]
     },
     "metadata": {},
     "output_type": "display_data"
    },
    {
     "data": {
      "application/vnd.jupyter.widget-view+json": {
       "model_id": "74a8c48872b743168c78265951c1ca12",
       "version_major": 2,
       "version_minor": 0
      },
      "text/plain": [
       "Validating: 0it [00:00, ?it/s]"
      ]
     },
     "metadata": {},
     "output_type": "display_data"
    },
    {
     "data": {
      "application/vnd.jupyter.widget-view+json": {
       "model_id": "9fa1d6c4e79f4cb1a936d90e081429d4",
       "version_major": 2,
       "version_minor": 0
      },
      "text/plain": [
       "Validating: 0it [00:00, ?it/s]"
      ]
     },
     "metadata": {},
     "output_type": "display_data"
    },
    {
     "data": {
      "application/vnd.jupyter.widget-view+json": {
       "model_id": "25ca7534258743caac22be048adcda6d",
       "version_major": 2,
       "version_minor": 0
      },
      "text/plain": [
       "Validating: 0it [00:00, ?it/s]"
      ]
     },
     "metadata": {},
     "output_type": "display_data"
    },
    {
     "data": {
      "application/vnd.jupyter.widget-view+json": {
       "model_id": "bb9dc19cddf44f83bc2155daf24ee826",
       "version_major": 2,
       "version_minor": 0
      },
      "text/plain": [
       "Validating: 0it [00:00, ?it/s]"
      ]
     },
     "metadata": {},
     "output_type": "display_data"
    },
    {
     "data": {
      "application/vnd.jupyter.widget-view+json": {
       "model_id": "bd58fdc0bdd64789a70f4b0c6e51e375",
       "version_major": 2,
       "version_minor": 0
      },
      "text/plain": [
       "Validating: 0it [00:00, ?it/s]"
      ]
     },
     "metadata": {},
     "output_type": "display_data"
    },
    {
     "data": {
      "application/vnd.jupyter.widget-view+json": {
       "model_id": "9419e9ad2b62477586d90d3360698f0f",
       "version_major": 2,
       "version_minor": 0
      },
      "text/plain": [
       "Validating: 0it [00:00, ?it/s]"
      ]
     },
     "metadata": {},
     "output_type": "display_data"
    },
    {
     "data": {
      "application/vnd.jupyter.widget-view+json": {
       "model_id": "485d5e711380439294a50375450482a5",
       "version_major": 2,
       "version_minor": 0
      },
      "text/plain": [
       "Validating: 0it [00:00, ?it/s]"
      ]
     },
     "metadata": {},
     "output_type": "display_data"
    },
    {
     "data": {
      "application/vnd.jupyter.widget-view+json": {
       "model_id": "f1dc7056ecb448998fef941ad024b38c",
       "version_major": 2,
       "version_minor": 0
      },
      "text/plain": [
       "Validating: 0it [00:00, ?it/s]"
      ]
     },
     "metadata": {},
     "output_type": "display_data"
    },
    {
     "data": {
      "application/vnd.jupyter.widget-view+json": {
       "model_id": "e2ec0dd3edc949a19ff20194b3f3a812",
       "version_major": 2,
       "version_minor": 0
      },
      "text/plain": [
       "Validating: 0it [00:00, ?it/s]"
      ]
     },
     "metadata": {},
     "output_type": "display_data"
    },
    {
     "data": {
      "application/vnd.jupyter.widget-view+json": {
       "model_id": "321220b4b38547469a0c628d6cc0d603",
       "version_major": 2,
       "version_minor": 0
      },
      "text/plain": [
       "Validating: 0it [00:00, ?it/s]"
      ]
     },
     "metadata": {},
     "output_type": "display_data"
    },
    {
     "data": {
      "application/vnd.jupyter.widget-view+json": {
       "model_id": "eafa7734043c4729a1c1f484ff1eaf7f",
       "version_major": 2,
       "version_minor": 0
      },
      "text/plain": [
       "Validating: 0it [00:00, ?it/s]"
      ]
     },
     "metadata": {},
     "output_type": "display_data"
    },
    {
     "data": {
      "application/vnd.jupyter.widget-view+json": {
       "model_id": "36d1a146a6d34556803765f07c1d0bb8",
       "version_major": 2,
       "version_minor": 0
      },
      "text/plain": [
       "Validating: 0it [00:00, ?it/s]"
      ]
     },
     "metadata": {},
     "output_type": "display_data"
    },
    {
     "data": {
      "application/vnd.jupyter.widget-view+json": {
       "model_id": "9aa0a1e16197439aa85f555cdd564801",
       "version_major": 2,
       "version_minor": 0
      },
      "text/plain": [
       "Validating: 0it [00:00, ?it/s]"
      ]
     },
     "metadata": {},
     "output_type": "display_data"
    },
    {
     "data": {
      "application/vnd.jupyter.widget-view+json": {
       "model_id": "1c82167b063844e9a77a37678c64918a",
       "version_major": 2,
       "version_minor": 0
      },
      "text/plain": [
       "Validating: 0it [00:00, ?it/s]"
      ]
     },
     "metadata": {},
     "output_type": "display_data"
    },
    {
     "data": {
      "application/vnd.jupyter.widget-view+json": {
       "model_id": "47a94a84ab834d5bb43d441251c45854",
       "version_major": 2,
       "version_minor": 0
      },
      "text/plain": [
       "Validating: 0it [00:00, ?it/s]"
      ]
     },
     "metadata": {},
     "output_type": "display_data"
    },
    {
     "data": {
      "application/vnd.jupyter.widget-view+json": {
       "model_id": "0291420f039345e1a9d739daf150dbcf",
       "version_major": 2,
       "version_minor": 0
      },
      "text/plain": [
       "Validating: 0it [00:00, ?it/s]"
      ]
     },
     "metadata": {},
     "output_type": "display_data"
    },
    {
     "data": {
      "application/vnd.jupyter.widget-view+json": {
       "model_id": "26e54a34f0794dfab5c1563c8b751ab8",
       "version_major": 2,
       "version_minor": 0
      },
      "text/plain": [
       "Validating: 0it [00:00, ?it/s]"
      ]
     },
     "metadata": {},
     "output_type": "display_data"
    },
    {
     "data": {
      "application/vnd.jupyter.widget-view+json": {
       "model_id": "e6065922a6bd4c90a84aecfbb27c8861",
       "version_major": 2,
       "version_minor": 0
      },
      "text/plain": [
       "Validating: 0it [00:00, ?it/s]"
      ]
     },
     "metadata": {},
     "output_type": "display_data"
    },
    {
     "data": {
      "application/vnd.jupyter.widget-view+json": {
       "model_id": "64aac7290fff45ef9d519af6c83a3a1e",
       "version_major": 2,
       "version_minor": 0
      },
      "text/plain": [
       "Validating: 0it [00:00, ?it/s]"
      ]
     },
     "metadata": {},
     "output_type": "display_data"
    },
    {
     "data": {
      "application/vnd.jupyter.widget-view+json": {
       "model_id": "2bdf2682653146bda6d68d163adb30ba",
       "version_major": 2,
       "version_minor": 0
      },
      "text/plain": [
       "Validating: 0it [00:00, ?it/s]"
      ]
     },
     "metadata": {},
     "output_type": "display_data"
    },
    {
     "data": {
      "application/vnd.jupyter.widget-view+json": {
       "model_id": "25b6165e370a4039a9adbaf17921baa3",
       "version_major": 2,
       "version_minor": 0
      },
      "text/plain": [
       "Validating: 0it [00:00, ?it/s]"
      ]
     },
     "metadata": {},
     "output_type": "display_data"
    },
    {
     "data": {
      "application/vnd.jupyter.widget-view+json": {
       "model_id": "feebc2a0657f43ff8d26aa28bcad84ce",
       "version_major": 2,
       "version_minor": 0
      },
      "text/plain": [
       "Validating: 0it [00:00, ?it/s]"
      ]
     },
     "metadata": {},
     "output_type": "display_data"
    },
    {
     "data": {
      "application/vnd.jupyter.widget-view+json": {
       "model_id": "86b237f68952459997f88aff0eeddef8",
       "version_major": 2,
       "version_minor": 0
      },
      "text/plain": [
       "Validating: 0it [00:00, ?it/s]"
      ]
     },
     "metadata": {},
     "output_type": "display_data"
    },
    {
     "data": {
      "application/vnd.jupyter.widget-view+json": {
       "model_id": "7b5a312db141482f903c747964164a3c",
       "version_major": 2,
       "version_minor": 0
      },
      "text/plain": [
       "Validating: 0it [00:00, ?it/s]"
      ]
     },
     "metadata": {},
     "output_type": "display_data"
    },
    {
     "data": {
      "application/vnd.jupyter.widget-view+json": {
       "model_id": "b0b57ef2928440db9f4e9f1acfcacf73",
       "version_major": 2,
       "version_minor": 0
      },
      "text/plain": [
       "Validating: 0it [00:00, ?it/s]"
      ]
     },
     "metadata": {},
     "output_type": "display_data"
    },
    {
     "data": {
      "application/vnd.jupyter.widget-view+json": {
       "model_id": "b91acf6655cf4da5b59b2f4f53a1e2e1",
       "version_major": 2,
       "version_minor": 0
      },
      "text/plain": [
       "Validating: 0it [00:00, ?it/s]"
      ]
     },
     "metadata": {},
     "output_type": "display_data"
    },
    {
     "data": {
      "application/vnd.jupyter.widget-view+json": {
       "model_id": "ffaaa33a6e5949599267995242c285fb",
       "version_major": 2,
       "version_minor": 0
      },
      "text/plain": [
       "Validating: 0it [00:00, ?it/s]"
      ]
     },
     "metadata": {},
     "output_type": "display_data"
    },
    {
     "data": {
      "application/vnd.jupyter.widget-view+json": {
       "model_id": "c890e6cbaf6d48ea80840e7a5fe2242b",
       "version_major": 2,
       "version_minor": 0
      },
      "text/plain": [
       "Validating: 0it [00:00, ?it/s]"
      ]
     },
     "metadata": {},
     "output_type": "display_data"
    },
    {
     "data": {
      "application/vnd.jupyter.widget-view+json": {
       "model_id": "fe5a26f12a67439e8b6c15d0c56c8907",
       "version_major": 2,
       "version_minor": 0
      },
      "text/plain": [
       "Validating: 0it [00:00, ?it/s]"
      ]
     },
     "metadata": {},
     "output_type": "display_data"
    },
    {
     "data": {
      "application/vnd.jupyter.widget-view+json": {
       "model_id": "ef5520cf797d433ab9ea98358dec29c2",
       "version_major": 2,
       "version_minor": 0
      },
      "text/plain": [
       "Validating: 0it [00:00, ?it/s]"
      ]
     },
     "metadata": {},
     "output_type": "display_data"
    },
    {
     "data": {
      "application/vnd.jupyter.widget-view+json": {
       "model_id": "2ac39b2e07fb45f682bf37ce56fc884c",
       "version_major": 2,
       "version_minor": 0
      },
      "text/plain": [
       "Validating: 0it [00:00, ?it/s]"
      ]
     },
     "metadata": {},
     "output_type": "display_data"
    },
    {
     "data": {
      "application/vnd.jupyter.widget-view+json": {
       "model_id": "8266d0da7d064ba6ae0fa55197d4ccdb",
       "version_major": 2,
       "version_minor": 0
      },
      "text/plain": [
       "Validating: 0it [00:00, ?it/s]"
      ]
     },
     "metadata": {},
     "output_type": "display_data"
    },
    {
     "data": {
      "application/vnd.jupyter.widget-view+json": {
       "model_id": "5b3e5f1d10ac4bb3bfd32bad057ba326",
       "version_major": 2,
       "version_minor": 0
      },
      "text/plain": [
       "Validating: 0it [00:00, ?it/s]"
      ]
     },
     "metadata": {},
     "output_type": "display_data"
    },
    {
     "data": {
      "application/vnd.jupyter.widget-view+json": {
       "model_id": "f4d9b6281ae64c4c80e1c1b89a1d9b31",
       "version_major": 2,
       "version_minor": 0
      },
      "text/plain": [
       "Validating: 0it [00:00, ?it/s]"
      ]
     },
     "metadata": {},
     "output_type": "display_data"
    },
    {
     "data": {
      "application/vnd.jupyter.widget-view+json": {
       "model_id": "41e3af57941e49c9944986c597a696c9",
       "version_major": 2,
       "version_minor": 0
      },
      "text/plain": [
       "Validating: 0it [00:00, ?it/s]"
      ]
     },
     "metadata": {},
     "output_type": "display_data"
    },
    {
     "data": {
      "application/vnd.jupyter.widget-view+json": {
       "model_id": "64dd4f55d3e743e4a232053dcf896abc",
       "version_major": 2,
       "version_minor": 0
      },
      "text/plain": [
       "Validating: 0it [00:00, ?it/s]"
      ]
     },
     "metadata": {},
     "output_type": "display_data"
    },
    {
     "data": {
      "application/vnd.jupyter.widget-view+json": {
       "model_id": "251ef830bc564fcbb2e321d88cdc99f2",
       "version_major": 2,
       "version_minor": 0
      },
      "text/plain": [
       "Validating: 0it [00:00, ?it/s]"
      ]
     },
     "metadata": {},
     "output_type": "display_data"
    },
    {
     "data": {
      "application/vnd.jupyter.widget-view+json": {
       "model_id": "bf4501ef154f4fb6979098b6baaf4219",
       "version_major": 2,
       "version_minor": 0
      },
      "text/plain": [
       "Validating: 0it [00:00, ?it/s]"
      ]
     },
     "metadata": {},
     "output_type": "display_data"
    },
    {
     "data": {
      "application/vnd.jupyter.widget-view+json": {
       "model_id": "8a046a7a56f24c73baa5fbd2328b8e3a",
       "version_major": 2,
       "version_minor": 0
      },
      "text/plain": [
       "Validating: 0it [00:00, ?it/s]"
      ]
     },
     "metadata": {},
     "output_type": "display_data"
    },
    {
     "data": {
      "application/vnd.jupyter.widget-view+json": {
       "model_id": "85fdc1460a974e16aa660c8319f220a5",
       "version_major": 2,
       "version_minor": 0
      },
      "text/plain": [
       "Validating: 0it [00:00, ?it/s]"
      ]
     },
     "metadata": {},
     "output_type": "display_data"
    },
    {
     "data": {
      "application/vnd.jupyter.widget-view+json": {
       "model_id": "b10cf6d65116437c85d0cf438cffd7f1",
       "version_major": 2,
       "version_minor": 0
      },
      "text/plain": [
       "Validating: 0it [00:00, ?it/s]"
      ]
     },
     "metadata": {},
     "output_type": "display_data"
    },
    {
     "data": {
      "application/vnd.jupyter.widget-view+json": {
       "model_id": "d57087cab5fa448190ef33f0398cbd60",
       "version_major": 2,
       "version_minor": 0
      },
      "text/plain": [
       "Validating: 0it [00:00, ?it/s]"
      ]
     },
     "metadata": {},
     "output_type": "display_data"
    },
    {
     "data": {
      "application/vnd.jupyter.widget-view+json": {
       "model_id": "e34fa32fefe54139a183298811194dcc",
       "version_major": 2,
       "version_minor": 0
      },
      "text/plain": [
       "Validating: 0it [00:00, ?it/s]"
      ]
     },
     "metadata": {},
     "output_type": "display_data"
    },
    {
     "data": {
      "application/vnd.jupyter.widget-view+json": {
       "model_id": "551a500b0a9d4acba7025825a7061b44",
       "version_major": 2,
       "version_minor": 0
      },
      "text/plain": [
       "Validating: 0it [00:00, ?it/s]"
      ]
     },
     "metadata": {},
     "output_type": "display_data"
    }
   ],
   "source": [
    "params ={\n",
    "    'n_features': len(feature_columns),\n",
    "    \"n_classes\": len(label_encoder.classes_),\n",
    "    \"seq_length\":128,\n",
    "    \"dropout\": 0.5,\n",
    "    \"n_hidden\": 256,\n",
    "    \"batch_size\": 64,\n",
    "    \"lr\": 0.01  \n",
    "    }\n",
    "train(params, 'run_41_orig')"
   ]
  }
 ],
 "metadata": {
  "kernelspec": {
   "display_name": "Python 3",
   "language": "python",
   "name": "python3"
  },
  "language_info": {
   "codemirror_mode": {
    "name": "ipython",
    "version": 3
   },
   "file_extension": ".py",
   "mimetype": "text/x-python",
   "name": "python",
   "nbconvert_exporter": "python",
   "pygments_lexer": "ipython3",
   "version": "3.7.12"
  }
 },
 "nbformat": 4,
 "nbformat_minor": 5
}
