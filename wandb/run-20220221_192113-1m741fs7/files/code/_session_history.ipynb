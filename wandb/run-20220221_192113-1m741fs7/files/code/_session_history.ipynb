{
 "cells": [
  {
   "cell_type": "code",
   "execution_count": 1,
   "id": "d5a1b212",
   "metadata": {},
   "outputs": [],
   "source": [
    "# from google.colab import drive\n",
    "from pathlib import Path\n",
    "# drive.mount('/content/gdrive', force_remount=True)\n",
    "%cd \"/content/drive/Othercomputers/my_mac/Coding_stuff/Projects/Surface_Predictor\""
   ]
  },
  {
   "cell_type": "code",
   "execution_count": 2,
   "id": "38a667f1",
   "metadata": {},
   "outputs": [],
   "source": [
    "creds = '{\"username\":\"phade160\",\"key\":\"e780a54d20d6c7d34b674893c923068a\"}'\n",
    "cred_path = Path('~/.kaggle/kaggle.json').expanduser()\n",
    "if not cred_path.exists():\n",
    "  print('entered')\n",
    "cred_path.parent.mkdir(exist_ok=True)\n",
    "cred_path.write_text(creds)\n",
    "cred_path.chmod(0o600)"
   ]
  },
  {
   "cell_type": "code",
   "execution_count": 3,
   "id": "a791cc3e",
   "metadata": {},
   "outputs": [],
   "source": [
    "# !kaggle competitions download -c career-con-2019 -p ./data/\n",
    "# !unzip ./data/X_test.csv.zip -d ./data\n",
    "# !unzip ./data/X_train.csv.zip -d ./data\n",
    "# !rm ./data/X_train.csv.zip ./data/X_test.csv.zip"
   ]
  },
  {
   "cell_type": "code",
   "execution_count": 4,
   "id": "1b70a1fb",
   "metadata": {},
   "outputs": [],
   "source": [
    "%%capture\n",
    "%pip install -Uqq pytorch-lightning torchmetrics wandb"
   ]
  },
  {
   "cell_type": "code",
   "execution_count": 5,
   "id": "060a7662",
   "metadata": {},
   "outputs": [],
   "source": [
    "import numpy as np\n",
    "import pandas as pd\n",
    "import matplotlib.pyplot as plt\n",
    "from matplotlib import rc\n",
    "import seaborn as sns\n",
    "import wandb\n",
    "from tqdm.auto import tqdm \n",
    "from kaggle import api\n",
    "import torch\n",
    "import torch.autograd as autograd\n",
    "import torch.nn as nn\n",
    "import torch.nn.functional as F\n",
    "import torch.optim as optim\n",
    "from torch.utils.data import Dataset, DataLoader\n",
    "from torch.utils.data import WeightedRandomSampler\n",
    "\n",
    "import pytorch_lightning as pl\n",
    "from pytorch_lightning.callbacks import ModelCheckpoint, EarlyStopping\n",
    "from pytorch_lightning.callbacks.progress import TQDMProgressBar\n",
    "from pytorch_lightning.loggers import WandbLogger\n",
    "import torchmetrics\n",
    "\n",
    "from pylab import rcParams\n",
    "from matplotlib.ticker import MaxNLocator\n",
    "from sklearn.metrics import classification_report, confusion_matrix\n",
    "from sklearn.preprocessing import LabelEncoder\n",
    "from sklearn.model_selection import train_test_split"
   ]
  },
  {
   "cell_type": "code",
   "execution_count": 6,
   "id": "fe6f989b",
   "metadata": {},
   "outputs": [],
   "source": [
    "%matplotlib inline\n",
    "%config InlinBackend.figure_format = 'retina'\n",
    "sns.set_style(style= 'whitegrid')\n",
    "rcParams['figure.figsize'] = 14,9"
   ]
  },
  {
   "cell_type": "code",
   "execution_count": 7,
   "id": "90b03f63",
   "metadata": {},
   "outputs": [
    {
     "name": "stdout",
     "output_type": "stream",
     "text": [
      "42"
     ]
    }
   ],
   "source": [
    "pl.seed_everything(42)"
   ]
  },
  {
   "cell_type": "code",
   "execution_count": 8,
   "id": "bb9d7544",
   "metadata": {},
   "outputs": [],
   "source": [
    "!wandb login"
   ]
  },
  {
   "cell_type": "code",
   "execution_count": 9,
   "id": "de056487",
   "metadata": {},
   "outputs": [
    {
     "name": "stdout",
     "output_type": "stream",
     "text": [
      "          row_id  series_id  ...  linear_acceleration_Y  linear_acceleration_Z\n",
      "0            0_0          0  ...                 2.1030                -9.7532\n",
      "1            0_1          0  ...                 1.5064                -9.4128\n",
      "2            0_2          0  ...                 1.5922                -8.7267\n",
      "3            0_3          0  ...                 1.0993               -10.0960\n",
      "4            0_4          0  ...                 1.4689               -10.4410\n",
      "...          ...        ...  ...                    ...                    ...\n",
      "487675  3809_123       3809  ...                 2.0115                -9.0063\n",
      "487676  3809_124       3809  ...                 3.0696                -8.1257\n",
      "487677  3809_125       3809  ...                 4.2622                -8.1443\n",
      "487678  3809_126       3809  ...                 4.7130                -9.4435\n",
      "487679  3809_127       3809  ...                 4.2751               -10.4980\n",
      "\n",
      "[487680 rows x 13 columns]"
     ]
    }
   ],
   "source": [
    "x_train = pd.read_csv('./data/raw/X_train.csv', low_memory=False)\n",
    "y_train = pd.read_csv('./data/raw/y_train.csv', low_memory=False)\n",
    "x_test = pd.read_csv('./data/raw/X_test.csv', low_memory=False)\n",
    "\n",
    "x_train"
   ]
  },
  {
   "cell_type": "code",
   "execution_count": 10,
   "id": "3577c87f",
   "metadata": {},
   "outputs": [],
   "source": [
    "def load():\n",
    "    x_train = pd.read_csv('./data/raw/X_train.csv', low_memory=False)\n",
    "    y_train = pd.read_csv('./data/raw/y_train.csv', low_memory=False)\n",
    "    x_test = pd.read_csv('./data/raw/X_test.csv', low_memory=False) \n",
    "\n",
    "    data = [x_train, y_train, x_test]\n",
    "    return data\n",
    "    "
   ]
  },
  {
   "cell_type": "code",
   "execution_count": 11,
   "id": "24f5bf35",
   "metadata": {},
   "outputs": [],
   "source": [
    "def load():\n",
    "    x_train = pd.read_csv('./data/raw/X_train.csv', low_memory=False)\n",
    "    y_train = pd.read_csv('./data/raw/y_train.csv', low_memory=False)\n",
    "    x_test = pd.read_csv('./data/raw/X_test.csv', low_memory=False) \n",
    "\n",
    "    data = [[x_train, y_train], x_test]\n",
    "    return data\n",
    "    "
   ]
  },
  {
   "cell_type": "code",
   "execution_count": 12,
   "id": "5640c590",
   "metadata": {},
   "outputs": [],
   "source": [
    "def load():\n",
    "    x_train = pd.read_csv('./data/raw/X_train.csv', low_memory=False)\n",
    "    y_train = pd.read_csv('./data/raw/y_train.csv', low_memory=False)\n",
    "    x_test = pd.read_csv('./data/raw/X_test.csv', low_memory=False) \n",
    "\n",
    "    data = [(x_train, y_train),(x_test)]\n",
    "    return data\n",
    "    "
   ]
  },
  {
   "cell_type": "code",
   "execution_count": 13,
   "id": "b5f864f9",
   "metadata": {},
   "outputs": [],
   "source": [
    "a,b = (1,)"
   ]
  },
  {
   "cell_type": "code",
   "execution_count": 14,
   "id": "5653dbad",
   "metadata": {},
   "outputs": [],
   "source": [
    "a,b = (1, )"
   ]
  },
  {
   "cell_type": "code",
   "execution_count": 15,
   "id": "ec1e347a",
   "metadata": {},
   "outputs": [],
   "source": [
    "a,b = (1, [])"
   ]
  },
  {
   "cell_type": "code",
   "execution_count": 16,
   "id": "bb2400cf",
   "metadata": {},
   "outputs": [],
   "source": [
    "a,b = (1,)"
   ]
  },
  {
   "cell_type": "code",
   "execution_count": 17,
   "id": "610e2b0a",
   "metadata": {},
   "outputs": [],
   "source": [
    "a, = (1,)"
   ]
  },
  {
   "cell_type": "code",
   "execution_count": 18,
   "id": "145c6a53",
   "metadata": {},
   "outputs": [
    {
     "name": "stdout",
     "output_type": "stream",
     "text": [
      "1"
     ]
    }
   ],
   "source": [
    "a"
   ]
  },
  {
   "cell_type": "code",
   "execution_count": 19,
   "id": "3832b87d",
   "metadata": {},
   "outputs": [],
   "source": [
    "a, = (1)"
   ]
  },
  {
   "cell_type": "code",
   "execution_count": 20,
   "id": "af88d771",
   "metadata": {},
   "outputs": [],
   "source": [
    "a = (1)"
   ]
  },
  {
   "cell_type": "code",
   "execution_count": 21,
   "id": "c7136e6d",
   "metadata": {},
   "outputs": [
    {
     "name": "stdout",
     "output_type": "stream",
     "text": [
      "1"
     ]
    }
   ],
   "source": [
    "a"
   ]
  },
  {
   "cell_type": "code",
   "execution_count": 22,
   "id": "282e51e0",
   "metadata": {},
   "outputs": [
    {
     "data": {
      "text/html": [
       "\n",
       "                    Syncing run <strong><a href=\"https://wandb.ai/phade160/surface_pred/runs/1m741fs7\" target=\"_blank\">spring-silence-41</a></strong> to <a href=\"https://wandb.ai/phade160/surface_pred\" target=\"_blank\">Weights & Biases</a> (<a href=\"https://docs.wandb.com/integrations/jupyter.html\" target=\"_blank\">docs</a>).<br/>\n",
       "\n",
       "                "
      ],
      "text/plain": [
       "<IPython.core.display.HTML object>"
      ]
     },
     "metadata": {},
     "output_type": "display_data"
    }
   ],
   "source": [
    "def load_and_log():\n",
    "    with wandb.init(project='surface_pred', job_type='load-raw-data') as run:\n",
    "        all_data = load()\n",
    "        names = ['training', 'test']\n",
    "\n",
    "        #create our artifact\n",
    "        raw_data = wandb.Artifact('surface-raw', type='dataset',\n",
    "                                 description = 'Raw dataset containin x_train and y_train for the training, and x_test for the testing',\n",
    "                                 metadata = {'source': 'kaggle.com/career-con-2019',\n",
    "                                             'sizes': [len(data[0]) for data in all_data]\n",
    "                                             })\n",
    "\n",
    "        for name, data in zip(names, all_data):\n",
    "            #store a new file to the created artifact\n",
    "            with raw_data.new_file(name + '.pt', mode='wb') as file:\n",
    "                if name == 'training':\n",
    "                    x, y = data\n",
    "                    torch.save((x,y), file)\n",
    "                else:\n",
    "                    x, = data\n",
    "                    torch.save((x), file)\n",
    "\n",
    "        run.log_artifact(raw_data)\n",
    "\n",
    "load_and_log()"
   ]
  }
 ],
 "metadata": {
  "kernelspec": {
   "display_name": "Python 3",
   "language": "python",
   "name": "python3"
  },
  "language_info": {
   "codemirror_mode": {
    "name": "ipython",
    "version": 3
   },
   "file_extension": ".py",
   "mimetype": "text/x-python",
   "name": "python",
   "nbconvert_exporter": "python",
   "pygments_lexer": "ipython3",
   "version": "3.7.12"
  }
 },
 "nbformat": 4,
 "nbformat_minor": 5
}
